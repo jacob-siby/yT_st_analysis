{
  "nbformat": 4,
  "nbformat_minor": 0,
  "metadata": {
    "colab": {
      "name": "Copy of aiProj-sentAnly_Logistic-regression.ipynb",
      "provenance": [],
      "collapsed_sections": [],
      "authorship_tag": "ABX9TyPhcBj1DQZva8hHGwgnjibi",
      "include_colab_link": true
    },
    "kernelspec": {
      "name": "python3",
      "display_name": "Python 3"
    },
    "language_info": {
      "name": "python"
    }
  },
  "cells": [
    {
      "cell_type": "markdown",
      "metadata": {
        "id": "view-in-github",
        "colab_type": "text"
      },
      "source": [
        "<a href=\"https://colab.research.google.com/github/jacob-siby/yT_st_analysis/blob/main/Copy_of_aiProj_sentAnly_Logistic_regression.ipynb\" target=\"_parent\"><img src=\"https://colab.research.google.com/assets/colab-badge.svg\" alt=\"Open In Colab\"/></a>"
      ]
    },
    {
      "cell_type": "code",
      "metadata": {
        "colab": {
          "base_uri": "https://localhost:8080/"
        },
        "id": "PQmCEbt4QGdv",
        "outputId": "e0ef8c94-aceb-48d1-a8c1-c1c15d02a91b"
      },
      "source": [
        "from google.colab import drive\n",
        "drive.mount('/content/drive')"
      ],
      "execution_count": 1,
      "outputs": [
        {
          "output_type": "stream",
          "text": [
            "Mounted at /content/drive\n"
          ],
          "name": "stdout"
        }
      ]
    },
    {
      "cell_type": "code",
      "metadata": {
        "colab": {
          "base_uri": "https://localhost:8080/"
        },
        "id": "DeIrwhvFQmqi",
        "outputId": "b1e51c89-2761-4e10-9364-c43f35bfe5e9"
      },
      "source": [
        "pip install -U scikit-learn"
      ],
      "execution_count": 2,
      "outputs": [
        {
          "output_type": "stream",
          "text": [
            "Collecting scikit-learn\n",
            "\u001b[?25l  Downloading https://files.pythonhosted.org/packages/a8/eb/a48f25c967526b66d5f1fa7a984594f0bf0a5afafa94a8c4dbc317744620/scikit_learn-0.24.2-cp37-cp37m-manylinux2010_x86_64.whl (22.3MB)\n",
            "\u001b[K     |████████████████████████████████| 22.3MB 49.4MB/s \n",
            "\u001b[?25hRequirement already satisfied, skipping upgrade: joblib>=0.11 in /usr/local/lib/python3.7/dist-packages (from scikit-learn) (1.0.1)\n",
            "Collecting threadpoolctl>=2.0.0\n",
            "  Downloading https://files.pythonhosted.org/packages/f7/12/ec3f2e203afa394a149911729357aa48affc59c20e2c1c8297a60f33f133/threadpoolctl-2.1.0-py3-none-any.whl\n",
            "Requirement already satisfied, skipping upgrade: scipy>=0.19.1 in /usr/local/lib/python3.7/dist-packages (from scikit-learn) (1.4.1)\n",
            "Requirement already satisfied, skipping upgrade: numpy>=1.13.3 in /usr/local/lib/python3.7/dist-packages (from scikit-learn) (1.19.5)\n",
            "Installing collected packages: threadpoolctl, scikit-learn\n",
            "  Found existing installation: scikit-learn 0.22.2.post1\n",
            "    Uninstalling scikit-learn-0.22.2.post1:\n",
            "      Successfully uninstalled scikit-learn-0.22.2.post1\n",
            "Successfully installed scikit-learn-0.24.2 threadpoolctl-2.1.0\n"
          ],
          "name": "stdout"
        }
      ]
    },
    {
      "cell_type": "code",
      "metadata": {
        "colab": {
          "base_uri": "https://localhost:8080/"
        },
        "id": "ScVY1m0YQyWQ",
        "outputId": "e745bd31-6034-4e85-e15b-008f6a1bb53b"
      },
      "source": [
        "from google.colab import drive\n",
        "drive.mount('/content/drive')"
      ],
      "execution_count": 3,
      "outputs": [
        {
          "output_type": "stream",
          "text": [
            "Drive already mounted at /content/drive; to attempt to forcibly remount, call drive.mount(\"/content/drive\", force_remount=True).\n"
          ],
          "name": "stdout"
        }
      ]
    },
    {
      "cell_type": "code",
      "metadata": {
        "id": "pJDTBxC1Q2tA"
      },
      "source": [
        "import os\n",
        "os.chdir(\"/content/drive/My Drive/ML_Project/ML2\")"
      ],
      "execution_count": 4,
      "outputs": []
    },
    {
      "cell_type": "code",
      "metadata": {
        "id": "vq0m3hRfRXuq"
      },
      "source": [
        "import numpy as np # linear algebra\n",
        "import pandas as pd # data processing, CSV file I/O (e.g. pd.read_csv)\n",
        "import os\n",
        "import scipy\n",
        "\n",
        "\n",
        "import warnings\n",
        "warnings.filterwarnings(\"ignore\")"
      ],
      "execution_count": 6,
      "outputs": []
    },
    {
      "cell_type": "code",
      "metadata": {
        "id": "WwK4QWj8RdEj"
      },
      "source": [
        "from textblob import TextBlob\n",
        "from sklearn import metrics\n",
        "from mlxtend.plotting import plot_confusion_matrix"
      ],
      "execution_count": 9,
      "outputs": []
    },
    {
      "cell_type": "code",
      "metadata": {
        "colab": {
          "base_uri": "https://localhost:8080/"
        },
        "id": "S8sEMoisRh6M",
        "outputId": "7303a693-763d-4a00-d889-ca5c5cbbe6d1"
      },
      "source": [
        "ls"
      ],
      "execution_count": 10,
      "outputs": [
        {
          "output_type": "stream",
          "text": [
            "'Copy of aiProj-prepro.ipynb'                         english_comments.csv\n",
            "'Copy of aiProj-sentAnly_Logistic-regression.ipynb'   ML_project_data.csv\n"
          ],
          "name": "stdout"
        }
      ]
    },
    {
      "cell_type": "code",
      "metadata": {
        "id": "mmBuBlaPRmuF"
      },
      "source": [
        "data = pd.read_csv(\"english_comments.csv\")"
      ],
      "execution_count": 11,
      "outputs": []
    },
    {
      "cell_type": "code",
      "metadata": {
        "colab": {
          "base_uri": "https://localhost:8080/",
          "height": 204
        },
        "id": "6rXNFj3pRvYr",
        "outputId": "01407e39-4f43-4c38-ae87-87877aa3f378"
      },
      "source": [
        "data.head()"
      ],
      "execution_count": 12,
      "outputs": [
        {
          "output_type": "execute_result",
          "data": {
            "text/html": [
              "<div>\n",
              "<style scoped>\n",
              "    .dataframe tbody tr th:only-of-type {\n",
              "        vertical-align: middle;\n",
              "    }\n",
              "\n",
              "    .dataframe tbody tr th {\n",
              "        vertical-align: top;\n",
              "    }\n",
              "\n",
              "    .dataframe thead th {\n",
              "        text-align: right;\n",
              "    }\n",
              "</style>\n",
              "<table border=\"1\" class=\"dataframe\">\n",
              "  <thead>\n",
              "    <tr style=\"text-align: right;\">\n",
              "      <th></th>\n",
              "      <th>Comments</th>\n",
              "      <th>clean_comments</th>\n",
              "      <th>language</th>\n",
              "    </tr>\n",
              "  </thead>\n",
              "  <tbody>\n",
              "    <tr>\n",
              "      <th>0</th>\n",
              "      <td>Premiere Pro, DaVinci Resolve 17, FCPX and XCo...</td>\n",
              "      <td>Premiere Pro, DaVinci Resolve 17, FCPX and XCo...</td>\n",
              "      <td>en</td>\n",
              "    </tr>\n",
              "    <tr>\n",
              "      <th>1</th>\n",
              "      <td>When Galaxy Tab finally caught up, Apple made ...</td>\n",
              "      <td>When Galaxy Tab finally caught up, Apple made ...</td>\n",
              "      <td>en</td>\n",
              "    </tr>\n",
              "    <tr>\n",
              "      <th>2</th>\n",
              "      <td>You can play Dota and CSGO?</td>\n",
              "      <td>You can play Dota and CSGO?</td>\n",
              "      <td>en</td>\n",
              "    </tr>\n",
              "    <tr>\n",
              "      <th>3</th>\n",
              "      <td>Fire ? intro! I think You’re right, iPad OS 15...</td>\n",
              "      <td>Fire ? intro! I think You’re right, iPad OS 15...</td>\n",
              "      <td>en</td>\n",
              "    </tr>\n",
              "    <tr>\n",
              "      <th>4</th>\n",
              "      <td>still waiting for comments from professionals ...</td>\n",
              "      <td>still waiting for comments from professionals ...</td>\n",
              "      <td>en</td>\n",
              "    </tr>\n",
              "  </tbody>\n",
              "</table>\n",
              "</div>"
            ],
            "text/plain": [
              "                                            Comments  ... language\n",
              "0  Premiere Pro, DaVinci Resolve 17, FCPX and XCo...  ...       en\n",
              "1  When Galaxy Tab finally caught up, Apple made ...  ...       en\n",
              "2                        You can play Dota and CSGO?  ...       en\n",
              "3  Fire ? intro! I think You’re right, iPad OS 15...  ...       en\n",
              "4  still waiting for comments from professionals ...  ...       en\n",
              "\n",
              "[5 rows x 3 columns]"
            ]
          },
          "metadata": {
            "tags": []
          },
          "execution_count": 12
        }
      ]
    },
    {
      "cell_type": "code",
      "metadata": {
        "colab": {
          "base_uri": "https://localhost:8080/"
        },
        "id": "uyMY6Cd7Rzu1",
        "outputId": "a3307f3a-211e-442a-e5b9-47f9eea302fd"
      },
      "source": [
        "data.shape"
      ],
      "execution_count": 13,
      "outputs": [
        {
          "output_type": "execute_result",
          "data": {
            "text/plain": [
              "(17093, 3)"
            ]
          },
          "metadata": {
            "tags": []
          },
          "execution_count": 13
        }
      ]
    },
    {
      "cell_type": "code",
      "metadata": {
        "id": "zlxBt4jdR-Tv"
      },
      "source": [
        "data['polarity'] = data['clean_comments'].apply(lambda x: TextBlob(x).sentiment.polarity)"
      ],
      "execution_count": 15,
      "outputs": []
    },
    {
      "cell_type": "code",
      "metadata": {
        "colab": {
          "base_uri": "https://localhost:8080/",
          "height": 204
        },
        "id": "vEUWReKYSTXB",
        "outputId": "6684c97d-8246-4359-cc54-282147068c07"
      },
      "source": [
        "data.head()"
      ],
      "execution_count": 16,
      "outputs": [
        {
          "output_type": "execute_result",
          "data": {
            "text/html": [
              "<div>\n",
              "<style scoped>\n",
              "    .dataframe tbody tr th:only-of-type {\n",
              "        vertical-align: middle;\n",
              "    }\n",
              "\n",
              "    .dataframe tbody tr th {\n",
              "        vertical-align: top;\n",
              "    }\n",
              "\n",
              "    .dataframe thead th {\n",
              "        text-align: right;\n",
              "    }\n",
              "</style>\n",
              "<table border=\"1\" class=\"dataframe\">\n",
              "  <thead>\n",
              "    <tr style=\"text-align: right;\">\n",
              "      <th></th>\n",
              "      <th>Comments</th>\n",
              "      <th>clean_comments</th>\n",
              "      <th>language</th>\n",
              "      <th>polarity</th>\n",
              "    </tr>\n",
              "  </thead>\n",
              "  <tbody>\n",
              "    <tr>\n",
              "      <th>0</th>\n",
              "      <td>Premiere Pro, DaVinci Resolve 17, FCPX and XCo...</td>\n",
              "      <td>Premiere Pro, DaVinci Resolve 17, FCPX and XCo...</td>\n",
              "      <td>en</td>\n",
              "      <td>0.000000</td>\n",
              "    </tr>\n",
              "    <tr>\n",
              "      <th>1</th>\n",
              "      <td>When Galaxy Tab finally caught up, Apple made ...</td>\n",
              "      <td>When Galaxy Tab finally caught up, Apple made ...</td>\n",
              "      <td>en</td>\n",
              "      <td>0.200000</td>\n",
              "    </tr>\n",
              "    <tr>\n",
              "      <th>2</th>\n",
              "      <td>You can play Dota and CSGO?</td>\n",
              "      <td>You can play Dota and CSGO?</td>\n",
              "      <td>en</td>\n",
              "      <td>0.000000</td>\n",
              "    </tr>\n",
              "    <tr>\n",
              "      <th>3</th>\n",
              "      <td>Fire ? intro! I think You’re right, iPad OS 15...</td>\n",
              "      <td>Fire ? intro! I think You’re right, iPad OS 15...</td>\n",
              "      <td>en</td>\n",
              "      <td>0.142857</td>\n",
              "    </tr>\n",
              "    <tr>\n",
              "      <th>4</th>\n",
              "      <td>still waiting for comments from professionals ...</td>\n",
              "      <td>still waiting for comments from professionals ...</td>\n",
              "      <td>en</td>\n",
              "      <td>0.166667</td>\n",
              "    </tr>\n",
              "  </tbody>\n",
              "</table>\n",
              "</div>"
            ],
            "text/plain": [
              "                                            Comments  ...  polarity\n",
              "0  Premiere Pro, DaVinci Resolve 17, FCPX and XCo...  ...  0.000000\n",
              "1  When Galaxy Tab finally caught up, Apple made ...  ...  0.200000\n",
              "2                        You can play Dota and CSGO?  ...  0.000000\n",
              "3  Fire ? intro! I think You’re right, iPad OS 15...  ...  0.142857\n",
              "4  still waiting for comments from professionals ...  ...  0.166667\n",
              "\n",
              "[5 rows x 4 columns]"
            ]
          },
          "metadata": {
            "tags": []
          },
          "execution_count": 16
        }
      ]
    },
    {
      "cell_type": "markdown",
      "metadata": {
        "id": "g5PAIkNOSkwQ"
      },
      "source": [
        "Shuffle the dataset"
      ]
    },
    {
      "cell_type": "code",
      "metadata": {
        "id": "frrcNSXDSlrl"
      },
      "source": [
        "data = data.sample(frac=1).reset_index(drop=True)"
      ],
      "execution_count": 17,
      "outputs": []
    },
    {
      "cell_type": "code",
      "metadata": {
        "id": "EUoRDPBcSu-T"
      },
      "source": [
        "data['pol_cat']  = 0"
      ],
      "execution_count": 18,
      "outputs": []
    },
    {
      "cell_type": "code",
      "metadata": {
        "id": "J0VASeMCS0Uo"
      },
      "source": [
        "data['pol_cat'][data.polarity > 0] = 1\n",
        "data['pol_cat'][data.polarity <= 0] = -1"
      ],
      "execution_count": 19,
      "outputs": []
    },
    {
      "cell_type": "code",
      "metadata": {
        "colab": {
          "base_uri": "https://localhost:8080/",
          "height": 204
        },
        "id": "XVyT5rWBS4zo",
        "outputId": "ea82b236-13e0-427c-af62-3ccd60f53d9b"
      },
      "source": [
        "data.head()"
      ],
      "execution_count": 21,
      "outputs": [
        {
          "output_type": "execute_result",
          "data": {
            "text/html": [
              "<div>\n",
              "<style scoped>\n",
              "    .dataframe tbody tr th:only-of-type {\n",
              "        vertical-align: middle;\n",
              "    }\n",
              "\n",
              "    .dataframe tbody tr th {\n",
              "        vertical-align: top;\n",
              "    }\n",
              "\n",
              "    .dataframe thead th {\n",
              "        text-align: right;\n",
              "    }\n",
              "</style>\n",
              "<table border=\"1\" class=\"dataframe\">\n",
              "  <thead>\n",
              "    <tr style=\"text-align: right;\">\n",
              "      <th></th>\n",
              "      <th>Comments</th>\n",
              "      <th>clean_comments</th>\n",
              "      <th>language</th>\n",
              "      <th>polarity</th>\n",
              "      <th>pol_cat</th>\n",
              "    </tr>\n",
              "  </thead>\n",
              "  <tbody>\n",
              "    <tr>\n",
              "      <th>0</th>\n",
              "      <td>Mods are the reason I'll always prefer PC but ...</td>\n",
              "      <td>Mods are the reason I'll always prefer PC but ...</td>\n",
              "      <td>en</td>\n",
              "      <td>0.600000</td>\n",
              "      <td>1</td>\n",
              "    </tr>\n",
              "    <tr>\n",
              "      <th>1</th>\n",
              "      <td>Compact phones really are attractive. I hope t...</td>\n",
              "      <td>Compact phones really are attractive. I hope t...</td>\n",
              "      <td>en</td>\n",
              "      <td>0.500000</td>\n",
              "      <td>1</td>\n",
              "    </tr>\n",
              "    <tr>\n",
              "      <th>2</th>\n",
              "      <td>Great work, as always! What's the wallpaper on...</td>\n",
              "      <td>Great work, as always! What's the wallpaper on...</td>\n",
              "      <td>en</td>\n",
              "      <td>1.000000</td>\n",
              "      <td>1</td>\n",
              "    </tr>\n",
              "    <tr>\n",
              "      <th>3</th>\n",
              "      <td>@Harshit Gupta 1) your talk of applications th...</td>\n",
              "      <td>@Harshit Gupta 1) your talk of applications th...</td>\n",
              "      <td>en</td>\n",
              "      <td>0.098993</td>\n",
              "      <td>1</td>\n",
              "    </tr>\n",
              "    <tr>\n",
              "      <th>4</th>\n",
              "      <td>@Fishy boy 17 I made a 24 slide google slide a...</td>\n",
              "      <td>@Fishy boy 17 I made a 24 slide google slide a...</td>\n",
              "      <td>en</td>\n",
              "      <td>0.600000</td>\n",
              "      <td>1</td>\n",
              "    </tr>\n",
              "  </tbody>\n",
              "</table>\n",
              "</div>"
            ],
            "text/plain": [
              "                                            Comments  ... pol_cat\n",
              "0  Mods are the reason I'll always prefer PC but ...  ...       1\n",
              "1  Compact phones really are attractive. I hope t...  ...       1\n",
              "2  Great work, as always! What's the wallpaper on...  ...       1\n",
              "3  @Harshit Gupta 1) your talk of applications th...  ...       1\n",
              "4  @Fishy boy 17 I made a 24 slide google slide a...  ...       1\n",
              "\n",
              "[5 rows x 5 columns]"
            ]
          },
          "metadata": {
            "tags": []
          },
          "execution_count": 21
        }
      ]
    },
    {
      "cell_type": "markdown",
      "metadata": {
        "id": "M1-mnZ4qTjlx"
      },
      "source": [
        "Comment polarity"
      ]
    },
    {
      "cell_type": "code",
      "metadata": {
        "colab": {
          "base_uri": "https://localhost:8080/"
        },
        "id": "sDc6g6oxS9rR",
        "outputId": "ec8fb9ce-e0a5-4fe2-9b72-50835629d8e7"
      },
      "source": [
        "data['pol_cat'].value_counts()"
      ],
      "execution_count": 22,
      "outputs": [
        {
          "output_type": "execute_result",
          "data": {
            "text/plain": [
              "-1    8780\n",
              " 1    8313\n",
              "Name: pol_cat, dtype: int64"
            ]
          },
          "metadata": {
            "tags": []
          },
          "execution_count": 22
        }
      ]
    },
    {
      "cell_type": "code",
      "metadata": {
        "id": "8K8GN8oZUM4D"
      },
      "source": [
        "data_pos = data[data['pol_cat'] == 1]\n",
        "data_pos = data_pos.reset_index(drop = True)\n",
        "\n",
        "data_neg = data[data['pol_cat'] == -1]\n",
        "data_neg = data_neg.reset_index(drop = True)"
      ],
      "execution_count": 23,
      "outputs": []
    },
    {
      "cell_type": "code",
      "metadata": {
        "colab": {
          "base_uri": "https://localhost:8080/",
          "height": 204
        },
        "id": "E_886wWFUSn8",
        "outputId": "92471834-88cb-4308-db0f-3ba046c99830"
      },
      "source": [
        "data_pos.head()"
      ],
      "execution_count": 24,
      "outputs": [
        {
          "output_type": "execute_result",
          "data": {
            "text/html": [
              "<div>\n",
              "<style scoped>\n",
              "    .dataframe tbody tr th:only-of-type {\n",
              "        vertical-align: middle;\n",
              "    }\n",
              "\n",
              "    .dataframe tbody tr th {\n",
              "        vertical-align: top;\n",
              "    }\n",
              "\n",
              "    .dataframe thead th {\n",
              "        text-align: right;\n",
              "    }\n",
              "</style>\n",
              "<table border=\"1\" class=\"dataframe\">\n",
              "  <thead>\n",
              "    <tr style=\"text-align: right;\">\n",
              "      <th></th>\n",
              "      <th>Comments</th>\n",
              "      <th>clean_comments</th>\n",
              "      <th>language</th>\n",
              "      <th>polarity</th>\n",
              "      <th>pol_cat</th>\n",
              "    </tr>\n",
              "  </thead>\n",
              "  <tbody>\n",
              "    <tr>\n",
              "      <th>0</th>\n",
              "      <td>Mods are the reason I'll always prefer PC but ...</td>\n",
              "      <td>Mods are the reason I'll always prefer PC but ...</td>\n",
              "      <td>en</td>\n",
              "      <td>0.600000</td>\n",
              "      <td>1</td>\n",
              "    </tr>\n",
              "    <tr>\n",
              "      <th>1</th>\n",
              "      <td>Compact phones really are attractive. I hope t...</td>\n",
              "      <td>Compact phones really are attractive. I hope t...</td>\n",
              "      <td>en</td>\n",
              "      <td>0.500000</td>\n",
              "      <td>1</td>\n",
              "    </tr>\n",
              "    <tr>\n",
              "      <th>2</th>\n",
              "      <td>Great work, as always! What's the wallpaper on...</td>\n",
              "      <td>Great work, as always! What's the wallpaper on...</td>\n",
              "      <td>en</td>\n",
              "      <td>1.000000</td>\n",
              "      <td>1</td>\n",
              "    </tr>\n",
              "    <tr>\n",
              "      <th>3</th>\n",
              "      <td>@Harshit Gupta 1) your talk of applications th...</td>\n",
              "      <td>@Harshit Gupta 1) your talk of applications th...</td>\n",
              "      <td>en</td>\n",
              "      <td>0.098993</td>\n",
              "      <td>1</td>\n",
              "    </tr>\n",
              "    <tr>\n",
              "      <th>4</th>\n",
              "      <td>@Fishy boy 17 I made a 24 slide google slide a...</td>\n",
              "      <td>@Fishy boy 17 I made a 24 slide google slide a...</td>\n",
              "      <td>en</td>\n",
              "      <td>0.600000</td>\n",
              "      <td>1</td>\n",
              "    </tr>\n",
              "  </tbody>\n",
              "</table>\n",
              "</div>"
            ],
            "text/plain": [
              "                                            Comments  ... pol_cat\n",
              "0  Mods are the reason I'll always prefer PC but ...  ...       1\n",
              "1  Compact phones really are attractive. I hope t...  ...       1\n",
              "2  Great work, as always! What's the wallpaper on...  ...       1\n",
              "3  @Harshit Gupta 1) your talk of applications th...  ...       1\n",
              "4  @Fishy boy 17 I made a 24 slide google slide a...  ...       1\n",
              "\n",
              "[5 rows x 5 columns]"
            ]
          },
          "metadata": {
            "tags": []
          },
          "execution_count": 24
        }
      ]
    },
    {
      "cell_type": "code",
      "metadata": {
        "colab": {
          "base_uri": "https://localhost:8080/"
        },
        "id": "kzr_QUHbUYNd",
        "outputId": "e520cac6-dba5-4e85-bfad-da6d4de8ee83"
      },
      "source": [
        "data_pos.shape"
      ],
      "execution_count": 25,
      "outputs": [
        {
          "output_type": "execute_result",
          "data": {
            "text/plain": [
              "(8313, 5)"
            ]
          },
          "metadata": {
            "tags": []
          },
          "execution_count": 25
        }
      ]
    },
    {
      "cell_type": "code",
      "metadata": {
        "colab": {
          "base_uri": "https://localhost:8080/",
          "height": 204
        },
        "id": "HPRA89VrUcYd",
        "outputId": "027eeb0e-c119-41c3-f101-0fec524b405e"
      },
      "source": [
        "data_neg.head()"
      ],
      "execution_count": 26,
      "outputs": [
        {
          "output_type": "execute_result",
          "data": {
            "text/html": [
              "<div>\n",
              "<style scoped>\n",
              "    .dataframe tbody tr th:only-of-type {\n",
              "        vertical-align: middle;\n",
              "    }\n",
              "\n",
              "    .dataframe tbody tr th {\n",
              "        vertical-align: top;\n",
              "    }\n",
              "\n",
              "    .dataframe thead th {\n",
              "        text-align: right;\n",
              "    }\n",
              "</style>\n",
              "<table border=\"1\" class=\"dataframe\">\n",
              "  <thead>\n",
              "    <tr style=\"text-align: right;\">\n",
              "      <th></th>\n",
              "      <th>Comments</th>\n",
              "      <th>clean_comments</th>\n",
              "      <th>language</th>\n",
              "      <th>polarity</th>\n",
              "      <th>pol_cat</th>\n",
              "    </tr>\n",
              "  </thead>\n",
              "  <tbody>\n",
              "    <tr>\n",
              "      <th>0</th>\n",
              "      <td>@Ryedog yeah but that means less future exclus...</td>\n",
              "      <td>@Ryedog yeah but that means less future exclus...</td>\n",
              "      <td>en</td>\n",
              "      <td>-0.083333</td>\n",
              "      <td>-1</td>\n",
              "    </tr>\n",
              "    <tr>\n",
              "      <th>1</th>\n",
              "      <td>I'm gonna buy this</td>\n",
              "      <td>I'm gonna buy this</td>\n",
              "      <td>en</td>\n",
              "      <td>0.000000</td>\n",
              "      <td>-1</td>\n",
              "    </tr>\n",
              "    <tr>\n",
              "      <th>2</th>\n",
              "      <td>@michael angelo D which game? which resolution...</td>\n",
              "      <td>@michael angelo D which game? which resolution...</td>\n",
              "      <td>en</td>\n",
              "      <td>-0.200000</td>\n",
              "      <td>-1</td>\n",
              "    </tr>\n",
              "    <tr>\n",
              "      <th>3</th>\n",
              "      <td>so intel for work?? and amd for gaming??</td>\n",
              "      <td>so intel for work?? and amd for gaming??</td>\n",
              "      <td>en</td>\n",
              "      <td>0.000000</td>\n",
              "      <td>-1</td>\n",
              "    </tr>\n",
              "    <tr>\n",
              "      <th>4</th>\n",
              "      <td>have you tried moving your hands? also i think...</td>\n",
              "      <td>have you tried moving your hands? also i think...</td>\n",
              "      <td>en</td>\n",
              "      <td>0.000000</td>\n",
              "      <td>-1</td>\n",
              "    </tr>\n",
              "  </tbody>\n",
              "</table>\n",
              "</div>"
            ],
            "text/plain": [
              "                                            Comments  ... pol_cat\n",
              "0  @Ryedog yeah but that means less future exclus...  ...      -1\n",
              "1                                 I'm gonna buy this  ...      -1\n",
              "2  @michael angelo D which game? which resolution...  ...      -1\n",
              "3           so intel for work?? and amd for gaming??  ...      -1\n",
              "4  have you tried moving your hands? also i think...  ...      -1\n",
              "\n",
              "[5 rows x 5 columns]"
            ]
          },
          "metadata": {
            "tags": []
          },
          "execution_count": 26
        }
      ]
    },
    {
      "cell_type": "code",
      "metadata": {
        "colab": {
          "base_uri": "https://localhost:8080/",
          "height": 37
        },
        "id": "80k_e9NSUi3e",
        "outputId": "bb9b8e55-d2fe-4ae1-ba51-c9e36f7f1b77"
      },
      "source": [
        "data_pos['clean_comments'][1]"
      ],
      "execution_count": 27,
      "outputs": [
        {
          "output_type": "execute_result",
          "data": {
            "application/vnd.google.colaboratory.intrinsic+json": {
              "type": "string"
            },
            "text/plain": [
              "'Compact phones really are attractive. I hope this Zenfone 8 will start a compact phone trend.'"
            ]
          },
          "metadata": {
            "tags": []
          },
          "execution_count": 27
        }
      ]
    },
    {
      "cell_type": "code",
      "metadata": {
        "colab": {
          "base_uri": "https://localhost:8080/",
          "height": 316
        },
        "id": "dCM_2hzzWQI_",
        "outputId": "00498191-5725-4456-80ca-b7b43db0f38f"
      },
      "source": [
        "data.pol_cat.value_counts().plot.bar()\n",
        "data.pol_cat.value_counts()"
      ],
      "execution_count": 29,
      "outputs": [
        {
          "output_type": "execute_result",
          "data": {
            "text/plain": [
              "-1    8780\n",
              " 1    8313\n",
              "Name: pol_cat, dtype: int64"
            ]
          },
          "metadata": {
            "tags": []
          },
          "execution_count": 29
        },
        {
          "output_type": "display_data",
          "data": {
            "image/png": "[encoded data removed]",
            "text/plain": [
              "<Figure size 432x288 with 1 Axes>"
            ]
          },
          "metadata": {
            "tags": [],
            "needs_background": "light"
          }
        }
      ]
    },
    {
      "cell_type": "markdown",
      "metadata": {
        "id": "o-pTiVjBXEOC"
      },
      "source": [
        "**Data Preprocessing**\n",
        "Lower the text in comments"
      ]
    },
    {
      "cell_type": "code",
      "metadata": {
        "id": "Alrl5NOLXH7q"
      },
      "source": [
        "data['clean_comments'] = data['clean_comments'].str.lower()"
      ],
      "execution_count": 33,
      "outputs": []
    },
    {
      "cell_type": "code",
      "metadata": {
        "colab": {
          "base_uri": "https://localhost:8080/"
        },
        "id": "JuxeORKCXiTx",
        "outputId": "43305638-0b25-46ab-f39c-f37013daedc6"
      },
      "source": [
        "data['clean_comments'].head()"
      ],
      "execution_count": 34,
      "outputs": [
        {
          "output_type": "execute_result",
          "data": {
            "text/plain": [
              "0    mods are the reason i'll always prefer pc but ...\n",
              "1    compact phones really are attractive. i hope t...\n",
              "2    great work, as always! what's the wallpaper on...\n",
              "3    @harshit gupta 1) your talk of applications th...\n",
              "4    @fishy boy 17 i made a 24 slide google slide a...\n",
              "Name: clean_comments, dtype: object"
            ]
          },
          "metadata": {
            "tags": []
          },
          "execution_count": 34
        }
      ]
    },
    {
      "cell_type": "code",
      "metadata": {
        "colab": {
          "base_uri": "https://localhost:8080/",
          "height": 297
        },
        "id": "1UAUxdTKX2g0",
        "outputId": "e79756c9-8104-4c08-a70b-c81f4d6f7dc6"
      },
      "source": [
        "data.describe()"
      ],
      "execution_count": 35,
      "outputs": [
        {
          "output_type": "execute_result",
          "data": {
            "text/html": [
              "<div>\n",
              "<style scoped>\n",
              "    .dataframe tbody tr th:only-of-type {\n",
              "        vertical-align: middle;\n",
              "    }\n",
              "\n",
              "    .dataframe tbody tr th {\n",
              "        vertical-align: top;\n",
              "    }\n",
              "\n",
              "    .dataframe thead th {\n",
              "        text-align: right;\n",
              "    }\n",
              "</style>\n",
              "<table border=\"1\" class=\"dataframe\">\n",
              "  <thead>\n",
              "    <tr style=\"text-align: right;\">\n",
              "      <th></th>\n",
              "      <th>polarity</th>\n",
              "      <th>pol_cat</th>\n",
              "    </tr>\n",
              "  </thead>\n",
              "  <tbody>\n",
              "    <tr>\n",
              "      <th>count</th>\n",
              "      <td>17093.000000</td>\n",
              "      <td>17093.000000</td>\n",
              "    </tr>\n",
              "    <tr>\n",
              "      <th>mean</th>\n",
              "      <td>0.129546</td>\n",
              "      <td>-0.027321</td>\n",
              "    </tr>\n",
              "    <tr>\n",
              "      <th>std</th>\n",
              "      <td>0.300336</td>\n",
              "      <td>0.999656</td>\n",
              "    </tr>\n",
              "    <tr>\n",
              "      <th>min</th>\n",
              "      <td>-1.000000</td>\n",
              "      <td>-1.000000</td>\n",
              "    </tr>\n",
              "    <tr>\n",
              "      <th>25%</th>\n",
              "      <td>0.000000</td>\n",
              "      <td>-1.000000</td>\n",
              "    </tr>\n",
              "    <tr>\n",
              "      <th>50%</th>\n",
              "      <td>0.000000</td>\n",
              "      <td>-1.000000</td>\n",
              "    </tr>\n",
              "    <tr>\n",
              "      <th>75%</th>\n",
              "      <td>0.283333</td>\n",
              "      <td>1.000000</td>\n",
              "    </tr>\n",
              "    <tr>\n",
              "      <th>max</th>\n",
              "      <td>1.000000</td>\n",
              "      <td>1.000000</td>\n",
              "    </tr>\n",
              "  </tbody>\n",
              "</table>\n",
              "</div>"
            ],
            "text/plain": [
              "           polarity       pol_cat\n",
              "count  17093.000000  17093.000000\n",
              "mean       0.129546     -0.027321\n",
              "std        0.300336      0.999656\n",
              "min       -1.000000     -1.000000\n",
              "25%        0.000000     -1.000000\n",
              "50%        0.000000     -1.000000\n",
              "75%        0.283333      1.000000\n",
              "max        1.000000      1.000000"
            ]
          },
          "metadata": {
            "tags": []
          },
          "execution_count": 35
        }
      ]
    },
    {
      "cell_type": "code",
      "metadata": {
        "colab": {
          "base_uri": "https://localhost:8080/"
        },
        "id": "B5-wCxK0YPwd",
        "outputId": "35322481-3d75-40cc-ab5d-240537629dab"
      },
      "source": [
        "data.info()"
      ],
      "execution_count": 36,
      "outputs": [
        {
          "output_type": "stream",
          "text": [
            "<class 'pandas.core.frame.DataFrame'>\n",
            "RangeIndex: 17093 entries, 0 to 17092\n",
            "Data columns (total 5 columns):\n",
            " #   Column          Non-Null Count  Dtype  \n",
            "---  ------          --------------  -----  \n",
            " 0   Comments        17093 non-null  object \n",
            " 1   clean_comments  17093 non-null  object \n",
            " 2   language        17093 non-null  object \n",
            " 3   polarity        17093 non-null  float64\n",
            " 4   pol_cat         17093 non-null  int64  \n",
            "dtypes: float64(1), int64(1), object(3)\n",
            "memory usage: 667.8+ KB\n"
          ],
          "name": "stdout"
        }
      ]
    },
    {
      "cell_type": "code",
      "metadata": {
        "colab": {
          "base_uri": "https://localhost:8080/",
          "height": 37
        },
        "id": "W55mY1y8YX9E",
        "outputId": "d91f5f58-7360-4400-c213-dd6f40409dd8"
      },
      "source": [
        "data['clean_comments'][0]"
      ],
      "execution_count": 37,
      "outputs": [
        {
          "output_type": "execute_result",
          "data": {
            "application/vnd.google.colaboratory.intrinsic+json": {
              "type": "string"
            },
            "text/plain": [
              "\"mods are the reason i'll always prefer pc but to each their own.\""
            ]
          },
          "metadata": {
            "tags": []
          },
          "execution_count": 37
        }
      ]
    },
    {
      "cell_type": "code",
      "metadata": {
        "colab": {
          "base_uri": "https://localhost:8080/",
          "height": 37
        },
        "id": "k6hAK79QYl9y",
        "outputId": "4d79a155-57d7-4f2f-a3fa-e67563c1f1fa"
      },
      "source": [
        "data['clean_comments'][0].strip()"
      ],
      "execution_count": 38,
      "outputs": [
        {
          "output_type": "execute_result",
          "data": {
            "application/vnd.google.colaboratory.intrinsic+json": {
              "type": "string"
            },
            "text/plain": [
              "\"mods are the reason i'll always prefer pc but to each their own.\""
            ]
          },
          "metadata": {
            "tags": []
          },
          "execution_count": 38
        }
      ]
    },
    {
      "cell_type": "code",
      "metadata": {
        "colab": {
          "base_uri": "https://localhost:8080/"
        },
        "id": "v0ESWwN3Y3zN",
        "outputId": "555ef528-5e88-4f33-af91-fd8d255831d0"
      },
      "source": [
        "import nltk\n",
        "nltk.download(\"stopwords\")"
      ],
      "execution_count": 39,
      "outputs": [
        {
          "output_type": "stream",
          "text": [
            "[nltk_data] Downloading package stopwords to /root/nltk_data...\n",
            "[nltk_data]   Unzipping corpora/stopwords.zip.\n"
          ],
          "name": "stdout"
        },
        {
          "output_type": "execute_result",
          "data": {
            "text/plain": [
              "True"
            ]
          },
          "metadata": {
            "tags": []
          },
          "execution_count": 39
        }
      ]
    },
    {
      "cell_type": "code",
      "metadata": {
        "colab": {
          "base_uri": "https://localhost:8080/"
        },
        "id": "IR-nI_haY9vm",
        "outputId": "78e57a06-0af4-4498-eb00-d4f4572ce674"
      },
      "source": [
        "nltk.download(\"punkt\")"
      ],
      "execution_count": 42,
      "outputs": [
        {
          "output_type": "stream",
          "text": [
            "[nltk_data] Downloading package punkt to /root/nltk_data...\n",
            "[nltk_data]   Package punkt is already up-to-date!\n"
          ],
          "name": "stdout"
        },
        {
          "output_type": "execute_result",
          "data": {
            "text/plain": [
              "True"
            ]
          },
          "metadata": {
            "tags": []
          },
          "execution_count": 42
        }
      ]
    },
    {
      "cell_type": "code",
      "metadata": {
        "id": "N474MRrWZEdE"
      },
      "source": [
        "from nltk.corpus import stopwords\n",
        "from nltk import word_tokenize\n",
        "import string\n",
        "import re\n",
        "import nltk"
      ],
      "execution_count": 44,
      "outputs": []
    },
    {
      "cell_type": "code",
      "metadata": {
        "colab": {
          "base_uri": "https://localhost:8080/"
        },
        "id": "ZS5-opYYZNIb",
        "outputId": "6ee8ab6b-5907-4e50-93b8-1f27e153fafd"
      },
      "source": [
        "print(stopwords.words('english'))"
      ],
      "execution_count": 45,
      "outputs": [
        {
          "output_type": "stream",
          "text": [
            "['i', 'me', 'my', 'myself', 'we', 'our', 'ours', 'ourselves', 'you', \"you're\", \"you've\", \"you'll\", \"you'd\", 'your', 'yours', 'yourself', 'yourselves', 'he', 'him', 'his', 'himself', 'she', \"she's\", 'her', 'hers', 'herself', 'it', \"it's\", 'its', 'itself', 'they', 'them', 'their', 'theirs', 'themselves', 'what', 'which', 'who', 'whom', 'this', 'that', \"that'll\", 'these', 'those', 'am', 'is', 'are', 'was', 'were', 'be', 'been', 'being', 'have', 'has', 'had', 'having', 'do', 'does', 'did', 'doing', 'a', 'an', 'the', 'and', 'but', 'if', 'or', 'because', 'as', 'until', 'while', 'of', 'at', 'by', 'for', 'with', 'about', 'against', 'between', 'into', 'through', 'during', 'before', 'after', 'above', 'below', 'to', 'from', 'up', 'down', 'in', 'out', 'on', 'off', 'over', 'under', 'again', 'further', 'then', 'once', 'here', 'there', 'when', 'where', 'why', 'how', 'all', 'any', 'both', 'each', 'few', 'more', 'most', 'other', 'some', 'such', 'no', 'nor', 'not', 'only', 'own', 'same', 'so', 'than', 'too', 'very', 's', 't', 'can', 'will', 'just', 'don', \"don't\", 'should', \"should've\", 'now', 'd', 'll', 'm', 'o', 're', 've', 'y', 'ain', 'aren', \"aren't\", 'couldn', \"couldn't\", 'didn', \"didn't\", 'doesn', \"doesn't\", 'hadn', \"hadn't\", 'hasn', \"hasn't\", 'haven', \"haven't\", 'isn', \"isn't\", 'ma', 'mightn', \"mightn't\", 'mustn', \"mustn't\", 'needn', \"needn't\", 'shan', \"shan't\", 'shouldn', \"shouldn't\", 'wasn', \"wasn't\", 'weren', \"weren't\", 'won', \"won't\", 'wouldn', \"wouldn't\"]\n"
          ],
          "name": "stdout"
        }
      ]
    },
    {
      "cell_type": "code",
      "metadata": {
        "id": "u8vtHjD3ZZds"
      },
      "source": [
        "stop_words = set(stopwords.words('english'))"
      ],
      "execution_count": 46,
      "outputs": []
    },
    {
      "cell_type": "code",
      "metadata": {
        "id": "qo9fXAjJZgm3"
      },
      "source": [
        "data['clean_comments'] = data['clean_comments'].str.strip()"
      ],
      "execution_count": 47,
      "outputs": []
    },
    {
      "cell_type": "code",
      "metadata": {
        "id": "eu-lnLp9aAmI"
      },
      "source": [
        "train = data.copy()"
      ],
      "execution_count": 48,
      "outputs": []
    },
    {
      "cell_type": "code",
      "metadata": {
        "id": "q9-3HP8YaDUq"
      },
      "source": [
        "train['clean_comments'] = train['clean_comments'].str.strip()"
      ],
      "execution_count": 49,
      "outputs": []
    },
    {
      "cell_type": "code",
      "metadata": {
        "colab": {
          "base_uri": "https://localhost:8080/",
          "height": 37
        },
        "id": "hUeTWYLVag-t",
        "outputId": "2e16705a-fdf4-4674-d5fb-9a5ee577f3ce"
      },
      "source": [
        "\n",
        "train['clean_comments'][0]"
      ],
      "execution_count": 50,
      "outputs": [
        {
          "output_type": "execute_result",
          "data": {
            "application/vnd.google.colaboratory.intrinsic+json": {
              "type": "string"
            },
            "text/plain": [
              "\"mods are the reason i'll always prefer pc but to each their own.\""
            ]
          },
          "metadata": {
            "tags": []
          },
          "execution_count": 50
        }
      ]
    },
    {
      "cell_type": "code",
      "metadata": {
        "id": "SfQehNIWalyE"
      },
      "source": [
        "def remove_stopwords(line):\n",
        "    word_tokens = word_tokenize(line)\n",
        "    filtered_sentence = [w for w in word_tokens if not w in stop_words]\n",
        "    return \" \".join(filtered_sentence)"
      ],
      "execution_count": 51,
      "outputs": []
    },
    {
      "cell_type": "code",
      "metadata": {
        "id": "k9-6_xfoar3m"
      },
      "source": [
        "data['stop_comments'] = data['clean_comments'].apply(lambda x : remove_stopwords(x))"
      ],
      "execution_count": 52,
      "outputs": []
    },
    {
      "cell_type": "code",
      "metadata": {
        "colab": {
          "base_uri": "https://localhost:8080/",
          "height": 204
        },
        "id": "ovmT7crLa2Xu",
        "outputId": "50e10057-d7f9-4a11-c738-32c8a77e6a3f"
      },
      "source": [
        "data.head()"
      ],
      "execution_count": 54,
      "outputs": [
        {
          "output_type": "execute_result",
          "data": {
            "text/html": [
              "<div>\n",
              "<style scoped>\n",
              "    .dataframe tbody tr th:only-of-type {\n",
              "        vertical-align: middle;\n",
              "    }\n",
              "\n",
              "    .dataframe tbody tr th {\n",
              "        vertical-align: top;\n",
              "    }\n",
              "\n",
              "    .dataframe thead th {\n",
              "        text-align: right;\n",
              "    }\n",
              "</style>\n",
              "<table border=\"1\" class=\"dataframe\">\n",
              "  <thead>\n",
              "    <tr style=\"text-align: right;\">\n",
              "      <th></th>\n",
              "      <th>Comments</th>\n",
              "      <th>clean_comments</th>\n",
              "      <th>language</th>\n",
              "      <th>polarity</th>\n",
              "      <th>pol_cat</th>\n",
              "      <th>stop_comments</th>\n",
              "    </tr>\n",
              "  </thead>\n",
              "  <tbody>\n",
              "    <tr>\n",
              "      <th>0</th>\n",
              "      <td>Mods are the reason I'll always prefer PC but ...</td>\n",
              "      <td>mods are the reason i'll always prefer pc but ...</td>\n",
              "      <td>en</td>\n",
              "      <td>0.600000</td>\n",
              "      <td>1</td>\n",
              "      <td>mods reason 'll always prefer pc .</td>\n",
              "    </tr>\n",
              "    <tr>\n",
              "      <th>1</th>\n",
              "      <td>Compact phones really are attractive. I hope t...</td>\n",
              "      <td>compact phones really are attractive. i hope t...</td>\n",
              "      <td>en</td>\n",
              "      <td>0.500000</td>\n",
              "      <td>1</td>\n",
              "      <td>compact phones really attractive . hope zenfon...</td>\n",
              "    </tr>\n",
              "    <tr>\n",
              "      <th>2</th>\n",
              "      <td>Great work, as always! What's the wallpaper on...</td>\n",
              "      <td>great work, as always! what's the wallpaper on...</td>\n",
              "      <td>en</td>\n",
              "      <td>1.000000</td>\n",
              "      <td>1</td>\n",
              "      <td>great work , always ! 's wallpaper 12.9 ?</td>\n",
              "    </tr>\n",
              "    <tr>\n",
              "      <th>3</th>\n",
              "      <td>@Harshit Gupta 1) your talk of applications th...</td>\n",
              "      <td>@harshit gupta 1) your talk of applications th...</td>\n",
              "      <td>en</td>\n",
              "      <td>0.098993</td>\n",
              "      <td>1</td>\n",
              "      <td>@ harshit gupta 1 ) talk applications `` data ...</td>\n",
              "    </tr>\n",
              "    <tr>\n",
              "      <th>4</th>\n",
              "      <td>@Fishy boy 17 I made a 24 slide google slide a...</td>\n",
              "      <td>@fishy boy 17 i made a 24 slide google slide a...</td>\n",
              "      <td>en</td>\n",
              "      <td>0.600000</td>\n",
              "      <td>1</td>\n",
              "      <td>@ fishy boy 17 made 24 slide google slide 'm s...</td>\n",
              "    </tr>\n",
              "  </tbody>\n",
              "</table>\n",
              "</div>"
            ],
            "text/plain": [
              "                                            Comments  ...                                      stop_comments\n",
              "0  Mods are the reason I'll always prefer PC but ...  ...                 mods reason 'll always prefer pc .\n",
              "1  Compact phones really are attractive. I hope t...  ...  compact phones really attractive . hope zenfon...\n",
              "2  Great work, as always! What's the wallpaper on...  ...          great work , always ! 's wallpaper 12.9 ?\n",
              "3  @Harshit Gupta 1) your talk of applications th...  ...  @ harshit gupta 1 ) talk applications `` data ...\n",
              "4  @Fishy boy 17 I made a 24 slide google slide a...  ...  @ fishy boy 17 made 24 slide google slide 'm s...\n",
              "\n",
              "[5 rows x 6 columns]"
            ]
          },
          "metadata": {
            "tags": []
          },
          "execution_count": 54
        }
      ]
    },
    {
      "cell_type": "code",
      "metadata": {
        "id": "CjEvWa7cbCMx"
      },
      "source": [
        "from sklearn.model_selection import train_test_split"
      ],
      "execution_count": 55,
      "outputs": []
    },
    {
      "cell_type": "code",
      "metadata": {
        "id": "F8uYit1DbHdP"
      },
      "source": [
        "X_train,X_test,y_train,y_test = train_test_split(data['stop_comments'],data['pol_cat'],test_size = 0.2,random_state = 324)"
      ],
      "execution_count": 56,
      "outputs": []
    },
    {
      "cell_type": "code",
      "metadata": {
        "colab": {
          "base_uri": "https://localhost:8080/"
        },
        "id": "3QpE0wOcbNwC",
        "outputId": "40fe4478-7987-4be3-f1e6-9ea9d0e62e53"
      },
      "source": [
        "X_train.shape"
      ],
      "execution_count": 57,
      "outputs": [
        {
          "output_type": "execute_result",
          "data": {
            "text/plain": [
              "(13674,)"
            ]
          },
          "metadata": {
            "tags": []
          },
          "execution_count": 57
        }
      ]
    },
    {
      "cell_type": "code",
      "metadata": {
        "colab": {
          "base_uri": "https://localhost:8080/"
        },
        "id": "BpxmY17vbShH",
        "outputId": "a09d0a3e-2070-4c73-de56-82eb7da317a0"
      },
      "source": [
        "X_test.shape"
      ],
      "execution_count": 58,
      "outputs": [
        {
          "output_type": "execute_result",
          "data": {
            "text/plain": [
              "(3419,)"
            ]
          },
          "metadata": {
            "tags": []
          },
          "execution_count": 58
        }
      ]
    },
    {
      "cell_type": "code",
      "metadata": {
        "colab": {
          "base_uri": "https://localhost:8080/"
        },
        "id": "TbENnz7ybV-c",
        "outputId": "4a1e7b90-3132-4609-a4aa-29563f354449"
      },
      "source": [
        "data['pol_cat'].value_counts()"
      ],
      "execution_count": 59,
      "outputs": [
        {
          "output_type": "execute_result",
          "data": {
            "text/plain": [
              "-1    8780\n",
              " 1    8313\n",
              "Name: pol_cat, dtype: int64"
            ]
          },
          "metadata": {
            "tags": []
          },
          "execution_count": 59
        }
      ]
    },
    {
      "cell_type": "markdown",
      "metadata": {
        "id": "OrGwNUu7bdD1"
      },
      "source": [
        "**Logistic Regression**"
      ]
    },
    {
      "cell_type": "code",
      "metadata": {
        "id": "tbetPC0rbi_W"
      },
      "source": [
        "from sklearn.feature_extraction.text import CountVectorizer"
      ],
      "execution_count": 60,
      "outputs": []
    },
    {
      "cell_type": "code",
      "metadata": {
        "id": "-ASJxVa-boik"
      },
      "source": [
        "from sklearn.feature_extraction.text import CountVectorizer, TfidfVectorizer \n",
        "vect = CountVectorizer()\n",
        "tf_train = vect.fit_transform(X_train)\n",
        "tf_test = vect.transform(X_test)"
      ],
      "execution_count": 61,
      "outputs": []
    },
    {
      "cell_type": "code",
      "metadata": {
        "colab": {
          "base_uri": "https://localhost:8080/"
        },
        "id": "cSEx1f65bvKo",
        "outputId": "0586d7d5-2883-4fa4-ee1b-009b9d26222f"
      },
      "source": [
        "tf_train.shape"
      ],
      "execution_count": 62,
      "outputs": [
        {
          "output_type": "execute_result",
          "data": {
            "text/plain": [
              "(13674, 14713)"
            ]
          },
          "metadata": {
            "tags": []
          },
          "execution_count": 62
        }
      ]
    },
    {
      "cell_type": "code",
      "metadata": {
        "colab": {
          "base_uri": "https://localhost:8080/"
        },
        "id": "97TeoOrab6JV",
        "outputId": "0216fbca-4f53-44c9-f402-edd257c99964"
      },
      "source": [
        "print(vect.vocabulary_)"
      ],
      "execution_count": 63,
      "outputs": [
        {
          "output_type": "stream",
          "text": [
            "{'proud': 10234, 'never': 8860, 'console': 3257, 'entire': 4775, 'life': 7673, 'late': 7521, '90s': 784, 'today': 13224, 'felt': 5207, 'necessity': 8806, 'rush': 11186, 'new': 8863, 'generation': 5762, 'playing': 9821, 'times': 13183, 'genres': 5775, 'biggest': 2029, 'catalogue': 2642, 'games': 5688, 'world': 14419, 'emulators': 4712, 'mods': 8498, 'cessnafun': 2703, 'reading': 10527, 'comment': 3070, 'going': 5906, 'buy': 2475, 'pc': 9586, 'cause': 2653, 'got': 5945, 'ton': 13242, 'free': 5543, 'egs': 4616, 'checked': 2772, 'bundle': 2431, 'gamestop': 5690, 'waiting': 14055, 'confirmation': 3214, 'email': 4670, 'really': 10548, 'like': 7694, 'setup': 11569, 'feels': 5197, 'cozy': 3448, 'conversation': 3325, 'retcon': 10907, 'dbz': 3762, 'false': 5099, 'information': 6848, 'technically': 12889, 'switch': 12736, 'outsold': 9348, 'ps': 10250, 'sold': 12054, 'xbox': 14510, 'worldwide': 14421, 'expected': 4962, 'tho': 13085, 'many': 8067, 'ppl': 9985, 'wo': 14364, 'abandon': 860, 'game': 5675, 'library': 7664, 'also': 1239, 'popular': 9916, 'eastern': 4539, 'market': 8088, 'well': 14207, 'europe': 4847, 'goodmorning': 5923, 'appriceate': 1441, 'review': 10944, 'm1': 7943, 'processor': 10142, 'performance': 9644, 'two': 13513, 'configurations': 3211, '16': 165, 'gb': 5731, 'memory': 8271, 'calculated': 2505, 'trough': 13430, 'time': 13176, 'comparisation': 3107, 'single': 11837, 'application': 1429, 'think': 13070, 'would': 14437, 'intresting': 6977, 'compare': 3102, 'execute': 4932, 'programs': 10176, 'simultaniosly': 11827, 'could': 3415, 'try': 13451, 'applications': 1430, 'thanks': 12995, 'umberto': 13571, 'hey': 6333, 'dave': 3731, 'come': 3046, 'msi': 8637, 'ge66': 5738, 'raider': 10436, 'dumb': 4463, 'ryzen': 11207, 'geforce': 5748, 'intel': 6924, 'tries': 13402, 'amd': 1273, 'already': 1235, 'making': 8025, 'graphics': 5990, 'cards': 2591, 'bro': 2337, 'wan': 14081, 'na': 8720, 'play': 9813, 'something': 12078, 'tmrw': 13215, 'comes': 3052, 'us': 13773, 'early': 4526, 'except': 4908, 'online': 9207, 'multiplayer': 8661, 'friends': 5572, 'player': 9817, 'adventures': 1051, 'jrpgs': 7241, 'niche': 8889, 'japanese': 7129, 'talk': 12799, 'case': 2626, 'choice': 2828, 'painfully': 9449, 'clear': 2914, 'isis': 7048, 'sterling': 12390, 'man': 8035, 'tell': 12917, 'cheeto': 2784, 'dorito': 4325, 'way': 14147, 'sidecar': 11764, 'right': 11010, 'gim': 5828, 'fuller': 5605, 'version': 13888, 'logic': 7803, 'pro': 10124, 'ipad': 7017, 'll': 7768, 'ridiculously': 11003, 'happy': 6170, 'ryan0630': 11200, 're': 10514, 'aware': 1707, 'interested': 6949, 'consoles': 3259, 'job': 7194, 'create': 3483, 'informative': 6850, 'videos': 13923, 'modern': 8491, 'technology': 12895, '30': 397, 'staff': 12306, 'families': 5106, 'depend': 3934, 'put': 10330, 'food': 5420, 'table': 12774, 'pay': 9577, 'mortgages': 8580, 'far': 5127, 'tone': 13243, 'death': 3784, 'relevant': 10712, 'topical': 13266, 'problem': 10129, 'people': 9624, 'reviewing': 10948, 'take': 12792, 'billion': 2039, 'dollar': 4291, 'conglomerates': 3224, 'decided': 3812, 'release': 10707, 'admist': 1020, 'pandemic': 9470, 'strikes': 12491, 'please': 9834, 'enable': 4714, 'shipping': 11672, 'india': 6805, 'expensive': 4967, 'amazon': 1269, 'bought': 2234, 'straight': 12449, 'away': 1708, 'available': 1680, 'oculus': 9120, 'look': 7824, '5g': 617, 'bands': 1807, '30w': 420, 'charging': 2748, 'miles': 8380, 'morales': 8559, 'set': 11559, 'black': 2078, 'mostly': 8587, 'fair': 5083, 'amount': 1289, 'red': 10611, 'little': 7757, 'bit': 2065, 'white': 14263, 'tiny': 13191, 'yellow': 14589, 'electric': 4635, 'punch': 10301, 'gon': 5914, 'customise': 3617, 'mine': 8398, 'video': 13920, 'full': 5604, 'misinformation': 8429, 'df': 4031, 'nxgamer': 9051, 'comparisons': 3109, 'showed': 11735, 'ps5': 10258, 'actually': 975, 'loading': 7784, 'faster': 5141, 'next': 8872, 'gen': 5753, 'optimized': 9267, 'show': 11730, 'equal': 4796, 'beating': 1912, 'series': 11541, 'mutiplatform': 8701, 'extra': 5024, 'details': 3989, 'showing': 11738, 'higher': 6348, 'effects': 4597, 'maintaining': 8011, 'similar': 11803, 'better': 2003, 'frame': 5515, 'rate': 10485, 'love': 7871, 'skipped': 11890, 'demons': 3909, 'souls': 12119, 'bringing': 2333, 'toasty': 13222, '3d': 472, 'days': 3753, 'heart': 6260, 'accuracy': 928, 'still': 12404, 'bad': 1771, 'workouts': 14414, 'digging': 4085, 'watch': 14126, 'ooooh': 9228, 'thought': 13096, 'real': 10532, 'silly': 11797, 'great': 5999, 'intro': 6980, 'robert': 11065, 'norris': 8987, 'point': 9878, 'first': 5304, 'agree': 1108, 'thing': 13067, 'surprised': 12674, 'weird': 14199, 'companies': 3096, 'regards': 10670, 'unreleased': 13699, 'product': 10152, 'house': 6478, 'always': 1254, 'makes': 8021, 'rules': 11172, 'warranty': 14107, 'animation': 1337, 'software': 12048, 'mi': 8328, 'band': 1799, 'nfc': 8877, 'imported': 6734, 'china': 2817, 'ca': 2491, 'use': 13781, 'germany': 5790, 'global': 5861, 'directly': 4121, 'linus': 7732, 'made': 7984, 'abysmal': 892, 'side': 11763, 'channel': 2732, 'know': 7395, 'biased': 2021, 'is': 7043, 'beef': 1933, 'tim': 13175, 'sweeney': 12720, 'ssd': 12291, 'probably': 10127, 'sits': 11857, 'heavy': 6277, 'him': 6366, 'however': 6487, 'fun': 5611, 'let': 7636, 'mention': 8277, 'notes': 8999, 'comparison': 3108, 'he': 6229, 'talks': 12804, 'cross': 3537, 'titles': 13205, 'fast': 5137, 'demon': 3906, 'three': 13106, 'four': 5504, 'second': 11454, 'highly': 6354, 'unlikely': 13673, 'experienced': 4970, 'xsx': 14550, 'exclusive': 4923, 'digital': 4088, 'foundry': 5502, 'deep': 3837, 'analysis': 1301, 'dirt': 4124, 'clearly': 2917, 'detailed': 3987, 'images': 6683, 'wonder': 14374, 'performing': 9650, 'drastically': 4383, 'almost': 1224, 'wearing': 14166, 'wanted': 14085, 'say': 11339, 'mano': 8056, 'sense': 11514, 'anyway': 1393, 'xd': 14524, 'ly': 7936, 'ily': 6676, 'anthony': 1373, 'shit': 11675, 'getting': 5797, 'nintendo': 8918, 'make': 8016, 'wish': 14343, 'lol': 7811, 'basketball': 1864, 'badminton': 1777, 'coach': 2979, 'exercise': 4934, 'list': 7742, 'currently': 3602, 'upgrade': 13739, 'loving': 7877, 'bigger': 2028, 'screen': 11403, 'previous': 10085, 'macos': 7976, 'laptop': 7502, 'replacement': 10791, 'dirty': 4125, 'windshield': 14318, 'long': 7818, 'affordable': 1081, 'storage': 12435, 'released': 10708, 'compatible': 3115, 'positive': 9941, 'advantage': 1048, 'without': 14358, 'mentioning': 8279, 'drawbacks': 4386, 'conversion': 3326, 'kits': 7381, 'aliexpress': 1194, 'course': 3433, 'period': 9654, 'end': 4728, 'expandable': 4954, 'keep': 7313, 'costing': 3405, 'simpler': 11812, 'hassle': 6192, 'future': 5638, 'working': 14410, 'expect': 4958, 'neither': 8831, 'though': 13095, 'even': 4856, 'stock': 12412, 'give': 5842, 'share': 11614, 'price': 10087, 'go': 5881, 'priced': 10088, 'numbers': 9041, 'see': 11468, 'manipulated': 8051, 'retirement': 10913, 'shares': 11617, 'bleeding': 2103, 'sell': 11496, 'corrected': 3390, 'correct': 3389, '50': 566, 'bleed': 2102, 'best': 1995, 'tech': 12880, 'ive': 7095, 'ever': 4860, 'seen': 11479, 'funny': 5624, 'quality': 10364, 'isnt': 7053, 'around': 1516, 'kappa': 7294, 'dont': 4309, 'mean': 8204, 'note': 8997, 'discord': 4166, 'test': 12965, 'done': 4308, 'multitasking': 8666, 'intensive': 6934, 'benchmarks': 1979, 'obvious': 9094, 'apparently': 1413, '16gb': 179, 'allow': 1215, 'seems': 11478, 'tests': 12971, 'using': 13793, '8gb': 757, 'leaving': 7590, 'room': 11107, 'casio': 2631, 'ben': 1974, 'jacobs': 7110, 'facebook': 5047, 'account': 923, 'station': 12354, 'spider': 12203, 'tyth': 13530, 'bruh': 2371, 'saw': 11335, 'vr': 14013, 'beat': 1910, 'saber': 11220, 'power': 9972, 'coil': 3003, 'whine': 14252, 'get': 5792, 'less': 7629, 'month': 8546, 'ago': 1107, 'captain': 2576, 'cheezey': 2786, 'thursday': 13145, 'excellent': 4907, 'guessing': 6061, 'big': 2026, 'difference': 4066, 'fired': 5293, 'final': 5267, 'cut': 3627, 'lightroom': 7692, 'one': 9199, 'others': 9309, 'tried': 13401, 'rapidly': 10473, 'believe': 1965, 'another': 1359, 'months': 8548, 'hands': 6151, 'this': 13079, 'hi': 6337, 'prefer': 10023, 'oled': 9177, 'want': 14084, 'holy': 6411, 'revival': 10956, 'photoshop': 9714, 'illustrator': 6674, 'hours': 6477, 'layers': 7553, 'mbp': 8183, '256gb': 340, 'enough': 4761, 'pixel': 9771, 'phone': 9707, 'sound': 12121, 'fool': 5424, 'stuff': 12521, 'thin': 13065, 'air': 1138, 'jaceistheplace': 7101, 'definitely': 3862, 'coming': 3063, 'given': 5845, 'eta': 4832, 'mkbhd': 8456, 'copies': 3359, 'guy': 6081, 'class': 2900, 'apart': 1400, 'reviewer': 10946, 'oliver': 9181, 'idk': 6614, 'download': 4349, 'hardcore': 6175, 'god': 5889, 'war': 14089, 'double': 4335, 'last': 7514, 'part': 9515, 'true': 13438, 'quest': 10376, 'transfer': 13346, 'christmas': 2851, 'december': 3806, 'ya': 14559, 'guys': 6082, 'anything': 1391, 'sexaul': 11579, 'rude': 11161, 'find': 5271, 'birth': 2061, 'certificate': 2699, 'confirm': 3213, 'age': 1097, 'streams': 12473, '8k': 766, 'hdr': 6227, 'ram': 10451, 'macbook': 7964, 'chip': 2819, 'stream': 12466, 'butter': 2468, 'incredible': 6789, 'smooth': 11996, 'upload': 13744, 'wednesday': 14185, 'ones': 9203, 'editng': 4575, 'chrome': 2853, 'tabs': 12778, 'office': 9142, 'zoom': 14699, 'call': 2514, 'etc': 4833, 'check': 2771, 'accept': 901, 'need': 8809, 'aquarium': 1459, 'space': 12138, 'fr': 5512, 'night': 8905, 'light': 7686, 'setting': 11564, 'kicking': 7343, 'sony': 12095, 'moving': 8615, 'external': 5019, 'hdd': 6224, 'otherwise': 9311, 'pissed': 9765, 'hello': 6300, 'anchor': 1307, 'measure': 8213, 'usage': 13777, 'unfortunately': 13641, 'increase': 6785, 'leak': 7572, 'discussing': 4175, 'colors': 3028, 'horrendous': 6454, 'silver': 11800, 'preordered': 10046, 'im': 6678, 'excited': 4916, 'literally': 7752, 'cant': 2557, 'wait': 14053, 'headset': 6243, 'ist': 7062, 'longest': 7820, 'week': 14188, 'awesome': 1711, 'ferrari': 5215, 'lets': 7638, 'quote': 10403, 'apple': 1422, 'refusing': 10664, '2021': 263, 'proper': 10207, 'os': 9298, 'save': 11325, 'imac': 6680, 'mac': 7962, 'book': 2191, 'fewer': 5220, 'christopher': 2852, 'originally': 9295, 'deciding': 3815, 'controller': 3314, 'exclusives': 4925, 'amazing': 1268, 'choose': 2838, 'youtubers': 14636, 'harder': 6176, 'good': 5920, 'thats': 13008, 'pretty': 10076, 'ignorant': 6633, 'things': 13069, 'theres': 13043, 'tons': 13250, 'factors': 5065, 'idea': 6599, 'safari': 11238, 'hate': 6198, 'dpad': 4364, 'playstation': 9828, 'didn': 4055, 'change': 2727, 'much': 8641, 'dare': 3707, 'saying': 11341, 'fighting': 5241, 'impossible': 6738, 'yeoldmedic': 14592, 'tables': 12775, 'electronic': 4640, 'devives': 4022, 'kritagya': 7428, 'neupane': 8857, 'comments': 3076, 'joke': 7212, 'resemblance': 10838, 'solomon': 12062, 'lane': 7495, 'mi6': 8330, 'words': 14397, 'proof': 10202, 'john': 7204, 'calvin': 2523, 'yes': 14595, 'hedset': 6281, 'watchng': 14134, 'country': 3427, '22': 307, 'products': 10156, 'tested': 12966, 'contact': 3281, '04': 8, 'clothes': 2953, 'grandma': 5979, 'shopping': 11707, 'mom': 8512, 'totally': 13283, 'finally': 5269, 'support': 12642, 'consider': 3246, 'buying': 2477, 'device': 4014, 'work': 14400, 'laptops': 7503, 'offers': 9140, 'multidisciplinary': 8655, 'workflow': 14407, 'pencil': 9616, 'everything': 4874, 'sygriffe': 12749, 'plays': 9823, 'level': 7643, 'talking': 12803, 'liquid': 7738, 'cooling': 3348, 'high': 6347, 'cool': 3343, 'included': 6769, 'cooler': 3345, 'jesus': 7168, '23': 314, 'juicers': 7253, 'jk': 7192, 'display': 4198, 'cutout': 3635, 'johan': 7203, 'aziz': 1738, 'read': 10525, 'stats': 12362, 'close': 2944, 'occupied': 9101, 'cache': 2497, 'thrown': 13124, 'app': 1410, 'fact': 5061, 'explains': 4982, 'lot': 7863, 'compiling': 3138, 'xcode': 14523, 'compilation': 3134, 'disk': 4184, 'loss': 7860, 'file': 5249, 'slower': 11949, 'slightly': 11935, 'understand': 13617, 'works': 14415, 'run': 11178, 'lots': 7864, 'machines': 7971, 'mod': 8481, 'computer': 3180, 'store': 12437, 'peter': 9687, 'hand': 6139, 'bucks': 2393, 'unless': 13671, 'mad': 7982, 'max': 8160, 'usually': 13797, 'gradually': 5972, 'cheaper': 2762, 'recently': 10576, 'ultimate': 13561, 'gr': 5961, 'breakpoint': 2297, 'edition': 4573, '25': 332, 'years': 14579, 'anniversary': 1345, 'rise': 11037, 'tomb': 13238, '20': 233, 'dogs': 4284, 'wildlands': 14306, 'shadow': 11592, 'reasonably': 10558, 'shortly': 11719, 'premiere': 10042, 'xmas': 14539, 'division': 4236, 'every': 4868, 'major': 8012, 'aaa': 846, 'gets': 5794, 'discounted': 4168, 'alot': 1230, 'eventually': 4859, 'splinter': 12223, 'cell': 2674, 'conviction': 3331, 'buck': 2391, 'cd': 2663, 'destiny': 3977, 'mass': 8116, 'effect': 4594, 'fallout': 5097, 'vegas': 13859, 'doom': 4313, 'legacy': 7598, 'parts': 9529, '10': 19, 'eternal': 4834, 'porky': 9919, 'needs': 8814, 'start': 12334, 'eating': 4544, 'vegetables': 13860, 'sad': 11233, 'news': 8869, 'soon': 12099, 'shirt': 11674, 'arriving': 1525, 'tomorrow': 13241, 'gives': 5846, 'nice': 8884, 'depth': 3944, 'field': 5229, 'spotify': 12246, 'songs': 12089, 'leave': 7588, 'home': 6415, 'ok': 9166, 'socrates': 12042, 'origin': 9293, 'uniformed': 13652, 'spiderman': 12205, 'ps4': 10255, 'message': 8298, 'invest': 6998, 'to': 13219, 'hypocrite': 6567, 'whioe': 14254, 'missing': 8437, 'care': 2592, 'everyone': 4872, 'stip': 12410, 'acting': 958, 'everyones': 4873, '12': 93, 'year': 14577, 'old': 9173, 'multidimensional': 8654, 'alexys': 1181, 'gaming': 5691, 'procesor': 10136, 'snobs': 12022, 'powerful': 9975, 'term': 12951, 'since': 11831, 'tag': 12784, 'crash': 3466, 'dummy': 4469, 'thinking': 13073, '11gen': 87, 'place': 9780, 'holder': 6401, 'till': 13173, '12th': 116, 've': 13853, 'hated': 6199, 'color': 3024, 'theme': 13028, 'shades': 11591, 'blue': 2145, 'kinda': 7364, 'disappointing': 4139, 'controllers': 3315, 'lil': 7703, 'ducko': 4449, 'meant': 8210, 'off': 9133, 'ads': 1039, 'ce': 2664, 'da': 3663, 'upgraded': 13740, '2012': 254, 'gig': 5817, 'tb': 12853, 'runs': 11183, 'day': 3752, 'beasts': 1909, 'running': 11182, 'top': 13264, 'windows': 14317, 'past': 9548, 'retiring': 10915, 'm1s': 7948, 'apples': 1425, 'keyboard': 7332, 'attached': 1635, 'stand': 12316, 'wirelyess': 14335, 'complaining': 3141, 'basically': 1858, 'soulsniper_gamer': 12120, 'later': 7525, 'performs': 9651, 'compared': 3103, 'fan': 5110, 'kicked': 7342, 'rating': 10489, 'perfect': 9636, 'spent': 12192, 'looks': 7830, 'likely': 7697, 'custom': 3610, '48': 537, 'anybody': 1387, 'noticed': 9007, 'glass': 5854, 'building': 2411, 'task': 12838, 'fine': 5276, 'nah': 8726, 'laggy': 7480, 'switching': 12740, 'apps': 1448, 'ray': 10499, 'tracing': 13315, 'crap': 3462, 'rtx': 11150, '2060': 273, 'concern': 3188, 'present': 10055, 'son': 12086, 'able': 873, 'testing': 12970, 'hyped': 6560, '3rd': 483, 'party': 9530, 'elite': 4654, 'straps': 12459, 'break': 2291, 'may': 8168, 'comfortable': 3057, 'wasting': 14123, 'drew': 4403, 'impressive': 6743, 'oof': 9219, 'malfunction': 8029, 'help': 6303, 'might': 8371, 'bronze': 2349, 'hd': 6223, 'obviously': 9095, 'privacy': 10116, 'cameras': 2531, 'linked': 7726, 'questionable': 10379, 'alexa': 1177, 'instagram': 6902, 'internet': 6961, 'answered': 1364, 'questions': 10381, 'issue': 7059, 'lmao': 7771, 'recent': 10575, 'youtube': 14634, 'chanel': 2725, 'photoshopcafe': 9715, 'reverse': 10942, 'proviso': 10244, 'five': 5318, 'digit': 4087, 'code': 2989, 'pls': 9847, 'xaodi': 14500, 'downgrade': 4346, 'alt': 1241, 'acc': 897, 'excuse': 4930, 'gamer': 5683, 'payments': 9581, 'gobal': 5887, 'preloaded': 10037, 'thunderbolt': 13142, 'ports': 9932, 'wise': 14339, 'yeah': 14576, 'huge': 6513, 'ass': 1577, 'improvement': 6747, 'main': 8005, 'tasks': 12841, 'perfectly': 9639, 'alarm': 1161, 'steps': 12388, 'lost': 7862, 'farwell': 5134, 'friend': 5570, 'afford': 1079, 'sucks': 12581, 'ask': 1565, 'tube': 13463, 'lights': 7693, 'behind': 1955, 'advance': 1044, 'karl': 7297, 'marx': 8109, 'least': 7586, 'realistic': 10538, 'trolling': 13423, 'fake': 5088, 'bocw': 2163, 'entered': 4767, 'chat': 2757, 'cpu': 3451, 'nostalgia': 8991, 'cyrix': 3654, '5x86': 632, 'owner': 9409, '2018': 260, '11': 70, 'inch': 6761, 'sufficient': 12593, 'upgrades': 13741, 'battery': 1882, 'half': 6126, 'worry': 14425, 'prone': 10197, 'overheating': 9374, 'freezing': 5554, 'procreate': 10145, 'illustration': 6673, 'uploaded': 13745, 'opening': 9233, '100': 20, 'yo': 14612, 'mediocre': 8239, 'imma': 6699, 'pretend': 10072, 'hear': 6255, 'receive': 10573, 'kindly': 7367, 'psvr': 10275, 'exists': 4942, 'backward': 1767, 'compatibility': 3114, 'anyone': 1390, 'knows': 7404, 'answer': 1363, 'creative': 3489, 'went': 14209, 'trip': 13411, 'developers': 4009, 'recommend': 10591, 'birthday': 2063, 'french': 5557, 'website': 14181, 'refering': 10641, 'https': 6503, 'www': 14481, 'macg': 7968, 'co': 2978, '2020': 262, 'la': 7458, 'des': 3951, 'est': 4825, 'si': 11756, 'rapide': 10472, 'que': 10373, 'loption': 7852, 'rarement': 10478, 'utile': 13798, '118017': 83, 'ahah': 1114, '1to': 232, 'instead': 6912, 'mini': 8403, 'led': 7591, 'social': 12035, 'distancing': 4215, 'hug': 6512, 'buddy': 2396, 'worth': 14429, 'spend': 12187, '200': 234, 'huh': 6519, 'street': 12474, 'fighter': 5239, 'skills': 11880, '1660': 172, 'ti': 13149, 'i5': 6573, '1800': 200, 'dollars': 4292, 'aahhahahah': 853, 'probaly': 10128, 'cracked': 3454, 'broke': 2345, 'drop': 4425, 'several': 11575, 'multitask': 8665, 'swap': 12703, 'chris': 2846, 'pants': 9483, 'rather': 10488, 'pack': 9429, 'humongous': 6526, 'bank': 1816, 'compact': 3091, 'heads': 6242, 'plus': 9856, 'called': 2515, 'asked': 1566, 'rear': 10555, 'design': 3961, 'back': 1750, 'respect': 10868, 'exactly': 4892, 'fricking': 5566, 'easy': 4541, 'complaint': 3144, 'batterie': 1880, 'pre': 10006, 'order': 9278, 'hard': 6174, 'psu': 10274, 'sending': 11511, 'planning': 9793, 'aside': 1562, 'colored': 3025, 'stick': 12395, 'honor': 6433, 'cutest': 3632, 'reviews': 10949, 'lee': 7594, 'countdown': 3419, 'money': 8524, 'left': 7596, 'hope': 6443, 'miniled': 8404, 'upcoming': 13731, 'macbooks': 7966, 'i9': 6577, 'king': 7370, 'anymore': 1389, 'i7': 6575, 'waste': 14119, 'sand': 11282, 'sweet': 12723, 'spot': 12245, 'ltt': 7897, 'propaganda': 10206, 'approved': 1446, 'scam': 11356, 'spy': 12268, 'businesses': 2459, 'approval': 1444, 'obtained': 9091, 'manufactured': 8062, 'consent': 3243, 'industry': 6822, 'manufacturing': 8066, 'easier': 4535, 'convince': 3332, 'scammed': 11357, '15': 147, 'genshin': 5777, 'impact': 6714, 'dualsense': 4445, 'features': 5183, 'implemented': 6725, 'forgotten': 5466, 'smatgamer': 11980, 'bye': 2481, 'reliable': 10714, 'content': 3292, 'banned': 1820, 'las': 7508, '512gb': 581, 'programmers': 10173, 'perspective': 9680, 'took': 13253, 'return': 10924, 'policy': 9891, 'realize': 10541, 'grey': 6016, 'cuz': 3638, 'wont': 14380, 'dry': 4435, 'loved': 7872, 'honesty': 6429, 'quick': 10386, 'resume': 10897, 'apex': 1402, 'cod': 2988, 'session': 11557, 'relogins': 10725, 'implement': 6722, 'feature': 5181, 'ruined': 11164, 'easily': 4537, 'honestly': 6428, 'link': 7725, 'cable': 2494, 'reason': 10556, 'psvr2': 10277, 'sake': 11251, 'owning': 9412, 'optimal': 9258, 'imagine': 6688, 'vemon': 13866, 'costumization': 3409, 'mind': 8393, 'wallet': 14071, 'taka': 12791, 'tea': 12861, 'biscuit': 2064, 'defcon': 3846, 'zero': 14681, 'tis': 13199, 'nightmare': 8910, 'pikachu': 9743, 'bracelet': 2260, 'cycle': 3647, 'hooked': 6439, 'sounds': 12125, 'catch': 2644, 'btw': 2390, 'multiple': 8662, 'monitors': 8531, 'allows': 1218, 'monitor': 8528, 'stay': 12364, 'add': 990, 'different': 4068, '4k': 555, 'files': 5251, 'fx': 5644, 'model': 8485, 'cry': 3559, 'mercy': 8288, '33': 435, 'hair': 6123, 'tingling': 13188, 'ocd': 9104, 'spidey': 12207, 'axidas': 1725, 'keshav': 7328, 'bansal': 1824, 'fat': 5143, 'monsters': 8541, 'inc': 6759, 'voice': 13990, 'else': 4664, 'open': 9231, 'taking': 12795, 'gatubi': 5720, 'created': 3484, 'joking': 7215, 'notice': 9004, 'removed': 10756, 'twitch': 13510, 'oh': 9157, 'geez': 5747, '32': 425, 'damn': 3684, 'promote': 10191, 'customising': 3619, 'company': 3098, 'clarity': 2898, 'primarily': 10099, 'tracking': 13320, 'opposed': 9249, 'looking': 7828, 'living': 7765, 'carmack': 2608, 'stated': 12347, 'resolution': 10858, 'primary': 10101, 'keeping': 7315, 'costs': 3407, 'low': 7879, 'stage': 12307, 'mbo': 8182, 'wolfenstein': 14369, 'walking': 14066, 'simulators': 11824, 'simulator': 11823, 'steam': 12376, 'shooter': 11702, 'possible': 9946, 'withe': 14355, 'sorry': 12111, 'english': 4751, 'yooo': 14618, 'shlick': 11690, 'ppietra': 9984, 'based': 1850, 'prior': 10111, 'history': 6379, 'repeat': 10780, 'unknown': 13669, 'simply': 11816, 'known': 7402, 'facts': 5067, 'whether': 14243, 'dropped': 4427, 'earlier': 4524, 'usual': 13796, 'nobody': 8937, 'sure': 12656, 'disclosed': 4160, 'yet': 14603, 'speculations': 12176, 'camera': 2530, 'follows': 5416, 'wants': 14087, 'doesnt': 4281, 'face': 5046, 'legends': 7604, 'woah': 14365, 'fire': 5291, 'yall': 14564, 'fence': 5209, 'dualshock': 4446, 'ryan': 11199, 'philippines': 9702, 'trade': 13324, 'disc': 4151, 'didnt': 4056, 'childhood': 2807, 'cousins': 3435, 'tutorial': 13493, 'ace': 935, 'plan': 9788, 'professionally': 10161, 'language': 7498, 'studying': 12520, 'nearly': 8797, 'launch': 7540, 'mb5': 8175, 'swipe': 12734, 'guess': 6059, 'illuminati': 6671, 'claim': 2888, 'million': 8389, 'views': 13933, 'ticket': 13154, 'wii': 14302, 'samuel': 11279, 'collins': 3021, 'said': 11247, 'nov': 9018, 'tripping': 13416, 'creaking': 3479, 'season': 11446, 'thrones': 13112, 'print': 10107, 'odd': 9125, 'shapes': 11612, 'plates': 9805, 'says': 11342, '500': 567, '675': 681, 'bluetooth': 2148, 'yellowtooth': 14591, 'functioning': 5615, 'brain': 2266, 'exclusivity': 4926, 'complain': 3139, 'epic': 4790, 'crown': 3548, 'sort': 12112, 'solely': 12057, 'community': 3089, 'hateful': 6200, 'toxic': 13306, 'depressing': 3941, 'random': 10460, 'vignesh': 13935, 'efficiency': 4600, 'pure': 10312, 'core': 3373, 'match': 8132, 'selling': 11500, 'must': 8692, 'admit': 1021, 'chips': 2821, 'casuals': 2638, 'professional': 10159, 'checks': 2778, 'necessary': 8804, 'aspect': 1574, 'weight': 14197, 'trackpad': 13322, 'adapt': 982, '4g': 548, 'connectivity': 3235, 'appreciated': 1438, '1tb': 230, 'sick': 11759, 'jayed': 7142, 'al': 1158, 'sabit': 11224, 'id': 6596, 'desktop': 3970, 'rhino': 10974, 'thoughts': 13098, 'affects': 1074, 'positively': 9942, 'negatively': 8821, 'meh': 8253, 'futureproof': 5639, 'impacts': 6716, 'lifetime': 7680, 'human': 6522, 'vision': 13962, '240': 320, 'degrees': 3873, 'horizontally': 6451, '120': 94, 'index': 6802, '130': 119, '125': 103, 'limit': 7709, 'pimaxes': 9747, 'starvr': 12343, 'used': 13784, 'feel': 5194, 'transmit': 13362, 'signals': 11780, 'wirelessly': 14333, 'virtual': 13952, 'decoding': 3822, 'wifi': 14300, '6e': 695, 'specially': 12163, 'wireless': 14332, 'maybe': 8170, 'accessory': 911, 'line': 7716, 'messing': 8303, 'with': 14354, 'experimenting': 4974, 'solutions': 12064, 'gripe': 6025, 'm2': 7951, 'means': 8209, 'turns': 13489, 'obsolete': 9087, 'nothing': 9002, 'wrong': 14462, 'quite': 10398, 'large': 7504, 'replaced': 10790, 'vides': 13924, 'alternative': 1244, 'title': 13203, 'dave2d': 3732, 'alright': 1237, 'lay': 7550, '36': 447, '90': 779, 'planet': 9790, 'models': 8489, 'displays': 4202, 'standard': 12318, 'accepting': 904, 'gift': 5813, 'plastic': 9800, 'pick': 9724, 'matter': 8153, 'third': 13076, 'rift': 11005, 'semih': 11507, 'emre': 4705, 'friendly': 5571, 'shitstation': 11681, 'banning': 1822, 'restrictions': 10892, 'crossplay': 3545, 'steel': 12380, 'yt': 14643, 'refunded': 10658, 'refund': 10657, 'rigor': 11017, 'mortis': 8581, 'budget': 2397, 'expirience': 4976, '1440p': 135, 'raytracing': 10501, 'fps': 5510, 'weak': 14156, 'oculd': 9116, 'weeks': 14192, 'important': 6732, 'ordered': 9280, 'thank': 12991, 'munich': 8678, 'knew': 7389, '19': 205, '21': 300, 'song': 12088, 'components': 3160, 'jumping': 7259, 'action': 959, 'jump': 7258, 'mission': 8438, 'mode': 8484, 'whoever': 14270, 'wrote': 14465, 'script': 11413, 'smh': 11983, '90hz': 783, 'google': 5928, 'came': 2527, 'angel': 1324, 'dusts': 4489, 'husband': 6545, 'ah': 1113, 'ran': 10458, 'arguments': 1496, 'clown': 2959, 'emojis': 4693, 'omegalul': 9185, '58': 606, 'happiest': 6167, 'moment': 8513, 'father': 5146, 'bless': 2106, 'solid': 12058, 'gold': 5909, 'cyberpunk': 3645, 'intros': 6985, 'simple': 11811, 'naughty': 8780, 'girlfriend': 5836, 'vibrations': 13910, 'paint': 9451, 'ways': 14148, 'ruining': 11167, 'system': 12765, 'unknownuwu': 13670, 'goggles': 5903, 'idiot': 6611, 'massive': 8119, 'concreat': 3197, 'walls': 14077, 'rly': 11050, 'wastr': 14124, 'ur': 13766, 'watching': 14133, '3000': 399, 'card': 2586, 'suddenly': 12584, 'decent': 3808, 'option': 9270, 'especially': 4820, 'microsoft': 8359, 'puts': 10333, 'youweechube': 14639, 'warm': 14098, 'misunderstandig': 8445, 'results': 10896, 'warmer': 14099, 'thermals': 13045, 'speak': 12154, 'refresh': 10652, 'airrookie': 1148, 'placeholder': 9782, '13th': 128, '14nm': 146, '17th': 197, 'com': 3035, '6cmnhwvdrsc': 693, 'subscribed': 12556, 'in': 6754, 'gadget': 5659, 'person': 9671, 'indeed': 6795, 'combination': 3039, 'android': 1317, 'studio': 12517, 'meeting': 8247, 'teams': 12871, 'webex': 14177, 'ken': 7320, 'ichi': 6591, 'averaged': 1687, '10k': 60, 'struggling': 12508, 'non': 8959, 'digger': 4083, 'dat': 3721, 'corporations': 3387, 'bid': 2024, 'sides': 11771, 'wws': 14480, 'total': 13282, 'trash': 13369, 'disappeared': 4135, 'cortana': 3397, 'shutdown': 11751, 'music': 8689, 'phrase': 9717, 'activate': 961, 'awful': 1713, 'uninstalled': 13655, 'angry': 1331, 'stupid': 12526, 'updates': 13734, 'degrades': 3871, 'feautures': 5186, 'typos': 13527, 'peace': 9598, 'small': 11965, 'size': 11866, 'plain': 9787, 'ugly': 13545, 'expansion': 4956, 'enabled': 4715, 'screw': 11407, 'teqneh': 12947, 'fucking': 5591, 'lying': 7939, 'teeth': 12908, 'loyalty': 7890, '5950x': 612, 'outdone': 9324, '10850k': 48, 'anecdotal': 1321, 'bs': 2385, 'prove': 10235, 'waitt': 14058, 'ahhh': 1119, 'taylor': 12852, 'either': 4628, 'younes': 14624, 'layachi': 7551, 'corporation': 3386, 'gooooo': 5935, 'reviewed': 10945, 'aesthetics': 1066, 'hates': 6203, 'finger': 5280, 'prints': 10110, 'asking': 1567, 'gooooooooo': 5937, '3080': 410, 'have': 6210, 'ps4s': 10257, 'date': 3726, 'beers': 1938, 'beats': 1913, 'pdx': 9596, 'asshole': 1587, 'clueless': 2963, 'topics': 13267, 'smart': 11967, 'remaster': 10736, 'vinko': 13945, 'backwards': 1768, 'uncharted': 13595, 'infamous': 6831, 'bandicoot': 1806, 'sries': 12289, 'horizon': 6449, 'bloodborne': 2135, 'ghosts': 5806, 'tsushima': 13458, 'halo': 6130, '3th': 488, 'direct': 4115, 'vs': 14025, 'yourtubers': 14631, 'shot': 11720, 'mb': 8174, 'rom': 11101, '34': 438, 'emotion': 4695, 'blew': 2111, 'mid': 8362, 'range': 10462, 'starting': 12337, 'happen': 6161, 'crashes': 3468, 'gigs': 5826, 'uses': 13792, 'purgeable': 10315, 'value': 13827, 'streaming': 12471, 'strong': 12500, 'short': 11710, 'service': 11553, 'type': 13519, 'thatnormalbunny': 13005, '13': 118, 'clipping': 2936, 'ears': 4531, 'comfort': 3056, 'redo': 10624, 'browser': 2364, 'worthless': 14430, 'peoples': 9625, 'computers': 3181, 'witb': 14349, 'uk': 13555, 'spray': 12251, 'painted': 9453, 'wow': 14442, 'dachicagoan': 3667, 'eyes': 5036, 'shifting': 11656, 'clue': 2962, 'ending': 4731, 'soothing': 12106, 'hearing': 6257, 'refuse': 10661, 'unnecessary': 13683, 'lose': 7855, 'sales': 11257, 'technologies': 12894, 'provides': 10242, 'log': 7800, 'devices': 4015, 'connect': 3230, 'shaurya': 11628, 'kumar': 7435, 'node': 8941, 'stayed': 12365, '10nm': 64, 'process': 10137, 'tsmc': 13457, '7nm': 734, 'cyprus': 3653, 'sweeping': 12721, 'ph': 9694, 'transmitting': 13364, 'inside': 6888, 'nuclear': 9033, 'bunker': 2435, 'clickbaited': 2922, 'hu': 6504, 'tao': 12821, 'wallpaper': 14075, 'pinched': 9750, 'move': 8608, 'immediately': 6702, 'turned': 13485, 'mouse': 8603, 'creaky': 3481, 'strip': 12495, 'microscopic': 8356, 'pixels': 9776, 'ruins': 11168, 'experience': 4969, 'default': 3845, 'boast': 2158, 'demo': 3904, 'worse': 14426, 'omg': 9188, 'ugliest': 13544, 'tasteless': 12844, 'breath': 2299, 'insane': 6882, 'watched': 14127, 'explanations': 4984, 'eestiboo': 4588, 'state': 12346, 'post': 9949, 'publicly': 10287, 'legit': 7606, 'worried': 14423, 'health': 6250, 'customize': 3623, 'sponsors': 12239, 'drive': 4415, 'moose': 8555, 'bin': 2045, 'fits': 5316, 'aswell': 1615, 'dr': 4367, 'turtle': 13492, 'toes': 13228, 'dude': 4452, 'none': 8962, 'someone': 12076, 'claims': 2891, 'differently': 4071, 'fanboys': 5116, 'proved': 10236, 'duty': 4494, 'nightshift': 8912, 'vibe': 13903, 'snippets': 12020, 'whistling': 14261, 'singing': 11836, 'raw': 10496, 'eye': 5031, 'brings': 2334, 'benefits': 1983, 'gpu': 5958, '99': 813, 'chosen': 2845, 'wisely': 14340, 'lie': 7669, 'serial': 11539, 'killer': 7355, 'horror': 6458, 'movie': 8613, '300': 398, '400': 492, 'turkish': 13482, 'lira': 7739, 'government': 5950, 'moar': 8473, '35': 442, 'length': 7616, 'film': 5258, 'starring': 12332, 'seriously': 11544, 'die': 4057, 'responsibility': 10877, 'opposite': 9250, 'arm': 1508, 'madison': 7985, 'hype': 6559, 'mate': 8138, 'desame': 3952, '8g': 756, '16g': 178, 'mojang': 8506, 'minecraft': 8399, 'scream': 11399, 'asus': 1613, 'dissapoint': 4208, 'user': 13788, 'nicer': 8887, 'desk': 3969, 'base': 1849, '32gb': 432, 'tiger': 13165, 'remember': 10740, 'witches': 14353, '86': 749, 'written': 14461, 'specifically': 12165, 'silicon': 11793, 'vinci': 13941, 'resolve': 10860, 'anime': 1339, 'smartphone': 11972, 'deniziscool': 3921, '64gb': 661, '243': 325, 'subscription': 12559, 'ready': 10531, '80': 737, 'forza': 5494, 'rid': 10996, 'team': 12869, 'netflix': 8853, 'percent': 9630, 'often': 9154, 'lighting': 7689, 'audio': 1652, 'editing': 4572, 'thumbnail': 13137, 'media': 8233, 'group': 6034, 'channels': 2733, 'saving': 11329, 'grace': 5966, 'notification': 9010, 'announced': 1347, 'nvme': 9049, 'bay': 1890, 'disabled': 4129, 'phones': 9708, 'samsung': 11277, 's9': 11217, 'wtf': 14468, 'idle': 6615, 'load': 7782, 'xguy9': 14535, '1st': 228, '2nd': 387, 'shobco': 11693, 'vacation': 13815, 'hell': 6296, 'sh': 11586, 'wack': 14040, 'all': 1197, 'smth': 12003, 'happens': 6165, 'quit': 10397, 'host': 6466, 'together': 13229, 'departure': 3932, 'heard': 6256, 'delete': 3883, 'vid': 13919, 'questugisugiruguiffdguigufiuguigfuiugiiagigiiufsuy': 10383, 'upgradable': 13738, 'couple': 3429, 'bot': 2218, 'tra': 13312, 'keeps': 7316, 'repeating': 10783, 'medi': 8232, 'ocre': 9110, 'pa': 9423, 'slurpers': 11958, 'prices': 10091, 'drops': 4429, 'rinse': 11025, 'praise': 9995, 'paid': 9446, 'severe': 11576, 'cognitive': 3001, 'dis': 4126, 'abilities': 870, 'rejects': 10692, 'cease': 2665, 'amaze': 1261, 'managed': 8037, 'snag': 12008, 'babysitting': 1748, 'alerts': 1175, 'separate': 11526, 'outlook': 9333, 'word': 14395, 'iterm': 7081, 'excel': 4905, 'vocode': 13989, 'krishna': 7425, 'vamsi': 13831, 'smirk': 11987, 'arnt': 1514, 'nath': 8766, 'oversized': 9393, 'electronics': 4642, 'smaller': 11966, 'designed': 3962, 'removable': 10753, 'unlike': 13672, 'normal': 8982, 'uso': 13795, 'longer': 7819, 'álex': 14710, 'mitchell': 8447, 'personally': 9678, 'orders': 9282, 'the': 13009, 'captcha': 2577, 'stop': 12430, 'scalpers': 11353, 'mba': 8178, 'workout': 14413, 'congratulations': 3228, 'enjoying': 4758, 'lately': 7522, 'yesterday': 14601, 'kept': 7325, 'stuck': 12513, 'national': 8769, 'geographic': 5783, 'explore': 4992, 'antartica': 1369, 'map': 8068, 'alone': 1225, 'continue': 3296, 'worst': 14428, 'wires': 14336, 'mosse': 8586, 'played': 9816, 'sim': 11801, 'racing': 10421, 'immersion': 6706, 'requirements': 10824, 'just': 7270, 'ima': 6679, 'nit': 8922, 'itek': 7075, 'sale': 11256, 'bunch': 2430, 'ps5s': 10260, 'bday': 1899, 'ps3': 10254, 'unavailability': 13580, 'zhongliless': 14687, 'cybercery': 3644, 'barefeats': 1835, 'egpu': 4614, 'rx': 11195, '5700': 601, 'xt': 14552, 'win': 14312, 'anytime': 1392, 'finalcut': 5268, 'speed': 12180, 'latest': 7527, 'macs': 7980, 'bargain': 1837, 'persons': 9679, 'ebay': 4547, 'newer': 8866, 'freinds': 5555, 'page': 9442, 'animations': 1338, 'putting': 10335, 'efforts': 4607, 'name': 8738, '650': 664, '60fps': 646, 'simplyy': 11818, 'nope': 8975, 'live': 7759, 'mins': 8416, 'sponsored': 12237, 'frankly': 5533, 'cba': 2660, 'fkin': 5325, 'noob': 8969, 'skip': 11888, 'spurt': 12267, 'nexxol': 8875, 'mistake': 8440, 'sombrero': 12069, 'continues': 3298, 'overpriced': 9389, 'lucky': 7910, 'build': 2410, 'younger': 14626, 'gotten': 5947, 'older': 9174, 'realized': 10542, 'ill': 6665, 'sometime': 12080, 'thumb_up': 13135, 'glad': 5849, 'added': 991, 'casting': 2634, 'credit': 3498, 'car': 2583, 'info': 6844, 'ryom': 11204, 'hansen': 6157, 'quiroz': 10395, 'motion': 8591, 'control': 3310, 'aiming': 1135, 'objectively': 9073, 'aim': 1131, 'precisely': 10011, 'honest': 6427, 'glow': 5870, 'dark': 3710, 'boarders': 2156, 'mandalorian': 8044, 'hahah': 6114, 'trust': 13444, 'gone': 5917, 'finlay': 5289, 'morrison': 8574, 'yeee': 14581, 'trying': 13453, 'decide': 3811, 'production': 10153, 'sample': 11273, 'libraries': 7663, 'okay': 9168, 'arming': 1510, 'obsurd': 9089, 'sampled': 11274, 'track': 13316, 'safe': 11239, 'witch': 14350, 'interesting': 6951, 'longevity': 7821, 'limited': 7712, 'io': 7012, 'cycles': 3648, 'dress': 4401, 'paul': 9570, 'bearer': 1906, 'congratulation': 3227, 'haptic': 6172, 'feedback': 5192, 'feeling': 5195, 'rain': 10438, 'santana805': 11297, 'montana': 8544, 'disappointment': 4140, 'perhaps': 9652, 'spread': 12256, 'poison': 9883, 'bob': 2161, 'ross': 11117, 'sit': 11852, 'breeze': 2305, 'goes': 5901, 'fairly': 5084, 'convincing': 3334, 'child': 2805, 'copy': 3364, 'method': 8313, 'master': 8121, 'beginner': 1944, '64g': 660, 'stacks': 12302, 'plugins': 9852, 'enjoy': 4755, 'require': 10821, 'operate': 9237, 'elegant': 4643, '51': 579, 'attention': 1643, 'presentation': 10056, 'recognize': 10588, 'industrial': 6821, 'update': 13732, 'hmm': 6389, 'familiar': 5105, 'chose': 2844, 'embargo': 4675, 'nda': 8794, 'rotates': 11123, 'fingertips': 5284, 'psd': 10264, 'reeeee': 10633, 'xbxo': 14520, '10th': 68, 'seconds': 11457, 'gang': 5693, 'builds': 2413, 'hahahha': 6118, 'viewer': 13929, 'layouts': 7556, 'internals': 6958, 'interpretation': 6963, 'leds': 7593, 'kind': 7363, 'miss': 8433, 'maker': 8019, 'meet': 8246, 'her': 6314, 'abby': 866, 'porter': 9927, 'andy': 1320, 'van': 13832, 'nort': 8988, 'responsability': 10874, 'botw': 2232, 'utilize': 13804, 'rumble': 11173, 'odyssey': 9128, 'reccomend': 10571, 'overkill': 9376, 'ngl': 8881, 'refreshed': 10653, 'hopes': 6446, 'timecodes': 13177, 'decreases': 3829, 'average': 1686, 'view': 13927, 'instant': 6909, 'worn': 14422, 'outfit': 9329, 'jack': 7102, 'daniels': 3702, 'bottles': 2229, 'lady': 7476, 'flip': 5367, 'oops': 9229, 'write': 14457, 'jd': 7147, 'bottle': 2225, 'mackem': 7974, 'secret': 11458, 'vault': 13850, 'invalid': 6989, 'username': 13790, 'definition': 3863, 'woke': 14366, 'dwell': 4500, 'ideas': 6602, 'gay': 5727, 'relationships': 10701, 'females': 5208, 'characters': 2740, 'forced': 5440, 'towards': 13301, 'focus': 5401, 'narrative': 8758, 'congrats': 3226, 'eduardo': 4581, 'mendez': 8274, 'retarded': 10905, 'emoji': 4692, 'friday': 5567, 'coupons': 3432, 'draw': 4385, 'circle': 2869, 'mazx': 8173, 'picked': 9725, 'purchase': 10308, 'ayush': 1733, 'gupta': 6075, 'equivalent': 4803, 'achieve': 941, 'circumstances': 2874, 'tires': 13198, 'tire': 13195, 'ummphh': 13575, 'advancing': 1047, 'mattered': 8154, 'daily': 3675, 'weekly': 14191, 'monthly': 8547, 'yearly': 14578, 'introduced': 6982, '2k': 382, 'handphone': 6150, 'squint': 12283, 's20': 11214, 'reduced': 10628, '1080': 46, 'saves': 11328, 'dead': 3774, 'tablet': 12776, 'pictures': 9733, 'throwing': 13123, 'improved': 6746, 'mark': 8086, 'mrmattressmonkey': 8629, 'question': 10378, 'yay': 14572, 'needed': 8810, 'decision': 3818, 'killing': 7357, 'algoritme': 1187, 'marston': 8104, 'hackers': 6103, 'reporting': 10805, 'takes': 12794, 'recording': 10602, 'posting': 9952, 'forums': 5491, 'anti': 1377, 'consumer': 3275, 'fans': 5123, 'opinion': 9242, 'buggy': 2407, 'genius': 5771, 'operating': 9238, 'systems': 12766, 'temporary': 12927, 'drives': 4420, 'actively': 965, 'everywhere': 4876, 'optimize': 9266, 'rocket': 11075, 'league': 7570, 'devs': 4026, 'explained': 4980, 'ported': 9926, 'suing': 12602, 'replaceable': 10789, 'shells': 11646, 'decorative': 3826, 'dbrand': 3760, 'shell': 11644, 'over': 9356, 'engineered': 4746, 'skin': 11883, 'vinyl': 13946, 'sticker': 12396, 'sued': 12586, 'designs': 3967, 'applied': 1431, 'emulate': 4706, 'brew': 2311, 'supports': 12646, 'generations': 5764, 'including': 6771, 'ps1': 10251, 'psp': 10267, 'ps2': 10252, 'hidden': 6342, 'pass': 9538, 'via': 13901, 'web': 14172, 'dev': 4002, 'browsers': 2365, 'creating': 3487, 'relationship': 10700, 'helped': 6304, 'gave': 5725, 'supporting': 12645, 'blu': 2144, 'movies': 8614, 'format': 5472, 'heck': 6279, 'cost': 3403, 'pennies': 9619, 'tryed': 13452, 'trademark': 13326, 'creators': 3494, 'majority': 8013, 'common': 3084, 'tv': 13496, '14': 130, 'complete': 3147, 'xcloud': 14522, 'owns': 9413, 'counting': 3424, 'gamepass': 5680, 'ea': 4517, 'access': 907, 'studios': 12518, 'self': 11493, 'sometimes': 12081, 'rant': 10468, 'boys': 2254, '3070': 409, 'helloonepiece': 6301, 'usd': 13780, 'msrp': 8638, '800': 738, 'eddy': 4560, 'unique': 13657, 'hence': 6311, 'whatever': 14226, 'offer': 9136, 'fraction': 5514, '300bucks': 402, 'kinect': 7369, 'meazy': 8223, 'rarely': 10477, 'wanting': 14086, 'edit': 4570, 'nooooo': 8973, 'bugging': 2406, 'bug': 2404, 'woooooooooooooooooooooooooooohoo': 14390, 'glitch': 5857, 'supersaf': 12636, 'style': 12533, 'ice': 6585, 'cream': 3482, 'tshirt': 13456, 'balls': 1792, 'recommends': 10596, 'piss': 9764, 'chunk': 2861, 'audience': 1651, 'kolzi': 7411, 'ai': 1128, 'fault': 5149, 'gentle': 5778, 'approach': 1442, 'reward': 10965, 'recklessness': 10584, 'stupidity': 12527, 'argument': 1495, 'ts': 13454, 'hitting': 6385, 'brick': 2318, 'wall': 14069, 'soft': 12046, 'grow': 6036, 'pair': 9457, 'peacefull': 9599, 'insightful': 6890, 'minutes': 8420, 'preording': 10048, 'rn': 11054, 'cover': 3437, 'upfront': 13736, 'doubling': 4338, 'forget': 5457, 'due': 4457, 'supported': 12643, 'native': 8773, 'swedish': 12719, 'kid': 7345, 'responsible': 10878, 'batery': 1872, 'seeing': 11472, 'serious': 11543, 'stuttering': 12531, '6k': 701, 'onerous': 9202, 'recraw': 10606, 'xboxseriesx': 14516, 'aka': 1155, 'fridge': 5568, 'decides': 3814, 'produce': 10146, 'avianivy07': 1691, 'cancel': 2545, 'sooner': 12100, 'alex': 1176, 'cp': 3449, 'hopefully': 6445, 'presenter': 10059, 'relax': 10703, 'bottom': 2230, 'marketing': 8091, 'department': 3931, 'engineering': 4747, 'groups': 6035, 'engineers': 4748, 'foreseeable': 5451, 'revealed': 10935, 'zhc': 14685, 'do': 4258, 'xiaomify': 14538, 'sport': 12242, 'activity': 968, 'disappears': 4136, 'turn': 13483, 'posted': 9950, 'mandatory': 8046, 'puro': 10317, 'the_woof': 13011, 'discontinued': 4165, 'wasted': 14120, 'ricky': 10995, '4gb': 549, 'cvd': 3640, 'japan': 7128, 'assume': 1597, 'boy': 2250, 'needing': 8811, 'l2': 7454, 'r2': 10410, 'grip': 6024, 'buttons': 2473, 'uh': 13546, 'so': 12029, 'dammm': 3683, 'thoo': 13089, 'current': 3601, 'reinstall': 10688, 'allowed': 1216, 'ro': 11056, 'dreams': 4399, 'promotes': 10193, 'censorship': 2684, 'posts': 9958, 'generally': 5758, 'scummy': 11424, 'nuf': 9035, 'penny': 9621, 'superb': 12626, 'switcher': 12738, 'historically': 6378, 'lack': 7466, 'charge': 2742, 'seizin': 11488, 'parties': 9523, 'enter': 4766, 'auto': 1667, 'dislike': 4186, 'bots': 2224, 'eyelash': 5034, 'twice': 13505, 'realised': 10534, 'vitual': 13976, 'matt': 8150, 'teee': 12902, 'jist': 7187, 'cheap': 2761, 'although': 1248, '1500': 149, 'segment': 11481, 'premium': 10044, 'comps': 3172, 'fully': 5608, 'debugged': 3793, 'official': 9144, 'statement': 12348, 'disabling': 4130, 'trick': 13395, 'portugal': 9933, 'cmon': 2972, 'portuguese': 9934, '321th': 429, 'silk': 11795, 'embargoed': 4676, 'disassembly': 4146, 'popping': 9915, 'panels': 9473, 'possibility': 9945, 'tightens': 13168, 'happiness': 6169, '96lincoln': 803, 'tc': 12858, 'tower': 13303, 'problems': 10131, 'wi': 14285, 'xiaomi': 14537, 'redmi': 10622, 'whatsapp': 14229, 'outside': 9347, 'horrible': 6455, 'customer': 3611, 'flimzy': 5364, 'vibes': 13904, 'curious': 3598, 'pop': 9910, 'clip': 2933, 'breaks': 2298, 'couch': 3412, 'comming': 3081, 'autocorrect': 1670, 'kaczan3': 7283, 'arent': 1485, 'missed': 8435, 'background': 1753, 'hmmmmmmm': 6393, 'confused': 3221, 'crapbox': 3463, 'fuking': 5601, 'kidding': 7347, 'astro': 1608, 'sous': 12131, 'comparing': 3106, 'you': 14620, 'telling': 12919, 'smoother': 11997, 'astronaut': 1610, 'pointing': 9880, 'meme': 8265, 'looked': 7825, 'atchison': 1621, 'randomly': 10461, '40': 491, 'n0t_cyn1cal': 8716, 'languages': 7499, 'centre': 2690, 'appears': 1418, 'useful': 13785, 'informal': 6847, 'family': 5107, 'facetime': 5057, 'calls': 2517, 'sitting': 11858, 'cough': 3413, 'pogchamp': 9875, 'disagree': 4133, 'laughable': 7535, 'proofing': 10203, 'machine': 7970, 'cap': 2561, '16ram': 188, 'area': 1482, 'icons': 6594, 'deal': 3779, 'alek': 1173, 'konert': 7413, 'exist': 4937, 'myth': 8712, 'matthew': 8157, '24': 319, 'nation': 8768, 'shall': 11601, 'kingdom': 7371, 'famines': 5108, 'pestilences': 9682, 'earthquakes': 4533, 'divers': 4234, 'places': 9784, 'beginning': 1945, 'sorrows': 12110, 'luke': 7919, '26': 344, 'signs': 11787, 'sun': 12616, 'moon': 8552, 'stars': 12333, 'earth': 4532, 'distress': 4224, 'nations': 8771, 'perplexity': 9668, 'seas': 11445, 'waves': 14145, 'roaring': 11061, 'men': 8272, 'hearts': 6264, 'failing': 5078, 'fear': 5174, 'powers': 9980, 'heaven': 6273, 'shaken': 11599, 'timothy': 13186, 'perilous': 9653, 'lovers': 7875, 'covetous': 3442, 'boasters': 2159, 'blasphemers': 2094, 'disobedient': 4193, 'parents': 9503, 'unthankful': 13719, 'unholy': 13645, 'natural': 8777, 'affection': 1073, 'trucebreakers': 13434, 'accusers': 933, 'incontinent': 6781, 'fierce': 5231, 'despisers': 3975, 'traitors': 13342, 'heady': 6248, 'highminded': 6355, 'pleasures': 9842, 'form': 5470, 'godliness': 5895, 'denying': 3930, 'thereof': 13042, 'hebrews': 6278, '27': 351, 'appointed': 1435, 'unto': 13721, 'judgement': 7249, 'ecclesiastes': 4552, 'bring': 2332, 'evil': 4880, '17': 191, 'noah': 8936, 'eat': 4542, 'drank': 4382, 'married': 8101, 'wives': 14362, 'marriage': 8100, 'ark': 1503, 'flood': 5373, 'destroyed': 3981, 'learn': 7581, 'parable': 9491, 'fig': 5237, 'tree': 13383, 'branch': 2273, 'tender': 12936, 'putteth': 10334, 'forth': 5486, 'leaves': 7589, 'ye': 14574, 'summer': 12613, 'nigh': 8904, 'likewise': 7699, 'near': 8795, 'doors': 4319, 'acts': 971, '38': 463, 'repent': 10785, 'baptized': 1827, 'christ': 2849, 'remission': 10748, 'sins': 11846, 'ghost': 5805, 'testify': 12968, 'exhort': 4935, 'untoward': 13723, 'thessalonians': 13047, 'hath': 6204, 'wrath': 14450, 'obtain': 9090, 'salvation': 11260, 'lord': 7853, 'begotten': 1947, 'whosoever': 14281, 'believeth': 1967, 'perish': 9657, 'everlasting': 4864, 'saved': 11326, 'damned': 3685, 'corinthians': 3377, 'unrighteous': 13701, 'inherit': 6862, 'deceived': 3804, 'fornicators': 5481, 'adulterers': 1041, 'effeminate': 4598, 'abusers': 889, 'mankind': 8052, 'homosexuals': 6425, 'thieves': 13062, 'drunkards': 4433, 'revilers': 10950, 'extortioners': 5023, 'galations': 5670, 'flesh': 5352, 'manifest': 8050, 'adultery': 1042, 'fornication': 5480, 'uncleanness': 13597, 'lasciviousness': 7509, 'idolatry': 6619, 'witchcraft': 14351, 'hatred': 6206, 'variance': 13839, 'emulations': 4710, 'strife': 12489, 'seditions': 11467, 'heresies': 6317, 'envyings': 4789, 'murders': 8686, 'drunkenness': 4434, 'revellings': 10939, 'told': 13234, 'revelation': 10937, 'fearful': 5175, 'unbelieving': 13586, 'abominable': 875, 'murderers': 8684, 'whoremongers': 14278, 'idolaters': 6618, 'liars': 7659, 'lake': 7484, 'burneth': 2447, 'brimstone': 2331, 'nay': 8788, 'saith': 11250, 'truth': 13449, 'cometh': 3055, '28': 357, 'kill': 7353, 'body': 2164, 'soul': 12116, 'destroy': 3980, 'mr': 8620, 'miyagi': 8453, 'silenced': 11790, 'pistol': 9767, 'centerstage': 2688, 'luckily': 7908, 'jobs': 7195, 'era': 4805, 'revolution': 10960, 'borrow': 2213, 'michael': 8342, 'angelo': 1326, 'graphic': 5987, 'settings': 11565, 'spreading': 12257, 'bullshit': 2424, 'lmfao': 7776, 'promising': 10190, 'exterior': 5018, 'interior': 6954, 'sooo': 12101, 'dingbattoast': 4103, 'suspends': 12689, 'outro': 9343, 'cherry': 2794, 'blossom': 2138, 'ottom': 9312, 'wondering': 14377, 'blowing': 2140, 'gamecube': 5677, 'water': 14135, 'skippable': 11889, 'ad': 978, 'blow': 2139, 'stored': 12438, 'drawn': 4390, 'swapping': 12707, 'found': 5498, 'covers': 3441, 'painting': 9455, 'types': 13521, 'foreigner': 5447, 'revolutionary': 10961, 'barking': 1840, 'hide': 6343, 'challenge': 2716, 'f1': 5038, 'monaco': 8521, 'rawe': 10497, 'holding': 6402, 'powersupply': 9981, 'mem': 8263, 'processores': 10143, 'lisa': 7741, 'su': 12539, 'bang': 1811, 'processors': 10144, 'hes': 6324, 'hood': 6436, 'hoodie': 6437, 'arrive': 1522, 'canada': 2541, '16th': 190, 'collecting': 3015, 'dust': 4486, 'haha': 6113, 'fanbois': 5113, 'iklms11': 6658, 'chance': 2723, 'spo2': 12228, 'per': 9627, 'greed': 6005, 'wired': 14331, 'dealing': 3780, 'lag': 7477, 'hit': 6380, 'intended': 6931, 'sign': 11777, 'dell': 3894, 'rest': 10881, 'reference': 10637, 'yep': 14593, 'chop': 2841, 'fingers': 5283, '2007': 241, 'funky': 5623, 'colour': 3029, 'remake': 10732, 'amazes': 1265, 'mentioned': 8278, 'brand': 2274, 'matte': 8151, 'abt': 886, 'advice': 1060, 'appreciate': 1437, 'kids': 7351, 'toppic': 13268, 'effort': 4605, 'fannys': 5122, 'personal': 9674, 'data': 3722, 'mki': 8459, 'profile': 10164, 'vadim': 13818, 'manner': 8053, 'speaking': 12157, 'identical': 6603, 'survive': 12682, 'cute': 3628, 'repaint': 10774, 'original': 9294, '2009': 244, 'jacob': 7108, 'camden': 2526, 'bother': 2219, 'blazingcobra': 2099, '722': 718, 'requirement': 10823, 'tracked': 13317, 'bypasses': 2483, 'headsets': 6244, 'doubt': 4340, 'lower': 7880, 'clicked': 2924, 'cold': 3009, 'boots': 2203, 'rocking': 11079, 'streak': 12465, 'psnow': 10266, 'sly': 11960, 'cooper': 3352, 'picking': 9726, 'slim': 11937, 'block': 2125, 'tricky': 13399, 'image': 6682, 'transistor': 13351, 'triangle': 13390, 'accurate': 929, 'jet': 7169, 'engine': 4744, 'donate': 4307, 'shorter': 11718, 'pai': 9445, '1min': 224, 'monitoring': 8530, 'thus': 13146, 'draining': 4375, 'overall': 9357, 'advertising': 1059, 'example': 4899, 'haptics': 6173, 'echo': 4553, 'rec': 10568, 'crazy': 3477, 'underdog': 13608, 'faildozer': 5076, 'changed': 2728, 'offering': 9138, 'tbh': 12857, 'sticks': 12400, 'youtuber': 14635, 'concept': 3187, 'become': 1922, 'redundant': 10631, 'touch': 13285, 'iphones': 7023, 'likes': 7698, 'shutting': 11754, 'lowkey': 7885, 'named': 8740, 'platestation': 9806, 'awkward': 1715, 'knowledge': 7400, 'pantomime': 9482, 'plx': 9860, 'thumbs': 13139, 'saif': 11248, 'nadim': 8723, 'assuming': 1599, 'alienware': 1193, '1000': 21, 'besides': 1993, 'sensor': 11518, 'cropping': 3536, 'terrible': 12956, 'stopped': 12431, 'cares': 2600, 'temp': 12921, 'temps': 12928, 'lap': 7500, 'hot': 6468, 'prolonged': 10182, 'loads': 7786, 'sindre': 11834, 'zen3': 14672, 'zen2': 14671, 'wallpapers': 14076, 'legendary': 7603, 'item': 7077, 'private': 10117, 'chinese': 2818, 'built': 2414, 'speaker': 12155, 'quickly': 10389, 'leap': 7579, 'forward': 5492, 'optimistic': 9263, 'green': 6008, 'decals': 3801, 'jimbo': 7181, 'pile': 9744, 'decreased': 3828, 'latency': 7524, 'therefore': 13041, 'matters': 8156, 'shove': 11728, 'calculation': 2506, 'datasets': 3725, '30gb': 415, 'fit': 5313, 'magically': 7992, 'dedicated': 3833, 'prevent': 10079, 'losses': 7861, 'vm': 13986, 'magic': 7990, 'floating': 5371, 'skimps': 11882, 'rubes': 11158, 'tl': 13210, 'programming': 10174, 'unified': 13651, 'adult': 1040, 'stillrabit73': 12405, 'solving': 12067, 'particular': 9521, 'wording': 14396, 'blades': 2086, 'sorcery': 12108, 'hardware': 6179, 'boneworks': 2183, 'techwiz0': 12899, 'unbricked': 13591, 'fixed': 5320, 'recommended': 10594, 'if': 6623, 'unplugged': 13689, 'accidentally': 915, 'plugged': 9850, 'hoping': 6447, 'sadly': 11235, 'xperia': 14545, 'iii': 6645, 'tick': 13153, 'boxes': 2248, 'tyler': 13518, 'durden69': 4482, 'forgetting': 5460, 'shortage': 11711, 'fanboy': 5114, 'truly': 13442, 'innovated': 6870, 'x86': 14496, 'amd64': 1274, 'instruction': 6914, 'itanium': 7071, 'murdered': 8683, 'fraudulent': 5535, 'practiced': 9992, 'killed': 7354, 'vouch': 14007, 'fix': 5319, 'bankrupt': 1817, 'closes': 2948, 'technical': 12888, 'innovation': 6872, 'shout': 11725, '2014': 256, 'hibbs': 6338, 'luck': 7906, 'salt': 11258, 'gamers': 5686, 'adopting': 1031, 'barren': 1845, 'lineups': 7721, 'justifying': 7276, 'adoption': 1032, 'framerate': 5516, 'practically': 9990, 'worthy': 14433, 'tired': 13196, 'sleep': 11922, 'wacth': 14043, 'deserves': 3959, 'sheldon': 11641, 'conclusion': 3193, 'ridiculous': 11002, 'demonstrates': 3913, 'absolutely': 883, 'crucial': 3549, 'vi': 13900, 'research': 10832, 'users': 13791, 'marques': 8097, 'held': 6292, 'livestream': 7764, 'luka': 7918, 'štefanac': 14712, '320': 426, 'depends': 3938, 'variety': 13843, 'corona': 3382, 'squeaks': 12279, 'coding': 2994, 'linux': 7733, 'tutorials': 13494, 'morals': 8562, 'luthien': 7932, 'rep': 10773, 'rma': 11052, 'listen': 7744, 'copped': 3362, '5800x': 608, '5900x': 611, 'that1nekid': 13003, 'ages': 1101, 'metal': 8309, 'strap': 12457, 'watchface': 14131, 'combo': 3044, 'stolen': 12419, 'sonic': 12091, 'exlusives': 4949, 'irl': 7036, 'gazillion': 5730, 'ignores': 6637, 'reality': 10540, 'raihan': 10437, 'aradhana': 1467, 'displayport': 4201, 'hdmi': 6226, 'plugin': 9851, 'adam': 980, 'considering': 3251, 'accounts': 926, '300k': 404, 'subs': 12554, 'najmi': 8735, 'ismail': 7052, 'shorten': 11714, 'prematurely': 10040, 'changing': 2731, 'round': 11129, 'proceeds': 10135, 'fails': 5079, 'playroom': 9822, 'dragon': 4372, 'til': 13172, 'compete': 3124, 'amazfit': 1266, 'measurement': 8215, 'bottleneck': 2226, 'st': 12293, 'explain': 4978, 'supposed': 12648, 'stress': 12477, 'differences': 4067, 'limits': 7714, 'sats': 11314, 'meaningful': 8206, '1600': 167, '120fps': 97, 'employees': 4702, 'potential': 9960, 'force': 5439, 'input': 6878, 'boss': 2215, 'toothbrush': 13262, 'hop3fully': 6442, 'osx': 9305, 'it': 7067, 'obey': 9069, 'gospel': 5944, 'burning': 2449, 'forever': 5454, 'yikes': 14607, 'jon': 7219, 'prosser': 10217, 'gigabyte': 5819, 'variant': 13840, 'stable': 12299, '60': 638, 'talked': 12800, 'preorder': 10045, '5th': 630, 'modding': 8483, 'improve': 6745, 'scenario': 11367, 'inspired': 6897, 'flight': 5363, 'restock': 10885, 'em': 4669, 'whole': 14271, 'barely': 1836, 'taken': 12793, 'josep': 7226, 'kim': 7361, 'eccentric': 4551, 'boring': 2211, 'crew': 3508, 'relish': 10720, 'candidness': 2550, 'galaxy': 5671, 'tab': 12773, 's7': 11215, 'mhmm': 8326, 'percentage': 9631, 'asian': 1558, 'genes': 5768, 'beta': 1998, 'devalue': 4004, 'weed': 14187, 'regret': 10673, 'messy': 8304, 'normally': 8983, 'boiling': 2173, 'whereas': 14239, 'choke': 2830, 'scalper': 11352, 'triple': 13413, 'scratch': 11395, 'sponsor': 12236, 'locks': 7797, 'tips': 13194, 'ocean': 9105, 'garry': 5709, 'river': 11046, 'dangit': 3698, 'connected': 3231, 'television': 12916, 'whenever': 14237, 'disconnect': 4164, 'pixelated': 9773, 'jagged': 7113, 'edges': 4564, 'mcables': 8188, 'aliasing': 1191, 'picture': 9732, 'gps': 5957, 'garmin': 5705, 'fenix': 5210, 'mixed': 8452, 'thr': 13101, 'furniture': 5628, 'infinite': 6837, 'void': 13994, 'football': 5431, 'indirectly': 6814, 'discourages': 4170, 'becoming': 1925, 'bc': 1894, 'reach': 10516, 'humor': 6527, 'swear': 12712, 'published': 10288, 'completely': 3149, 'tearing': 12874, 'viable': 13902, 'terms': 12954, 'poor': 9907, 'alyx': 1255, 'source': 12127, '20082002': 243, '00': 0, '11th': 91, 'convinced': 3333, 'circuit': 2871, 'login': 7807, 'fb': 5167, 'installed': 6904, 'closed': 2945, 'gfx': 5799, 'deepfakes': 3842, 'lyfe': 7938, 'jan': 7125, 'oxygen': 9417, 'leadup': 7568, 'calm': 2518, 'pushing': 10328, '450': 529, 'houssam': 6482, 'alucad': 1250, 'somehow': 12074, 'port': 9922, 'ableton': 874, 'fl': 5327, 'onto': 9214, 'mm': 8466, '38gb': 466, 'mw': 8705, '108gb': 49, 'be': 1900, '31': 422, 'bucket': 2392, 'africa': 1086, 'incredibly': 6790, 'helpful': 6305, 'road': 11057, 'morning': 8571, 'smashed': 11976, 'differ': 4065, 'quicker': 10387, '350': 443, 'bytheby': 2488, 'sue': 12585, 'foundland': 5500, 'portal': 9925, 'icelacrima': 6589, 'kina': 7362, 'firelikethis': 5296, 'provide': 10240, 'development': 4011, 'equipment': 4800, 'interest': 6948, 'plug': 9848, 'batteries': 1881, 'export': 4996, 'locally': 7789, 'ahead': 1117, 'purchased': 10309, 'traditional': 13334, 'weary': 14169, 'remembering': 10742, 'headache': 6231, 'powerpc': 9978, 'numerous': 9042, 'screwed': 11408, 'recover': 10604, 'sysadmin': 12764, 'unix': 13666, 'handle': 6145, 'efficiently': 4602, 'relying': 10728, 'argue': 1491, 'wear': 14163, 'applecare': 1423, 'wd': 14152, 'loaded': 7783, 'pycharm': 10342, 'minimized': 8409, 'window': 14315, 'documents': 4272, 'browsing': 2366, 'despite': 3976, 'upwards': 13765, 'lagged': 7478, 'massively': 8120, 'computationally': 3177, 'aggressive': 1103, 'bestbuy': 1996, 'lowest': 7884, 'strongly': 12502, 'ordering': 9281, 'giving': 5847, 'wife': 14299, 'replace': 10788, 'compiled': 3136, 'increases': 6787, 'purchasing': 10311, 'trucks': 13436, 'radiator': 10426, 'flumpy': 5392, 'pig': 9738, 'newest': 8867, 'shiniest': 11663, 'bet': 1997, 'constantly': 3265, 'spending': 12188, 'thousands': 13100, 'superiority': 12634, 'cars': 2620, 'houses': 6480, 'investments': 7004, 'waited': 14054, 'w4tf6naquhe': 14035, 'rendering': 10764, 'akami': 1156, '10gb': 57, 'ripoff': 11031, 'tablets': 12777, 'lcd': 7560, '2yrs': 395, 'bound': 2236, '12months': 114, 'tad': 12782, 'blacker': 2080, 'blacks': 2084, 'tanner': 12820, 'gin': 5832, 'alley': 1204, 'dog': 4282, 'garbage': 5701, 'developer': 4008, 'costom': 3406, 'plate': 9804, 'dip': 4109, 'valve': 13829, 'curve': 3608, 'somewhere': 12083, 'jst': 7243, 'respray': 10880, 'welcome': 14204, 'heresy': 6318, 'd4rkstorn': 3661, 'multifunction': 8656, 'integration': 6923, 'versatility': 13886, 'wins': 14323, 'pcs': 9593, 'center': 2686, 'passing': 9540, 'pie': 9734, 'yoda': 14613, 'key': 7331, '1400': 132, 'comparable': 3099, 'investment': 7003, 'casually': 2637, 'segue': 11482, 'position': 9938, 'useless': 13787, '2013': 255, 'ownership': 9411, 'adding': 996, 'breaking': 2295, '4th': 564, '43': 519, '72': 714, 'optifiner': 9257, 'frames': 5518, 'warzone': 14112, 'creation': 3488, '11900k': 85, 'overclocked': 9362, 'kit': 7378, 'outperform': 9335, 'ryzens': 11209, '2d': 375, '8gbvs': 759, 'plz': 9861, 'sports': 12243, 'guns': 6074, 'evan': 4853, 'unfair': 13637, 'q2': 10347, 'sacrifices': 11230, 'head': 6230, 'regardless': 10669, 'initial': 6865, 'announcement': 1348, 'enthusiasm': 4773, 'excitement': 4919, 'changer': 2729, 'backing': 1756, 'explanation': 4983, 'needless': 8812, 'v1': 13812, 'boggling': 2167, 'whose': 14280, 'laughed': 7536, 'namesltt': 8744, 'sincere': 11832, 'appreciation': 1440, 'valuable': 13826, 'sustaining': 12691, 'importantly': 6733, 'passion': 9541, 'airs': 1149, 'employee': 4701, 'fov': 5507, 'closer': 2947, '210': 301, 'perez': 9634, 'wished': 14344, 'remaking': 10733, 'fantasy': 5125, 'youdrongo': 14622, 'macbookair': 7965, 'fanless': 5120, 'pleasure': 9841, 'bravo': 2283, 'johnny': 7206, 'shoulda': 11723, 'prevents': 10082, 'ios': 7014, 'multi': 8650, 'instances': 6908, 'document': 4268, 'referencing': 10640, 'bottlenecked': 2227, 'manage': 8036, 'processing': 10141, 'units': 13660, 'discrepancies': 4172, 'optimisation': 9259, 'dose': 4328, 'selled': 11497, 'stiching': 12394, 'panorama': 9478, 'photos': 9713, 'lrc': 7894, 'panoramastiching': 9479, 'intense': 6932, 'processes': 10140, 'figured': 5246, 'rosetta': 11114, '2gb': 379, 'lucas': 7901, 'blaney': 2092, 'capitalize': 2571, 'customizable': 3620, 'aqua': 1458, 'gamepro': 5682, 'seller': 11498, 'flow': 5381, '4a': 545, 'tnx': 13218, 'brother': 2358, 'editor': 4576, 'student': 12514, 'launched': 7541, 'june': 7261, 'globally': 5863, '663gb': 669, 'usable': 13776, '825gb': 747, 'comessssssss': 3053, 'anoung': 1361, 'kasigagua': 7304, 'gamemax': 5678, 'ds4': 4438, 'bar': 1828, 'touchpad': 13290, 'dual': 4444, 'complicated': 3155, 'sensors': 11520, 'vibrators': 13912, 'mic': 8339, 'hrs': 6494, 'joycen': 7234, 'seem': 11474, 'hardly': 6177, 'aa': 845, 'admiral': 1018, 'hong': 6432, 'kong': 7414, 'blender': 2104, 'beast': 1908, 'seemingly': 11476, 'utilise': 13799, 'swapfile': 12704, 'soc': 12033, 'isodoublet': 7054, 'established': 4826, 'measuring': 8218, 'principles': 10106, 'answers': 1366, 'spied': 12208, 'gathering': 5719, 'inform': 6846, 'contract': 3301, 'letting': 7641, 'beaut': 1916, 'instaaa': 6901, 'starbright': 12327, 'charged': 2743, 'grown': 6038, 'pathetic': 9558, 'tru': 13433, 'alert': 1174, 'pawel': 9576, 'castel': 2633, 'hahaha': 6115, 'select': 11489, 'sir': 11849, 'whats': 14228, 'bugs': 2408, 'predict': 10016, 'ui': 13553, 'consume': 3273, 'demand': 3899, 'perform': 9643, 'factory': 5066, 'reset': 10845, 'weekend': 14190, 'ended': 4730, 'recommendations': 10593, 'local': 7788, 'stores': 12441, 'customers': 3612, 'stranded': 12451, 'rolling': 11098, 'platforms': 9810, 'headed': 6235, 'jayboi': 7140, 'counter': 3421, 'intuitive': 6988, 'gear': 5739, 'reputation': 10817, 'resistant': 10853, 'bribery': 2316, '02': 6, 'typical': 13522, 'villain': 13939, 'golf': 5913, 'club': 2961, '2024': 266, 'victorious': 13917, 'accused': 932, 'stealing': 12374, 'arcade': 1469, 'nauseating': 8781, 'pulling': 10296, 'shade': 11590, 'harshit': 6187, 'dube': 4447, 'prescription': 10053, 'lenses': 7621, 'fairness': 5085, 'controversy': 3319, 'promotion': 10195, 'protests': 10226, 'highlighting': 6352, 'outlet': 9330, 'covering': 3440, 'commenting': 3075, 'upped': 13751, 'engagement': 4739, 'ranking': 10466, 'gods': 5898, 'passed': 9539, 'packaging': 9432, 'nasty': 8764, 'paper': 9486, '92': 788, 'metacritic': 8307, 'benjamin': 1985, 'ion': 7013, '200fps': 246, 'hits': 6383, 'untamed': 13717, 'ronin': 11105, 'threatened': 13105, 'legal': 7599, 'cancelled': 2547, 'vega': 13858, 'integrated': 6922, 'kinds': 7368, 'eeeeeeeee': 4586, 'dope': 4321, 'visualisation': 13968, 'services': 11554, 'realy': 10553, 'unboxing': 13590, 'shook': 11700, 'utilized': 13805, 'trend': 13386, 'arrrive': 1530, 'shin': 11660, 'shaman': 11605, 'fuck': 5588, 'girl': 5835, 'monster': 8540, 'rajdeep': 10448, 'patil': 9562, 'invent': 6993, 'convenient': 3323, 'pricey': 10093, 'fitness': 5315, 'tracker': 13318, 'arshan': 1532, 'forgot': 5465, 'spidergwen': 12204, 'themed': 13029, 'consol': 3256, 'wars': 14110, '399': 471, '299': 371, 'searched': 11442, 'encourage': 4725, 'actuality': 973, 'consistently': 3254, 'targets': 12832, 'situations': 11861, 'visual': 13967, 'box': 2247, 'willpower': 14311, 'workday': 14404, 'childrenofwatch': 2810, 'positives': 9943, 'anywhere': 1395, 'negatives': 8822, 'sickness': 11761, 'filled': 5255, 'screaming': 11401, 'listed': 7743, 'geting': 5793, 'usa': 13774, 'citizen': 2881, 'creaks': 3480, 'assure': 1603, 'forbidden': 5438, 'west': 14213, 'maximum': 8164, '101': 34, 'assuring': 1604, 'crisp': 3523, 'fuzzy': 5642, 'giveaway': 5843, 'switched': 12737, 'fantastic': 5124, 'notch': 8996, 'redacted': 10612, 'differntly': 4073, 'stronger': 12501, 'zen': 14670, 'involves': 7011, 'obs': 9076, 'previews': 10084, 'slowest': 11950, 'general': 5757, 'hang': 6154, '8gigs': 762, '512': 580, 'overcharges': 9359, 'marginal': 8081, 'ergonomics': 4807, 'wrists': 14456, 'sharp': 11620, 'angle': 1328, 'grab': 5962, '2010': 250, 'tommorow': 13239, 'fall': 5093, 'timers': 13182, 'tells': 12920, 'awn': 1717, 'alrizqi': 1238, 'everybody': 4869, 'researched': 10833, 'mobo': 8477, 'internal': 6956, 'connector': 3236, 'technician': 12890, 'extremely': 5028, 'teeny': 12906, 'repair': 10775, 'leonardo': 7622, 'ruiz': 11169, 'coz': 3447, 'perfection': 9638, 'fee': 5190, 'amateur': 1260, 'golden': 5911, 'sperm': 12193, 'disable': 4128, 'adobe': 1027, '5k': 624, 'lg': 7653, 'ultrafine': 13568, 'struggled': 12506, 'acr': 953, 'crashed': 3467, 'shoot': 11701, 'a73': 838, '24mp': 330, 'expecting': 4963, 'snappy': 12013, 'actual': 972, '5ghz': 619, 'crushes': 3556, 'exports': 5000, 'crossed': 3540, 'versions': 13889, 'completionist': 3152, 'chill': 2811, 'releasing': 10710, 'honeybunbun': 6431, 'spotted': 12249, '39': 467, 'prize': 10122, 'usb': 13778, 'crunch': 3552, 'noice': 8947, 'gigapixel': 5822, 'classic': 2902, 'photography': 9712, 'programmer': 10172, 'oriented': 9292, 'gobble': 5888, 'vids': 13925, 'reboot': 10562, 'expencive': 4964, 'hotter': 6473, 'specific': 12164, 'cash': 2628, 'thinks': 13074, 'lopsided': 7851, 'joysticks': 7237, 'adapting': 985, 'triggers': 13405, 'sensitive': 11516, 'pas': 9533, 'literal': 7751, 'explaining': 4981, 'sleek': 11921, 'jealous': 7148, 'connection': 3233, 'charger': 2744, 'letdown': 7637, 'boom': 2193, 'youre': 14629, 'vents': 13872, 'temperatures': 12923, 'substantially': 12563, 'vent': 13871, 'debunk': 3795, 'letters': 7640, 'losing': 7859, 'leading': 7566, 'record': 10600, 'pad': 9437, 'button': 2472, 'typing': 13524, 'futuristic': 5640, 'decade': 3798, 'sean': 11439, 'connery': 3238, 'flee': 5351, 'mix': 8451, 'fucked': 5589, 'bait': 1783, 'analyzing': 1304, 'cases': 2627, 'pleasent': 9837, 'actor': 970, 'commercials': 3079, 'platform': 9807, 'soggylip': 12050, 'brandon': 2277, 'lim': 7705, 'listened': 7746, 'criticism': 3528, 'shitty': 11685, 'practices': 9993, 'salary': 11255, 'significant': 11784, 'increased': 6786, 'o2': 9058, 'blood': 2133, 'anyways': 1394, 'solo3': 12061, 'franklin': 5531, 'ricer': 10986, 'miata': 8331, 'we': 14155, 'unused': 13727, 'mameory': 8034, 'allocates': 1210, 'cocnlusions': 2987, 'benchmark': 1976, 'everytime': 4875, 'tendency': 12935, 'neek': 8816, 'rustainofficial': 11191, 'handling': 6148, 'externally': 5020, 'helps': 6308, 'temperature': 12922, 'amazeballs': 1262, 'ssds': 12292, 'dba': 3759, 'regularly': 10678, 'parallels': 9498, 'vms': 13987, 'precious': 10009, 'loves': 7876, 'rose': 11112, 'defeated': 3848, 'punishment': 10305, 'inconceivable': 6778, 'revive': 10957, 'situation': 11860, 'messed': 8300, 'deliver': 3888, 'depression': 3942, 'loneliness': 7817, 'suicidal': 12601, 'humble': 6524, 'wholeheartedly': 14272, 'porn': 9920, 'addiction': 994, 'masturbation': 8131, 'lustful': 7931, 'transform': 13348, 'surpasses': 12671, 'understanding': 13620, 'midst': 8369, 'trials': 13389, 'tribulations': 13393, 'assurance': 1602, 'shedding': 11632, 'sinless': 11843, 'bribe': 2315, 'judge': 7248, 'universe': 13664, 'minute': 8419, 'hour': 6475, 'forgiveness': 5464, 'riches': 10989, 'fame': 5104, 'alive': 1196, 'pride': 10097, 'knowing': 7398, 'prideful': 10098, 'rebelled': 10561, 'forsook': 5483, 'wherever': 14242, 'sincerely': 11833, 'reveal': 10934, 'writing': 14460, 'jevo': 7171, 'kunta': 7437, 'kinte': 7373, 'contradicts': 3305, 'diomike993': 4107, 'njaa': 8929, 'aod': 1397, 'grabbing': 5963, 'wouldnt': 14439, 'risk': 11040, 'contradicting': 3303, '5ii': 623, 'discount': 4167, 'approve': 1445, 'celcius': 2668, 'degress': 3874, 'jensen': 7162, 'gifting': 5815, 'antony': 1383, 'leather': 7587, 'jacket': 7104, 'slowly': 11952, 'falling': 5096, 'insanity': 6885, 'leaning': 7578, 'catalog': 2641, 'hating': 6205, 'shopper': 11706, 'reasonable': 10557, 'somebody': 12071, '1million': 223, 'clasic': 2899, 'asia': 1557, 'relatable': 10696, 'jude': 7247, 'exact': 4891, 'andrey': 1316, 'makhotkin': 8023, 'certain': 2697, 'martin': 8105, 'prevention': 10081, 'broadcasting': 2340, 'bomb': 2179, 'shelter': 11647, 'swiping': 12735, 'spoiled': 12229, 'homie': 6420, 'among': 1288, 'alf': 1182, 'calculator': 2508, 'binder': 2047, 'cpus': 3452, 'october': 9112, 'november': 9021, 'headbanger': 6234, 'yuup': 14654, 'underpaid': 13613, 'hmmmm': 6392, 'danny': 3705, 'devito': 4021, 'brendan': 2308, '64': 658, '128gb': 107, 'freaking': 5539, 'mred': 8624, 'mc': 8186, 'minh': 8402, 'capping': 2573, 'muti': 8699, 'sam': 11261, 'miller': 8388, 'detail': 3986, 'smell': 11981, 'respeck': 10867, 'misha': 8427, 'combinationova': 3040, 'bsod': 2386, 'similarly': 11806, 'frequent': 5559, 'vrr': 14021, 'weaker': 14157, 'heating': 6267, 'deinstalation': 3875, 'louder': 7867, 'johnathan': 7205, 'afraid': 1085, 'fellow': 5206, 'culture': 3585, 'also_': 1240, '_also_': 825, 'sheep': 11634, 'payment': 9580, 'hmmm': 6390, 'ignore': 6634, 'deleted': 3884, 'reuploaded': 10929, 'project': 10178, 'fills': 5257, 'requires': 10825, 'bios': 2055, 'flash': 5339, 'talent': 12796, 'ms': 8635, 'cardboard': 2587, 'canon': 2556, 'r5': 10416, 'footage': 5430, 'yoir': 14615, 'inevitably': 6829, 'electricity': 4637, 'bill': 2037, 'youtu': 14633, 'ij7tnlf9': 6652, '5o': 628, 'boot': 2199, 'mess': 8297, 'negative': 8820, 'updated': 13733, 'tuesday': 13469, '27th': 356, 'delivery': 3893, 'shortened': 11715, '29th': 372, '8pm': 772, 'fever': 5219, 'fusion': 5634, 'exchange': 4914, 'configuration': 3210, 'extended': 5012, 'january': 7127, '8th': 775, 'holidays': 6406, 'covid': 3443, '70': 705, 'fcp': 5170, 'affinity': 1077, 'beach': 1901, 'ball': 1791, 'board': 2155, 'erase': 4806, 'degraded': 3870, 'push': 10325, 'function': 5612, 'reparable': 10778, 'minimum': 8410, 'specs': 12171, 'burj': 2442, 'mehma': 8255, 'jatt': 7135, 'uploading': 13746, 'edited': 4571, 'shadows': 11594, 'ipads': 7019, 'pressing': 10067, 'karma': 7299, 'xboxsx': 14517, 'coils': 3004, 'hum': 6521, 'send': 11509, 'lies': 7672, 'overclock': 9360, 'd3aiwzaa0yw': 3660, 'ab_channel': 857, 'mega64': 8251, 'l8mfkcyx31i': 7456, 'nintendoprime': 8919, 'ch3w3nnw2ta': 2708, 'reinonymous': 10687, 'cbma_e2etk0': 2661, 'devinup3': 4019, 'qzq60aopqxo': 10408, 'ken88': 7321, 'syu0': 12768, 'kqywx4': 7420, 'spawnwave': 12152, 'complains': 3143, 'indie': 6813, 'developed': 4007, 'subnautica': 12551, 'exploration': 4991, 'develop': 4006, 'sidenote': 11768, 'fiddling': 5227, 'options': 9272, 'figuring': 5247, 'meaaurement': 8200, 'pressure': 10068, 'equally': 4797, 'baffles': 1779, 'steal': 12373, 'calling': 2516, 'att': 1632, 'click': 2920, 'slight': 11933, 'taped': 12824, 'tysm': 13529, 'thetopturtles': 13049, '05': 9, 'allocation': 1212, 'skew': 11878, 'slack': 11912, 'demonstrated': 3912, 'juice': 7251, 'vinyls': 13947, 'dawn': 3750, 'sequel': 11534, 'string': 12493, 'bow': 2243, 'woth': 14435, 'firstly': 5305, 'delivered': 3890, 'young': 14625, 'breezy': 2306, 'suppose': 12647, 'tasking': 12840, 'granted': 5982, 'program': 10170, 'thumbnails': 13138, 'invaluable': 6990, '69nm': 690, 'daniel': 3701, 'ricciardio': 10980, 'shame': 11606, 'considered': 3250, 'reached': 10517, 'critical': 3527, 'juncture': 7260, 'enhancements': 4754, 'preffering': 10033, 'gained': 5664, 'reviewers': 10947, 'focused': 5402, 'revolutionising': 10962, 'philosophy': 9705, 'reflected': 10647, 'paying': 9579, 'overclocking': 9363, 'warranties': 14105, 'immense': 6703, 'values': 13828, 'progress': 10177, 'exclusively': 4924, 'productivity': 10155, 'consumption': 3280, 'largely': 7505, 'commentary': 3072, 'allocated': 1209, 'outlets': 9331, 'recognise': 10587, 'landscape': 7493, 'retail': 10899, 'patner': 9564, 'samples': 11276, 'secure': 11465, 'press': 10065, 'materials': 8140, 'won': 14373, 'tchange': 12859, 'revisiting': 10954, 'editorial': 4577, 'directionchange': 4119, 'brian': 2314, 'rizzo': 11048, 'director': 4122, 'pr': 9988, 'suggest': 12595, '75': 721, 'ryzen7': 11208, '1660ti': 173, 'favor': 5156, 'tldr': 13211, 'designer': 3963, 'simultaneously': 11826, 'prototyping': 10233, 'managing': 8042, 'projects': 10179, 'cloud': 2955, 'dropbox': 4426, 'cc': 2662, 'obliterated': 9075, 'simulate': 11820, 'undermine': 13611, 'expressing': 5007, 'experiences': 4971, 'thorough': 13090, 'viewers': 13930, 'erikask': 4809, 'advertised': 1055, 'steady': 12370, 'figure': 5245, 'links': 7727, 'recommendation': 10592, 'basing': 1861, 'synthetic': 12763, 'taxing': 12851, 'dependent': 3936, 'widely': 14292, 'radio': 10427, 'module': 8500, 'contradictory': 3304, 'european': 4848, 'miband': 8332, 'unstead': 13709, 'consumed': 3274, 'proven': 10237, 'worht': 14399, 'affect': 1070, 'conditions': 3201, 'represent': 10810, 'profit': 10166, 'davis': 3745, 'tumbnail': 13471, 'frankenstein': 5530, 'cuteee': 3629, 'impression': 6742, 'scorpion': 11388, 'namelesssnitchy': 8741, 'se2020': 11432, 'nowadays': 9025, 'indicate': 6807, '230': 315, 'algorithm': 1185, 'zoneoftech': 14697, 'mortal': 8577, 'kombat': 7412, 'logo': 7809, 'bastard': 1866, 'macpad': 7977, 'rod': 11083, 'herzstrom': 6323, 'kehloszn': 7317, 'heated': 6266, 'melts': 8262, 'noy': 9027, 'gaurd': 5724, 'birhtday': 2059, 'sven': 12695, 'lumia': 7923, 'replacements': 10792, 'recalled': 10570, 'boling': 2176, 'rock': 11074, 'pratheesh': 10001, 'spin': 12212, 'expansions': 4957, 'confusing': 3222, 'standalone': 12317, 'sequels': 11535, 'reports': 10806, 'substantial': 12562, 'lizard': 7766, 'boi': 2170, 'learning': 7583, 'deepfake': 3840, 'voices': 13992, 'persin': 9670, 'comented': 3051, 'warming': 14100, '400w': 502, '500w': 572, 'tapping': 12825, 'degrade': 3869, 'fail': 5074, 'proves': 10239, 'favourite': 5162, 'cast': 2632, 'overweight': 9402, 'knuckles': 7407, 'grim': 6020, 'reaper': 10554, 'gf': 5798, 'eb': 4546, 'hilarious': 6363, 'hearong': 6258, 'addons': 1002, 'gamechanger': 5676, 'gameplay': 5681, 'mock': 8478, '5ft': 615, 'wings': 14319, 'creek': 3501, 'vrchat': 14017, 'brief': 2323, 'matches': 8136, 'ard': 1479, '100gb': 29, 'render': 10762, 'legitscoper': 7609, 'owned': 9408, 'reflection': 10648, 'belief': 1962, 'thousand': 13099, '74': 719, 'extensions': 5014, 'pentacost': 9622, 'sent': 11521, 'architecture': 1476, 'ign': 6630, 'casual': 2636, 'stfu': 12393, 'buys': 2478, 'ish': 7046, '900': 780, 'hahahahaha': 6117, 'deserve': 3957, 'alfrredd': 1184, 'observed': 9079, 'fight': 5238, 'arena': 1484, '42': 511, 'pill': 9746, 'vertically': 13892, 'beloved': 1972, 'neck': 8807, 'glowner': 5872, 'british': 2335, 'american': 1281, 'm8': 7957, 'shadowdev': 11593, 'translates': 13358, 'heat': 6265, 'shows': 11740, 'compile': 3135, 'compression': 3168, 'bloodbath': 2134, 'dominates': 4300, '5000': 568, 'unexpected': 13634, 'ricciardo': 10981, 'infer': 6834, 'entry': 4780, 'middle': 8365, 'adds': 1006, 'throttling': 13114, 'customisation': 3615, 'stickers': 12397, 'stencil': 12386, 'psst': 10273, 'mrinal': 8627, 'murali': 8680, 'shiny': 11665, 'cho': 2827, 'choo': 2837, 'train': 13339, 'atleast': 1626, 'i5s': 6574, 'shitzozer': 11687, 'hungry': 6534, 'enterprise': 4769, 'meanwhile': 8212, 'sucking': 12579, '5600x': 598, '65w': 666, 'meaning': 8205, 'ifs': 6628, 'buts': 2466, 'shill': 11657, 'section': 11462, 'depending': 3937, 'logged': 7802, 'collection': 3016, 'narrator': 8759, 'chapter': 2735, 'debit': 3791, 'perfected': 9637, 'productive': 10154, 'activities': 967, 'thx': 13147, 'cracking': 3455, 'smile': 11984, 'wud': 14470, 'hulk': 6520, 'superman': 12635, 'stcikering': 12369, 'tat': 12845, 'whos': 14279, 'owners': 9410, 'liked': 7696, 'e3': 4514, 'modifications': 8495, 'underage': 13606, 'tos': 13278, 'started': 12335, 'trading': 13332, 'sum': 12610, 'walk': 14063, 'through': 13116, 'gain': 5663, 'retina': 10910, 'nonsense': 8966, 'marketer': 8090, 'nvidia': 9047, 'lauch': 7533, 'folks': 5410, 'specilially': 12170, 'hire': 6372, 'simulation': 11822, 'planned': 9792, 'plastidip': 9803, 'peel': 9608, 'skarner': 11871, 'ult': 13560, 'glitches': 5858, 'airlink': 1141, 'pcvr': 9594, 'cy': 3642, 'starkman': 12330, 'impressed': 6741, 'opinions': 9243, 'streamers': 12470, 'laughs': 7538, 'mobile': 8475, 'step': 12387, 'manufacturer': 8063, 'branding': 2276, 'tactical': 12781, 'mines': 8401, 'gap': 5697, 'apparent': 1412, 'lr': 7893, 'search': 11440, 'vcmcl9dhny4': 13851, 'greenskull': 6010, 'slowed': 11948, 'installing': 6905, 'syncing': 12758, 'icloud': 6592, 'stutter': 12530, '59': 609, 'lunar': 7925, 'offense': 9135, 'nada': 8721, 'chomping': 2834, 'seed': 11470, 'almond': 1223, 'tip': 13193, 'onlyfans': 9209, 'strand': 12450, 'super': 12624, 'clean': 2907, 'driving': 4421, 'nuts': 9045, 'discussion': 4176, 'suitable': 12604, 'bitcoin': 2068, '3q1o7hsvo62nsqu5s1qtmnasaqsowrgk4c': 482, 'tension': 12944, 'swinging': 12732, 'lifesaver': 7677, 'pwm': 10339, 'bcz': 1898, 'flickering': 5361, 'brightness': 2329, 'devkits': 4023, 'defending': 3855, 'capable': 2564, 'customization': 3621, 'patter': 9566, 'noctoua': 8938, 'lile': 7704, 'attractive': 1647, 'steals': 12375, 'guarantee': 6049, 'commercial': 3078, 'aqueous': 1461, 'front': 5579, 'greedy': 6007, 'bastards': 1867, 'yu': 14646, 'memorize': 8270, 'spaces': 12142, 'remembers': 10743, 'gg': 5800, 'how': 6484, 'zenfone': 14674, 'symmetrical': 12753, 'sd': 11425, 'slot': 11942, 'unrealated': 13696, '120hz': 98, 'aww': 1720, 'butthurt': 2471, 'insult': 6918, 'interface': 6953, 'changes': 2730, 'presented': 10058, 'oculusthanks': 9122, 'refused': 10662, 'designing': 3965, 'solidworks': 12060, 'cad': 2501, 'ansys': 1367, 'strker99': 12498, 'caring': 2604, 'rumors': 11176, 'feasible': 5177, 'drain': 4373, 'overhaul': 9370, 'upgrading': 13742, 'preferably': 10024, 'fabrizio': 5044, 'deni': 3917, 'trader': 13329, 'correctly': 3393, 'eheheh': 4621, 'girls': 5837, 'empty': 4704, 'hundred': 6529, 'radeon': 10425, 'detects': 3993, '6800': 684, 'papa': 9485, 'berkel': 1987, 'irreplaceable': 7041, 'cracks': 3458, 'phablet': 9695, 'utter': 13807, 'pigeon': 9739, 'intriguingly': 6979, 'muddle': 8643, 'microcephaly': 8349, 'bump': 2428, 'abaft': 859, 'gleaming': 5856, 'mayonnaise': 8172, 'simplistic': 11815, 'barber': 1830, 'juurikka': 7278, 'prores': 10214, 'mirror': 8422, 'interaction': 6941, 'illusion': 6672, 'reacting': 10520, 'edge': 4562, 'height': 6289, 'moved': 8609, 'spirits': 12217, 'trapped': 13367, 'mirrors': 8423, 'fortune': 5489, 'tellers': 12918, 'bowls': 2245, 'crystal': 3568, 'pointed': 9879, 'larger': 7506, 'furthest': 5632, 'location': 7791, 'visible': 13961, 'portion': 9929, 'epicchannel': 4791, 'moreno': 8566, 'codmw': 2995, 'but': 2464, 'exceed': 4903, 'unsafe': 13703, 'threshold': 13107, 'shut': 11750, 'declock': 3821, 'bitemark': 2069, 'safety': 11242, 'guide': 6064, 'beauty': 1919, 'listenable': 7745, 'wave': 14143, 'vast': 13847, 'hold': 6400, 'baaaack': 1743, 'menu': 8281, '09am': 15, 'foundrys': 5503, '2200': 309, 'aganist': 1095, 'tribe': 13392, 'leg': 7597, 'aba': 858, '8core': 754, 'throw': 13121, 'checking': 2774, 'tuned': 13473, 'heir': 6291, 'laugh': 7534, 'imo': 6712, 'ps2vr': 10253, 'story': 12444, 'def': 3844, 'overdoing': 9366, 'disappoint': 4137, 'selfing': 11495, 'goldenturtlegaming': 5912, 'slow': 11945, 'jedbullet': 7151, 'alphacoders': 1232, 'd2d': 3658, 'introduce': 6981, 'huawei': 6506, 'es': 4815, 'answering': 1365, 'fundamentals': 5619, 'secondly': 11456, 'risc': 11036, 'cisc': 2878, 'preferring': 10029, 'minority': 8414, 'hiring': 6374, 'quazzi': 10372, 'saver': 11327, 'there': 13040, 'race': 10419, 'gow': 5951, 'score': 11385, 'clickbait': 2921, 'authentic': 1663, 'physics': 9720, '10ghz': 59, 'perents': 9633, 'bothers': 2222, 'anoing': 1356, 'vinger': 13944, 'releases': 10709, 'annoying': 1353, 'ecosystem': 4556, 'players': 9818, 'noticable': 9003, 'tfw': 12985, 'eu': 4840, '37': 460, 'realise': 10533, 'remove': 10755, '3600': 449, '11400f': 75, '11600': 78, 'levitation': 7651, 'phenomenon': 9700, 'visually': 13971, 'generationally': 5763, 'faked': 5090, '000': 1, 'wasnt': 14118, 'trilled': 13406, 'slighty': 11936, 'sp02': 12137, 'sensore': 11519, '2019': 261, 'pumped': 10300, '45': 528, 'wich': 14287, 'similari': 11804, 'concerned': 3189, '03': 7, 'ground': 6030, 'exploded': 4986, 'trouble': 13427, 'bernard': 1988, 'madoff': 7987, 'suck': 12575, 'parent': 9501, 'result': 10894, 'ate': 1622, 'condition': 3200, 'lasting': 7517, 'franco': 5528, 'dosent': 4329, 'package': 9430, '80s': 744, 'bored': 2208, 'brought': 2360, 'dk2': 4246, 'hp': 6491, 'reverb': 10941, 'g2': 5651, 'fugly': 5599, 'realllyyyyy': 10547, 'favorites': 5158, 'favorite': 5157, 'points': 9882, 'swtich': 12744, 'dudes': 4456, 'purpose': 10318, 'floor': 5375, 'alcohol': 1168, 'beer': 1937, 'replacing': 10793, '2025': 267, 'jjbchem': 7190, 'mandated': 8045, 'piece': 9735, 'matched': 8133, 'learned': 7582, 'lesson': 7635, 'distance': 4214, 'ipados': 7018, 'fold': 5406, 'dream': 4395, 'wwdc21': 14477, 'exculsive': 4929, 'difficult': 4074, 'resistive': 10854, 'hyou': 6558, 'turning': 13487, 'failure': 5081, 'unproductive': 13691, 'tubers': 13465, 'entitlements': 4778, 'destop': 3978, 'crawl': 3472, 'assessment': 1584, 'assholes': 1588, 'amazed': 1263, 'lime': 7708, 'wheres': 14241, 'oke': 9169, 'boyfriend': 2253, 'ivan': 7093, 'freely': 5550, 'permission': 9664, 'balaram': 1789, 'chakrabarty': 2715, 'api': 1404, 'textures': 12981, 'waayyyy': 14039, 'plasti': 9799, 'coltyn': 3034, 'stone': 12425, 'lamontagne': 7490, 'cords': 3371, 'cord': 3368, 'litterly': 7756, 'favo': 5155, 'iphone': 7022, 'correction': 3392, 'caveman': 2658, 'coin': 3005, 'toss': 13279, 'topic': 13265, 'andrew': 1314, 'garfield': 5704, 'controlling': 3316, 'throttle': 13113, 'tic': 13152, 'tac': 12779, 'shape': 11610, 'safer': 11240, 'chair': 2714, 'impractical': 6739, 'addition': 997, 'micro': 8346, 'rechargeable': 10580, 'clogged': 2942, 'lint': 7730, 'causing': 2656, 'overheat': 9373, 'within': 14356, '360': 448, 'successors': 12573, 'xo': 14543, 'abxy': 891, 'universal': 13662, 'serves': 11552, 'drink': 4409, 'coaster': 2980, 'identifiable': 6606, 'ends': 4734, 'listening': 7747, 'downplaying': 4354, 'loyal': 7889, 'mistakes': 8443, 'upon': 13749, 'clout': 2958, 'description': 3955, 'kernel': 7327, 'weirdly': 14201, 'g14': 5650, 'backlash': 1757, 'webcams': 14176, 'organisation': 9285, 'indicating': 6809, 'webcam': 14175, 'fatigue': 5147, 'producitivty': 10151, 'starts': 12339, 'transforming': 13350, 'autobot': 1668, 'rami4470': 10452, 'dang': 3696, 'drawing': 4388, 'warframe': 14096, 'preferred': 10028, 'albert': 1165, 'malaysia': 8027, 'bezels': 2011, 'sleeves': 11925, 'clarification': 2895, 'regular': 10676, 'cheper': 2791, 'tuber': 13464, 'ship': 11667, 'countries': 3426, 'slayer': 11920, 'cores': 3375, 'mmdday': 8467, 'lmg': 7779, 'daughter': 3729, 'stole': 12418, 'rig': 11008, 'demanding': 3900, 'penalty': 9615, 'documentation': 4269, 'lookup': 7832, 'taste': 12842, 'soap': 12031, 'noises': 8949, 'crunchy': 3554, 'touched': 13287, 'crunching': 3553, 'optical': 9255, 'stabilization': 12298, 'breed': 2304, 'competition': 3129, 'publishers': 10289, 'winning': 14322, 'counted': 3420, 'rickroll': 10994, 'dug': 4460, 'happened': 6163, 'riceeater79': 10984, 'geekbench': 5745, 'scores': 11386, 'clock': 2939, '3800x': 465, 'nerd': 8839, 'savior': 11331, 'banish': 1815, 'tik': 13170, 'tok': 13232, 'porche': 9918, 'civic': 2883, 'yea': 14575, '4x': 565, 'following': 5415, 'detection': 3992, 'six': 11863, 'treadmill': 13378, 'cycling': 3649, 'rowing': 11136, 'elliptical': 4657, 'guyz': 6083, '5600m': 597, 'expand': 4953, 'cookie': 3339, 'rainbows': 10440, 'accetable': 912, 'who': 14268, 'broken': 2346, 'summed': 12612, 'capitalism': 2570, 'sp': 12136, 'lowering': 7883, 'validates': 13823, 'exporting': 4999, 'photo': 9709, 'mechanic': 8225, 'mcc': 8190, 'reminds': 10747, 'episode': 4793, 'theory': 13036, 'servers': 11551, 'nothin': 9001, '256': 337, 'bridge': 2322, 'ins': 6881, 'plasmaboo': 9798, 'tittle': 13207, 'godfall': 5893, 'sackboy': 11228, 'stands': 12325, 'multiplats': 8660, 'patili': 9563, 'soo': 12098, 'special': 12161, 'tap': 12822, 'improving': 6750, 'immerse': 6705, 'envy': 4788, 'cole': 3010, 'response': 10875, 'breaches': 2289, 'shady': 11595, 'cherbo': 2793, 'spec': 12160, 'practice': 9991, 'nx': 9050, 'yummy': 14649, 'postprandially': 9956, 'ferryboat': 5216, 'gasoline': 5712, 'sparrow': 12150, 'awwdorable': 1721, 'kaj': 7288, 'legged': 7605, 'stool': 12428, 'belgium': 1961, 'flexin': 5357, 'lightning': 7691, 'yongyea': 14617, 'riccardo': 10979, 'thumbed': 13136, 'flammableear59': 5337, 'lit': 7748, 'environment': 4785, 'movements': 8611, 'damage': 3677, 'genuine': 5781, 'spongeycraft': 12235, 'fortnite': 5487, 'mahmoud': 8002, 'elgendy': 4649, 'ikr': 6659, 'cartoon': 2623, '54': 589, 'vpn': 14011, 'walmart': 14078, 'l8r': 7457, 'nathan': 8767, 'thom': 13087, 'split': 12224, 'optional': 9271, 'install': 6903, 'zombies': 14695, 'mp': 8616, 'campaign': 2537, 'downloads': 4353, '44gb': 526, 'crackle': 3456, 'male': 8028, 'sensitivity': 11517, 'bcs': 1896, 'oclous': 9107, 'sid': 11762, 'entertainment': 4772, 'equine': 4799, 'event': 4857, 'photographer': 9711, 'chillin': 2812, 'browse': 2363, 'smoothly': 11998, 'petty': 9691, 'quests': 10382, 'neat': 8799, 'fill': 5254, 'firefox': 5295, 'necesarily': 8801, 'converstion': 3328, 'dota2': 4333, 'enjoyable': 4756, 'feet': 5199, 'underground': 13610, 'tools': 13258, 'received': 10574, 'peasants': 9603, 'subhuman': 12545, 'scum': 11423, 'ups': 13758, 'downs': 4355, 'regained': 10666, 'skips': 11893, 'gloves': 5869, 'userbenchmark': 13789, 'jolliff': 7216, 'shia': 11653, 'labeouf': 7462, 'driv3r': 4414, '10700k': 42, 'powered': 9974, 'amds': 1276, 'prossesers': 10218, 'finding': 5273, 'wipe': 14325, 'damm': 3682, 'styling': 12534, 'op': 9230, 'af': 1067, 'sketch': 11875, 'mood': 8550, '825': 746, 'greatest': 6002, 'novelty': 9020, 'anaerobic': 1296, 'burnt': 2451, 'calories': 2522, 'gifted': 5814, 'disappointed': 4138, 'amazefit': 1264, '68mm': 686, 'ipd': 7021, 'oversight': 9392, 'wider': 14295, 'adjustment': 1015, 'aporiac': 1409, 'alias': 1190, 'hater': 6201, 'roblox': 11068, 'xavier': 14504, 'childe': 2806, 'apc': 1401, 'regard': 10667, 'shrink': 11743, 'jokes': 7214, 'triggered': 13404, 'loony': 7835, 'expert': 4975, 'winner': 14321, 'gta': 6042, 'istatistica': 7064, 'portable': 9924, 'de': 3771, 'mainly': 8007, 'mail': 8004, 'kenobi': 7323, 'obese': 9067, 'risks': 11042, 'everyday': 4870, 'orderd': 9279, 'miffed': 8370, 'addressed': 1004, 'management': 8038, 'aftermarket': 1089, 'cripple': 3518, 'business': 2458, 'partners': 9527, 'target': 12829, 'currys': 3604, 'fnacdarty': 5398, 'tarw': 12836, 'bud': 2394, 'tax': 12848, 'terminal': 12952, 'readme': 10529, 'github': 5840, 'brothers': 2359, 'bard': 1833, 'innovations': 6873, 'regarding': 10668, 'examples': 4900, 'stereo': 12389, 'mono': 8535, 'brazil': 2284, 'daheck': 3674, 'hahahaha': 6116, 'ps6': 10262, 'confirmed': 3215, '600': 639, '700': 706, 'yurns': 14653, 'cubot': 3577, 'instance': 6907, 'tidal': 13156, 'shown': 11739, 'transferred': 13347, 'millions': 8390, 'stating': 12353, 'chungus': 2860, 'cat': 2639, 'yeets': 14585, 'peta': 9684, '29': 365, 'xdr': 14527, 'crying': 3562, 'corner': 3379, 'debate': 3786, 'hemijay': 6309, '718': 713, 'finds': 5275, 'careful': 2595, 'presenting': 10061, 'reupload': 10928, 'dates': 3728, 'ealier': 4520, 'tweet': 13501, 'istatistiva': 7065, 'supposedly': 12649, 'personalive': 9676, 'rated': 10486, 'hundreds': 6530, 'noticeable': 9005, 'slowdown': 11946, 'gadgets': 5660, 'surreal': 12678, 'brennon': 2310, 'stovall': 12447, 'lines': 7719, 'competitor': 3131, 'thankkkk': 12994, 'featsy': 5180, 'labs': 7464, 'urnanslawnmower': 13771, 'david': 3741, 'itstechb0i': 7087, 'sidequest': 11770, 'uprise': 13757, 'watt': 14141, 'electrical': 4636, 'utility': 13802, 'somanyscientists': 12068, 'recoded': 10586, 'paragraph': 9495, 'tf': 12982, '2160p': 305, 'segway': 11485, 'rog': 11088, 'hasnt': 6191, 'thot': 13093, 'harry': 6185, 'potter': 9962, 'existing': 4941, 'modelling': 8488, 'highlight': 6350, 'ahhhhhhhh': 1122, 'goku_slayer999': 5908, 'rip': 11028, 'jordan': 7224, 'boellaard': 2165, 'gimmick': 5830, 'capabilities': 2562, 'teachers': 12866, 'properly': 10208, 'taught': 12847, 'cringe': 3513, 'oodles': 9218, 'crappy': 3465, 'gas': 5711, 'tank': 12817, 'novice': 9022, 'coder': 2991, 'standing': 12322, 'semi': 11506, 'hr': 6493, 'teardown': 12873, 'loose': 7845, 'noise': 8948, 'poutine': 9969, 'coolest': 3347, 'colton': 3033, 'burger': 2439, 'pum': 10298, 'beaten': 1911, 'ludo': 7911, 'chipset': 2822, 'fpspammers': 5511, 'remote': 10750, 'sixasis': 11864, 'metroid': 8317, 'prime': 10102, 'worked': 14405, 'adriano': 1037, 'luis': 7916, 'fernandes': 5213, 'lawsuit': 7548, 'lemon': 7615, 'thetruekingofspace': 13050, 'virgin': 13949, 'speaks': 12158, 'volume': 14001, 'embarassing': 4673, 'nickthedude': 8899, 'hiped': 6370, 'zane': 14666, 'graves': 5995, 'suggestion': 12598, 'tear': 12872, 'shooting': 11704, 'hm': 6387, 'quotations': 10402, 'multitaksing': 8664, 'xdddddddddddddddddd': 14526, 'cries': 3509, 'warfare': 14095, 'ox': 9414, 'steamvr': 12378, 'discounts': 4169, 'beatsaber': 1914, 'permanent': 9661, 'sticking': 12399, 'easton': 4540, 'reese': 10636, 'ceo': 2694, 'disabilities': 4127, 'amano': 1258, 'ada': 979, 'lite': 7750, 'events': 4858, 'overpowered': 9387, 'promises': 10189, 'psvrs': 10278, 'brands': 2278, 'disliked': 4187, 'benefiting': 1982, 'amounts': 1290, 'mcmrokamir': 8196, 'related': 10697, 'fixes': 5321, 'coders': 2992, 'rin': 11022, 'playin': 9820, 'yessir': 14597, 'br': 2259, 'sensation': 11513, 'awsome': 1719, 'kun': 7436, 'sizes': 11868, 'transistors': 13352, 'lead': 7563, 'margin': 8080, 'parker': 9508, 'retired': 10912, 'dholocronkeeper': 4036, 'ric': 10977, 'somewhat': 12082, 'operation': 9239, 'automation': 1674, 'automations': 1675, 'baptised': 1826, 'athiest': 1623, 'bully': 2426, 'pricepoint': 10090, 'techno': 12892, 'tracklol': 13321, 'largest': 7507, 'contributors': 3309, 'revenue': 10940, 'growth': 6039, 'returning': 10926, 'oastler': 9062, 'consideration': 3249, 'greater': 6001, 'pin': 9748, 'buyers': 2476, 'peak': 9600, 'blows': 2142, 'ham': 6132, 'ohh': 9159, 'elias': 4650, 'sfeir': 11583, 'combined': 3042, 'rich': 10987, '2008': 242, 'carnivorous': 2612, 'dennis': 3922, 'ips': 7027, 'panel': 9472, 'contrast': 3306, '1m': 220, 'dynamic': 4510, 'static': 12352, '57': 600, 'nitpicking': 8924, 'gbps': 5734, 'refers': 10644, 'gigabits': 5818, 'gigabytes': 5820, 'ashygrounds': 1556, '60pfs': 650, 'bothered': 2220, 'moralis': 8560, 'drdaddy': 4392, 'forum': 5490, 'plethora': 9845, 'issues': 7060, 'describe': 3953, 'vastly': 13848, 'vacations': 13816, '8t': 773, 'gray': 5997, 'disassembles': 4144, 'uglier': 13543, 'clipclaps': 2934, 'text': 12978, 'boost': 2196, 'h5': 6096, 'lerjin': 7625, 'fission': 5311, 'clapcode': 2894, '3141318893': 423, 'actid': 957, '9fc1aabadc7c4ed7b392a9f188670d4d2011': 819, 'piorek4k': 9760, 'messenger': 8301, 'solved': 12066, 'gpus': 5959, 'microcenter': 8348, 'security': 11466, 'nokia': 8951, 'coverage': 3438, 'screams': 11402, '6600k': 668, 'manufactures': 8065, '12gb': 112, 'billy': 2042, 'abroad': 881, 'dashlane': 3720, 'cobwebs': 2984, 'goku': 5907, 'utilization': 13803, 'cached': 2498, 'pages': 9443, 'prefetch': 10031, 'frequently': 5560, 'physical': 9718, 'speeds': 12182, 'launching': 7544, 'mechanical': 8226, 'disks': 4185, 'prefetched': 10032, 'cleared': 2915, 'speech': 12178, 'beatspopo': 1915, 'shock': 11694, 'bytes': 2487, 'surprise': 12673, 'addressing': 1005, 'act': 956, 'schrinking': 11376, 'dies': 4061, 'bragging': 2263, 'rights': 11014, 'donuts': 4311, 'coke': 3007, 'removal': 10754, 'admitted': 1023, 'theyre': 13055, 'theyd': 13054, 'faang': 5041, 'assumptions': 1601, 'rapid': 10471, 'sur': 12655, 'binaries': 2046, 'complilation': 3157, 'chest': 2796, 'fighters': 5240, 'existent': 4940, 'christian': 2850, 'aguilar': 1112, 'bloody': 2137, 'idiots': 6613, 'genuinely': 5782, 'feed': 5191, 'occasions': 9100, '2700x': 353, 'died': 4058, 'defective': 3851, 'cnts': 2977, 'devil': 4016, '5700x': 603, 'education': 4584, 'faded': 5069, 'modifying': 8496, 'customizing': 3626, 'dumbass': 4464, 'ff7': 5221, 'proprietary': 10212, '980pro': 810, 'altered': 1242, 'carbon': 2584, 'lasted': 7516, 'seasons': 11449, 'whichever': 14246, 'sea': 11433, 'swimming': 12729, 'magical': 7991, 'bentley4': 1986, 'patch': 9552, 'specify': 12169, 'ali': 1189, 'umé': 13576, 'seven': 11571, 'panting': 9481, 'twist': 13508, 'ta': 12772, 'rpc': 11142, 'scissors': 11382, 'ladies': 7473, 'gentlemen': 5779, 'children': 2809, 'hook': 6438, 'reallly': 10546, 'pricing': 10095, 'xa2': 14498, 'anothony': 1360, 'yesssss': 14599, '10400f': 38, 'drivers': 4419, '5xx': 633, 'motherboard': 8589, 'nft': 8879, 'kartik': 7301, 'seth': 11560, 'advantages': 1049, 'hacking': 6104, 'offered': 9137, 'not': 8993, 'smashing': 11978, 'superior': 12633, 'extent': 5017, 'beyond': 2009, 'pretending': 10074, 'smoking': 11995, 'certainly': 2698, 'psychology': 10281, 'americans': 1283, 'animemark': 1340, 'pan': 9466, 'sbcontt': 11345, 'rocks': 11080, 'stability': 12297, 'x570': 14494, 'chipsets': 2823, 'rst': 11147, 'storemi': 12440, 'autocad': 1669, 'virtualization': 13953, 'toaster': 13221, 'greenscreen': 6009, 'earliest': 4525, '2022': 264, 'leaks': 7576, 'maintain': 8010, 'momentum': 8515, 'quiet': 10392, 'door': 4318, 'stops': 12433, 'teach': 12862, 'teached': 12864, 'bias': 2020, 'unobtanium': 13684, 'melt': 8259, 'pornhub': 9921, 'width': 14298, 'nanometre': 8753, 'error': 4812, 'query': 10375, 'saints': 11249, 'sinner': 11844, 'resetting': 10847, 'solve': 12065, 'replying': 10801, 'anuj': 1384, 'raut': 10493, 'safest': 11241, 'itsmeft24': 7086, 'proportions': 10211, 'blake': 2088, 'hemphill': 6310, 'vlogs': 13985, 'neighbor': 8829, 'extras': 5026, 'becuz': 1928, 'saturday': 11319, 'shelf': 11643, 'havent': 6213, 'smarter': 11970, '207': 274, 'replys': 10802, '208': 277, 'parallel': 9497, 'therapist': 13038, 'scary': 11365, 'hurt': 6542, 'nicest': 8888, 'efficient': 4601, 'expense': 4965, 'overworked': 9403, 'wears': 14168, 'extensive': 5015, 'reduce': 10627, 'extend': 5011, 'usability': 13775, 'durability': 4479, 'gains': 5666, 'shocked': 11695, 'tracks': 13323, 'ani': 1333, 'hajderaj': 6125, '9000': 781, 'combat': 3037, 'evolved': 4883, 'gauge': 5721, 'interviewing': 6972, 'gosh': 5942, 'touches': 13288, 'bomber': 2180, 'fyjmvggh': 5647, 'fallen': 5095, 'brushed': 2379, 'segues': 11483, 'roll': 11096, 'lttstore': 7899, 'absolute': 882, 'precision': 10012, '26usd': 350, 'according': 921, 'cleanmymac': 2912, 'illegal': 6666, 'authorized': 1666, 'sellers': 11499, 'items': 7078, 'promoted': 10192, 'uhh': 13548, 'devises': 4020, 'cheers': 2782, 'impactful': 6715, 'onnnnn': 9211, 'bruhhh': 2373, 'graph': 5986, 'matures': 8159, 'character': 2737, 'adrijan': 1038, 'maxing': 8166, '128': 105, 'wrist': 14455, 'recycled': 10610, 'bath': 1873, 'fork': 5468, 'overpay': 9385, 'avx512': 1703, 'jeez': 7154, 'flashlight': 5344, 'counts': 3428, 'arabic': 1466, 'restrict': 10889, 'include': 6768, 'evaluation': 4852, 'awwww': 1723, 'predictable': 10017, 'repetitious': 10786, 'godamn': 5892, 'glasses': 5855, 'spacer': 12141, 'faceid': 5051, 'ultra': 13565, 'wide': 14290, 'outdid': 9322, 'incentive': 6760, 'wire': 14329, 'doof': 4312, 'phineas': 9706, 'ferb': 5212, 'they': 13053, 'accidental': 914, 'shower': 11736, 'challenger': 2717, 'unpaintable': 13687, 'un': 13577, 'recreationtime': 10608, 'dependant': 3935, 'estimates': 4830, 'names': 8743, 'monkey': 8534, 'iqoo': 7031, 'pros': 10216, 'clips': 2937, '1k': 218, 'honour': 6434, 'fren': 5556, 'includes': 6770, 'separately': 11529, 'whilst': 14250, 'purposes': 10320, 'cringey': 3516, 'appropriate': 1443, 'unit': 13659, 'availability': 1679, 'status': 12363, 'indicates': 6808, 'delays': 3882, 'shanghai': 11609, 'gladly': 5851, 'dragging': 4370, 'itunes': 7088, 'direction': 4117, 'kuxk': 7441, 'gremlins': 6015, 'discovered': 4171, 'evicted': 4878, 'beautiful': 1917, '75hz': 722, 'tough': 13292, 'surfing': 12665, 'lumafusion': 7922, 'ultrabooks': 13567, 'earn': 4527, 'm1x': 7949, 'sensible': 11515, 'whoa': 14269, 'nearsighted': 8798, 'informed': 6851, 'wraps': 14449, 'il': 6662, 'rebrand': 10563, 'zoomed': 14700, 'xax': 14505, 'along': 1226, 'tends': 12937, 'ifixit': 6627, 'screws': 11410, 'flagship': 5331, 'dozens': 4362, 'closing': 2951, 'jezza19': 7173, 'individual': 6816, 'enjoyed': 4757, 'afterall': 1088, 'darker': 3711, 'breathtaking': 2302, 'ip': 7016, 'mutch': 8697, 'explaind': 4979, 'zh': 14684, 'dedication': 3834, 'sub': 12540, 'goal': 5882, 'kris': 7424, 'failed': 5077, 'chances': 2724, 'hyper': 6561, '3733mhz': 462, 'ddr4': 3769, 'thatonekid0203': 13006, 'mama': 8032, 'skins': 11887, 'chrismas': 2847, 'thru': 13126, '9999999999': 817, 'wraith': 14443, 'lads': 7475, 'lvl': 7935, 'beidou': 1956, 'depate': 3933, 'clup': 2966, 'rough': 11125, 'inclined': 6767, 'lung': 7928, 'mabye': 7961, 'slap': 11915, '3090': 411, 'filmed': 5259, 'telegram': 12912, 'messages': 8299, 'workload': 14411, 'soldered': 12055, 'wild': 14305, 'modification': 8494, 'algorithms': 1186, 'implementing': 6726, 'nailed': 8731, 'teraflops': 12949, 'clockspeed': 2941, 'alexandre': 1179, 'forgets': 5458, 'duluth': 4462, 'georgia': 5788, 'selection': 11492, 'freak': 5536, 'paradise': 9493, 'overtime': 9398, '95': 797, 'capacity': 2567, 'significantly': 11785, 'swappable': 12705, 'now': 9024, 'once': 9198, 'rifts': 11007, 'skyrim': 11908, '1080p': 47, 'challenging': 2719, 'slightest': 11934, 'ae': 1063, 'deepfaked': 3841, 'revolve': 10963, 'retain': 10901, 'devon': 4025, 'moot': 8556, 'commented': 3073, 'billions': 2040, 'squad': 12273, 'asap': 1546, 'awhile': 1714, 'filthy': 5266, '56': 595, 'pyropristine': 10344, 'opened': 9232, 'understatement': 13623, 'zombie': 14694, 'educational': 4585, 'interactive': 6943, 'tai': 12785, 'chi': 2799, 'karate': 7295, 'wrestling': 14453, 'travel': 13372, 'fly': 5396, 'airplane': 1142, 'helicopter': 6294, 'cramped': 3460, 'swung': 12745, 'warn': 14102, 'fastest': 5142, 'swing': 12731, 'sabre': 11226, 'attacking': 1640, 'fashion': 5136, 'inversion': 6997, 'immediate': 6701, 'socially': 12036, 'unacceptable': 13579, 'verbiage': 13878, 'interact': 6940, 'pause': 9573, 'pushes': 10327, 'tilt': 13174, 'cheeks': 2779, 'constant': 3264, 'dot': 4331, 'upper': 13752, 'exit': 4943, 'indicator': 6812, 'arms': 1512, 'participate': 9519, 'showers': 11737, 'woman': 14371, 'gi': 5808, 'hitters': 6384, 'noone': 8971, 'memo': 8269, 'utilizing': 13806, 'pompous': 9900, 'ingratiating': 6861, '9900k': 814, 'twin': 13506, 'towers': 13304, 'ahyuk': 1127, 'nights': 8911, 'plenty': 9844, '69': 687, 'seventh': 11573, 'tempted': 12930, 'restored': 10887, 'nanometers': 8752, 'lengths': 7617, 'lenny108': 7618, '6300': 656, 'blazing': 2098, 'assumed': 1598, 'ilian': 6663, 'petit': 9689, 'gravity': 5996, 'falls': 5098, 'manic': 8049, 'priceless': 10089, 'customized': 3624, 'rightful': 11012, 'blocking': 2128, 'yess': 14596, 'generetion': 5765, 'dilshad': 4094, 'shormee': 11709, 'dejavu': 3877, 'remarkable': 10734, 'officially': 9145, 'crowded': 3547, 'braindead': 2267, 'preference': 10026, 'shitting': 11683, 'wonderful': 14376, 'chelsea': 2789, 'highlights': 6353, 'gutted': 6079, 'sheet': 11639, 'aluminum': 1251, 'vertical': 13891, 'mount': 8598, 'flex': 5354, 'atx': 1649, 'supply': 12641, 'retention': 10908, 'completed': 3148, 'proably': 10125, 'jar100': 7131, 'yong': 14616, 'embargoes': 4677, 'bogdanoff': 2166, 'coffeeguy': 2999, '66': 667, 'passionate': 9542, 'atari': 1619, 'journey': 7232, 'inspiring': 6898, 'born': 2212, 'majorly': 8014, 'adults': 1043, 'disbelief': 4150, 'dad': 3669, 'elder': 4633, 'platforming': 9809, 'practise': 9994, 'squeak': 12277, 'curb': 3593, 'stomp': 12422, 'underneath': 13612, 'scuff': 11421, 'functionality': 5614, 'dielut': 4060, 'yahon': 14562, 'choosing': 2840, 'huami': 6505, 'bip': 2056, 'lifting': 7683, 'bandages': 1805, 'records': 10603, 'firmware': 5302, 'suffer': 12588, 'surface': 12662, 'passively': 9544, 'cooled': 3344, 'giant': 5809, 'anodized': 1355, 'syncs': 12759, 'waist': 14051, 'trackers': 13319, 'russia': 11189, 'mas': 8110, 'asome': 1573, 'wirelesss': 14334, 'saddly': 11234, 'kick': 7341, 'halloween': 6129, 'matlab': 8146, 'rani': 10463, 'grind': 6022, 'jhansolo': 7175, 'outer': 9327, 'wrap': 14445, 'reeeeee': 10634, 'censoring': 2683, 'tiddies': 13157, 'damnz': 3689, 'yr': 14640, 'mil': 8377, 'no': 8935, 'maya': 8169, 'shaming': 11607, 'knowledgeable': 7401, 'communicator': 3086, 'guardians': 6053, 'blurred': 2152, 'horizontal': 6450, 'jean': 7150, 'dupont123': 4477, 'evidence': 4879, 'retry': 10923, 'blast': 2096, 'brighten': 2326, 'yeh': 14587, 'strava': 12463, 'dying': 4507, 'shivenz': 11688, 'cuh': 3584, 'pickup': 9728, 'sinners': 11845, 'gamerz': 5687, 'particularly': 9522, 'cutting': 3637, 'aptic': 1454, 'uma': 13570, 'number': 9040, 'irrelevant': 7039, 'alee': 1171, 'resuming': 10898, 'justify': 7275, 'resources': 10866, 'equals': 4798, 'predecessors': 10015, 'dario': 3709, 'lool': 7833, 'advanced': 1045, 'itll': 7083, 'drift': 4405, 'competitive': 3130, 'gayid': 5728, '3x': 489, 'promoting': 10194, 'lifespan': 7679, 'occasionally': 9099, 'dylaila': 4508, 'pain': 9447, 'leaderships': 7565, 'mbas': 8180, 'faith': 5087, 'iot': 7015, 'offline': 9146, 'matched_player9k': 8134, 'independent': 6800, 'url': 13769, 'verse': 13887, 'blown': 2141, 'flammable': 5336, 'dylan': 4509, 'smith': 11988, 'peeling': 9610, 'ikrrr': 6661, 'drama': 4378, 'ofc': 9131, 'sarfaraz': 11303, 'yezdani': 14604, 'immersive': 6707, 'gow2': 5952, 'axe': 1724, 'satisfying': 11313, 'lazy': 7558, 'dibs': 4046, 'interview': 6971, 'graphical': 5988, 'prowess': 10245, 'pipeline': 9761, 'rushed': 11187, 'particle': 9520, 'ratchet': 10484, 'clank': 2892, 'educated': 4583, 'hawaii': 6215, 'rubbish': 11157, 'reserving': 10844, '6gigs': 699, 'purge': 10314, 'command': 3065, 'smokes': 11992, 'healthy': 6252, 'kidney': 7350, 'brilliant': 2330, 'hatchetfam': 6197, 'diplay': 4111, 'sm64': 11962, 'ocarina': 9097, 'truelly': 13440, 'anthonycut': 1374, 'sentence': 11522, 'she': 11631, 'loe': 7798, 'benefit': 1981, 'thankfully': 12993, 'jealousy': 7149, 'bird': 2057, 'delay': 3879, 'reluctantly': 10726, 'spinning': 12214, 'mrcrackshot': 8623, 'beefed': 1935, 'scammers': 11358, 'anth': 1370, 'steve': 12391, 'habit': 6098, 'burying': 2455, 'shane': 11608, 'mullikin': 8649, 'lighter': 7688, 'ide': 6598, 'docker': 4264, 'preview': 10083, 'esp': 4819, 'march': 8078, 'cacheing': 2499, 'occurring': 9102, 'augment': 1654, 'argues': 1493, 'possibly': 9948, 'rewrites': 10969, 'detriment': 4000, 'onboard': 9197, 'directed': 4116, '360p': 455, 'egypt': 4617, 'sm': 11961, 'gran': 5976, 'turismo': 13480, 'flat': 5345, 'penetrated': 9618, 'jose': 7225, 'pays': 9583, 'loser': 7856, 'nm': 8933, 'samsungs': 11278, '9n': 821, 'crush': 3555, 'secrets': 11460, 'yesss': 14598, 'blitz': 2121, 'creator': 3493, 'difficulty': 4076, 'levels': 7646, 'traversal': 13374, 'crumble': 3551, 'shrinks': 11744, 'dear': 3783, 'moments': 8514, 'friking': 5575, 'develops': 4013, 'atm': 1627, 'organs': 9287, 'gaowgle': 5696, 'ed': 4558, 'homies': 6421, 'crossbuy': 3539, 'someones': 12077, 'artist': 1540, 'spaceowl': 12140, 'yup': 14652, '8physical': 771, 'vcv': 13852, 'rack': 10422, '6gb': 697, 'possibilities': 9944, 'lbs': 7559, 'nanometer': 8751, 'inter': 6939, 'desert': 3956, 'kingphiltheill': 7372, 'wasteful': 14121, 'reliability': 10713, 'worshipping': 14427, 'speakers': 12156, 'av': 1677, 'amplifier': 1292, 'layer': 7552, 'instructions': 6915, 'assembly': 1582, 'ashwin': 1555, 'alagiri': 1159, 'rajan': 10447, 'handful': 6142, 'throughout': 13117, 'italian': 7069, 'customisable': 3614, 'or': 9274, 'backwords': 1769, 'unavailable': 13581, 'factor': 5062, 'sophie': 12107, 'randolph': 10459, 'ik': 6656, 'speechless': 12179, 'nose': 8990, 'reuse': 10930, 'depressed': 3940, 'quieter': 10393, '537': 588, '09': 14, 'remain': 10729, 'otherside': 9310, 'soy': 12134, 'bertram': 1990, 'raven': 10495, 'hah': 6112, 'breaker': 2293, 'fidelity': 5228, 'airport': 1146, 'announce': 1346, 'deals': 3781, 'mythical': 8713, 'san': 11281, 'andreas': 1312, 'bugsnax': 2409, 'unsubscribing': 13712, 'disliking': 4189, 'uout': 13729, 'property': 10209, 'becomes': 1924, 'profiting': 10168, 'affiliated': 1075, 'stopping': 12432, 'broo': 2350, 'bean': 1903, 'spare': 12149, 'eats': 4545, 'can': 2540, 'happily': 6168, 'fye': 5645, 'hella': 6297, '4k120': 556, '4k30': 557, 'zone': 14696, 'ts_diamond': 13455, 'subject': 12546, 'interests': 6952, 'summarize': 12611, 'googletranslate': 5929, 'france': 5522, 'anthonys': 1376, 'mbps': 8185, 'configs': 3209, 'unicorn': 13648, 'puked': 10293, 'tets': 12974, 'owe': 9406, 'coffee': 2998, 'locate': 7790, 'author': 1665, 'ruin': 11163, 'picks': 9727, 'raise': 10442, 'wake': 14061, 'dolby': 4290, 'atmos': 1628, 'analog': 1298, 'tlou2': 13212, 'achieves': 944, 'visuals': 13972, 'environments': 4787, 'freedom': 5546, 'singleton': 11840, 'duck': 4448, 'supossed': 12638, 'shun': 11748, 'plague': 9786, 'hade': 6107, 'additional': 998, 'holyshhhh': 6412, 'ardiyanta': 1480, 'clicking': 2925, 'rick': 10993, 'astley': 1605, 'gif': 5811, '30fps': 414, 'richest': 10990, 'cirlce': 2876, 'alternate': 1243, 'makers': 8020, 'essay': 4822, 'bash': 1853, 'cons': 3240, 'firevity': 5298, 'carried': 2614, 'allocate': 1208, 'tweaker': 13498, 'surround': 12679, 'facing': 5060, 'quarantines': 10367, 'venial': 13868, 'deff': 3857, 'scott': 11390, 'pilgrim': 9745, 'mortals': 8578, 'coollll': 3349, 'customizations': 3622, 'sets': 11562, 'notised': 9015, 'fisrt': 5310, 'somthing': 12085, 'lashes': 7512, 'mounting': 8601, 'stoked': 12417, 'texarmageddon': 12976, 'hitman': 6381, 'resident': 10849, 'astrobot': 1609, 'star': 12326, 'squadrons': 12274, 'tier': 13161, 'analogy': 1300, 'fitbit': 5314, 'outdoors': 9326, 'indoors': 6819, 'competing': 3128, 'avatar': 1684, '5600': 596, '5800': 607, 'sky': 11901, 'marbles': 8075, 'granturismo': 5983, 'driveclub': 4416, 'asim': 1563, 'shaiban': 11597, 'saudi': 11321, 'arabia': 1465, 'helping': 6307, 'concerns': 3191, '966537403020': 802, 'asimshaiban': 1564, 'rocketmail': 11076, 'walks': 14068, 'performed': 9648, 'searchable': 11441, 'sore': 12109, 'yesturday': 14602, 'whan': 14222, 'movement': 8610, 'burn': 2444, 'dimming': 4101, 'zones': 14698, 'vizio': 13981, 'prefers': 10030, 'algorythm': 1188, 'do3s': 4259, 'hussle': 6547, 'multiplat': 8658, 'cannibalize': 2553, 'superhero': 12632, 'entirely': 4776, 'webs': 14180, 'fam': 5103, 'pentium': 9623, 'daan': 3664, 'holland': 6407, 'outdated': 9321, 'pcmr': 9592, 'originals': 9296, 'davecord': 3736, 'members': 8264, 'rockstar': 11081, 'lifecycle': 7675, 'alejandro': 1172, 'álvarez': 14711, 'improvements': 6748, 'peasant': 9602, 'controler': 3311, 'positioned': 9939, 'hoang': 6394, 'radeom': 10424, 'pluggd': 9849, 'piccloku': 9723, 'minor': 8413, 'essentially': 4824, 'parzival2076': 9532, 'iam': 6579, 'therapy': 13039, 'hindrance': 6367, 'consuming': 3279, 'basket': 1863, 'boomers': 2195, 'generating': 5761, 'a7riv': 842, '53': 585, 'importing': 6735, 'uhs': 13552, 'ii': 6644, 'tif': 13163, '3rds': 484, 'jpg': 7239, 'mildly': 8378, 'affected': 1071, 'res': 10829, 'instantaneously': 6910, 'dork': 4326, 'oxigen': 9415, 'august': 1655, 'forster': 5484, 'gaspirilla': 5714, 'rofl': 11087, 'plusultra': 9858, 'disgusting': 4180, 'iirc': 6650, 'meetings': 8248, 'electricnick': 4638, 'extreme': 5027, 'workloads': 14412, 'does': 4277, 'iron': 7037, 'fo': 5400, 'abundance': 887, 'scientific': 11380, 'engineer': 4745, 'math': 8142, 'lasers': 7511, '532nm': 587, 'quicm': 10391, 'kills': 7358, 'aios': 1137, 'underutilized': 13627, 'hills': 6365, 'putumee135': 10336, '1200': 95, 'sanket': 11293, 'baviskar': 1888, 'yah': 14561, 'bright': 2325, 'italy': 7070, 'kaby': 7282, 'karen': 7296, 'cardinal': 2589, 'moana': 8471, 'doomed': 4314, 'aculus': 977, 'grades': 5970, 'precise': 10010, 'overhyped': 9375, 'underrated': 13616, 'xthot': 14554, 'hehehe': 6286, 'moves': 8612, 'sweater': 12714, 'illness': 6670, 'arc': 1468, 'nemisis': 8834, 'thermal': 13044, 'paste': 9549, 'foljs': 5409, 'sat': 11309, 'm3': 7954, '1249': 102, 'pleassssssssssssssssssseeeeeeeeeee': 9840, 'marc': 8076, 'rodet': 11084, 'contents': 3293, 'reflect': 10646, 'february': 5188, 'destruction': 3984, 'thumbsticks': 13140, 'l3': 7455, 'r3': 10412, 'placed': 9781, 'sprinting': 12262, 'attachment': 1637, 'sprint': 12261, 'duelsense': 4459, 'ahh': 1118, 'recorded': 10601, 'kudos': 7434, 'intend': 6930, 'imports': 6736, 'duh': 4461, 'lens': 7620, 'tripped': 13415, 'ricardo': 10978, 'mclaren': 8194, 'en': 4713, 'stalker': 12312, 'anthonydoes': 1375, 'veterans': 13896, 'school': 11375, 'debating': 3787, 'camme': 2534, 'forcing': 5442, 'noobgodbrendi': 8970, 'sharing': 11618, 'pausing': 9574, 'pindrop': 9752, 'quad': 10358, 'strength': 12475, 'xgd5layer': 14533, 'limitations': 7711, 'severely': 11577, 'downgraded': 4347, 'sacrificing': 11231, 'figth': 5244, 'bouta': 2240, 'samgsun': 11268, 'washing': 14116, 'lives': 7762, '30xx': 421, 'applying': 1434, 'chasing': 2755, 'alexander': 1178, 'weps': 14210, 'athlon64': 1625, '3st': 486, 'animal': 1334, 'crossing': 3543, 'study': 12519, 'cs': 3569, 'semesters': 11505, 'haskell': 6190, 'produced': 10147, 'loop': 7843, 'indefinitely': 6796, 'leaking': 7575, 'unresponsive': 13700, '40gb': 504, '8gig': 761, 'microsofts': 8360, 'faiber': 5073, 'cuffed': 3582, 'threadripper': 13103, 'xeon': 14530, 'quadro': 10359, 'logitech': 7808, 'downloading': 4352, 'viewing': 13931, '447mb': 525, 'pdf': 9595, 'drawings': 4389, '4pmet': 560, 'stamp': 12314, 'slaps': 11918, 'boredom': 2209, 'pss': 10269, 'uhd': 13547, 'sdv': 11429, 'coutry': 3436, 'site': 11853, 'aditional': 1011, 'pairing': 9459, 'mechanism': 8228, 'seemless': 11477, 'computational': 3176, 'aaaaallllll': 850, 'dissapointment': 4210, 'tempo': 12925, 'immunologically': 6711, 'broadly': 2342, 'label': 7460, 'barring': 1847, 'imminent': 6708, 'protest': 10225, 'savory': 11333, 'spotless': 12247, 'seman': 11503, 'suyash': 12694, 'sherwal': 11651, 'suprised': 12653, 'frontend': 5580, 'backend': 1752, 'skype': 11906, 'suprisingly': 12654, 'outperforms': 9337, 'clause': 2905, 'politics': 9895, 'stressful': 12479, 'cringy': 3517, 'jockey': 7196, '720p': 717, 'windowed': 14316, 'janky': 7126, 'natively': 8774, 'exaggeration': 4896, 'gopro': 5938, 'thareal': 13001, 'clo': 2938, 'count': 3418, 'dor': 4323, 'dutty': 4493, 'hike': 6360, 'steep': 12381, 'morbidly': 8564, 'dealt': 3782, 'calorie': 2521, 'dense': 3926, 'foods': 5421, 'carbs': 2585, 'fats': 5148, 'skinny': 11886, 'individuals': 6817, 'underestimate': 13609, 'scale': 11348, 'successful': 12571, 'mobility': 8476, 'encouraged': 4726, 'ignoring': 6638, 'becuse': 1927, 'notifications': 9011, 'rows': 11137, 'avoiding': 1697, 'reseted': 10846, 'password': 9546, 'mocking': 8479, 'cuteeee': 3630, 'massinirev': 8118, 'pci': 9588, 'lanes': 7496, 'overheads': 9372, 'inefficient': 6823, 'blocks': 2129, 'shared': 11615, 'pool': 9904, 'archetrctures': 1473, 'article': 1538, 'anand': 1305, 'anandtech': 1306, '16252': 168, 'measured': 8214, '60gb': 648, 'pcie4': 9590, 'x16': 14486, 'firestorm': 5297, 'pcie': 9589, 'fincal': 5270, 'terabyte': 12948, 'heartbeat': 6261, 'gangsta': 5694, 'only': 9208, '5512': 594, 'independantly': 6799, 'continuously': 3300, 'limbs': 7707, 'biological': 2053, 'sister': 11850, 'insanely': 6884, 'q6600': 10348, 'workhorse': 14409, 'agrees': 1111, 'rediculous': 10621, 'covered': 3439, 'follow': 5412, 'deshevled': 3960, 'scene': 11369, 'finish': 5285, 'prince': 10104, 'jarwal': 7134, 'freesync': 5552, 'tlou3': 13213, 'dp': 4363, 'willard': 14308, 'carroll': 2616, 'jr': 7240, 'encoding': 4724, 'eight': 4626, 'albeit': 1164, 'limitation': 7710, 'faces': 5056, 'escape': 4816, 'anticipation': 1379, 'xmoleen': 14542, 'xmo': 14541, 'icore': 6595, 'toe': 13227, 'jisy': 7188, 'sarcasm': 11301, 'arrogant': 1527, 'toast': 13220, 'dora': 4324, 'explora': 4990, 'parrot': 9512, 'blueberry': 2146, 'ver': 13874, 'arrangement': 1519, 'psn': 10265, 'treat': 13380, 'addicted': 992, 'caroline': 2613, 'emma': 4690, 'traders': 13330, 'strategies': 12461, 'jeff': 7155, 'chavez': 2759, 'karlson': 7298, 'outnin': 9334, '9546': 799, 'oi': 9161, 'cal': 2503, '7th': 735, '20th': 297, 'carter': 2622, 'schmidt': 11374, 'riding': 11004, 'motorcycle': 8595, 'mg': 8323, 'mega': 8250, 'phenomenal': 9699, 'ht': 6497, '2003': 239, 'screens': 11405, 'microscope': 8355, 'troy': 13432, 'jackson': 7107, 'vrpirates': 14019, 'server': 11550, 'sx': 12746, 'modes': 8492, '2077': 276, 'xbsx': 14518, 'partition': 9524, 'deteriorate': 3994, 'bloxlocked': 2143, 'headshot': 6245, 'stabbed': 12295, 'woooooooaaa': 14389, 'pew': 9692, 'gaaaaa': 5654, 'insomniac': 6894, 'basshead': 1865, 'finished': 5286, 'asznee': 1616, 'hitme': 6382, 'faceplate': 5054, 'tbf': 12856, 'airing': 1140, 'eliminated': 4652, 'i3': 6572, 'increasing': 6788, 'trashed': 13370, 'boutique': 2241, 'vendors': 13867, 'followed': 5413, 'suit': 12603, 'inspire': 6896, 'across': 955, 'pokemon': 9884, 'thnx': 13084, 'cheems': 2781, 'roadshitter': 11059, 'theroughbread2': 13046, 'scared': 11363, 'playspace': 9826, 'guardian': 6052, 'caused': 2654, 'og': 9155, 'deleting': 3885, 'bootcamp': 2200, 'vmware': 13988, 'versus': 13890, 'emulating': 4708, 'bi': 2019, 'yeeeeessssss': 14583, 'cody': 2996, 'luttrell': 7933, '30hrs': 416, 'hybrid': 6553, 'idc': 6597, 'icaruskid': 6584, 'earphones': 4530, 'headphones': 6239, '293': 367, 'flying': 5397, 'tainted': 12789, 'outcome': 9320, 'favourable': 5161, 'persona': 9672, 'rooting': 11110, 'success': 12570, 'a7s3': 843, 'xavc': 14502, 'hs': 6496, 'bigging': 2030, 'aussie': 1657, 'krogy': 7429, 'sentiment': 11524, 'draws': 4391, '293w': 369, 'oodle': 9217, 'protocol': 10229, 'brainer': 2268, 'frick': 5563, 'springrhythm': 12260, 'ihave': 6642, 'boycotted': 2252, 'irritating': 7042, 'ookkk': 9222, 'flaws': 5349, 'thicker': 13058, 'headphone': 6238, 'fingerprint': 5281, 'cellular': 2678, 'afforded': 1082, 'fi': 5225, 'ipod': 7025, 'se': 11430, 'appalling': 1411, 'frustrating': 5584, 'saul': 11322, 'noe': 8943, 'bee': 1931, 'wiser': 14341, '42mp': 518, 'tiffs': 13164, 'jpegs': 7238, 'dng': 4257, 'ditto': 4231, 'smoke': 11990, 'loud': 7866, 'voiced': 13991, 'commentaries': 3071, 'onscreen': 9212, 'processed': 10138, 'formats': 5475, 'material': 8139, 'rehashed': 10681, 'ewant': 4886, 'blackmagic': 2082, 'import': 6730, 'silence': 11789, 'imho': 6696, 'subscribers': 12558, 'necessarily': 8803, 'jolly': 7217, 'ha': 6097, 'disadvantage': 4131, 'population': 9917, 'slew': 11927, 'nut': 9043, 'bolt': 2178, 'swaps': 12708, 'shortening': 11716, 'wirecast': 14330, 'ecamm': 4550, 'bed': 1929, 'alanah': 1160, 'pierce': 9737, 'demonstrating': 3914, 'multiplatform': 8659, 'denominator': 3924, 'lallemand': 7486, 'matric': 8148, 'underpowered': 13615, 'deny': 3929, 'haylou': 6220, 'ls05': 7895, 'mich': 8341, 'stylish': 12536, 'redesign': 10620, 'university': 13665, 'slowing': 11951, 'rare': 10476, 'sight': 11776, 'cheese': 2783, 'playground': 9819, 'websites': 14182, 'sword': 12742, 'suffering': 12590, 'garret': 5707, 'gn': 5878, 'buried': 2441, 'mcable': 8187, 'leader': 7564, 'climate': 2929, 'avoid': 1694, 'ac': 893, '11600k': 79, 'virtue': 13955, 'incongito': 6779, 'smythe': 12004, 'a14': 831, '1686': 174, '6995': 688, 'bionic': 2054, '1585': 161, '4212': 514, '2783': 355, 'a15': 832, 'mums': 8675, 'greatly': 6003, 'kupple': 7439, 'boycott': 2251, 'ideally': 6601, 'presumably': 10070, 'ughhhhh': 13542, 'shy': 11755, 'sttap': 12510, 'tight': 13166, 'capacitive': 2566, 'intelectual': 6925, 'dialect': 4040, 'desperate': 3972, 'supreme': 12652, 'daring': 3708, 'fifth': 5234, 'bruhh': 2372, 'knee': 7388, 'pieces': 9736, 'vote': 14004, 'minimalism': 8406, 'pinebook': 9753, '_lamp': 827, 'nickname': 8896, 'pcmasterrace': 9591, 'stationuk': 12357, 'reddit': 10616, 'dicks': 4049, 'unusable': 13725, 'sluggish': 11955, 'electron': 4639, 'implament': 6721, 'maps': 8071, 'curecoin': 3595, 'mining': 8411, 'shits': 11680, 'catching': 2646, 'revised': 10951, 'fluency': 5386, 'plot': 9846, 'camouflaged': 2535, 'floatplane': 5372, 'reallllllllly': 10545, 'dmitry': 4253, 'matora': 8147, 'overloaded': 9378, 'diego': 4059, 'velazquez': 13863, 'contracts': 3302, 'amin': 1284, 'momtaheni': 8518, '220': 308, '7k': 733, 'titntin': 13206, 'reply': 10800, 'upp': 13750, 'wholesome': 14273, 'invisible': 7006, 'surprising': 12676, 'troll': 13421, 'documenting': 4271, 'tommow': 13240, 'spitting': 12221, 'framerates': 5517, 'wayyy': 14149, 'downside': 4359, 'soooooo': 12104, 'friggin': 5574, 'skynut': 11905, 'skynet': 11904, 'brighter': 2327, '303th': 406, 'jayden': 7141, 'ng': 8880, '8k60fps': 768, '6ghz': 698, 'thekraken8him': 13024, 'timed': 13178, 'deathloop': 3785, 'dani': 3700, 'appearance': 1416, 'bricked': 2319, 'woohoo': 14386, 'asklightningstrike': 1568, 'derek': 3946, 'turnquist': 13488, 'pronounce': 10199, 'eve': 4855, 'distortion': 4221, 'boutta': 2242, 'wil': 14304, 'magzy3741': 7999, 'derveloper': 3950, 'gardian': 5703, 'shapr3d': 11613, 'subjective': 12547, 'worthwhile': 14432, 'reflects': 10651, 'bluish': 2149, 'hues': 6511, 'aah': 852, 'throught': 13119, 'sec': 11452, 'reminder': 10746, 'sibling': 11758, 'instantly': 6911, 'jus': 7268, 'intellij': 6927, 'jetbrains': 7170, 'rossetta': 11119, 'indexes': 6803, 'indexing': 6804, 'packages': 9431, 'peformance': 9612, 'whahaha': 14221, 'hanging': 6155, 'net': 8850, 'ceiling': 2667, 'drouet': 4430, 'verified': 13880, 'cerny': 2696, '240p': 324, 'reflections': 10649, 'jace': 7100, 'zhu': 14688, 'jonathan': 7221, 'pollock': 9896, 'qith': 10354, 'performanxe': 9647, 'city': 2882, 'n0': 8715, 'jguvhbek': 7174, 'cannibalizing': 2554, 'wet': 14215, 'wer': 14211, 'illegally': 6667, 'licensing': 7667, 'unrelated': 13698, 'mountain': 8599, 'everest': 4863, 'keyboards': 7334, 'category': 2647, 'keys': 7336, 'hub': 6508, 'cities': 2880, 'skylines': 11903, 'issuing': 7061, 'warning': 14103, 'climb': 2930, 'dislikes': 4188, 'sergio': 11538, 'martinez': 8106, 'relies': 10716, 'articles': 1539, 'negate': 8819, 'nickgamesmylife': 8894, 'nearing': 8796, 'completion': 3151, 'rumor': 11175, 'assumption': 1600, 'complex': 3153, 'objects': 9074, 'webpages': 14179, 'intels': 6929, 'speedier': 12181, 'efficent': 4599, 'aproach': 1451, 'sytems': 12767, 'significance': 11783, 'ie': 6622, 'hdds': 6225, 'tourismo': 13297, 'terribly': 12957, 'spell': 12185, '6rkqzxabscg': 703, 'dint': 4106, 'diference': 4063, 'commonsense': 3085, 'sells': 11502, 'sandwich': 11287, 'cereal': 2695, 'lied': 7670, '704': 708, 'shills': 11659, 'ar50': 1464, 'diluc': 4095, 'automatically': 1673, 'dlp': 4249, 'flew': 5353, 'cnazario': 2974, 'vizcainome': 13980, 'snoopy': 12023, 'beneficial': 1980, 'finite': 5288, 'whie': 14247, 'resease': 10834, 'ensure': 4764, 'variation': 13841, 'outs': 9345, 'stat': 12345, 'reopening': 10771, 'clears': 2918, 'unscrew': 13705, 'protoretro': 10232, 'pleasant': 9833, 'storehouse': 12439, 'creativity': 3492, 'discussions': 4177, 'tape': 12823, 'areas': 1483, 'offence': 9134, 'seemed': 11475, '2½': 396, 'sham': 11604, 'nicht': 8891, 'ich': 6590, 'swimmingly': 12730, 'showcase': 11731, '18': 198, 'suspended': 12687, 'contacted': 3282, 'referring': 10643, 'returned': 10925, 'durable': 4480, 'hz': 6569, 'dispaly': 4195, 'territory': 12961, 'sane': 11289, 'and': 1309, 'independents': 6801, 'umer': 13572, 'dev2d': 4003, 'oli': 9179, 'mash': 8112, 'legend': 7602, 'deemed': 3835, 'nonetheless': 8963, 'spoke': 12232, 'agreed': 1109, 'arthur': 1537, 'richter': 10992, 'underdeveloped': 13607, 'buildings': 2412, 'char': 2736, 'les': 7626, 'realizes': 10543, 'bg': 2015, 'peasent': 9604, 'mighty': 8372, 'pcbest': 9587, 'chrisnada': 2848, 'gake': 5667, 'yhe': 14605, '2005': 240, 'reppa': 10809, 'kagura': 7286, 'wat': 14125, 'hed': 6280, 'effectively': 4596, 'cryptos': 3567, 'costimised': 3404, 'digitalfoundry': 4089, 'averages': 1688, 'obbbbviously': 9065, 'estimated': 4829, 'bells': 1970, 'whistles': 14260, '12days': 111, 'subscriber': 12557, 'seec': 11469, 'pixelation': 9774, '16k': 185, '2000': 235, 'rolls': 11100, 'royce': 11140, 'grocery': 6028, '10900': 50, 'tethered': 12972, 'disassemble': 4143, '6th': 704, 'feb': 5187, 'mehdi': 8254, 'ventus': 13873, 'basic': 1857, 'binned': 2049, '3060': 407, 'roughly': 11126, 'tightly': 13169, 'locked': 7795, 'voltages': 14000, 'aib': 1129, 'demands': 3901, 'compress': 3164, 'inactive': 6756, 'heading': 6236, 'compressible': 3167, 'labeled': 7461, 'tricker': 13397, 'prepare': 10050, 'active': 964, 'decompression': 3824, 'painful': 9448, 'lease': 7585, 'focusing': 5403, 'reader': 10526, 'mfw': 8322, 'constructed': 3269, 'suited': 12606, 'fancy': 5117, 'targeting': 12831, 'consumers': 3277, 'professionals': 10162, 'aaack': 851, 'aardvark': 855, 'jakevaccarovfx': 7121, 'unity': 13661, 'science': 11379, 'java': 7136, 'python': 10345, 'colin': 3011, 'newman': 8868, 'opted': 9254, 'incorrectly': 6784, '3900x': 469, 'skony': 11897, 'america': 1280, 'nyc': 9055, 'recomended': 10590, '2027': 269, 'hapends': 6158, 'occasional': 9098, 'sessions': 11558, 'razer': 10503, 'blade': 2085, '620': 655, 'fbi': 5168, 'agent': 1100, 'hacked': 6101, 'royal': 11138, 'college': 3019, 'happier': 6166, 'footnote': 5432, 'nono': 8965, '144hz': 138, '60fps1080p': 647, 'upscaled': 13759, 'dem': 3898, '2482': 328, 'thumb_down': 13134, 'lin': 7715, 'sam_govender': 11262, 'poggers': 9876, '9184life': 787, 'suleksh': 12608, 'velarambath': 13862, 'fcpx': 5171, 'titans': 13202, '4heed': 553, 'howard': 6485, 'ariyan': 1500, 'debbarma': 3788, 'lita': 7749, 'zo': 14691, 'compatibilities': 3113, 'tech4all': 12881, 'your_average': 14628, 'weeb': 14186, 'naqeb': 8756, 'hasan': 6189, 'jhunly': 7176, 'cabaylo': 2492, 'anooj': 1358, 'francis': 5526, 'protect': 10220, 'atomic': 1629, 'dom': 4295, 'doggo': 4283, 'appl': 1419, 'abid': 869, 'ashhar': 1552, 'phase': 9696, 'adrian': 1036, 'anzano': 1396, 'icecoldkilax': 6587, 'arjun': 1502, 'unprofessional': 13692, 'immature': 6700, 'pablo': 9424, 'gamero': 5685, 'garcía': 5702, 'ditch': 4229, 'glorified': 5866, 'surne': 12668, 'ability': 871, 'pal': 9461, 'premier': 10041, 'newt': 8870, 'preussenplays': 10077, 'tint': 13189, 'saturation': 11318, 'amanuel': 1259, 'debesaie': 3789, 'bigsur': 2031, 'ajay': 1151, 'orlando': 9297, 'dolson': 4294, 'omygoodyneyt': 9195, 'mopro': 8557, 'agar': 1096, 'vladdx': 13982, 'mastering': 8124, 'adnan': 1026, 'sb': 11343, 'tvs': 13497, 'm4600': 7955, 'rgb': 10972, 'backlit': 1760, 'jiaju': 7177, 'chen': 2790, '345six': 440, 'eugene': 4842, 'elkin': 4655, 'awes0me': 1710, 'c00l_': 2490, 'warapong': 14091, 'ripp': 11032, 'steakface': 12372, 'contained': 3286, 'scp': 11391, 'prison': 10114, 'daveson': 3740, 'adorable': 1033, 'tom': 13237, 'stevens': 12392, 'nomad': 8954, 'forger': 5456, 'a12z': 830, 'aayush': 856, 'parwal': 9531, 'brightest': 2328, 's8': 11216, 'ash': 1551, 'geek': 5744, 'revamp': 10932, 'abdulmumin': 868, 'danmallam': 3704, 'shouts': 11727, 'afar': 1069, 'relaxed': 10704, 'souvik': 12133, 'ghosh': 5804, 'skillshare': 11881, 'dpanch_89': 4366, 'mohammed': 8504, 'khalid': 7339, 'val': 13820, 'ozimic': 9419, 'kozak': 7418, 'mrcoolz': 8622, 'mike': 8375, 'camille': 2532, 'davidhunternyc': 3743, 'ranjit': 10464, 'das': 3718, 'tatical': 12846, 'droid': 4422, 'akhthar': 1157, 'rasool': 10479, 'earl': 4523, 'langcay': 7497, 'brag': 2262, 'firmly': 5301, 'nikita': 8914, 'almakov': 1221, 'faheem': 5071, 'flagships': 5332, 'oneplus': 9201, 'moreover': 8567, 'peculiar': 9605, 'saturated': 11317, 'dxomark': 4505, 'sartaj': 11306, 'singh': 11835, 'ipm': 7024, 'batch': 1869, '_dwhwahpzgs': 826, 'sources': 12129, 'ashish': 1553, 'cenation': 2681, 'nest': 8848, 'ytgamingthemostwanted': 14644, 'sebastian': 11451, 'lox': 7888, 'dhruv': 4037, 'meena': 8244, 'wisdom': 14338, 'sage': 11246, 'vovical': 14008, 'faycal': 5166, 'psycho': 10279, 'zalgo': 14664, 's08e03': 11210, 'cuccia': 3578, 'catalyst': 2643, 'worlds': 14420, 'unify': 13653, 'required': 10822, 'smoked': 11991, 'badly': 1776, 'raditya': 10428, 'arga': 1486, 'putra': 10332, 'bullshitter': 2425, 'entertaining': 4771, 'canadianpride': 2543, 'joy': 7233, 'smosh': 12000, 'cotomize': 3410, 'shops': 11708, 'poland': 9887, 'prob': 10126, 'adjustments': 1016, 'cents': 2692, '078125': 12, 'laminated': 7489, 'watches': 14130, '1300': 120, 'patience': 9560, 'dancer': 3693, 'hiit': 6359, 'cardio': 2590, 'dance': 3692, 'acitvity': 948, 'accelerated': 898, 'penalties': 9614, '1799': 195, 'harsh': 6186, 'jittering': 7189, 'scrolling': 11417, 'se1': 11431, 'hydrodipping': 6556, 'spendy': 12190, 'symbol': 12750, 'darkside': 3714, 'morbid': 8563, 'obesity': 9068, 'tmr': 13214, 'critics': 3532, 'vscode': 14026, 'students': 12515, 'books': 2192, 'campus': 2539, 'els': 4663, 'blesses': 2108, 'fricken': 5564, 'butt': 2467, 'grandparents': 5980, 'begeezers': 1941, 'hadi': 6108, 'babar': 1744, 'checkpoint': 2776, 'invites': 7008, 'abominathan': 876, 'kamasamak': 7290, 'awww': 1722, 'dlcs': 4248, '3570k': 445, 'oc': 9096, 'ghz': 5807, 'noctua': 8939, '44': 521, 'honey': 6430, 'badger': 1775, 'jt': 7244, 'behaves': 1952, 'dd4': 3765, '208x': 280, '2016': 258, '2dbit': 376, '20memory': 290, '20102ns': 251, '20on': 293, '20the': 298, '20a14': 281, 'sauce': 11320, 'aging': 1105, '6000x': 642, 'shitload': 11679, 'asics': 1561, 'asic': 1560, 'fpga': 5509, 'codecs': 2990, 'signup': 11788, 'fresh': 5561, 'mickey': 8345, 'badn': 1778, 'replied': 10798, 'something1random23': 12079, 'rodney': 11085, 'hunks': 6535, 'junk': 7264, '3pm': 481, 'lookkk': 7829, 'knight': 7391, 'suren': 12659, '1000th': 26, 'godrive_hacker': 5897, 'blessfull': 2109, 'tnkz': 13216, 'xbox360': 14512, 'dm': 4251, 'arguably': 1490, 'goalposts': 5883, 'wheels': 14234, 'inches': 6763, 'madness': 7986, 'boomer': 2194, 'specifications': 12167, 'cos': 3398, 'spesh': 12194, 'ic': 6583, '680': 683, 'birki': 2060, 'gts': 6045, 'bsods': 2387, 'perk': 9658, 'downfall': 4345, 'partly': 9525, 'hami': 6133, 'pointless': 9881, 'misinterpret': 8430, '499': 544, 'asses': 1583, '2080ti': 279, '12thread': 117, 'airpods': 1145, 'chore': 2842, 'airpod': 1144, 'minus': 8418, 'blips': 2120, 'behave': 1951, 'beachballs': 1902, 'yahoo': 14563, 'slide': 11931, 'creeks': 3502, 'flexing': 5358, 'rt': 11149, 'thul': 13132, 'hippo': 6371, 'itzzzleo': 7090, 'woooosh': 14391, 'wooooshed': 14392, 'insists': 6893, 'superficial': 12631, 'bumps': 2429, 'fundamental': 5617, 'bilston': 2043, 'purposely': 10319, 'uncomfortable': 13600, 'sleeping': 11923, 'thrilled': 13109, 'zepp': 14680, 'grandfather': 5978, '2023': 265, 'blog': 2131, 'absurd': 884, 'visa': 13958, 'mastercard': 8122, 'intervention': 6970, 'smartwatch': 11974, 'davinci': 3744, 'insert': 6886, 'austin': 1658, 'evans': 4854, 'damaging': 3679, 'removing': 10758, 'here': 6316, 'inplasti': 6877, 'dipped': 4112, 'bricking': 2320, 'political': 9893, 'reasons': 10560, 'david2': 3742, '1d': 212, 'restart': 10882, 'band6': 1803, 'commands': 3067, 'zip': 14690, 'crypto': 3566, 'frank': 5529, 'jeffrey': 7156, 'damaged': 3678, 'obsessed': 9080, 'urs': 13772, 'ebgames': 4549, 'pirate40': 9762, 'thinker': 13071, 'cmonbruh': 2973, 'battle': 1883, 'bloodsucker': 2136, 'roseanna': 11113, 'shiping': 11668, 'threw': 13108, 'feelings': 5196, 'findings': 5274, '6g': 696, 'potentially': 9961, 'payed': 9578, 'overpayed': 9386, 'milking': 8385, 'knuckleheads': 7406, 'waay': 14038, 'attributes': 1648, 'stagnated': 12309, 'nastier': 8763, 'tit': 13200, 'profits': 10169, 'hurts': 6544, 'musician': 8690, 'teasers': 12877, '200mb': 249, '5gb': 618, '67': 675, '7gb': 732, 'mrevol94': 8625, 'washed': 14115, '69meters': 689, 'peeled': 9609, 'screwing': 11409, 'containers': 3288, 'lags': 7482, '2017': 259, 'webbrowsing': 14174, 'caching': 2500, 'discarded': 4152, 'recovered': 10605, 'milk': 8384, 'canceled': 2546, 'muzak': 8703, 'counters': 3423, 'dictates': 4051, 'profanity': 10158, 'inputting': 6880, 'fishy': 5308, 'confirms': 3216, 'improves': 6749, 'compromise': 3169, 'microfiber': 8350, 'cleaner': 2909, 'valid': 13822, 'nitai': 8923, 'too': 13252, 'kempo': 7319, '420': 512, 'hrx': 6495, 'surely': 12658, 'dota': 4332, 'zhinji': 14686, 'kage': 7285, 'm1a': 7945, 'popeye': 9912, 'relief': 10715, 'xboc': 14508, 'sharman': 11619, 'brsnd': 2368, 'ahmed': 1124, 'collections': 3017, 'jake': 7119, 'baldino': 1790, 'employed': 4700, 'alluded': 1220, 'opportunities': 9247, 'imagined': 6689, 'stays': 12368, 'mpad': 8618, 'inferior': 6835, 'pkugged': 9779, 'ithers': 7082, 'jyoti': 7279, 'waghmare': 14047, 'synchronisation': 12757, 'runkeeper': 11180, 'meruoane': 8295, 'belacel': 1958, 'statistics': 12361, 'dangling': 3699, 'stefano': 12382, 'giovannini': 5834, 'route': 11132, 'watcher': 14128, 'reaching': 10519, 'aquire': 1462, 'ahold': 1125, 'grief': 6019, 'carrying': 2619, 'smartphones': 11973, 'zack9912000': 14662, '1440p120': 136, 'that': 13002, 'currency': 3600, 'profitable': 10167, '163': 169, '16inch': 184, 'sponsorship': 12240, 'wadud': 14044, 'arguing': 1494, 'delivering': 3891, 'mileage': 8379, 'varies': 13842, 'ripping': 11034, 'faceplates': 5055, 'volcano': 13997, 'brownies': 2362, 'spying': 12270, 'criticized': 3530, 'request': 10818, 'permissions': 9665, '2tb': 391, 'acrobat': 954, 'downhill': 4348, 'fledged': 5350, 'powerbi': 9973, 'pbi': 9585, 'levi': 7648, 'zeng': 14675, 'psvr1': 10276, 'cables': 2495, 'mistakenly': 8442, 'herd': 6315, 'plane': 9789, 'bros': 2355, 'adaptor': 988, 'pasically': 9537, 'ripped': 11033, 'hideous': 6344, 'lovely': 7873, 'printers': 10108, 'typinttttgg': 13525, 'ocuus': 9123, 'usinh': 13794, '2015': 257, 'swollen': 12741, 'dangerous': 3697, 'acceptable': 902, 'shipped': 11671, 'dilemma': 4092, '1g': 213, 'duration': 4481, 'cyn': 3650, 'hicks': 6341, 'shoes': 11699, 'invented': 6994, 'disown': 4194, 'wore': 14398, 'sandals': 11284, 'socks': 12041, 'sex': 11578, 'wheel': 14232, 'workbench': 14403, 'mum': 8674, 'skenskwnsnksms': 11874, 'excitedddddd': 4917, 'elsewhere': 4666, 'direcrly': 4114, 'targer': 12828, 'demographic': 3905, 'span': 12145, 'huuge': 6549, 'tend': 12934, 'pull': 10294, 'someome': 12075, 'equiptment': 4802, 'pace': 9426, 'nerf961': 8842, 'gem': 5750, 'out': 9319, 'stitch': 12411, 'cloth': 2952, 'lacks': 7472, 'lte': 7896, 'verizon': 13883, 'commentsection': 3077, 'hacks': 6106, 'booting': 2201, 'platformers': 9808, 'dedicate': 3832, 'shawn': 11630, 'deen': 3836, 'wrapped': 14447, 'presents': 10062, 'lmaooo': 7773, 'olds': 9176, 'loool': 7837, 'punches': 10303, 'flawed': 5347, 'blindingly': 2117, 'distinguish': 4218, 'name01': 8739, 'wisest': 14342, 'kitten': 7382, 'sealed': 11435, 'bottomlake': 2231, 'h410': 6094, 'b460': 1742, '10900k': 51, '20000': 236, '400bucks': 498, '3500': 444, 'subbar': 12541, 'aint': 1136, 'cirrus': 2877, 'cs35l45': 3570, 'itx': 7089, '2070': 275, 'sweat': 12713, 'sponge': 12234, 'cus': 3609, 'bleah': 2101, 'witcher': 14352, 'midrange': 8367, 'odont': 9127, 'munchin': 8677, 'masking': 8114, 'iv': 7092, 'hows': 6489, 'ps4pro': 10256, 'xboxes': 14514, 'fuel': 5595, 'producers': 10149, 'panic': 9475, 'corporate': 3385, 'pixie': 9777, 'bernese': 1989, 'dogthe': 4286, 'simp': 11809, 'ddr3': 3768, '2400mhz': 321, 'cas': 2625, '4770k': 536, 'gtx': 6046, 'norm': 8981, 'ddr5': 3770, 'robinsons': 11067, 'ubisoft': 13533, 'patched': 9553, 'imx': 6753, 'embargos': 4678, 'rollout': 11099, 'liar': 7658, 'twisted': 13509, 'unpopular': 13690, 'trevor': 13387, 'smithy': 11989, 'weakness': 14159, 'pools': 9905, 'claustrophobic': 2906, 'estate': 4827, 'assist': 1589, 'eheh': 4620, 'coloured': 3031, 'notif': 9009, '480hr': 540, '336hr': 436, 'mah': 8000, 'slut': 11959, 'pocofone': 9870, 'barbra': 1832, 'heal': 6249, 'premature': 10039, 'breakdown': 2292, 'exishibit': 4936, 'errors': 4813, 'angst': 1332, 'moclan5': 8480, 'reckon': 10585, '70c': 709, 'sink': 11842, 'smashes': 11977, 'medium': 8242, 'satisfy': 11312, '11inch': 88, 'protects': 10223, 'arrived': 1523, 'automatic': 1672, 'bashes': 1854, 'newbie': 8864, 'ex': 4888, 'cinebench': 2866, 'slapping': 11917, 'nejitemplates': 8832, 'pretended': 10073, 'ego': 4613, 'skipping': 11891, '666': 671, 'assorted': 1595, 'rigid': 11015, 'optimizations': 9265, 'allowing': 1217, 'perpetually': 9666, 'serving': 11555, 'starter': 12336, 'rut': 11192, 'stunning': 12525, 'realism': 10536, 'optimise': 9261, 'dusty': 4490, 'paperweight': 9488, 'chonk': 2836, 'colourblindness': 3030, 'graphs': 5992, 'frickin': 5565, 'nanocell': 8750, '3900': 468, 'attempt': 1641, 'repost': 10807, 'itd': 7073, 'gpod': 5955, 'bonfire': 2184, 'invjte': 7009, 'husky': 6546, 'shine': 11662, 'mo': 8470, 'informational': 6849, 'torturing': 13277, 'divorce': 4238, 'balance': 1788, 'miband5': 8336, 'asleep': 1570, 'embossing': 4683, 'jailbreak': 7116, 'public': 10285, 'openly': 9234, 'admits': 1022, 'cursed': 3605, 'gah': 5662, 'yeey': 14586, 'scrapped': 11394, 'finest': 5278, 'iwolek': 7098, 'hominem': 6422, 'brainstorming': 2270, '1mil': 222, 'muir': 8647, 'bloatware': 2124, 'allah': 1199, 'inshallah': 6887, 'suckers': 12578, 'toy': 13308, 'slick': 11930, 'ban': 1797, 'spit': 12220, 'hybris': 6554, 'misunderstood': 8446, 'wonders': 14378, 'certified': 2700, 'gabe': 5656, 'faceook': 5052, 'nanometres': 8754, 'fell': 5203, 'aesthetic': 1064, 'googling': 5930, 'plant': 9795, 'gbs': 5735, 'modded': 8482, 'segways': 11487, 'michel': 8343, 'mainstream': 8009, 'applauding': 1420, 'crack': 3453, 'copied': 3358, 'pasted': 9550, 'ear': 4521, 'smoothness': 11999, 'fluidity': 5391, '2x2': 393, 'maxed': 8161, 'gibney': 5810, '250w': 335, '90c': 782, '3950x': 470, '7700k': 726, 'suits': 12607, 'roles': 11094, 'reversed': 10943, 'blocksr': 2130, 'strengths': 12476, 'weaknesses': 14160, 'miki': 8376, 'swordbreaker': 12743, 'virus': 13957, 'weather': 14170, 'glitchy': 5860, 'meter': 8311, 'breathing': 2301, 'capture': 2580, 'opportunity': 9248, 'a4dy_pvjl4w': 835, 'rockets': 11077, 'crashing': 3469, 'fireball': 5292, 'jaggsta': 7114, '4k60': 558, 'turretbox': 13491, 'wespozo': 14212, 'cam': 2524, 'oookkk': 9226, 'extremly': 5029, 'arcanist': 1471, 'philiprikozen': 9703, 'cs6': 3571, 'encoder': 4722, 'encode': 4720, '264': 347, 'interpretations': 6964, 'heaviest': 6275, 'slows': 11953, 'dw5600sc': 4497, 'pale': 9463, 'pastel': 9551, 'stopwatch': 12434, 'hung': 6532, 'sidekick': 11766, 'assistant': 1591, 'autofocus': 1671, 'teleprompter': 12914, 'adore': 1034, 'hamza': 6137, 'khan': 7340, 'marathon': 8074, 'limiting': 7713, 'manages': 8041, 'overload': 9377, 'rethink': 10909, 'icecream': 6588, 'vìdeó': 14034, 'compels': 3120, 'vlog': 13984, 'pita': 9768, 'kfc': 7337, 'nate': 8765, 'signing': 11786, 'emails': 4672, 'hack': 6100, 'aconsoletheist': 950, 'billn': 2041, 'greetings': 6013, 'colombia': 3022, 'retroarch': 10920, 'dur': 4478, 's10e': 11212, 'famous': 5109, 'ramus22': 10457, 'uppercase': 13753, 'lowercase': 7881, 'bits': 2072, '8x': 778, 'byte': 2486, 'cinematography': 2868, 'stadium': 12305, 'floodlights': 5374, 'bambooze': 1795, 'insights': 6891, 'speculating': 12174, 'believable': 1964, 'digitals': 4090, 'x1x': 14487, 'while': 14248, 'slots': 11943, 'middel': 8364, 'belong': 1971, 'flagshif': 5330, 'classes': 2901, 'nicee': 8885, 'tiaan': 13151, 'aardt': 854, 'featured': 5182, 'macrumors': 7979, 'threads': 13104, 'demos': 3916, 'between': 2006, '2271101': 312, 'ded': 3831, 'kevin': 7330, 'alonso': 1228, 'mario': 8085, 'meltdowns': 8261, 'tacos_': 12780, 'partner': 9526, 'arvato': 1544, 'headstrap': 6246, 'arrival': 1521, 'pushed': 10326, 'shake': 11598, 'grade': 5968, 'wideband': 14291, 'border': 2206, 'ver1': 13875, 'blur': 2150, 'ver3': 13876, 'velocity': 13865, 'forground': 5467, 'editting': 4580, 'prem': 10038, 'foreground': 5445, 'avid': 1692, '8gbs': 758, 'replies': 10799, 'thang': 12990, 'snow': 12026, 'gaabbu': 5655, 'shlumdog': 11691, 'trillionaire': 13408, 'linoos': 7729, 'retarted': 10906, 'vrtrunky55': 14024, 'remastered': 10738, 'uhm': 13550, 'angelicco': 1325, 'statistically': 12360, 'heatset': 6269, 'protip': 10227, 'airreceiver': 1147, 'kissing': 7377, 'moto': 8593, 'g5': 5652, 'hotfixes': 6471, 'tentpole': 12946, 'hotfix': 6470, 'techtubers': 12898, 'za': 14659, 'warudo': 14111, 'itch': 7072, 'hesay': 6325, 'clunky': 2965, 'unfinished': 13639, 'down': 4344, 'mergeds': 8292, '11400': 74, 'priceworthy': 10092, 'intelmasterrace': 6928, 'any': 1386, 'sketchy': 11877, 'fomo': 5417, 'jari': 7133, 'moore': 8554, 'law': 7546, 'singlethread': 11839, 'perfomance': 9642, '2600k': 346, 'frogmasto': 5576, 'fundamentally': 5618, 'unethical': 13632, 'implementation': 6723, 'pasarela': 9534, 'attach': 1633, 'roek': 11086, 'pink': 9755, 'trademarks': 13327, 'licensed': 7666, 'riothero313': 11027, 'backlog': 1761, 'derivative': 3947, 'glarple': 5853, 'onions': 9206, 'formula': 5479, 'supporter': 12644, 'cv1': 3639, 'gifford': 5812, 'pinchot': 9751, 'park': 9507, 'quiñonez': 10400, 'coment': 3050, '820': 745, '670': 676, 'arrives': 1524, 'raughs': 10492, 'mongolian': 8527, 'remind': 10744, 'ev': 4850, 'virginity': 13950, 'odds': 9126, 'dunno': 4473, 'sounded': 12122, 'loooooooooooong': 7841, 'producer': 10148, 'prolly': 10180, 'kojima': 7410, 'exciting': 4920, 'v2': 13813, 'ffs': 5223, 'exited': 4944, 'burai': 2437, 'marginally': 8083, 'suspend': 12686, 'settigns': 11563, 'airflow': 1139, 'spouting': 12250, 'shaped': 11611, 'hourglasses': 6476, 'lolol': 7813, 'spyhood': 12269, 'rapture': 10475, 'unfamiliar': 13638, 'believers': 1966, 'eternity': 4836, 'compelled': 3118, 'stories': 12442, 'dreaming': 4398, 'pour': 9968, 'spirit': 12216, 'sons': 12094, 'daughters': 3730, 'prophesy': 10210, 'visions': 13963, 'servants': 11548, 'handmaidens': 6149, 'kjv': 7385, 'bible': 2022, 'knoweth': 7396, 'angels': 1327, 'mrk': 8628, 'luk': 7917, 'thief': 13060, '1th': 231, 'unexpectedly': 13635, 'prepared': 10051, 'thou': 13094, 'shalt': 11603, 'confess': 3205, 'thy': 13148, 'mouth': 8606, 'thine': 13066, 'raised': 10443, 'romans': 11103, 'essential': 4823, 'temptation': 12929, 'sway': 12711, 'hast': 6193, 'thee': 13019, 'rev': 10931, 'unjust': 13668, 'lust': 7930, 'deceit': 3803, 'gender': 5756, 'lgbt': 7655, 'religions': 10718, 'respectful': 10870, 'physically': 9719, 'spiritually': 12219, 'forgive': 5462, 'sin': 11830, 'strive': 12496, 'righteously': 11011, 'revelations': 10938, 'bibles': 2023, 'prayer': 10004, 'allaboutgod': 1198, 'of': 9130, 'htm': 6500, 'nfs': 8878, 'blind': 2113, 'aleady': 1170, 'pressured': 10069, 'grap': 5985, 'futute': 5641, 'iteration': 7079, 'cheapest': 2763, 'highest': 6349, 'rerember': 10827, 'mmm': 8468, 'traded': 13325, '250': 333, '550': 592, 'address': 1003, 'carefulness': 2597, 'hikes': 6361, 'jupiter': 7266, 'charts': 2753, 'nord': 8978, 'joe': 7197, 'biden': 2025, 'mural': 8679, 'wikipedia': 14303, 'furthermore': 5631, 'subtract': 12569, 'overview': 9400, '2500': 334, 'separatelly': 11528, 'wwdc': 14476, 'resale': 10830, 'exclude': 4921, 'fees': 5198, 'cuts': 3636, 'warehouse': 14094, 'acessible': 939, 'fluffs': 5388, 'sociopath': 12037, 'dd': 3764, 'nava': 8784, 't7': 12771, 't5': 12770, 'nads': 8724, 'tengco': 12939, 'brainwashed': 2271, 'fanny': 5121, 'reject': 10691, 'tricked': 13396, '512ssd': 582, 'identically': 6604, '16in': 183, 'bonkers': 2185, '14inch': 144, '3380m': 437, 'intle': 6974, '4000': 493, 'sepharite': 11531, 'sever92': 11574, 'misleading': 8431, '8ghz': 760, 'multithread': 8669, 'lifted': 7682, 'hail': 6121, 'scarface': 11364, 'dialogue': 4042, 'appear': 1415, 'digest': 4080, 'backlight': 1758, 'aphid': 1403, 'ntømatões': 9032, 'truee': 13439, 'sequence': 11536, 'ledge': 7592, 'battered': 1879, 'indication': 6810, 'loosening': 7846, 'traverse': 13375, 'customisability': 3613, 'rav': 10494, 'dami': 3680, 'fash': 5135, 'insight': 6889, 'caus': 2652, 'ehe': 4619, 'trustworthy': 13447, 'realistically': 10539, 'countless': 3425, 'their': 13022, '26th': 349, 'town': 13305, 'contributed': 3308, 'concrete': 3198, 'kitch': 7379, 'forces': 5441, 'dive': 4232, 'distracting': 4223, 'uncommon': 13601, 'suffice': 12592, 'corgrading': 3376, 'hol': 6399, 'computing': 3182, 'curry': 3603, 'hacker': 6102, 'handheld': 6143, 'nam': 8737, 'nguyen': 8882, 'ungodly': 13642, 'emulation': 4709, 'disclaimer': 4157, 'definetly': 3860, '2x': 392, 'tennis': 12940, 'charing': 2749, 'magnetic': 7995, 'methods': 8314, 'theories': 13034, 'someday': 12073, 'fiber': 5226, 'kidnap': 7349, 'jacking': 7106, 'framing': 5520, 'cats': 2649, 'flick': 5359, 'tail': 12786, 'whining': 14253, 'legs': 7611, 'bystanders': 2485, 'dts': 4443, 'april': 1449, 'jollylover2017': 7218, 'npm': 9028, 'offerings': 9139, 'brooo': 2352, 'thiz': 13082, 'waill': 14050, 'babyyyyy': 1749, 'looooooooove': 7842, 'showcases': 11733, 'michelle': 8344, 'alexandria': 1180, 'gbcskgqbrbg': 5732, '500k': 570, 'garnered': 5706, 'stadia': 12304, 'untouched': 13722, 'hiding': 6346, 'nexus': 8874, 'salty': 11259, 'knocked': 7394, 'plum': 9853, 'scales': 11349, 'playtime': 9831, 'last2first': 7515, 'oastlers': 9063, 'wiping': 14328, 'florescent': 5379, 'respected': 10869, 'itech': 7074, 'csgo': 3572, 'maxtech': 8167, 'cooe': 3336, '360hz': 454, 'tyvm': 13531, 'ty': 13515, 'shipong': 11670, 'truely': 13441, 'adaptive': 987, 'seal': 11434, 'squirrel': 12284, 'heyya': 6335, 'uhmm': 13551, 'lining': 7724, 'tenchu': 12933, 'georg': 5787, 'waging': 14048, 'camp': 2536, 'thks': 13083, 'vidéo': 13926, 'comparaison': 3100, 'différent': 4078, 'runtime': 11184, 'liek': 7671, 'swift': 12726, 'nerfed': 8843, 'solidifies': 12059, 'epicly': 4792, 'accident': 913, 'launches': 7543, 'shabbily': 11588, 'searching': 11443, 'compares': 3104, 'conclusions': 3194, 'powerusers': 9982, 'watchers': 14129, 'goat': 5884, 'resell': 10835, 'xmil': 14540, '211': 303, 'innocent': 6868, 'kitty': 7384, 'shop': 11705, 'miband6': 8337, 'protection': 10222, 'band4': 1802, 'dorkenoo': 4327, 'elvis': 4668, 'privately': 10118, 'enought': 4762, 'rockin': 11078, 'bogle': 2168, 'demonstrate': 3911, 'surpassed': 12670, '30cm': 413, 'cm': 2969, 'define': 3858, 'opinon': 9244, 'relaible': 10694, 'lifespam': 7678, 'hesitant': 6326, 'slept': 11926, 'reove': 10772, 'stell': 12383, 'z490': 14656, 'brush': 2378, 'kratos': 7423, 'began': 1940, 'adequate': 1007, 'savy': 11334, 'sram': 12287, 'dram': 4377, 'rewrite': 10968, 'achive': 945, 'crackling': 3457, 'dlc': 4247, 'gta5': 6043, 'dvd': 4495, 'uncles': 13599, 'caleb': 2509, 'gao': 5695, 'statements': 12349, 'revision': 10952, 'scrolls': 11418, 'seamless': 11437, 'stiff': 12402, 'scpter': 11392, 'matching': 8137, 'blending': 2105, 'sorta': 12113, '3dfx': 473, '150': 148, 'fahrenheit': 5072, 'quistion': 10396, 'worty': 14434, 'trolls': 13424, 'blocked': 2126, 'tie': 13159, 'mee': 8243, 'ooohhh': 9225, 'ryt': 11205, 'became': 1920, 'citation': 2879, 'hop': 6441, 'staggering': 12308, 'compulsion': 3173, 'reads': 10530, 'tournament': 13298, 'neo': 8835, 'xbx': 14519, 'activision': 966, 'freedinsanity': 5545, 'associated': 1593, 'nominate': 8956, 'oscars': 9301, 'which': 14245, 'contactless': 3283, 'mb7': 8177, 'fuckin': 5590, 'discoloured': 4162, 'bamethyst': 1796, 'wooosh': 14393, 'comedygraveyard': 3049, 'sheets': 11640, 'polarized': 9888, 'sunglasses': 12618, 'trx': 13450, '16gbmbp': 180, '5fthdsmf2c0': 616, 'terrence': 12955, 'pascual': 9536, 'ukraine': 13557, '7core': 730, 'kansas': 7293, 'arkansas': 1506, 'saf': 11237, 'reported': 10804, 'architectural': 1475, 'daw': 3748, 'protools': 10231, 'cubase': 3574, 'indicative': 6811, 'remotely': 10751, 'resembling': 10840, 'instruments': 6917, 'ware': 14093, 'daws': 3751, 'masochist': 8115, '47': 534, 'whopping': 14277, 'mustafaps5': 8694, 'bulk': 2418, 'woosh': 14394, 'disrespect': 4206, 'otaño': 9308, 'lago': 7481, 'bluet0pstv': 2147, 'oxymeters': 9418, 'astros': 1611, 'texture': 12980, 'lacking': 7469, 'rubbing': 11156, 'kruber': 7430, 'rtx3090': 11153, 'cashton': 2629, 'our': 9318, 'gotcha': 5946, 'bitch': 2066, 'daveeeee': 3737, 'mentions': 8280, 'virtulization': 13956, 'benifit': 1984, 'intensve': 6935, 'availble': 1682, 'nevertheless': 8862, 'vold': 13998, 'drinks': 4411, 'ufff': 13537, 'guinea': 6067, 'septilex': 11533, 'edible': 4567, 'mlbhd': 8462, 'virgins': 13951, 'contagious': 3284, 'russian': 11190, 'roulette': 11128, 'anmol': 1342, 'arnav': 1513, 'sharper': 11621, 'goofy': 5926, 'litteraly': 7755, 'actualy': 976, 'nowhere': 9026, 'fisher': 5307, 'guard': 6051, 'wearout': 14167, '15th': 164, 'heights': 6290, 'zach': 14660, 'hasten': 6194, 'vive': 13977, 'avg': 1690, 'lows': 7886, 'situtation': 11862, '360fps': 452, '720fps': 716, 'framestutter': 5519, 'haywire': 6221, 'serve': 11549, 'stretched': 12482, 'accepted': 903, 'celebrity': 2670, 'personable': 9673, 'infront': 6857, '440': 522, 'woo': 14381, 'hoo': 6435, 'proofness': 10204, 'mores': 8568, 'winter': 14324, '400gb': 500, 'judging': 7250, 'untill': 13720, 'celsius': 2679, 'pump': 10299, 'blessed': 2107, 'noting': 9014, 'avoids': 1698, 'fetched': 5218, 'referenced': 10638, 'bandwidth': 1809, 'characteristics': 2739, 'filesystem': 5252, 'tradeoffs': 13328, 'compromises': 3171, 'resellers': 10836, 'solution': 12063, 'router': 11133, 'thhese': 13056, 'adjust': 1012, 'baby': 1747, 'loooooooool': 7840, 'kaddamanmanmy': 7284, 'prediction': 10019, 'closely': 2946, 'branded': 2275, '15k': 163, 'overnight': 9384, 'fe': 5173, 'choices': 2829, 'buuuut': 2474, 'retire': 10911, 'spiders': 12206, 'bangladesh': 1813, 'bangladeshi': 1814, 'niga': 8901, 'settled': 11567, 'scheme': 11373, 'lamps': 7491, 'v5': 13814, 'statham': 12351, 'toughness': 13294, 'prefect': 10022, 'earbuds': 4522, 'rogers': 11090, 'ayan': 1729, 'reza': 10971, 'retailers': 10900, 'suspect': 12685, 'edigint': 4568, 'lame': 7488, 'stale': 12311, 'shots': 11721, 'ewww': 4887, 'goodbye': 5921, 'neural': 8858, 'understood': 13624, 'craze': 3474, 'techtuber': 12897, 'brogan': 2344, 'evolving': 4884, 'riddance': 10997, 'vihara2': 13937, 'protein': 10224, 'meats': 8222, 'nutrient': 9044, 'metabolism': 8306, 'energy': 4737, 'poop': 9906, 'ultimately': 13563, 'eaten': 4543, 'easiest': 4536, 'brunettebird': 2376, 'crushing': 3557, 'nullifying': 9039, 'lineup': 7720, 'mr_writer1985': 8621, 'dutch': 4492, 'behavior': 1953, 'context': 3295, 'refuses': 10663, 'acceleration': 899, 'handled': 6146, 'drained': 4374, 'verify': 13881, 'kvideodecodername': 7443, 'ffmpegvideodecoder': 5222, 'h264': 6092, 'vpxvideodecoder': 14012, 'vp9': 14010, 'mojovideodecoder': 8508, 'gpuvideodecoder': 5960, 'chromium': 2855, 'tweaking': 13499, 'accessible': 909, 'happening': 6164, 'visibility': 13960, 'transition': 13353, 'dayummmmm': 3757, 'remotes': 10752, 'suemason': 12587, 'court': 3434, 'directional': 4118, 'spicy': 12202, 'shizz': 11689, 'watchfaces': 14132, 'believing': 1968, 'misplaced': 8432, 'euphemism': 4844, 'gears': 5742, 'fable': 5042, 'zenimax': 14676, 'noel': 8944, 'rockstone': 11082, 'squeeze': 12281, 'alder': 1169, 'looker': 7826, 'parity': 9506, 'matcher': 8135, 'emitting': 4689, 'admittedly': 1024, 'masses': 8117, 'topple': 13269, 'sanjay': 11292, 'arun': 1543, 'boogie': 2189, 'unlock': 13676, 'sweats': 12716, 'nervously': 8846, 'vested': 13894, 'vary': 13845, 'discernable': 4154, 'credibility': 3497, 'stake': 12310, 'unsubstantiated': 13713, 'ltts': 7898, 'narrowing': 8761, 'jay': 7139, 'durga': 4483, 'prasad': 10000, 'colours': 3032, 'sees': 11480, 'smiling': 11986, '32gigs': 433, 'pads': 9441, 'mohamed': 8503, 'mustafa': 8693, 'everyhing': 4871, '2600': 345, 'yuan': 14647, 'felix': 5202, 'anto': 1382, 'needlessly': 8813, 'toggle': 13230, 'tensa': 12942, 'compactness': 3092, 'uncontrolled': 13602, 'indian': 6806, 'delayed': 3880, 'packs': 9436, 'convenience': 3321, 'acknowledging': 949, 'basis': 1862, 'existant': 4938, 'flag': 5328, 'thatll': 13004, 'xboxs': 14515, 'haved': 6212, 'sunsun': 12621, 'canister': 2552, 'freaked': 5537, 'holeee': 6404, 'nxt': 9053, 'rhinoceros': 10975, 'highway': 6358, 'robbery': 11063, 'charges': 2746, 'ohhh': 9160, 'laughing': 7537, 'dnbmania': 4256, 'omfg': 9187, 'reslly': 10857, 'muli': 8648, 'valhalla': 13821, 'disingenuous': 4182, 'altho': 1247, 'imitates': 6698, 'shilling': 11658, 'softening': 12047, 'falsifying': 5102, 'exaggerating': 4895, 'blocker': 2127, 'customisations': 3616, 'sniper': 12019, 'texas': 12977, 'blackout': 2083, 'terrific': 12958, 'teacher': 12865, 'silently': 11792, 'giuseppe': 5841, 'elaborate': 4630, 'defeat': 3847, 'permabanned': 9660, 'dispite': 4197, 'brunt': 2377, 'funds': 5620, 'nickle': 8895, 'unseen': 13707, 'fooled': 5425, 'ouch': 9314, 'blessing': 2110, 'disseminated': 4212, 'shouting': 11726, 'squeaking': 12278, 'btheo8': 2389, 'playback': 9815, 'cuter': 3631, 'puffer': 10291, 'igpu': 6640, 'robloxian': 11069, 'robloxity': 11070, 'imagibe': 6685, 'seals': 11436, 'warrenty': 14108, 'spraying': 12253, 'coat': 2981, 'understandable': 13618, 'microphone': 8353, 'lessened': 7631, 'anticonsumer': 1380, 'simultaneous': 11825, 'tooloose': 13257, 'mcfloof': 8192, 'whaddya': 14220, 'meets': 8249, 'batman': 1876, 'functional': 5613, 'asf': 1550, 'wating': 14140, 'hypocritical': 6568, 'sided': 11765, 'signaling': 11779, 'genocide': 5773, 'agenda': 1099, 'latte': 7531, 'drinking': 4410, 'snowflakes': 12028, 'california': 2513, 'headquarters': 6240, 'promised': 10188, 'globalization': 5862, 'americanization': 1282, 'become100': 1923, 'asexual': 1549, 'texts': 12979, 'desperation': 3973, 'tetris': 12973, 'nba': 8792, 'bashing': 1856, 'rafa': 10430, 'allegretti': 1201, '11700k': 82, 'newegg': 8865, 'rohit': 11091, 'nigam': 8902, 'microsd': 8357, 'deto_san': 3999, 'helpfull': 6306, 'should': 11722, 'nt': 9031, 'unscrupulous': 13706, 'tunnel': 13475, 'bear': 1904, 'mcafee': 8189, 'latter': 7532, 'archive': 1478, 'tune': 13472, 'episodes': 4794, 'businessman': 2460, 'employer': 4703, 'portray': 9931, 'iambestduud': 6580, 'cristmas': 3525, 'jada': 7111, 'wallmart': 14074, 'acer': 938, 'distract': 4222, 'output': 9338, '670gb': 680, 'realist': 10537, 'nle': 8931, '2080': 278, 'upset': 13761, 'exceptionally': 4911, '5h': 620, 'freeze': 5553, 'stuffs': 12523, 'patient': 9561, 'optimised': 9262, 'maximize': 8163, 'kena': 7322, 'showcased': 11732, 'caps': 2574, 'elphasize': 4662, 'hypocrisy': 6566, 'reiterating': 10690, 'ignored': 6635, '60c': 645, 'quest2': 10377, 'aso': 1572, 'vr1': 14014, 'juicy': 7255, 'steak': 12371, 'slamming': 11913, 'vfx': 13898, 'timeline': 13179, 'row': 11135, 'feat': 5178, 'franklingoodwin': 5532, 'iisakki': 6651, 'kaaretkoski': 7281, 'downscaled': 4357, 'overshooting': 9391, 'fernandez': 5214, '2050': 271, 'gunna': 6073, 'kno': 7392, 'suite': 12605, '1650gb': 170, 'pinnacle': 9756, 'appeal': 1414, 'purely': 10313, 'charm': 2751, 'pains': 9450, 'stranglehold': 12456, 'metric': 8315, 'ditched': 4230, 'dock': 4262, 'docking': 4265, 'mbkhd': 8181, 'manufacturers': 8064, 'plans': 9794, 'chooses': 2839, 'horses': 6462, 'distributed': 4226, 'gualter': 6048, 'iq': 7029, 'hav': 6209, 'awards': 1706, 'isaac': 7045, 'johnstone': 7208, 'mechanics': 8227, 'rewatching': 10966, 'buffering': 2401, 'datas': 3724, '8go': 764, '93c': 794, 'whimps': 14251, '8565u': 748, '97c': 808, 'kicks': 7344, 'carefully': 2596, 'characteristic': 2738, 'popcorn': 9911, 'sutton': 12692, 'bps': 2257, 'clever': 2919, 'laws': 7547, 'semester': 11504, '70s': 711, 'shite': 11677, '470': 535, '480': 538, 'uppload': 13754, 'allot': 1213, 'spical': 12200, 'queue': 10385, 'identicator': 6605, 'giggling': 5825, 'yielded': 14606, 'incoherent': 6773, 'privileged': 10120, 'requiring': 10826, 'sounding': 12123, 'creak': 3478, 'lightbars': 7687, 'finishes': 5287, '1990': 208, 'vice': 13913, 'versa': 13885, 'as': 1545, 'mb6': 8176, 'opens': 9235, 'poem': 9872, 'trigger': 13403, '10x': 69, 'fuckup': 5594, 'streamlined': 12472, 'adopted': 1029, 'sw': 12696, 'desktops': 3971, 'declaration': 3820, 'reloading': 10724, 'fook': 5422, 'competitors': 3132, 'mask': 8113, 'flashbang': 5341, 'furry': 5629, 'tingles': 13187, 'gamespass': 5689, 'tears': 12875, 'betheseda': 2001, 'announces': 1350, 'heh': 6283, 'juices': 7254, 'nef': 8817, '2109': 302, '574': 605, 'nervous': 8845, 'sweating': 12715, 'welcomed': 14205, 'opt': 9253, 'rounded': 11130, 'circular': 2872, 'formal': 5471, 'dud': 4451, 'flinch': 5365, 'devils': 4017, 'canyon': 2560, 'redmibook': 10623, 'rates': 10487, 'menacingly': 8273, 'compromised': 3170, 'picometers': 9730, 'bench': 1975, '06': 10, 'dolars': 4289, 'selfie': 11494, 'flaghship': 5329, 'isolating': 7056, 'battlestation': 1885, 'hobby': 6395, 'isolated': 7055, 'min': 8392, 'bough': 2233, '6c': 692, 'destroys': 3983, '999': 816, 'cheaply': 2764, 'tradition': 13333, 'memes': 8268, 'up': 13730, 'zephyrus': 14679, 's17': 11213, 'oceanaplayz': 9106, 'xtard': 14553, 'duo': 4474, 'danahae': 3691, 'barraclough': 1843, 'decades': 3799, 'express': 5006, 'ddr2': 3767, 'bulldozer': 2420, '6700k': 678, '18th': 204, 'podcast': 9871, 'strangely': 12454, 'minimalist': 8407, 'a3': 833, 'sisters': 11851, 'blurry': 2153, 'robby': 11064, 'shoe': 11698, 'foot': 5429, 'proly': 10184, 'hailing': 6122, 'inconsequential': 6780, 'damning': 3686, 'brushing': 2381, 'crapped': 3464, 'journalism': 7230, 'award': 1705, 'paintball': 9452, 'impatient': 6719, 'burned': 2445, 'snack': 12006, 'staring': 12329, 'blank': 2093, 'bypassing': 2484, 'despise': 3974, 'aparently': 1399, 'meatball': 8221, '4004': 497, 'iiiiiiiis': 6647, 'pocket': 9867, 'sorts': 12114, 'designers': 3964, 'editors': 4578, 'dozen': 4361, 'finder': 5272, 'some': 12070, 'zealand': 14668, 'costumers': 3408, 'ceud': 2704, 'spike': 12209, 'compositing': 3161, 'keying': 7335, 'scrubbing': 11419, 'lopez': 7850, 'brazilian': 2285, 'eliminate': 4651, 'headaches': 6232, 'proximity': 10247, 'republic': 10816, 'peoppe': 9626, 'shelling': 11645, 'assasins': 1578, 'creed': 3499, 'youll': 14623, 'nicholas': 8890, 'beebe': 1932, 'boobies': 2187, 'dramatic': 4379, 'refurbished': 10660, 'hears': 6259, 'meow': 8284, 'mrowwww': 8631, 'yeeted': 14584, 'fyi': 5646, '665': 670, 'gerald': 5789, 'baria': 1838, 'restrained': 10888, 'avoided': 1696, 'pushy': 10329, 'plzzzzzz': 9864, 'leaked': 7573, 'bedtime': 1930, 'melodic': 8258, 'ishaan': 7047, 'jagali': 7112, 'scan': 11360, 'tgank': 12986, 'usefull': 13786, 'sublime': 12549, '21st': 306, '6am': 691, 'suppoused': 12650, 'lls': 7769, 'tints': 13190, 'taillights': 12787, 'pov': 9970, 'receipt': 10572, 'smells': 11982, 'rushing': 11188, 'radplay': 10429, 'hzd2': 6570, 'cellphone': 2676, 'pic': 9721, 'critized': 3534, 'prizes': 10123, 'merge': 8290, 'replay': 10794, 'monopolies': 8538, 'decibal': 3809, 'borrowed': 2214, 'untethered': 13718, 'sheer': 11637, 'plunge': 9855, 'hyping': 6564, 'sweetspot': 12724, '42m': 517, 'possiblity': 9947, 'kerim': 7326, 'worries': 14424, '111': 72, 'natpex': 8775, 'purchases': 10310, 'carry': 2618, 'rebuy': 10567, 'playable': 9814, 'putin': 10331, 'trailer': 13337, '10700kf': 43, 'lover': 7874, 'covid19': 3444, 'coronavirus': 3383, 'lockdown': 7794, 'sars': 11305, '367373737373': 457, 'torn': 13272, 'cicles': 2863, 'writes': 14459, 'understated': 13622, 'chokes': 2832, 'ongoing': 9205, 'multicam': 8652, 'miscellaneous': 8424, 'animated': 1336, 'alpha': 1231, 'choked': 2831, 'froze': 5581, 'config': 3208, 'vag': 13819, 'effective': 4595, 'checkout': 2775, 'evga': 4877, 'vred': 14018, 'picky': 9729, 'discern': 4153, 'conquest': 3239, 'whatapps': 14224, 'blah': 2087, 'bypass': 2482, 'convinient': 3335, 'mister': 8444, 'practical': 9989, 'sluggishly': 11956, 'lipo': 7736, 'tool': 13254, 'dominated': 4299, 'victor': 13915, 'tan': 12811, 'toolchains': 13255, 'arrange': 1517, 'flutter': 5395, 'raspi': 10481, 'flowing': 5383, 'youve': 14638, 'respond': 10872, 'forming': 5477, 'typo': 13526, 'insta360': 6900, 'zooming': 14701, 'bethsedia': 2002, 'onestly': 9204, 'htc': 6499, 'computations': 3178, '4d': 547, 'chess': 2795, 'ds5': 4440, 'shocks': 11697, 'alien': 1192, 'isolation': 7057, 'chilax': 2804, 'icon': 6593, 'conflicting': 3218, 'overblown': 9358, 'brazilllian': 2286, 'ips68': 7028, 'waterproof': 14138, 'buddies': 2395, '2s': 390, 'mcmillan': 8195, 'twitter': 13511, 'scroll': 11415, 'buds': 2398, 'alredy': 1236, 'nauseous': 8782, 'ava': 1678, 'machina': 7969, 'hutao': 6548, 'supremacy': 12651, 'noelle': 8945, 'gal': 5668, 'fares': 5129, 'subjects': 12548, 'gorgeous': 5939, 'substitute': 12565, 'darn': 3716, 'underwhelming': 13629, 'photograph': 9710, 'ol': 9172, 'gcam': 5736, 'avoidable': 1695, 'forgiveable': 5463, 'pics': 9731, 'sized': 11867, 'pray': 10003, 'secondary': 11455, 'manny': 8055, '2800': 359, 'optimization': 9264, 'gage': 5661, 'corduck': 3372, '55': 591, 'tht': 13127, 'airplanes': 1143, 'discs': 4174, 'offset': 9151, 'fumbling': 5610, 'organizing': 9286, 'excruciatingly': 4928, 'trays': 13377, 'caritibo': 2605, 'alligator': 1205, 'taps': 12826, 'und': 13604, '41': 508, 'snap': 12011, 'former': 5476, 'attest': 1644, '1gb': 214, 'nezunish': 8876, 'euro': 4846, 'sweaty': 12717, 'neva': 8859, 'lippy': 7737, 'jimmy': 7183, 'sa': 11218, 'dogshit': 4285, '08': 13, 'mf': 8320, 'athlon': 1624, 'nuking': 9038, 'bake': 1786, 'oven': 9355, 'er': 4804, 'netburst': 8851, 'developing': 4010, 'x64': 14495, 'personalized': 9677, 'encouraging': 4727, 'truck': 13435, 'comp': 3090, 'overwatch': 9401, 'claure': 2904, 'meaningless': 8207, 'buffers': 2402, 'menubar': 8282, 'ryedog': 11201, 'faris': 5132, 'monday': 8522, 'sommer': 12084, 'exlcusices': 4947, 'az1x': 1737, 'hunt': 6536, 'outta': 9350, 'politician': 9894, 'awake': 1704, 'nogo': 8946, 'sillent': 11796, 'hill': 6364, 'merch': 8286, 'mh': 8324, 'ia': 6578, 'fasta': 5138, 'posible': 9936, 'unsued': 13714, 'paulo': 9571, 'refreshing': 10655, 'xe': 14528, 'liberty': 7662, 'debian': 3790, 'dumbest': 4466, 'lastname': 7519, 'mommy': 8516, 'daddy': 3670, 'meltdown': 8260, 'bp': 2256, 'oil': 9162, 'spill': 12211, 'flint': 5366, 'crises': 3521, 'grid': 6018, 'subbed': 12542, 'bundled': 2432, 'excite': 4915, 'proceed': 10132, 'od': 9124, '40k': 506, 'catches': 2645, 'thoses': 13092, 'fllash': 5370, 'murch': 8681, 'begin': 1943, 'onlyl': 9210, 'ten': 12932, 'motorola': 8596, '322': 430, 'wsod': 14466, 'teal': 12868, 'stacyplayz': 12303, 'alook': 1229, 'bewe': 2007, 'recall': 10569, 'cought': 3414, 'goodness': 5924, 'adithya': 1010, 'gowda': 5953, 'vibrates': 13907, 'insignificant': 6892, 'educate': 4582, '30c': 412, '40c': 503, 'infographic': 6845, 'decibels': 3810, 'dryer': 4436, '65': 663, '70db': 710, 'blatantly': 2097, 'spew': 12195, 'ironic': 7038, 'intentional': 6938, 'borderline': 2207, 'conspiratorial': 3262, 'extension': 5013, 'interactions': 6942, 'proverbial': 10238, 'whistle': 14259, 'bureau': 2438, 'nefarious': 8818, 'intent': 6936, 'determined': 3998, 'tampered': 12809, 'tangent': 12814, '444': 524, 'hospitalized': 6465, 'paranoia': 9499, 'relating': 10698, 'conspiracy': 3261, 'disprove': 4203, 'hospitalizations': 6464, 'mental': 8275, 'apologies': 1407, 'guesstimate': 6062, 'rely': 10727, 'economy': 4555, 'reside': 10848, 'election': 4634, 'tallies': 12807, 'ascertain': 1548, 'providing': 10243, 'overly': 9383, 'frustrated': 5583, 'stressed': 12478, 'trap': 13366, 'denounced': 3925, 'theorist': 13035, 'governing': 5949, 'various': 13844, 'freedoms': 5547, 'nature': 8779, 'upside': 13762, '500mb': 571, 'typically': 13523, 'tonne': 13249, 'benchmarked': 1977, 'pinch': 9749, 'comfortably': 3058, 'favors': 5159, 'tones': 13245, 'shinning': 11664, 'strokes': 12499, 'abandoning': 862, 'abrasive': 880, 'bacterial': 1770, 'wipes': 14327, 'homophobes': 6424, 'repeatedly': 10782, 'obsolescence': 9085, 'suppliers': 12639, 'outweigh': 9351, 'investors': 7005, 'easter': 4538, 'egg': 4610, 'unlucky': 13679, 'asshats': 1586, 'enabling': 4717, 'elses': 4665, 'vrs': 14022, '1nm': 226, 'disclose': 4159, 'spatula': 12151, 'concise': 3192, 'veritech': 13882, 'saviour': 11332, 'd2s': 3659, 'meadows_hands': 8203, 'nsfw': 9029, 'ipp': 7026, 'lackluster': 7470, 'justifies': 7274, 'compressed': 3165, 'dji': 4242, 'mutalix': 8695, 'retires': 10914, 'plauging': 9812, 'slobs': 11940, 'careless': 2598, 'unclear': 13598, 'voids': 13995, 'nauseum': 8783, 'gauging': 5722, 'theoretical': 13032, 'pog': 9874, 'rime': 11021, 'ryna': 11203, 'raises': 10444, 'affecting': 1072, 'prorhino': 10215, 'emphasize': 4698, 'partially': 9517, 'psychological': 10280, 'coping': 3360, 'counseling': 3417, 'foremost': 5448, 'disapproval': 4142, 'admire': 1019, 'lookin': 7827, 'fok': 5405, 'tray': 13376, 'ignacy': 6631, 'nongmaithem': 8964, 'avinash': 1693, 'showcasing': 11734, 'chare': 2741, 'plasticky': 9801, 'knock': 7393, 'cleanup': 2913, 'handy': 6153, 'celeron': 2671, 'raid': 10435, 'array': 1520, '3000mb': 401, '1234': 101, 'luggage': 7913, 'colorfit': 3026, 'bt': 2388, 'definitive': 3864, 'segwaybwas': 11486, 'stranger': 12455, 'was': 14113, '599': 613, 'mutants': 8696, 'academic': 895, 'macmini': 7975, 'oleds': 9178, 'civilblazeyt': 2884, 'boo': 2186, 'effecient': 4593, 'formation': 5473, 'supercomputers': 12630, 'midi': 8366, 'whatnot': 14227, 'abc': 867, 'cheaters': 2767, 'aimbots': 1133, 'detect': 3990, 'sourcecodes': 12128, 'cheats': 2769, 'cheat': 2765, 'cheater': 2766, 'perpetuated': 9667, 'traps': 13368, 'facepalm': 5053, 'publicity': 10286, 'l1': 7453, 'adaptative': 983, 'catalina': 2640, 'emulated': 4707, 'djsheehey': 4243, 'stocks': 12415, 'skippy': 11892, 'collage': 3013, 'onedrive': 9200, 'eg': 4608, 'rpgs': 11144, 'shocking': 11696, 'successor': 12572, 'predecessor': 10014, 'bcoz': 1895, 'heavier': 6274, 'workflows': 14408, 'sofa': 12045, 'chilling': 2813, 'addicting': 993, 'briefly': 2324, 'inspiration': 6895, 'lagging': 7479, 'cringefest': 3515, 'reselling': 10837, 'deadass': 3775, 'hangover': 6156, 'repeated': 10781, 'remembered': 10741, 'potatofarmerdan': 9959, 'orgin': 9288, 'neongreensniper': 8837, 'disrespectful': 4207, 'cuckolds': 3579, 'lma': 7770, 'fck': 5169, 'acept': 936, 'codes': 2993, 'represents': 10814, 'region': 10671, 'popped': 9914, 'responsibilities': 10876, 'pfp': 9693, 'rud': 11160, 'rudolph': 11162, 'nsikak': 9030, 'okon': 9171, 'rule': 11170, 'portability': 9923, 'states': 12350, 'availablity': 1681, 'requests': 10819, 'intervening': 6969, 'vrporn': 14020, 'join': 7210, '180': 199, 'peripheral': 9656, '181': 202, 'vrset': 14023, 'earned': 4528, '740': 720, 'jenga': 7157, '4ghz': 550, 'turbo': 13477, 'crave': 3470, '5300': 586, 'anjd': 1341, 'copper': 3363, 'chef': 2787, 'goldblum': 5910, 'speculation': 12175, 'sry': 12290, 'spoiler': 12230, 'childish': 2808, 'righ': 11009, 'attitude': 1645, 'makeing': 8018, 'functions': 5616, 'dec': 3797, 'after': 1087, 'paintjobs': 9456, 'idiotic': 6612, 'just2powerful': 7271, 'factoring': 5064, 'bottlenecks': 2228, 'denied': 3918, 'rescue': 10831, 'fade': 5068, 'sweden': 12718, 'dvds': 4496, 'rays': 10500, 'mortar': 8579, 'lesir': 7628, 'opera': 9236, 'cretin': 3507, 'dismount': 4191, 'tesla': 12962, 'legitimate': 7607, 'epxerince': 4795, 'gatdamn': 5715, 'becous': 1926, 'sticky': 12401, 'wane': 14083, 'journalists': 7231, '19killer44': 210, 'zelda': 14669, 'sideplates': 11769, 'worker': 14406, 'macpro': 7978, '12core': 110, 'funtime': 5625, 'foxy': 5508, 'plush': 9857, 'sentiments': 11525, 'proceeded': 10133, 'measures': 8217, 'september': 11532, 'nine': 8915, '20syl': 295, 'lmfaoooo': 7778, 'effince': 4604, 'controlers': 3312, 'glitching': 5859, 'queen': 10374, 'titled': 13204, 'okamakiri': 9167, 'conected': 3202, 'siting': 11856, 'likey': 7700, 'wraped': 14446, 'conection': 3203, 'pins': 9758, 'bjornberg': 2075, 'shrug': 11745, 'pounds': 9967, 'xp': 14544, 'stomped': 12423, 'preshott': 10064, '1ghz': 215, 'savings': 11330, 'cabinet': 2493, 'shere': 11650, 'negativity': 8823, 'tangled': 12816, 'bold': 2175, 'stimulating': 12407, 'internally': 6957, 'marry': 8102, 'histochemically': 6376, 'forenenst': 5449, 'exotic': 4951, 'modem': 8490, 'margaret': 8079, 'beefy': 1936, 'enuo': 4782, 'enkidu': 4760, 'parody': 9511, 'homage': 6413, 'mindset': 8397, 'dey': 4029, 'baked': 1787, 'decrease': 3827, 'verbal': 13877, 'inflections': 6841, 'storyteller': 12446, 'vibrator': 13911, 'chief': 2803, 'lem': 7614, 'pressed': 10066, 'gimick': 5829, 'bothersome': 2223, 'creeperdeathmatch67': 3503, 'fellas': 5205, 'eh': 4618, 'kieran': 7352, 'morgan': 8569, 'joystick': 7236, 'vita': 13973, 'touchscreen': 13291, 'oj': 9165, '206': 272, 'm15': 7944, 'razorfastclaws': 10507, 'oxing': 9416, 'lools': 7834, 'fag3ot': 5070, 'ethic': 4838, 'curiosity': 3597, 'apply': 1433, 'poging': 9877, 'blaming': 2090, 'retaliate': 10904, 'accordingly': 922, 'pleasing': 9838, 'shenanigans': 11649, 'sector': 11463, 'minds': 8396, 'workstations': 14418, 'guaranteed': 6050, 'masturbates': 8130, 'slides': 11932, 'tristan': 13418, 'brewer': 2312, 'cartridges': 2624, 'shelves': 11648, 'cue': 3581, 'marred': 8099, 'summing': 12615, 'inbuilt': 6758, 'microphones': 8354, 'noticing': 9008, 'adjusting': 1014, 'identified': 6607, 'accessed': 908, 'liberated': 7661, 'doubts': 4341, 'fanboying': 5115, 'prefared': 10021, 'routinely': 11134, 'eighty': 4627, 'bazillion': 1892, 'pending': 9617, 'patents': 9556, 'stylised': 12535, 'acid': 947, 'nigga': 8903, 'rainy': 10441, 'parental': 9502, 'programmed': 10171, 'broader': 2341, 'primarly': 10100, 'comics': 3061, 'manga': 8047, 'bout': 2239, 'pulls': 10297, 'clicks': 2926, 'intriguing': 6978, 'muchhh': 8642, 'wildmonkeymc': 14307, 'mwc9elg2sfc': 8706, 'sheesh': 11638, 'ugh': 13541, '49': 543, 'more': 8565, 'about': 878, 'phew': 9701, 'understands': 13621, '138mm': 125, '41mm': 510, 'tall': 12805, 'grabs': 5965, 'jenny': 7160, 'weapons': 14162, 'attack': 1638, 'prof': 10157, 'eggs': 4612, 'g7': 5653, 'lasts': 7520, 'daves': 3739, 'copyrights': 3367, 'crisis': 3522, 'ring': 11023, 'fucks': 5593, 'offs': 9150, 'preordering': 10047, 'morty': 8582, 'whirly': 14256, 'dirly': 4123, 'aswel': 1614, 'dreamed': 4397, 'spyro': 12272, 'rosado': 11111, 'preferences': 10027, 'snowflake': 12027, 'firewall': 5299, 'lurking': 7929, 'blacked': 2079, 'edis': 4569, 'mehmedali': 8256, '20gb': 284, '500gb': 569, 'sameee': 11265, 'audition': 1653, 'medieval': 8237, 'heaps': 6254, 'lou2': 7865, 'expresion': 5005, 'definite': 3861, 'thumb': 13133, 'recessed': 10578, 'sync': 12755, 'embarrassment': 4680, 'gladiator': 5850, 'mallek': 8031, 'ideal': 6600, 'dan': 3690, 'omggggg': 9189, 'talented': 12797, 'defo': 3865, 'phenom': 9698, '940': 795, '2700': 352, 'operational': 9240, 'acces': 905, 'stan': 12315, 'malla': 8030, 'solanki': 12052, 'fcuking': 5172, 'companion': 3097, 'thankful': 12992, 'renders': 10765, 'prise': 10113, 'gona': 5915, 'chang': 2726, 'witt': 14361, 'quartering': 10370, 'pwn': 10340, 'misses': 8436, 'embarrassing': 4679, 'gnoma': 5880, 'punching': 10304, 'investigate': 7000, 'claimed': 2889, 'modeling': 8486, '9gb': 820, '17gb': 196, '100x': 33, 'infinitely': 6838, 'workstation': 14417, '4tb': 563, '3tb': 487, 'boxy': 2249, 'yate': 14570, 'separated': 11527, 'andrew2980': 1315, 'detected': 3991, 'loosing': 7848, 'attacked': 1639, 'them': 13027, 'optimizing': 9268, 'spamming': 12144, 'mcrsoft': 8197, 'steeb': 12379, 'spiccolo': 12201, 'sesh': 11556, 'chargethrough': 2747, 'stuffed': 12522, 'o_o': 9060, 'q_finskwcru': 10349, 'zf': 14683, 'sd780g': 11426, 'dim1100': 4097, 'turntables': 13490, 'ballsy': 1793, 'justified': 7273, 'josh': 7227, 'kavathas': 7307, 'cking': 2887, 'folder': 5408, 'speardsheets': 12159, 'withought': 14357, 'accesories': 906, 'masterggm': 8123, 'wiped': 14326, 'dominant': 4297, '265': 348, 'grading': 5971, 'fortunately': 5488, 'toney': 13246, 'intelligent': 6926, 'bitter': 2073, 'cg': 2705, 'theatrical': 13015, 'snapdragon': 12012, '888': 752, 'nuff': 9036, 'cheeky': 2780, 'pixelknight': 9775, 'celeste': 2673, 'cuphead': 3591, 'undertale': 13625, 'shovel': 11729, 'reasoning': 10559, 'stranding': 12452, 'detroit': 4001, 'esport': 4821, 'defence': 3853, 'empires': 4699, 'divinity': 4235, 'driven': 4417, 'masterpieces': 8127, 'apu': 1455, 'utilising': 13801, 'rdna': 10510, 'dxr': 4506, 'incomplete': 6776, 'cells': 2677, 'intact': 6920, 'alas': 1163, 'hissy': 6375, 'producing': 10150, 'zack': 14661, 'yeeeeah': 14582, 'on': 9196, 'scoop': 11383, 'sbxysrv4d10': 11346, 'knoww': 7405, 'plzz': 9862, 'nighter': 8907, 'tonight': 13248, 'pete': 9686, 'sucked': 12576, 'swapped': 12706, 'scenarios': 11368, 'inell': 6825, 'fourth': 5506, 'importan': 6731, 'teasing': 12878, 'nightingaleif': 8909, 'm5': 7956, 'hero': 6321, 'wafflefarts': 14045, 'ooof': 9224, 'phased': 9697, 'interacts': 6945, 'emotional': 4696, 'amout': 1291, 'excessive': 4913, 'hbm': 6222, 'dimms': 4102, '3200': 427, 'capacities': 2565, 'palatable': 9462, '5tb': 629, 'specified': 12168, 'fujitsu': 5600, 'a64fx': 837, 'doubles': 4337, 'ddr': 3766, 'shift': 11655, 'enemy': 4735, 'architectures': 1477, '20k': 288, 'porting': 9928, 'vulgar': 14029, 'flipped': 5368, 'jeppemichael': 7163, 'canadian': 2542, 'letter': 7639, 'passive': 9543, 'ratio': 10490, 'resizable': 10856, 'xgb': 14532, 'ghante': 5801, 'bhe': 2017, 'nhe': 8883, 'chalti': 2720, 'iski': 7049, 'overcome': 9364, 'inertia': 6826, 'lucifer': 7905, 'morningstar': 8572, 'pleaseee': 9835, 'yrs': 14641, 'ols': 9182, 'doh': 4288, 'strange': 12453, 'struggle': 12505, 'lino': 7728, 'silva': 11799, 'heheh': 6285, 'shortcut': 11713, '75x': 723, 'cnet': 2976, 'ay': 1727, 'unnaceptable': 13681, 's10': 11211, 'meantime': 8211, 'crocs54': 3535, 'wayyyyyy': 14150, 'hallo': 6128, 'wick': 14288, 'netherlands': 8855, 'promise': 10187, 'workable': 14401, '9ak_s8kbck': 818, '9590': 800, 'uuelgfinfvw': 13809, 'jo': 7193, 'godly': 5896, 'lab': 7459, 'tirelessly': 13197, 'ir': 7033, 'joycons': 7235, 'praising': 9998, 'm1air': 7946, 'fwiw': 5643, '28not': 362, 'paypal': 9582, 'dooo': 4317, 'kuzzz': 7442, 'andrei': 1313, 'hag': 6110, 'momths': 8519, 'aginst': 1106, 'rivalry': 11045, 'creatively': 3490, 'bethesda': 2000, 'cup': 3589, 'soooo': 12102, 'unhealthy': 13643, 'mystical': 8710, 'howd': 6486, 'eexperiance': 4590, '540': 590, 'loot': 7849, 'altimeter': 1249, 'elevation': 4647, 'xb': 14506, 'yts': 14645, 'advertise': 1054, 'achyut': 946, 'dwivedi': 4502, 'vanilla': 13833, '256g': 339, 'brendon': 2309, 'rookes': 11106, 'mhm': 8325, 'razza': 10508, 'anonymous': 1357, 'pity': 9769, 'vitreous': 13975, 'reload': 10722, 'century': 2693, 'headstraps': 6247, 'volumes': 14002, 'splash': 12222, 'qhose': 10352, 'ther': 13037, 'scrimpy': 11412, 'bag': 1780, 'inventory': 6996, 'plumeting': 9854, 'retal': 10903, 'infectious': 6833, 'expanding': 4955, 'blimey': 2112, 'sone': 12087, 'impaired': 6717, '51m': 583, 'accelerators': 900, 'discernible': 4155, 'shortcomings': 11712, 'mature': 8158, 'barbie': 1831, 'sellout': 11501, 'xcall23': 14521, 'deceivingly': 3805, 'gifts': 5816, 'relentlessly': 10711, 'lerbyn': 7624, 'abouy': 879, 'belated': 1959, 'miband2': 8333, 'sammy': 11271, 'jayne': 7143, 'bootooth': 2202, 'valorant': 13825, 'tooooo': 13260, 'celebrating': 2669, 'novy': 9023, 'gett': 5795, 'nxp': 9052, 'scridiot': 11411, 'zzygyy': 14708, 'medbay': 8231, '10000x': 23, 'motor': 8594, 'imitate': 6697, 'resistance': 10852, 'joey': 7200, 'deniz': 3920, 'ocules': 9117, 'questvtwo': 10384, 'dice': 4047, 'flawless': 5348, 'undoubtedly': 13630, 'nuisance': 9037, 'anthem': 1371, 'kushagra': 7440, 'nayyar': 8790, 'pet': 9683, 'jayztwocents': 7146, 'scalped': 11351, 'prepaid': 10049, 'tsuyara': 13460, 'bated': 1871, 'engg': 4742, 'yunho': 14650, 'stressing': 12480, 'perf': 9635, 'liking': 7701, 'eyeing': 5033, 'headroom': 6241, 'leopard': 7623, 'sierra': 11774, 'ikrr': 6660, 'titanfall': 13201, '3mil': 479, 'saftey': 11244, 'mkbhds': 8457, 'shallow': 11602, 'hdtv': 6228, 'tbbt': 12855, 'fuckinzell': 5592, 'barley': 1841, 'tour': 13296, 'degradation': 3868, 'earning': 4529, 'exaggerated': 4894, 'swagger': 12701, 'flamethrower': 5335, 'hydro': 6555, 'dipping': 4113, '147': 140, 'utiliser': 13800, 'fot': 5497, 'ancient': 1308, 'qualcomm': 10361, 'xr2': 14548, 'xr': 14547, 'unlocks': 13678, 'delivers': 3892, 'powering': 9976, '11x': 92, 'perception': 9632, 'concurrently': 3199, 'resulting': 10895, 'incorporating': 6783, 'analytics': 1302, 'eva': 4851, 'offload': 9147, 'heterogenous': 6330, 'compute': 3179, 'preserve': 10063, 'fastconnect': 5139, 'enables': 4716, 'boundaries': 2237, 'hugo': 6518, 'swart': 12710, 'vp': 14009, 'enhance': 4752, 'tailor': 12788, 'marks': 8094, 'milestone': 8382, 'continuous': 3299, 'collaboration': 3012, 'compliments': 3159, 'exquisitely': 5009, 'evolution': 4882, 'rogan': 11089, 'jacobo': 7109, 'gheller': 5802, 'hawking': 6216, 'unopened': 13685, 'charles': 2750, 'nelson': 8833, 'greece': 6004, 'leica': 7612, 'cooperate': 3353, 'infinatly': 6836, 'ant': 1368, 'circlejerking': 2870, 'dread': 4394, 'victims': 13914, 'sexual': 11581, 'abuse': 888, 'forex': 5455, 'downloaded': 4351, 'chage': 2711, 'detachable': 3985, 'coca': 2985, 'cola': 3008, 'corrects': 3394, 'rotating': 11124, 'kiss': 7376, 'amazin': 1267, 'maguire': 7998, 'fald': 5092, 'rhe': 10973, 'funfact': 5621, 'founded': 5499, 'enginers': 4749, 'compat': 3112, 'secs': 11461, 'minded': 8395, 'fools': 5428, 'subreddit': 12552, 'boosts': 2198, 'mesure': 8305, 'shitily': 11678, 'innovate': 6869, 'dictionaries': 4053, 'considerable': 3247, '153': 155, 'macedonia': 7967, 'walkman': 14067, 'ex0stasis': 4889, 'shinymootank': 11666, 'xb1s': 14507, 'dhimant': 4035, 'soni': 12090, 'remasters': 10739, 'shaky': 11600, 'sunlight': 12619, 'inevitable': 6828, 'understandably': 13619, 'goooo': 5934, 'hurting': 6543, 'risking': 11041, 'kyle': 7446, 'teamlakers2': 12870, 'redditor': 10617, 'hottie': 6474, 'bosses': 2216, 'leveling': 7645, 'welp': 14208, 'walker': 14065, 'shhh': 11652, 'suposed': 12637, 'england': 4750, '1t': 229, 'confortable': 3219, '5years': 635, 'unchained': 13594, 'crossbow': 3538, 'heroin': 6322, 'defeats': 3849, 'borat': 2205, 'unhear': 13644, 'aggressively': 1104, 'chechar3dg': 2770, 'cookin': 3341, 'roastin': 11062, 'sideload': 11767, 'bases': 1852, 'dwarf': 4498, 'lacklustre': 7471, 'seasoned': 11448, 'cleaning': 2910, 'provided': 10241, 'walpaper': 14079, 'rissin': 11044, 'degenerate': 3867, 'beliefes': 1963, 'abbs': 865, 'musculine': 8688, 'women': 14372, 'standardz': 12320, 'ellie': 4656, 'lesbian': 7627, 'relatively': 10702, 'easely': 4534, 'missable': 8434, 'unaware': 13582, 'marginalized': 8082, 'james': 7123, 'monkas': 8533, 'reposted': 10808, 'cominder': 3062, 'overpraised': 9388, 'whit': 14262, 'thunderbolts': 13143, 'ar': 1463, 'heats': 6268, 'ripintel': 11029, 'comeback': 3047, 'ooh': 9221, 'shutdowns': 11752, 'cooperation': 3354, 'paradigm': 9492, 'dex': 4027, 'nightingale': 8908, 'tempting': 12931, 'incremental': 6791, 'defects': 3852, 'logical': 7804, 'measurements': 8216, 'dimensions': 4099, 'namely': 8742, 'thickness': 13059, '349': 441, 'captures': 2582, 'displaying': 4200, 'nails': 8732, 'leagues': 7571, 'riley': 11020, 'par': 9490, 'burke': 2443, 'dodgy': 4274, 'behalf': 1950, 'estimate': 4828, '600gb': 644, '150tb': 153, 'wouldve': 14440, '1070': 41, 'aud': 1650, '965': 801, 'kbm': 7309, 'silent': 11791, 'fav': 5153, 'safty': 11245, 'inclusive': 6772, 'applies': 1432, 'trusty': 13448, 'sandpaper': 11286, '52': 584, 'lulzzz': 7921, 'placement': 9783, 'computation': 3175, 'fetch': 5217, 'tiers': 13162, 'moneys': 8525, 'object': 9071, 'obv': 9093, 'ajd': 1152, 'dane': 3695, 'castro': 2635, 'unqualified': 13693, 'lived': 7760, 'barrelplayz': 1844, 'um': 13569, 'douglas': 4342, 'virtually': 13954, 'bf': 2012, 'plastics': 9802, 'stil': 12403, 'overengineering': 9367, 'amoled': 1287, 'opion': 9245, 'nerds': 8840, 'sack': 11227, 'uncle': 13596, 'resist': 10851, 'milesmorales': 8381, 'acquired': 952, 'pos': 9935, 'loops': 7844, 'iqoo7': 7032, 'pascal': 9535, 'wager': 14046, 'cosole': 3402, 'multiuser': 8673, 'sprayed': 12252, 'paddle': 9438, '225': 311, 'avredge': 1701, 'willing': 14309, 'cryo': 3563, 'ducks': 4450, 'moo': 8549, 'samoled': 11272, 'jamie': 7124, 'skelin': 11873, '3ghz': 477, 'at': 1617, 'buttery': 2470, 'verge': 13879, 'norway': 8989, 'jungle': 7263, 'prehistoric': 10036, 'dexter': 4028, 'geography': 5784, 'pixar': 9770, 'seedank': 11471, 'iffy': 6625, 'signatures': 11781, '109gb': 52, 'statistical': 12359, 'impulse': 6752, 'motors': 8597, 'paddles': 9439, 'controls': 3318, 'mapped': 8069, 'kb': 7308, 'recomendation': 10589, 'whispering': 14258, 'omkaar': 9192, 'deepak': 3838, 'thiss': 13080, 'waittttt': 14059, 'obi': 9070, 'central': 2689, '460': 532, 'sphire': 12199, 'nitro': 8925, 'sevenelly': 11572, 'mymi': 8708, 'customised': 3618, 'nicely': 8886, 'edgy': 4566, 'gabriel': 5657, 'diy': 4239, 'combos': 3045, 'wyatt': 14482, 'guitars': 6068, 'dmmm': 4254, 'talkign': 12801, 'spoken': 12233, 'imbeciles': 6694, 'simping': 11810, 'jaw': 7137, 'ragnarok': 10432, 'socs': 12043, 'paperclips': 9487, 'champion': 2721, 'livery': 7761, 'obeast': 9066, 'timer': 13181, 'unreal': 13695, 'fueling': 5596, '12tflop': 115, 'rdna2': 10511, 'morse': 8575, 'rnda2': 11055, 'restricted': 10890, 'monitored': 8529, 'gens': 5776, 'fugaku': 5597, '442': 523, 'petaflop': 9685, 'supercomputer': 12629, 'pronounced': 10200, 'widgets': 14297, 'emoticons': 4694, 'manager': 8039, 'filesystems': 5253, 'network': 8856, 'consolidate': 3260, 'pen': 9613, 'scattered': 11366, 'flakey': 5333, 'o365': 9059, 'docs': 4266, 'toddler': 13226, 'clutter': 2968, 'marvel': 8107, 'aws': 1718, 'sendgrid': 11510, 'synology': 12761, 'dsget': 4442, 'silicone': 11794, 'gimped': 5831, 'geared': 5740, 'seek': 11473, 'devoid': 4024, 'crispy': 3524, 'fourteen': 5505, 'chassis': 2756, 'defensive': 3856, 'lioe': 7734, 'xxl': 14557, 'broswer': 2356, 'throws': 13125, 'enviroment': 4784, 'tens': 12941, 'trello': 13384, 'sfv': 11585, 'cosmonautical': 3400, 'lcds': 7561, 'stayin': 12366, 'gun': 6070, 'tormented': 13271, 'taskers': 12839, 'reserved': 10843, 'subtle': 12568, 'cameo': 2529, 'bettter': 2005, 'jackie': 7105, 'snackie': 12007, 'yepz': 14594, 'graded': 5969, 'keyboardless': 7333, 'stationary': 12355, 'realising': 10535, 'mates': 8141, 'muting': 8700, 'battlefield': 1884, 'merlin': 8294, 'rage': 10431, 'scar': 11361, 'cura': 3592, 'sunny': 12620, '154mm': 158, 'dre2timezz': 4393, 'waits': 14057, 'encoded': 4721, 'transcoding': 13344, 'optimum': 9269, 'midranger': 8368, '2mb': 385, 'fornite': 5482, 'sttuf': 12511, 'insta': 6899, 'thanming': 12998, 'dms': 4255, 'uiui': 13554, 'bochs': 2162, 'scare': 11362, 'zooms': 14702, 'fella': 5204, 'carrot': 2617, 'scratchs': 11398, 'luckly': 7909, 'touching': 13289, 'coated': 2982, 'naked': 8736, 'resolutions': 10859, '5700xt': 604, 'liftoff': 7684, 'sponsoring': 12238, 'manually': 8059, 'voltage': 13999, 'horse': 6460, '4000usd': 496, '400000rs': 494, '8vs': 776, 'gen10': 5754, 'unplug': 13688, 'ricciardos': 10982, 'approves': 1447, 'backlighting': 1759, 'xss': 14549, 'montague': 8543, 'anna': 1343, 'nishikinomiya': 8921, 'upmarked': 13748, 'meat': 8220, 'stood': 12427, '1011': 35, 'soyboy': 12135, 'nolifes': 8953, 'looksnotperfect': 7831, 'plutosphere': 9859, 'bombs': 2181, 'career': 2594, 'managers': 8040, 'brats': 2280, 'hunted': 6537, 'rabbits': 10418, 'hires': 6373, 'cogs': 3002, 'magnet': 7994, 'prev': 10078, 'fist': 5312, 'fights': 5242, 'involved': 7010, 'toys': 13309, 'illiterate': 6669, 'dads': 3672, 'prayers': 10005, 'ext': 5010, 'kunz': 7438, 'ocula': 9114, 'xgpu': 14534, 'merchandising': 8287, 'renamed': 10761, 'deliberate': 3886, 'ignorent': 6636, 'objective': 9072, 'trophy': 13426, 'hunter': 6538, 'feather': 5179, 'dated': 3727, 'gulf': 6069, 'unsupported': 13715, 'outright': 9342, '640kb': 659, 'ought': 9316, 'flir': 5369, 'representative': 10812, 'casing': 2630, 'dissipation': 4213, 'outermost': 9328, 'fluctuations': 5385, 'displayed': 4199, 'orange': 9276, 'font': 5418, 'unreadable': 13694, '380': 464, 'doe': 4275, 'dig': 4079, 'joels': 7199, 'skull': 11899, 'mexico': 8319, 'assistance': 1590, 'gigantic': 5821, 'heatsink': 6271, 'illustrators': 6675, 'optimisations': 9260, 'dave2dtv': 3733, 'bezel': 2010, 'celeroon89': 2672, 'banter': 1825, 'med': 8230, 'goda': 5890, 'hälsningar': 6571, 'offloading': 9149, 'vibrate': 13906, 'entering': 4768, 'exiting': 4945, 'pronounciation': 10201, 'loaned': 7787, 'spanish': 12146, 'connects': 3237, 'fries': 5573, 'calculate': 2504, '3gb': 476, 'handles': 6147, 'exceeded': 4904, '9370': 793, 'r9': 10417, 'tentative': 12945, 'reminded': 10745, 'asiangenes': 1559, 'robot': 11071, 'susspost': 12690, 'doesent': 4278, 'oq2': 9273, '110': 71, 'disappoints': 4141, '8gm': 763, 'ides': 6609, 'consists': 3255, 'modules': 8501, 'complied': 3156, 'rachet': 10420, 'equipped': 4801, 'unable': 13578, 'woudbe': 14436, 'decommission': 3823, 'hackintosh': 6105, 'vyse': 14033, 'arcadia': 1470, 'inegma29': 6824, 'facebooks': 5048, 'reconises': 10599, 'afacebook': 1068, 'accuse': 931, 'kyouya': 7449, 'a7siii': 844, 'hevc': 6331, 'comparation': 3101, 'cutomers': 3634, 'peters': 9688, '1300x': 121, '3700x': 461, 'secconds': 11453, 'jail': 7115, 'diet': 4062, 'ether': 4837, 'torture': 13276, 'endless': 4732, 'bearthechair': 1907, 'tangle': 12815, 'grave': 5994, 'warmth': 14101, '1hr': 217, '80mm': 743, '01': 5, 'db': 3758, 'perceived': 9629, 'logarithmic': 7801, 'consoleros': 3258, 'stronk': 12503, 'seamlessly': 11438, 'ehh': 4622, 'rosetta2': 11115, 'scramble': 11393, 'mentality': 8276, 'realm': 10549, 'alongside': 1227, 'advertisement': 1056, 'sci': 11378, 'joojood': 7223, 'ulipse': 13559, '1299': 109, 'element': 4644, 'refined': 10645, 'translate': 13356, 'anthodydoes': 1372, 'cancled': 2548, 'flexiblebanana': 5356, 'renen': 10768, 'benchmarking': 1978, 'matteo': 8152, 'vellis': 13864, 'banana': 1798, 'wamted': 14080, 'tp': 13310, 'skmething': 11896, 'alreadt': 1234, 'mathematica': 8143, 'consumes': 3278, 'acepwnage': 937, 'informing': 6852, 'sudden': 12583, 'sloooooooooooooooooooooooooooooooooooooooooooooooooooooooooooooooooooooooooooooooooooooooooooooooooooooooooooooooooooooooooooow': 11941, 'requieres': 10820, 'gather': 5718, 'carlyon': 2607, 'splitting': 12225, 'gshock': 6040, 'deactivated': 3773, 'centred': 2691, '68gb': 685, 'sils': 11798, 'wei': 14194, 'dominate': 4298, 'markets': 8092, 'dominating': 4301, 'horsepower': 6461, 'weirdo': 14202, 'dweeb': 4499, 'professionalism': 10160, 'savage': 11324, 'economically': 4554, 'strategically': 12460, 'innovative': 6874, 'presence': 10054, 'mainboard': 8006, 'boards': 2157, 'wccftech': 14151, 'asrock': 1576, 'x370': 14491, 'b350': 1741, 'a320': 834, 'motherboards': 8590, 'thejo1hn': 13023, 'diacritics': 4038, 'unicode': 13647, 'tottally': 13284, 'cutie': 3633, 'sawyer': 11337, 'observations': 9078, 'tweets': 13502, 'calibrate': 2512, 'impartial': 6718, 'bitrate': 2071, 'trivial': 13420, 'todays': 13225, 'flexible': 5355, 'addon': 1001, 'ffxiv': 5224, 'ambient': 1272, 'birds': 2058, 'waterfalls': 14137, 'pokémons': 9886, 'emailed': 4671, 'synth': 12762, 'riders': 11000, 'cringed': 3514, '28th': 364, 'minimal': 8405, 'videography': 13922, 'angles': 1330, 'maths': 8145, 'luigi': 7915, 'scalp': 11350, 'cienma': 2864, 'calmly': 2520, 'collectively': 3018, 'seat': 11450, 'screamed': 11400, 'smae': 11964, 'lowspecgamer': 7887, 'drunk': 4432, 'minimalistic': 8408, 'parking': 9509, 'iqonics': 7030, 'turkey': 13481, 'qeust': 10350, 'spelled': 12186, 'bike': 2033, 'shashank': 11624, 'pandey': 9471, 'enclosed': 4718, 'diffuser': 4077, 'ikea': 6657, 'skateboard': 11872, 'le': 7562, 'createdlabs': 3485, 'tweaks': 13500, 'backdrop': 1751, 'dept': 3943, 'guessable': 6060, '0000': 2, 'exposes': 5003, 'ladiespants': 7474, 'comvert': 3185, 'vladim': 13983, 'uploads': 13747, 'huaweii': 6507, '2and': 373, 'nomenclaturally': 8955, 'sans': 11294, 'freepalestine': 5551, 'israelisterrorist': 7058, 'outline': 9332, 'coop': 3351, 'bruhhhhh': 2374, 'howwwwwww': 6490, 'stretches': 12483, '07': 11, 'surfaces': 12663, 'nanda': 8747, 'kishore': 7375, 'demon86monster': 3907, 'recheck': 10582, 'fk97': 5323, 'rename': 10760, 'gundam': 6071, 'mecha': 8224, 'microarchitecture': 8347, 'lithography': 7754, 'romania': 11102, 'cuda': 3580, 'eevee': 4589, 'sli': 11928, 'indecision': 6794, 'amalgamation': 1257, 'fuqu': 5626, 'criticizing': 3531, 'chungisyoung4good': 2859, 'actionheinz': 960, 'sprays': 12255, 'coats': 2983, 'dripping': 4413, 'getter': 5796, 'crazier': 3475, 'wacker': 14041, 'km': 7386, 'wallhack': 14073, 'aimbot': 1132, 'intuition': 6987, 'transitions': 13355, 'fluff': 5387, 'regrets': 10674, 'beautifully': 1918, 'havnt': 6214, 'gen3': 5755, 'dimishing': 4100, 'returns': 10927, 'jse': 7242, 'ksp': 7433, 'fing': 5279, 'squeeky': 12280, 'boieee': 2171, '60000': 641, '2011': 253, 'mon': 8520, 'ef': 4591, 'ou': 9313, 'vee': 13857, 'bywcfvoy3p8': 2489, '8ebnt3imavi': 755, 'terrified': 12959, 'idnt': 6617, 'jonah': 7220, 'macartney': 7963, 'robust': 11072, '20010': 238, 'cared': 2593, 'belive': 1969, 'fappucino': 5126, 'decaf': 3800, 'cautious': 2657, 'x0': 14484, 'level1techs': 7644, 'fitting': 5317, 'role': 11093, 'graphite': 5991, 'delusional': 3896, 'glowing': 5871, 'dominick': 4302, 'notro': 9016, 'ds': 4437, 'quantum': 10365, 'zbrush': 14667, 'substance': 12561, 'painter': 9454, 'wooof': 14387, 'trace': 13313, 'potto': 9963, 'monstruous': 8542, 'ijustine': 6655, 'forms': 5478, 'notable': 8995, 'performances': 9645, 'softwares': 12049, 'responsive': 10879, 'superamoled': 12625, 'tholen': 13086, 'brotha': 2357, 'gogreenandgameon': 5904, 'prong': 10198, 'flashes': 5342, 'gate': 5716, 'expectation': 4960, 'holiday': 6405, 'sips': 11848, 'mojito': 8507, 'trusted': 13445, 'theater': 13013, 'kd': 7310, 'glue': 5874, 'bummer': 2427, 'innovating': 6871, 'fódlan': 5648, 'sock': 12038, 'unoriginal': 13686, 'overrated': 9390, 'infancy': 6832, 'reflective': 10650, 'pubgm': 10284, 'monolitus': 8537, 'comprehend': 3162, '160': 166, '170': 192, '4800h': 539, 'rtx2060': 11151, 'hose': 6463, 'spring': 12259, 'monopoly': 8539, 'halt': 6131, 'nyle': 9057, 'syed': 12748, '809': 741, '240fps': 322, 'moaning': 8472, 'allegedly': 1200, 'longterm': 7823, 'bexhill': 2008, 'spotlight': 12248, 'autel': 1662, 'evo': 4881, 'drone': 4423, 'complained': 3140, 'oofing': 9220, '115': 76, 'mousepad': 8604, 'ramsey': 10456, 'chong': 2835, 'reaches': 10518, 'amshit': 1293, 'horribly': 6456, '1m24862824': 221, 'tow': 13300, 'unmatchable': 13680, 'hairs': 6124, 'inched': 6762, 'ww3': 14475, 'clone': 2943, 'xz1': 14558, 'gripping': 6026, 'purse': 10323, 'strings': 12494, 'sigh': 11775, 'compacts': 3093, 'prominent': 10186, 'wardrobe': 14092, 'overhead': 9371, 'precedent': 10008, 'accessories': 910, '612': 652, 'adidas': 1008, 'muhaha': 8645, 'whipe': 14255, 'blackest': 2081, 'generic': 5766, 'humour': 6528, '16mb': 186, '8mb': 769, '175': 194, 'peek': 9607, '2years': 394, 'techlead': 12886, 'autonomous': 1676, 'saturate': 11316, 'segueys': 11484, 'cruel': 3550, 'remix': 10749, 'devin': 4018, 'turner': 13486, 'magnitudes': 7997, 'wishy': 14347, 'washy': 14117, 'rstudio': 11148, '4hr': 554, 'sot': 12115, '4000mah': 495, 'masterpiece': 8126, 'sexy': 11582, 'thugasaurus': 13129, 'rex': 10970, 'outdoor': 9325, 'animate': 1335, 'anecdote': 1322, 'substantiate': 12564, 'deserved': 3958, 'heyy': 6334, 'enthusiastic': 4774, 'pixel4a': 9772, 'prioritizing': 10112, 'poffers': 9873, 'kindergarten': 7365, 'supercheap': 12628, 'aesthetically': 1065, 'exponential': 4995, '1700': 193, 'weapon': 14161, 'holds': 6403, 'sébastien': 12769, 'wold': 14367, 'pinned': 9757, 'vise': 13959, 'wiring': 14337, 'chatting': 2758, 'mute': 8698, 'path': 9557, 'orientation': 9291, 'eggbox': 4611, 'ingorant': 6859, 'goated': 5885, 'panda': 9468, 'corei9': 3374, '8tb': 774, 'x56': 14493, 'fare': 5128, 'eluctronics': 4667, 'rp': 11141, 'hesitated': 6327, 'fearing': 5176, 'followers': 5414, '25k': 342, 'differentiate': 4069, 'contender': 3291, 'intention': 6937, 'agreement': 1110, 'reals': 10551, 'inb4': 6757, 'vibration': 13909, 'recharging': 10581, 'carnivore': 2611, 'edd': 4559, 'sarcastic': 11302, 'afterwards': 1093, 'cart': 2621, 'beltalowdah': 1973, 'ppts': 9987, 'globglogabgalab': 5865, 'basement': 1851, 'mk6': 8455, 'multitasting': 8667, 'h487i_5xozu': 6095, 'geni': 5770, 'pwubpum': 10341, '3zwsn': 490, 'tnoemoc': 13217, 'bbd2': 1893, 'chainsaw': 2713, 'chase': 2754, 'woodshed': 14384, 'inexpensive': 6830, 'stylus': 12538, 'yoga': 14614, 'zenbook': 14673, 'x13': 14485, 'lugging': 7914, 'bulgaria': 2417, 'tsz': 13461, 'fung': 5622, 'li': 7656, 'degree': 3872, 'effortless': 4606, 'unlimited': 13674, 'erickbooster1': 4808, 'annihilating': 1344, 'hare': 6180, 'tortoise': 13275, 'apt': 1453, 'groundwork': 6033, 'allm': 1206, 'sideways': 11772, 'henru': 6312, 'plentiful': 9843, 'combining': 3043, 'realtime': 10552, 'wana': 14082, 'jurassic': 7267, 'aftermath': 1090, 'elon': 4660, 'birthdate': 2062, 'mother': 8588, 'maiden': 8003, 'francisco': 5527, 'farias': 5131, 'compelling': 3119, 'dayum': 3756, 'refrigerator': 10656, 'flower_k': 5382, 'lumion': 7924, 'po': 9866, 'md': 8198, 'tasdik': 12837, 'yousuf': 14632, 'sabik': 11223, 'happynes': 6171, 'hapines': 6159, 'ck': 2886, 'deg': 3866, '200deg': 245, '120deg': 96, 'argos': 1489, 'nicola': 8900, 'sabbadini': 11219, 'kyra': 7450, 'dolotallas': 4293, 'tinyurl': 13192, 'yb9l5ww6': 14573, 'photozoom': 9716, 'miracles': 8421, 'disadvantages': 4132, 'freelancers': 5549, 'generous': 5767, '_muts7xvkhq': 828, 'ultrabook': 13566, 'noisy': 8950, 'mpb': 8619, 'exception': 4910, 'resolved': 10861, 'artists': 1541, 'satisfied': 11311, 'brutally': 2383, 'payton': 9584, 'kzayed': 7452, 'chumps': 2858, '240hz': 323, 'communion': 3087, 'drones': 4424, 'carl': 2606, 'uncertainty': 13593, 'jak': 7118, 'carn': 2609, 'july': 7257, 'typed': 13520, 'annual': 1354, 'experiment': 4973, 'lyons': 7941, 'agginyag': 1102, 'mihail': 8373, 'ivanov': 7094, '5hr': 622, 'hopping': 6448, 'mackay': 7972, 'cordless': 3370, 'sockets': 12040, 'skylake': 11902, 'refreshes': 10654, 'decisions': 3819, 'embarassment': 4674, 'skus': 11900, 'gudesterguy': 6056, 'toolkit': 13256, 'wonnacott': 14379, 'contend': 3290, 'mitigate': 8448, 'differing': 4072, 'patterns': 9568, 'accumulation': 927, '325': 431, 'mrplasma': 8632, 'undecided': 13605, 'prefere': 10025, 'wedge': 14184, 'tanker': 12818, 'timestamps': 13185, 'eleven': 4648, 'tanem': 12813, 'vursuh': 14032, 'playstations': 9830, 'hugger': 6516, 'symbols': 12751, 'chomper224': 2833, 'loll': 7812, 'tragedy': 13336, '24ish': 329, 'cowboys': 3446, 'foundries': 5501, 'raising': 10445, 'lizzard': 7767, 'whithout': 14265, 'unuse': 13726, 'taeha': 12783, 'razorbladic': 10506, 'swan': 12702, 'same': 11263, 'intrested': 6976, 'farts': 5133, 'solar': 12053, 'nonsensical': 8967, 'blabbering': 2076, 'trump': 13443, 'rams': 10455, 'chick': 2801, 'fil': 5248, 'burgers': 2440, 'thoroughly': 13091, 'personality': 9675, 'brains': 2269, 'narration': 8757, 'south': 12132, 'freeeedyyyyys': 5548, 'geeeet': 5743, 'iiiiiit': 6648, 'chain': 2712, 'rayzortex': 10502, 'boiii': 2172, 'knowin': 7397, 'crimson': 3512, 'pestilence': 9681, 'wooooah': 14388, 'mapping': 8070, '122': 99, 'spherical': 12198, 'panning': 9477, 'tripod': 13414, 'comet': 3054, 'scotchbrite': 11389, 'necessitate': 8805, 'outstanding': 9349, 'glued': 5875, 'mictophone': 8361, 'attachable': 1634, 'fanbiys': 5111, 'qll': 10356, 'tsuxen': 13459, 'wit': 14348, 'graet': 5974, 'paowr': 9484, 'cumes': 3587, 'sweg': 12725, 'sbaydrman': 11344, 'binyl': 2051, 'stocker': 12413, 'keliis47': 7318, 'cums': 3588, 'doenst': 4276, 'clumsy': 2964, 'advancement': 1046, 'coupled': 3430, 'removes': 10757, 'legitimately': 7608, 'kahn': 7287, 'landis': 7492, 'bankruptcy': 1818, 'iwill': 7097, 'ez': 5037, 'ruing': 11166, 'mi4': 8329, 'hehehehe': 6287, '12inch': 113, 'pubg': 10283, 'art': 1533, 'temporal': 12926, 'denoising': 3923, 'speedwarp': 12183, 'gpay': 5954, 'buzzing': 2480, '6hrs': 700, '9th': 823, 'brecondo': 2303, 'renegade': 10767, 'upscaling': 13760, 'smartypants': 11975, 'downscaling': 4358, 'downscale': 4356, 'leakers': 7574, 'fried': 5569, 'chicken': 2802, 'whereby': 14240, 'verticalstrafes': 13893, 'victories': 13916, 'hamster': 6136, 'suffers': 12591, 'mill': 8387, 'starvation': 12341, 'cake': 2502, 'deaf': 3778, 'ethics': 4839, 'creedy': 3500, '60s': 651, 'remained': 10730, 'throat': 13111, 'reaction': 10521, 'hellblade2': 6298, 'ark2': 1504, 'everwild': 4867, 'avowed': 1700, 'starfield': 12328, 'crossfirex': 3542, 'decay': 3802, 'dusk': 4485, 'grounded': 6032, 'scorn': 11387, 'psychonauts': 10282, 'warhammer': 14097, 'darktide': 3715, 'ascent': 1547, 'gunk': 6072, 'exo': 4950, 'sable': 11225, 'shredders': 11742, 'twelve': 13503, 'woods': 14383, 'unexplored': 13636, 'rpg': 11143, 'con': 3186, 'adios': 1009, 'artful': 1535, 'tunic': 13474, 'obsidians': 9084, 'nonviolent': 8968, 'arkane': 1505, 'scrubs': 11420, 'luxury': 7934, 'incoming': 6775, 'msgs': 8636, 'filming': 5260, 'thirds': 13077, 'intrusive': 6986, 'enuf': 4781, 'premise': 10043, 'unturned': 13724, 'memed': 8266, 'nominated': 8957, 'dosn': 4330, 'obsessive': 9083, 'sugar': 12594, 'transfats': 13345, 'western': 14214, 'addictive': 995, 'chills': 2814, 'sinister': 11841, 'diggin': 4084, 'fairs': 5086, 'handbrake': 6140, 'fogot': 5404, 'saxington': 11338, 'buscemi': 2457, 'hay': 6218, 'causes': 2655, 'guest': 6063, 'annoy': 1351, 'x265': 14489, 'simultaniusly': 11829, 'fluid': 5390, 'mackbook': 7973, '5500m': 593, 'remains': 10731, 'xel': 14529, 'losers': 7857, 'shitted': 11682, 'thatonezeldafan': 13007, 'paths': 9559, 'redemption': 10619, 'mattering': 8155, 'tecnology': 12900, 'stylistic': 12537, 'strictly': 12486, 'zodiac': 14693, 'calming': 2519, 'exams': 4901, 'rolled': 11097, 'appreciably': 1436, 'wedc': 14183, 'tide': 13158, '______': 824, 'announcements': 1349, 'haul': 6207, 'dj': 4241, 'multitude': 8672, 'proton': 10230, 'ops': 9252, 'engaging': 4740, 'doorstep': 4320, 'lone': 7816, 'mckasty': 8193, 'sheldons': 11642, 'dilema': 4091, 'vram': 14016, 'connecting': 3232, 'goooooo': 5936, 'obando': 9064, 'commend': 3069, 'liraseth': 7740, '76': 724, 'wastes': 14122, 'absurds': 885, 'spurred': 12266, 'reimagining': 10685, 'nicked': 8893, '152': 154, 'turn10': 13484, '343': 439, '50k': 576, 'reception': 10577, 'rural': 11185, 'restarted': 10883, 'deadpoolz': 3777, 'swager': 12700, 'futeristik': 5637, 'loook': 7836, 'jam': 7122, 'packed': 9434, 'jenkins': 7158, '180gb': 201, 'propably': 10205, 'treasure': 13379, 'ftw': 5585, 'blinders': 2114, 'stride': 12487, 'hv': 6550, 'dumbed': 4465, 'disaster': 4147, 'allergic': 1202, 'lakis': 7485, 'pyravlakis': 10343, 'bundles': 2433, 'smt': 12002, 'tanks': 12819, '1h': 216, 'ballz': 1794, 'unbox': 13588, 'forwards': 5493, 'lingo': 7723, 'medical': 8234, 'doctor': 4267, 'consultation': 3271, 'nike': 8913, '9700k': 806, 'dk1': 4245, 'unbiased': 13587, 'dots': 4334, 'levitating': 7650, 'thirty': 13078, 'energetic': 4736, 'miband4': 8335, 'miband7': 8338, 'buff': 2399, 'unbeatable': 13583, 'leila': 7613, 'flores': 5378, 'hunters': 6539, 'reheat': 10683, 'expose': 5001, 'docked': 4263, 'tec': 12879, 'references': 10639, 'begun': 1949, 'wrinkles': 14454, 'edgelord': 4563, 'broadcast': 2339, 'filtering': 5264, 'jerry': 7166, 'edits': 4579, 'complecaited': 3146, 'lunch': 7926, 'throwback': 13122, 'burrying': 2452, 'mascot': 8111, 'glance': 5852, 'pannels': 9476, 'ataur': 1620, 'raziq': 10505, 'gonzalez': 5919, 'digiital': 4086, 'anemic': 1323, 'jeet': 7153, 'enggar': 4743, 'muhammad': 8646, 'rakha': 10449, '1ka09': 219, '8000': 739, '6000': 640, 'dogtier': 4287, 'usecase': 13783, 'wicked': 14289, 'backside': 1764, 'bark': 1839, 'battling': 1886, 'strapped': 12458, 'sdd': 11428, 'comsumers': 3184, 'cinema': 2867, 'r23': 10411, 'cgdirector': 2706, 'viewport': 13932, 'trusts': 13446, 'invasive': 6992, 'predator': 10013, 'dx_ma1': 4504, '77gb': 727, 'resistors': 10855, 'nano': 8749, 'meters': 8312, 'modular': 8499, 'traces': 13314, 'quickie': 10388, 'poster': 9951, 'perfectrose95': 9640, 'shuttershock': 11753, 'cloudrive': 2956, 'backup': 1765, 'asunción': 1612, 'paraguay': 9496, '108': 45, 'vivid': 13978, 'distinctive': 4217, 'copout': 3361, 'lue64': 7912, 'portions': 9930, 'naive': 8734, 'connections': 3234, 'abusing': 890, 'uplay': 13743, 'canadians': 2544, 'swimmer': 12728, 'surfer': 12664, 'internationally': 6960, 'obsolescent': 9086, 'orientated': 9290, 'grinch': 6021, 'cloths': 2954, 'donalds': 4306, 'lessens': 7632, 'rot': 11122, 'activated': 962, 'rerun': 10828, '200iq': 248, 'impress': 6740, '365': 456, 'simulates': 11821, 'rigidgamer56': 11016, 'subscribe': 12555, 'pursue': 10324, 'defend': 3854, 'whatsoever': 14230, 'renovation': 10769, 'irreparably': 7040, 'justice': 7272, 'hq': 6492, 'protips': 10228, 'flourish': 5380, 'nvm': 9048, 'australia': 1659, 'spine': 12213, 'exlusive': 4948, 'samin': 11269, 'latif': 7529, 'sandbox': 11285, 'wishful': 14345, 'postpro': 9957, 'demmit': 3903, 'shatter': 11626, 'piggy': 9740, 'pigly': 9741, 'wigly': 14301, 'compiler': 3137, 'secretly': 11459, 'necesary': 8802, 'bride': 2321, 'whisper': 14257, 'waving': 14146, 'hewlett': 6332, 'packard': 9433, 'lenovo': 7619, 'dinner': 4105, 'predicted': 10018, 'factories': 5063, 'incidentally': 6765, 'markt': 8095, 'daytime': 3755, 'aroma': 1515, 'drifted': 4406, 'neighbour': 8830, 'barbeque': 1829, 'smokey': 11993, 'sausages': 11323, 'caught': 2651, 'passmark': 9545, 'padlocked': 9440, 'jar': 7130, 'police': 9890, 'officer': 9143, 'breathe': 2300, 'knife': 7390, 'helllp': 6299, 'cuffs': 3583, 'criminals': 3511, 'moral': 8558, 'ordinary': 9283, 'thefts': 13020, 'coincidence': 3006, 'arse': 1531, 'pizza': 9778, 'slice': 11929, 'starve': 12342, 'visit': 13964, 'googie': 5927, 'amazy': 1270, 'coffin': 3000, 'garage': 5700, 'magnets': 7996, '1535': 156, 'rides': 11001, 'auntie': 1656, 'ubee': 13532, 'justpancakesvr': 7277, 'thunder': 13141, '97': 804, 'memeing': 8267, 'catwalk': 2650, 'krudley': 7431, 'apsolute': 1452, 'upvote': 13764, 'technique': 12891, 'd13h4rd2l1v3': 3656, 'eachother': 4518, 'coolers': 3346, 'freakin': 5538, '200gb': 247, 'donut': 4310, 'standby': 12321, 'cgi': 2707, 'vector': 13854, 'artwork': 1542, '16mbp': 187, 'ilife': 6664, 'browing': 2361, 'latex': 7528, 'nitty': 8927, 'gritty': 6027, 'cope': 3357, 'traditionally': 13335, 'nested': 8849, 'vsts': 14027, 'curtains': 3607, 'hiccups': 6340, 'accounted': 924, 'wether': 14216, 'fookin': 5423, 'footstep': 5434, 'facial': 5059, 'gurl': 6076, 'emmy': 4691, 'folded': 5407, 'dudepi': 4455, 'sucky': 12582, 'erm': 4810, 'teen': 12904, 'peaks': 9601, 'thread': 13102, 'qr': 10357, 'selecting': 11491, 'insurance': 6919, 'permanently': 9662, 'pennnywise': 9620, 'pound': 9965, 'foolish': 5427, 'exciteeeeedddd': 4918, 'fefo': 5200, 'fefosa': 5201, 'marquez': 8098, '16gigs': 182, 'thievish': 13063, 'xuser48': 14555, 'tuf': 13470, 'sleeve': 11924, 'useable': 13782, 'stretching': 12484, 'sasha': 11308, 'kalinin': 7289, 'whooo': 14274, 'burst': 2453, 'qimodis': 10353, 'butchered': 2465, 'battary': 1877, '13tth': 129, 'cybertruck': 3646, 'controlorer': 3317, 'fore': 5444, 'futer': 5636, 'satble': 11310, '60hz': 649, 'agen': 1098, '30hz': 417, 'stabel': 12296, 'bluray': 2151, 'abandoned': 861, 'win10': 14313, 'vik': 13938, 'homescreen': 6418, 'frantic': 5534, 'dramatization': 4381, 'primer': 10103, 'asks': 1569, 'canvass': 2559, 'overthrow': 9397, 'lees': 7595, 'paired': 9458, 'ambience': 1271, 'sha': 11587, 'its': 7085, 'cme': 2970, 'invested': 6999, '2000ussd': 237, '7days': 731, '9100ussd': 785, 'lucci': 7902, 'polish': 9892, 'atoq': 1630, 'poorly': 9908, 'mistaken': 8441, 'brah': 2265, 'humility': 6525, 'damnn': 3688, 'disqualifies': 4204, 'dam': 3676, 'ipc': 7020, 'widest': 14296, 'fiery': 5232, 'chad': 2710, 'milkman': 8386, 'yards': 14568, 'luci': 7903, 'carelessly': 2599, 'referred': 10642, 'hud': 6510, 'sexiest': 11580, 'dropping': 4428, 'grad': 5967, 'forehead': 5446, 'riceeater79ps5': 10985, 'detailing': 3988, 'expectations': 4961, '40h': 505, 'wooh': 14385, 'ummmmm': 13574, 'simplymac': 11817, '149': 142, 'syafiq': 12747, 'jihad': 7178, 'space18': 12139, 'moding': 8497, 'watercooling': 14136, 'exploited': 4989, 'surveillance': 12681, 'milgram': 8383, 'stockholm': 12414, 'syndrome': 12760, 'conversions': 3327, 'watts': 14142, 'captivate': 2578, 'acdsee': 934, 'simultaniously': 11828, 'gacha': 5658, 'naor': 8755, 'oculas': 9115, 'overclockable': 9361, '144p': 139, 'medicore': 8236, 'serie': 11540, 'runner': 11181, 'advise': 1061, '414': 509, 'posing': 9937, 'suckkk': 12580, 'releaes': 10706, 'remasterd': 10737, 'intersting': 6968, 'repairable': 10776, 'suggesting': 12597, 'itnernal': 7084, 'presume': 10071, 'hmmmjudy': 6391, 'ultimatefoxy': 13562, 'sup': 12623, 'axm': 1726, 'hldk4k1qkya': 6386, 'yagami': 14560, 'chefs': 2788, 'bran': 2272, 'stonks': 12426, 'rwinder': 11194, 'voodoo': 14003, '480p': 541, 'training': 13341, 'streamer': 12469, '46': 531, 'snake': 12010, 'ayo': 1732, 'noted': 8998, 'abbas': 864, 'zaffar': 14663, 'theatre': 13014, 'cornwall': 3381, '77': 725, 'giovanni': 5833, 'brena': 2307, 'trillionair': 13407, 'azy': 1739, 'everage': 4861, 'xa1': 14497, 'andanotherthing': 1310, 'weve': 14217, 'witnissed': 14360, 'horrors': 6459, 'surprisingly': 12677, 'reinventing': 10689, 'megapixel': 8252, 'nod': 8940, 'killshot': 7359, 'lmfaoo': 7777, 'bigfoot': 2027, 'wdym': 14154, 'checkers': 2773, 'erratic': 4811, 'offshoot': 9152, 'navigating': 8786, 'kriston': 7426, 'brannan': 2279, 'standards': 12319, 'krylesangerbeaver': 7432, 'qualified': 10362, 'damnit': 3687, 'enhanced': 4753, 'ahhhh': 1120, 'whoooooo': 14276, 'cow': 3445, 'fost': 5496, 'cheque': 2792, 'jill': 7179, 'laser': 7510, 'brokers': 2347, 'cnbc': 2975, 'stretch': 12481, 'zillion': 14689, 'killers': 7356, 'praises': 9997, 'band3': 1801, 'band7': 1804, '1986': 207, 'qualities': 10363, 'regularity': 10677, 'molecule': 8509, 'hotcakes': 6469, 'thuazabi': 13128, 'waifu': 14049, 'stack': 12300, 'hehehehehehe': 6288, 'throu': 13115, 'delaying': 3881, 'shipments': 11669, 'differentiates': 4070, 'jackalope': 7103, 'excluding': 4922, 'oclus': 9109, 'acount': 951, 'ninety': 8916, 'fifty': 5235, 'gist': 5839, 'harnessed': 6183, 'launcher': 7542, 'novels': 9019, 'prolonging': 10183, 'activating': 963, 'alarms': 1162, 'bitching': 2067, 'haters': 6202, 'tribalism': 13391, 'awefull': 1709, 'embrace': 4684, 'fkn': 5326, 'assassins': 1579, 'worths': 14431, 'ds4windows': 4439, 'ds5windows': 4441, 'markueltv': 8096, 'avery': 1689, 'baxter': 1889, 'voicing': 13993, 'australianwi': 1661, 'morslis': 8576, 'brutal': 2382, 'gawd': 5726, '980ti': 811, '1565': 160, 'mhz': 8327, '295': 370, 'considerably': 3248, 'rooms': 11108, 'soundproof': 12124, 'livesoundproof': 7763, '155gb': 159, 'difficulties': 4075, 'slaughter': 11919, 'everbody': 4862, 'weakest': 14158, 'platinum': 9811, 'rechargable': 10579, 'batter': 1878, 'spuderman': 12263, 'kilometer': 7360, 'envelope': 4783, 'broooo': 2353, '3m': 478, 'joined': 7211, 'xandi': 14499, 'yves': 14655, 'villarosa': 13940, 'e5640': 4515, 'flashing': 5343, 'lga': 7654, '1151': 77, 'proxy': 10248, '10b': 53, 'h4': 6093, 'touted': 13299, 'wiartru': 14286, 'kfconsole': 7338, 'webpage': 14178, 'timelines': 13180, '22min': 313, '44min': 527, '16gig': 181, 'mysticle': 8711, 'brooooo': 2354, 'crank': 3461, 'adress': 1035, 'goshhhh': 5943, 'widens': 14294, 'revisions': 10953, 'rrod': 11145, 'ylod': 14610, 'fawn': 5164, 'proceeding': 10134, 'nostalgic': 8992, 'evernote': 4865, 'consumerist': 3276, 'xbot': 14509, 'interpreter': 6965, 'recompiles': 10597, 'transcoded': 13343, 'habitually': 6099, 'terminate': 12953, 'snax': 12016, 'muscles': 8687, 'ache': 940, 'tee': 12901, 'worksout': 14416, 'forest_gaming': 5453, 'redux': 10632, 'driver': 4418, 'spur': 12264, 'ebefren': 4548, 'revo': 10959, 'adoniyas': 1028, 'girma': 5838, 'copyright': 3366, 'overthinker69': 9396, 'fu': 5587, 'negrey11th': 8828, 'bus': 2456, 'latencies': 7523, 'monolithic': 8536, 'apus': 1456, 'overlooked': 9380, '5700g': 602, '9900kf': 815, 'defect': 3850, 'bashful228': 1855, 'throughput': 13118, 'suggested': 12596, 'tri': 13388, 'dinh': 4104, 'couldnt': 3416, 'hadnt': 6109, 'guarentee': 6054, 'daft': 3673, 'faced': 5049, 'ftw3': 5586, 'wajted': 14060, 'fir': 5290, 'ellis': 4658, 'sapphire': 11298, 'wacky': 14042, 'unbelievably': 13585, 'frequency': 5558, 'tdp': 12860, 'brave': 2282, 'striking': 12492, 'edging': 4565, 'dmc': 4252, 'staying': 12367, 'antistrophic': 1381, 'flicker': 5360, 'polygons': 9899, 'extensively': 5016, 'neogaf': 8836, 'wrongthink': 14464, 'lair': 7483, 'xps': 14546, 'lock': 7793, 'gaze': 5729, 'conflicted': 3217, 'eyeglass': 5032, 'wearers': 14165, 'daddyezee': 3671, 'cornball': 3378, 'resort': 10862, '16days': 177, 'kitchen': 7380, 'cooking': 3342, '700th': 707, 'unsarcasticly': 13704, 'tartaglia': 12834, 'godammit': 5891, '8k120fps': 767, 'scrolled': 11416, 'amy': 1294, 'downsides': 4360, 'pleaaase': 9832, 'wth': 14469, 'manh': 8048, 'tuyen': 13495, 'duong': 4475, 'delashaw': 3878, 'navigation': 8787, 'examine': 4898, 'resource': 10865, 'theturo': 13051, 'diamondgamer': 4044, 'mexican': 8318, 'itachi': 7068, 'theoretically': 13033, 'noteworthy': 9000, 'literly': 7753, 'throuput': 13120, 'giimme': 5827, 'mooore': 8553, '10core': 56, 'cluster': 2967, '197': 206, 'cement': 2680, 'slab': 11911, 'holodeck': 6409, 'redpilled': 10625, 'spraypainting': 12254, 'assembled': 1581, 'falsely': 5100, 'sith': 11855, 'giggles': 5824, 'anakin': 1297, 'chime': 2815, '00000000000000002': 3, 'digged': 4082, 'kinteyou': 7374, 'euros': 4849, 'availibility': 1683, 'constricted': 3267, 'nividia': 8928, 'realizing': 10544, 'favour': 5160, 'ucggkkx7cvdadtozlmwqhevq': 13535, 'wz': 14483, 'suggestions': 12599, 'oooo': 9227, 'lyrics': 7942, 'clarified': 2896, 'wolvencrazy19': 14370, 'mounts': 8602, 'capability': 2563, 'techaltitude': 12882, 'ing': 6858, 'insted': 6913, 'developpers': 4012, 'hypnosis': 6565, 'affirmations': 1078, 'loa': 7781, 'inducing': 6820, 'lucid': 7904, 'meditation': 8240, 'nlp': 8932, 'urbex': 13767, 'violent': 13948, 'hahahhahahah': 6119, 'pavilion': 9575, 'e1': 4512, 'teacha': 12863, 'cater': 2648, 'conveniences': 3322, 'construction': 3270, 'weighed': 14195, 'dictate': 4050, 'bat': 1868, 'households': 6479, 'interpreting': 6966, 'paricyte': 9505, 'àaaaaaaaaáâæädhudjssjjsjdhs': 14709, 'revit': 10955, '3ds': 474, 'umm': 13573, 'determine': 3997, 'boohoo': 2190, 'shunazo': 11749, 'bans': 1823, 'square': 12275, 'ruler': 11171, 'enters': 4770, 'editions': 4574, 'singlehandedly': 11838, 'converted': 3330, 'locking': 7796, 'levine': 7649, 'rene': 10766, 'richie': 10991, 'stab': 12294, 'brrr': 2367, 'ufo': 13538, 'sped': 12177, 'lowered': 7882, 'yippee': 14608, 'lamborghini': 7487, 'honda': 6426, 'jog': 7201, 'germin': 5791, 'flies': 5362, 'simplicity': 11814, 'stoopid': 12429, 'controlled': 3313, 'prompted': 10196, 'ahuu': 1126, 'driftwood': 4407, '1993': 209, '486': 542, '66hz': 674, 'strike': 12490, 'commander': 3066, 'affordability': 1080, 'ml': 8460, 'ot': 9306, 'waranty': 14090, 'surgeon': 12666, 'amman': 1286, 'dopee': 4322, 'postponed': 9955, '63rd': 657, 'redbool11': 10613, 'hw': 6551, 'duper': 4476, 'dramatically': 4380, '100lbs': 31, 'gaining': 5665, 'tying': 13517, 'sandal': 11283, 'filed': 5250, 'ashutosh': 1554, 'maraj': 8072, 'lmaooooo': 7775, 'yuk': 14648, 'jaxaboi': 7138, 'template': 12924, 'obsessing': 9081, 'confined': 3212, 'shooters': 11703, 'donaldo': 4305, 'bizarre': 2074, 'reservation': 10842, 'troubles': 13428, 'xavicat98': 14503, 'aprilfool': 1450, 'bare': 1834, 'vaporware': 13835, 'puzzle': 10337, 'sens': 11512, 'container': 3287, 'rtx3080': 11152, 'mrmrzlcu': 8630, 'horrifying': 6457, 'directions': 4120, 'appreciating': 1439, 'amen': 1279, 'applicaction': 1428, 'postman': 9954, 'calendar': 2510, 'respective': 10871, 'compensate': 3121, 'comprehensive': 3163, 'implications': 6727, 'cwazy': 3641, 'thinkin': 13072, 'keepin': 7314, 'whatcha': 14225, 'smokin': 11994, 'flops': 5377, 'speciality': 12162, 'illia': 6668, 'slipchenko': 11939, '144': 133, 'betting': 2004, 'blindly': 2118, 'favts': 5163, 'youd': 14621, 'n64': 8717, 'tqlk': 13311, 'fangirl': 5118, 'tandem': 12812, 'tb3': 12854, 'beard': 1905, 'gamepad': 5679, 'bull': 2419, 'overlook': 9379, 'reproduce': 10815, 'replicating': 10797, 'tenses': 12943, 'hammer': 6134, 'bullet': 2421, 'trained': 13340, 'overt': 9394, 'arrogance': 1526, 'ew': 4885, 'aplaude': 1405, 'sonny': 12093, 'disney': 4192, 'hunting': 6540, 'scalps': 11355, 'sakhawat': 11253, 'rahman': 10433, 'foresee': 5450, 'bloated': 2123, 'commit': 3083, 'spiked': 12210, 'flaw': 5346, 'regulator': 10679, 'oomkiller': 9223, 'engaged': 4738, 'cursory': 3606, 'ht203930': 6498, 'creepiest': 3504, 'compliment': 3158, 'utube': 13808, 'draciosama': 4368, 'slur': 11957, 'oppressed': 9251, 'shatt': 11625, 'ralf': 10450, 'crithit': 3526, 'ouchhhh': 9315, 'hides': 6345, 'ultimatememegod': 13564, 'visualizations': 13969, 'eff': 4592, 'mbair': 8179, 'bulletproof': 2422, 'similarity': 11805, 'kq_fyjcaula': 7419, 'ova': 9354, 'fixing': 5322, 'aford': 1083, 'curency': 3596, 'adapters': 984, 'maxes': 8162, 'sites': 11854, 'lifeblood': 7674, 'doublings': 4339, 'achieved': 942, 'dialled': 4041, 'linger': 7722, 'idler': 6616, 'paces': 9427, 'abate': 863, 'borg': 2210, 'wolf': 14368, '359': 446, 'behaviour': 1954, 'paradoxical': 9494, 'paging': 9444, 'capitalized': 2572, 'contest': 3294, 'slovakia': 11944, 'rhyme': 10976, 'eeny': 4587, 'meeny': 8245, '5mm': 626, 'whea': 14231, 'gallore': 5673, 'mrprothall': 8633, 'homebrew': 6416, 'wheeze': 14235, 'kittens': 7383, 'wheeled': 14233, 'vehicle': 13861, 'crippledpancake': 3519, 'sacrifice': 11229, 'unimpressed': 13654, 'cumbersome': 3586, 'grinds': 6023, 'emergencies': 4686, 'profiles': 10165, 'fields': 5230, 'greenteasworld': 6011, 'slowdowns': 11947, 'webbrowser': 14173, 'masterrace': 8128, 'nationality': 8770, 'arrow': 1529, 'chart': 2752, 'modest': 8493, 'transformed': 13349, 'saturaion': 11315, 'measurment': 8219, 'drains': 4376, 'merit': 8293, 'oculous': 9119, 'qwest': 10407, '20min': 291, 'k1ng': 7280, 'rat': 10483, 'bur': 2436, 'actuallly': 974, 'lapse': 7501, 'warnings': 14104, 'waking': 14062, 'flare': 5338, 'playsations': 9825, 'shrugs': 11746, 'forgivable': 5461, 'praised': 9996, 'badge': 1774, 'pleasseeeee': 9839, 'prettier': 10075, 'presentations': 10057, 'thanos': 12999, 'ayy': 1734, 'inaccurate': 6755, '36737373737737375': 458, 'collected': 3014, 'happend': 6162, 'arghhh': 1488, 'oscar': 9300, 'biiiiiiiin': 2032, 'experiance': 4968, 'camper': 2538, 'ww': 14473, 'los': 7854, 'pollos': 9898, 'hermanos': 6319, 'shrunk': 11747, '13nm': 127, 'struggles': 12507, 'relaxing': 10705, 'sims': 11819, 'adventure': 1050, 'eitherways': 4629, 'pandamic': 9469, 'burnin': 2448, 'davelee': 3738, 'switches': 12739, '256ssd': 341, 'murderous': 8685, 'mayhem': 8171, 'steamlink': 12377, 'shield': 11654, 'rythmic': 11206, 'riot': 11026, 'ig': 6629, 'crimin': 3510, 'fakebook': 5089, 'starmaker': 12331, 'obstacles': 9088, 'collide': 3020, 'incidence': 6764, 'reactions': 10522, 'improvised': 6751, 'nerkmemer': 8844, '6cores': 694, 'greedier': 6006, 'chargers': 2745, 'effiecient': 4603, 'devastating': 4005, 'splurge': 12226, 'arm64': 1509, 'inevi': 6827, 'backgrounds': 1754, 'vital': 13974, 'hugh': 6517, 'responding': 10873, 'capsule': 2575, 'flop': 5376, 'lean': 7577, 'conservative': 3245, 'gearing': 5741, 'hopeful': 6444, 'subscriptions': 12560, 'capitalise': 2569, 'stumbling': 12524, 'decreasing': 3830, 'imacs': 6681, 'bullets': 2423, 'rasset': 10482, 'gigaspuds': 5823, 'b055y': 1740, 'sonys': 12096, '42c': 516, 'becasue': 1921, 'kash': 7303, 'elnino': 4659, 'aaaa': 847, 'pac': 9425, 'dilucente': 4096, 'representing': 10813, 'jaketerry': 7120, 'hiccup': 6339, '15gb': 162, 'venom': 13869, 'quitting': 10399, 'tolerable': 13235, 'corded': 3369, 'inconvenience': 6782, 'weighing': 14196, 'innovator': 6875, 'ymmv': 14611, '1000000': 22, 'extinguisher': 5022, 'repay': 10779, 'prank': 9999, 'blame': 2089, 'nutshell': 9046, 'rxzor': 11196, 'oasis': 9061, 'rolex': 11095, 'submariner': 12550, 'mercedes': 8285, 'nepal': 8838, 'mob': 8474, 'filter': 5263, 'imprint': 6744, 'ingram': 6860, 'multitronic': 8671, 'pancake': 9467, 'professionalsmacbook': 10163, '16c': 176, '24t': 331, 'z690': 14657, 'lousy': 7870, '8c': 753, '16t': 189, 'dustbin': 4487, 'spylamba': 12271, 'programms': 10175, 'dressed': 4402, 'prom': 10185, 'caliber': 2511, 'nether': 8854, 'rawr': 10498, 'endorsement': 4733, 'xx': 14556, 'wudarian': 14471, 'nordvpn': 8979, 'cebu': 2666, 'imagetasks': 6684, 'simon': 11808, 'ism': 7051, 'for': 5436, '3600x': 450, 'preforming': 10035, 'turd': 13478, 'chistmas': 2825, '56_omkar': 599, 'shinde': 11661, 'resouls': 10863, 'soooooooo': 12105, 'darkmarkison': 3712, 'hotstock': 6472, 'flushed': 5394, 'yeas': 14580, 'messin': 8302, 'd630': 3662, 'manpage': 8057, 'txt': 13514, '80c': 742, 'psplus': 10268, 'risky': 11043, 'greate': 6000, 'compair': 3094, 'compairson': 3095, 'cach': 2496, 'wha': 14219, 'bowling': 2244, 'apology': 1408, 'scamming': 11359, 'dave2dyes': 3734, 'imagining': 6691, 'cambells': 2525, 'soup': 12126, 'tremendously': 13385, 'infrastructure': 6855, 'linters': 7731, 'figma': 5243, 'ned': 8808, 'lessgooo': 7634, 'musshy': 8691, 'filler': 5256, 'lifts': 7685, 'licence': 7665, 'distribute': 4225, 'sanitizer': 11290, '8hrs': 765, 'busy': 2463, 'redraw': 10626, 'exporter': 4998, 'billboards': 2038, 'nail': 8730, 'implying': 6729, 'gofundme': 5902, 'louis': 7869, 'rossmann': 11120, 'firm': 5300, 'partial': 9516, 'lololol': 7814, 'kyudo': 7451, 'stockx': 12416, 'nickomg': 8898, 'maaan': 7960, 'shareholder': 11616, 'uuhhhh': 13810, '100c': 28, 'periods': 9655, 'heatsinks': 6272, 'thelightsilent': 13025, 'fresher': 5562, 'showy': 11741, 'recreate': 10607, 'grain': 5975, 'playspaces': 9827, 'bru': 2369, 'weirder': 14200, '4k60fps': 559, 'transitioning': 13354, 'sunzruk': 12622, 'existence': 4939, 'assets': 1585, 'tessellation': 12964, 'unrivaled': 13702, 'chromebook': 2854, 'lift': 7681, 'hentai': 6313, 'contry': 3320, 'standpoint': 12324, 'eula': 4843, '2300mha': 317, 'stamina': 12313, '2nd_place': 388, 'sff': 11584, '135mah': 123, '125mah': 104, 'ilyes': 6677, 'lyes': 7937, 'jim': 7180, 'bruer': 2370, 'crawling': 3473, '675849325769834': 682, 'deliverance': 3889, 'impeccable': 6720, 'hoverhat': 6483, 'manak': 8043, 'mishra': 8428, 'applicable': 1427, 'gallery': 5672, '88': 751, 'consensus': 3242, 'lmaoo': 7772, 'microled': 8351, 'airsoft': 1150, 'troublesome': 13429, 'stills': 12406, 'a7iii': 839, 'a7rii': 840, 'additions': 1000, 'adaption': 986, 'dume': 4467, 'royale': 11139, 'dodgeball': 4273, 'soccer': 12034, 'swabey': 12697, 'multicore': 8653, 'interconnect': 6946, 'occurs': 9103, 'interconnected': 6947, 'dabestmemz': 3666, 'investing': 7002, 'geniusgamingarg': 5772, 'yuo': 14651, 'rwhooosh': 11193, 'smartest': 11971, 'authenticity': 1664, 'sitty9shittyx': 11859, 'screenshots': 11406, 'seriousness': 11545, 'dow': 4343, 'doesn': 4279, '950': 798, 'manuel': 8060, 'idubbbz': 6621, 'multimedia': 8657, 'oct': 9111, 'rm': 11051, 'eden': 4561, 'facetiming': 5058, 'prowl': 10246, 'purrrr': 10322, 'mathematician': 8144, 'guilty': 6066, 'influence': 6842, 'rubles': 11159, 'unidentifiable': 13649, 'excepting': 4909, '666gb': 672, 'decor': 3825, 'patented': 9555, 'tflops': 12984, 'delusions': 3897, 'overtaken': 9395, 'alr': 1233, 'expenses': 4966, 'cryer24597': 3560, 'scooped': 11384, 'nagano': 8725, 'advertises': 1058, 'breakout': 2296, 'renaissance': 10759, 'talents': 12798, 'thoughtful': 13097, 'p4': 9421, 'boogaloo': 2188, 'hungary': 6533, 'recroom': 10609, 'diligence': 4093, '3600xt': 451, '10600k': 39, '10600kf': 40, 'idgaf': 6610, 'whooooo': 14275, 'ibm': 6582, '2nm': 389, 'rentina': 10770, 'strategy': 12462, 'tks': 13209, 'rider': 10999, 'disinterest': 4183, 'disassembling': 4145, 'clipped': 2935, 'r1': 10409, '4rnitnexnco': 562, 'tought': 13295, 'heartedly': 6262, 'motivate': 8592, '4head': 552, 'hints': 6369, 'dgm9bt44ivk': 4032, 'bread': 2290, 'jewels': 7172, 'wehn': 14193, 'outruns': 9344, 'nextgen': 8873, '12900k': 108, 'iterations': 7080, 'teslas': 12963, 'tiktok': 13171, 'exposed': 5002, 'uuuuhmmm': 13811, '28nov2020': 363, 'dellthecomputer': 3895, 'dacypher22': 3668, 'olso': 9183, 'wsp': 14467, 'wh': 14218, 'pe': 9597, 'ke': 7311, 'th': 12988, 'rd': 10509, 'bathroom': 1875, 'ronaldo': 11104, 'chic': 2800, 'decency': 3807, 'shity': 11686, 'comically': 3059, 'iut': 7091, 'inicial': 6864, 'sharpest': 11622, 'nevermind': 8861, 'wrapping': 14448, 'nadda': 8722, '2min': 386, '50sec': 578, '50min': 577, '30sec': 418, 'bothering': 2221, 'capital': 2568, 'bribes': 2317, 'sole': 12056, 'generate': 5759, 'arises': 1498, 'settlement': 11568, '14mil': 145, 'overflow': 9369, 'toll': 13236, 'island': 7050, 'weathered': 14171, 'testers': 12967, 'omglolol': 9190, 'ayaan': 1728, 'bazaz': 1891, 'sjw': 11869, 'cominj': 3064, 'relases': 10695, 'vigilant': 13934, 'creates': 3486, 'eternal_wither': 4835, 'amiright': 1285, '2030': 270, '4c': 546, 'latmy': 7530, 'cannt': 2555, 'rok': 11092, 'ameil': 1278, 'rainbow': 10439, 'dash': 3719, 'jedi': 7152, 'sooooo': 12103, 'inovations': 6876, 'doubled': 4336, 'myspace': 8709, 'fatality': 5145, 'explaied': 4977, 'disatvantages': 4149, 'vampire': 13830, 'alfred': 1183, '400fps': 499, '144fps': 137, 'indistinguishable': 6815, 'flashback': 5340, 'ifix': 6626, 'packet': 9435, 'twinmotion': 13507, 'architects': 1474, 'advocated': 1062, 'disatvantage': 4148, '3sec': 485, 'afterthought': 1092, 'nolan': 8952, 'rice': 10983, 'kaschel': 7302, 'coey': 2997, 'ponies': 9903, 'cosmic': 3399, '100usd': 32, '15000': 150, 'pakistani': 9460, 'rs': 11146, 'discretion': 4173, 'sameeee': 11266, 'gx531': 6087, 'oinks': 9164, 'ori': 9289, 'rewind': 10967, 'plzzzz': 9863, 'goodluck': 5922, 'skill': 11879, 'ripjaws': 11030, '3200mhz': 428, '140': 131, 'trident': 13400, '280': 358, 'rossrr': 11121, 'moms': 8517, 'ahhhhhhhhhhhh': 1123, 'chirstmas': 2824, 'entirety': 4777, 'cliff': 2928, 'debut': 3796, 'headband': 6233, 'ian': 6581, 'ayanabrarofficial': 1730, 'smarten': 11969, 'lacked': 7467, '10s': 66, '11s': 90, 'hards': 6178, 'yann': 14566, 'mal': 8026, 'canvas': 2558, 'normies': 8985, 'at1440p': 1618, 'os11': 9299, 'angled': 1329, '10gbe': 58, 'mled': 8463, 'blinding': 2116, 'mleds': 8464, 'unlocked': 13677, 'transmissive': 13361, 'uled': 13558, 'emissive': 4688, 'polarizer': 9889, 'structures': 12504, 'contain': 3285, 'density': 3927, 'oherwise': 9158, 'generated': 5760, 'organic': 9284, 'molecules': 8510, 'scalping': 11354, 'pockets': 9868, 'psbox': 10263, '0th': 18, 'omit': 9191, 'bogus': 2169, 'overlords': 9382, 'captivity': 2579, 'blink': 2119, 'pattern': 9567, 'pans': 9480, 'soda': 12044, 'moss': 8585, 'octoslut': 9113, 'beinh': 1957, 'income': 6774, 'menus': 8283, 'retrace': 10916, 'cane': 2551, 'iwagumi': 7096, 'aquascape': 1460, 'amdcpu': 1275, 'dumpsguru': 4470, 'fullz': 5609, 'm2_v9': 7952, 'construct': 3268, 'from': 5577, 'matrix': 8149, 'morpheus': 8573, 'discloses': 4161, 'unsubscribed': 13711, 'settle': 11566, 'ucf24lkelzbnvfmjkxdmn3rg': 13534, 'endeavors': 4729, 'exploit': 4988, 'vulnerabilities': 14031, 'tightening': 13167, 'mechanisms': 8229, 'revving': 10964, 'protecting': 10221, 'thanksssss': 12996, 'negrey': 8827, 'bury': 2454, 'samurai': 11280, 'champloo': 2722, 'tougher': 13293, 'powerpoint': 9979, 'puny': 10306, 'krato': 7422, 'rebump': 10566, 'reconcile': 10598, 'conscience': 3241, 'harmful': 6182, 'xbox1': 14511, 'underperformed': 13614, 'rebranded': 10564, 'dominance': 4296, 'prevented': 10080, 'ryaffix': 11197, 'thier': 13061, 'forgettable': 5459, 'morally': 8561, 'bulb': 2415, 'thingies': 13068, 'jjsurrette': 7191, 'gane': 5692, 'ihavereddit': 6643, 'krita': 7427, 'nyeah': 9056, 'zeuswnb': 14682, 'mahin': 8001, 'mvme': 8704, 'installs': 6906, 'cube': 3575, 'cuber': 3576, 'arthropodspidey': 1536, '10bit': 54, 'facehugger': 5050, 'invasion': 6991, 'privilege': 10119, 'designno': 3966, 'landscapes': 7494, 'eagle': 4519, 'flame': 5334, 'trirosmos': 13417, 'stuborn': 12512, 'méxico': 8714, 'tease': 12876, 'sanity': 11291, 'aimed': 1134, 'creatives': 3491, 'basics': 1860, 'nick': 8892, 'zyzda': 14707, 'expression': 5008, 'distinguished': 4219, 'imply': 6728, 'bonafide': 2182, 'spinoff': 12215, 'clarify': 2897, 'leaflet': 7569, 'chärm': 2862, 'cindy': 2865, 'steltenkamp': 12385, 'wrecked': 14451, 'alway': 1253, 'diong': 4108, 'reducing': 10630, 'pareto': 9504, 'principle': 10105, 'spends': 12189, 'consequential': 3244, 'conclusive': 3195, 'hypermonkey': 6563, 'overused': 9399, 'bilibili': 2036, 'zamblot': 14665, 'meadia': 8202, 'micah': 8340, 'adamson': 981, 'retract': 10917, 'underused': 13626, 'sluffing': 11954, 'ensures': 4765, 'androids': 1318, 'hyperdrive': 6562, 'hmb': 6388, 'techhit': 12884, 'jimit': 7182, 'academia': 894, 'analyze': 1303, 'interpret': 6962, '65gb': 665, 'quasar': 10371, 'saber16': 11221, 'translation': 13359, 'footsteps': 5435, 'explosions': 4993, 'schemas': 11372, 'implementations': 6724, 'm1z': 7950, 'm2z': 7953, 'fluffyguy958': 5389, 'tony': 13251, 'bintel': 2050, 'hagrid': 6111, 'confusion': 3223, 'nits': 8926, 'licking': 7668, 'eur': 4845, 'pricier': 10094, 'international': 6959, 'scratched': 11396, 'lukito': 7920, 'likeable': 7695, 'ponder': 9901, 'walked': 14064, 'sho': 11692, '2560x1600': 338, 'deym': 4030, 'trashes': 13371, 'recommending': 10595, 'fanboi': 5112, 'fooling': 5426, 'yourself': 14630, 'anup': 1385, 'raj': 10446, 'bcuz': 1897, 'ayysaysay': 1735, 'giveawayalert': 5844, 'playstation5': 9829, 'orablyro': 9275, 'e6x': 4516, 'wavering': 14144, 'nas': 8762, 'magera': 7989, 'boat': 2160, 'surf': 12661, '10t': 67, '10plus': 65, '9r': 822, 'deteriorates': 3995, 'keen': 7312, 'limb': 7706, 'negligible': 8826, 'bootup': 2204, 'obsession': 9082, 'fines': 5277, 'purists': 10316, 'again': 1094, 'fuss': 5635, 'lined': 7717, 'tricks': 13398, 'infinity': 6839, 'gauntlet': 5723, 'vanished': 13834, 'kenshi': 7324, 'jin': 7184, 'imaginary': 6686, '222': 310, 'confuse': 3220, 'exported': 4997, 'calculations': 2507, 'investigation': 7001, 'reviwe': 10958, 'thelolpvpdani': 13026, '422': 515, 'batching': 1870, 'squeezing': 12282, 'competively': 3133, 'fabs': 5045, 'allots': 1214, 'wounded': 14441, 'osvaldo': 9304, 'montefusco': 8545, 'incomprehensible': 6777, 'w82krjnpazc': 14036, '2300': 316, 'outperformed': 9336, 'hogger': 6397, 'noooooo': 8974, 'jinx': 7185, 'replicas': 10796, 'gizmodo': 5848, '1845550129': 203, 'simplest': 11813, 'histopathologically': 6377, 'hapless': 6160, 'marvelous': 8108, 'prickly': 10096, 'wwii': 14479, 'baideu': 1782, '10c': 55, '20t': 296, 'diff': 4064, 'weights': 14198, 'clap': 2893, 'phill': 9704, 'spensor': 12191, 'vine': 13942, 'prostitute': 10219, 'stove': 12448, '1499': 143, 'conferences': 3204, 'bundling': 2434, 'environmental': 4786, '4h': 551, 'ahahaha': 1116, '59cº': 614, '138': 124, '2fº': 378, 'ardour': 1481, 'boyyy': 2255, 'planted': 9796, 'relly': 10721, 'unusual': 13728, '2010s': 252, 'dragneel': 4371, 'restricting': 10891, 'critique': 3533, 'meanings': 8208, 'jerk': 7165, 'centered': 2687, 'fullsized': 5607, 'drilling': 4408, 'hammering': 6135, 'sawing': 11336, 'gluing': 5876, 'fastening': 5140, 'retrograded': 10922, 'cookies': 3340, 'uninterested': 13656, 'welfare': 14206, 'questioning': 10380, 'gmon750': 5877, 'sentient': 11523, 'exclusove': 4927, 'starught': 12340, 'discless': 4158, 'countering': 3422, 'gurleen': 6077, 'kaur15': 7306, 'whiles': 14249, 'zenui': 14678, 'gorillia': 5941, 'victus': 13918, 'gorilla': 5940, 'kiddin': 7346, 'goods': 5925, 'fingerprints': 5282, 'repairs': 10777, 'urge': 13768, 'torque': 13273, 'ont': 9213, 'anoying': 1362, 'an': 1295, 'jayz2cents': 7145, 'exploding': 4987, 'ps5pro': 10259, 'combinations': 3041, 'magazine': 7988, 'anticipates': 1378, 'supplies': 12640, 'dishonest': 4181, 'techtips': 12896, 'shattered': 11627, 'crossovers': 3544, 'sku': 11898, 'begins': 1946, 'forked': 5469, 'multitouch': 8670, 'hurdles': 6541, 'ships': 11673, 'grand': 5977, 'outrage': 9340, 'resentment': 10841, 'outraged': 9341, 'accont': 919, 'drugs': 4431, 'exuberantraptor': 5030, 'updating': 13735, 'appliances': 1426, 'havea': 6211, 'alleviate': 1203, 'corners': 3380, 'tot': 13281, 'chaos': 2734, 'consistency': 3253, 'weither': 14203, 'geometrically': 5785, 'symmetric': 12752, 'uki': 13556, 'lokada': 7810, 'farete': 5130, 'yasa': 14569, 'arkham': 1507, 'accomplished': 918, 'diamond': 4043, 'caving': 2659, 'appearing': 1417, 'thechoosenone': 13017, '984': 812, 'somecanadianboy': 12072, 'doomeddior': 4315, 'thennnnn': 13031, 'furnished': 5627, 'karon': 7300, 'ei': 4625, '11gb': 86, '8vs16': 777, 'vineet': 13943, 'kamble': 7291, 'poco': 9869, 'fireeee': 5294, 'ruiner': 11165, 'comparsion': 3110, 'banger': 1812, 'looong': 7838, 'anyhow': 1388, 'hernandez': 6320, 'uniquely': 13658, 'zodd': 14692, '508': 573, 'tia': 13150, 'josé': 7228, 'gálvez': 6091, 'duel': 4458, 'stoll': 12420, 'ugggghhh': 13539, 'serina': 11542, 'asmr': 1571, 'techie': 12885, 'owc': 9405, 'macsales': 7981, '458': 530, 'compassion': 3111, 'digestible': 4081, 'spg': 12197, 'reacts': 10524, 'mrguy': 8626, 'dispersion': 4196, 'roshan': 11116, 'rai': 10434, 'swaroop': 12709, 'ajit': 1153, 'fluorescent': 5393, 'bulbs': 2416, 'suffered': 12589, 'injury': 6867, 'maaaan': 7959, 'validation': 13824, 'explode': 4985, 'usbc': 13779, 'snarky': 12015, 'lyk': 7940, 'noticeably': 9006, 'bites': 2070, 'elbow': 4632, 'dancing': 3694, 'hollywood': 6408, 'razerbook': 10504, 'slip': 11938, '5nm': 627, 'competent': 3126, 'commenters': 3074, 'knack': 7387, 'liners': 7718, 'curbstomp': 3594, 'scientist': 11381, 'subregion': 12553, 'narrow': 8760, 'widen': 14293, 'teleconferencing': 12911, 'fromsoft': 5578, 'relation': 10699, 'teaches': 12867, 'clickbaity': 2923, 'bland': 2091, 'unenthusiasticly': 13631, 'argued': 1492, 'remarks': 10735, 'jared': 7132, 'monk': 8532, 'unnatural': 13682, 'accurately': 930, 'derpty': 3949, 'derp': 3948, 'delight': 3887, 'mcdunnough': 8191, 'divisions': 4237, 'omega': 9184, 'labyrinth': 7465, 'toned': 13244, 'towels': 13302, 'censor': 2682, 'nora': 8976, 'oujo': 9317, 'noraneko': 8977, 'uncensored': 13592, 'bikinis': 2035, 'nudity': 9034, 'snk': 12021, '40th': 507, 'bikini': 2034, 'armor': 1511, 'enjoys': 4759, 'mt': 8639, '1440': 134, 'taller': 12806, 'reddish': 10615, 'offical': 9141, 'experiencing': 4972, 'backs': 1763, 'labour': 7463, '30th': 419, 'aaaaaaaaaaaaaaaaaaaaaa': 849, 'wdvse': 14153, 'bnergn': 2154, 'thrn': 13110, 'gbfgbfgbfgbfgbfgbfgbfgbfgbfgb': 5733, 'multithousand': 8668, 'tue': 13467, 'compating': 3117, 'voth': 14006, 'astonishing': 1607, 'handset': 6152, 'exoticmamba': 4952, 'arive': 1499, 'fifteen': 5233, 'leverage': 7647, 'operations': 9241, 'ford': 5443, 'don': 4304, 'reveiew': 10936, 'weekdays133': 14189, 'logiejt': 7806, 'arizona': 1501, 'introductory': 6984, 'psssh': 10272, 'maketing': 8022, 'documentations': 4270, 'manpages': 8058, 'breakfast': 2294, 'indonesia': 6818, 'simmer': 11807, 'crazily': 3476, 'geldon': 5749, 'ontrack': 9215, '20normal': 292, '20hdds': 285, '20can': 282, 'e2': 4513, '93': 791, '20in': 286, '2c000': 374, '20times': 299, '20during': 283, '20its': 287, '20lifetime': 289, 'ja': 7099, 'insaneeee': 6883, 'ps5v': 10261, 'everthying': 4866, 'dbranding': 3761, 'trolli': 13422, 'my': 8707, 'chitembo': 2826, 'leaps': 7580, 'bounds': 2238, 'revamped': 10933, 'moolah': 8551, '276w': 354, '25w': 343, 'merged': 8291, 'miband3': 8334, 'problematic': 10130, 'raphael': 10470, 'guzman': 6084, 'grant': 5981, 'wrongly': 14463, 'kontrolfreek': 7416, '46000': 533, 'sourcetree': 12130, 'coordinated': 3356, 'vignetting': 13936, 'sms': 12001, 'bleach': 2100, 'potus': 9964, 'sandwitch': 11288, 'vedios': 13856, 'unification': 13650, 'reloaded': 10723, 'leads': 7567, 'gonnab': 5918, 'gud': 6055, 'retaining': 10902, 'rift0tripper': 11006, 'lo': 7780, 'markel': 8087, 'morin': 8570, 'johntrent': 7209, 'is_my_hero': 7044, 'brooding': 2351, 'follicle': 5411, '2m': 384, 'sneak': 12017, 'curlyemmm': 3599, '123': 100, 'alvaro': 1252, 'rivera': 11047, 'buffier': 2403, 'depreciate': 3939, 'dudeperfect': 4454, 'intetcepted': 6973, 'stricked': 12485, 'makin': 8024, 'excuses': 4931, 'graohic': 5984, 'dumm': 4468, 'sketching': 11876, '3ft': 475, '000mah': 4, 'lovr': 7878, 'artboard': 1534, 'petition': 9690, 'certs': 2701, 'intern': 6955, 'annoyed': 1352, 'laying': 7554, '165hz': 171, 'fontana': 5419, 'nahhh': 8728, 'smat': 11979, 'deadpool': 3776, 'reincarnation': 10686, 'oldest': 9175, 'yausernametaken': 14571, 'dick': 4048, 'babies': 1746, 'witness': 14359, 'ww2': 14474, 'noooo': 8972, 'captured': 2581, 'arranged': 1518, 'rehabilitate': 10680, 'nodejs': 8942, 'database': 3723, 'microservice': 8358, 'ugguzgdv6hc': 13540, 'arch': 1472, 'overexcited': 9368, 'nationwide': 8772, 'conjunction': 3229, 'camellia': 2528, 'technologically': 12893, 'binge': 2048, 'kyoseku': 7448, 'prolong': 10181, 'comaprison': 3036, 'windfish': 14314, 'entrust': 4779, 'gyroscope': 6090, 'seperate': 11530, 'hight': 6357, 'mitigated': 8449, 'previously': 10086, 'adblocker': 989, 'davzwho': 3747, 'shoulder': 11724, 'processer': 10139, 'bars': 1848, 'haidar': 6120, 'sulthan': 12609, 'doable': 4260, 'whne': 14267, 'qust1': 10406, 'invite': 7007, 'forbid': 5437, 'freddys': 5541, 'retrocompatibility': 10921, 'chester': 2797, 'metadata': 8308, 'cripples': 3520, 'saksham': 11254, 'rao': 10469, 'warrior': 14109, 'planeverse': 9791, 'fangirls': 5119, 'egads': 4609, 'association': 1594, 'roading': 11058, 'hauling': 6208, 'prius': 10115, 'meabs': 8201, 'tgose': 12987, 'translations': 13360, 'toooooo': 13261, 'xddd': 14525, 'upppp': 13755, 'teel': 12903, 'intensity': 6933, 'spanking': 12147, 'sip': 11847, 'playsation': 9824, 'zynxc': 14706, 'accidentaly': 916, 'lmaoooo': 7774, 'sol': 12051, 'carriers': 2615, 'me': 8199, 'gtx1660ti': 6047, 'undervolt': 13628, 'triton': 13419, '8750h': 750, 'helios': 6295, '9750h': 807, '213th': 304, '780g': 728, 'performer': 9649, 'hawt': 6217, 'junkie': 7265, 'ijs': 6653, 'assed': 1580, 'rightfully': 11013, 'homes': 6417, 'restore': 10886, 'films': 5262, 'rephrase': 10787, 'patent': 9554, 'continued': 3297, 'legally': 7600, 'pisses': 9766, 'upstart': 13763, 'partnet': 9528, 'thedanielshepherd': 13018, 'opneing': 9246, 'standout': 12323, 'dungeon': 4471, 'jaime': 7117, 'hancock': 6138, 'psshh': 10270, 'compatile': 3116, 'thants': 13000, 'owen': 9407, 'lackey': 7468, 'swag': 12699, 'p50': 9422, 'strix': 12497, 'arion': 1497, 'alloy': 1219, 'enclosure': 4719, '970': 805, 'corsair': 3396, 'mp510': 8617, 'hooking': 6440, 'treating': 13382, 'okk': 9170, 'your': 14627, 'howevera': 6488, 'excell': 4906, 'register': 10672, 'synced': 12756, 'urmemer': 13770, 'blindfolded': 2115, 'summery': 12614, 'koen': 7409, 'ouwehand': 9353, 'loudspeaker': 7868, 'dial': 4039, 'excactly': 4902, 'sporty': 12244, 'destroying': 3982, 'ahhhhhh': 1121, 'replaying': 10795, 'jayr': 7144, 'marasigan': 8073, 'buffer': 2400, 'glossy': 5868, 'mugger': 8644, 'pugger': 10292, 'infrared': 6854, 'dabbing': 3665, 'freddy': 5540, 'francesco': 5523, 'spoils': 12231, 'fnaf': 5399, 'wearable': 14164, 'rank': 10465, 'surpassing': 12672, 'closet': 2950, 'gary': 5710, 'stinten': 12409, 'surrounding': 12680, 'loses': 7858, 'sacrilegious': 11232, 'sickest': 11760, 'blasphemy': 2095, 'disciples': 4156, 'sameeeee': 11267, 'aaaaaaaaa': 848, 'gremlin': 6014, 'plants': 9797, 'dried': 4404, 'nms': 8934, 'trudging': 13437, 'deeper': 3839, '290watts': 366, 'commence': 3068, 'baddd': 1773, 'pollopescetarian': 9897, 'keto': 7329, 'mediterranean': 8241, 'olive': 9180, 'godsend': 5899, 'mfs': 8321, 'externals': 5021, 'bougjt': 2235, 'cling': 2932, 'storyline': 12445, 'yard': 14567, 'thankyou': 12997, 'unboxed': 13589, 'heavily': 6276, 'igpus': 6641, 'chiplets': 2820, 'testimony': 12969, 'unixhack': 13667, '1nsta': 227, 'galacy': 5669, 'studied': 12516, 'ud': 13536, 'x3': 14490, 'perfer': 9641, 'concerning': 3190, 'emulator': 4711, 'perceive': 9628, 'maddening': 7983, 'frunkity': 5582, 'explsin': 4994, 'cleaned': 2908, 'cotton': 3411, 'swabs': 12698, 'lightly': 7690, 'dusted': 4488, 'mint': 8417, 'feautere': 5185, 'omron': 9194, 'heartguide': 6263, 'theinflatable': 13021, 'surprises': 12675, 'televisible': 12915, 'rub': 11155, 'deteriorating': 3996, 'crusties': 3558, 'embedded': 4682, 'elastic': 4631, 'spectacles': 12172, '0ghz': 17, 'congo': 3225, 'gross': 6029, 'marcell': 8077, 'kovacs': 7417, 'confidence': 3206, 'aspects': 1575, 'beside': 1992, 'achievement': 943, 'distinct': 4216, 'globe': 5864, 'cook': 3337, 'shitbox': 11676, 'hint': 6368, 'affiliates': 1076, 'circumstance': 2873, 'heed': 6282, 'geometry': 5786, 'dlss': 4250, 'kraken': 7421, 'scratching': 11397, 'dawid': 3749, 'winkler': 14320, 'banks': 1819, 'vasiliska': 13846, 'pupkina': 10307, '61w': 654, 'sabers': 11222, 'twenty': 13504, 'moi': 8505, 'unibody': 13646, 'nebula': 8800, 'describes': 3954, 'garrett': 5708, 'oculust': 9121, 'willingly': 14310, 'whappen': 14223, '50fps': 574, 'whot': 14282, 'deeply': 3843, 'embbeded': 4681, 'seting': 11561, 'cooker': 3338, '2933': 368, 'comedy': 3048, 'robin': 11066, 'lip': 7735, 'moustache': 8605, 'tronicsfix': 13425, 'dismantle': 4190, 'ireland': 7034, 'exam': 4897, 'hall': 6127, 'attempting': 1642, 'desist': 3968, 'printing': 10109, 'refunds': 10659, 'rational': 10491, 'customizes': 3625, 'stupidly': 12528, 'magnavox': 7993, 'eugen': 4841, 'ping': 9754, 'pong': 9902, 'zucc': 14703, 'wanttttt': 14088, 'genre': 5774, 'confident': 3207, 'disregard': 4205, 'restroom': 10893, 'cleanist': 2911, 'tunnelbear': 13476, 'millionth': 8391, 'tard': 12827, 'wrangler': 14444, 'patzy': 9569, 'teetering': 12907, 'gamble': 5674, 'splurging': 12227, 'mindblowing': 8394, 'vr2': 14015, 'lesser': 7633, 'sd888': 11427, 'gndotv0c3lc': 5879, 'vista': 13966, 'touchbar': 13286, 'trounces': 13431, 'qkhauli': 10355, 'johnson': 7207, 'dizzy': 4240, 'inflection': 6840, 'dived': 4233, 'natura': 8776, 'schedule': 11370, 'nex2005': 8871, 'smartband': 11968, 'speefteef': 12184, 'cheating': 2768, 'goats': 5886, 'sheeps': 11636, 'sturdier': 12529, 'moses': 8584, 'tekper': 12910, 'ramp': 10454, 'strident': 12488, 'bpth': 2258, 'parkour': 9510, 'coordinate': 3355, 'r3d': 10413, 'sucha': 12574, 'analogue': 1299, 'layout': 7555, 'offloaded': 9148, 'verry': 13884, 'overlooking': 9381, 'commets': 3080, '5hlth0l3': 621, 'r4z0r84': 10415, 'bloat': 2122, 'outdo': 9323, '10min': 62, 'allo': 1207, 'z8': 14658, 'rougly': 11127, '5z': 637, 'clouds': 2957, 'unstealistic': 13710, 'sharpness': 11623, 'highs': 6356, 'che': 2760, 'consumable': 3272, 'dreamcast': 4396, 'crepchiefnotify': 3506, 'substituting': 12567, '153tb': 157, '13inch': 126, 'spanst': 12148, 'wallets': 14072, 'contrasts': 3307, '1024': 36, '720': 715, 'vga': 13899, 'glory': 5867, '360gb': 453, 'laura': 7545, 'barnes': 1842, 'exaggerate': 4893, 'shortens': 11717, 'expectancy': 4959, 'waitingfff': 14056, 'quoted': 10404, 'humans': 6523, 'bracketing': 2261, '150mb': 152, '1000w': 27, 'thinly': 13075, 'freed': 5544, '92mb': 790, '36gb': 459, '78gb': 729, 'pedestal': 9606, 'laskai': 7513, 'tamás': 12810, 'hhhhhh': 6336, 'preety': 10020, '100k': 30, 'techcrunch': 12883, 'awesomeness': 1712, 'boosters': 2197, 'medicine': 8235, 'sculpture': 11422, 'instrument': 6916, 'alchemy': 1166, 'sampler': 11275, 'de00pro': 3772, 'lazr_': 7557, 'purpouse': 10321, 'oses': 9302, 'sectors': 11464, 'backups': 1766, 'wondered': 14375, '246gb': 326, 'chug': 2857, 'powaaah': 9971, '303': 405, 'exept': 4933, 'combatable': 3038, 'junegreg': 7262, 'cual': 3573, 'suggests': 12600, 'ignorance': 6632, 'learnt': 7584, 'themysterykid1': 13030, 'badass': 1772, 'impossibe': 6737, 'suspending': 12688, 'reduces': 10629, 'lawsuits': 7549, 'boissss': 2174, 'firomsa': 5303, 'onward': 9216, 'istat': 7063, 'bossiness': 2217, 'knowns': 7403, 'toilet': 13231, 'nishan': 8920, 'ameen': 1277, 'theu': 13052, '6000x4000': 643, 'mastermhmd': 8125, '6nm': 702, 'liam': 7657, 'harrington': 6184, 'avout': 1699, 'sunday': 12617, 'dissapointing': 4209, 'nicknames': 8897, 'clocks': 2940, 'ow': 9404, 'sim20': 11802, 'vat': 13849, 'handicapped': 6144, 'encoders': 4723, 'selected': 11490, 'presenters': 10060, 'realme': 10550, 'ysll': 14642, 'fos': 5495, 'letuserhack': 7642, 'dudefish': 4453, 'subed': 12544, 'longrun': 7822, 'cynthia': 3652, 'anderson': 1311, 'wm': 14363, 'wasant': 14114, 'screendoor': 11404, 'considers': 3252, 'sus': 12684, '3nm': 480, '28nm': 361, 'gates': 5717, 'headline': 6237, 'advert': 1053, 'immunochemically': 6710, 'electronically': 4641, 'vacuous': 13817, 'surname': 12667, 'sneaky': 12018, 'suuuuuper': 12693, 'bruises': 2375, 'commissions': 3082, 'contemplating': 3289, 'santa': 11295, 'passwords': 9547, 'tied': 13160, 'pw': 10338, 'avx': 1702, 'xboxb': 14513, 'rendered': 10763, 'teralio': 12950, 'smiled': 11985, 'gently': 5780, 'adopter': 1030, 'mouths': 8607, 'ogs': 9156, 'ers': 4814, 'soaks': 12030, 'metallic': 8310, 'coloring': 3027, 'glub': 5873, 'psshhh': 10271, 'cyan': 3643, 'quotes': 10405, 'gaping': 5698, 'creature': 3495, 'cytomorphologically': 3655, 'multiply': 8663, 'interestedly': 6950, 'nondescript': 8961, 'cardigan': 2588, 'kindhearted': 7366, 'rooster': 11109, 'ryepop': 11202, 'stray': 12464, 'recieve': 10583, 'vedio': 13855, 'notting': 9017, 'esle': 4818, 'doomsday': 4316, 'gooo': 5932, 'whiting': 14266, 'muah': 8640, 'darko': 3713, 'stellar': 12384, 'wrel': 14452, 'rel': 10693, '2550k': 336, 'snaps': 12014, 'observation': 9077, 'eminem': 4687, 'tostitoes': 13280, 'rebranding': 10565, 'bri': 2313, 'kiddo': 7348, 'gueds': 6057, 'unserstandable': 13708, 'colon': 3023, 'convert': 3329, 'decimals': 3817, 'decimal': 3816, 'srgb': 12288, 'argb': 1487, 'dci': 3763, 'p3': 9420, '5x': 631, 'skyper': 11907, 'mist': 8439, 'pulled': 10295, 'religious': 10719, 'pirates': 9763, 'caribbean': 2602, 'davy': 3746, 'jones': 7222, 'aye': 1731, 'admitting': 1025, 'demonsoul': 3910, 'falconer': 5091, 'gues': 6058, 'residents': 10850, 'handed': 6141, 'dyslexic': 4511, 'mitochondria': 8450, 'waisted': 14052, 'iiihaterandoms': 6646, 'ru': 11154, 'pauls': 9572, 'drag': 4369, 'a12': 829, 'regretting': 10675, 'nazo': 8791, 'homan': 6414, 'hydroo': 6557, 'diping': 4110, 'shittt': 11684, 'outselling': 9346, 'loooooool': 7839, 'actmntr1004': 969, 'djzrob': 4244, 'trailers': 13338, 'tycoon': 13516, 'fugggg': 5598, 'hog': 6396, 'a52': 836, 'jens': 7161, 'holst': 6410, 'schumacher': 11377, 'doesnot': 4280, '5min': 625, '20secs': 294, 'statistic': 12358, 'xiao': 14536, 'universally': 13663, 'specification': 12166, 'http': 6502, 'zxsd': 14705, 'aqmjcw': 1457, '11m10s': 89, '150gb': 151, 'yehh': 14588, 'parsons': 9514, 'demonstration': 3915, 'interrupt': 6967, 'scheduled': 11371, 'fa': 5040, 'thoni': 13088, 'accompany': 917, 'metro': 8316, 'ofcourse': 9132, 'traveller': 13373, 'copying': 3365, 'quotation': 10401, 'stink': 12408, 'hubbard': 6509, 'communities': 3088, 'breach': 2287, 'navigate': 8785, 'debugging': 3794, 'mmmmm': 8469, 'swings': 12733, 'seasonal': 11447, 'ncix': 8793, 'looses': 7847, 'gems': 5752, 'feedthis': 5193, 'kodikujo': 7408, 'faulty': 5152, 'compensated': 3122, 'vetted': 13897, 'eyepatch': 5035, 'gamer125w': 5684, 'sar': 11299, '4300': 520, 'perks': 9659, '61mp': 653, 'a7riii': 841, 'translated': 13357, 'haswell': 6195, 'broadwell': 2343, 'gaps': 5699, 'viewed': 13928, 'inherited': 6863, 'fallacy': 5094, 'broadband': 2338, '2hours': 380, 'praveen': 10002, 'nair': 8733, 'imagination': 6687, 'spectacular': 12173, 'whens': 14238, 'reiley': 10684, 'beforehand': 1939, 'mumu': 8676, 'oclucus': 9108, 'indentured': 6798, 'servant': 11547, 'debt': 3792, 'tyranny': 13528, 'guides': 6065, 'bratt': 2281, 'outputting': 9339, 'shave': 11629, 'alternativly': 1245, 'n7': 8718, 'skinn': 11884, 'adjusted': 1013, 'neeed': 8815, 'compulsory': 3174, 'australian': 1660, 'fracked': 5513, 'didint': 4054, 'chew': 2798, 'streamable': 12467, 'ky': 7444, 'complaints': 3145, 'stackexchange': 12301, '67031': 679, 'noredirect': 8980, 'lq': 7892, 'notified': 9012, 'brokxnfuture': 2348, 'moght': 8502, 'latesh': 7526, 'rehearsing': 10682, 'iiiiinnnttteerreestiiing': 6649, 'report': 10803, 'influencer': 6843, 'rmbp': 11053, 'wujo444': 14472, 'outyayo': 9352, 'godtier': 5900, 'lolz': 7815, 'torres': 13274, 'yk': 14609, 'celling': 2675, 'timestamp': 13184, 'redcovenant': 10614, 'beleive': 1960, 'hesitating': 6328, 'whyamidizzy': 14283, 'rishi': 11038, 'mamaing': 8033, 'ayyyyeeeee': 1736, 'qhd': 10351, 'further': 5630, 'emotions': 4697, 'medina': 8238, 'loadings': 7785, 'omen': 9186, '10750h': 44, 'filmmaking': 5261, 'ect': 4557, 'egpus': 4615, 'minis': 8412, 'gonads': 5916, 'punched': 10302, 'darcuo': 3706, 'visualizers': 13970, 'nahh': 8727, 'santamonica': 11296, 'fullest': 5606, 'rapper': 10474, 'darshan': 3717, 'makaveli': 8015, 'thuggish': 13130, 'lastly': 7518, '2026': 268, 'murcia': 8682, 'breached': 2288, 'criticisms': 3529, 'jeremy': 7164, 'taris': 12833, 'gasp': 5713, 'thunderz': 13144, 'lundorff': 7927, 'yang': 14565, 'gsmarena': 6041, 'nes': 8847, 'pacing': 9428, 'exitoz': 4946, 'franchise': 5524, 'makee': 8017, 'fer': 5211, 'tooths': 13263, 'yellower': 14590, 'integrate': 6921, 'deja': 3876, 'vu': 14028, 'x2': 14488, 'bane': 1810, 'mains': 8008, 'admin': 1017, 'taxes': 12850, 'barrier': 1846, 'wouldent': 14438, 'igothu': 6639, 'mastertrash': 8129, 'ommmggg': 9193, 'fiftysix': 5236, 'minees': 8400, 'band2': 1800, 'shabbir': 11589, 'dharwala': 4034, 'comrade': 3183, 'waaay': 14037, 'itel': 7076, '11600kf': 80, 'parshwa': 9513, 'shah': 11596, 'sober': 12032, 'mannerism': 8054, 'tuck': 13466, 'comparible': 3105, 'skits': 11895, 'immunity': 6709, 'palmer': 9465, 'luckey': 7907, 'disappear': 4134, 'pioneers': 9759, 'ride': 10998, 'beter': 1999, 'fort': 5485, 'overcomplicate': 9365, 'slaphash': 11916, 'denton': 3928, 'mlykke': 8465, 'sheeesh': 11633, 'yessssssssss': 14600, 'cracky': 3459, 'f3': 5039, 'bahrain': 1781, 'trades': 13331, '9130ussd': 786, 'butterflies': 2469, 'stomach': 12421, 'grateful': 5993, 'uhhhhhh': 13549, '300gb': 403, 'fax': 5165, 'eliminates': 4653, 'checkpoints': 2777, 'vibrating': 13908, 'knowingly': 7399, 'decider': 3813, 'growing': 6037, 'genetic': 5769, 'closest': 2949, 'naturally': 8778, 'embrass': 4685, 'coronus': 3384, 'climbing': 2931, 'crosses': 3541, 'skit': 11894, '800th': 740, 'cyncro': 3651, 'sarova': 11304, 'constrained': 3266, 'failures': 5082, 'civilization': 2885, 'mars': 8103, 'teleport': 12913, 'locations': 7792, 'unsynchronized': 13716, 'babe': 1745, 'featuring': 5184, 'drawer': 4387, 'squat': 12276, 'istats': 7066, 'pangwen': 9474, 'burner': 2446, 'enrico': 4763, 'bugatti': 2405, 'astolfoiswaifu': 1606, 'unfortunate': 13640, 'spewing': 12196, 'clowns': 2960, 'talkin': 12802, 'fabricating': 5043, 'rlly': 11049, 'skytech': 11910, 'prebuilt': 10007, '9400f': 796, 'preform': 10034, 'runing': 11179, 'complexity': 3154, 'variables': 13838, 'blogs': 2132, 'n9': 8719, 'rumbles': 11174, 'nightdive': 8906, '7wubyzaprm0': 736, '1025': 37, 'theswagguy5000': 13048, 'framrate': 5521, 'souljaboy': 12118, 'apnea': 1406, 'comicomedians': 3060, 'haris': 6181, 'stations': 12356, 'rdp': 10512, 'client': 2927, 'exacerbated': 4890, 'applause': 1421, 'xaomi': 14501, 'kyestar88': 7445, 'brute': 2384, 'redditors': 10618, 'maric': 8084, 'banner': 1821, 'targeted': 12830, 'awkwardly': 1716, 'positions': 9940, 'lewlater': 7652, 'baits': 1785, 'blabbing': 2077, 'juicer': 7252, '10m': 61, 'quicky': 10390, 'hugely': 6515, 'chabaker9': 2709, 'unreasonable': 13697, 'rested': 10884, 'franchises': 5525, 'horned': 6453, 'biohazard': 2052, 'cockpit': 2986, 'abot': 877, 'introduces': 6983, 'stutters': 12532, 'swifted': 12727, 'sweeps': 12722, 'discomforts': 4163, '16bg': 175, 'imgur': 6695, 'ghhvxmj': 5803, 'png': 9865, 'imbecile': 6693, 'bollywood': 2177, 'gutter': 6080, 'dwelling': 4501, 'littlebigplanet': 7758, 'alman1234': 1222, 'goimg': 5905, 'prix': 10121, 'signed': 11782, 'elenchus': 4645, 'nornal': 8986, 'aight': 1130, 'paranoid': 9500, 'abilty': 872, 'tamim': 12808, 'skyrocket': 11909, 'twk': 13512, 'completing': 3150, 'paperwork': 9489, 'geeks': 5746, 'diction': 4052, 'sucker': 12577, 'pigs': 9742, 'cools': 3350, 'poweroff': 9977, 'homework': 6419, 'gym': 6088, '1min55': 225, '64go': 662, 'quart': 10368, 'r4r': 10414, '4r4': 561, 'ninjastorm': 8917, 'joel': 7198, 'prequel': 10052, 'sayin': 11340, 'saravanan': 11300, 'gtr': 6044, '135': 122, 'journal': 7229, 'diary': 4045, 'appleinsider': 1424, 'ehhhh': 4624, 'pp': 9983, 'writer': 14458, 'vibrant': 13905, 'raspberry1440kb': 10480, 'quake': 10360, 'fatal': 5144, 'fury': 5633, 'hat': 6196, 'footnotes': 5433, 'representation': 10811, 'placing': 9785, 'xsxs': 14551, 'imao': 6692, 'pudge': 10290, 'buzillion': 2479, 'jira': 7186, 'doc': 4261, 'spreadsheet': 12258, 'legaly': 7601, 'minors': 8415, 'expreicne': 5004, 'stsyem': 12509, 'teenagers': 12905, 'infrom': 6856, 'scabbedcinnamonroll': 11347, 'orchestral': 9277, 'kontakt': 7415, 'craving': 3471, 'otaku': 9307, 'voted': 14005, 'tarun': 12835, 'suresh': 12660, 'pz': 10346, 'compensating': 3123, 'adverse': 1052, 'toxicnova': 13307, 'tf2': 12983, 'brags': 2264, 'thiccc': 13057, 'gwen': 6085, 'tha': 12989, 'sidharth': 11773, 'peels': 9611, 'chuckee': 2856, 'cheeze': 2785, 'token': 13233, 'sibi': 11757, 'crowd': 3546, 'incresed': 6793, 'cpl': 3450, 'bathesda': 1874, 'juat': 7246, 'hohn': 6398, 'nyan': 9054, 'signal': 11778, 'imaging': 6690, 'wooah': 14382, 'whyyyyyyyyyyyyyy': 14284, 'thisssssssssssssss': 13081, 'whhyyyyyyyyyyh': 14244, 'fulfilled': 5603, 'fisical': 5309, 'upright': 13756, 'sonnet': 12092, 'sas': 11307, 'accounting': 925, 'failtel': 5080, 'soulja': 12117, 'maximus': 8165, 'godlike': 5894, '1140': 73, 'x4': 14492, 'mutiple': 8702, 'distribution': 4227, 'demeanor': 3902, 'sakes': 11252, 'spam': 12143, '19th': 211, 'uncovered': 13603, 'hyacinth': 6552, 'afore': 1084, 'jogging': 7202, 'greasy': 5998, 'wallaby': 14070, 'attaching': 1636, 'compresses': 3166, 'riker': 11019, 'picard': 9722, 'engeniers': 4741, 'rosseta': 11118, 'sureal': 12657, '5yrs': 636, 'variable': 13837, 'brushes': 2380, 'taiwanes': 12790, 'zenphones': 14677, 'frederik': 5542, 'vestre': 13895, 'i7s': 6576, 'atrociously': 1631, 'spiritual': 12218, 'imovie': 6713, 'rdr2': 10513, '11900': 84, 'arround': 1528, 'incline': 6766, 'resoulution': 10864, 'harware': 6188, 'indentical': 6797, 'goona': 5931, 'ofm': 9153, 'whell': 14236, 'searias': 11444, 'treated': 13381, 'hosted': 6467, 'toby': 13223, 'zweig': 14704, 'xeons': 14531, 'assrippers': 1596, 'assmdtards': 1592, 'circus': 2875, 'advertisements': 1057, 'vizcaino': 13979, 'demonetization': 3908, 'permenantly': 9663, 'oem': 9129, 'lessen': 7630, 'venow': 13870, 'tke': 13208, 'skamed': 11870, 'quarantine': 10366, 'modellers': 8487, 'poking': 9885, 'corpses': 3388, '2fa': 377, 'unlinked': 13675, 'wishlist': 14346, 'mrwhosetheboss': 8634, 'trinity': 13409, '0epic0': 16, 'jts': 7245, 'battries': 1887, '2lakhs': 383, 'jusssst': 7269, 'ppt': 9986, 'additionnal': 999, 'healthier': 6251, 'oculos': 9118, 'fukking': 5602, 'claiming': 2890, 'warrants': 14106, 'cupcake': 3590, 'homo': 6423, 'startmenu': 12338, 'forest': 5452, 'sn11': 12005, 'senate': 11508, 'perron': 9669, 'streamed': 12468, 'horizzon': 6452, 'samir': 11270, 'amadou': 1256, 'lifelong': 7676, 'techlinked': 12887, 'quarter': 10369, 'substitutes': 12566, 'ticks': 13155, 'nomixiu': 8958, 'reactivate': 10523, 'kylemlgboss': 7447, 'ehhh': 4623, 'hesitation': 6329, 'rocco': 11073, 'palma': 9464, 'disgusted': 4179, 'complainings': 3142, 'upgradability': 13737, 'resembles': 10839, 'mounted': 8600, 'socket': 12039, 'voilá': 13996, 'stort': 12443, 'speads': 12153, 'sequential': 11537, '8ns': 770, '31st': 424, 'ma': 7958, 'neglecting': 8825, 'transparent': 13365, 'samee': 11264, 'setups': 11570, 'tooo': 13259, 'theboa': 13016, 'carnage': 2610, 'snot': 12025, 'participants': 9518, 'fkebook': 5324, 'stasis': 12344, 'g100': 5649, 'basicly': 1859, 'heatsets': 6270, 'alchool': 1167, 'destroied': 3979, 'd15s': 3657, 'waters': 14139, 'academy': 896, 'sadness': 11236, 'fave': 5154, 'idrc': 6620, '5900': 610, 'moly': 8511, 'vulkan': 14030, '50gb': 575, '66gb': 673, 'der8auer': 3945, 'logically': 7805, 'pleaseeeee': 9836, 'sonyy': 12097, 'domino': 4303, 're8vr': 10515, 'caming': 2533, 'mkhd': 8458, 'dreik009': 4400, 'exceptions': 4912, 'distinguishing': 4220, 'poplix': 9913, 'creeping': 3505, 'disease': 4178, 'bimi': 2044, 'm1ipad': 7947, 'afternoon': 1091, 'joker': 7213, 'transmitter': 13363, 'bess': 1994, 'classless': 2903, 'manufacture': 8061, 'infotainment': 6853, 'supercars': 12627, 'skinned': 11885, 'avengers': 1685, 'aout': 1398, 'stomps': 12424, 'laughter': 7539, 'rumours': 11177, 'challengers': 2718, 'katana': 7305, 'baited': 1784, 'alike': 1195, 'cesaro': 2702, 'wwe': 14478, 'normie': 8984, 'micromanage': 8352, 'workaholic': 14402, 'formative': 5474, 'dpads': 4365, 'eloquently': 4661, 'graphically': 5989, 'competed': 3125, 'intrenched': 6975, 'tenfold': 12938, 'dime': 4098, 'mlb': 8461, 'elevate': 4646, 'marketshare': 8093, 'surpass': 12669, 'bgm': 2016, 'gematsu': 5751, 'namika': 8745, 'miyazakis': 8454, 'downloadable': 4350, 'fed': 5189, 'graduation': 5973, 'props': 10213, 'acconut': 920, 'cosmos': 3401, 'reelased': 10635, 'rigs': 11018, 'andré': 1319, 'luc': 7900, 'huneault': 6531, 'tripcheese': 13412, 'tribute': 13394, 'notability': 8994, 'nerdy': 8841, 'esxi': 4831, 'sixaxis': 11865, 'filters': 5265, 'taxed': 12849, 'greet': 6012, 'religion': 10717, 'retreated': 10919, 'helms': 6302, 'rings': 11024, 'mos': 8583, 'iceberg': 6586, 'faild': 5075, 'storagent': 12436, 'teuz': 12975, 'naysayers': 8789, 'gx': 6086, 'ranoutofnameideas': 10467, 'symmetry': 12754, 'bows': 2246, 'irks': 7035, 'legozfordayz': 7610, 'cent': 2685, 'attracted': 1646, 'fish': 5306, 'njeim': 8930, 'buster': 2462, '10mins': 63, 'slander': 11914, 'goood': 5933, 'cryin': 3561, 'kamkazee77': 7292, 'monetized': 8523, 'rising': 11039, 'multiapp': 8651, 'lpx': 7891, 'ijust': 6654, '1000aed': 24, 'chores': 2843, '6700': 677, 'quince': 10394, 'damian': 3681, 'yoss': 14619, 'althlon': 1246, 'ostin': 9303, 'nahhhhhhhhhhh': 8729, 'grabembythejoystick': 5964, 'patrick': 9565, 'lofstrom': 7799, 'tues': 13468, 'daysssssss': 3754, 'correcting': 3391, 'housing': 6481, 'clearer': 2916, 'backport': 1762, 'nand': 8746, 'mbpro': 8184, '920': 789, '930': 792, 'marketed': 8089, 'dx': 4503, 'roaming': 11060, '11700': 81, '400mhz': 501, 'hugeee': 6514, 'safisfy': 11243, 'dissapoints': 4211, 'carfilliot': 2601, 'tongue': 13247, 'cryptic': 3565, 'cryptek': 3564, 'ahahah': 1115, 'sheepamonggoats': 11635, 'jes': 7167, 'optics': 9256, 'bfv': 2014, 'bf6': 2013, 'unbelievable': 13584, 'invention': 6995, 'sr0lld4bmu': 12286, 'identity': 6608, 'obtaining': 9092, 'candidate': 2549, 'inputs': 6879, 'gymnastics': 6089, 'bertucci': 1991, 'heli': 6293, 'turf': 13479, 'neglected': 8824, 'greywolff': 6017, 'bhphotovideo': 2018, '1476411': 141, 'reg': 10665, 'nanlite_15_2008_4kit_pavotube_30c_4_rgbw': 8748, 'html': 6501, 'burnlake': 2450, 'spurnofhumanity': 12265, 'dravya': 4384, 'mehta': 8257, 'postioned': 9953, 'moneyyy': 8526, 'theanswerisfortytwo': 13012, 'initially': 6866, 'bandwagon': 1808, 'falsey': 5101, 'credentials': 3496, 'retraction': 10918, 'faulting': 5150, 'faults': 5151, 'misguided': 8426, 'heap': 6253, 'gut': 6078, 'allocating': 1211, 'mesh': 8296, 'thiis': 13064, 'the4': 13010, 'richard': 10988, 'hayden': 6219, 'ak': 1154, 'pounding': 9966, 'squishy': 12285, 'poosi': 9909, 'incrementally': 6792, 'drip': 4412, 'prusik': 10249, 'cmiiw': 2971, 'ramos': 10453, 'chiming': 2816, 'rips': 11035, 'hehe': 6284, 'hiking': 6362, 'tore': 13270, 'seriusly': 11546, 'coupole': 3431, 'groundbreaking': 6031, 'danke': 3703, 'gould': 5948, 'tasted': 12843, 'terrifying': 12960, 'visiting': 13965, 'snagged': 12009, 'misfit': 8425, 'interactivity': 6944, 'videogames': 13921, 'constan': 3263, 'fluctuation': 5384, 'disturbances': 4228, 'snore': 12024, 'caridovascular': 2603, 'subbie': 12543, 'readings': 10528, 'dustysa4': 4491, '711': 712, '247': 327, '2in1': 381, '2349': 318, '1283': 106, '980': 809, '284': 360, '5xxxu': 634, 'variability': 13836, 'begs': 1948, 'noname': 8960, 'trink': 13410, 'mii': 8374, 'notify': 9013, 'durring': 4484, 'backhand': 1755, 'sponsorships': 12241, 'dunk': 4472, 'extraordinarily': 5025, 'immensely': 6704, 'conclution': 3196, 'competetion': 3127, 'dh': 4033, 'jenkinson': 7159, 'scripts': 11414, 'bussiness': 2461, 'repeats': 10784, 'definetely': 3859, '1000nits': 25, 'netfilx': 8852, 'britnest': 2336, 'youuu': 14637, 'corrupted': 3395, 'iff': 6624, 'ge': 5737, 'tthe': 13462, 'likly': 7702, 'libary': 7660, 'oin': 9163, 'teh': 12909, 'mere': 8289, 'begging': 1942, 'beefcake': 1934, 'ryall': 11198, 'gppd': 5956, 'esco': 4817, 'whitfield': 14264, '3060ti': 408, '420euros': 513, 'stickiness': 12398, 'conventional': 3324, 'smacks': 11963, 'deniyeah': 3919, 'performant': 9646, 'mid2021': 8363, 'thugs': 13131, 'surviving': 12683, 'highlighted': 6351, 'radar': 10423, '30000rs': 400, 'unexciting': 13633, '32ram': 434, 'roundups': 11131, 'julian': 7256, 'dave3d': 3735}\n"
          ],
          "name": "stdout"
        }
      ]
    },
    {
      "cell_type": "code",
      "metadata": {
        "id": "xISlKux9crCa"
      },
      "source": [
        "vocab = vect.vocabulary_"
      ],
      "execution_count": 64,
      "outputs": []
    },
    {
      "cell_type": "code",
      "metadata": {
        "colab": {
          "base_uri": "https://localhost:8080/"
        },
        "id": "MX7eZ4kJcu-V",
        "outputId": "be700e91-ff50-4257-96e5-30c917d9b36c"
      },
      "source": [
        "from sklearn.linear_model import LogisticRegression\n",
        "lr = LogisticRegression()\n",
        "lr.fit(tf_train,y_train)"
      ],
      "execution_count": 65,
      "outputs": [
        {
          "output_type": "execute_result",
          "data": {
            "text/plain": [
              "LogisticRegression()"
            ]
          },
          "metadata": {
            "tags": []
          },
          "execution_count": 65
        }
      ]
    },
    {
      "cell_type": "markdown",
      "metadata": {
        "id": "M2xldhWZc4b2"
      },
      "source": [
        "accuracy"
      ]
    },
    {
      "cell_type": "code",
      "metadata": {
        "colab": {
          "base_uri": "https://localhost:8080/"
        },
        "id": "_Go6-mAuc1S3",
        "outputId": "c9c38b9a-0007-4bc8-9596-c1bb995d0734"
      },
      "source": [
        "lr.score(tf_train,y_train)"
      ],
      "execution_count": 66,
      "outputs": [
        {
          "output_type": "execute_result",
          "data": {
            "text/plain": [
              "0.9586075764224075"
            ]
          },
          "metadata": {
            "tags": []
          },
          "execution_count": 66
        }
      ]
    },
    {
      "cell_type": "code",
      "metadata": {
        "colab": {
          "base_uri": "https://localhost:8080/"
        },
        "id": "goHkAjbbc8Wz",
        "outputId": "3cbeaed8-c455-4225-d05c-f9c5a8c7f32b"
      },
      "source": [
        "lr.score(tf_test,y_test)"
      ],
      "execution_count": 67,
      "outputs": [
        {
          "output_type": "execute_result",
          "data": {
            "text/plain": [
              "0.8876864580286633"
            ]
          },
          "metadata": {
            "tags": []
          },
          "execution_count": 67
        }
      ]
    },
    {
      "cell_type": "markdown",
      "metadata": {
        "id": "C5-7T7pRdGy5"
      },
      "source": [
        "making prediction"
      ]
    },
    {
      "cell_type": "code",
      "metadata": {
        "id": "Mui8p2_SdLLn"
      },
      "source": [
        "expected = y_test\n",
        "predicted = lr.predict(tf_test)"
      ],
      "execution_count": 68,
      "outputs": []
    },
    {
      "cell_type": "markdown",
      "metadata": {
        "id": "SeNAYyGudPsa"
      },
      "source": [
        "ploting confusion matrix"
      ]
    },
    {
      "cell_type": "code",
      "metadata": {
        "id": "jdNn3rgJdS-i"
      },
      "source": [
        "from mlxtend.plotting import plot_confusion_matrix\n",
        "import matplotlib.pyplot as plt\n",
        "import numpy as np"
      ],
      "execution_count": 69,
      "outputs": []
    },
    {
      "cell_type": "code",
      "metadata": {
        "colab": {
          "base_uri": "https://localhost:8080/"
        },
        "id": "909VMs9idV6U",
        "outputId": "dcdcf4bc-5a10-4a70-8cdb-ef0bdddf88d8"
      },
      "source": [
        "pip install mlxtend"
      ],
      "execution_count": 70,
      "outputs": [
        {
          "output_type": "stream",
          "text": [
            "Requirement already satisfied: mlxtend in /usr/local/lib/python3.7/dist-packages (0.14.0)\n",
            "Requirement already satisfied: setuptools in /usr/local/lib/python3.7/dist-packages (from mlxtend) (56.1.0)\n",
            "Requirement already satisfied: scipy>=0.17 in /usr/local/lib/python3.7/dist-packages (from mlxtend) (1.4.1)\n",
            "Requirement already satisfied: matplotlib>=1.5.1 in /usr/local/lib/python3.7/dist-packages (from mlxtend) (3.2.2)\n",
            "Requirement already satisfied: numpy>=1.10.4 in /usr/local/lib/python3.7/dist-packages (from mlxtend) (1.19.5)\n",
            "Requirement already satisfied: scikit-learn>=0.18 in /usr/local/lib/python3.7/dist-packages (from mlxtend) (0.24.2)\n",
            "Requirement already satisfied: pandas>=0.17.1 in /usr/local/lib/python3.7/dist-packages (from mlxtend) (1.1.5)\n",
            "Requirement already satisfied: pyparsing!=2.0.4,!=2.1.2,!=2.1.6,>=2.0.1 in /usr/local/lib/python3.7/dist-packages (from matplotlib>=1.5.1->mlxtend) (2.4.7)\n",
            "Requirement already satisfied: cycler>=0.10 in /usr/local/lib/python3.7/dist-packages (from matplotlib>=1.5.1->mlxtend) (0.10.0)\n",
            "Requirement already satisfied: python-dateutil>=2.1 in /usr/local/lib/python3.7/dist-packages (from matplotlib>=1.5.1->mlxtend) (2.8.1)\n",
            "Requirement already satisfied: kiwisolver>=1.0.1 in /usr/local/lib/python3.7/dist-packages (from matplotlib>=1.5.1->mlxtend) (1.3.1)\n",
            "Requirement already satisfied: threadpoolctl>=2.0.0 in /usr/local/lib/python3.7/dist-packages (from scikit-learn>=0.18->mlxtend) (2.1.0)\n",
            "Requirement already satisfied: joblib>=0.11 in /usr/local/lib/python3.7/dist-packages (from scikit-learn>=0.18->mlxtend) (1.0.1)\n",
            "Requirement already satisfied: pytz>=2017.2 in /usr/local/lib/python3.7/dist-packages (from pandas>=0.17.1->mlxtend) (2018.9)\n",
            "Requirement already satisfied: six in /usr/local/lib/python3.7/dist-packages (from cycler>=0.10->matplotlib>=1.5.1->mlxtend) (1.15.0)\n"
          ],
          "name": "stdout"
        }
      ]
    },
    {
      "cell_type": "code",
      "metadata": {
        "colab": {
          "base_uri": "https://localhost:8080/",
          "height": 313
        },
        "id": "fmlVy5o8dZpx",
        "outputId": "78cea080-5e69-4852-b846-90c4c0c2c6b2"
      },
      "source": [
        "cf = metrics.confusion_matrix(expected,predicted,labels = [1,-1])\n",
        "print(cf)\n",
        "## this command is only for google collab \n",
        "## in the below figure \" 1 is actually showing -1 and 0 is actually showing 1\"\n",
        "fig, ax = plot_confusion_matrix(conf_mat = cf)\n",
        "                                \n",
        "## It canbe used in any platform\n",
        "# fig, ax = plot_confusion_matrix(conf_mat = cf, class_names = [1,-1])\n",
        "plt.show()"
      ],
      "execution_count": 71,
      "outputs": [
        {
          "output_type": "stream",
          "text": [
            "[[1427  249]\n",
            " [ 135 1608]]\n"
          ],
          "name": "stdout"
        },
        {
          "output_type": "display_data",
          "data": {
            "image/png": "[encoded data removed]",
            "text/plain": [
              "<Figure size 432x288 with 1 Axes>"
            ]
          },
          "metadata": {
            "tags": [],
            "needs_background": "light"
          }
        }
      ]
    },
    {
      "cell_type": "code",
      "metadata": {
        "colab": {
          "base_uri": "https://localhost:8080/"
        },
        "id": "R0fg_ebCdyDw",
        "outputId": "b7f20e6a-3f5a-4b18-a6f0-a8eae052557e"
      },
      "source": [
        "from sklearn import metrics\n",
        "print(metrics.classification_report(expected, predicted))\n",
        "# print(metrics.confusion_matrix(expected,predicted))"
      ],
      "execution_count": 72,
      "outputs": [
        {
          "output_type": "stream",
          "text": [
            "              precision    recall  f1-score   support\n",
            "\n",
            "          -1       0.87      0.92      0.89      1743\n",
            "           1       0.91      0.85      0.88      1676\n",
            "\n",
            "    accuracy                           0.89      3419\n",
            "   macro avg       0.89      0.89      0.89      3419\n",
            "weighted avg       0.89      0.89      0.89      3419\n",
            "\n"
          ],
          "name": "stdout"
        }
      ]
    },
    {
      "cell_type": "code",
      "metadata": {
        "colab": {
          "base_uri": "https://localhost:8080/"
        },
        "id": "suwaMW_7d39m",
        "outputId": "e396854f-82a3-4a3a-90dd-bc61e8c83eaa"
      },
      "source": [
        "from sklearn.metrics import f1_score\n",
        "f1_score(expected, predicted, average='macro')"
      ],
      "execution_count": 73,
      "outputs": [
        {
          "output_type": "execute_result",
          "data": {
            "text/plain": [
              "0.8873708050236773"
            ]
          },
          "metadata": {
            "tags": []
          },
          "execution_count": 73
        }
      ]
    },
    {
      "cell_type": "markdown",
      "metadata": {
        "id": "uvF8b7IlHtaW"
      },
      "source": [
        "Other Algos"
      ]
    },
    {
      "cell_type": "code",
      "metadata": {
        "id": "B6rUGH6tHxn0"
      },
      "source": [
        "from sklearn.model_selection import KFold\n",
        "from sklearn.model_selection import cross_val_score\n",
        "from numpy import mean\n",
        "from numpy import std\n",
        "from sklearn.ensemble import RandomForestClassifier\n",
        "from sklearn.svm import SVC\n",
        "from sklearn.naive_bayes import GaussianNB\n",
        "from sklearn.linear_model import LogisticRegression\n",
        "from sklearn import metrics"
      ],
      "execution_count": 75,
      "outputs": []
    },
    {
      "cell_type": "code",
      "metadata": {
        "id": "-yrA1zhfIEFS"
      },
      "source": [
        "cv = KFold(n_splits=5, random_state=1, shuffle=True)"
      ],
      "execution_count": 77,
      "outputs": []
    },
    {
      "cell_type": "markdown",
      "metadata": {
        "id": "t_j7rvirH27b"
      },
      "source": [
        "**SVM**"
      ]
    },
    {
      "cell_type": "code",
      "metadata": {
        "id": "Vyd3W6WNH9xm"
      },
      "source": [
        ""
      ],
      "execution_count": 78,
      "outputs": []
    },
    {
      "cell_type": "code",
      "metadata": {
        "colab": {
          "base_uri": "https://localhost:8080/"
        },
        "id": "mMhrJ3VNIYa-",
        "outputId": "648f6e46-522f-4a02-c583-95eba6b48336"
      },
      "source": [
        "model = SVC(kernel='linear')\n",
        "scores = cross_val_score(model, tf_train, y_train, scoring='accuracy', cv=cv)\n",
        "print('Accuracy: %.3f (%.3f)' % (mean(scores), std(scores)))"
      ],
      "execution_count": 101,
      "outputs": [
        {
          "output_type": "stream",
          "text": [
            "Accuracy: 0.889 (0.005)\n"
          ],
          "name": "stdout"
        }
      ]
    },
    {
      "cell_type": "code",
      "metadata": {
        "colab": {
          "base_uri": "https://localhost:8080/"
        },
        "id": "wC_S2EAWJgDI",
        "outputId": "ce4a33b8-98c1-4170-9f84-63d9c82fb918"
      },
      "source": [
        "model.fit(tf_train,y_train)"
      ],
      "execution_count": 102,
      "outputs": [
        {
          "output_type": "execute_result",
          "data": {
            "text/plain": [
              "SVC(kernel='linear')"
            ]
          },
          "metadata": {
            "tags": []
          },
          "execution_count": 102
        }
      ]
    },
    {
      "cell_type": "code",
      "metadata": {
        "colab": {
          "base_uri": "https://localhost:8080/"
        },
        "id": "XnL1GX-wKDAd",
        "outputId": "0efd7360-0c34-4e46-ff82-c4ed80d16c6f"
      },
      "source": [
        "\n",
        "expected = y_test\n",
        "predicted = model.predict(tf_test)\n",
        "model.score(tf_test,y_test)\n",
        "print(metrics.classification_report(expected, predicted))"
      ],
      "execution_count": 103,
      "outputs": [
        {
          "output_type": "stream",
          "text": [
            "              precision    recall  f1-score   support\n",
            "\n",
            "          -1       0.88      0.92      0.90      1743\n",
            "           1       0.91      0.87      0.89      1676\n",
            "\n",
            "    accuracy                           0.89      3419\n",
            "   macro avg       0.89      0.89      0.89      3419\n",
            "weighted avg       0.89      0.89      0.89      3419\n",
            "\n"
          ],
          "name": "stdout"
        }
      ]
    },
    {
      "cell_type": "markdown",
      "metadata": {
        "id": "zk7fCJblKSAC"
      },
      "source": [
        "**Random Forest**"
      ]
    },
    {
      "cell_type": "code",
      "metadata": {
        "colab": {
          "base_uri": "https://localhost:8080/"
        },
        "id": "hClIJMquKTzX",
        "outputId": "3ceec294-bfeb-4175-a64c-f364d0acaab6"
      },
      "source": [
        "model = RandomForestClassifier()\n",
        "scores = cross_val_score(model, tf_train, y_train, scoring='accuracy', cv=cv)\n",
        "print('Accuracy: %.3f (%.3f)' % (mean(scores), std(scores)))"
      ],
      "execution_count": 85,
      "outputs": [
        {
          "output_type": "stream",
          "text": [
            "Accuracy: 0.881 (0.004)\n"
          ],
          "name": "stdout"
        }
      ]
    },
    {
      "cell_type": "code",
      "metadata": {
        "colab": {
          "base_uri": "https://localhost:8080/"
        },
        "id": "ywaeZ_2IKgiw",
        "outputId": "6d6e1d43-2301-4e4d-c4c2-dbe879c49992"
      },
      "source": [
        "model.fit(tf_train,y_train)"
      ],
      "execution_count": 86,
      "outputs": [
        {
          "output_type": "execute_result",
          "data": {
            "text/plain": [
              "RandomForestClassifier()"
            ]
          },
          "metadata": {
            "tags": []
          },
          "execution_count": 86
        }
      ]
    },
    {
      "cell_type": "code",
      "metadata": {
        "colab": {
          "base_uri": "https://localhost:8080/"
        },
        "id": "7rgZUYHDLxwu",
        "outputId": "0de30b10-f7e1-4499-9fa9-78d165d7d6a1"
      },
      "source": [
        "\n",
        "expected = y_test\n",
        "predicted = model.predict(tf_test)\n",
        "print(metrics.classification_report(expected, predicted))"
      ],
      "execution_count": 87,
      "outputs": [
        {
          "output_type": "stream",
          "text": [
            "              precision    recall  f1-score   support\n",
            "\n",
            "          -1       0.89      0.88      0.89      1743\n",
            "           1       0.88      0.89      0.88      1676\n",
            "\n",
            "    accuracy                           0.89      3419\n",
            "   macro avg       0.89      0.89      0.89      3419\n",
            "weighted avg       0.89      0.89      0.89      3419\n",
            "\n"
          ],
          "name": "stdout"
        }
      ]
    },
    {
      "cell_type": "markdown",
      "metadata": {
        "id": "i5BZVfP_MDNo"
      },
      "source": [
        "**KNN**\n"
      ]
    },
    {
      "cell_type": "code",
      "metadata": {
        "colab": {
          "base_uri": "https://localhost:8080/"
        },
        "id": "Gf98t8sMMErt",
        "outputId": "d9193457-6507-4e71-cc11-ef6e13894ef5"
      },
      "source": [
        "from sklearn.neighbors import KNeighborsClassifier\n",
        "model=KNeighborsClassifier(n_neighbors=5)\n",
        "scores = cross_val_score(model, tf_train, y_train, scoring='accuracy', cv=cv)\n",
        "print('Accuracy: %.3f (%.3f)' % (mean(scores), std(scores)))"
      ],
      "execution_count": 89,
      "outputs": [
        {
          "output_type": "stream",
          "text": [
            "Accuracy: 0.635 (0.011)\n"
          ],
          "name": "stdout"
        }
      ]
    },
    {
      "cell_type": "code",
      "metadata": {
        "colab": {
          "base_uri": "https://localhost:8080/"
        },
        "id": "1fXoPQIENbxV",
        "outputId": "eef1acbf-da37-4030-8ad1-12d7cf63e1bf"
      },
      "source": [
        "model.fit(tf_train,y_train)"
      ],
      "execution_count": 90,
      "outputs": [
        {
          "output_type": "execute_result",
          "data": {
            "text/plain": [
              "KNeighborsClassifier()"
            ]
          },
          "metadata": {
            "tags": []
          },
          "execution_count": 90
        }
      ]
    },
    {
      "cell_type": "code",
      "metadata": {
        "colab": {
          "base_uri": "https://localhost:8080/"
        },
        "id": "-Kv21_5gNe0o",
        "outputId": "e6bb7a88-74e5-4cee-e696-1f0ba3a7eac1"
      },
      "source": [
        "\n",
        "expected = y_test\n",
        "predicted = model.predict(tf_test)\n",
        "print(metrics.classification_report(expected, predicted))"
      ],
      "execution_count": 91,
      "outputs": [
        {
          "output_type": "stream",
          "text": [
            "              precision    recall  f1-score   support\n",
            "\n",
            "          -1       0.59      0.97      0.73      1743\n",
            "           1       0.92      0.29      0.44      1676\n",
            "\n",
            "    accuracy                           0.64      3419\n",
            "   macro avg       0.75      0.63      0.59      3419\n",
            "weighted avg       0.75      0.64      0.59      3419\n",
            "\n"
          ],
          "name": "stdout"
        }
      ]
    },
    {
      "cell_type": "markdown",
      "metadata": {
        "id": "YN1VTeBQNk4n"
      },
      "source": [
        "**Multinomial Naive Bayes**"
      ]
    },
    {
      "cell_type": "code",
      "metadata": {
        "colab": {
          "base_uri": "https://localhost:8080/"
        },
        "id": "0QrFC7ElNmR6",
        "outputId": "4b357304-68aa-430e-def1-45c97695b227"
      },
      "source": [
        "from sklearn.naive_bayes import MultinomialNB\n",
        "model = MultinomialNB()\n",
        "scores = cross_val_score(model, tf_train, y_train, scoring='accuracy', cv=cv)\n",
        "print('Accuracy: %.3f (%.3f)' % (mean(scores), std(scores)))"
      ],
      "execution_count": 92,
      "outputs": [
        {
          "output_type": "stream",
          "text": [
            "Accuracy: 0.773 (0.010)\n"
          ],
          "name": "stdout"
        }
      ]
    },
    {
      "cell_type": "code",
      "metadata": {
        "colab": {
          "base_uri": "https://localhost:8080/"
        },
        "id": "xJ4k_TpINyUn",
        "outputId": "68defd82-9548-4088-ed94-cb5ec81d7dda"
      },
      "source": [
        "\n",
        "model.fit(tf_train,y_train)"
      ],
      "execution_count": 93,
      "outputs": [
        {
          "output_type": "execute_result",
          "data": {
            "text/plain": [
              "MultinomialNB()"
            ]
          },
          "metadata": {
            "tags": []
          },
          "execution_count": 93
        }
      ]
    },
    {
      "cell_type": "code",
      "metadata": {
        "colab": {
          "base_uri": "https://localhost:8080/"
        },
        "id": "cKouaJn4N4Ox",
        "outputId": "8f7bf24a-01fd-46d1-c3dc-f1af2528f287"
      },
      "source": [
        "model.fit(tf_train,y_train)\n",
        "expected = y_test\n",
        "predicted = model.predict(tf_test)\n",
        "print(metrics.classification_report(expected, predicted))"
      ],
      "execution_count": 94,
      "outputs": [
        {
          "output_type": "stream",
          "text": [
            "              precision    recall  f1-score   support\n",
            "\n",
            "          -1       0.83      0.70      0.76      1743\n",
            "           1       0.73      0.86      0.79      1676\n",
            "\n",
            "    accuracy                           0.78      3419\n",
            "   macro avg       0.78      0.78      0.77      3419\n",
            "weighted avg       0.78      0.78      0.77      3419\n",
            "\n"
          ],
          "name": "stdout"
        }
      ]
    }
  ]
}