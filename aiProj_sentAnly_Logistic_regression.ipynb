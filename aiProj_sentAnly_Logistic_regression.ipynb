{
  "nbformat": 4,
  "nbformat_minor": 0,
  "metadata": {
    "colab": {
      "name": "aiProj-sentAnly_Logistic-regression.ipynb",
      "provenance": [],
      "authorship_tag": "ABX9TyNLgdaxkz8KOJhI3zeN6f8T",
      "include_colab_link": true
    },
    "kernelspec": {
      "name": "python3",
      "display_name": "Python 3"
    },
    "language_info": {
      "name": "python"
    }
  },
  "cells": [
    {
      "cell_type": "markdown",
      "metadata": {
        "id": "view-in-github",
        "colab_type": "text"
      },
      "source": [
        "<a href=\"https://colab.research.google.com/github/jacob-siby/yT_st_analysis/blob/main/aiProj_sentAnly_Logistic_regression.ipynb\" target=\"_parent\"><img src=\"https://colab.research.google.com/assets/colab-badge.svg\" alt=\"Open In Colab\"/></a>"
      ]
    },
    {
      "cell_type": "code",
      "metadata": {
        "colab": {
          "base_uri": "https://localhost:8080/"
        },
        "id": "PQmCEbt4QGdv",
        "outputId": "270dc0e9-4dbd-4273-c4c2-aebffdb9d434"
      },
      "source": [
        "from google.colab import drive\n",
        "drive.mount('/content/drive')"
      ],
      "execution_count": 1,
      "outputs": [
        {
          "output_type": "stream",
          "text": [
            "Mounted at /content/drive\n"
          ],
          "name": "stdout"
        }
      ]
    },
    {
      "cell_type": "code",
      "metadata": {
        "colab": {
          "base_uri": "https://localhost:8080/"
        },
        "id": "DeIrwhvFQmqi",
        "outputId": "766df27c-f8e7-4388-bb76-b04dd4f379b6"
      },
      "source": [
        "pip install -U scikit-learn"
      ],
      "execution_count": 2,
      "outputs": [
        {
          "output_type": "stream",
          "text": [
            "Collecting scikit-learn\n",
            "\u001b[?25l  Downloading https://files.pythonhosted.org/packages/a8/eb/a48f25c967526b66d5f1fa7a984594f0bf0a5afafa94a8c4dbc317744620/scikit_learn-0.24.2-cp37-cp37m-manylinux2010_x86_64.whl (22.3MB)\n",
            "\u001b[K     |████████████████████████████████| 22.3MB 1.9MB/s \n",
            "\u001b[?25hRequirement already satisfied, skipping upgrade: numpy>=1.13.3 in /usr/local/lib/python3.7/dist-packages (from scikit-learn) (1.19.5)\n",
            "Requirement already satisfied, skipping upgrade: scipy>=0.19.1 in /usr/local/lib/python3.7/dist-packages (from scikit-learn) (1.4.1)\n",
            "Requirement already satisfied, skipping upgrade: joblib>=0.11 in /usr/local/lib/python3.7/dist-packages (from scikit-learn) (1.0.1)\n",
            "Collecting threadpoolctl>=2.0.0\n",
            "  Downloading https://files.pythonhosted.org/packages/f7/12/ec3f2e203afa394a149911729357aa48affc59c20e2c1c8297a60f33f133/threadpoolctl-2.1.0-py3-none-any.whl\n",
            "Installing collected packages: threadpoolctl, scikit-learn\n",
            "  Found existing installation: scikit-learn 0.22.2.post1\n",
            "    Uninstalling scikit-learn-0.22.2.post1:\n",
            "      Successfully uninstalled scikit-learn-0.22.2.post1\n",
            "Successfully installed scikit-learn-0.24.2 threadpoolctl-2.1.0\n"
          ],
          "name": "stdout"
        }
      ]
    },
    {
      "cell_type": "code",
      "metadata": {
        "colab": {
          "base_uri": "https://localhost:8080/"
        },
        "id": "ScVY1m0YQyWQ",
        "outputId": "6b99bc39-2845-462c-f529-cef9c1482ed6"
      },
      "source": [
        "from google.colab import drive\n",
        "drive.mount('/content/drive')"
      ],
      "execution_count": 3,
      "outputs": [
        {
          "output_type": "stream",
          "text": [
            "Drive already mounted at /content/drive; to attempt to forcibly remount, call drive.mount(\"/content/drive\", force_remount=True).\n"
          ],
          "name": "stdout"
        }
      ]
    },
    {
      "cell_type": "code",
      "metadata": {
        "id": "pJDTBxC1Q2tA"
      },
      "source": [
        "import os\n",
        "os.chdir(\"/content/drive/My Drive/ML_Project/\")"
      ],
      "execution_count": 5,
      "outputs": []
    },
    {
      "cell_type": "code",
      "metadata": {
        "id": "vq0m3hRfRXuq"
      },
      "source": [
        "import numpy as np # linear algebra\n",
        "import pandas as pd # data processing, CSV file I/O (e.g. pd.read_csv)\n",
        "import os\n",
        "import scipy\n",
        "\n",
        "\n",
        "import warnings\n",
        "warnings.filterwarnings(\"ignore\")"
      ],
      "execution_count": 6,
      "outputs": []
    },
    {
      "cell_type": "code",
      "metadata": {
        "id": "WwK4QWj8RdEj"
      },
      "source": [
        "from textblob import TextBlob\n",
        "from sklearn import metrics\n",
        "from mlxtend.plotting import plot_confusion_matrix"
      ],
      "execution_count": 7,
      "outputs": []
    },
    {
      "cell_type": "code",
      "metadata": {
        "colab": {
          "base_uri": "https://localhost:8080/"
        },
        "id": "S8sEMoisRh6M",
        "outputId": "44cd804c-2973-4f1c-fdc7-1b479de6150e"
      },
      "source": [
        "ls"
      ],
      "execution_count": 8,
      "outputs": [
        {
          "output_type": "stream",
          "text": [
            "english_comments.csv  ML_project_data.xlsx\n",
            "ML_project_data.csv   ML_Project_Details.docx\n"
          ],
          "name": "stdout"
        }
      ]
    },
    {
      "cell_type": "code",
      "metadata": {
        "id": "mmBuBlaPRmuF"
      },
      "source": [
        "data = pd.read_csv(\"english_comments.csv\")"
      ],
      "execution_count": 10,
      "outputs": []
    },
    {
      "cell_type": "code",
      "metadata": {
        "colab": {
          "base_uri": "https://localhost:8080/",
          "height": 204
        },
        "id": "6rXNFj3pRvYr",
        "outputId": "e2f77462-693c-43f7-9356-4ce3cd8a337e"
      },
      "source": [
        "data.head()"
      ],
      "execution_count": 11,
      "outputs": [
        {
          "output_type": "execute_result",
          "data": {
            "text/html": [
              "<div>\n",
              "<style scoped>\n",
              "    .dataframe tbody tr th:only-of-type {\n",
              "        vertical-align: middle;\n",
              "    }\n",
              "\n",
              "    .dataframe tbody tr th {\n",
              "        vertical-align: top;\n",
              "    }\n",
              "\n",
              "    .dataframe thead th {\n",
              "        text-align: right;\n",
              "    }\n",
              "</style>\n",
              "<table border=\"1\" class=\"dataframe\">\n",
              "  <thead>\n",
              "    <tr style=\"text-align: right;\">\n",
              "      <th></th>\n",
              "      <th>Comments</th>\n",
              "      <th>clean_comments</th>\n",
              "      <th>language</th>\n",
              "    </tr>\n",
              "  </thead>\n",
              "  <tbody>\n",
              "    <tr>\n",
              "      <th>0</th>\n",
              "      <td>Premiere Pro, DaVinci Resolve 17, FCPX and XCo...</td>\n",
              "      <td>Premiere Pro, DaVinci Resolve 17, FCPX and XCo...</td>\n",
              "      <td>en</td>\n",
              "    </tr>\n",
              "    <tr>\n",
              "      <th>1</th>\n",
              "      <td>When Galaxy Tab finally caught up, Apple made ...</td>\n",
              "      <td>When Galaxy Tab finally caught up, Apple made ...</td>\n",
              "      <td>en</td>\n",
              "    </tr>\n",
              "    <tr>\n",
              "      <th>2</th>\n",
              "      <td>You can play Dota and CSGO?</td>\n",
              "      <td>You can play Dota and CSGO?</td>\n",
              "      <td>en</td>\n",
              "    </tr>\n",
              "    <tr>\n",
              "      <th>3</th>\n",
              "      <td>Fire ? intro! I think You’re right, iPad OS 15...</td>\n",
              "      <td>Fire ? intro! I think You’re right, iPad OS 15...</td>\n",
              "      <td>en</td>\n",
              "    </tr>\n",
              "    <tr>\n",
              "      <th>4</th>\n",
              "      <td>still waiting for comments from professionals ...</td>\n",
              "      <td>still waiting for comments from professionals ...</td>\n",
              "      <td>en</td>\n",
              "    </tr>\n",
              "  </tbody>\n",
              "</table>\n",
              "</div>"
            ],
            "text/plain": [
              "                                            Comments  ... language\n",
              "0  Premiere Pro, DaVinci Resolve 17, FCPX and XCo...  ...       en\n",
              "1  When Galaxy Tab finally caught up, Apple made ...  ...       en\n",
              "2                        You can play Dota and CSGO?  ...       en\n",
              "3  Fire ? intro! I think You’re right, iPad OS 15...  ...       en\n",
              "4  still waiting for comments from professionals ...  ...       en\n",
              "\n",
              "[5 rows x 3 columns]"
            ]
          },
          "metadata": {
            "tags": []
          },
          "execution_count": 11
        }
      ]
    },
    {
      "cell_type": "code",
      "metadata": {
        "colab": {
          "base_uri": "https://localhost:8080/"
        },
        "id": "uyMY6Cd7Rzu1",
        "outputId": "7e78edd6-a7c7-4c54-cbbe-388fc3420f34"
      },
      "source": [
        "data.shape"
      ],
      "execution_count": 12,
      "outputs": [
        {
          "output_type": "execute_result",
          "data": {
            "text/plain": [
              "(17098, 3)"
            ]
          },
          "metadata": {
            "tags": []
          },
          "execution_count": 12
        }
      ]
    },
    {
      "cell_type": "code",
      "metadata": {
        "id": "zlxBt4jdR-Tv"
      },
      "source": [
        "data['polarity'] = data['clean_comments'].apply(lambda x: TextBlob(x).sentiment.polarity)"
      ],
      "execution_count": 23,
      "outputs": []
    },
    {
      "cell_type": "code",
      "metadata": {
        "colab": {
          "base_uri": "https://localhost:8080/",
          "height": 204
        },
        "id": "vEUWReKYSTXB",
        "outputId": "0ffc140e-aff9-4140-f3aa-575a504022aa"
      },
      "source": [
        "data.head()"
      ],
      "execution_count": 24,
      "outputs": [
        {
          "output_type": "execute_result",
          "data": {
            "text/html": [
              "<div>\n",
              "<style scoped>\n",
              "    .dataframe tbody tr th:only-of-type {\n",
              "        vertical-align: middle;\n",
              "    }\n",
              "\n",
              "    .dataframe tbody tr th {\n",
              "        vertical-align: top;\n",
              "    }\n",
              "\n",
              "    .dataframe thead th {\n",
              "        text-align: right;\n",
              "    }\n",
              "</style>\n",
              "<table border=\"1\" class=\"dataframe\">\n",
              "  <thead>\n",
              "    <tr style=\"text-align: right;\">\n",
              "      <th></th>\n",
              "      <th>Comments</th>\n",
              "      <th>clean_comments</th>\n",
              "      <th>language</th>\n",
              "      <th>polarity</th>\n",
              "      <th>pol_cat</th>\n",
              "    </tr>\n",
              "  </thead>\n",
              "  <tbody>\n",
              "    <tr>\n",
              "      <th>0</th>\n",
              "      <td>Will there be any midrange compact phone in fu...</td>\n",
              "      <td>Will there be any midrange compact phone in fu...</td>\n",
              "      <td>en</td>\n",
              "      <td>0.0000</td>\n",
              "      <td>-1</td>\n",
              "    </tr>\n",
              "    <tr>\n",
              "      <th>1</th>\n",
              "      <td>It's pathetically embarrassing that they're ST...</td>\n",
              "      <td>It's pathetically embarrassing that they're ST...</td>\n",
              "      <td>en</td>\n",
              "      <td>-0.0500</td>\n",
              "      <td>-1</td>\n",
              "    </tr>\n",
              "    <tr>\n",
              "      <th>2</th>\n",
              "      <td>I need that music</td>\n",
              "      <td>I need that music</td>\n",
              "      <td>en</td>\n",
              "      <td>0.0000</td>\n",
              "      <td>-1</td>\n",
              "    </tr>\n",
              "    <tr>\n",
              "      <th>3</th>\n",
              "      <td>Well, there's Blood &amp; Truth and the upcoming F...</td>\n",
              "      <td>Well, there's Blood &amp; Truth and the upcoming F...</td>\n",
              "      <td>en</td>\n",
              "      <td>0.0000</td>\n",
              "      <td>-1</td>\n",
              "    </tr>\n",
              "    <tr>\n",
              "      <th>4</th>\n",
              "      <td>I just built an itx build in an original Xbox ...</td>\n",
              "      <td>I just built an itx build in an original Xbox ...</td>\n",
              "      <td>en</td>\n",
              "      <td>0.6875</td>\n",
              "      <td>1</td>\n",
              "    </tr>\n",
              "  </tbody>\n",
              "</table>\n",
              "</div>"
            ],
            "text/plain": [
              "                                            Comments  ... pol_cat\n",
              "0  Will there be any midrange compact phone in fu...  ...      -1\n",
              "1  It's pathetically embarrassing that they're ST...  ...      -1\n",
              "2                                  I need that music  ...      -1\n",
              "3  Well, there's Blood & Truth and the upcoming F...  ...      -1\n",
              "4  I just built an itx build in an original Xbox ...  ...       1\n",
              "\n",
              "[5 rows x 5 columns]"
            ]
          },
          "metadata": {
            "tags": []
          },
          "execution_count": 24
        }
      ]
    },
    {
      "cell_type": "markdown",
      "metadata": {
        "id": "g5PAIkNOSkwQ"
      },
      "source": [
        "Shuffle the dataset"
      ]
    },
    {
      "cell_type": "code",
      "metadata": {
        "id": "frrcNSXDSlrl"
      },
      "source": [
        "data = data.sample(frac=1).reset_index(drop=True)"
      ],
      "execution_count": 25,
      "outputs": []
    },
    {
      "cell_type": "code",
      "metadata": {
        "id": "EUoRDPBcSu-T"
      },
      "source": [
        "data['pol_cat']  = 0"
      ],
      "execution_count": 26,
      "outputs": []
    },
    {
      "cell_type": "code",
      "metadata": {
        "id": "J0VASeMCS0Uo"
      },
      "source": [
        "data['pol_cat'][data.polarity > 0] = 1\n",
        "data['pol_cat'][data.polarity <= 0] = -1"
      ],
      "execution_count": 27,
      "outputs": []
    },
    {
      "cell_type": "code",
      "metadata": {
        "colab": {
          "base_uri": "https://localhost:8080/",
          "height": 204
        },
        "id": "XVyT5rWBS4zo",
        "outputId": "58af4407-7b0e-431d-8faa-025572878a9c"
      },
      "source": [
        "data.head()"
      ],
      "execution_count": 28,
      "outputs": [
        {
          "output_type": "execute_result",
          "data": {
            "text/html": [
              "<div>\n",
              "<style scoped>\n",
              "    .dataframe tbody tr th:only-of-type {\n",
              "        vertical-align: middle;\n",
              "    }\n",
              "\n",
              "    .dataframe tbody tr th {\n",
              "        vertical-align: top;\n",
              "    }\n",
              "\n",
              "    .dataframe thead th {\n",
              "        text-align: right;\n",
              "    }\n",
              "</style>\n",
              "<table border=\"1\" class=\"dataframe\">\n",
              "  <thead>\n",
              "    <tr style=\"text-align: right;\">\n",
              "      <th></th>\n",
              "      <th>Comments</th>\n",
              "      <th>clean_comments</th>\n",
              "      <th>language</th>\n",
              "      <th>polarity</th>\n",
              "      <th>pol_cat</th>\n",
              "    </tr>\n",
              "  </thead>\n",
              "  <tbody>\n",
              "    <tr>\n",
              "      <th>0</th>\n",
              "      <td>In my shop the 16Go As double the price of the...</td>\n",
              "      <td>In my shop the 16Go As double the price of the...</td>\n",
              "      <td>en</td>\n",
              "      <td>0.000000</td>\n",
              "      <td>-1</td>\n",
              "    </tr>\n",
              "    <tr>\n",
              "      <th>1</th>\n",
              "      <td>waiting 8vs 16 vs intel gen10 with plug /unplug</td>\n",
              "      <td>waiting 8vs 16 vs intel gen10 with plug /unplug</td>\n",
              "      <td>en</td>\n",
              "      <td>0.000000</td>\n",
              "      <td>-1</td>\n",
              "    </tr>\n",
              "    <tr>\n",
              "      <th>2</th>\n",
              "      <td>So there’s a few problems here with your Logic...</td>\n",
              "      <td>So there’s a few problems here with your Logic...</td>\n",
              "      <td>en</td>\n",
              "      <td>0.034226</td>\n",
              "      <td>1</td>\n",
              "    </tr>\n",
              "    <tr>\n",
              "      <th>3</th>\n",
              "      <td>0:24 she is Hu Tao isn't she</td>\n",
              "      <td>0:24 she is Hu Tao isn't she</td>\n",
              "      <td>en</td>\n",
              "      <td>0.000000</td>\n",
              "      <td>-1</td>\n",
              "    </tr>\n",
              "    <tr>\n",
              "      <th>4</th>\n",
              "      <td>Next you should have the table nailed to the c...</td>\n",
              "      <td>Next you should have the table nailed to the c...</td>\n",
              "      <td>en</td>\n",
              "      <td>0.175000</td>\n",
              "      <td>1</td>\n",
              "    </tr>\n",
              "  </tbody>\n",
              "</table>\n",
              "</div>"
            ],
            "text/plain": [
              "                                            Comments  ... pol_cat\n",
              "0  In my shop the 16Go As double the price of the...  ...      -1\n",
              "1    waiting 8vs 16 vs intel gen10 with plug /unplug  ...      -1\n",
              "2  So there’s a few problems here with your Logic...  ...       1\n",
              "3                       0:24 she is Hu Tao isn't she  ...      -1\n",
              "4  Next you should have the table nailed to the c...  ...       1\n",
              "\n",
              "[5 rows x 5 columns]"
            ]
          },
          "metadata": {
            "tags": []
          },
          "execution_count": 28
        }
      ]
    },
    {
      "cell_type": "markdown",
      "metadata": {
        "id": "M1-mnZ4qTjlx"
      },
      "source": [
        "Comment polarity"
      ]
    },
    {
      "cell_type": "code",
      "metadata": {
        "colab": {
          "base_uri": "https://localhost:8080/"
        },
        "id": "sDc6g6oxS9rR",
        "outputId": "76bb3442-690b-49bd-8f73-a3f9cdaaf933"
      },
      "source": [
        "data['pol_cat'].value_counts()"
      ],
      "execution_count": 29,
      "outputs": [
        {
          "output_type": "execute_result",
          "data": {
            "text/plain": [
              "-1    8777\n",
              " 1    8321\n",
              "Name: pol_cat, dtype: int64"
            ]
          },
          "metadata": {
            "tags": []
          },
          "execution_count": 29
        }
      ]
    },
    {
      "cell_type": "code",
      "metadata": {
        "id": "8K8GN8oZUM4D"
      },
      "source": [
        "data_pos = data[data['pol_cat'] == 1]\n",
        "data_pos = data_pos.reset_index(drop = True)\n",
        "\n",
        "data_neg = data[data['pol_cat'] == -1]\n",
        "data_neg = data_neg.reset_index(drop = True)"
      ],
      "execution_count": 30,
      "outputs": []
    },
    {
      "cell_type": "code",
      "metadata": {
        "colab": {
          "base_uri": "https://localhost:8080/",
          "height": 204
        },
        "id": "E_886wWFUSn8",
        "outputId": "5d398fd3-fe5c-441a-fb2f-a35c459e5558"
      },
      "source": [
        "data_pos.head()"
      ],
      "execution_count": 31,
      "outputs": [
        {
          "output_type": "execute_result",
          "data": {
            "text/html": [
              "<div>\n",
              "<style scoped>\n",
              "    .dataframe tbody tr th:only-of-type {\n",
              "        vertical-align: middle;\n",
              "    }\n",
              "\n",
              "    .dataframe tbody tr th {\n",
              "        vertical-align: top;\n",
              "    }\n",
              "\n",
              "    .dataframe thead th {\n",
              "        text-align: right;\n",
              "    }\n",
              "</style>\n",
              "<table border=\"1\" class=\"dataframe\">\n",
              "  <thead>\n",
              "    <tr style=\"text-align: right;\">\n",
              "      <th></th>\n",
              "      <th>Comments</th>\n",
              "      <th>clean_comments</th>\n",
              "      <th>language</th>\n",
              "      <th>polarity</th>\n",
              "      <th>pol_cat</th>\n",
              "    </tr>\n",
              "  </thead>\n",
              "  <tbody>\n",
              "    <tr>\n",
              "      <th>0</th>\n",
              "      <td>So there’s a few problems here with your Logic...</td>\n",
              "      <td>So there’s a few problems here with your Logic...</td>\n",
              "      <td>en</td>\n",
              "      <td>0.034226</td>\n",
              "      <td>1</td>\n",
              "    </tr>\n",
              "    <tr>\n",
              "      <th>1</th>\n",
              "      <td>Next you should have the table nailed to the c...</td>\n",
              "      <td>Next you should have the table nailed to the c...</td>\n",
              "      <td>en</td>\n",
              "      <td>0.175000</td>\n",
              "      <td>1</td>\n",
              "    </tr>\n",
              "    <tr>\n",
              "      <th>2</th>\n",
              "      <td>Basically, Xbox has a massive massive win for ...</td>\n",
              "      <td>Basically, Xbox has a massive massive win for ...</td>\n",
              "      <td>en</td>\n",
              "      <td>0.266667</td>\n",
              "      <td>1</td>\n",
              "    </tr>\n",
              "    <tr>\n",
              "      <th>3</th>\n",
              "      <td>definitely it will, but you shouldn't fill up ...</td>\n",
              "      <td>definitely it will, but you shouldn't fill up ...</td>\n",
              "      <td>en</td>\n",
              "      <td>0.133333</td>\n",
              "      <td>1</td>\n",
              "    </tr>\n",
              "    <tr>\n",
              "      <th>4</th>\n",
              "      <td>I seriously wanted to buy a Mac Mini ... but w...</td>\n",
              "      <td>I seriously wanted to buy a Mac Mini ... but w...</td>\n",
              "      <td>en</td>\n",
              "      <td>0.062509</td>\n",
              "      <td>1</td>\n",
              "    </tr>\n",
              "  </tbody>\n",
              "</table>\n",
              "</div>"
            ],
            "text/plain": [
              "                                            Comments  ... pol_cat\n",
              "0  So there’s a few problems here with your Logic...  ...       1\n",
              "1  Next you should have the table nailed to the c...  ...       1\n",
              "2  Basically, Xbox has a massive massive win for ...  ...       1\n",
              "3  definitely it will, but you shouldn't fill up ...  ...       1\n",
              "4  I seriously wanted to buy a Mac Mini ... but w...  ...       1\n",
              "\n",
              "[5 rows x 5 columns]"
            ]
          },
          "metadata": {
            "tags": []
          },
          "execution_count": 31
        }
      ]
    },
    {
      "cell_type": "code",
      "metadata": {
        "colab": {
          "base_uri": "https://localhost:8080/"
        },
        "id": "kzr_QUHbUYNd",
        "outputId": "73f8f1cc-6f5a-4073-d4d9-29bafce57357"
      },
      "source": [
        "data_pos.shape"
      ],
      "execution_count": 32,
      "outputs": [
        {
          "output_type": "execute_result",
          "data": {
            "text/plain": [
              "(8321, 5)"
            ]
          },
          "metadata": {
            "tags": []
          },
          "execution_count": 32
        }
      ]
    },
    {
      "cell_type": "code",
      "metadata": {
        "colab": {
          "base_uri": "https://localhost:8080/",
          "height": 204
        },
        "id": "HPRA89VrUcYd",
        "outputId": "b96d77b9-968e-4e7d-c93b-09b39e1f73d2"
      },
      "source": [
        "data_neg.head()"
      ],
      "execution_count": 33,
      "outputs": [
        {
          "output_type": "execute_result",
          "data": {
            "text/html": [
              "<div>\n",
              "<style scoped>\n",
              "    .dataframe tbody tr th:only-of-type {\n",
              "        vertical-align: middle;\n",
              "    }\n",
              "\n",
              "    .dataframe tbody tr th {\n",
              "        vertical-align: top;\n",
              "    }\n",
              "\n",
              "    .dataframe thead th {\n",
              "        text-align: right;\n",
              "    }\n",
              "</style>\n",
              "<table border=\"1\" class=\"dataframe\">\n",
              "  <thead>\n",
              "    <tr style=\"text-align: right;\">\n",
              "      <th></th>\n",
              "      <th>Comments</th>\n",
              "      <th>clean_comments</th>\n",
              "      <th>language</th>\n",
              "      <th>polarity</th>\n",
              "      <th>pol_cat</th>\n",
              "    </tr>\n",
              "  </thead>\n",
              "  <tbody>\n",
              "    <tr>\n",
              "      <th>0</th>\n",
              "      <td>In my shop the 16Go As double the price of the...</td>\n",
              "      <td>In my shop the 16Go As double the price of the...</td>\n",
              "      <td>en</td>\n",
              "      <td>0.0</td>\n",
              "      <td>-1</td>\n",
              "    </tr>\n",
              "    <tr>\n",
              "      <th>1</th>\n",
              "      <td>waiting 8vs 16 vs intel gen10 with plug /unplug</td>\n",
              "      <td>waiting 8vs 16 vs intel gen10 with plug /unplug</td>\n",
              "      <td>en</td>\n",
              "      <td>0.0</td>\n",
              "      <td>-1</td>\n",
              "    </tr>\n",
              "    <tr>\n",
              "      <th>2</th>\n",
              "      <td>0:24 she is Hu Tao isn't she</td>\n",
              "      <td>0:24 she is Hu Tao isn't she</td>\n",
              "      <td>en</td>\n",
              "      <td>0.0</td>\n",
              "      <td>-1</td>\n",
              "    </tr>\n",
              "    <tr>\n",
              "      <th>3</th>\n",
              "      <td>@Matt Which will then lead to AMD being the vi...</td>\n",
              "      <td>@Matt Which will then lead to AMD being the vi...</td>\n",
              "      <td>en</td>\n",
              "      <td>0.0</td>\n",
              "      <td>-1</td>\n",
              "    </tr>\n",
              "    <tr>\n",
              "      <th>4</th>\n",
              "      <td>you test ram but dont include a Chrome test......</td>\n",
              "      <td>you test ram but dont include a Chrome test......</td>\n",
              "      <td>en</td>\n",
              "      <td>0.0</td>\n",
              "      <td>-1</td>\n",
              "    </tr>\n",
              "  </tbody>\n",
              "</table>\n",
              "</div>"
            ],
            "text/plain": [
              "                                            Comments  ... pol_cat\n",
              "0  In my shop the 16Go As double the price of the...  ...      -1\n",
              "1    waiting 8vs 16 vs intel gen10 with plug /unplug  ...      -1\n",
              "2                       0:24 she is Hu Tao isn't she  ...      -1\n",
              "3  @Matt Which will then lead to AMD being the vi...  ...      -1\n",
              "4  you test ram but dont include a Chrome test......  ...      -1\n",
              "\n",
              "[5 rows x 5 columns]"
            ]
          },
          "metadata": {
            "tags": []
          },
          "execution_count": 33
        }
      ]
    },
    {
      "cell_type": "code",
      "metadata": {
        "colab": {
          "base_uri": "https://localhost:8080/",
          "height": 54
        },
        "id": "80k_e9NSUi3e",
        "outputId": "88348c98-56a5-4fca-df91-453a46ddde25"
      },
      "source": [
        "data_pos['clean_comments'][1]"
      ],
      "execution_count": 40,
      "outputs": [
        {
          "output_type": "execute_result",
          "data": {
            "application/vnd.google.colaboratory.intrinsic+json": {
              "type": "string"
            },
            "text/plain": [
              "\"Next you should have the table nailed to the ceiling with the computers dangling from it and you standing underneath reviewing them. That's gonna end up being the sweet spot.\""
            ]
          },
          "metadata": {
            "tags": []
          },
          "execution_count": 40
        }
      ]
    },
    {
      "cell_type": "code",
      "metadata": {
        "colab": {
          "base_uri": "https://localhost:8080/",
          "height": 316
        },
        "id": "dCM_2hzzWQI_",
        "outputId": "bf518984-4506-4954-cd28-4f0d7b3280b2"
      },
      "source": [
        "data.pol_cat.value_counts().plot.bar()\n",
        "data.pol_cat.value_counts()"
      ],
      "execution_count": 41,
      "outputs": [
        {
          "output_type": "execute_result",
          "data": {
            "text/plain": [
              "-1    8777\n",
              " 1    8321\n",
              "Name: pol_cat, dtype: int64"
            ]
          },
          "metadata": {
            "tags": []
          },
          "execution_count": 41
        },
        {
          "output_type": "display_data",
          "data": {
            "image/png": "[encoded data removed]",
            "text/plain": [
              "<Figure size 432x288 with 1 Axes>"
            ]
          },
          "metadata": {
            "tags": [],
            "needs_background": "light"
          }
        }
      ]
    },
    {
      "cell_type": "markdown",
      "metadata": {
        "id": "o-pTiVjBXEOC"
      },
      "source": [
        "**Data Preprocessing**\n",
        "Lower the text in comments"
      ]
    },
    {
      "cell_type": "code",
      "metadata": {
        "id": "Alrl5NOLXH7q"
      },
      "source": [
        "data['clean_comments'] = data['clean_comments'].str.lower()"
      ],
      "execution_count": 62,
      "outputs": []
    },
    {
      "cell_type": "code",
      "metadata": {
        "colab": {
          "base_uri": "https://localhost:8080/"
        },
        "id": "JuxeORKCXiTx",
        "outputId": "f2cc0cc7-3f74-4dd3-9474-b01b17c943b9"
      },
      "source": [
        "data['clean_comments'].head()"
      ],
      "execution_count": 63,
      "outputs": [
        {
          "output_type": "execute_result",
          "data": {
            "text/plain": [
              "0    in my shop the 16go as double the price of the...\n",
              "1      waiting 8vs 16 vs intel gen10 with plug /unplug\n",
              "2    so there’s a few problems here with your logic...\n",
              "3                         0:24 she is hu tao isn't she\n",
              "4    next you should have the table nailed to the c...\n",
              "Name: clean_comments, dtype: object"
            ]
          },
          "metadata": {
            "tags": []
          },
          "execution_count": 63
        }
      ]
    },
    {
      "cell_type": "code",
      "metadata": {
        "colab": {
          "base_uri": "https://localhost:8080/",
          "height": 297
        },
        "id": "1UAUxdTKX2g0",
        "outputId": "8cc5ced4-c8c9-4c67-df10-3d1ab1547a08"
      },
      "source": [
        "data.describe()"
      ],
      "execution_count": 45,
      "outputs": [
        {
          "output_type": "execute_result",
          "data": {
            "text/html": [
              "<div>\n",
              "<style scoped>\n",
              "    .dataframe tbody tr th:only-of-type {\n",
              "        vertical-align: middle;\n",
              "    }\n",
              "\n",
              "    .dataframe tbody tr th {\n",
              "        vertical-align: top;\n",
              "    }\n",
              "\n",
              "    .dataframe thead th {\n",
              "        text-align: right;\n",
              "    }\n",
              "</style>\n",
              "<table border=\"1\" class=\"dataframe\">\n",
              "  <thead>\n",
              "    <tr style=\"text-align: right;\">\n",
              "      <th></th>\n",
              "      <th>polarity</th>\n",
              "      <th>pol_cat</th>\n",
              "    </tr>\n",
              "  </thead>\n",
              "  <tbody>\n",
              "    <tr>\n",
              "      <th>count</th>\n",
              "      <td>17098.000000</td>\n",
              "      <td>17098.000000</td>\n",
              "    </tr>\n",
              "    <tr>\n",
              "      <th>mean</th>\n",
              "      <td>0.129998</td>\n",
              "      <td>-0.026670</td>\n",
              "    </tr>\n",
              "    <tr>\n",
              "      <th>std</th>\n",
              "      <td>0.300464</td>\n",
              "      <td>0.999674</td>\n",
              "    </tr>\n",
              "    <tr>\n",
              "      <th>min</th>\n",
              "      <td>-1.000000</td>\n",
              "      <td>-1.000000</td>\n",
              "    </tr>\n",
              "    <tr>\n",
              "      <th>25%</th>\n",
              "      <td>0.000000</td>\n",
              "      <td>-1.000000</td>\n",
              "    </tr>\n",
              "    <tr>\n",
              "      <th>50%</th>\n",
              "      <td>0.000000</td>\n",
              "      <td>-1.000000</td>\n",
              "    </tr>\n",
              "    <tr>\n",
              "      <th>75%</th>\n",
              "      <td>0.283333</td>\n",
              "      <td>1.000000</td>\n",
              "    </tr>\n",
              "    <tr>\n",
              "      <th>max</th>\n",
              "      <td>1.000000</td>\n",
              "      <td>1.000000</td>\n",
              "    </tr>\n",
              "  </tbody>\n",
              "</table>\n",
              "</div>"
            ],
            "text/plain": [
              "           polarity       pol_cat\n",
              "count  17098.000000  17098.000000\n",
              "mean       0.129998     -0.026670\n",
              "std        0.300464      0.999674\n",
              "min       -1.000000     -1.000000\n",
              "25%        0.000000     -1.000000\n",
              "50%        0.000000     -1.000000\n",
              "75%        0.283333      1.000000\n",
              "max        1.000000      1.000000"
            ]
          },
          "metadata": {
            "tags": []
          },
          "execution_count": 45
        }
      ]
    },
    {
      "cell_type": "code",
      "metadata": {
        "colab": {
          "base_uri": "https://localhost:8080/"
        },
        "id": "B5-wCxK0YPwd",
        "outputId": "c3213d71-938a-4361-ea70-fa2a181f3c5e"
      },
      "source": [
        "data.info()"
      ],
      "execution_count": 46,
      "outputs": [
        {
          "output_type": "stream",
          "text": [
            "<class 'pandas.core.frame.DataFrame'>\n",
            "RangeIndex: 17098 entries, 0 to 17097\n",
            "Data columns (total 5 columns):\n",
            " #   Column          Non-Null Count  Dtype  \n",
            "---  ------          --------------  -----  \n",
            " 0   Comments        17098 non-null  object \n",
            " 1   clean_comments  17098 non-null  object \n",
            " 2   language        17098 non-null  object \n",
            " 3   polarity        17098 non-null  float64\n",
            " 4   pol_cat         17098 non-null  int64  \n",
            "dtypes: float64(1), int64(1), object(3)\n",
            "memory usage: 668.0+ KB\n"
          ],
          "name": "stdout"
        }
      ]
    },
    {
      "cell_type": "code",
      "metadata": {
        "colab": {
          "base_uri": "https://localhost:8080/",
          "height": 37
        },
        "id": "W55mY1y8YX9E",
        "outputId": "a7f3d4f0-9d4b-49b4-9f38-40c0b8cfa684"
      },
      "source": [
        "data['clean_comments'][0]"
      ],
      "execution_count": 64,
      "outputs": [
        {
          "output_type": "execute_result",
          "data": {
            "application/vnd.google.colaboratory.intrinsic+json": {
              "type": "string"
            },
            "text/plain": [
              "'in my shop the 16go as double the price of the 8go...'"
            ]
          },
          "metadata": {
            "tags": []
          },
          "execution_count": 64
        }
      ]
    },
    {
      "cell_type": "code",
      "metadata": {
        "colab": {
          "base_uri": "https://localhost:8080/",
          "height": 37
        },
        "id": "k6hAK79QYl9y",
        "outputId": "6d5d60ae-317e-4e7f-8418-da7ca8c25c4d"
      },
      "source": [
        "data['clean_comments'][0].strip()"
      ],
      "execution_count": 65,
      "outputs": [
        {
          "output_type": "execute_result",
          "data": {
            "application/vnd.google.colaboratory.intrinsic+json": {
              "type": "string"
            },
            "text/plain": [
              "'in my shop the 16go as double the price of the 8go...'"
            ]
          },
          "metadata": {
            "tags": []
          },
          "execution_count": 65
        }
      ]
    },
    {
      "cell_type": "code",
      "metadata": {
        "colab": {
          "base_uri": "https://localhost:8080/"
        },
        "id": "v0ESWwN3Y3zN",
        "outputId": "1fa28257-cf12-4458-961c-454099d2756c"
      },
      "source": [
        "import nltk\n",
        "nltk.download(\"stopwords\")"
      ],
      "execution_count": 66,
      "outputs": [
        {
          "output_type": "stream",
          "text": [
            "[nltk_data] Downloading package stopwords to /root/nltk_data...\n",
            "[nltk_data]   Package stopwords is already up-to-date!\n"
          ],
          "name": "stdout"
        },
        {
          "output_type": "execute_result",
          "data": {
            "text/plain": [
              "True"
            ]
          },
          "metadata": {
            "tags": []
          },
          "execution_count": 66
        }
      ]
    },
    {
      "cell_type": "code",
      "metadata": {
        "colab": {
          "base_uri": "https://localhost:8080/"
        },
        "id": "IR-nI_haY9vm",
        "outputId": "bab35388-273f-42cc-aad9-8e839a60767a"
      },
      "source": [
        "nltk.download(\"punkt\")"
      ],
      "execution_count": 67,
      "outputs": [
        {
          "output_type": "stream",
          "text": [
            "[nltk_data] Downloading package punkt to /root/nltk_data...\n",
            "[nltk_data]   Package punkt is already up-to-date!\n"
          ],
          "name": "stdout"
        },
        {
          "output_type": "execute_result",
          "data": {
            "text/plain": [
              "True"
            ]
          },
          "metadata": {
            "tags": []
          },
          "execution_count": 67
        }
      ]
    },
    {
      "cell_type": "code",
      "metadata": {
        "id": "N474MRrWZEdE"
      },
      "source": [
        "from nltk.corpus import stopwords\n",
        "from nltk import word_tokenize\n",
        "import string\n",
        "import re\n",
        "import nltk"
      ],
      "execution_count": 68,
      "outputs": []
    },
    {
      "cell_type": "code",
      "metadata": {
        "colab": {
          "base_uri": "https://localhost:8080/"
        },
        "id": "ZS5-opYYZNIb",
        "outputId": "28fb964f-530e-4d72-c37f-6c5bcf9567b1"
      },
      "source": [
        "print(stopwords.words('english'))"
      ],
      "execution_count": 69,
      "outputs": [
        {
          "output_type": "stream",
          "text": [
            "['i', 'me', 'my', 'myself', 'we', 'our', 'ours', 'ourselves', 'you', \"you're\", \"you've\", \"you'll\", \"you'd\", 'your', 'yours', 'yourself', 'yourselves', 'he', 'him', 'his', 'himself', 'she', \"she's\", 'her', 'hers', 'herself', 'it', \"it's\", 'its', 'itself', 'they', 'them', 'their', 'theirs', 'themselves', 'what', 'which', 'who', 'whom', 'this', 'that', \"that'll\", 'these', 'those', 'am', 'is', 'are', 'was', 'were', 'be', 'been', 'being', 'have', 'has', 'had', 'having', 'do', 'does', 'did', 'doing', 'a', 'an', 'the', 'and', 'but', 'if', 'or', 'because', 'as', 'until', 'while', 'of', 'at', 'by', 'for', 'with', 'about', 'against', 'between', 'into', 'through', 'during', 'before', 'after', 'above', 'below', 'to', 'from', 'up', 'down', 'in', 'out', 'on', 'off', 'over', 'under', 'again', 'further', 'then', 'once', 'here', 'there', 'when', 'where', 'why', 'how', 'all', 'any', 'both', 'each', 'few', 'more', 'most', 'other', 'some', 'such', 'no', 'nor', 'not', 'only', 'own', 'same', 'so', 'than', 'too', 'very', 's', 't', 'can', 'will', 'just', 'don', \"don't\", 'should', \"should've\", 'now', 'd', 'll', 'm', 'o', 're', 've', 'y', 'ain', 'aren', \"aren't\", 'couldn', \"couldn't\", 'didn', \"didn't\", 'doesn', \"doesn't\", 'hadn', \"hadn't\", 'hasn', \"hasn't\", 'haven', \"haven't\", 'isn', \"isn't\", 'ma', 'mightn', \"mightn't\", 'mustn', \"mustn't\", 'needn', \"needn't\", 'shan', \"shan't\", 'shouldn', \"shouldn't\", 'wasn', \"wasn't\", 'weren', \"weren't\", 'won', \"won't\", 'wouldn', \"wouldn't\"]\n"
          ],
          "name": "stdout"
        }
      ]
    },
    {
      "cell_type": "code",
      "metadata": {
        "id": "u8vtHjD3ZZds"
      },
      "source": [
        "stop_words = set(stopwords.words('english'))"
      ],
      "execution_count": 70,
      "outputs": []
    },
    {
      "cell_type": "code",
      "metadata": {
        "id": "qo9fXAjJZgm3"
      },
      "source": [
        "data['clean_comments'] = data['clean_comments'].str.strip()"
      ],
      "execution_count": 71,
      "outputs": []
    },
    {
      "cell_type": "code",
      "metadata": {
        "id": "eu-lnLp9aAmI"
      },
      "source": [
        "train = data.copy()"
      ],
      "execution_count": 72,
      "outputs": []
    },
    {
      "cell_type": "code",
      "metadata": {
        "id": "q9-3HP8YaDUq"
      },
      "source": [
        "train['clean_comments'] = train['clean_comments'].str.strip()"
      ],
      "execution_count": 73,
      "outputs": []
    },
    {
      "cell_type": "code",
      "metadata": {
        "colab": {
          "base_uri": "https://localhost:8080/",
          "height": 37
        },
        "id": "hUeTWYLVag-t",
        "outputId": "21652209-ab99-4e34-b346-b8819fad7c88"
      },
      "source": [
        "\n",
        "train['clean_comments'][0]"
      ],
      "execution_count": 76,
      "outputs": [
        {
          "output_type": "execute_result",
          "data": {
            "application/vnd.google.colaboratory.intrinsic+json": {
              "type": "string"
            },
            "text/plain": [
              "'in my shop the 16go as double the price of the 8go...'"
            ]
          },
          "metadata": {
            "tags": []
          },
          "execution_count": 76
        }
      ]
    },
    {
      "cell_type": "code",
      "metadata": {
        "id": "SfQehNIWalyE"
      },
      "source": [
        "def remove_stopwords(line):\n",
        "    word_tokens = word_tokenize(line)\n",
        "    filtered_sentence = [w for w in word_tokens if not w in stop_words]\n",
        "    return \" \".join(filtered_sentence)"
      ],
      "execution_count": 77,
      "outputs": []
    },
    {
      "cell_type": "code",
      "metadata": {
        "id": "k9-6_xfoar3m"
      },
      "source": [
        "data['stop_comments'] = data['clean_comments'].apply(lambda x : remove_stopwords(x))"
      ],
      "execution_count": 78,
      "outputs": []
    },
    {
      "cell_type": "code",
      "metadata": {
        "colab": {
          "base_uri": "https://localhost:8080/",
          "height": 272
        },
        "id": "ovmT7crLa2Xu",
        "outputId": "e8bdb729-808b-447f-fa1e-ab8bd2607b1f"
      },
      "source": [
        "data.head()"
      ],
      "execution_count": 79,
      "outputs": [
        {
          "output_type": "execute_result",
          "data": {
            "text/html": [
              "<div>\n",
              "<style scoped>\n",
              "    .dataframe tbody tr th:only-of-type {\n",
              "        vertical-align: middle;\n",
              "    }\n",
              "\n",
              "    .dataframe tbody tr th {\n",
              "        vertical-align: top;\n",
              "    }\n",
              "\n",
              "    .dataframe thead th {\n",
              "        text-align: right;\n",
              "    }\n",
              "</style>\n",
              "<table border=\"1\" class=\"dataframe\">\n",
              "  <thead>\n",
              "    <tr style=\"text-align: right;\">\n",
              "      <th></th>\n",
              "      <th>Comments</th>\n",
              "      <th>clean_comments</th>\n",
              "      <th>language</th>\n",
              "      <th>polarity</th>\n",
              "      <th>pol_cat</th>\n",
              "      <th>comments</th>\n",
              "      <th>stop_comments</th>\n",
              "    </tr>\n",
              "  </thead>\n",
              "  <tbody>\n",
              "    <tr>\n",
              "      <th>0</th>\n",
              "      <td>in my shop the 16go as double the price of the...</td>\n",
              "      <td>in my shop the 16go as double the price of the...</td>\n",
              "      <td>en</td>\n",
              "      <td>0.000000</td>\n",
              "      <td>-1</td>\n",
              "      <td>in my shop the 16go as double the price of the...</td>\n",
              "      <td>shop 16go double price 8go ...</td>\n",
              "    </tr>\n",
              "    <tr>\n",
              "      <th>1</th>\n",
              "      <td>waiting 8vs 16 vs intel gen10 with plug /unplug</td>\n",
              "      <td>waiting 8vs 16 vs intel gen10 with plug /unplug</td>\n",
              "      <td>en</td>\n",
              "      <td>0.000000</td>\n",
              "      <td>-1</td>\n",
              "      <td>waiting 8vs 16 vs intel gen10 with plug /unplug</td>\n",
              "      <td>waiting 8vs 16 vs intel gen10 plug /unplug</td>\n",
              "    </tr>\n",
              "    <tr>\n",
              "      <th>2</th>\n",
              "      <td>so there’s a few problems here with your logic...</td>\n",
              "      <td>so there’s a few problems here with your logic...</td>\n",
              "      <td>en</td>\n",
              "      <td>0.034226</td>\n",
              "      <td>1</td>\n",
              "      <td>so there’s a few problems here with your logic...</td>\n",
              "      <td>’ problems logic performance benchmark . first...</td>\n",
              "    </tr>\n",
              "    <tr>\n",
              "      <th>3</th>\n",
              "      <td>0:24 she is hu tao isn't she</td>\n",
              "      <td>0:24 she is hu tao isn't she</td>\n",
              "      <td>en</td>\n",
              "      <td>0.000000</td>\n",
              "      <td>-1</td>\n",
              "      <td>0:24 she is hu tao isn't she</td>\n",
              "      <td>0:24 hu tao n't</td>\n",
              "    </tr>\n",
              "    <tr>\n",
              "      <th>4</th>\n",
              "      <td>next you should have the table nailed to the c...</td>\n",
              "      <td>next you should have the table nailed to the c...</td>\n",
              "      <td>en</td>\n",
              "      <td>0.175000</td>\n",
              "      <td>1</td>\n",
              "      <td>next you should have the table nailed to the c...</td>\n",
              "      <td>next table nailed ceiling computers dangling s...</td>\n",
              "    </tr>\n",
              "  </tbody>\n",
              "</table>\n",
              "</div>"
            ],
            "text/plain": [
              "                                            Comments  ...                                      stop_comments\n",
              "0  in my shop the 16go as double the price of the...  ...                     shop 16go double price 8go ...\n",
              "1    waiting 8vs 16 vs intel gen10 with plug /unplug  ...         waiting 8vs 16 vs intel gen10 plug /unplug\n",
              "2  so there’s a few problems here with your logic...  ...  ’ problems logic performance benchmark . first...\n",
              "3                       0:24 she is hu tao isn't she  ...                                    0:24 hu tao n't\n",
              "4  next you should have the table nailed to the c...  ...  next table nailed ceiling computers dangling s...\n",
              "\n",
              "[5 rows x 7 columns]"
            ]
          },
          "metadata": {
            "tags": []
          },
          "execution_count": 79
        }
      ]
    },
    {
      "cell_type": "code",
      "metadata": {
        "id": "CjEvWa7cbCMx"
      },
      "source": [
        "from sklearn.model_selection import train_test_split"
      ],
      "execution_count": 80,
      "outputs": []
    },
    {
      "cell_type": "code",
      "metadata": {
        "id": "F8uYit1DbHdP"
      },
      "source": [
        "X_train,X_test,y_train,y_test = train_test_split(data['stop_comments'],data['pol_cat'],test_size = 0.2,random_state = 324)"
      ],
      "execution_count": 81,
      "outputs": []
    },
    {
      "cell_type": "code",
      "metadata": {
        "colab": {
          "base_uri": "https://localhost:8080/"
        },
        "id": "3QpE0wOcbNwC",
        "outputId": "a9801dde-08cc-4ef9-92a8-606cde6e02a1"
      },
      "source": [
        "X_train.shape"
      ],
      "execution_count": 82,
      "outputs": [
        {
          "output_type": "execute_result",
          "data": {
            "text/plain": [
              "(13678,)"
            ]
          },
          "metadata": {
            "tags": []
          },
          "execution_count": 82
        }
      ]
    },
    {
      "cell_type": "code",
      "metadata": {
        "colab": {
          "base_uri": "https://localhost:8080/"
        },
        "id": "BpxmY17vbShH",
        "outputId": "1a0878a2-23f5-4af8-fa92-045d6e7fb86d"
      },
      "source": [
        "X_test.shape"
      ],
      "execution_count": 83,
      "outputs": [
        {
          "output_type": "execute_result",
          "data": {
            "text/plain": [
              "(3420,)"
            ]
          },
          "metadata": {
            "tags": []
          },
          "execution_count": 83
        }
      ]
    },
    {
      "cell_type": "code",
      "metadata": {
        "colab": {
          "base_uri": "https://localhost:8080/"
        },
        "id": "TbENnz7ybV-c",
        "outputId": "ba78c905-9e8e-4a8e-bbe3-e7dc3905a802"
      },
      "source": [
        "data['pol_cat'].value_counts()"
      ],
      "execution_count": 84,
      "outputs": [
        {
          "output_type": "execute_result",
          "data": {
            "text/plain": [
              "-1    8777\n",
              " 1    8321\n",
              "Name: pol_cat, dtype: int64"
            ]
          },
          "metadata": {
            "tags": []
          },
          "execution_count": 84
        }
      ]
    },
    {
      "cell_type": "markdown",
      "metadata": {
        "id": "OrGwNUu7bdD1"
      },
      "source": [
        "**Logistic Regression**"
      ]
    },
    {
      "cell_type": "code",
      "metadata": {
        "id": "tbetPC0rbi_W"
      },
      "source": [
        "from sklearn.feature_extraction.text import CountVectorizer"
      ],
      "execution_count": 85,
      "outputs": []
    },
    {
      "cell_type": "code",
      "metadata": {
        "id": "-ASJxVa-boik"
      },
      "source": [
        "from sklearn.feature_extraction.text import CountVectorizer, TfidfVectorizer \n",
        "vect = CountVectorizer()\n",
        "tf_train = vect.fit_transform(X_train)\n",
        "tf_test = vect.transform(X_test)"
      ],
      "execution_count": 91,
      "outputs": []
    },
    {
      "cell_type": "code",
      "metadata": {
        "colab": {
          "base_uri": "https://localhost:8080/"
        },
        "id": "cSEx1f65bvKo",
        "outputId": "dca457b2-44f9-4a4f-8d04-50afbc6b5a27"
      },
      "source": [
        "tf_train.shape"
      ],
      "execution_count": 92,
      "outputs": [
        {
          "output_type": "execute_result",
          "data": {
            "text/plain": [
              "(13678, 14786)"
            ]
          },
          "metadata": {
            "tags": []
          },
          "execution_count": 92
        }
      ]
    },
    {
      "cell_type": "code",
      "metadata": {
        "colab": {
          "base_uri": "https://localhost:8080/"
        },
        "id": "97TeoOrab6JV",
        "outputId": "2b3d2559-360d-4ba0-afe5-6b8ef6614764"
      },
      "source": [
        "print(vect.vocabulary_)"
      ],
      "execution_count": 106,
      "outputs": [
        {
          "output_type": "stream",
          "text": [
            "{'matrix': 8223, 'need': 8882, 'smartass': 12052, 'rise': 11111, 'tomb': 13305, 'raider': 10522, 'two': 13573, 'words': 14462, 'halo': 6198, 'infinite': 6897, '39': 467, 'like': 7760, 'hair': 6188, 'lens': 7683, 'lol': 7877, 'desk': 3999, 'tripped': 13481, '35': 441, 'quick': 10472, 'resume': 10979, 'uummm': 13868, 'function': 5656, 'ps5': 10336, 'called': 2533, 'switcher': 12806, 'switch': 12804, 'quickly': 10475, 'games': 5734, 'payton': 9660, 'ok': 9232, 'try': 13515, 'sign': 11868, 'vr': 14077, 'using': 13851, 'facebook': 5079, 'account': 930, 'find': 5315, 'ur': 13825, 'real': 10622, 'age': 1102, 'trouble': 13491, 'starts': 12427, 'could': 3429, 'please': 9913, 'help': 6375, 'decide': 3837, 'buy': 2493, 'smartphone': 12056, 'samsung': 11358, 's20': 11293, 'fe': 5211, '5g': 615, 'vs': 14088, 'asus': 1618, 'rog': 11162, 'phone': 9775, '50k': 572, 'playing': 9898, 'important': 6789, 'thing': 13127, 'best': 2009, 'network': 8926, 'range': 10551, 'reception': 10666, 'good': 5979, '4g': 542, 'support': 12708, 'working': 14474, 'rural': 11260, 'area': 1489, 'battery': 1884, 'really': 10638, 'depends': 3963, 'use': 13840, 'computer': 3188, '8gigs': 768, 'enough': 4784, 'basic': 1862, 'gaming': 5738, 'web': 14231, 'browsing': 2390, 'microsoft': 8430, 'office': 9209, 'single': 11925, 'high': 6418, 'taxing': 12915, 'tasks': 12907, 'lightroom': 7757, 'photoshop': 9782, '16': 161, 'gigs': 5874, 'opening': 9302, '20': 229, 'graphic': 6044, 'webpages': 14237, 'time': 13240, 'simultaneously': 11914, 'streaming': 12551, 'canon': 2574, 'r5': 10501, '10bit': 49, '422': 509, 'running': 11256, 'davinci': 3769, 'get': 5837, '12': 92, 'also': 1243, 'batching': 1876, 'multiple': 8746, 'edits': 4599, 'capture': 2599, 'airrookie': 1151, 'amd': 1277, 'go': 5938, '5nm': 625, 'intel': 6976, 'still': 12489, 'suck': 12649, 'disagree': 4163, 'people': 9695, 'want': 14144, 'laptop': 7566, 'years': 14649, '8gb': 762, 'ram': 10537, 'laughable': 7598, 'little': 7818, 'even': 4881, '16gb': 174, 'future': 5685, 'proofing': 10283, 'especially': 4848, 'machine': 8033, 'upgrade': 13799, 'anything': 1399, 'mean': 8282, 'common': 3094, 'cap': 2579, '16ram': 184, 'chrome': 2864, 'tabs': 12846, 'centre': 2711, 'stage': 12396, 'would': 14502, 'dope': 4343, 'macbook': 8027, 'add': 999, 'faceid': 5082, 'ultra': 13623, 'wide': 14345, 'hurt': 6612, 'either': 4645, 'getting': 5844, 'harry': 6254, 'potter': 10036, 'cursed': 3625, 'planet': 9863, 'gah': 5706, 'damn': 3706, 'much': 8727, 'interesting': 7004, 'face': 5078, 'windows': 14373, 'virtualization': 14013, 'alexys': 1184, 'well': 14263, 'procesor': 10210, 'snobs': 12106, 'hate': 6268, 'bit': 2084, 'less': 7691, 'powerful': 10047, 'dont': 4332, 'care': 2614, 'long': 7884, 'term': 13007, 'since': 11918, 'new': 8932, 'every': 4893, 'linux': 7793, 'user': 13846, 'mac': 8025, 'due': 4474, 'photo': 9777, 'hobby': 6464, 'commercial': 3088, 'programs': 10252, 'available': 1686, 'saw': 11416, '42m': 511, 'raw': 10587, 'image': 6741, 'export': 5028, 'minutes': 8493, 'uhh': 13608, 'expensive': 4993, 'slow': 12030, 'anyway': 1401, 'll': 7829, 'look': 7891, 'arm': 1511, 'take': 12861, 'motorcycle': 8683, 'trip': 13477, 'size': 11955, 'life': 7739, 'weight': 14253, 'hp': 6561, 'laptops': 7567, 'convinced': 3348, 'almost': 1228, 'm1': 8008, 'test': 13022, 'hardware': 6248, 'know': 7460, 'possiblity': 10020, 'install': 6956, 'os': 9367, 'honest': 6499, 'reveiew': 11016, 'far': 5162, 'oculus': 9187, 'quest': 10461, 'pc': 9661, 'ps4': 10333, 'xbox': 14576, 'cool': 3357, 'achievement': 949, 'unlocked': 13737, 'already': 1239, 'reason': 10644, 'aka': 1158, 'trying': 13518, 'cuz': 3660, 'ones': 9270, 'big': 2043, 'fan': 5143, 'india': 6864, 'gaabbu': 5698, 'never': 8929, 'puts': 10420, 'brazil': 2310, 'shipped': 11755, 'amazon': 1272, 'work': 14465, 'sils': 11887, 'wei': 14250, 'thats': 13065, 'tell': 12973, 'dominate': 4321, 'markets': 8160, 'dominating': 4324, 'personal': 9747, 'consumers': 3291, 'market': 8156, 'bet': 2011, 'colorware': 3042, 'gon': 5974, 'na': 8798, 'making': 8092, 'money': 8605, 'motorola': 8684, 'edge': 4582, 'facial': 5090, 'tracking': 13385, 'functionality': 5659, 'going': 5964, 'android': 1322, '11': 67, 'update': 13792, 'cracking': 3473, 'sooo': 12185, 'muchhh': 8728, 'series': 11637, 'review': 11025, 'dave': 3754, 'andrew': 1319, 'delashaw': 3900, 'completely': 3159, 'untrue': 13780, 'guy': 6139, 'dumb': 4483, 'built': 2435, '1300': 119, 'counting': 3439, 'shipping': 11756, 'vat': 13910, 'way': 14207, 'better': 2017, 'storage': 12519, 'non': 9024, 'upgradable': 13798, 'gear': 5781, 'always': 1258, 'right': 11085, 'apps': 1455, 'tend': 12990, 'resources': 10949, 'kind': 7425, 'plan': 9861, 'keep': 7370, 'couple': 3444, 'feel': 5234, 'bad': 1775, 'owner': 9482, 'rec': 10656, 'room': 11183, 'dweeb': 4520, 'forgot': 5508, 'mention': 8354, 'play': 9887, 'ps1': 10330, 'ps2': 10331, 'ps3': 10332, 'ca': 2510, 'longest': 7886, 'month': 8628, 'days': 3778, 'hope': 6516, 'dualsense': 4462, 'controller': 3330, 'features': 5222, 'popular': 9988, 'implemented': 6783, 'controllers': 3331, 'instead': 6964, 'forgotten': 5509, 'van': 13893, 'peters': 9760, 'performance': 9716, 'value': 13888, 'product': 10227, 'focus': 5444, '3rd': 483, 'gen': 5795, 'ryzen': 11284, 'path': 9629, 'choosing': 2848, 'nowadays': 9085, 'waste': 14179, 'likely': 7763, 'another': 1363, 'mobo': 8554, 'processor': 10217, 'make': 8082, 'sense': 11609, 'spend': 12277, 'terrible': 13014, 'competition': 3139, 'releasing': 10806, 'cpu': 3468, 'match': 8204, 'igpu': 6702, 'thank': 13049, 'switching': 12808, 'waiting': 14115, 'sale': 11340, 'admit': 1029, 'table': 12842, 'sony': 12179, 'sue': 12659, 'made': 8048, 'mod': 8557, 'profit': 10241, 'sued': 12660, 'company': 3108, 'remember': 10834, 'name': 8818, 'playstation': 9907, 'trademarks': 13393, 'licensed': 7732, 'friend': 5612, 'lot': 7926, 'shit': 11760, 'next': 8942, 'miband': 8406, 'display': 4221, 'zenfone': 14746, 'pro': 10196, 'last': 7577, '40h': 501, 'kyudo': 7513, 'kun': 7497, 'stockx': 12500, 'ebay': 4567, 'said': 11330, 'ray': 10590, 'tracing': 13380, 'console': 3271, 'stress': 12557, 'cause': 2674, 'heard': 6325, 'ai': 1132, 'lett': 7701, 'put': 10418, 'diget': 4112, 'codes': 3002, 'show': 11816, 'side': 11856, 'plates': 9879, 'teardown': 12938, 'published': 10368, 'three': 13168, 'weeks': 14249, 'ago': 1113, 'facts': 5099, 'intro': 7033, 'finger': 5323, 'nose': 9054, 'voice': 14053, 'techno': 12954, 'track': 13381, 'bro': 2362, 'one': 9266, 'developing': 4038, 'studio': 12591, 'emulator': 4728, 'difference': 4097, 'plenty': 9921, 'stupid': 12600, 'software': 12136, 'developer': 4036, 'large': 7568, 'builds': 2434, 'system': 12833, 'takes': 12864, '2x': 388, '3x': 487, '32gb': 429, 'surprised': 12743, 'changed': 2744, 'significantly': 11874, 'hi': 6408, 'kinda': 7426, 'spray': 12343, 'paint': 9525, 'tech': 12944, 'products': 10232, 'nord': 9044, 'cable': 2513, 'ugly': 13605, 'yep': 14667, 'think': 13132, 'worth': 14495, 'main': 8070, 'experience': 4996, 'love': 7934, 'page': 9516, 'on': 9264, 'scoop': 11471, 'easiest': 4557, 'fastest': 5177, 'usa': 13833, 'https': 6572, 'youtu': 14708, 'be': 1904, 'sbxysrv4d10': 11426, 'click': 2934, 'link': 7786, 'inside': 6943, 'out': 9389, 'puro': 10402, 'the_woof': 13068, 'psvr': 10354, 'discontinued': 4193, 'wait': 14113, 'watching': 14193, 'build': 2431, 'hype': 6626, 'course': 3448, 'coming': 3075, 'overload': 9449, 'problem': 10202, 'happen': 6230, 'let': 7697, 'exist': 4961, 'models': 8566, 'alt': 1245, 'acc': 902, 'oh': 9224, 'worry': 14489, '2080': 268, 'ti': 13212, 'read': 10614, 'gayid': 5774, 'hear': 6324, 'specs': 12262, 'cost': 3415, '1000': 21, 'ill': 6725, 'talk': 12870, 'batery': 1877, 'id': 6665, 'currently': 3621, 'planning': 9867, 'applies': 1441, 'meaning': 8283, 'require': 10907, 'kaddamanmanmy': 7344, 'prediction': 10090, 'huami': 6574, 'screen': 11491, 'design': 3990, 'mi': 8403, 'band': 1806, 'amazfit': 1269, 'speaker': 12243, 'alexa': 1181, 'assistant': 1597, 'ability': 877, 'short': 11794, 'replies': 10887, 'notifications': 9072, 'broken': 2372, 'ordered': 9349, 'mine': 8473, 'jan': 7187, '30': 392, 'estimate': 4857, 'delivery': 3915, 'ready': 10621, '05': 9, 'looks': 7898, 'finally': 5313, 'possible': 10019, 'see': 11557, 'day': 3777, 'workout': 14477, 'displayed': 4222, 'black': 2099, 'orange': 9345, 'tiny': 13257, 'font': 5464, 'unreadable': 13753, 'although': 1253, 'actual': 978, 'small': 12049, 'music': 8770, 'controls': 3334, 'annoying': 1356, 'disable': 4158, 'iirc': 6711, 'disappointed': 4167, 'understatement': 13680, 'death': 3811, 'evil': 4905, 'zombie': 14765, 'type': 13579, 'fear': 5212, 'shooting': 11788, 'cartoon': 2644, 'characters': 2755, 'hoping': 6521, 'educational': 4605, 'interactive': 6996, 'videos': 13983, 'learn': 7644, 'tai': 12854, 'chi': 2810, 'karate': 7352, 'wrestling': 14520, 'maybe': 8245, 'shoot': 11785, 'certain': 2717, 'guns': 6131, 'aim': 1136, 'travel': 13439, 'world': 14483, 'fly': 5438, 'airplane': 1146, 'helicopter': 6364, 'language': 7561, 'interaction': 6995, 'hands': 6218, 'cramped': 3479, 'holding': 6471, 'yes': 14669, 'light': 7750, 'saber': 11302, 'fighting': 5284, 'swung': 12812, 'warn': 14161, 'close': 2956, 'items': 7140, 'fast': 5173, 'moving': 8704, 'full': 5650, 'swing': 12799, 'sabre': 11308, 'attacking': 1644, 'fashion': 5172, 'hand': 6207, 'smashed': 12060, 'inversion': 7052, 'metal': 8386, 'frame': 5556, 'immediate': 6759, 'stop': 12514, 'socially': 12123, 'unacceptable': 13637, 'verbiage': 13939, 'extra': 5054, 'interact': 6994, 'start': 12422, 'pause': 9646, 'google': 5987, 'youtube': 14709, 'answers': 1370, 'head': 6301, 'pushes': 10415, 'ears': 4552, 'sits': 11945, 'tilt': 13237, 'cheeks': 2788, 'seem': 11564, 'glasses': 5908, 'constant': 3277, 'red': 10702, 'dot': 4351, 'upper': 13811, 'corner': 3392, 'yet': 14677, 'back': 1753, 'exit': 4967, 'indicator': 6870, 'anywhere': 1403, 'shut': 11840, 'sell': 11589, 'gloves': 5926, 'line': 7780, 'arms': 1515, 'segway': 11576, 'sponsor': 12328, 'ifixit': 6691, 'shows': 11826, 'jayz2cents': 7208, 'exploding': 5019, 'video': 13981, '30fps': 411, 'is': 7102, 'bummer': 2449, 'guess': 6118, '4k': 549, 'happy': 6238, 'option': 9338, '1080p': 42, '60fps': 645, 'us': 13832, 'count': 3432, 'resoulution': 10947, 'rate': 10575, 'harware': 6258, 'indentical': 6859, '120': 93, 'fps': 5551, 'easy': 4562, 'tips': 13260, 'wan': 14141, 'run': 11252, '100': 20, '50': 561, 'gb': 5776, 'fine': 5321, 'seedank': 11560, 'yeah': 14645, 'fb': 5204, 'requirement': 10909, 'got': 6001, 'iffy': 6690, 'today': 13291, 'ta': 12840, 'say': 11419, 'helpful': 6377, 'probably': 10199, 'beat': 1914, 'worst': 14494, 'dpads': 4387, 'dpad': 4386, 'worse': 14491, '360': 447, 'least': 7649, 'idk': 6682, 'linus': 7792, 'legit': 7669, 'thinking': 13134, 'klutz': 7449, 'drops': 4448, 'stuff': 12594, 'talked': 12871, 'tom': 13304, 'stevens': 12475, 'behind': 1962, 'presentations': 10125, 'quote': 10488, 'thanos': 13057, 'end': 4747, 'game': 5721, 'nether': 8924, 'isnt': 7116, 'talking': 12873, 'usd': 13839, 'wich': 14342, 'seriously': 11640, 'amazed': 1267, 'nobody': 9004, 'calling': 2534, 'apple': 1432, 'center': 2708, 'pretty': 10144, 'thought': 13156, 'year': 14647, 'portal': 9998, 'vrtrunky55': 14087, 'triple': 13479, 'aaa': 851, 'rated': 10576, 'titles': 13271, 'standard': 12406, 'gameplay': 5727, 'abysmal': 897, 'channel': 2748, 'biased': 2038, 'beef': 1940, 'tim': 13238, 'sweeney': 12788, 'ssd': 12381, 'heavy': 6346, 'him': 6435, 'however': 6558, 'fun': 5655, 'notes': 9061, 'comparison': 3118, 'he': 6300, 'talks': 12874, 'loading': 7848, 'cross': 3557, 'miles': 8452, 'morales': 8641, 'demon': 3930, 'souls': 12205, 'four': 5545, 'second': 11541, 'times': 13249, 'highly': 6425, 'unlikely': 13733, 'experienced': 4997, 'xsx': 14619, 'exclusive': 4944, 'digital': 4118, 'foundry': 5543, 'deep': 3864, 'analysis': 1305, 'dirt': 4153, 'consoles': 3274, 'clearly': 2931, 'detailed': 4016, 'images': 6742, 'wonder': 14437, 'performing': 9722, 'drastically': 4404, '99': 816, 'hardcore': 6243, 'picture': 9802, 'editors': 4598, 'browse': 2387, 'reddit': 10708, 'reviews': 11030, 'wish': 14402, 'makes': 8088, 'giveaway': 5893, 'beast': 1911, 'device': 4042, 'hmmmjudy': 6459, 'ad': 984, 'ultimatefoxy': 13620, 'useable': 13841, 'aware': 1709, 'check': 2781, 'button': 2490, 'app': 1420, 'expect': 4983, 'able': 879, 'current': 3620, 'prompted': 10272, 'sorry': 12196, 'wrong': 14530, 'hey': 6404, 'break': 2315, 'xd': 14591, 'uploaded': 13805, 'swap': 12771, 'memory': 8348, 'christmas': 2860, 'come': 3058, 'icelacrima': 6659, 'headset': 6314, 'minute': 8492, 'credits': 3515, 'anthony': 1376, 'writes': 14527, 'scripts': 11504, 'fronting': 5622, 'knows': 7470, 'script': 11503, 'editing': 4592, 'wo': 14426, 'concern': 3196, 'presentation': 10124, 'waves': 14205, 'comments': 3086, 'viewers': 13989, 'afterwards': 1099, 'careful': 2617, 'luckily': 7974, 'boss': 2244, 'actually': 981, 'lose': 7919, 'job': 7256, '10000': 22, 'worthy': 14499, 'opponent': 9316, 'fight': 5281, 'legendary': 7665, 'nah': 8805, 'impractical': 6796, 'expense': 4991, 'soup': 12212, 'additional': 1007, 'pre': 10080, 'excited': 4938, 'glad': 5901, 'waited': 14114, 'strap': 12539, 'fit': 5352, 'perfect': 9708, 'spent': 12281, 'custom': 3630, 'sold': 12142, 'differentiate': 4100, 'ipad': 7074, 'devices': 4043, 'air': 1143, 'jezza19': 7235, 'nothing': 9063, 'king': 7431, 'darkside': 3737, 'god': 5947, 'lmao': 7832, 'missed': 8510, 'comparing': 3116, 'usage': 13836, 'dude': 4469, 'wanted': 14145, 'loved': 7935, 'bars': 1851, 'man': 8102, 'color': 3037, 'ask': 1567, 'painted': 9527, 'simply': 11903, 'coats': 2994, 'mba': 8252, 'mbp': 8258, 'average': 1690, 'professional': 10234, 'fcp': 5208, 'lr': 7958, 'opinion': 9310, 'thanks': 13053, 'great': 6058, 'reports': 10893, 'surely': 12725, 'question': 10463, 'answered': 1368, 'someone': 12161, 'works': 14479, 'left': 7659, 'shine': 11747, 'needed': 8883, 'decision': 3843, 'friday': 5609, 'coupons': 3447, 'killing': 7419, 'comment': 3081, 'pure': 10397, 'algoritme': 1191, 'many': 8135, 'safari': 11319, 'browser': 2388, 'crashes': 3487, 'compare': 3112, 'vms': 14050, 'parallels': 9570, 'instances': 6961, 'debian': 3818, 'overkill': 9448, 'buying': 2496, 'sadly': 11316, 'fees': 5238, 'cuts': 3658, 'chances': 2740, 'hopes': 6520, 'outside': 9418, 'easier': 4556, 'warehouse': 14153, 'things': 13129, 'acessible': 945, 'deal': 3805, 'hours': 6546, 're': 10604, 'flies': 5406, 'ya': 14628, 'charge': 2757, 'first': 5344, 'ever': 4886, 'loving': 7941, 'luck': 7972, 'whole': 14328, 'ass': 1580, 'movie': 8702, 'max': 8235, 'realize': 10632, 'solved': 12152, 'confusion': 3235, 'hahaha': 6178, 'gets': 5840, 'drunken': 4454, 'bar': 1830, 'competing': 3138, 'equal': 4820, 'development': 4039, 'speed': 12270, 'form': 5513, 'monopoly': 8621, 'possibility': 10018, 'halt': 6199, 'drive': 4435, 'prices': 10159, 'everyone': 4897, 'else': 4679, 'deadpoolz': 3803, 'swager': 12767, 'hold': 6469, 'settings': 11659, 'sot': 12200, 'legend': 7664, 'says': 11422, 'box': 2276, 'canada': 2557, 'level': 7706, 'haptics': 6241, 'guys': 6140, 'drop': 4444, 'mouse': 8691, 'pads': 9515, 'stock': 12496, 'white': 14318, 'venial': 13929, 'without': 14418, 'messing': 8379, 'deff': 3881, 'something': 12162, 'thursday': 13208, 'literally': 7813, 'scott': 11478, 'pilgrim': 9815, 'door': 4340, 'content': 3305, 'mortals': 8664, 'breath': 2322, 'didnt': 4087, 'og': 9222, 'benjamin': 1998, 'taylor': 12916, 'agree': 1114, 'lower': 7944, 'psvr1': 10355, 'cables': 2514, 'sound': 12207, 'week': 14245, 'enjoyed': 4778, 'store': 12520, 'shaman': 11694, 'barbie': 1833, 'ahhh': 1125, 'crap': 3481, 've': 13914, 'longer': 7885, 'haptic': 6240, 'contoller': 3317, 'dev': 4030, 'team': 12934, 'give': 5892, 'free': 5582, 'texture': 13036, 'library': 7730, 'sand': 11363, 'wood': 14446, 'glass': 5907, 'explosions': 5025, 'tree': 13450, 'falling': 5128, 'tiger': 13227, 'bear': 1908, 'roar': 11134, 'etc': 4861, 'experimentations': 5001, 'devs': 4053, 'nicely': 8953, 'others': 9379, 'overboard': 9431, 'mature': 8233, 'hyped': 6627, 'imagine': 6746, 'tdp': 12924, 'forest': 5496, 'dark': 3733, 'enemy': 4757, 'near': 8868, 'gives': 5896, 'dimension': 4131, 'splinter': 12314, 'cell': 2695, 'pick': 9794, 'keyhole': 7393, 'hack': 6161, 'security': 11554, 'feeling': 5235, 'clicks': 2940, 'ah': 1119, 'point': 9953, 'totally': 13350, 'mind': 8467, 'carve': 2645, '14nm': 143, 'cpus': 3469, '7nm': 737, 'blue': 2166, 'part': 9587, 'sticker': 12480, 'mrplasma': 8718, 'watched': 14187, 'undecided': 13664, 'prefere': 10096, 'wedge': 14241, 'style': 12608, 'slightly': 12020, '13': 117, '2020': 255, 'brighter': 2350, 'speakers': 12244, 'machines': 8034, 'tough': 13358, 'sure': 12723, 'creaks': 3498, 'moves': 8701, 'around': 1519, 'ryan': 11274, 'lastname': 7582, 'hopefully': 6519, 'valve': 13890, 'budget': 2418, 'nft': 8947, 'sales': 11341, 'combined': 3055, 'greatest': 6061, 'chip': 2830, 'months': 8630, 'looking': 7896, 'differentiates': 4101, 'reviewers': 11028, 'dave2d': 3755, 'top': 13331, 'list': 7803, 'doesnt': 4303, 'allowed': 1219, 'showing': 11824, 'wondering': 14440, 'cycling': 3671, 'cameras': 2547, 'ir': 7089, '8k': 771, 'youre': 14705, 'processing': 10216, 'data': 3744, 'may': 8243, 'impactful': 6773, 'base': 1853, 'spo2': 12319, 'usefull': 13844, 'cheap': 2772, 'price': 10155, 'fat': 5179, 'spider': 12291, 'monsters': 8623, 'inc': 6816, 'poor': 9978, 'student': 12588, 'oof': 9287, 'holy': 6483, 'stationuk': 12443, 'march': 8145, 'super': 12695, 'saf': 11318, 'reply': 10888, 'simplymac': 11905, '150': 145, '149': 139, 'dec': 3823, '1st': 225, 'till': 13236, 'tomorrow': 13309, 'thumbnail': 13199, 'lord': 7918, 'nazo': 8865, 'share': 11701, 'plugin': 9929, 'maxing': 8241, '10': 19, 'straight': 12532, 'results': 10978, 'similar': 11890, 'graphics': 6048, 'intensive': 6988, 'gpu': 6012, 'cores': 3388, '8th': 780, 'slower': 12034, 'xcode': 14590, 'bs': 2405, 'scary': 11447, 'fkn': 5365, 'control': 3326, 'everything': 4899, 'change': 2743, 'microfiber': 8423, 'cleaner': 2924, 'stoopid': 12513, 'supposed': 12715, 'co': 2987, 'han': 6205, 'interested': 7002, 'customizing': 3647, 'trade': 13390, 'psvrs': 10357, 'psvr2': 10356, 'auto': 1673, 'half': 6192, 'alyx': 1259, 'comes': 3064, 'pixel': 9842, 'amazeballs': 1266, 'ssds': 12382, 'dba': 3785, 'must': 8773, 'virtual': 14011, 'regularly': 10772, 'release': 10803, 'version': 13949, 'compatible': 3125, 'amount': 1293, 'needing': 8884, 'wants': 14147, '225': 308, 'echo': 4572, 'poster': 10024, 'boy': 2279, 'manufacturing': 8134, 'mini': 8478, 'leds': 7656, 'conclusion': 3203, 'sick': 11852, 'act': 963, 'rani': 10553, 'responsibility': 10960, 'grind': 6079, 'daughter': 3752, 'cute': 3650, 'benefit': 1995, 'purpose': 10404, 'sam': 11346, 'mainboard': 8071, 'compatibility': 3124, 'factor': 5094, 'cheaper': 2773, 'started': 12423, 'older': 9240, 'boards': 2180, 'wccftech': 14211, 'com': 3049, 'asrock': 1579, '5000': 563, 'bios': 2075, 'x370': 14556, 'b350': 1744, 'a320': 837, 'motherboards': 8677, 'peak': 9675, 'brightness': 2352, '600': 638, 'nits': 8993, '1600': 163, 'hdr': 6298, 'cgi': 2724, 'hr': 6563, 'natural': 8853, 'character': 2752, 'actor': 976, 'feels': 5237, 'songs': 12173, 'oep': 9195, 'election': 4651, 'admiral': 1026, '34': 436, 'emotion': 4710, 'blew': 2131, 'away': 1710, 'die': 4088, 'isodoublet': 7117, 'measure': 8292, 'established': 4855, 'measuring': 8297, 'principles': 10176, 'different': 4099, 'issue': 7122, 'choose': 2846, 'case': 2646, 'closed': 2957, 'tests': 13029, 'thiccc': 13117, 'gwen': 6142, 'youtubers': 14711, 'everyday': 4895, 'task': 12904, 'scalpers': 11433, 'matter': 8227, 'double': 4355, 'unbox': 13648, 'therapy': 13095, 'call': 2532, 'earth': 4553, 'duhhh': 4480, 'hello': 6370, 'spurt': 12359, 'bruh': 2394, 'reupload': 11007, 'curious': 3617, 'advanced': 1052, '32': 422, 'ides': 6678, 'coding': 3003, 'open': 9300, 'whether': 14298, 'sufficiently': 12667, 'forced': 5484, 'players': 9895, 'considering': 3264, 'node': 9008, 'hanging': 6223, 'individual': 6874, 'core': 3386, 'huge': 6583, 'cooler': 3359, 'psu': 10352, 'ridiculous': 11078, 'expected': 4987, 'lee': 7657, 'porter': 10001, 'except': 4933, 'menu': 8358, 'spiderman': 12293, 'mm': 8542, 'mission': 8513, 'activity': 975, 'card': 2607, 'ui': 13612, 'element': 4660, 'impossibe': 6794, 'suspending': 12757, 'technical': 12950, 'abilities': 876, 'fact': 5093, 'barely': 1837, 'quicker': 10473, 'normal': 9047, 'requires': 10911, 'reserved': 10927, 'space': 12225, 'reduces': 10723, 'overall': 9429, 'player': 9893, 'nice': 8951, 'feature': 5220, 'alone': 1229, 'mano': 8125, 'ly': 8002, 'ily': 6736, 'bargain': 1838, 'hunt': 6608, 'timothy': 13252, 'wonnacott': 14442, 'exuberantraptor': 5060, 'forza': 5535, 'brought': 2385, 'currys': 3623, 'become': 1927, 'favorite': 5194, 'reviewer': 11027, 'teal': 12933, 'though': 13155, 'lovely': 7937, 'complete': 3157, 'funny': 5670, 'avoid': 1698, 'winner': 14379, 'angry': 1336, 'bay': 1892, 'wife': 14354, 'kick': 7402, 'aout': 1407, 'house': 6547, 'gunna': 6130, 'dis': 4156, 'levi': 7711, 'zeng': 14747, 'seems': 11568, 'war': 14149, 'gamers': 5732, 'quite': 10483, 'simple': 11898, 'watch': 14186, 'hentai': 6385, 'contry': 3336, 'tells': 12976, 'rift': 11081, 'wireless': 14391, 'true': 13503, 'im': 6737, 'asking': 1569, 'released': 10804, 'exclusives': 4946, 'launch': 7603, 'date': 3749, 'december': 3832, 'awesome': 1714, 'btw': 2411, 'andrey': 1321, 'makhotkin': 8090, 'sucks': 12655, 'summer': 12685, '2021': 256, '59': 607, 'remove': 10846, 'cat': 2658, 'yeets': 14659, 'peta': 9756, 'nightmare': 8975, 'wires': 14395, 'somewhere': 12167, 'pangwen': 9548, 'yard': 14636, 'torture': 13344, 'hood': 6508, 'perhaps': 9724, 'night': 8971, 'tablets': 12845, 'stick': 12479, 'lcd': 7624, 'oled': 9243, 'phones': 9776, 'rid': 11070, '2yrs': 390, 'displays': 4225, 'bound': 2265, '12months': 112, 'tad': 12850, 'blacker': 2101, 'blacks': 2105, 'led': 7654, 'bullshit': 2446, 'plane': 9862, 'fiery': 5276, 'tan': 12880, 'gamestop': 5737, 'brennon': 2334, 'stovall': 12530, 'unified': 13708, 'equivalent': 4826, '32gigs': 430, 'needs': 8887, 'charging': 2763, 'creators': 3511, 'forgetting': 5503, 'mmdday': 8543, 'faang': 5073, 'assumptions': 1608, 'wrote': 14533, 'code': 2998, 'rapid': 10561, 'cache': 2516, 'kernel': 7384, 'sur': 12722, 'binaries': 2065, 'universal': 13720, 'process': 10212, 'complilation': 3166, 'beating': 1916, 'chest': 2806, 'apex': 1411, '120fps': 95, 'neeed': 8888, 'friends': 5614, 'crossplay': 3564, 'whichever': 14301, 'cant': 2575, 'grab': 6016, '19killer44': 209, 'nvidia': 9110, 'happier': 6234, 'chips': 2832, 'shelves': 11733, 'rocking': 11152, 'lasts': 7583, '16days': 172, 'per': 9698, 'chose': 2852, 'daniel': 3725, 'riccardo': 11054, 'tru': 13498, 'vid': 13980, 'word': 14460, 'swaroop': 12777, 'ajit': 1156, 'fluorescent': 5435, 'bulbs': 2437, 'lmfaoo': 7838, 'bleachrush': 2121, 'platestation': 9880, 'scam': 11437, 'risk': 11114, 'spam': 12231, 'giant': 5855, 'step': 12470, 'forward': 5533, 'immersion': 6764, 'objectively': 9137, 'prefer': 10094, 'wired': 14390, 'connection': 3244, 'lighter': 7752, 'brain': 2294, 'freedom': 5585, 'comparisons': 3119, 'd13h4rd2l1v3': 3679, 'crushes': 3575, 'productivity': 10231, 'platforms': 9884, 'eachother': 4539, 'thermals': 13101, 'power': 10045, 'draw': 4406, 'coolers': 3360, 'confirm': 3227, 'elevation': 4663, 'record': 10692, 'preordered': 10113, 'rainbow': 10525, 'dash': 3742, 'newer': 8935, 'thankyou': 13055, 'connect': 3241, '27': 347, 'uhd': 13607, 'monitor': 8611, 'unboxed': 13649, '8g': 761, 'uh': 13606, 'priority': 10185, '120hz': 96, 'hdmi': 6297, '144h': 136, 'aoc': 1405, 'c27g1': 2509, 'nejitemplates': 8903, 'cking': 2899, 'kidding': 7408, 'create': 3501, 'folder': 5452, 'posting': 10025, 'grandma': 6037, 'apu': 1461, 'gpus': 6013, 'compair': 3105, 'i5': 6643, '11600k': 76, '3400g': 437, 'bothered': 2249, 'managed': 8104, 'overtaken': 9467, 'iris': 7092, 'xe': 14595, 'rx': 11271, 'vega': 13920, 'evan': 4877, 'bogle': 2194, 'telling': 12975, 'demonstrate': 3935, 'toy': 13372, '200': 230, 'so': 12116, 'loww': 7951, 'incredibly': 6852, 'turn': 13545, 'answer': 1367, 'honey': 6502, 'calls': 2535, 'ltt': 7963, 'beefcake': 1941, 'hit': 6448, 'road': 11130, 'newest': 8937, 'finlay': 5332, 'morrison': 8659, 'brotha': 2382, 'neither': 8902, 'knowing': 7463, 'basshead': 1870, 'persona': 9745, 'unexpected': 13692, 'ricciardo': 11055, 'questions': 10466, 'vadim': 13878, 'gigabyte': 5867, 'variant': 13901, 'announced': 1351, 'tentative': 13001, 'media': 8312, 'molecule': 8589, 'maximize': 8238, 'naughty': 8855, 'dog': 4304, 'simon': 11895, 'person': 9744, 'commenting': 3085, 'consider': 3259, 'span': 12233, 'might': 8441, 'demand': 3921, 'pls': 9924, 'dun': 4493, 'confuse': 3232, 'jose': 7287, 'anyone': 1398, 'pays': 9658, 'loser': 7920, 'conditions': 3212, 'means': 8287, 'statistic': 12444, 'yea': 14644, 'banned': 1823, 'useless': 13845, 'neo': 8905, 'doubt': 4358, 'xbx': 14586, 'based': 1855, 'believe': 1973, 'activision': 973, 'planned': 9866, 'yesss': 14672, 'appreciate': 1445, 'hard': 6242, 'pushing': 10416, 'catch': 2663, '17': 187, 'genshin': 5821, 'impact': 6772, 'ignore': 6698, 'negative': 8892, 'aspects': 1578, 'tra': 13377, 'sh': 11679, 'history': 6447, 'keeps': 7373, 'repeating': 10870, 'trash': 13437, 'medi': 8311, 'ocre': 9178, 'pa': 9498, 'slurpers': 12042, 'rinse': 11098, 'repeat': 10868, 'singing': 11924, 'praise': 10069, 'obviously': 9158, 'paid': 9521, 'severe': 11669, 'cognitive': 3011, 'rejects': 10787, 'cease': 2685, 'amaze': 1265, 'low': 7943, 'cry': 3577, 'gamer': 5729, 'documenting': 4292, 'hrs': 6564, 'ultimate': 13619, 'relying': 10821, 'file': 5294, 'reduce': 10721, 'integrated': 6974, 'zhongliless': 14758, 'cybercery': 3666, 'saying': 11421, 'idea': 6668, 'happens': 6233, 'camera': 2546, 'rainy': 10527, 'entire': 4799, 'thankful': 13050, 'premiere': 10110, 'renders': 10855, 'faster': 5176, 'bought': 2264, 'ps': 10329, 'lifespan': 7742, 'wholesome': 14330, 'nostalgia': 9055, 'died': 4089, 'i9': 6648, 'lineup': 7782, 'difficulty': 4107, 'accepting': 909, 'i7': 6646, 'thelolpvpdani': 13082, 'yt': 14719, 'medical': 8314, 'equipment': 4823, 'for': 5481, 'accuracy': 935, 'grand': 6035, 'retail': 10981, 'jaceistheplace': 7163, '15th': 160, 'number': 9102, '13th': 127, 'purchase': 10393, '15': 144, 'eyes': 5066, 'move': 8697, 'vision': 14024, '180': 194, 'degrees': 3896, 'peripheral': 9728, '181': 197, 'vrset': 14086, 'immersive': 6765, 'lasted': 7579, 'news': 8939, 'updates': 13794, 'chill': 2821, 'information': 6905, 'presented': 10126, 'winds': 14374, 'listen': 7805, 'leave': 7651, 'stressed': 12558, 'segment': 11571, 'soulsniper_gamer': 12206, 'later': 7588, 'revealed': 11015, 'wasnt': 14178, 'jesus': 7231, 'christ': 2857, 'fucking': 5636, 'crackling': 3475, 'shia': 11739, 'labeouf': 7524, 'putting': 10422, '80': 740, 'kamasamak': 7348, 'yeh': 14661, 'expansion': 4981, 'charts': 2766, '2min': 383, '50sec': 575, '50min': 573, '30sec': 415, 'bothering': 2250, 'amazing': 1271, 'early': 4546, 'beatspopo': 1919, 'tbh': 12921, 'compact': 3102, 'se': 11517, 'absolutely': 888, 'iphone': 7079, 'terms': 13012, 'xdr': 14594, '360p': 453, 'film': 5302, 'floor': 5420, 'flight': 5407, 'simulator': 11911, 'demo': 3927, 'rami4470': 10539, 'fill': 5298, 'truth': 13513, 'avoiding': 1701, 'sbcontt': 11425, 'wow': 14507, 'acts': 977, 'sociopath': 12124, 'partner': 9597, 'nintendo': 8984, 'multi': 8735, 'tasking': 12906, 'surf': 12728, 'render': 10853, 'background': 1757, 'third': 13138, 'no': 9002, 'conspiracy': 3276, 'theory': 13092, 'group': 6090, 'retreated': 10999, 'helms': 6374, 'rings': 11097, 'showed': 11821, '95': 802, 'worshipping': 14493, 'solid': 12146, 'gold': 5967, 'famous': 5142, 'ramus22': 10546, '2022': 257, 'february': 5226, 'vrs': 14085, 'youll': 14700, 'kolzi': 7476, 'fault': 5186, 'gave': 5771, 'gentle': 5822, 'approach': 1449, 'reward': 11045, 'recklessness': 10675, 'stupidity': 12601, 'continue': 3311, 'idiot': 6679, 'win': 14368, 'argument': 1499, 'ts': 13519, 'hitting': 6453, 'brick': 2341, 'wall': 14128, 'soft': 12134, 'ppl': 10058, 'grow': 6092, 'pair': 9531, 'peacefull': 9674, 'sometimes': 12165, 'instant': 6962, 'latest': 7590, 'beltalowdah': 1985, 'post': 10022, 'lil': 7768, 'rodney': 11159, 'son': 12170, 'hunks': 6607, 'junk': 7324, 'used': 13842, 'yearly': 14648, 'worried': 14487, 'direct': 4146, 'wooow': 14458, 'focuses': 5446, 'plastic': 9874, 'diy': 4264, 'customization': 3641, 'possibilities': 10017, 'seemed': 11565, 'advertisement': 1063, 'summed': 12684, 'shinny': 11749, 'samurai': 11361, 'champloo': 2738, 'credit': 3514, 'horrible': 6528, 'cut': 3649, 'lights': 7758, 'colors': 3041, 'strip': 12574, 'along': 1230, 'tv': 13559, 'effect': 4611, 'wanting': 14146, 'final': 5310, 'subscription': 12634, 'plans': 9868, 'leaked': 7636, 'horribly': 6529, 'confusing': 3234, 'fire': 5333, 'explanation': 5014, 'labling': 7525, 'found': 5538, 'extremely': 5058, 'difficult': 4105, 'figure': 5289, 'screens': 11494, 'microscope': 8426, 'upgrades': 13801, 'customisation': 3635, 'congratulations': 3240, 'dedicated': 3860, 'global': 5918, 'warming': 14159, 'parts': 9600, '400w': 497, '500w': 568, 'bankrupt': 1820, '12th': 114, 'teasing': 12942, 'coincidence': 3016, 'excellent': 4932, 'hella': 6367, 'confused': 3233, 'indeed': 6856, 'informative': 6907, 'savings': 11410, 'useful': 13843, 'inventory': 7051, 'mostly': 8674, 'profits': 10244, 'notice': 9066, 'offers': 9207, 'itll': 7144, 'affect': 1077, 'print': 10177, 'primarly': 10170, 'comics': 3073, 'manga': 8114, 'pages': 9518, 'bout': 2268, 'inch': 6819, 'corona': 3394, 'apparently': 1423, 'mkbhd': 8532, 'aesthetic': 1072, 'simultaniusly': 11916, 'affected': 1078, 'fluid': 5433, 'macos': 8039, 'general': 5800, 'dlc': 4271, 'andré': 1324, 'luc': 7966, 'huneault': 6603, 'rename': 10851, 'meat': 8299, 'tripcheese': 13478, 'tribute': 13460, 'shirt': 11758, 'hating': 6275, '3d': 473, 'autodesk': 1677, 'maya': 8244, '3ds': 475, 'prepare': 10118, 'sibling': 11851, 'sofa': 12132, 'chilling': 2823, 'sees': 11570, 'randomly': 10550, 'decides': 3840, 'awkward': 1719, 'steel': 12466, 'joking': 7277, 'chilax': 2814, 'old': 9239, 'girl': 5885, 'locked': 7861, 'fable': 5074, 'brand': 2301, 'alive': 1202, 'honor': 6506, 'ffs': 5264, 'total': 13349, 'daily': 3696, 'calories': 2540, 'burnt': 2473, 'sport': 12335, 'live': 7819, 'germany': 5834, 'sad': 11314, 'mom': 8592, 'dosent': 4348, 'package': 9504, 'knew': 7453, 'season': 11533, 'hell': 6366, 'order': 9347, 'buddy': 2417, 'remote': 10842, 'building': 2432, 'ship': 11752, 'smh': 12066, 'seconds': 11544, 'restock': 10967, 'em': 4683, 'someday': 12158, 'soon': 12183, 'transparent': 13434, 'slate': 12001, 'futuristic': 5687, 'movies': 8703, '20s': 291, 'shivenz': 11773, 'confirmed': 3229, '665': 668, 'ensure': 4787, 'boil': 2198, 'water': 14196, 'cinematic': 2878, 'hardly': 6247, 'wrist': 14522, 'casio': 2650, 'shitty': 11769, 'skin': 11971, 'users': 13849, 'epicchannel': 4815, 'gotten': 6003, 'posted': 10023, 'dual': 4461, 'shock': 11778, 'blowing': 2160, 'xboxe': 14580, 'worsest': 14492, 'navigating': 8860, 'text': 13035, 'joke': 7274, 'came': 2545, 'yesterday': 14675, 'past': 9618, 'bye': 2499, 'somehow': 12159, 'port': 9995, 'ableton': 880, 'fl': 5366, 'onto': 9282, 'insane': 6935, 'done': 4329, 'taeha': 12852, 'keyboard': 7390, '53': 582, 'shall': 11690, 'godrive_hacker': 5956, 'blessfull': 2129, 'genius': 5815, 'tnkz': 13283, 'xbox360': 14578, 'dm': 4274, 'tha': 13046, 'audio': 1657, 'arrive': 1527, '24': 316, 'emulated': 4725, 'workflow': 14471, 'somebody': 12157, 'minimum': 8484, 'slack': 11993, 'simulators': 11912, 'arent': 1492, 'extensively': 5047, 'properly': 10288, 'overused': 9472, 'constantly': 3278, 'vibrates': 13969, 'mistake': 8516, '2017': 252, 'lags': 7544, 'uses': 13850, '4gb': 543, 'crazy': 3495, 'rendering': 10854, 'webbrowsing': 14233, 'middle': 8436, 'nauseous': 8857, 'kept': 7381, '2015': 250, 'wonderful': 14439, 'apply': 1442, 'concussions': 3210, 'childrenofwatch': 2820, 'rn': 11126, 'positives': 10016, 'unlike': 13731, 'variety': 13904, 'negatives': 8894, 'motion': 8679, 'sickness': 11853, 'awful': 1717, 'filled': 5299, 'screaming': 11489, 'kids': 7411, 'walls': 14137, 'listed': 7804, 'refuse': 10755, 'unnecessary': 13742, 'nate': 8844, 'creating': 3504, 'email': 4684, 'signing': 11875, 'emails': 4687, 'letting': 7704, 'jin': 7247, 'jiayi': 7241, 'wears': 14227, '000': 1, 'destroyed': 4011, 'turns': 13551, 'pictures': 9803, 'kgamer': 7399, '3600': 448, 'stating': 12439, 'obvious': 9157, 'lead': 7627, 'tvs': 13560, 'afford': 1086, 'regular': 10770, 'aquarium': 1465, 'tank': 12885, 'iwagumi': 7160, 'aquascape': 1466, 'upload': 13804, 'tutorial': 13556, 'material': 8211, 'pleaaase': 9911, 'seen': 11569, 'underrated': 13674, 'realise': 10624, 'selling': 11593, 'sticking': 12483, 'original': 9363, 'pencil': 9688, 'ty': 13575, 'saved': 11406, '10mins': 60, 'icon': 6663, 'tried': 13468, 'decided': 3838, 'customize': 3643, 'theme': 13084, 'venom': 13930, 'wtf': 14535, 'bot': 2247, 'photographer': 9779, 'compared': 3113, 'hahah': 6177, 'condition': 3211, 'dualshock': 4463, 'compiling': 3149, 'according': 928, 'df': 4057, 'serious': 11639, 'temps': 12984, 'utilization': 13861, '20010': 233, 'fake': 5119, 'created': 3502, 'circuit': 2884, 'taking': 12866, 'apart': 1409, 'together': 13296, 'can': 2555, 'pad': 9511, 'ryom': 11279, 'hansen': 6226, 'quiroz': 10481, 'added': 1000, 'aiming': 1140, 'honestly': 6500, 'precisely': 10084, 'swimmer': 12796, 'surfer': 12731, 'nfc': 8946, 'internationally': 7014, 'pay': 9651, 'speak': 12242, 'refresh': 10746, 'names': 8823, 'jealous': 7211, 'andy': 1325, 'nort': 9052, 'chief': 2813, 'response': 10958, 'noticed': 9069, 'caps': 2592, 'reading': 10617, 'lem': 7677, 'pressed': 10134, 'showcase': 11817, 'looked': 7893, 'modes': 8569, 'wearing': 14225, '2018': 253, 'aside': 1564, 'colored': 3038, 'bigger': 2045, 'animations': 1343, 'exaggerate': 4919, 'stay': 12450, 'active': 971, 'plus': 9933, 'social': 12122, 'info': 6902, 'medbay': 8310, 'swear': 12780, 'scan': 11441, 'idc': 6666, 'ign': 6694, 'spot': 12338, 'rich': 11061, 'boi': 2196, 'shoutout': 11812, 'david': 3764, 'writer': 14526, 'eh': 4633, 'human': 6592, 'field': 5273, 'view': 13986, '220': 305, 'hence': 6383, 'likes': 7764, 'pimax': 9817, 'headsets': 6315, 'eye': 5061, 'cv1': 3661, 'fields': 5274, '110': 68, 'basically': 1863, 'irrelevant': 7097, 'unless': 13730, 'pirate': 9834, '140': 130, 'ideally': 6670, 'fair': 5114, 'projected': 10255, '60hz': 648, 'genuine': 5825, 'manages': 8108, 'leap': 7642, 'upgrading': 13802, '23': 311, 'skippable': 11975, 'tho': 13146, 'gps': 6011, 'omg': 9254, 'beta': 2012, 'arena': 1491, 'hot': 6538, 'certainly': 2718, 'invest': 7053, 'practically': 10064, 'ordering': 9350, 'recommend': 10682, 'accompany': 923, 'imo': 6770, 'opportunity': 9317, 'experiences': 4998, 'pieces': 9806, 'serving': 11651, 'arrange': 1520, 'note': 9060, 'enjoy': 4776, 'versions': 13950, 'macbooks': 8030, 'airs': 1152, 'transforming': 13418, 'autobot': 1674, 'appleinsider': 1434, 'accurate': 936, 'inevitable': 6888, 'understandably': 13677, 'configuration': 3224, 'dead': 3800, 'tablet': 12844, 'exciting': 4941, 'home': 6486, 'facetime': 5088, 'tracks': 13388, 'upgraded': 13800, 'enuf': 4806, 'replace': 10876, 'superman': 12702, 'expresion': 5037, 'd2d': 3681, 'spending': 12278, 'proof': 10282, 'skip': 11974, 'adopting': 1039, 'wave': 14204, 'vast': 13908, 'majority': 8079, 'effort': 4622, 'backlight': 1762, 'explain': 5009, 'improve': 6801, 'contrast': 3322, 'whatever': 14282, 'meanwhile': 8290, 'goes': 5959, 'brrr': 2391, 'gigapixel': 5870, 'classic': 2916, 'photography': 9780, 'reove': 10861, 'rather': 10578, 'fidelity': 5272, 'pros': 10297, 'cons': 3252, 'sellout': 11594, 'proably': 10197, 'often': 9221, 'screws': 11500, 'bring': 2356, 'ipads': 7076, 'bcoz': 1899, 'beauty': 1923, 'cpl': 3467, 'wont': 14443, 'bathesda': 1879, 'studios': 12592, 'ms': 8721, 'cares': 2622, 'juat': 7306, 'random': 10549, 'agginyag': 1108, 'wholeheartedly': 14329, 'impressive': 6800, 'title': 13269, 'stove': 12531, 'proceeds': 10209, 'bunch': 2452, 'limited': 7776, 'personally': 9750, 'dropped': 4446, 'kissing': 7439, 'luke': 7987, 'bilston': 2061, 'agreed': 1115, 'architecture': 1484, 'purposely': 10405, 'osx': 9373, '256': 332, 'bridge': 2345, 'plug': 9925, 'ins': 6934, 'twice': 13565, 'online': 9275, 'orders': 9351, 'cart': 2642, 'crash': 3485, 'checkout': 2784, 'purchases': 10395, 'norway': 9053, 'webs': 14238, 'crashed': 3486, 'slim': 12022, '19': 201, 'nov': 9078, 'everywhere': 4901, 'quiet': 10478, 'witch': 14409, 'january': 7189, 'purposes': 10406, 'went': 14266, 'nuts': 9108, 'sides': 11862, 'targeted': 12897, 'advertising': 1066, 'decent': 3834, 'ruined': 11238, 'corporate': 3397, 'greed': 6064, 'david2': 3765, '1d': 211, 'correct': 3401, 'pointing': 9955, 'lack': 7529, 'nickname': 8963, 'legal': 7662, 'creeks': 3519, 'copper': 3376, 'noticing': 9070, '57': 598, 'nitpicking': 8990, 'gbps': 5778, 'refers': 10738, 'gigabits': 5866, 'gigabytes': 5868, 'angel': 1329, 'dusts': 4511, 'husband': 6614, 'benchmarks': 1991, 'included': 6826, 'example': 4925, 'lost': 7925, 'cheese': 2793, 'magzy3741': 8063, 'testing': 13028, 'respect': 10950, 'mystical': 8791, '64gb': 659, '2010': 243, '256gb': 335, '300': 393, 'cord': 3382, 'pin': 9820, '1234': 99, 'combination': 3052, 'luggage': 7981, 'chad': 2727, 'milkman': 8459, 'measures': 8296, 'yards': 14637, 'five': 5358, 'digit': 4117, 'mcdunnough': 8265, 'exact': 4917, 'usability': 13834, 'mildsprite': 8450, 'yup': 14728, 'goldeneye': 5970, 'perents': 9705, 'improvement': 6803, 'bothers': 2251, 'anoing': 1360, 'vinger': 14002, 'joysticks': 7299, 'gods': 5957, 'smile': 12067, 'bother': 2248, 'letters': 7703, 'resolve': 10943, 'downside': 4381, 'rtx': 11226, '3080': 406, '3090': 407, 'limiting': 7777, 'garbage': 5749, 'replacement': 10879, 'covers': 3458, 'shells': 11731, 'seif': 11579, 'ehab': 4634, 'dad': 3691, 'graduation': 6028, 'present': 10123, 'carlyon': 2629, 'benchmarking': 1990, 'setting': 11658, 'splitting': 12316, 'percentage': 9703, 'optimized': 9336, 'resolution': 10941, 'including': 6828, 'party': 9601, 'headband': 6304, 'uncomfortable': 13660, 'weirdly': 14257, 'g14': 5695, 'backlash': 1761, 'webcams': 14235, 'organisation': 9355, 'research': 10918, 'indicating': 6868, 'webcam': 14234, 'zoom': 14771, 'fatigue': 5184, 'producitivty': 10226, 'sounds': 12211, 'coil': 3013, 'whine': 14307, 'mark': 8154, 'lomonte': 7881, 'crowd': 3565, 'enthusiasts': 4798, 'understand': 13675, 'whatnot': 14283, 'beginning': 1953, 'depth': 3970, 'centred': 2712, 'shift': 11741, 'broad': 2363, 'generalizations': 5801, 'cater': 2668, 'greater': 6060, 'audience': 1656, 'board': 2178, 'layperson': 7620, 'engaged': 4760, 'skimmed': 11969, 'detail': 4015, 'viewer': 13988, 'expects': 4989, '470': 528, '480': 530, 'download': 4372, 'uppload': 13813, 'disconnect': 4192, 'allot': 1216, 'spical': 12288, 'queue': 10470, 'wifi': 14355, 'solutions': 12150, 'flaw': 5387, 'buttons': 2491, 'thumb': 13195, 'movement': 8699, 'pass': 9607, 'emojis': 4708, 'outro': 9414, 'integration': 6975, 'automation': 1680, 'smart': 12051, 'activate': 968, 'automations': 1681, 'sooner': 12184, 'october': 9180, 'november': 9081, 'ahhhhhhhh': 1127, 'consumer': 3289, 'spotify': 12339, 'whatapps': 14280, 'blah': 2108, 'bday': 1903, 'shame': 11695, 'underdeveloped': 13666, 'shot': 11805, 'swinging': 12800, 'buildings': 2433, 'vortex': 14066, '540': 588, '699': 685, 'bastard': 1871, 'ring': 11096, 'fucks': 5638, 'sake': 11335, 'raytracing': 10592, '60': 637, 'search': 11527, 'shelf': 11728, 'doof': 4336, 'phineas': 9774, 'ferb': 5252, 'helped': 6376, 'tool': 13322, 'comfortable': 3069, 'choice': 2838, 'rebump': 10654, 'softwares': 12137, 'complex': 3162, 'opposite': 9319, 'joe': 7259, 'mamaing': 8101, 'whats': 14284, 'nearly': 8870, 'lame': 7551, 'stale': 12399, 'martin': 8173, 'soc': 12120, 'simpler': 11899, 'likeable': 7761, 'lying': 8003, 'trustworthy': 13511, 'wallpaper': 14134, 'played': 9892, 'faith': 5118, 'chabaker9': 2726, 'instagram': 6955, 'owned': 9481, 'wit': 14407, 'graet': 6029, 'paowr': 9558, 'cumes': 3605, 'sweg': 12792, 'sbaydrman': 11424, 'approves': 1454, 'setup': 11662, 'sitting': 11946, 'myth': 8792, 'losing': 7922, 'interest': 7001, 'misinformation': 8505, 'mutiplatform': 8782, 'details': 4018, 'higher': 6419, 'effects': 4614, 'maintaining': 8076, 'skipped': 11976, 'demons': 3933, 'bringing': 2357, 'tries': 13469, 'impressed': 6798, 'rissin': 11118, 'hes': 6394, 'exactly': 4918, 'steam': 12462, 'fakebook': 5120, 'primarily': 10169, 'determine': 4026, 'jail': 7177, 'wrongthink': 14532, 'boot': 2227, 'lenny108': 7681, 'fx': 5690, '6300': 654, 'broadcasting': 2366, 'nuclear': 9096, 'bomb': 2206, 'shelter': 11732, 'muhammad': 8731, 'siddiqui': 11855, '33': 432, 'brush': 2397, 'anybody': 1393, 'hydro': 6623, 'dipping': 4143, 'ds4': 4457, 'but': 2483, 'sky': 11985, 'marbles': 8142, 'guessing': 6120, 'holds': 6472, 'hesitate': 6396, 'business': 2478, 'minded': 8469, 'family': 5140, 'staff': 12395, 'tink': 13254, 'crew': 3526, 'copied': 3371, 'pasted': 9620, 'message': 8373, 'yo': 14688, 'self': 11587, 'stand': 12404, '26': 340, 'stunning': 12599, 'definitely': 3886, 'warns': 14164, 'bc': 1897, 'yall': 14633, 'ysll': 14718, 'sheesh': 11724, 'ugh': 13600, 'edition': 4593, 'lit': 7809, 'moved': 8698, 'endeavors': 4748, 'afterall': 1095, 'bread': 2314, 'butter': 2486, 'became': 1925, 'biggest': 2046, 'exploit': 5020, 'computers': 3189, 'decades': 3825, 'vulnerabilities': 14094, 'focusing': 5447, 'tightening': 13230, 'mechanisms': 8308, 'companies': 3107, 'revving': 11044, 'engine': 4765, 'protecting': 10302, 'sauce': 11401, 'buys': 2497, 'tables': 12843, 'turned': 13547, 'falls': 5131, 'negrey11th': 8899, 'mixed': 8527, 'bag': 1784, 'processors': 10218, 'perfomance': 9714, 'counts': 3443, 'production': 10228, 'sports': 12336, 'emulation': 4726, 'bus': 2477, 'latencies': 7586, 'specially': 12253, 'too': 13320, 'the': 13066, 'monolithic': 8619, 'includes': 6827, 'apus': 1462, 'overlooked': 9452, 'usual': 13854, '5700g': 600, '9900kf': 818, 'singlethread': 11926, 'score': 11473, '04': 8, '51': 576, 'skipping': 11977, 'hah': 6175, 'jordan': 7286, 'mo': 8547, 'roblox': 11142, 'supported': 12709, 'afraid': 1092, 'unique': 13715, 'symmetry': 12822, 'bows': 2275, 'disk': 4210, 'slot': 12027, 'irks': 7093, 'exotic': 4976, 'badge': 1778, 'typically': 13582, 'birthday': 2082, 'histopathologically': 6445, 'intend': 6982, 'abaft': 865, 'hapless': 6229, 'marvelous': 8176, 'prickly': 10165, 'disadvantage': 4161, 'woosh': 14459, 'hmm': 6457, 'idrc': 6687, 'mobile': 8552, 'merged': 8368, 'error': 4838, 'loop': 7909, 'appreciating': 1447, 'model': 8561, 'obstacles': 9152, 'collide': 3033, 'environment': 4809, 'nyan': 9118, 'cats': 2670, 'otherwise': 9381, 'holeee': 6474, 'reality': 10631, 'nxt': 9117, 'none': 9027, 'pumping': 10383, 'vids': 13985, 'clean': 2922, 'green': 6067, 'artist': 1546, 'glance': 5904, 'designed': 3991, 'cases': 2647, 'pannels': 9550, 'encourage': 4742, 'community': 3100, 'growth': 6095, 'beautiful': 1921, 'compactness': 3103, 'flagship': 5372, 'meant': 8288, 'external': 5050, 'wd': 14212, 'p50': 9497, 'strix': 12576, 'arion': 1501, 'aluminum': 1256, 'alloy': 1222, 'nvme': 9112, 'portable': 9997, 'enclosure': 4737, '2tb': 387, '970': 809, 'evo': 4906, 'corsair': 3408, 'mp510': 8706, 'complained': 3151, 'seeing': 11561, 'official': 9211, 'guide': 6122, 'essentially': 4852, 'save': 11405, 'downloaded': 4374, 'damaged': 3700, 'traded': 13391, '250': 328, 'towards': 13365, '11inch': 88, '550': 591, 'steal': 12459, 'fitted': 5356, 'touch': 13351, 'converge': 3340, 'ipados': 7075, 'convertible': 3345, 'detachable': 4014, 'public': 10365, 'petition': 9762, 'illegal': 6726, 'authorized': 1672, 'sellers': 11592, 'promoted': 10268, 'launched': 7604, 'action': 966, 'permission': 9736, 'fee': 5230, 'miniled': 8479, 'tokenism': 13300, 'liked': 7762, 'july': 7316, 'rip': 11101, 'index': 6861, 'changer': 2745, 'recently': 10665, 'redesign': 10712, 'starting': 12425, 'university': 13724, 'liquid': 7799, 'retina': 10990, 'nonsense': 9033, 'marketer': 8158, 'compilation': 3145, 'graphs': 6050, 'fuck': 5633, 'quince': 10480, 'steve': 12474, 'smith': 12071, 'okay': 9234, 'de': 3797, 'witt': 14421, 'linked': 7787, 'depression': 3968, 'obsessive': 9148, 'eating': 4565, 'addiction': 1003, 'sugar': 12668, 'salt': 11343, 'transfats': 13411, 'western': 14272, 'addictive': 1004, 'foods': 5467, 'culture': 3603, 'late': 7584, 'whipe': 14310, 'suggest': 12669, 'colour': 3043, '75': 720, 'ryzen7': 11285, '1660ti': 169, 'bright': 2348, 'ricardo': 11053, '153': 151, 'exited': 4968, 'pcmasterrace': 9666, 'uso': 13853, 'sammy': 11354, 'jayne': 7206, 'availability': 1685, 'mallek': 8098, 'blind': 2133, 'favourite': 5199, 'deny': 3952, 'fanboy': 5146, 'hahahaha': 6179, 'gn': 5934, 'piggy': 9810, 'oinks': 9230, 'embargoed': 4691, 'disassemble': 4172, 'youtuber': 14710, 'rules': 11246, 'nope': 9041, 'set': 11655, 'english': 4772, 'edit': 4590, 'england': 4771, 'ima': 6738, 'muting': 8781, 'mic': 8413, 'tube': 13526, 'ditch': 4252, 'owen': 9480, 'masi': 8181, '399': 471, 'multitasking': 8750, 'insert': 6940, 'austin': 1665, 'evans': 4879, 'damaging': 3701, 'removing': 10849, 'here': 6387, 'finished': 5329, 'brokxnfuture': 2374, 'moght': 8581, 'bob': 2184, 'taken': 12863, 'giving': 5897, 'wonders': 14441, 'forcing': 5486, 'throats': 13174, 'indie': 6871, 'shell': 11729, '400': 490, 'moreno': 8647, 'codmw': 3004, 'entered': 4790, 'chat': 2769, 'durga': 4506, 'prasad': 10074, 'motivate': 8680, 'nokia': 9018, 'homebrew': 6487, 'backwards': 1772, 'wheeze': 14291, 'htc': 6568, 'vive': 14037, 'decals': 3827, '3600x': 449, 'ddr5': 3796, 'stable': 12388, 'clicking': 2939, 'silver': 11888, 'collecting': 3027, 'incognito': 6830, 'vacation': 13875, 'docker': 4285, 'deployments': 3965, 'java': 7199, 'local': 7853, 'infrastructure': 6911, 'databases': 3746, 'dependent': 3961, 'understands': 13679, 'sticks': 12484, 'horror': 6531, '16g': 173, 'beefy': 1943, 'desktop': 4000, 'chromebook': 2865, 'school': 11457, 'college': 3032, 'paradox': 9567, 'strategy': 12543, 'mainly': 8072, 'schoolwork': 11459, 'mid': 8433, '800': 741, 'suggestion': 12672, 'acer': 944, 'nitro': 8991, 'forget': 5501, 'respond': 10954, 'whatsapp': 14285, 'messages': 8374, 'emoticons': 4709, 'send': 11602, 'reporting': 10892, 'broke': 2371, 'xgd5layer': 14600, 'idle': 6683, 'pack': 9503, 'demanding': 3923, 'lets': 7699, 'generation': 5806, 'fades': 5102, 'ending': 4751, 'technique': 12953, 'alittle': 1201, 'speaking': 12245, 'tone': 13312, 'wrapping': 14514, 'fade': 5100, 'tonal': 13311, 'underestimate': 13668, 'emphasis': 4713, 'took': 13321, 'addicted': 1001, 'consumption': 3294, 'firelikethis': 5338, 'shaming': 11696, 'knowledgeable': 7467, 'communicator': 3096, 'matters': 8230, 'ahmed': 1129, 'woooosh': 14455, 'sentence': 11617, 'www': 14546, '6cmnhwvdrsc': 690, 'temperature': 12978, 'sent': 11616, 'visuals': 14032, 'jill': 7243, 'laser': 7574, 'affinity': 1084, 'designer': 3992, 'procreate': 10219, 'cooling': 3362, 'compositing': 3170, 'workload': 14475, 'layers': 7616, 'sources': 12215, 'keying': 7394, 'masking': 8183, 'fusion': 5681, 'playback': 9890, 'timeline': 13244, 'scrubbing': 11508, 'pov': 10043, 'ether': 4864, '45': 521, 'xboc': 14573, 'triggers': 13472, 'thedanielshepherd': 13073, 'mentioning': 8356, 'havent': 6281, 'waitt': 14118, 'rwinder': 11270, 'service': 11648, 'place': 9852, 'chef': 2797, 'goldblum': 5968, 'article': 1544, '90': 784, 'dud': 4468, 'ran': 10547, 'plugins': 9930, 'native': 8850, 'flinch': 5409, 'macs': 8043, 'efficient': 4618, 'plays': 9901, 'lmaoooo': 7835, 'access': 911, 'therefore': 13097, 'internet': 7015, 'tf': 13038, 'epic': 4814, 'gf': 5845, 'deserves': 3988, 'bitch': 2085, 'soy': 12222, 'this': 13141, 'manually': 8129, 'mb': 8248, 'superior': 12700, 'hw': 6620, 'james': 7185, 'racing': 10506, 'haha': 6176, '02': 5, 'walk': 14123, 'disapproval': 4171, 'origin': 9362, 'cheapest': 2774, 'terrence': 13013, 'pascual': 9606, 'realism': 10627, 'sven': 12763, 'lumia': 7991, 'soul': 12201, 'remake': 10826, 'playable': 9889, 'lazy': 7622, 'attempt': 1646, 'upon': 13809, 'immunity': 6767, 'collectors': 3031, 'beefed': 1942, 'property': 10289, 'becomes': 1929, 'profiting': 10243, 'affiliated': 1082, 'stopping': 12516, 'modifying': 8574, 'country': 3442, 'convinient': 3350, '512ssd': 580, '36': 446, 'percent': 9702, 'photos': 9781, 'cloud': 2966, 'downloading': 4375, 'zero': 14753, 'heat': 6334, 'incredible': 6851, '21': 298, 'hour': 6544, 'fixed': 5360, 'usb': 13837, 'charges': 2761, 'connects': 3248, 'major': 8078, 'hiccups': 6411, 'flawlessly': 5390, 'wallet': 14130, 'shown': 11825, 'significant': 11873, 'immediately': 6760, 'cheers': 2792, 'ocules': 9185, 'questvtwo': 10469, 'skill': 11966, 'ripjaws': 11103, '3200mhz': 425, '64': 656, 'trident': 13467, '280': 354, 'rose': 11187, 'programming': 10251, 'python': 10432, 'languages': 7562, 'engg': 4764, 'substitute': 12640, 'if': 6689, 'aod': 1406, 'birki': 2079, 'gts': 6104, 'issues': 7123, 'beeing': 1944, 'stuck': 12587, 'endless': 4752, 'bootcycles': 2229, 'whit': 14317, '4ghz': 544, 'clockspeed': 2952, '9k': 825, 'ratchet': 10574, 'clank': 2904, 'franchises': 5565, 'crack': 3471, 'capability': 2581, 'arsenal': 1537, 'weapons': 14222, 'knack': 7451, 'infront': 6912, 'master': 8190, 'yoda': 14689, '1800': 195, 'easily': 4558, '900': 785, 'lg': 7720, 'nanocell': 8830, '700': 705, 'bundle': 2453, 'sub': 12615, 'gamepass': 5726, '3900': 468, 'fitness': 5354, 'trackers': 13384, 'sort': 12197, 'event': 4883, 'monitors': 8614, 'plugged': 9927, 'exporting': 5031, 'thousand': 13159, 'dozen': 4383, 'slows': 12038, 'chillin': 2822, 'gig': 5864, 'responsive': 10962, 'load': 7846, 'michael': 8416, 'sawyer': 11418, 'how': 6555, 'to': 13286, '11900k': 84, 'costs': 3421, '620': 653, '5900x': 609, 'bronze': 2375, 'loss': 7923, 'unfair': 13695, 'q2': 10434, 'sacrifices': 11311, 'comfort': 3068, 'replaceable': 10877, 'regardless': 10763, 'dario': 3732, 'astrobot': 1615, 'firewall': 5340, 're8vr': 10605, 'triggered': 13471, 'imagined': 6747, 'edited': 4591, 'layout': 7618, 'diagonally': 4068, 'neat': 8872, 'monkas': 8616, 'oculas': 9183, 'correction': 3404, 'supports': 12713, 'thunderbolt': 13205, 'speeds': 12272, 'gift': 5860, 'leather': 7650, 'bypass': 2500, '321th': 426, 'talkshow': 12875, 'everybody': 4894, 'front': 5620, 'razza': 10599, 'anonymous': 1361, 'pity': 9841, 'vitreous': 14035, 'welcome': 14260, 'scorpion': 11476, 'pulse': 10379, 'headphones': 6310, 'cue': 3599, 'clip': 2944, 'dbrand': 3786, 'crying': 3580, 'screw': 11497, 'fantasy': 5160, 'lesson': 7696, 'peter': 9759, 'parker': 9581, 'young': 14701, 'kid': 7406, 'retired': 10992, 'arrived': 1528, 'debate': 3813, 'perfectly': 9711, 'describes': 3982, 'girlfriend': 5886, 'continues': 3313, 'spotlight': 12341, 'reppa': 10896, 'kagura': 7345, 'alternate': 1247, 'wat': 14185, 'hed': 6350, 'effectively': 4613, 'cryptos': 3585, 'imported': 6791, 'china': 2827, 'directly': 4150, 'ambience': 1275, 'peace': 9673, 'sha': 11680, 'allah': 1206, 'assume': 1604, 'quality': 10450, 'sounding': 12209, 'creak': 3496, 'picks': 9797, 'removable': 10845, 'panels': 9547, 'distracting': 4246, 'lots': 7927, '6gb': 694, 'swapped': 12774, 'mosse': 8673, 'standalone': 12405, 'stands': 12412, 'aios': 1142, 'trust': 13508, 'golden': 5969, 'deserve': 3986, 'harder': 6245, 'matt': 8224, '612': 651, 'enhanced': 4774, 'replay': 10882, 'classics': 2917, 'bones': 2210, 'fold': 5450, 'checking': 2783, 'plz': 9938, 'logical': 7871, 'arabic': 1472, 'notification': 9071, 'wire': 14388, 'solution': 12149, 'allow': 1218, 'router': 11209, '213th': 301, 'launcher': 7605, 'cynthia': 3674, 'anderson': 1316, 'm2': 8014, 'bitcoin': 2087, 'safe': 11320, 'pcvr': 9669, 'mode': 8560, 'semih': 11600, 'emre': 4723, 'formats': 5517, 'skins': 11973, 'matte': 8225, 'zen': 14742, '43': 513, 'explaining': 5012, 'bucket': 2413, 'xiangling': 14603, 'hu': 6573, 'tao': 12889, 'ninety': 8981, 'fifty': 5279, 'six': 11951, 'maths': 8218, 'class': 2914, 'technologies': 12956, 'provides': 10321, 'log': 7866, 'revival': 11037, 'illustrator': 6734, 'tripping': 13482, 'breaking': 2318, 'houses': 6550, 'arrives': 1529, 'tec': 12943, 'introduced': 7035, '14': 129, 'swim': 12795, 'smoothly': 12081, 'gamingalso': 5739, 'expires': 5006, 'fantastic': 5159, '512': 577, 'deals': 3808, 'owe': 9479, 'coffee': 3008, 'brave': 2308, 'liberty': 7728, 'f1': 5070, 'footage': 5475, 'known': 7468, 'striking': 12571, 'untamed': 13773, 'ronin': 11181, 'figured': 5290, 'paragraph': 9568, 'republic': 10903, 'casuals': 2657, 'owners': 9483, '25': 327, 'theyre': 13114, 'storyline': 12528, 'inferior': 6895, '18': 193, 'rehashed': 10776, 'mw': 8787, '180gb': 196, 'bg': 2032, 'ios': 7070, 'aparently': 1408, 'cominder': 3074, 'exists': 4966, 'simulation': 11910, 'lucas': 7967, 'blaney': 2113, 'perspective': 9752, 'reasonable': 10645, 'relaxing': 10801, 'agrees': 1117, 'guardian': 6113, 'recreate': 10698, 'grain': 6032, 'playspaces': 9906, 'til': 13235, 'gwyneth': 6144, 'paltrow': 9539, 'vagina': 13880, 'candles': 2568, 'soo': 12182, 'paul': 9643, 'nightingale': 8973, 'breakdown': 2316, 'retain': 10983, 'students': 12589, 'professionals': 10237, 'balance': 1793, 'affordability': 1087, 'professionalsmacbook': 10238, 'jjbchem': 7252, 'told': 13301, 'bestbuy': 2010, 'tuesday': 13532, 'monday': 8603, 'sommer': 12168, 'synchronisation': 12825, 'strava': 12544, 'runkeeper': 11254, 'zepp': 14752, 'multiplayer': 8745, 'anymore': 1396, 'we': 14215, 'parents': 9576, 'wheel': 14288, 'workbench': 14468, 'commander': 3077, 'triangle': 13456, 'factors': 5097, '512gb': 579, 'functions': 5662, 'teacher': 12929, 'tl': 13276, 'dr': 4389, 'creaking': 3497, 'noise': 9015, 'unit': 13717, 'developers': 4037, 'driving': 4441, '69nm': 687, 'unnatural': 13741, 'lenses': 7684, 'sunlight': 12690, 'have': 6278, 'gibney': 5857, 'typical': 13581, 'statham': 12437, 'waterproof': 14199, 'scale': 11428, 'hilarious': 6433, 'ij7tnlf9': 6712, '5o': 626, 'moment': 8593, 'customer': 3631, 'potential': 10033, 'bottleneck': 2256, 'thatnormalbunny': 13063, 'prevent': 10146, 'ban': 1804, 'stadia': 12394, 'multitask': 8749, 'boellaard': 2190, 'bases': 1857, 'dwarf': 4519, 'prove': 10315, 'era': 4829, 'keeping': 7372, 'across': 962, 'brands': 2305, 'fucked': 5634, 'fell': 5243, 'ended': 4749, 'lacklustre': 7533, 'knock': 7458, 'park': 9580, 'everytime': 4900, 'seasoned': 11534, 'frankly': 5574, 'atm': 1630, 'routinely': 11210, 'eighty': 4644, 'bazillion': 1894, 'applications': 1439, 'breakout': 2319, 'understood': 13681, 'complain': 3150, 'struggled': 12582, 'plugging': 9928, 'modern': 8568, 'paging': 9519, 'minor': 8487, 'fills': 5301, 'required': 10908, 'experiencing': 4999, 'achieve': 947, 'nowhere': 9086, 'ultimately': 13621, 'suffer': 12661, 'containers': 3300, 'stack': 12389, 'application': 1438, '28': 353, 'worked': 14469, 'slight': 12018, 'decrease': 3854, 'moral': 8640, 'story': 12527, 'suits': 12680, 'advantages': 1056, 'fix': 5359, 'elite': 4670, 'nerf961': 8912, 'subscribed': 12631, 'angle': 1333, 'weird': 14255, 'allocate': 1212, 'program': 10246, 'demands': 3924, 'compress': 3173, 'inactive': 6812, 'heading': 6307, 'critical': 3546, 'un': 13635, 'compressible': 3176, 'swappable': 12773, 'labeled': 7523, 'rest': 10964, 'differences': 4098, 'tricker': 13464, 'scenario': 11449, 'compression': 3178, 'decompression': 3850, 'hits': 6451, 'painful': 9523, 'lease': 7648, 'rarely': 10567, 'frequently': 5601, 'extensions': 5045, 'outlook': 9403, 'pdf': 9670, 'reader': 10615, 'sidecar': 11857, 'boils': 2199, 'dozens': 4384, 'documents': 4293, 'evernote': 4890, 'mail': 8069, 'twitter': 13571, 'given': 5895, 'snappy': 12096, 'loads': 7850, 'stated': 12434, 'cherbo': 2803, 'mad': 8046, 'paper': 9560, 'spec': 12248, 'advantage': 1055, 'practice': 10065, 'nx': 9114, 'designing': 3994, 'boxes': 2277, 'getter': 5842, 'crazier': 3493, 'wacker': 14103, 'hotter': 6542, 'rooms': 11184, 'romania': 11176, 'fortnite': 5529, 'rebranding': 10653, 'begging': 1950, 'balls': 1800, 'recommends': 10687, 'piss': 9837, 'chunk': 2870, 'fence': 5249, 'protectors': 10304, 'amzn': 1299, '35j2ima': 445, 'nicholas': 8957, 'beebe': 1939, 'impulse': 6807, 'rumble': 11247, 'motors': 8685, 'gta': 6101, 'customizable': 3640, 'paddles': 9513, 'thumbsticks': 13203, 'thumbs': 13201, 'mapped': 8137, 'replaced': 10878, 'kb': 7365, 'recomendation': 10680, 'troveion': 13496, 'ripped': 11106, 'watches': 14190, 'alot': 1234, 'oclus': 9175, 'ark': 1506, 'bernard': 2003, 'madoff': 8051, 'laggy': 7542, 'debating': 3814, 'opion': 9313, 'killin': 7418, 'silicon': 11883, 'jpg': 7301, 'webpage': 14236, 'affects': 1081, 'positively': 10015, 'negatively': 8893, 'meh': 8330, 'futureproof': 5686, 'impacts': 6774, 'lifetime': 7744, 'vinyl': 14004, 'accidentally': 921, 'dislike': 4212, 'accident': 919, 'returning': 11005, 'pulling': 10377, 'trigger': 13470, 'nerd': 8909, 'canadian': 2558, 'wallets': 14131, 'def': 3868, 'related': 10793, 'connected': 3242, '00': 0, 'endgame': 4750, 'hulk': 6590, 'screwed': 11498, 'station': 12440, 'bucks': 2414, 'logo': 7876, 'acconut': 927, 'minecraft': 8474, 'written': 14529, 'natively': 8851, 'reckon': 10676, 'disassembly': 4175, 'extend': 5041, 'writing': 14528, 'jobs': 7257, 'slowly': 12037, 'wear': 14223, 'broo': 2376, 'hydroo': 6625, 'diping': 4142, 'shittt': 11768, 'bip': 2076, 'april': 1456, 'kill': 7413, 'relies': 10811, '44': 515, 'suddenly': 12658, 'laughing': 7600, 'reaction': 10612, 'uhm': 13610, 'ten': 12988, 'profile': 10239, 'olds': 9242, 'promos': 10266, '41': 504, 'pathetic': 9630, 'snap': 12094, 'egypt': 4632, 'imx': 6809, 'overweight': 9475, 'suckers': 12652, 'allowing': 1220, 'shiny': 11750, 'slick': 12014, 'marketing': 8159, 'instantly': 6963, 'privacy': 10189, '500': 562, 'surprise': 12742, 'spit': 12310, 'tfw': 13041, 'grail': 6031, 'handles': 6214, 'charm': 2764, 'logic': 7870, 'orchestral': 9346, 'sample': 11356, 'libraries': 7729, 'instruments': 6968, 'kontakt': 7479, 'producers': 10223, 'craving': 3489, 'ay': 1731, 'rocket': 11148, 'lake': 7546, 'context': 3309, 'refuses': 10757, 'acceleration': 904, 'decoding': 3848, 'handled': 6213, 'causing': 2677, 'consume': 3287, 'translates': 13427, 'drained': 4395, 'wasting': 14183, 'argue': 1496, 'enable': 4732, 'enabled': 4733, 'verify': 13942, 'internals': 7012, 'kvideodecodername': 7505, 'ffmpegvideodecoder': 5263, 'h264': 6152, 'vpxvideodecoder': 14076, 'vp9': 14073, 'handling': 6215, 'mojovideodecoder': 8588, 'gpuvideodecoder': 6014, 'chromium': 2866, 'tweaking': 13561, 'systems': 12834, 'accessible': 914, 'perform': 9715, 'address': 1013, 'happening': 6232, 'visibility': 14021, 'thelightsilent': 13081, 'actuallly': 980, 'judging': 7310, 'lapse': 7565, 'recording': 10694, 'cold': 3020, 'flash': 5381, 'health': 6319, 'warnings': 14163, 'waking': 14121, 'sleep': 12005, 'awake': 1707, 'hub': 6577, 'interface': 7006, 'flare': 5380, 'playsations': 9903, 'shrugs': 11836, 'forgivable': 5504, 'fo': 5443, 'constructive': 3284, 'mock': 8555, 'evidence': 4904, 'fundamentals': 5665, 'strong': 12577, 'drivers': 4439, 'risc': 11109, 'instruction': 6966, 'steps': 12471, 'cisc': 2892, 'arch': 1478, 'execute': 4953, 'instructions': 6967, 'references': 10734, 'microcontrollertips': 8422, 'architectures': 1485, 'cs': 3587, 'stanford': 12413, 'edu': 4600, 'eroberts': 4837, 'courses': 3449, 'soco': 12128, 'projects': 10256, 'risccisc': 11110, '20cisc': 275, '20approach': 272, '20attempts': 273, '20to': 297, '20of': 287, '20instructions': 280, '20per': 289, '20program': 290, 'missing': 8512, 'ohh': 9226, 'decoded': 3847, 'processed': 10213, 'somewhat': 12166, '5950x': 610, 'piece': 9805, '52': 581, 'yk': 14684, 'jus': 7327, 'celling': 2696, 'mate': 8210, 'netflix': 8923, 'sweats': 12784, 'nervously': 8916, 'galaxy': 5715, 'accidental': 920, 'shower': 11822, '9900k': 817, 'twin': 13566, 'towers': 13368, 'ahyuk': 1131, 'acting': 965, 'indellable': 6858, 'besides': 2008, 'massive': 8188, 'ic': 6653, '1011': 33, 'section': 11549, 'ratio': 10580, 'brag': 2290, '10x10': 66, 'feet': 5239, 'albert': 1169, 'msrp': 8725, 'lizard': 7827, 'learning': 7646, 'deepfake': 3867, 'voices': 14055, 'george': 5830, 'carlin': 2628, 'xbon': 14574, 'proprietary': 10294, 'operating': 9306, 'nigga': 8969, 'shitbox': 11761, 'dialectical': 4071, 'monist': 8610, 'recommendations': 10684, 'lock': 7859, 'unusable': 13782, 'fkebook': 5363, 'stasis': 12432, 'frick': 5605, 'pp': 10056, 'plain': 9860, 'toast': 13287, 'claims': 2903, 'slamming': 11994, 'obs': 9143, 'greenscreen': 6068, 'window': 14371, 'lagging': 7541, 'nadda': 8801, 'hearing': 6326, 'abt': 891, 'uncharted': 13655, 'ledge': 7655, 'grip': 6081, 'feedback': 5232, 'favorites': 5195, 'legacy': 7661, 'swimming': 12797, 'seller': 11591, '16inch': 180, 'learned': 7645, 'return': 11003, 'optimizing': 9337, 'creepy': 3524, 'laugh': 7597, 'hahahahahahahah': 6183, '10x': 65, 'leg': 7660, 'expecting': 4988, 'wishful': 14404, 'ehhhh': 4639, 'ff7': 5262, 'infamous': 6891, 'bloodborne': 2156, 'horizon': 6523, 'dawn': 3775, 'sackboy': 11310, 'adventure': 1057, 'embargos': 4693, 'rollout': 11173, 'mess': 8372, 'target': 12896, 'commend': 3080, 'intros': 7038, 'watts': 14203, 'reconcile': 10689, 'conscience': 3253, 'harmful': 6251, 'mediocre': 8318, 'imma': 6757, 'pretend': 10140, 'mon': 8601, 'fov': 5548, 'ef': 4610, 'ou': 9383, 'vee': 13919, 'pixelated': 9843, 'plasmaboo': 9872, 'in': 6810, 'arrival': 1526, 'coloured': 3045, 'teqneh': 13003, 'ryedog': 11276, 'rewards': 11046, 'quests': 10467, 'charged': 2758, 'arriving': 1530, 'write': 14525, 'cicles': 2872, 'living': 7826, 'whos': 14335, 'geeks': 5788, 'yrs': 14717, 'takeaway': 12862, 'freak': 5577, 'xiaomi': 14605, 'youve': 14714, 'yongyea': 14693, 'nxgamer': 9115, '6th': 702, 'v5': 13873, 'checked': 2782, '4th': 559, 'ports': 10005, 'wise': 14398, 'runs': 11257, 'frames': 5559, 'disappeared': 4165, 'cortana': 3409, 'shutdown': 11841, 'phrase': 9785, 'uninstalled': 13713, 'degrades': 3894, 'feautures': 5224, 'typos': 13585, 'points': 9957, 'aphid': 1412, 'ntømatões': 9094, 'tested': 13023, 'consumable': 3286, 'opened': 9301, 'abuze': 895, 'frist': 5617, 'men': 8349, 'stfu': 12476, 'club': 2973, '38': 462, 'melts': 8340, 'heart': 6329, 'shity': 11771, 'ghz': 5853, 'hint': 6437, 'egpu': 4630, 'cordless': 3384, 'shill': 11743, 'redo': 10717, 'comps': 3180, 'several': 11668, 'fully': 5653, 'debugged': 3820, 'hami': 6201, 'goodjob': 5981, 'technology': 12957, 'include': 6825, 'ips': 7085, 'implament': 6779, 'riddance': 11071, 'noah': 9003, 'theboa': 13072, 'fail': 5105, '2013': 248, 'censored': 2704, 'overhaul': 9442, 'touchbar': 13352, 'mines': 8476, 'bands': 1813, 'captornite': 2598, 'patient': 9634, 'dealing': 3807, 'upfront': 13797, 'doubling': 4357, 'banning': 1824, 'uncle': 13656, 'brother': 2383, 'held': 6362, 'livestream': 7824, 'blown': 2161, 'qhose': 10438, 'customized': 3644, 'ther': 13093, 'stopped': 12515, 'trademark': 13392, 'beastwerks': 1913, '4rd': 557, '965': 805, 'massively': 8189, '8350': 749, '3570k': 444, '366': 456, 'celeron': 2692, 'woah': 14427, 'buster': 2481, 'hol': 6468, 'larger': 7570, 'population': 9990, 'graphical': 6045, 'clear': 2928, 'arrangements': 1523, 'mbp16': 8259, 'sunny': 12691, 'dragneel': 4392, 'mhm': 8401, 'restricting': 10973, 'limits': 7778, 'lie': 7735, 'restricted': 10972, 'upcoming': 13790, 'links': 7788, 'pixelknight': 9845, 'successful': 12646, 'celeste': 2694, 'cuphead': 3609, 'undertale': 13682, 'shovel': 11815, 'knight': 7456, 'wii': 14358, 'subnautica': 12626, 'specifically': 12256, 'state': 12433, 'necessary': 8877, 'mouth': 8695, 'reasoning': 10647, 'flawed': 5388, 'limitation': 7774, 'stranding': 12535, 'detroit': 4029, 'esport': 4849, 'dota': 4352, 'league': 7633, 'tower': 13367, 'defence': 3877, 'empires': 4716, 'impossible': 6795, 'types': 13580, 'divinity': 4260, 'sin': 11917, 'figuring': 5292, 'input': 6933, 'recent': 10664, 'fledged': 5392, 'driven': 4437, 'masterpieces': 8197, 'zen2': 14743, 'utilising': 13859, 'rdna': 10601, 'dxr': 4527, 'api': 1413, 'x86': 14561, 'develop': 4034, 'incomplete': 6835, 'extent': 5048, 'cells': 2698, 'intact': 6972, 'alas': 1167, 'threw': 13170, 'hissy': 6443, 'noel': 9011, 'rockstone': 11155, 'thermal': 13100, 'limit': 7773, 'squeeze': 12373, 'alder': 1173, 'looker': 7894, 'parity': 9579, 'matcher': 8207, 'blow': 2159, 'uninterested': 13714, 'prep': 10116, 'combat': 3050, 'compete': 3134, 'casting': 2653, 'animation': 1342, 'lag': 7539, 'existent': 4964, 'irl': 7094, 'depending': 3962, 'ice': 6655, 'quad': 10443, 'offloaded': 9215, 'embargo': 4690, 'beyond': 2025, 'themself': 13087, 'blu': 2165, 'rays': 10591, 'dolby': 4312, 'dts': 4460, 'atmos': 1631, 'colin': 3022, 'newman': 8938, 'technically': 12951, 'opted': 9323, 'incorrectly': 6846, 'wipe': 14383, 'debit': 3819, 'whenever': 14293, 'reach': 10607, 'countries': 3441, 'payments': 9656, 'covid': 3460, 'oxygen': 9491, 'meter': 8388, 'radplay': 10515, 'bias': 2037, 'kunta': 7499, 'kinte': 7435, '10700k': 38, '5800x': 606, 'overclocked': 9435, 'realistic': 10629, 'incidence': 6822, 'cod': 2997, '2019': 254, 'dose': 4347, 'footstep': 5479, 'vibes': 13966, 'contender': 3304, 'award': 1708, 'annual': 1358, 'aged': 1103, '2nd': 384, '2011': 246, 'pickup': 9798, 'sex': 11671, 'dungeon': 4494, 'permanent': 9733, 'richard': 11062, 'hayden': 6288, 'boysss': 2283, 'sequel': 11631, 'string': 12572, 'bow': 2272, 'woth': 14500, 'jedi': 7215, 'cookie': 3355, 'laughs': 7601, 'magnavox': 8057, 'odyssey': 9193, 'compatile': 3126, 'ps4pro': 10334, 'seperate': 11626, 'pcs': 9668, 'changing': 2747, 'fanboys': 5149, 'gueds': 6116, 'disappointing': 4168, 'unserstandable': 13765, 'developed': 4035, 'invisible': 7060, 'women': 14435, 'damned': 3707, 'scrapped': 11482, 'entirely': 4800, 'mist': 8515, 'wolf': 14430, 'destroy': 4010, 'adam': 986, 'sim': 11889, 'thx': 13210, 'alright': 1241, 'copy': 3377, 'donemu': 4330, 'challenge': 2733, 'franchise': 5564, 'challenging': 2735, 'fights': 5285, 'key': 7389, 'loyalty': 7954, 'retire': 10991, 'alejandro': 1176, 'álvarez': 14784, 'subscribe': 12630, 'art': 1539, 'numbers': 9103, 'caching': 2519, '29': 361, '93gb': 800, 'street': 12554, 'fighter': 5282, 'mihail': 8444, 'ivanov': 7157, 'kit': 7440, '5hr': 620, 'internal': 7010, 'hopping': 6522, '480p': 533, 'beers': 1946, 'beats': 1917, 'pdx': 9671, 'asshole': 1591, 'clueless': 2975, 'topics': 13334, 'discs': 4200, 'disc': 4180, 'gta5': 6102, 'offset': 9218, 'fumbling': 5654, 'organizing': 9356, 'excruciatingly': 4949, 'trays': 13445, 'varies': 13903, 'untill': 13777, '700th': 706, 'unsarcasticly': 13762, 'indicative': 6869, 'creator': 3510, 'fr': 5553, 'abhi': 874, 'roy': 11213, 'poland': 9963, 'aliexpress': 1198, 'windfish': 14370, 'worryed': 14490, 'fbi': 5205, 'berk': 2001, 'güney': 6151, 'jyoti': 7339, 'waghmare': 14108, 'ported': 10000, 'microsd': 8428, 'flip': 5411, 'cards': 2613, 'patter': 9639, 'thoughts': 13158, 'microcenter': 8420, 'duluth': 4482, 'georgia': 5831, 'location': 7857, 'selection': 11586, 'gadget': 5704, 'paradise': 9566, 'miss': 8508, 'psychology': 10360, 'dollars': 4315, 'americans': 1286, 'unfortunate': 13698, 'scalper': 11432, 'assist': 1595, 'eheh': 4636, 'zoneoftech': 14769, 'senate': 11601, 'campaign': 2552, 'installed': 6957, 'meme': 8343, 'sunday': 12688, 'yay': 14641, 'heartbeat': 6330, 'joy': 7295, 'weak': 14216, 'stuttering': 12605, '2009': 237, 's11': 11291, 'maxed': 8236, 'hdd': 6295, 'meetings': 8326, '365': 455, 'cyn': 3672, 'hicks': 6412, 'trained': 13406, 'overt': 9466, 'arrogance': 1531, 'website': 14239, 'lvl': 8001, 'beidou': 1964, 'depate': 3957, 'clup': 2978, 'rough': 11201, '5k': 622, 'creeky': 3520, 'yu': 14722, 'memorize': 8347, 'spaces': 12230, 'remembers': 10836, 'op': 9299, 'opneing': 9314, 'gim': 5876, 'fuller': 5651, 'ridiculously': 11079, 'blazingcobra': 2119, '722': 717, 'disabled': 4159, 'awhile': 1718, 'gmod': 5932, 'ppietra': 10057, 'prior': 10182, 'unknown': 13728, 'earlier': 4544, 'disclosed': 4189, 'speculations': 12266, 'crypto': 3584, 'profitable': 10242, 'author': 1671, 'mileage': 8451, 'btheo8': 2409, 'bloxlocked': 2164, 'platform': 9881, 'void': 14057, 'warranty': 14167, 'stores': 12524, 'repairs': 10866, 'urge': 13827, 'xuser48': 14624, '5600x': 597, 'tuf': 13533, 'oc': 9159, 'res': 10915, 'overpriced': 9461, 'mentioned': 8355, 'plethora': 9922, 'optimised': 9331, 'sutton': 12760, 'chance': 2739, 'af': 1074, 'dielut': 4091, 'yahon': 14631, 'clue': 2974, 'latency': 7587, 'noone': 9037, 'forces': 5485, 'attention': 1648, 'optimise': 9330, 'rig': 11084, 'outcome': 9390, 'force': 5483, 'soooooo': 12188, 'cheems': 2790, 'subs': 12629, 'previous': 10153, 'congrats': 3238, 'lurking': 7995, 'spare': 12237, 'charger': 2759, 'specific': 12254, 'carry': 2640, 'pablo': 9499, 'gonzalez': 5978, 'idiotic': 6680, 'special': 12249, 'locking': 7862, 'goldenturtlegaming': 5971, 'millions': 8464, 'presenting': 10129, 'touched': 13353, 'bootcamp': 2228, 'overhyped': 9447, 'clout': 2970, 'files': 5295, '10mb': 57, 'stutter': 12604, 'clicked': 2938, 'maximum': 8239, 'reflection': 10742, 'belief': 1970, 'owns': 9486, 'uuuuhmmm': 13869, 'yah': 14630, 'spidey': 12296, 'themed': 13085, 'thorough': 13151, '28nov2020': 359, 'dellthecomputer': 3917, 'rolex': 11170, 'submariner': 12624, 'car': 2602, 'mercedes': 8362, 'mins': 8489, 'burn': 2466, 'childe': 2816, 'skillshare': 11968, 'lizzard': 7828, 'format': 5515, 'cryer24597': 3578, 'mos': 8670, 'bethesda': 2014, 'rpgs': 11219, 'tip': 13259, 'iceberg': 6656, 'mods': 8576, 'faild': 5106, 'creation': 3505, 'expire': 5004, '07': 11, '31': 418, 'wasted': 14180, 'nickle': 8962, 'unseen': 13764, 'boost': 2224, 'jump': 7317, 'fooled': 5471, 'ads': 1046, 'tetris': 13031, 'nba': 8866, 'delivered': 3912, 'micah': 8414, 'adamson': 987, 'commented': 3084, 'retract': 10997, 'shared': 11702, 'josé': 7290, 'gálvez': 6150, 'with': 14414, 'boring': 2240, 'lately': 7585, 'cover': 3454, 'putin': 10419, '480hr': 532, '336hr': 434, 'mah': 8064, 'hmmm': 6458, '720': 712, 'anothony': 1364, 'yesssss': 14673, 'jayed': 7205, 'al': 1162, 'sabit': 11306, 'gematsu': 5793, 'brining': 2359, 'identity': 6677, 'crisis': 3541, 'steadily': 12456, 'existence': 4963, 'industry': 6882, 'autocad': 1675, 'solidworks': 12147, 'forth': 5528, 'chaos': 2750, '1000000': 23, 'db': 3784, 'hundred': 6601, 'abuse': 892, 'offer': 9203, 'ofcourse': 9198, 'titntin': 13272, 'huh': 6588, 'places': 9856, 'bulk': 2439, 'press': 10133, 'asap': 1550, 'watcing': 14195, 'becouse': 1932, 'jared': 7194, 'monk': 8615, 'casual': 2655, 'connecting': 3243, 'ce': 2684, 'da': 3686, 'handle': 6212, 'standing': 12410, 'mackbook': 8036, 'sir': 11937, 'fireeee': 5336, 'heir': 6361, 'goshhhh': 5999, 'releaes': 10802, 'marvel': 8175, 'remasterd': 10831, 'changes': 2746, 'intersting': 7022, 'repairable': 10865, 'suggesting': 12671, 'utilize': 13862, 'itnernal': 7145, 'presume': 10139, 'firmware': 5343, 'lasting': 7580, 'iphones': 7081, 'decade': 3824, 'earliest': 4545, 'coverage': 3455, 'pokémons': 9962, 'countless': 3440, 'demonstrated': 3936, 'omegalul': 9251, 'd4rkstorn': 3684, 'multifunction': 8740, 'solely': 12145, 'versatility': 13947, 'wins': 14381, '5th': 630, 'axm': 1730, 'purchased': 10394, 'reflections': 10743, 'hills': 6434, 'shake': 11688, 'ground': 6086, 'grade': 6023, 'revolution': 11041, 'eve': 4880, 'modded': 8558, 'odd': 9191, 'gamecube': 5723, 'ulipse': 13617, 'laminated': 7552, 'lighting': 7753, 'painting': 9529, 'prequel': 10120, 'shorter': 11803, 'insomniac': 6948, 'uglier': 13603, 'bypassing': 2502, 'arguing': 1498, 'understanding': 13678, 'symbol': 12818, 'pops': 9987, 'factory': 5098, 'restarted': 10966, 'fixes': 5361, 'soooo': 12186, 'brute': 2403, 'loose': 7910, 'motherboard': 8676, 'normie': 9049, 'panel': 9545, 'belgium': 1968, 'waaay': 14099, 'itel': 7138, '11600kf': 77, '350': 442, 'wouldnt': 14504, 'stream': 12546, 'crocs54': 3554, 'wayyyyyy': 14210, 'gremlins': 6073, 'lovers': 7939, '3th': 486, 'nominate': 9022, 'oscars': 9370, 'configs': 3223, 'pocket': 9942, 'sorts': 12199, '12900k': 106, 'geekbench': 5787, '2nd_place': 385, 'europe': 4871, 'anthonydoes': 1378, 'harshit': 6256, 'gupta': 6132, 'answering': 1369, 'secondly': 11543, 'selled': 11590, 'copies': 3372, 'bless': 2126, 'logistics': 7874, 'underage': 13665, 'saver': 11407, 'pudge': 10370, 'luis': 7984, 'rosado': 11186, 'worries': 14488, 'mistakes': 8519, 'preferences': 10098, 'disclaimer': 4186, 'snowflake': 12112, 'members': 8342, 'ashwin': 1558, 'alagiri': 1163, 'rajan': 10533, 'session': 11653, 'handful': 6210, 'throughout': 13180, 'zeuswnb': 14754, 'not': 9057, 'verified': 13941, 'parking': 9582, 'discount': 4195, 'cup': 3607, 'antony': 1386, 'ups': 13817, 'pleasant': 9912, 'storehouse': 12522, 'knowledge': 7466, 'creativity': 3509, 'levels': 7709, 'discussions': 4203, 'obi': 9134, 'kenobi': 7378, 'ig': 6693, '93': 797, 'metacritic': 8384, 'literly': 7814, 'throuput': 13183, 'avx512': 1705, 'giimme': 5875, 'mooore': 8635, 'realy': 10642, '10core': 51, 'login': 7873, 'cluster': 2979, 'nongmaithem': 9030, 'avinash': 1697, '70': 704, 'pandemic': 9543, 'uncertain': 13653, 'howd': 6557, 'experiance': 4994, 'description': 3983, 'cries': 3527, 'snorting': 12109, 'bill': 2055, 'lottt': 7928, 'tos': 13346, 'bytheby': 2506, 'cream': 3500, 'chris': 2854, '2and': 369, 'manifest': 8117, 'streamed': 12548, 'sourcetree': 12216, 'terminal': 13008, 'sublime': 12623, 'tiaan': 13214, 'aardt': 861, 'hungry': 6606, 'shortening': 11801, 'swapping': 12775, 'noises': 9016, 'increased': 6848, 'appears': 1429, 'lion': 7795, 'walks': 14127, 'among': 1291, 'ants': 1387, 'philippines': 9771, 'leaning': 7641, 'catalog': 2660, 'psshh': 10349, 'viewing': 13990, 'statistics': 12447, 'absolute': 887, 'shite': 11762, 'franklin': 5572, 'usually': 13855, 'ricer': 11060, 'miata': 8405, 'legion': 7668, '5pi': 628, 'heck': 6348, 'comming': 3091, 'jonah': 7282, 'macartney': 8026, 'theroughbread2': 13103, 'mistaken': 8517, 'eat': 4563, 'silhouette': 11882, 'duel': 4475, '128gb': 105, 'tb': 12917, 'accept': 906, 'streamlined': 12552, 'rosetta': 11190, 'caused': 2675, 'blows': 2162, 'hater': 6271, 'ham': 6200, 'dachicagoan': 3690, 'sonic': 12175, 'deliverance': 3911, 'impeccable': 6777, 'undermine': 13670, 'controler': 3327, 'olso': 9249, 'smaller': 12050, 'stars': 12421, 'advancement': 1053, 'only': 9276, 'import': 6787, 'concerning': 3198, 'binary': 2066, 'packed': 9508, 'reference': 10732, 'en': 4730, 'wikipedia': 14360, 'org': 9353, 'wiki': 14359, 'universal_binary': 13721, 'warfare': 14154, 'reputation': 10904, 'meet': 8324, 'sniper': 12102, 'paddle': 9512, 'competitive': 3140, 'burst': 2475, 'blender': 2124, 'september': 11628, 'salty': 11344, 'ughhh': 13601, '500k': 567, 'necessarily': 8876, 'problems': 10204, 'maker': 8086, 'her': 6386, 'primer': 10173, 'asks': 1571, 'canvass': 2577, 'ikea': 6717, 'magic': 8054, 'resist': 10934, 'nail': 8810, 'keen': 7369, 'forever': 5498, 'gadgets': 5705, 'audition': 1659, 'medieval': 8317, 'damnn': 3710, 'accounts': 933, 'seemingly': 11566, 'restored': 10969, 'monster': 8622, 'hunter': 6609, 'hates': 6273, 'default': 3869, 'headstraps': 6317, 'corrected': 3402, 'fogot': 5448, 'whopping': 14333, 'dying': 4528, '1300x': 120, '3700x': 460, 'granted': 6040, 'massinirev': 8187, 'server': 11645, 'sec': 11539, 'camme': 2550, 'redditors': 10710, 'incoming': 6834, 'sun': 12687, '1000nits': 25, 'pool': 9975, 'netfilx': 8922, 'britnest': 2361, 'site': 11941, 'freesync': 5592, 'forum': 5531, 'vrr': 14084, 'doubts': 4361, 'razerbook': 10597, 'slip': 12023, 'bizarre': 2093, 'easter': 4559, 'egg': 4627, 'alias': 1194, '10th': 64, 'performs': 9723, 'glitching': 5914, 'queen': 10459, 'fuckin': 5635, 'golf': 5973, 'davzwho': 3772, 'preview': 10151, 'unfortunately': 13699, '1440p': 134, 'disgusting': 4206, 'song': 12172, 'components': 3169, 'listening': 7808, 'chokes': 2842, 'project': 10254, 'clips': 2948, 'ongoing': 9272, '22': 304, 'multicam': 8737, 'covered': 3456, 'miscellaneous': 8500, '264': 343, 'prores': 10296, 'animated': 1341, 'alpha': 1235, 'imac': 6739, 'choked': 2841, 'eventually': 4885, 'froze': 5624, 'reboot': 10650, 'soggylip': 12138, 'secs': 11548, 'struggling': 12584, 'position': 10010, 'giovanni': 5883, 'brena': 2331, 'drain': 4394, 'vag': 13879, 'effective': 4612, 'adds': 1016, 'threshold': 13169, '2000': 231, 'possibly': 10021, 'evga': 4902, 'jayr': 7207, 'marasigan': 8141, 'uploading': 13806, 'streams': 12553, 'nathan': 8846, 'thom': 13148, '125': 101, 'completing': 3160, 'cycle': 3669, 'dicks': 4081, 'morgan': 8650, '2d': 371, 'heads': 6313, 'theyll': 13113, 'increase': 6847, '10million': 58, 'anyways': 1402, 'snipin': 12103, 'outta': 9422, 'doors': 4341, 'guarantee': 6110, 'thread': 13163, 'muli': 8733, 'edges': 4584, 'valhalla': 13882, 'channels': 2749, 'wording': 14461, 'disingenuous': 4208, 'period': 9726, 'dynamic': 4530, 'vary': 13906, 'altho': 1252, 'imitates': 6756, 'sets': 11657, 'clock': 2951, 'loaded': 7847, 'shilling': 11744, 'softening': 12135, 'falsifying': 5135, 'exaggerating': 4921, 'annoyed': 1355, 'controlling': 3332, 'behavior': 1960, 'influencers': 6901, 'normally': 9048, 'whoever': 14327, 'modeling': 8563, 'drunk': 4452, 'sizes': 11957, 'tyler': 13578, 'durden69': 4505, 'ahead': 1122, 'priced': 10156, 'saving': 11409, 'taught': 12912, 'up': 13789, 'heavier': 6343, 'workflows': 14472, 'bug': 2425, 'empty': 4721, 'furniture': 5674, 'programer': 10247, 'loyal': 7953, 'pratheesh': 10075, 'scenarios': 11450, 'najmi': 8815, 'ismail': 7115, 'shorten': 11799, 'prematurely': 10108, 'naor': 8836, 'preferred': 10099, 'plauging': 9886, 'lmaooo': 7834, 'perfection': 9710, 'clarity': 2911, 'detect': 4019, 'poffers': 9947, 'gtr': 6103, '135': 121, 'now': 9084, 'doesn': 4301, 'frederik': 5581, 'vestre': 13956, 'silly': 11886, 'childish': 2818, 'european': 4872, '6800xt': 681, '3000': 394, 'smat': 12063, 'matthew': 8231, 'jenkinson': 7222, 'misunderstood': 8522, 'ofc': 9197, 'checks': 2787, 'bussiness': 2480, '55': 590, 'os11': 9368, 'docking': 4286, 'angled': 1334, 'drawing': 4409, '10gbe': 53, 'mled': 8539, 'efficiency': 4617, 'inefficient': 6883, 'blinding': 2136, 'mleds': 8540, 'transmissive': 13430, 'uled': 13616, 'emissive': 4703, 'backlighting': 1763, 'polarizer': 9965, 'blocks': 2150, '40': 489, 'displaying': 4223, 'electrical': 4653, 'traces': 13379, 'structures': 12580, 'contain': 3297, 'lcds': 7625, 'block': 2146, 'density': 3950, 'oherwise': 9225, '65': 661, '54': 587, 'generated': 5804, 'visible': 14022, 'organic': 9354, 'molecules': 8590, 'septilex': 11629, 'witb': 14408, 'ace': 941, 'uk': 13614, 'hv': 6619, 'angelo': 1331, 'spreading': 12348, 'altered': 1246, 'carbon': 2604, 'cancelled': 2562, 'sci': 11464, 'fi': 5267, 'lived': 7820, '300gb': 399, '670gb': 678, 'transitions': 13424, 'slaphash': 11997, 'hmmmm': 6460, 'heaven': 6342, '48': 529, 'l2': 7516, 'l1': 7515, 'adaptative': 990, 'harsh': 6255, 'jittering': 7251, 'scrolling': 11506, 'se1': 11518, 'razer': 10596, 'shots': 11806, 'jackalope': 7165, 'defcon': 3870, 'tis': 13266, 'pikachu': 9813, '499': 537, 'nailed': 8811, 'doomeddior': 4338, 'thennnnn': 13089, 'furnished': 5673, 'abrasive': 885, 'cleaning': 2925, 'mental': 8352, 'comet': 3066, 'scotchbrite': 11477, 'electronics': 4658, 'necessitate': 8878, 'warning': 14162, 'aqueous': 1467, 'soothing': 12190, 'arnt': 1517, 'pricey': 10162, 'niyah': 8996, 'vice': 13975, 'versa': 13946, 'arghhh': 1493, 'torturing': 13345, 'shy': 11849, 'ohhh': 9227, 'bluetooth': 2170, 'cringy': 3536, 'hacks': 6168, 'booting': 2230, 'proper': 10287, 'hm': 6455, 'quotations': 10487, 'wars': 14170, '03': 7, 'mr': 8709, 'bean': 1907, 'rod': 11157, 'herzstrom': 6393, 'installing': 6958, 'tons': 13318, 'weekend': 14247, 'intrested': 7031, 'samgsun': 11352, 'washing': 14175, 'fam': 5136, 'pronounce': 10278, 'suppose': 12714, 'algorithm': 1188, 'duty': 4516, 'introduce': 7034, 'shreddin': 11830, 'alternator': 1250, 'despite': 4006, 'noisy': 9017, 'fost': 5537, 'àaaaaaaaaáâæädhudjssjjsjdhs': 14782, 'unsprayed': 13766, 'jamie': 7186, 'skelin': 11961, 'rates': 10577, '3ghz': 478, 'accepted': 908, 'celebrity': 2691, 'status': 12449, 'friendly': 5613, 'personable': 9746, '000mah': 3, 'erickbooster1': 4832, 'thetruekingofspace': 13108, 'virgin': 14008, 'unoriginal': 13745, 'overrated': 9463, 'infancy': 6892, 'reflective': 10744, 'rt': 11224, 'processes': 10215, 'pressure': 10136, 'yellow': 14663, 'basket': 1868, 'marques': 8165, 'rant': 10558, 'hatred': 6276, '144': 132, 'hz': 6639, '1080': 41, 'hd': 6294, 'theres': 13099, 'moss': 8672, 'astro': 1614, 'customised': 3638, 'contradicts': 3321, 'pushy': 10417, 'plzzzzzz': 9940, 'nanometres': 8834, 'memeing': 8344, '512g': 578, '10900k': 46, 'overclocking': 9436, 'potentials': 10035, 'ew': 4911, 'locally': 7855, 'traditional': 13398, 'weary': 14228, 'remembering': 10835, 'headache': 6302, 'powerpc': 10052, 'numerous': 9104, 'recover': 10696, 'sysadmin': 12832, 'unix': 13725, 'differently': 4102, 'efficiently': 4619, 'applecare': 1433, 'pycharm': 10429, 'minimized': 8483, 'excel': 4930, 'upwards': 13824, 'kicked': 7403, 'smooth': 12079, 'lagged': 7540, 'computationally': 3185, 'aggressive': 1109, 'walking': 14126, 'lowest': 7947, 'strongly': 12579, 'book': 2219, 'compiled': 3147, 'increases': 6849, 'purchasing': 10396, 'clarify': 2910, 'ayush': 1736, 'admitted': 1031, 'manner': 8123, 'ish': 7108, 'warm': 14157, 'theyd': 13112, '5333mhz': 585, '11th': 90, 'bots': 2253, 'headbanger': 6305, 'dint': 4139, 'diference': 4094, 'wwii': 14544, '16mb': 182, '8mb': 773, 'flat': 5386, 'breaks': 2321, 'rear': 10643, 'sensor': 11613, 'correcting': 3403, 'errors': 4839, 'construction': 3283, 'housing': 6551, 'sensors': 11615, 'clearer': 2930, 'ps6': 10340, 'ducko': 4466, 'off': 9199, 'zack': 14734, 'snyder': 12115, 'justice': 7331, 'raise': 10528, 'straps': 12541, 'backup': 1769, 'sickoprime': 11854, 'leaks': 7639, '26th': 345, 'agent': 1106, 'hacked': 6162, 'ramsey': 10545, 'chong': 2844, 'litteraly': 7816, 'reaches': 10609, 'amshit': 1297, 'm8': 8020, 'headline': 6308, 'brainer': 2295, 'm1x': 8012, 'youdrongo': 14699, 'asked': 1568, 'ps5s': 10338, 'riceeater79': 11058, 'explained': 5011, 'ing': 6913, 'preorder': 10112, 'wisely': 14399, 'drains': 4397, 'grew': 6074, 'jedbullet': 7214, 'alphacoders': 1236, 'requieres': 10906, 'gather': 5764, 'advance': 1051, 'capacity': 2585, 'distinguish': 4242, 'reviewing': 11029, 'samuel': 11360, 'maier': 8068, 'álex': 14783, 'mitchell': 8523, 'captcha': 2595, 'responsible': 10961, 'dream': 4416, 'earn': 4547, 'djsheehey': 4267, 'qeust': 10436, 'leaving': 7653, 'same': 11348, '2400mhz': 318, 'duh': 4479, 'plot': 9923, 'twist': 13568, 'sentient': 11618, 'cracked': 3472, 'usable': 13835, 'warzone': 14171, '32ram': 431, 'draws': 4412, 'kratos': 7485, 'lucky': 7976, 'younger': 14702, 'ive': 7158, 'realized': 10633, 'sometime': 12164, 'ali': 1193, 'hadi': 6170, 'babar': 1747, 'doom': 4337, 'eternal': 4862, 'quit': 10482, 'checkpoint': 2785, 'invites': 7063, 'surfing': 12733, 'noob': 9036, 'gaspirilla': 5759, 'situation': 11948, 'decibal': 3835, 'blessing': 2130, 'disseminated': 4234, 'shouting': 11811, 'squeaking': 12369, 'clothes': 2964, 'beatsaber': 1918, 'expert': 5003, '185': 199, 'pi': 9791, 'activities': 974, 'mb7': 8251, 'cherry': 2804, 'blossom': 2158, 'ottom': 9382, 'adobe': 1035, 'atleast': 1629, 'i5s': 6645, 'shitzozer': 11772, 'juice': 7311, 'enterprise': 4792, 'sucking': 12653, 'survive': 12750, '65w': 663, 'ifs': 6692, 'buts': 2484, 'vd': 13913, 'more': 8646, 'spitting': 12311, 'lies': 7738, 'framerates': 5558, 'wayyy': 14209, '299': 367, 'koen': 7475, 'ouwehand': 9426, 'surprisingly': 12746, 'mastery': 8201, 'managing': 8109, 'renewed': 10858, 'relevant': 10808, 'tubers': 13528, 'entitlements': 4802, 'levine': 7712, 'personality': 9748, 'hecking': 6349, 'consolerino': 3273, 'panelerinos': 9546, 'snoys': 12114, 'patethic': 9628, 'jenny': 7223, 'harrison': 6253, 'lane': 7558, 'revere': 11022, 'watchface': 14191, 'combo': 3056, 'stolen': 12503, 'lippy': 7798, 'jimmy': 7246, 'retarded': 10986, 'multithousand': 8752, 'dollar': 4314, 'tue': 13530, 'compating': 3127, 'voth': 14069, 'delete': 3904, 'reinstall': 10784, 'anime': 1344, 'girls': 5887, 'jokes': 7276, 'tets': 13032, 'enviroment': 4808, 'tens': 12997, 'messenger': 8376, 'trello': 13451, 'brainwashed': 2298, 'allergic': 1208, 'impatient': 6776, 'dms': 4277, 'uiui': 13613, 'independent': 6860, 'toys': 13373, 'cringey': 3535, 'explains': 5013, 'appropriate': 1450, 'junior': 7323, 'ingaven': 6914, 'management': 8105, 'ps4s': 10335, 'loud': 7930, 'gigantic': 5869, 'heatsink': 6340, 'algorithms': 1190, 'implementing': 6784, 'sweet': 12790, 'safety': 11324, 'round': 11204, 'balaram': 1795, 'chakrabarty': 2732, 'blame': 2110, 'anemic': 1328, 'updated': 13793, 'sanket': 11373, 'baviskar': 1890, 'goats': 5944, 'sheeps': 11722, 'quotation': 10486, 'marks': 8162, 'spanish': 12234, 'spelled': 12276, 'versus': 13951, 'username': 13848, 'jak': 7180, 'carn': 2631, 'sarah': 11379, 'butt': 2485, '3070': 405, 'zhc': 14757, 'concerns': 3199, 'silent': 11880, 'initial': 6919, 'buzzing': 2498, 'irritating': 7101, 'bans': 1825, 'raph': 10560, 'endorsement': 4754, 'xx': 14625, 'utilise': 13858, 'swapfile': 12772, 'jumping': 7318, 'ellis': 4674, 'cutest': 3654, 'fcuking': 5210, 'longevity': 7887, 'busy': 2482, 'deteriorates': 4024, 'oct': 9179, 'souljia': 12204, 'podcast': 9945, 'communion': 3097, 'do': 4280, 'advice': 1067, 'favor': 5193, 'noctoua': 9005, 'lite': 7811, 'misses': 8511, 'embarrassing': 4695, 'persists': 9743, 'sit': 11940, 'commentsection': 3087, 'fanbois': 5145, 'finish': 5328, 'dramatic': 4400, 'magera': 8053, 'boat': 2183, 'via': 13962, 'endorse': 4753, 'durable': 4503, 'tab': 12841, 'bigfoot': 2044, '1799': 191, 'drones': 4443, 'pressing': 10135, 'arrrive': 1535, '01': 4, '42': 506, 'donut': 4333, 'cast': 2651, 'cryin': 3579, 'insecure': 6939, 'attack': 1642, '_dwhwahpzgs': 830, 'sponsers': 12327, 'extreme': 5057, 'updrades': 13796, 'ar50': 1470, 'diluc': 4126, 'failing': 5108, 'bent': 1999, 'inconsistently': 6841, 'delicate': 3908, 'batch': 1874, 'batteries': 1883, 'youd': 14698, 'corners': 3393, 'manufacturers': 8132, 'sending': 11604, 'springing': 12351, 'backfiring': 1756, 'expandable': 4980, '980': 814, 'capable': 2582, 'route': 11208, 'advertised': 1062, 'drives': 4440, 'bait': 1788, 'breathtaking': 2325, 'doughnuts': 4363, 'asian': 1561, 'gulf': 6127, 'rolls': 11174, 'min': 8466, 'swings': 12801, 'adan': 988, 'mash': 8180, 'breaker': 2317, 'advertises': 1065, 'sakes': 11336, 'ton': 13310, 'releases': 10805, 'reflects': 10745, 'bluish': 2171, 'hues': 6581, '3380m': 435, 'intle': 7028, '4000': 491, 'cyberpunk': 3667, '2077': 267, 'spinoff': 12304, 'events': 4884, 'beard': 1909, 'alien': 1196, 'body': 2188, 'clasic': 2913, 'intels': 6981, 'competent': 3136, 'overthrow': 9469, 'leader': 7628, 'kaj': 7346, 'failed': 5107, 'trend': 13453, 'breeding': 2328, 'inches': 6821, 'darn': 3739, '2800': 355, 'optimization': 9333, 'nvm': 9111, 'honna': 6505, 'morals': 8643, 'outfit': 9398, 'convenience': 3337, 'chair': 2731, '1440p120': 135, 'that': 13060, 'gap': 5745, 'apparent': 1422, 'optimize': 9335, 'harnessed': 6252, 'mortal': 8663, 'postioned': 10026, 'citation': 2893, 'tasteless': 12909, 'counter': 3435, 'intuitive': 7041, 'resistant': 10936, 'bribery': 2339, 'sea': 11520, 'thieves': 13122, 'gears': 5784, 'ect': 4577, 'liking': 7767, 'harvested': 6257, 'preording': 10115, 'carter': 2643, 'schmidt': 11456, 'prefers': 10101, 'sharing': 11704, 'vita': 14033, 'godly': 5955, 'empy': 4722, 'nationality': 8848, 'moments': 8594, 'remind': 10837, 'xiaomify': 14606, 'hang': 6222, 'virtually': 14015, 'operations': 9309, 'cached': 2517, 'evicted': 4903, 'roseanna': 11188, 'menacingly': 8350, 'jar100': 7193, 'misleading': 8507, 'volumes': 14064, 'sufficient': 12666, '2gb': 375, 'instance': 6960, 'ide': 6667, 'nodejs': 9009, 'volume': 14063, 'database': 3745, 'and': 1314, 'or': 9343, 'microservice': 8429, 'bare': 1835, 'consuming': 3293, 'killed': 7414, 'addicting': 1002, 'wud': 14537, 'stcikering': 12455, 'tat': 12910, 'physical': 9787, 'smarter': 12054, 'split': 12315, 'ee': 4606, 'legends': 7666, 'carnivorous': 2634, 'food': 5466, '3pm': 481, 'sheldon': 11726, 'cooper': 3366, 'monaco': 8602, 'rawe': 10588, 'vote': 14067, '2025': 259, '2026': 260, 'sheer': 11723, 'offerings': 9206, 'disqualifies': 4227, 'scratch': 11483, 'ross': 11193, 'breeze': 2329, 'fairly': 5115, 'convincing': 3349, 'child': 2815, 'method': 8390, 'beginner': 1952, 'cessnafun': 2720, 'thinks': 13135, 'lopsided': 7916, 'adapting': 993, 'sensitive': 11611, 'pas': 9603, 'literal': 7812, 'false': 5132, 'sleek': 12004, 'allows': 1221, 'plate': 9878, 'aa': 850, 'letdown': 7698, 'costing': 3418, 'boom': 2221, 'vents': 13932, 'temperatures': 12979, 'substantially': 12638, 'vent': 13931, 'debunk': 3822, 'shapes': 11700, 'leading': 7630, 'typing': 13583, 'statement': 12435, 'differ': 4096, 'erikask': 4835, 'assessment': 1588, 'benchmark': 1988, 'educate': 4602, 'unity': 13719, 'smartwatch': 12058, 'payment': 9655, 'sp': 12223, 'lowering': 7946, 'propaganda': 10286, 'approved': 1453, 'spy': 12360, 'businesses': 2479, 'approval': 1451, 'obtained': 9154, 'manufactured': 8130, 'consent': 3255, 'convince': 3347, 'scammed': 11438, 'exploited': 5021, 'corporation': 3398, 'surveillance': 12749, 'capitalism': 2588, 'century': 2714, 'milgram': 8455, 'experiment': 5000, 'stockholm': 12498, 'syndrome': 12828, 'spell': 12275, 'nda': 8867, 'cryptic': 3583, 'cryptek': 3582, 'clouds': 2968, 'generally': 5802, 'seven': 11664, '128': 103, 'jeet': 7216, 'functioning': 5661, 'destroying': 4012, 'demonstrates': 3937, 'crucial': 3568, 'vi': 13961, 'floating': 5415, 'unicorn': 13706, 'puked': 10373, 'notify': 9073, 'durring': 4507, 'cloth': 2963, 'provided': 10320, 'sfv': 11678, 'enhancements': 4775, 'sluggish': 12040, 'isaac': 7104, 'johnstone': 7269, 'discord': 4194, 'foljs': 5453, 'wasteful': 14181, 'durability': 4502, '16gbmbp': 175, 'coz': 3464, 'exchange': 4937, '5fthdsmf2c0': 614, 'silence': 11878, 'fanboying': 5147, 'nutshell': 9109, 'extensive': 5046, 'swaps': 12776, 'wirecast': 14389, 'ecamm': 4570, 'johan': 7264, 'aziz': 1741, 'stats': 12448, 'occupied': 9165, 'thrown': 13187, 'becous': 1931, 'sticky': 12485, 'fingers': 5326, 'actualy': 982, 'wane': 14143, 'hears': 6328, 'meow': 8361, 'mrowwww': 8717, 'oops': 9298, 'yeeted': 14658, 'simplistic': 11902, 'badger': 1779, 'peasent': 9679, 'begin': 1951, 'pcmr': 9667, 'funky': 5668, 'mainstream': 8074, 'temp': 12977, 'zzygyy': 14781, 'yong': 14692, 'pop': 9981, 'amoled': 1290, 'pixels': 9847, 'patents': 9627, 'completed': 3158, 'troubles': 13492, 'ha': 6158, 'producing': 10225, 'our': 9388, 'customers': 3632, 'radiator': 10513, 'gotcha': 6002, 'fluffyguy958': 5432, 'aswell': 1620, 'packaging': 9506, 'cardboard': 2608, 'nerdy': 8911, 'compliment': 3167, 'manak': 8110, 'mishra': 8504, 'applicable': 1436, 'relax': 10799, 'oli': 9245, 'pump': 10381, 'blessed': 2127, 'airpods': 1148, 'kinds': 7429, 'chore': 2850, 'consistently': 3268, 'airpod': 1147, 'minus': 8491, 'blips': 2140, 'behave': 1958, 'fans': 5157, 'spinning': 12303, 'beachballs': 1906, 'yahoo': 14632, 'ostin': 9372, 'nahhhhhhhhhhhh': 8808, 'signup': 11877, 'bugs': 2429, 'dravya': 4405, 'mehta': 8335, 'willing': 14366, 'episode': 4816, 'timelines': 13245, '22min': 310, '44min': 520, '8gig': 767, '16gig': 176, 'stacks': 12392, 'loves': 7940, 'remaking': 10827, 'faces': 5087, 'permenantly': 9735, 'greedy': 6066, '6cores': 691, 'greedier': 6065, 'sector': 11551, 'phased': 9767, 'insanely': 6937, 'interacts': 6998, 'reminds': 10840, 'wal': 14122, 'fall': 5125, 'regrets': 10768, '58': 604, 'exaggerated': 4920, 'swagger': 12768, 'turkey': 13543, 'cozy': 3465, 'conversation': 3341, 'roms': 11179, 'unrelated': 13756, 'grateful': 6051, 'tougher': 13359, 'thoughtful': 13157, 'ji9j': 7239, 'jwbgao': 7338, '2s': 386, 'numpy': 9105, 'matplotlib': 8221, 'repository': 10894, 'gimp': 5879, 'mactex': 8045, 'prioritizing': 10184, 'ro': 11129, 'funfact': 5666, 'founded': 5539, 'ex': 4915, 'enginers': 4770, '2003': 234, 'geting': 5838, 'blades': 2107, 'sorcery': 12192, 'roses': 11189, 'halfcooked': 6193, 'shun': 11838, 'plague': 9858, 'powaaah': 10044, 'realised': 10625, 'romeontjuh': 11178, 'increasing': 6850, 'innovation': 6928, 'stops': 12517, 'avatar': 1689, 'feed': 5231, 'henru': 6384, 'plentiful': 9920, 'md': 8276, 'tasdik': 12903, 'bin': 2064, 'yousuf': 14706, 'sabik': 11305, 'asia': 1560, 'happynes': 6239, 'hapines': 6228, 'scalpersalwayswins': 11434, 'familiar': 5138, 'tidal': 13219, 'heh': 6354, '7th': 738, 'implement': 6780, 'bode': 2187, 'parties': 9594, 'legozfordayz': 7673, 'faceplate': 5085, 'suspect': 12754, 'failure': 5111, 'shout': 11810, 'dudeperfect': 4471, 'wings': 14376, 'cracky': 3477, 'lifts': 7749, 'patrick': 9638, 'sperm': 12282, 'sameeee': 11350, 'whens': 14294, 'reiley': 10780, 'bath': 1878, 'burger': 2461, 'pum': 10380, 'beaten': 1915, 'ludo': 7979, 'fancy': 5151, 'hideous': 6415, 'tuck': 13529, 'couch': 3427, 'moreover': 8648, 'comeback': 3059, 'foundries': 5542, 'thus': 13209, 'badly': 1780, 'raising': 10531, 'ouch': 9384, 'accessories': 916, 'suite': 12678, 'officially': 9212, 'ph': 9764, 'pairing': 9533, 'million': 8462, 'shares': 11703, 'heights': 6360, 'noice': 9014, 'square': 12366, 'wheres': 14296, 'ruler': 11245, 'opens': 9304, 'flexiblebanana': 5400, 'waits': 14117, 'gentlemen': 5823, 'revive': 11038, 'ant': 1372, 'xgpu': 14601, 'study': 12593, '86': 751, 'quicky': 10476, 'derek': 3972, 'turnquist': 13550, 'freaking': 5580, 'colorfit': 3039, 'bt': 2408, 'outlets': 9401, 'outlet': 9400, 'ngl': 8948, 'flimzy': 5408, 'autocorrect': 1676, 'wrap': 14511, '1500': 146, 'tax': 12913, 'inclusive': 6829, 'xmas': 14609, 'maintain': 8075, 'momentum': 8595, 'sol': 12140, 'transition': 13422, 'brsnd': 2392, 'heyitsfinn': 6405, 'headstrap': 6316, 'cropper': 3555, '119': 82, 'john': 7265, 'lewis': 7717, 'collected': 3026, 'refunded': 10752, 'quibble': 10471, 'downgraded': 4370, 'catchup': 2666, 'apples': 1435, 'attached': 1638, 'wirelyess': 14394, 'complaining': 3152, 'anthodydoes': 1375, 'cancled': 2565, 'engineers': 4769, 'turboboost': 13540, '56': 594, 'analyst': 1306, 'occurred': 9166, '1190k': 85, 'exceeded': 4929, '290watts': 362, 'gasps': 5760, 'shocks': 11781, 'isolation': 7120, 'within': 14416, 'st': 12383, 'psycho': 10358, 'letter': 7702, 'w4tf6naquhe': 14097, 'macpad': 8040, 'sponge': 12325, 'wack': 14102, 'probaly': 10200, 'item': 7139, 'embrace': 4699, 'weeb': 14243, 'mario': 8153, 'flow': 5425, 'kidney': 7410, 'skyper': 11990, 'gudesterguy': 6115, 'scp': 11479, 'toolkit': 13325, 'assuming': 1606, 'adorable': 1041, 'infectious': 6893, 'excitement': 4940, '2030': 262, 'civilization': 2897, 'wiped': 14384, 'blake': 2109, 'hemphill': 6382, 'vlogs': 14047, 'neighbor': 8900, 'extras': 5056, 'becuz': 1934, 'saturday': 11400, 'finding': 5317, 'hire': 6440, 'length': 7679, 'demanded': 3922, 'regret': 10767, 'paying': 9654, 'peasants': 9678, 'subhuman': 12619, 'scum': 11511, 'itech': 7136, 'xboxb': 14579, 'cooled': 3358, 'yagami': 14629, 'blackout': 2104, 'tgem': 13043, 'thr': 13161, 'chargers': 2760, 'hearong': 6327, 'generations': 5808, 'addons': 1012, 'gamechanger': 5722, 'lung': 7994, 'mabye': 8024, 'slap': 11996, 'backwords': 1773, 'brings': 2358, 'comparative': 3111, 'daan': 3687, 'holland': 6477, 'refused': 10756, 'devon': 4052, 'moot': 8638, 'billions': 2058, 'appealing': 1425, 'fyi': 5692, 'utilized': 13863, 'lingo': 7784, 'humming': 6596, '1g': 212, 'duration': 4504, 'sn11': 12089, 'launching': 7607, 'reserving': 10928, '5gb': 616, 'bracelet': 2288, 'um': 13628, 'digging': 4116, 'digs': 4121, 'electric': 4652, 'rack': 10508, 'overtime': 9471, 'positive': 10014, 'coupole': 3446, 'matched_player9k': 8206, 'razorfastclaws': 10598, 'oxing': 9489, 'lools': 7901, 'rushed': 11262, 'helps': 6380, 'netherlands': 8925, 'it': 7130, 'dinner': 4138, 'tracker': 13383, 'regards': 10764, 'troy': 13497, 'jackson': 7169, 'probs': 10205, 'skynut': 11988, 'quazzi': 10457, 'qr': 10442, 'eliminates': 4669, 'menus': 8360, 'checkpoints': 2786, '2014': 249, 'struggles': 12583, 'optane': 9322, 'rush': 11261, 'whose': 14336, 'coca': 2995, 'cola': 3019, 'touches': 13354, 'push': 10413, 'qhd': 10437, 'further': 5677, 'euro': 4870, 'troll': 13486, 'bambooze': 1802, 'anti': 1381, 'ak': 1157, '47': 527, 'pounding': 10039, 'abby': 871, 'squishy': 12378, 'simulate': 11908, 'poosi': 9980, 'chess': 2805, '2016': 251, 'walmart': 14138, 'shiping': 11753, 'category': 2667, 'git': 5890, 'what': 14279, 'morning': 8652, 'refreshed': 10747, 'margin': 8147, 'remaster': 10830, 'blindfolded': 2135, 'wished': 14403, 'time_yt': 13241, 'picometers': 9800, 'climb': 2943, 'trapped': 13435, 'malaysia': 8095, 'sweeping': 12789, 'blindly': 2138, 'favts': 5200, 'n64': 8797, 'tqlk': 13376, 'fangirl': 5152, 'redacted': 10703, 'algorythm': 1192, 'do3s': 4281, 'picked': 9795, 'starbright': 12415, 'segue': 11573, 'hawt': 6286, 'lmfao': 7837, 'analyze': 1308, 'interpret': 7016, 'manufacturer': 8131, 'choices': 2839, 'proves': 10318, 'cmon': 2982, 'ages': 1107, 'dk2': 4270, 'difficulties': 4106, 'drift': 4425, 'scummy': 11512, 'sponsored': 12329, 'vested': 13955, 'equally': 4821, 'discernable': 4183, 'credibility': 3513, 'stake': 12398, 'unsubstantiated': 13772, 'lines': 7781, 'ltts': 7964, 'particularly': 9593, 'brilliant': 2354, 'lover': 7938, 'opinión': 9312, 'ppls': 10059, 'opinions': 9311, 'variable': 13898, 'teraflops': 13005, 'capabilities': 2580, 'transfer': 13412, 'touchpad': 13356, 'clickbait': 2935, 'mortak': 8662, 'kombat': 7477, 'inspiration': 6949, 'robot': 11145, 'replacements': 10880, 'recalled': 10658, 'billion': 2057, 'susspost': 12758, 'materials': 8212, 'clone': 2954, 'buffer': 2421, 'race': 10504, 'comparable': 3109, 'coders': 3001, 'wallpapers': 14136, 'enjoying': 4779, 'kevin': 7388, 'alonso': 1232, 'learnt': 7647, 'truly': 13506, 'lewlater': 7718, 'gone': 5976, 'satisfied': 11392, 'baits': 1790, 'blabbing': 2098, 'pronounciation': 10280, 'originally': 9364, 'loaned': 7852, 'calculator': 2527, 'hoang': 6463, 'proven': 10317, 'arguments': 1500, 'ignored': 6699, 'throwing': 13186, 'exceed': 4928, 'segments': 11572, 'physics': 9789, 'valid': 13883, 'houssam': 6552, 'alucad': 1255, 'pagefiles': 9517, 'from': 5618, 'mechanism': 8307, 'heatset': 6338, 'moding': 8575, 'watercooling': 14197, 'photoshopped': 9783, 'patience': 9633, 'microphone': 8425, 'whilst': 14305, 'facepalm': 5084, 'circle': 2881, 'doe': 4296, 'tinyurl': 13258, 'yb9l5ww6': 14642, '5700': 599, 'xt': 14621, 'compute': 3187, 'photozoom': 9784, 'miracles': 8494, 'potentially': 10034, 'complicated': 3164, 'roughly': 11202, 'disadvantages': 4162, 'computing': 3190, 'workstations': 14482, 'freelancers': 5588, 'generous': 5811, 'destroys': 4013, 'highest': 6420, 'mbps': 8261, '_muts7xvkhq': 832, '2500': 329, 'ultrabook': 13624, 'mpb': 8708, 'notable': 9058, 'exception': 4934, 'various': 13905, 'resolved': 10944, 'visual': 14028, 'artists': 1547, 'reasons': 10648, 'temporary': 12983, 'sensible': 11610, 'brutally': 2402, '69': 684, 'realistically': 10630, 'pixelmator': 9846, 'fefo': 5240, 'fefosa': 5241, 'spoken': 12324, 'pleaseee': 9914, 'unlock': 13736, 'provide': 10319, 'improved': 6802, 'june': 7321, 'dispersion': 4220, 'regarding': 10762, 'felt': 5246, 'describe': 3980, 'described': 3981, 'africa': 1093, 'atoq': 1633, 'fawn': 5201, 'nerds': 8910, 'crunchy': 3573, 'crunching': 3572, 'reminder': 10839, 'patched': 9624, 'patch': 9623, 'landscape': 7556, 'truely': 13505, 'adaptive': 995, 'seal': 11521, '8gm': 769, 'furthermore': 5678, 'consists': 3269, 'modules': 8579, 'complied': 3165, 'cienma': 2873, 'hooked': 6512, 'fits': 5355, 'requirements': 10910, 'just': 7329, 'frosted': 5623, 'huawei': 6575, 'p40': 9496, 'dbz': 3788, 'mighty': 8443, 'pcbest': 9662, 'xboxes': 14581, 'suspended': 12756, 'extraordinarily': 5055, '1tb': 226, 'powerhouse': 10049, 'minis': 8486, 'existing': 4965, 'putumee135': 10423, 'cheaply': 2775, 'att': 1635, 'minds': 8471, 'tragedy': 13400, 'toaster': 13288, 'trading': 13397, 'likd': 7759, 'frank': 5569, 'gambling': 5720, 'klaxoncow': 7448, 'bottom': 2260, 'suyash': 12762, 'sherwal': 11736, '1000aed': 24, 'chores': 2851, 'ben': 1986, 'fontana': 5465, 'nahhh': 8807, 'reuploaded': 11008, 'bb': 1895, 'brooo': 2378, 'thiz': 13144, 'fkin': 5364, 'waill': 14111, 'babyyyyy': 1751, 'concreat': 3206, 'rly': 11124, 'cannibalize': 2570, 'fellas': 5244, 'drawn': 4411, 'typinttttgg': 13584, 'ocuus': 9189, 'usinh': 13852, 'kingphiltheill': 7433, 'divide': 4258, 'conquer': 3250, 'wrel': 14519, 'rel': 10788, 'probbaly': 10201, 'basement': 1856, 'depressed': 3967, 'santa': 11375, 'itx': 7151, '2070': 266, 'worlds': 14484, 'receive': 10661, 'trolls': 13489, 'blocked': 2147, 'aqua': 1464, 'gamepro': 5728, 'pissed': 9838, 'craigslist': 3478, 'unable': 13636, 'hide': 6414, 'gun': 6128, 'woudbe': 14501, 'dislikes': 4214, 'fook': 5468, 'competitors': 3143, 'crapbox': 3482, 'mutiple': 8784, 'query': 10460, 'borrow': 2242, 'driv3r': 4434, 'additionally': 1008, 'oastler': 9126, 'mood': 8632, 'xperia': 14614, 'xa1': 14562, '2300mha': 314, 'ar': 1469, 'terrific': 13016, 'silently': 11881, 'passing': 9610, 'riley': 11095, 'hyperness': 6631, 'douchebaggery': 4362, 'genuinely': 5826, 'mahmoud': 8066, 'elgendy': 4665, 'emoji': 4707, 'laughed': 7599, 'manic': 8116, 'priceless': 10157, 'ginormous': 5882, 'rift0tripper': 11082, 'voted': 14068, 'biden': 2042, 'unbiased': 13647, '675': 679, 'precise': 10083, 'swabey': 12764, 'multicore': 8738, 'solve': 12151, 'interconnect': 6999, 'improvements': 6804, 'occurs': 9168, 'interconnected': 7000, 'fanbiys': 5144, 'qll': 10441, 'defensive': 3880, 'apc': 1410, 'regard': 10761, 'offical': 9208, 'pumped': 10382, 'minimalistic': 8482, 'ori': 9359, 'rock': 11147, 'vyse': 14095, 'arcadia': 1477, 'ihavereddit': 6705, 'caleb': 2528, 'gao': 5743, 'sweat': 12781, 'statements': 12436, 'revision': 11033, 'quest2': 10462, 'verticalstrafes': 13954, 'territory': 13018, 'victories': 13977, 'thai': 13047, '1k': 217, '11400f': 72, 'aford': 1090, 'athlon64': 1627, 'standby': 12409, 'hesitated': 6397, 'fearing': 5215, 'followers': 5458, 'subject': 12620, 'deleted': 3905, 'excuse': 4950, 'restrictions': 10974, '9r': 827, 'chage': 2728, 'rubbing': 11231, 'alcohol': 1171, 'resale': 10916, 'exclude': 4942, 'ik': 6716, 'spatula': 12239, 'sequels': 11632, 'follow': 5456, 'mercy': 8365, 'underpowered': 13673, 'marston': 8172, 'wdym': 14214, 'thugs': 13193, '2k': 379, 'resuming': 10980, 'faceook': 5083, 'emitting': 4704, 'benefits': 1996, 'admittedly': 1032, 'masses': 8186, 'micro': 8419, 'topple': 13336, 'freeing': 5587, 'kina': 7424, 'owning': 9485, 'stickiness': 12482, 'textures': 13037, 'nerkmemer': 8914, 'boutta': 2271, 'speefteef': 12274, 'dammm': 3705, 'welp': 14265, 'compassion': 3121, 'leaking': 7638, 'static': 12438, 'bjornberg': 2094, 'shrug': 11835, 'japanese': 7191, 'globe': 5921, 'cook': 3353, 'steak': 12457, 'whooo': 14331, 'duck': 4465, 'nahhhhhhhhhhhhhhhhhh': 8809, 'noticeable': 9067, 'disinterest': 4209, 'tooths': 13330, 'yellower': 14664, 'tholen': 13147, 'gradually': 6027, 'gr': 6015, 'breakpoint': 2320, 'anniversary': 1349, 'dogs': 4306, 'wildlands': 14363, 'shadow': 11683, 'reasonably': 10646, 'shortly': 11804, 'division': 4261, 'discounted': 4196, 'conviction': 3346, 'buck': 2412, 'cd': 2683, 'destiny': 4007, 'mass': 8185, 'fallout': 5129, 'vegas': 13921, 'markel': 8155, 'morin': 8651, 'welll': 14264, 'beholder': 1963, 'lady': 7537, 'playroom': 9899, 'playground': 9896, 'hook': 6511, 'oi': 9228, 'cal': 2522, 'cringe': 3532, 'subjective': 12621, 'feelings': 5236, 'individuals': 6875, 'dilemma': 4123, 'abandoning': 868, 'nervous': 8915, 'pulled': 10375, 'religious': 10814, 'pirates': 9836, 'caribbean': 2624, 'davy': 3771, 'jones': 7284, 'aye': 1734, 'tricky': 13466, 'transistor': 13419, 'department': 3954, 'frequencies': 5598, 'ookkk': 9290, 'between': 2021, 'dates': 3751, 'cam': 2542, 'jacob': 7170, 'waters': 14200, 'express': 5038, 'dig': 4109, 'jaxaboi': 7202, 'backward': 1771, 'kudos': 7495, 'separate': 11621, 'reign': 10779, 'remains': 10825, 'otherewise': 9378, 'kepping': 7380, 'aspect': 1577, 'practical': 10063, 'implementation': 6781, 'pain': 9522, 'productive': 10230, 'francisco': 5567, 'farias': 5166, 'inform': 6903, 'incentive': 6818, 'compelling': 3129, 'cuda': 3597, 'eevee': 4609, 'cycles': 3670, 'sli': 12011, 'degree': 3895, 'sharpest': 11708, 'stole': 12502, 'pricing': 10164, 'fifteen': 5277, 'city': 2895, 'joels': 7261, 'skull': 11983, 'moose': 8637, 'sponsors': 12330, 'donaldo': 4326, 'martinez': 8174, 'monthly': 8629, 'rescue': 10917, 'misha': 8503, 'bywcfvoy3p8': 2507, '8ebnt3imavi': 760, 'grabembythejoystick': 6019, 'tight': 13228, 'deleting': 3906, 'camp': 2551, 'tag': 12853, 'somanyscientists': 12154, 'recoded': 10677, 'johnny': 7267, 'ryepop': 11277, 'stray': 12545, 'gifting': 5862, 'mehdi': 8331, 'ventus': 13934, 'binned': 2069, 'oriented': 9361, '3060': 403, 'tightly': 13232, 'voltages': 14062, 'aib': 1133, 'overclock': 9433, 'appreciated': 1446, 'placeholder': 9854, '17th': 192, 'that1nekid': 13061, 'simping': 11897, 'bark': 1842, 'firmly': 5342, 'curb': 3611, 'stomps': 12508, 'laughter': 7602, 'robinsons': 11141, 'journey': 7294, 'ubisoft': 13593, 'launches': 7606, 'blood': 2154, 'customise': 3637, 'scene': 11451, 'concept': 3195, 'linters': 7791, 'figma': 5286, 'parallel': 9569, 'natpex': 8852, 'rebuy': 10655, 'vihara2': 13997, 'pollopescetarian': 9972, 'keto': 7387, 'mediterranean': 8320, 'diet': 4093, 'olive': 9246, 'oil': 9229, 'godsend': 5958, 'torres': 13342, 'economy': 4575, 'ahahaha': 1121, 'dvd': 4517, 'lay': 7614, 'battle': 1885, 'crush': 3574, '11400': 71, 'priceworthy': 10161, 'intelmasterrace': 6980, 'any': 1392, 'riker': 11094, 'picard': 9793, 'gay': 5773, 'porche': 9991, 'civic': 2896, '4x': 560, 'tormented': 13339, 'strand': 12533, 'xaomi': 14567, 'awsome': 1723, 'insult': 6969, 'mindlessly': 8470, 'swiping': 12803, 'urs': 13831, 'flamethrower': 5377, 'colours': 3046, 'grey': 6075, '16bg': 171, 'education': 4604, 'am_yeff': 1261, 'teamlakers2': 12935, 'marlowe': 8164, 'woodring': 14447, 'mas': 8178, 'asome': 1575, 'wirelesss': 14393, 'saddly': 11315, 'bocw': 2186, 'adding': 1005, 'oj': 9231, '206': 264, 'clipclaps': 2945, 'h5': 6157, 'cc': 2682, 'lerjin': 7687, 'fission': 5351, 'clapcode': 2906, '3141318893': 420, 'actid': 964, '9fc1aabadc7c4ed7b392a9f188670d4d2011': 823, 'shop': 11789, 'iam': 6650, 'kochi': 7473, 'kerala': 7382, 'hangover': 6224, 'retry': 11002, 'covid19': 3461, 'coronavirus': 3395, 'lockdown': 7860, 'sars': 11385, 'circumstances': 2888, '2023': 258, 'paintball': 9526, 'royale': 11215, 'dodgeball': 4294, 'soccer': 12121, 'unclear': 13658, 'happened': 6231, 'bezels': 2027, 'bump': 2450, 'dnbmania': 4278, 'focused': 5445, 'masterstroke': 8199, 'capped': 2590, 'raytracingand': 10593, 'surreal': 12747, '200k': 242, 'views': 13993, 'proxy': 10327, '10b': 48, 'h4': 6154, 'suffering': 12663, 'inaccurate': 6811, 'infrared': 6910, 'dawid': 3774, 'winkler': 14378, 'extension': 5044, 'namika': 8825, 'heavily': 6345, 'miyazakis': 8529, 'gem': 5792, 'former': 5518, 'gosh': 5998, 'secret': 11545, 'dangerous': 3721, 'idnt': 6684, 'darker': 3734, 'preference': 10097, 'combos': 3057, 'claim': 2900, 'ticket': 13217, 'mc': 8262, 'supply': 12707, '5600': 595, '5800': 605, 'chosen': 2853, 'occulus': 9164, 'noooo': 9038, 'source': 12213, 'inkscape': 6923, 'printer': 10178, 'slicer': 12013, 'coffin': 3010, 'implying': 6786, '537': 586, '243': 320, '09': 14, 'might_8333': 8442, 'replied': 10886, 'paired': 9532, '7ghz': 734, 'addressing': 1015, 'websites': 14240, 'userbenchmark': 13847, 'promotion': 10271, 'unsubscribed': 13770, 'vrchat': 14081, 'pour': 10041, '137': 122, 'ani': 1338, 'hajderaj': 6191, '9000': 786, 'playin': 9897, 'evolved': 4909, 'deliberate': 3907, 'ignorent': 6700, 'acceptable': 907, 'objective': 9136, 'trophy': 13490, 'feather': 5218, 'affordable': 1088, 'bang': 1817, 'sakai': 11334, 'mongolian': 8608, 'wolfsbane': 14432, 'upset': 13820, 'foundrys': 5544, 'framerate': 5557, 'tearing': 12939, 'skyrim': 11991, 'nam': 8817, 'nguyen': 8949, 'ungodly': 13700, 'pointed': 9954, 'vmware': 14052, '3900x': 469, 'primary': 10171, 'fuking': 5647, 'sous': 12218, 'lmg': 7841, 'contest': 3307, 'seventh': 11666, 'powerfull': 10048, 'eight': 4643, 'considered': 3263, 'dear': 3810, 'noy': 9087, 'gaurd': 5770, 'zoned': 14768, 'admire': 1027, '144hz': 137, 'norm': 9046, 'incase': 6817, 'oooof': 9296, 'rediculous': 10713, 'detection': 4021, 'vibrating': 13970, 'knowingly': 7464, 'lied': 7736, 'poutine': 10042, 'private': 10190, 'funtime': 5671, 'foxy': 5549, 'plush': 9934, 'adventures': 1058, 'v1': 13871, 'achyut': 951, 'dwivedi': 4523, 'vanilla': 13894, 'baffles': 1783, 'boutique': 2270, 'premium': 10111, 'ideal': 6669, 'scare': 11443, 'zooms': 14774, '46': 524, 'itsmeft24': 7147, 'proportions': 10291, 'preferring': 10100, 'hackintosh': 6167, 'cousin': 3451, 'retraction': 10998, 'bogus': 2195, 'faulting': 5187, 'truck': 13500, 'faults': 5188, 'misguided': 8502, 'rubbish': 11232, 'grinds': 6080, 'crawl': 3490, 'fails': 5109, 'heap': 6322, 'gut': 6135, 'allocating': 1214, 'stays': 12454, 'keshav': 7386, 'bansal': 1826, 'mike': 8446, 'wqs': 14508, 'bosses': 2245, 'ego': 4629, 'peasant': 9677, 'royal': 11214, 'supersaf': 12703, 'lauch': 7596, 'folks': 5454, 'specilially': 12261, 'jk': 7253, 'hq': 6562, 'japan': 7190, 'documentation': 4290, 'practices': 10067, 'protips': 10309, 'flourish': 5424, '5min': 623, 'metric': 8392, 'voids': 14058, 'fugaku': 5643, '442': 517, 'petaflop': 9757, 'supercomputer': 12697, 'glorified': 5923, 'pronounced': 10279, 'widgets': 14352, 'merge': 8367, 'output': 9409, 'mirror': 8496, 'improving': 6806, 'manager': 8106, 'offering': 9205, 'filesystems': 5297, 'consolidate': 3275, 'pen': 9685, 'scattered': 11448, 'topic': 13332, 'flakey': 5374, 'o365': 9123, 'docs': 4287, 'tray': 13443, 'toddler': 13293, 'clutter': 2980, 'services': 11649, 'aws': 1722, 'sendgrid': 11603, 'sideload': 11859, 'frustrating': 5626, 'synology': 12829, 'dsget': 4459, 'silicone': 11884, 'gimped': 5880, 'flutter': 5437, 'geared': 5782, 'fk97': 5362, 'attractive': 1652, 'steals': 12461, 'jeppemichael': 7226, 'married': 8169, 'contact': 3295, 'mem': 8341, 'disabling': 4160, 'turbo': 13539, 'voltage': 14061, 'cracks': 3476, 'gtx1070': 6107, '2lakhs': 380, 'warframe': 14155, 'expectations': 4986, 'overlook': 9451, 'vibration': 13971, 'reproduce': 10902, 'vibrations': 13972, 'replicating': 10885, 'tenses': 12999, 'hammer': 6202, 'bullet': 2443, 'subscribers': 12633, 'reflect': 10740, 'legitscoper': 7672, 'browsers': 2389, 'optimisation': 9328, 'nomenclaturally': 9021, 'largely': 7569, 'depend': 3958, 'sans': 11374, 'flood': 5418, 'asim': 1565, 'shaiban': 11687, 'saudi': 11402, 'arabia': 1471, 'helping': 6379, '966537403020': 806, 'asimshaiban': 1566, 'rocketmail': 11149, 'tldr': 13277, 'cus': 3629, 'hooking': 6513, 'flushed': 5436, 'robloxian': 11143, 'robloxity': 11144, 'detected': 4020, 'loosing': 7913, 'they': 13111, 'attacked': 1643, 'them': 13083, 'berkel': 2002, 'irreplaceable': 7099, 'employee': 4718, 'leaves': 7652, 'sindre': 11922, 'zen3': 14744, 'jaime': 7179, 'hancock': 6206, 'constrained': 3279, 'failures': 5112, 'mars': 8171, 'filthy': 5309, 'wiping': 14387, 'formula': 5521, 'roll': 11171, 'customising': 3639, 'tactical': 12849, 'getrekt': 5839, 'role': 11168, 'determining': 4027, 'proposition': 10292, 'gaining': 5709, 'sizable': 11954, 'collection': 3028, 'rocky': 11156, 'footing': 5477, 'jo': 7255, 'outdoor': 9394, 'clap': 2905, 'unreal': 13754, 'following': 5459, 'assignments': 1593, 'assumption': 1607, 'lallemand': 7548, 'whoa': 14326, 'outline': 9402, 'thatll': 13062, '360fps': 450, 'dumbass': 4484, 'bleeding': 2123, 'artboard': 1540, 'weither': 14259, 'jim': 7244, 'parsons': 9586, 'smoked': 12074, 'stood': 12511, 'toilet': 13297, 'dell': 3916, 'xps': 14615, 'terribly': 13015, 'spotted': 12342, 'fgc': 5266, 'tony': 13319, 'butterflies': 2487, 'stomach': 12505, '3ft': 476, 'buff': 2420, 'unbeatable': 13643, 'lacks': 7534, 'il': 6722, 'itd': 7135, 'tethered': 13030, 'claustrophobic': 2921, 'playbox': 9891, 'ijustine': 6715, 'hutao': 6617, 'producer': 10222, 'dfgiuy22': 4059, 'hyprocrisy': 6638, 'genes': 5812, 'picking': 9796, 'achieved': 948, 'physique': 9790, 'advices': 1068, 'motovation': 8686, 'lifestyle': 7743, 'experiances': 4995, 'restart': 10965, 'cancel': 2560, 'ommmggg': 9261, 'ulv': 13627, 'ivy': 7159, 'haswell': 6265, 'protoretro': 10312, 'x570': 14559, 'msi': 8724, 'oxigen': 9488, 'proud': 10314, 'stance': 12403, 'intense': 6984, 'cad': 2520, 'ansys': 1371, 'damnnnnnnnnnnnnnnn': 3712, 'mistakenly': 8518, 'families': 5139, 'isolating': 7119, 'battlestation': 1887, 'isolated': 7118, 'vibrator': 13973, '10nm': 61, '1min55': 221, '64go': 660, 'johnathan': 7266, 'unhealthy': 13701, 'morbid': 8644, 'obesity': 9132, '100lbs': 30, '6000': 639, 'tying': 13577, 'shoes': 11783, 'morbidly': 8645, 'obese': 9131, 'sandal': 11364, 'hires': 6441, 'coach': 2988, 'appearance': 1427, 'offence': 9200, 'mam': 8099, 'bahahahahaha': 1785, 'reluctantly': 10819, 'beach': 1905, 'nominated': 9023, 'syafiq': 12815, 'jihad': 7242, 'parent': 9575, 'result': 10976, 'programmers': 10250, 'thumbstick': 13202, 'workaround': 14467, 'refund': 10751, 'realest': 10623, 'grave': 6053, 'baby': 1749, 'jailbreak': 7178, 'openly': 9303, 'admits': 1030, 'platinum': 9885, 'overthinker69': 9468, 'thareal': 13059, 'clo': 2950, 'parkour': 9583, 'twitch': 13570, 'potatofarmerdan': 10032, 'rephrase': 10875, 'patent': 9625, 'illegally': 6727, 'designs': 3996, 'agreement': 1116, 'licensing': 7733, 'payed': 9653, 'continued': 3312, 'legally': 7663, 'penny': 9692, 'earned': 4548, 'pisses': 9839, 'upstart': 13822, 'law': 7609, 'named': 8820, 'partnet': 9599, 'edis': 4588, 'mehmedali': 8334, 'alarm': 1165, 'hade': 6169, 'alf': 1185, 'laura': 7608, 'barnes': 1845, 'cliff': 2941, 'brendon': 2333, 'rookes': 11182, 'accessory': 917, 'ck': 2898, 'brandon': 2304, 'smythe': 12088, '25k': 337, 'unavailability': 13639, 'legitimate': 7670, 'criticism': 3547, 'xboxseriesx': 14583, 'fridge': 5610, 'produce': 10220, 'overpayed': 9458, 'mcmillan': 8271, 'briefly': 2347, 'prioritize': 10183, 'rgb': 11049, 'deja': 3899, 'vu': 14091, 'pentium': 9694, 'athlon': 1626, 'x2': 14553, 'graves': 6054, 'amds': 1280, 'superiority': 12701, 'denmark': 3945, 'hevc': 6401, 'encoders': 4740, 'exports': 5032, 'whereas': 14295, 'sidharth': 11864, 'suresh': 12727, 'rnd': 11127, 'recieves': 10673, 'blur': 2172, 'exposes': 5036, 'shopper': 11790, 'engineer': 4766, 'creates': 3503, 'lithography': 7815, 'ipc': 7077, 'gains': 5710, 'lacking': 7531, 'watt': 14202, 'standards': 12407, 'praveen': 10076, 'nair': 8813, 'bench': 1987, 'goodbye': 5980, 'essentialy': 4853, 'peel': 9681, 'expose': 5034, 'docked': 4284, 'havnt': 6282, 'efforts': 4624, 'subtle': 12642, 'rare': 10566, 'breed': 2327, 'squeezes': 12374, 'generic': 5810, 'career': 2616, 'simplyy': 11906, 'settle': 11660, 'attempting': 1647, 'produced': 10221, 'desist': 3998, 'printing': 10180, 'refunds': 10753, 'patented': 9626, 'woo': 14444, 'hoo': 6507, 'proofness': 10284, 'karon': 7358, 'ei': 4642, 'entry': 4805, 'ache': 946, 'suited': 12679, 'chitembo': 2837, 'stoked': 12501, 'gestures': 5836, 'grammar': 6033, '80s': 746, 'bored': 2238, 'reverb': 11021, 'g2': 5696, 'pentacost': 9693, 'kits': 7443, 'fundamentally': 5664, 'unethical': 13690, 'semi': 11599, 'multiplatform': 8743, 'denominator': 3948, 'gimmick': 5878, 'bedsheets': 1936, 'torrent': 13341, 'hitters': 6452, 'backing': 1760, 'jari': 7195, 'moore': 8636, '2600k': 342, 'supposedly': 12716, 'cg': 2722, 'theatrical': 13071, 'trailer': 13402, 'worthless': 14496, 'lackluster': 7532, 'belong': 1982, 'loadings': 7849, 'forgive': 5505, 'sins': 11934, 'playstation5': 9908, 'boys': 2282, 'dennis': 3946, 'unrealated': 13755, '60pfs': 649, 'engineering': 4768, 'freinds': 5595, 'interview': 7024, 'prowess': 10324, 'pipeline': 9833, 'particle': 9591, 'hassle': 6262, 'educated': 4603, 'sexy': 11675, 'ryna': 11278, 'rely': 10820, '90hz': 788, 'obv': 9156, 'medium': 8321, 'cents': 2713, 'spacejasontodd': 12227, 'elsewhere': 4681, 'jeff': 7218, 'chavez': 2771, 'karlson': 7355, 'outnin': 9404, '9546': 803, 'goin': 5963, 'skinny': 11972, 'burj': 2464, 'mehma': 8333, 'jatt': 7198, 'pausing': 9648, 'pindrop': 9823, 'strength': 12555, 'johntrent': 7270, 'is_my_hero': 7103, 'vrpirates': 14083, 'memo': 8346, 'utilizing': 13864, 'pompous': 9973, 'ingratiating': 6915, 'cnazario': 2983, 'vizcaino': 14040, 'demonetization': 3932, 'understandable': 13676, 'fpspammers': 5552, 'sixasis': 11952, 'metroid': 8394, 'prime': 10172, 'spg': 12285, 'reacts': 10613, 'nickthedude': 8966, 'bouta': 2269, 'kfconsole': 7398, 'rising': 11113, 'dilucente': 4127, 'wsp': 14534, 'tired': 13262, 'wore': 14463, 'bowling': 2273, 'underwhelming': 13686, 'rajdeep': 10535, 'patil': 9635, 'invent': 7047, 'convenient': 3339, 'manage': 8103, 'swtich': 12811, 'alfrredd': 1187, 'gaudy': 5767, 'horse': 6533, 'finallly': 5312, 'geometrically': 5827, 'decay': 3828, 'alongside': 1231, 'wiggly': 14356, 'chemical': 2800, '8nzb7o0': 775, 'ntm': 9093, 'accessing': 915, 'expired': 5005, 'functional': 5657, 'separately': 11624, 'doorstep': 4342, 'sttuf': 12585, 'growing': 6093, 'chassis': 2768, 'all': 1204, 'cotomize': 3424, 'tutorials': 13557, 'faris': 5167, 'xguy9': 14602, 'opt': 9321, 'academy': 901, 'fahrenheit': 5104, 'matching': 8209, 'transmitting': 13433, 'bunker': 2457, 'batman': 1881, 'sweating': 12783, 'reached': 10608, 'additions': 1010, 'worthwhile': 14498, 'alternative': 1249, 'sergio': 11635, 'magnitudes': 8061, 'penalty': 9687, 'decreases': 3856, 'wishy': 14406, 'washy': 14177, 'math': 8214, 'unused': 13784, 'overview': 9473, '3gb': 477, 'template': 12980, 'messin': 8378, 'd630': 3685, 'manual': 8128, 'documented': 4291, 'm1ipad': 8010, 'mehhh': 8332, 'applying': 1443, 'glossy': 5925, 'io': 7067, 'resource': 10948, 'divides': 4259, 'inherited': 6917, 'minimal': 8480, 'shops': 11792, 'modelling': 8565, 'transmitter': 13432, 'finishes': 5330, 'teetering': 12965, 'gamble': 5719, 'splurging': 12318, 'geforce': 5790, 'decorations': 3852, 'comically': 3071, 'refrigerator': 10750, 'stool': 12512, 'fools': 5473, 'prank': 10073, 'ensures': 4788, 'androids': 1323, 'blade': 2106, 'hyperdrive': 6629, 'hmb': 6456, 'techhit': 12947, 'sarfaraz': 11383, 'yezdani': 14678, 'fave': 5191, 'woman': 14434, 'kaczan3': 7343, 'liars': 7725, 'shits': 11765, 'giggles': 5872, 'tommow': 13308, 'erika': 4834, 'sinclair': 11921, 'arvato': 1548, 'label': 7522, 'pushed': 10414, 'wednesday': 14242, 'rav': 10584, 'nanoinches': 8831, 'last2first': 7578, 'douglas': 4365, 'jacobs': 7172, 'bf': 2028, 'nitai': 8989, 'godammit': 5949, 'punching': 10388, 'firefox': 5337, 'sheets': 11725, 'ppts': 10061, '2012': 247, 'catalina': 2659, 'chick': 2811, 'falsely': 5133, 'accuse': 937, 'sith': 11943, 'targeting': 12898, 'arm64': 1512, 'bexhill': 2024, 'spin': 12301, 'fallen': 5127, 'outyayo': 9425, 'hay': 6287, 'causes': 2676, 'zombies': 14766, 'r1': 10494, 'laeydan': 7538, 'bertram': 2005, 'raven': 10585, 'recycled': 10701, 'fork': 5510, 'overpay': 9457, 'kodikujo': 7474, 'faulty': 5189, 'borat': 2235, 'unhear': 13702, 'karma': 7356, 'xboxsx': 14584, 'coils': 3014, 'hum': 6591, 'd3aiwzaa0yw': 3683, 'ab_channel': 864, 'mega64': 8328, 'l8mfkcyx31i': 7518, 'nintendoprime': 8985, 'ch3w3nnw2ta': 2725, 'reinonymous': 10783, 'cbma_e2etk0': 2681, 'devinup3': 4047, 'qzq60aopqxo': 10493, 'ken88': 7376, 'syu0': 12836, 'kqywx4': 7483, 'spawnwave': 12240, 'cords': 3385, 'sesh': 11652, 'chargethrough': 2762, 'stuffed': 12595, 'noooooo': 9040, 'nooooo': 9039, 'jinx': 7248, 'killjoy': 7420, 'happily': 6236, 'segues': 11574, 'tbf': 12920, 'sm': 12045, 'flumpy': 5434, 'pig': 9808, 'shiniest': 11748, 'thousands': 13160, 'cars': 2641, 'investments': 7059, 'pai': 9520, '1min': 220, 'monitoring': 8613, 'draining': 4396, '11600': 75, 'viewed': 13987, 'purgeable': 10400, 'counted': 3434, 'gain': 5707, 'relatively': 10798, 'inexpensive': 6890, 'celeroon89': 2693, 'banter': 1827, 'swedish': 12787, 'med': 8309, 'goda': 5948, 'hälsningar': 6641, 'saravanan': 11380, 'representing': 10900, 'recieve': 10672, 'vedio': 13917, 'notting': 9077, 'esle': 4846, 'brothers': 2384, 'xel': 14596, 'radeom': 10510, 'pluggd': 9926, 'inched': 6820, 'ww3': 14541, 'xz1': 14627, 'zip': 14761, 'shifting': 11742, 'gripping': 6083, 'loosening': 7911, 'purse': 10410, 'strings': 12573, 'sigh': 11866, 'compacts': 3104, 'destop': 4008, 'phablet': 9765, 'shinymootank': 11751, 'xb1s': 14572, 'cash': 2648, 'comparible': 3115, 'skits': 11980, 'dry': 4456, 'modelers': 8562, 'doodling': 4335, '640kb': 657, 'ought': 9386, 'flir': 5413, 'representative': 10899, 'casing': 2649, 'dissipation': 4235, 'outermost': 9397, 'surface': 12729, 'fluctuations': 5429, 'excessive': 4936, 'eats': 4566, 'cheaters': 2778, 'tools': 13326, 'aimbots': 1138, 'sourcecodes': 12214, 'barrier': 1849, 'consol': 3270, 'zelda': 14741, 'wouldent': 14503, 'walpaper': 14139, 'psp': 10345, 'v2': 13872, 'kieran': 7412, 'dragon': 4393, 'firm': 5341, 'cinebench': 2875, 'avx': 1704, 'intended': 6983, 'bystanders': 2503, 'mix': 8526, 'facilitating': 5091, 'dealbreaker': 3806, 'conclusions': 3204, 'exported': 5029, 'calculations': 2526, 'investigation': 7056, 'alarms': 1166, 'errr': 4840, 'lisa': 7802, 'su': 12614, 'emailing': 4686, 'concurrent': 3208, 'thin': 13125, 'cloned': 2955, 'vizcainome': 14041, 'graded': 6024, 'blaming': 2111, 'retaliate': 10985, 'accordingly': 929, 'problematic': 10203, 'christmassss': 2861, 'minimalist': 8481, 'techlead': 12949, 'pointless': 9956, 'cripples': 3539, 'flexing': 5402, 'speaks': 12246, 'splash': 12313, 'cosmos': 3413, 'stride': 12566, 'competitor': 3142, 'stored': 12521, 'acepwnage': 943, 'informing': 6908, 'gang': 5741, 'noticeably': 9068, 'indonesia': 6876, 'lap': 7563, 'prolonged': 10259, 'jacking': 7168, 'concerned': 3197, 'uprise': 13816, 'utility': 13860, 'fyjmvggh': 5693, 'develops': 4041, 'sever92': 11667, '8ghz': 765, 'multithread': 8753, '6ghz': 695, '5ghz': 617, 'plasti': 9873, 'dips': 4144, 'commands': 3078, 'screams': 11490, '6600k': 666, 's7': 11297, 'rom': 11175, 'milesmorales': 8453, 'moralis': 8642, 'snaps': 12097, 'seamlessly': 11525, 'scrolls': 11507, 'observation': 9144, 'zh': 14756, 'programmed': 10248, 'merch': 8363, 'obsolescence': 9150, 'broader': 2367, 'darko': 3736, 'stellar': 12468, 'taste': 12908, 'dreaming': 4418, 'unlimited': 13734, 'demoed': 3928, 'kushagra': 7502, 'nayyar': 8864, 'ed': 4578, 'noctua': 9006, 'inevitably': 6889, 'discoloured': 4191, 'raccoonl0l': 10503, 'elden': 4649, 'hollow': 6479, 'dang': 3720, 'dare': 3730, 'jockey': 7258, 'globglogabgalab': 5922, 'books': 2220, 'treasure': 13446, 'trove': 13495, 'glob': 5917, 'glo': 5916, 'gab': 5699, 'galab': 5712, 'shwabble': 11845, 'dabble': 3688, 'wabble': 14101, 'gabble': 5700, 'flibba': 5403, 'blabba': 2096, 'blab': 2095, 'shwibbly': 11848, 'liber': 7726, 'yeast': 14650, 'glibble': 5912, 'glabble': 5900, 'schribble': 11460, 'shwap': 11846, 'glab': 5899, 'dibble': 4076, 'shribble': 11832, 'shrabble': 11828, 'glibbi': 5911, 'glap': 5905, 'shwibble': 11847, 'dap': 3729, 'reselling': 10923, 'insted': 6965, 'kyle': 7508, 'visually': 14031, 'delight': 3909, 'bashful228': 1860, 'throughput': 13181, 'equipped': 4824, 'clunky': 2977, 'drew': 4423, 'toney': 13315, 'suit': 12676, 'spiders': 12294, 'consumes': 3292, 'electricity': 4654, 'ecosystem': 4576, 'maxtech': 8242, 'dylan': 4529, 'peeling': 9683, 'comprehensive': 3172, 'dholocronkeeper': 4064, 'particular': 9592, 'startmenu': 12426, 'fool': 5470, '64g': 658, 'multiuser': 8755, 'innovator': 6930, 'cellular': 2699, 'ymmv': 14686, 'viral': 14007, 'atari': 1623, '2600': 341, '1979': 204, 'neighbour': 8901, 'invited': 7062, 'passion': 9611, 'grown': 6094, 'sons': 12178, 'fraction': 5555, 'm1s': 8011, 'insurance': 6971, 'permanently': 9734, 'soldered': 12143, 'pennnywise': 9691, 'pound': 10038, 'foolish': 5472, '8go': 770, 'goal': 5939, 'illia': 6728, 'slipchenko': 12024, 'correctly': 3405, 'dem': 3920, 'paintjobs': 9530, 'shape': 11698, 'wespozo': 14269, 'titanfall': 13267, 'awesomene': 1715, 'goodness': 5983, 'aint': 1141, 'dunno': 4496, 'scientific': 11466, 'matlab': 8219, 'lt_onionrings': 7961, 'overloaded': 9450, '20th': 294, 'geez': 5789, 'baddd': 1777, 'teams': 12936, 'logitech': 7875, '447mb': 518, 'drawings': 4410, '4pmet': 555, 'stamp': 12401, 'slaps': 12000, 'boredom': 2239, 'pss': 10348, 'iiiiiiiiiiit': 6708, 'reviewed': 11026, '11700': 78, '11900': 83, '400mhz': 496, 'config': 3222, 'jace': 7162, 'zhu': 14759, 'iops': 7069, 'fierce': 5275, 'winning': 14380, 'negrey': 8898, 'oem': 9194, 'gobble': 5946, 'saves': 11408, '4k60': 552, 'spoils': 12322, 'cheeky': 2789, 'ahh': 1124, 'recognise': 10678, 'midranger': 8439, 'cp': 3466, 'dosn': 4349, 'fellow': 5245, 'mains': 8073, 'wake': 14120, 'realme': 10640, 'miyagi': 8528, 'ryota': 11280, 'spongeycraft': 12326, 'iv': 7155, 'blitz': 2141, 'thetopturtles': 13107, 'excuses': 4951, 'desperate': 4002, 'bat': 1873, 'ihave': 6704, 'boycotted': 2280, 'promote': 10267, 'scalping': 11435, 'hypothetically': 6637, 'vm': 14048, 'disrespect': 4229, 'politician': 9970, 'nxp': 9116, 'recorded': 10693, 'brooding': 2377, 'follicle': 5455, '2m': 381, 'sneak': 12100, 'tshirt': 13521, 'amateur': 1264, 'similarity': 11892, 'relatable': 10791, 'wrapped': 14513, 'kq_fyjcaula': 7482, 'hole': 6473, 'threads': 13166, 'mum': 8756, 'cleaned': 2923, 'alchool': 1170, 'destroied': 4009, 'sideways': 11863, '165': 166, 'morons': 8655, 'usbc': 13838, 'jake': 7181, 'lyons': 8006, 'er': 4828, 'gray': 6056, 'metadata': 8385, 'leila': 7676, 'flores': 5423, 'clown': 2971, 'creative': 3506, 'ardour': 1488, 'passwords': 9617, 'tied': 13223, 'pw': 10425, 'howevera': 6559, 'excell': 4931, 'boyyy': 2284, 'optical': 9324, 'illusion': 6732, 'stylised': 12610, 'explore': 5023, 'acid': 952, 'ow': 9477, 'stronger': 12578, 'consideration': 3262, 'russia': 11265, 'poco': 9944, 'diary': 4075, 'driver': 4438, 'accessibility': 913, 'colleague': 3025, 'returns': 11006, 'investment': 7058, 'jeffrey': 7219, 'continuous': 3315, 'loses': 7921, 'concentrating': 3194, 'limitations': 7775, 'hzd2': 6640, 'benchs': 1992, 'remastered': 10832, 'revamped': 11013, 'm1a': 8009, 'isis': 7110, 'sterling': 12473, 'cheeto': 2794, 'dorito': 4345, 'tempted': 12986, 'saftey': 11327, 'oclcus': 9172, 'farpoint': 5168, 'giga': 5865, 'revise': 11032, 'selfie': 11588, 'guyz': 6141, '5600m': 596, '72': 711, 'tenchu': 12989, 'georg': 5829, 'shittyulus': 11770, 'drill': 4428, 'kensington': 7379, 'locks': 7863, 's21': 11295, 'smartphones': 12057, '4a': 538, 'compliments': 3168, 'mentions': 8357, 'activating': 970, 'clique': 2949, 'grant': 6039, 'wrongly': 14531, 'accused': 938, 'gym': 6147, 'thru': 13188, 'fourteen': 5546, 'shoud': 11807, 'alex': 1180, 'bigshid': 2049, 'raughs': 10582, 'mongorian': 8609, 'devil': 4044, 'spring': 12350, 'sheepamonggoats': 11721, 'jes': 7230, 'records': 10695, 'units': 13718, 'fu': 5631, 'loveeee': 7936, 'mk': 8530, 'gained': 5708, 'subbie': 12617, 'videographer': 13982, 'wicked': 14344, 'jungle': 7322, 'gatdamn': 5761, 'ps5v': 10339, 'everthying': 4891, 'dbranding': 3787, 'aus': 1663, '500aud': 565, '400ish': 495, 'aud': 1655, 'rrp': 11221, 'lga': 7721, '1200': 94, 'am4': 1260, 'forest_gaming': 5497, 'redux': 10727, 'represents': 10901, 'significance': 11872, 'ownership': 9484, 'relation': 10794, 'teaches': 12931, 'clickbaity': 2937, 'bland': 2112, 'unenthusiasticly': 13689, 'argued': 1497, 'impression': 6799, 'remarks': 10829, 'violent': 14006, 'timely': 13246, 'wink': 14377, 'kitten': 7444, 'findingsinitially': 5319, 'rain': 10524, 'athwart': 1628, 'flashy': 5385, 'employer': 4720, 'tiresome': 13265, 'bulb': 2436, 'pleasure': 9918, 'needlessly': 8886, 'njj': 8998, '367373737373': 457, 'ruin': 11237, 'censorship': 2706, 'dingbattoast': 4137, 'mband': 8254, 'protip': 10308, 'airreceiver': 1150, 'sum': 12682, 'mister': 8520, 'astros': 1617, 'oscar': 9369, 'repost': 10895, 'uout': 13788, 'freaked': 5578, 'sincerely': 11920, 'trolling': 13488, 'slander': 11995, 'goood': 5990, 'sage': 11329, 'greenteasworld': 6070, 'slowdowns': 12032, 'webbrowser': 14232, 'tends': 12993, 'cropping': 3556, 'mandalorian': 8111, 'reducing': 10724, 'duo': 4497, 'yooo': 14694, 'asznee': 1621, 'hitme': 6450, 'relly': 10815, 'unusual': 13785, 'hung': 6604, 'hurting': 6613, 'you': 14697, 'satisfy': 11393, 'rechargeables': 10669, 'homes': 6488, 'rebrand': 10651, 'wil': 14361, '100ish': 28, 'doll': 4313, 'hairs': 6190, 'guessed': 6119, 'forwards': 5534, 'imbecile': 6751, 'hiding': 6417, 'murders': 8768, 'bollywood': 2204, 'star': 12414, 'gutter': 6137, 'dwelling': 4522, 'thief': 13120, 'josh': 7288, 'kavathas': 7364, 'scalped': 11431, 'lttstore': 7965, 'mousemats': 8692, 'drinking': 4431, 'bottles': 2259, 'xiao': 14604, 'tza': 13589, 'thang': 13048, 'rayzortex': 10594, 'replacing': 10881, 'down': 4367, 'science': 11465, 'grad': 6022, 'forehead': 5490, 'stability': 12386, 'kylemlgboss': 7509, 'forked': 5511, 'why': 14339, 'speculation': 12265, 'meantime': 8289, 'imaginary': 6744, '711': 709, '88': 754, '101': 32, 'mrmrzlcu': 8716, 'smashing': 12062, 'reveal': 11014, 'cirrus': 2891, 'cs35l45': 3588, 'tmr': 13281, 'critics': 3550, 'nm': 9000, 'samsungs': 11359, '9n': 826, 'tsmc': 13522, 'dustysa4': 4513, '450': 522, '247': 322, 'ultrabooks': 13625, '2in1': 378, '2349': 315, '1283': 104, 'i3': 6642, '284': 356, 'ryzens': 11286, '5xxxu': 633, 'horrendous': 6527, 'variability': 13897, 'radeon': 10511, 'begs': 1955, 'sat': 11390, 'chungus': 2869, 'simulates': 11909, 'barring': 1850, 'spraypainting': 12346, 'assembled': 1585, 'damage': 3699, 'asff': 1553, 'whining': 14308, 'theanswerisfortytwo': 13069, 'initially': 6920, 'bandwagon': 1814, 'smoother': 12080, 'dram': 4398, '12gb': 109, 'historically': 6446, 'devastating': 4032, 'overcome': 9437, 'premier': 10109, 'splurge': 12317, 'layer': 7615, '29th': 368, 'ev': 4874, 'sells': 11595, '11700k': 79, 'conference': 3216, 'passes': 9609, 'denton': 3951, 'director': 4151, '8vs': 781, 'gen10': 5796, 'unplug': 13748, 'foundland': 5541, 'imean': 6753, '13tth': 128, 'an': 1300, 'updating': 13795, 'jira': 7249, 'doc': 4283, 'spreadsheet': 12349, 'skype': 11989, 'npm': 9090, 'optional': 9339, 'screamed': 11488, 'dirty': 4155, 'anytime': 1400, 'band3': 1808, 'verge': 13940, 'theoretical': 13090, 'blazing': 2118, 'considerably': 3261, 'areas': 1490, 'boggling': 2193, 'apology': 1418, 'presents': 10130, 'gabe': 5701, 'comfortably': 3070, 'polarized': 9964, 'sunglasses': 12689, 'zbrush': 14739, 'alike': 1200, 'pareto': 9577, 'principle': 10175, 'spends': 12279, 'consequential': 3256, 'assure': 1610, 'ware': 14152, 'ae': 1071, 'cs6': 3589, 'maxes': 8237, 'ceo': 2715, 'translation': 13428, 'footsteps': 5480, 'map': 8136, 'schemas': 11453, 'implementations': 6782, 'nod': 9007, 'bochs': 2185, 'xgb': 14599, '8000': 742, 'staying': 12453, 'bathroom': 1880, 'nation': 8847, 'kingdom': 7432, 'famines': 5141, 'pestilences': 9754, 'earthquakes': 4554, 'divers': 4257, 'sorrows': 12195, 'signs': 11876, 'moon': 8634, 'distress': 4247, 'nations': 8849, 'perplexity': 9739, 'seas': 11532, 'roaring': 11135, 'hearts': 6333, 'powers': 10054, 'shaken': 11689, 'perilous': 9725, 'covetous': 3459, 'boasters': 2182, 'blasphemers': 2114, 'disobedient': 4217, 'unthankful': 13775, 'unholy': 13703, 'affection': 1080, 'trucebreakers': 13499, 'accusers': 939, 'incontinent': 6842, 'despisers': 4005, 'traitors': 13408, 'heady': 6318, 'highminded': 6426, 'pleasures': 9919, 'godliness': 5954, 'denying': 3953, 'thereof': 13098, 'hebrews': 6347, 'appointed': 1444, 'unto': 13778, 'judgement': 7309, 'ecclesiastes': 4571, 'drank': 4403, 'wives': 14423, 'marriage': 8168, 'parable': 9565, 'fig': 5280, 'branch': 2300, 'tender': 12992, 'putteth': 10421, 'ye': 14643, 'nigh': 8970, 'likewise': 7765, 'repent': 10872, 'baptized': 1829, 'remission': 10841, 'ghost': 5851, 'testify': 13026, 'exhort': 4958, 'untoward': 13779, 'thessalonians': 13104, 'hath': 6274, 'wrath': 14516, 'obtain': 9153, 'salvation': 11345, 'begotten': 1954, 'whosoever': 14337, 'believeth': 1977, 'perish': 9729, 'everlasting': 4889, 'corinthians': 3390, 'unrighteous': 13759, 'inherit': 6916, 'deceived': 3830, 'fornicators': 5523, 'adulterers': 1048, 'effeminate': 4615, 'abusers': 893, 'mankind': 8122, 'homosexuals': 6497, 'drunkards': 4453, 'revilers': 11031, 'extortioners': 5053, 'galations': 5714, 'flesh': 5395, 'adultery': 1049, 'fornication': 5522, 'uncleanness': 13657, 'lasciviousness': 7573, 'idolatry': 6686, 'witchcraft': 14410, 'variance': 13900, 'emulations': 4727, 'strife': 12568, 'seditions': 11555, 'heresies': 6388, 'envyings': 4813, 'drunkenness': 4455, 'revellings': 11019, 'revelation': 11017, 'fearful': 5213, 'unbelieving': 13646, 'abominable': 882, 'murderers': 8765, 'whoremongers': 14334, 'idolaters': 6685, 'burneth': 2469, 'brimstone': 2355, 'nay': 8862, 'saith': 11333, 'cometh': 3067, 'father': 5182, 'resizable': 10939, 'countering': 3437, 'downs': 4378, 'lim': 7769, 'listened': 7807, 'salary': 11339, 'fitbit': 5353, 'outdoors': 9395, 'indoors': 6878, 'removed': 10847, 'samples': 11357, 'approve': 1452, 'hahahahahaha': 6182, 'albeit': 1168, 'blurred': 2174, 'creatively': 3507, 'stickers': 12481, '37': 459, 'aaaaaaaaa': 853, 'commissions': 3092, 'floatplane': 5416, '6800': 680, 'papa': 9559, 'bottle': 2255, 'neck': 8880, 'blasphemy': 2115, 'disciples': 4185, 'crawling': 3491, 'donate': 4328, 'mythical': 8793, 'san': 11362, 'andreas': 1317, 'se2020': 11519, 'jack': 7164, 'vives': 14038, 'pogchamp': 9949, 'merit': 8370, 'corgrading': 3389, 'sudden': 12657, 'sloooooooooooooooooooooooooooooooooooooooooooooooooooooooooooooooooooooooooooooooooooooooooooooooooooooooooooooooooooooooooooow': 12026, 'continuously': 3316, 'sweater': 12782, 'surpassed': 12739, '30cm': 410, 'cm': 2981, 'atx': 1653, 'define': 3883, 'r3': 10497, 'nicer': 8954, 'meeting': 8325, 'boyfriend': 2281, 'bugging': 2427, 'calvin': 2541, 'resulting': 10977, 'placing': 9857, 'xsxs': 14620, 'imao': 6750, 'drawbacks': 4407, 'remain': 10822, 'xss': 14618, 'purely': 10398, 'exterior': 5049, 'sygriffe': 12817, 'swipe': 12802, 'illuminati': 6731, 'skippy': 11978, 'frfr': 5604, 'chipset': 2833, 'abc': 872, 'cheats': 2780, 'cheat': 2776, 'cheater': 2777, 'rumors': 11250, 'perpetuated': 9738, 'traps': 13436, 'idiots': 6681, 'nike': 8979, 'adidas': 1018, 'redditor': 10709, 'vampire': 13891, 'enter': 4789, 'ayysaysay': 1738, 'giveawayalert': 5894, 'orablyro': 9344, 'e6x': 4537, 'groundbreaking': 6087, 'seriusly': 11642, 'notch': 9059, 'entertaining': 4795, 'duelsense': 4476, 'compares': 3114, 'duelshock': 4477, 'professionally': 10236, 'meaaurement': 8278, 'pantomime': 9556, 'moar': 8550, 'plx': 9937, 'barging': 1840, 'inner': 6924, 'playslave': 9904, 'playerbase': 9894, 'meaningless': 8285, 'definition': 3887, 'galacy': 5713, 'suggestions': 12673, 'crimson': 3531, 'pestilence': 9753, 'aight': 1135, 'italian': 7132, 'subbed': 12616, 'filesystem': 5296, 'restore': 10968, 'bend': 1993, 'crazily': 3494, 'handwaving': 6220, 'submitted': 12625, 'commonly': 3095, 'terminology': 13011, 'bimi': 2063, 'psn': 10343, 'anup': 1389, 'raj': 10532, 'journalism': 7292, 'eddy': 4581, 'drouet': 4449, 'i59': 6644, 'inshallah': 6941, '9590': 804, 'tune': 13536, 'adjust': 1022, 'curency': 3615, 'judge': 7308, 'r3d': 10498, 'values': 13889, 'predecessor': 10087, 'envy': 4812, 'dd': 3791, 'macmini': 8038, 'sorrhey': 12194, 'rts': 11225, 'editor': 4596, 'coder': 3000, 'ufo': 13597, 'highlight': 6421, 'downsides': 4382, 'logged': 7868, 'matric': 8222, 'offline': 9213, 'kinect': 7430, 'sdv': 11516, 'coutry': 3453, 'aditional': 1021, 'tlou': 13278, 'lemon': 7678, 'stoll': 12504, 'ugggghhh': 13598, 'iron': 7095, 'fishy': 5348, 'slide': 12015, 'battling': 1888, 'halloween': 6197, 'attach': 1636, 'veritech': 13943, 'reduction': 10725, 'copped': 3375, 'devises': 4048, 'innovating': 6927, 'interviewing': 7025, 'keyboardless': 7391, 'stationary': 12441, 'corporations': 3399, 'backs': 1768, 'labour': 7526, 'pinnacle': 9827, 'telegram': 12969, 'windshield': 14375, 'conversion': 3342, 'repair': 10864, 'passed': 9608, 'gofundme': 5960, 'louis': 7933, 'rossmann': 11196, 'frantic': 5575, 'dramatization': 4402, 'wearout': 14226, 'speads': 12241, 'workloads': 14476, 'sequential': 11634, 'reads': 10620, 'ddr4': 3795, 'reaching': 10610, '30gb': 412, '8ns': 774, 'scrubs': 11509, 'rule': 11244, 'infer': 6894, 'throttling': 13177, 'adequate': 1017, 'valuable': 13887, 'savy': 11415, 'analyzing': 1309, 'scared': 11444, 'america': 1283, 'zealand': 14740, 'anoying': 1366, 'cryo': 3581, 'shopping': 11791, 'happiest': 6235, 'rapper': 10564, 'istatistiva': 7128, 'chare': 2756, 'plasticky': 9875, 'vibe': 13964, 'verse': 13948, 'collins': 3035, 'gremlin': 6072, 'costlier': 3419, 'stillrabit73': 12490, 'solving': 12153, 'matteo': 8226, 'vellis': 13926, 'selected': 11584, 'options': 9340, 'istatistica': 7127, 'pacing': 9502, 'sp02': 12224, 'vital': 14034, 'thnx': 13145, 'victorious': 13978, 'slides': 12017, 'poorly': 9979, 'baked': 1792, 'latter': 7595, 'perf': 9707, 'figures': 5291, 'playstations': 9909, 'mild': 8448, 'embarrassment': 4696, 'explaied': 5008, 'disatvantages': 4178, 'preordering': 10114, 'anthonys': 1379, 'demeanor': 3925, 'strange': 12536, 'discussing': 4201, 'recieving': 10674, 'analog': 1303, 'ladiespants': 7535, 'performed': 9720, 'eg': 4625, 'readings': 10618, 'dx_ma1': 4525, '77gb': 728, 'hows': 6560, 'bogdanoff': 2191, 'labs': 7527, 'announcement': 1352, 'enthusiasm': 4797, 'needless': 8885, 'revolutionary': 11042, 'namesltt': 8824, 'sincere': 11919, 'appreciation': 1448, 'sustaining': 12759, 'importantly': 6790, 'nepal': 8908, 'wallhack': 14132, 'aimbot': 1137, 'imbeciles': 6752, 'jaw': 7201, 'switched': 12805, 'daves': 3762, 'legs': 7674, 'transistors': 13420, 'necessity': 8879, 'roaming': 11133, 'casually': 2656, 'wipers': 14385, 'skills': 11967, 'confirmation': 3228, 'previews': 10152, 'christopher': 2862, 'obando': 9128, 'definitive': 3888, 'superficial': 12698, 'mrprothall': 8719, 'nonsensical': 9034, 'blabbering': 2097, 'trump': 13507, 'rams': 10544, 'fil': 5293, 'burgers': 2462, 'filmed': 5303, '30th': 416, 'aaaaaaaaaaaaaaaaaaaaaa': 855, 'wdvse': 14213, 'bnergn': 2177, 'thrn': 13172, 'gbfgbfgbfgbfgbfgbfgbfgbfgbfgb': 5777, 'mrguy': 8713, 'copyright': 3380, 'licence': 7731, 'distribute': 4248, 'oasis': 9125, '7megas': 736, 'bites': 2090, 'tht': 13189, 'sa': 11300, 'tennis': 12996, 'mk6': 8531, 'cirlce': 2890, 'makers': 8087, 'essay': 4850, 'bash': 1858, 'sean': 11526, 'coey': 3007, '250w': 330, '90c': 787, '3950x': 470, '7700k': 727, 'roles': 11169, 'reversed': 11024, 'coffeeguy': 3009, '66': 664, 'passionate': 9612, 'inspiring': 6951, 'born': 2241, 'majorly': 8080, 'adults': 1050, 'disbelief': 4179, 'elder': 4650, 'platforming': 9883, 'practise': 10068, 'configurations': 3225, 'at': 1622, 'buttery': 2488, 'iteration': 7141, 'glitchy': 5915, 'situations': 11949, 'upped': 13810, 'hungary': 6605, 'pleasseeeee': 9917, 'adithya': 1020, 'gowda': 6008, 'tittle': 13273, 'godfall': 5952, 'multiplats': 8744, 'eloquently': 4677, 'american': 1284, 'graphically': 6046, 'competed': 3135, 'intrenched': 7030, 'gamespass': 5736, 'tenfold': 12994, 'dime': 4130, 'bashing': 1861, 'justify': 7334, 'discovered': 4198, 'betheseda': 2015, 'mlb': 8537, 'elevate': 4662, 'marketshare': 8161, 'surpass': 12738, 'surviving': 12752, 'highlighted': 6422, 'radar': 10509, '68gb': 682, 'imho': 6755, 'grades': 6025, 'microscopic': 8427, 'ruins': 11242, 'south': 12219, 'gona': 5975, 'rachet': 10505, 'badass': 1776, 'explode': 5017, 'bois': 2200, 'pog': 9948, 'hackers': 6164, 'danny': 3728, 'ric': 11052, 'externally': 5051, '210': 299, 'karl': 7354, 'marx': 8177, 'ruining': 11241, 'horrifying': 6530, 'jeez': 7217, 'withought': 14417, 'accesories': 910, 'appeal': 1424, 'thrashing': 13162, 'emphasized': 4715, 'stalling': 12400, 'servicing': 11650, 'allocated': 1213, 'savvy': 11414, 'shoulder': 11809, 'predictable': 10088, 'report': 10890, 'mediapad': 8313, 'm5': 8019, 'radio': 10514, 'interferes': 7007, 'inoperable': 6931, '100x': 31, 'planted': 9870, 'tap': 12890, 'grap': 6042, 'tapping': 12893, 'ii': 6706, 'underused': 13683, 'sluffing': 12039, 'widens': 14349, 'fatality': 5181, 'breezy': 2330, 'nanda': 8827, 'kishore': 7437, 'throw': 13184, 'biiiiiiiin': 2051, 'closer': 2959, 'subregion': 12628, 'narrow': 8842, 'widen': 14348, 'teleconferencing': 12968, 'sone': 12171, 'contend': 3303, 'mitigate': 8524, 'differing': 4103, 'patterns': 9641, 'accumulation': 934, '325': 428, 'gamepad': 5725, 'bull': 2441, 'makin': 8091, 'enlightening': 4782, 'ooohhh': 9293, 'dedication': 3861, 'decisive': 3845, 'designers': 3993, 'finder': 5316, 'some': 12156, 'shenanigans': 11734, 'servers': 11646, 'guaranteed': 6111, 'opposed': 9318, 'masturbates': 8202, 'farwell': 5170, '0epic0': 16, 'investing': 7057, '5years': 634, 'cautious': 2678, 'x0': 14549, 'curbside': 3612, 'o2': 9122, 'measurement': 8294, 'workouts': 14478, 'alee': 1175, 'expansions': 4982, 'substantial': 12637, 'a52': 839, 'vìdeó': 14096, 'compels': 3130, 'mcranderson': 8274, 'slots': 12028, 'batches': 1875, 'goldmine': 5972, 'jas': 7197, 'mbas': 8255, 'chooses': 2847, 'tier': 13224, 'illiterate': 6729, 'dads': 3694, 'nef': 8890, '2109': 300, '574': 603, 'dissapointment': 4232, 'recroom': 10700, 'buyers': 2495, 'teeny': 12964, '06': 10, 'grading': 6026, 'reheat': 10778, 'airflow': 1144, 'winter': 14382, '400gb': 494, 'motherfather': 8678, 'derpty': 3976, 'derp': 3975, '49': 536, 'archicad': 1480, '27th': 352, 'shortened': 11800, '8pm': 777, 'buyed': 2494, 'cody': 3006, 'luttrell': 7999, '30hrs': 413, 'laying': 7617, 'mrevol94': 8712, 'simplicity': 11901, 'introduces': 7036, 'stutters': 12606, 'paypal': 9657, 'ripping': 11107, 'faceplates': 5086, 'ewwwwwwwwwwwwwwwwwwwwwwwwwwwwwwwww': 4914, 'corei9': 3387, '8tb': 779, 'x56': 14558, 'rhino': 11050, 'overflow': 9441, 'toll': 13303, 'redundant': 10726, 'redmi': 10715, 'quantum': 10452, 'mckasty': 8268, 'zephyrus': 14751, 's17': 11292, 'diong': 4140, 'prolonging': 10260, 'flashlight': 5384, 'graham': 6030, 'miranda': 8495, 'arrow': 1534, 'chart': 2765, 'birth': 2080, 'disappears': 4166, 'tuber': 13527, 'cutie': 3655, 'luigi': 7983, 'pounds': 10040, 'spewing': 12284, 'clowns': 2972, 'talkin': 12872, 'fabricating': 5075, 'fabs': 5077, 'jensen': 7225, 'jacket': 7166, 'ewww': 4913, 'voodoo': 14065, 'transform': 13416, 'ricky': 11069, 'schiano': 11455, 'providing': 10322, 'novels': 9079, 'intention': 6990, 'lookkk': 7897, 'crappy': 3484, 'scuff': 11510, '666': 669, 'mb5': 8249, 'spooder': 12333, 'reused': 11010, 'assets': 1590, 'flames': 5376, 'lolz': 7880, 'promised': 10263, 'micromanage': 8424, 'workaholic': 14466, 'formative': 5516, 'training': 13407, 'delivers': 3914, 'squeaks': 12370, 'beneficial': 1994, 'finite': 5331, 'rainbows': 10526, 'eduardo': 4601, 'mendez': 8351, 'band7': 1810, 'hussle': 6616, 'recall': 10657, 'capital': 2586, 'bribes': 2340, 'delusional': 3918, 'contracts': 3319, 'sole': 12144, 'ways': 14208, 'generate': 5803, 'arises': 1502, 'settlement': 11661, '14mil': 142, 'wacth': 14105, 'asset': 1589, 'witty': 14422, 'knowledgable': 7465, 'arbër': 1474, 'rëdra': 11287, 'cyprus': 3675, 'relaible': 10789, 'oceanaplayz': 9171, 'xtard': 14622, 'addressed': 1014, 'struggle': 12581, 'exponential': 5027, '1700': 189, 's8': 11298, 'scrimpy': 11502, 'monkey': 8617, 'humor': 6598, 'designno': 3995, 'sd': 11513, 'trucks': 13501, 'schrinking': 11461, 'dies': 4092, 'bragging': 2291, 'rights': 11089, 'weaker': 14217, 'heating': 6336, 'deinstalation': 3898, 'freezing': 5594, 'louder': 7931, 'starmaker': 12419, 'arthropodspidey': 1542, 'critique': 3551, 'eu': 4866, 'academic': 900, 'articles': 1545, 'navigation': 8861, 'protect': 10301, 'gow2': 6007, 'axe': 1728, 'satisfying': 11394, 'oblivion': 9141, 'attest': 1649, 'packs': 9509, 'humans': 6593, 'vinyls': 14005, 'prints': 10181, 'solar': 12141, 'postpro': 10030, 'flew': 5397, 'holidays': 6476, 'decimate': 3842, 'vivid': 14039, 'distinctive': 4241, 'ftw3': 5630, 'concurrently': 3209, 'tuned': 13537, 'mechanics': 8306, 'enlighten': 4781, 'rossrr': 11197, 'moms': 8598, 'ahhhhhhhhhhhh': 1128, 'clause': 2920, 'exclusivity': 4947, 'tonight': 13317, 'grinch': 6078, 'cloths': 2965, 'terminated': 13010, 'bokeh': 2201, 'concrete': 3207, 'kitch': 7441, 'dive': 4256, 'entrust': 4804, 'caming': 2549, 'vold': 14060, 'drinks': 4432, 'dayummmmm': 3782, 'manufactures': 8133, 'psshhh': 10350, 'cyan': 3664, 'rifts': 11083, 'critized': 3552, 'prizes': 10195, 'helloonepiece': 6371, 'battries': 1889, 'unbelievably': 13645, 'freeze': 5593, 'frequency': 5599, 'subscriptions': 12635, 'pricepoint': 10158, 'fódlan': 5694, 'modifications': 8572, 'pyramid': 10430, 'iphone12': 7080, 'beautifully': 1922, 'memes': 8345, 'cheer': 2791, 'dani': 3724, 'par': 9564, 'dor': 4344, 'dutty': 4515, 'ipd': 7078, 'jonathan': 7283, 'oxlade': 9490, 'racist': 10507, 'homophobic': 6495, 'seputar': 11630, 'gawai': 5772, 'redskull': 10720, '1m': 218, 'sixaxis': 11953, 'mortar': 8665, 'gues': 6117, 'inell': 6885, 'okamakiri': 9233, 'surfaces': 12730, 'nightshift': 8977, 'snippets': 12104, 'whistling': 14316, 'whell': 14292, 'energy': 4759, 'whittymadness3': 14324, 'uv': 13870, 'advise': 1069, '0ghz': 17, 'cooker': 3354, 'deserved': 3987, 'decider': 3839, 'demon86monster': 3931, 'recheck': 10671, 'sister': 11938, 'readily': 10616, 'croatia': 3553, 'pun': 10384, 'gts2': 6105, 'zach': 14733, 'hasten': 6264, 'downgrade': 4369, 'seizin': 11580, 'ryu': 11283, '10ghz': 54, 'ez': 5069, 'pz': 10433, 'insists': 6947, 'bumps': 2451, 'fundamental': 5663, 'hiccup': 6410, 'gow': 6006, 'speardsheets': 12247, 'wet': 14273, 'wer': 14268, 'spoiled': 12320, 'playspace': 9905, 'popping': 9986, 'lool': 7900, 'kyoseku': 7510, 'tailor': 12857, 'pawel': 9650, 'castel': 2652, 'mob': 8551, 'madison': 8049, 'fuel': 5641, 'connectivity': 3246, 'monitored': 8612, 'longrun': 7889, 'makrozz': 8093, 'sxsrf': 12814, 'alekk0226eg0155bc7dsrd8alk': 1177, 'm3ivrdg': 8017, '3a1605315819071': 472, '6yyvx8i2ayfaa': 703, 'vmn8aj': 14049, 'oq': 9341, 'gs_lcp': 6097, 'chftb2jpbgutz3dzlxdpei1ocbabgaaybwgjeooceccybwgjeooceccybwgjeooceccybwgjeooceccybwgjeooceccybwgjeooceccybwgjeooceccybwgjeooceccybwgjeooceccybwgjeooceccybwgjeooceccybwgjeooceccybwgjeooceccybwgjeooceccybwgjeoocecdqafgayp0oaafwahgagaeaiaeakgeamaeasaep': 2809, 'sclient': 11469, 'gws': 6143, 'wiz': 14424, 'tour': 13361, 'springrhythm': 12352, 'shunazo': 11839, 'paperweight': 9561, 'dump': 4491, 'fairs': 5117, 'shaw': 11715, 'success': 12645, 'stories': 12525, 'gauge': 5768, 'ilian': 6723, 'petit': 9761, 'gravity': 6055, 'climate': 2942, 'ac': 899, 'virtue': 14016, 'hyper': 6628, '3733mhz': 461, '130': 118, '5ft': 613, 'adave2d': 997, 'ud': 13595, 'x3': 14555, 'raspberry1440kb': 10570, 'cyrix': 3676, 'quake': 10445, 'fabrizio': 5076, 'deni': 3941, 'after': 1094, 'gladiator': 5902, '10min': 59, 'pretending': 10142, 'anxiety': 1390, 'cannibalizing': 2572, 'centerstage': 2710, '10t': 63, '10plus': 62, 'oneplus': 9269, '8t': 778, 'explanatory': 5016, 'lifted': 7746, 'hail': 6186, 'alr': 1237, 'taka': 12860, 'tea': 12925, 'biscuit': 2083, 'exoticmamba': 4977, 'arive': 1503, 'saints': 11332, 'sinner': 11932, 'refurbished': 10754, 'wha': 14277, 'commets': 3090, 'renaissance': 10850, 'talents': 12869, 'vacations': 13876, 'looka': 7892, 'outstands': 9421, 'illustrators': 6735, 'proceeding': 10208, 'monolitus': 8620, 'comprehend': 3171, 'yoi': 14691, 'bastards': 1872, 'dust': 4509, 'noname': 9025, 'trink': 13476, 'mii': 8445, 'magnet': 8058, 'tensa': 12998, 'cooe': 3352, '400fps': 493, 'stylistic': 12612, '24gb': 324, '200dollar': 238, 'incorrect': 6845, 'es': 4842, 'obeast': 9130, 'hitman': 6449, 'namelesssnitchy': 8821, '8core': 759, '7core': 731, 'squad': 12364, 'thunderbolts': 13206, 'heats': 6337, '26usd': 346, '300e': 398, 'kfa2': 7396, 'yeeeees': 14656, 'recomended': 10681, '2027': 261, 'hapends': 6227, 'patzy': 9642, 'xbxo': 14587, '440': 516, 'sébastien': 12837, 'joojood': 7285, 'highway': 6429, 'robbery': 11137, 'oleds': 9244, 'assed': 1584, 'jean': 7213, 'dupont123': 4500, 'ducks': 4467, 'moo': 8631, 'wooooah': 14453, 'mapping': 8138, '122': 97, 'spherical': 12286, 'panning': 9551, 'demos': 3940, 'tripod': 13480, 'flops': 5422, 'speciality': 12251, 'secrets': 11547, 'wooh': 14450, 'abbas': 869, 'zaffar': 14735, 'khan': 7401, 'dought': 4364, 'bonus': 2214, 'odds': 9192, 'previously': 10154, 'hotfixes': 6540, 'tentpole': 13002, 'hotfix': 6539, '999': 819, '5300': 583, 'anjd': 1345, 'heaviest': 6344, 'fanless': 5154, 'rows': 11212, '59cº': 612, '138': 123, '2fº': 374, 'lazarusrox': 7621, 'bite': 2088, 'obsessed': 9145, 'aesthetics': 1073, 'prone': 10275, 'overheating': 9446, 'illustration': 6733, 'bulky': 2440, 'catalogue': 2661, 'pic': 9792, 'posing': 10009, 'lowkey': 7948, 'granturismo': 6041, 'driveclub': 4436, 'dami': 3702, 'fash': 5171, 'brutal': 2401, '30c': 409, '40c': 498, 'professionalism': 10235, 'drip': 4433, 'squeeky': 12372, 'boieee': 2197, 'gx': 6145, 'gallery': 5716, 'tanner': 12888, 'gin': 5881, 'alley': 1209, 'masterpiece': 8196, 'lbs': 7623, 'separation': 11625, 'foreground': 5489, 'chroma': 2863, 'perfected': 9709, 'tp': 13374, 'pasarela': 9604, '69meters': 686, 'dip': 4141, 'peeled': 9682, 'screwing': 11499, 'macrumors': 8042, 'quoted': 10489, 'gmon750': 5933, 'egpus': 4631, 'onboard': 9265, 'resell': 10921, 'tb3': 12918, 'deactivated': 3799, '150gb': 147, 'infos': 6909, 'elias': 4666, 'x1x': 14552, '77': 726, 'envelope': 4807, 'iqonics': 7087, 'fasting': 5178, 'tape': 12891, 'binder': 2067, 'ähm': 14785, 'shirts': 11759, 'plum': 9931, 'scales': 11429, 'matches': 8208, 'shutdowns': 11842, 'dave2dwell': 3756, 'aligned': 1199, 'preventing': 10148, 'hight': 6428, 'annoys': 1357, 'space18': 12226, 'sharper': 11707, 'diligence': 4124, 'ultimatememegod': 13622, 'hehehe': 6357, 'amiright': 1288, 'prolong': 10258, 'paranoid': 9572, 'abilty': 878, 'ticks': 13218, 'scabbedcinnamonroll': 11427, 'messed': 8375, 'attaching': 1639, 'overly': 9455, 'criticisms': 3548, 'disappoints': 4170, 'graph': 6043, 'flipped': 5412, 'staring': 12417, 'trail': 13401, 'leads': 7631, 'extremly': 5059, 'ferrari': 5255, 'felix': 5242, 'anto': 1385, 'gist': 5889, '1299': 107, 'ugliest': 13604, 'mining': 8485, 'smae': 12048, 'adapters': 992, 'cools': 3364, 'poweroff': 10051, 'strengths': 12556, 'weaknesses': 14220, 'hedset': 6351, 'watchng': 14194, 'bluray': 2173, 'abandoned': 867, 'midrange': 8438, 'airlink': 1145, 'blast': 2116, 'brighten': 2349, 'discless': 4187, 'rafa': 10516, 'allegretti': 1207, 'newegg': 8934, 'impulzivemindabout': 6808, 'spurred': 12358, 'reimagining': 10782, 'nicked': 8960, 'mindset': 8472, 'dey': 4056, 'dat': 3743, 'toasty': 13289, 'sacrificing': 11312, 'tostitoes': 13348, 'turntables': 13552, 'grandparents': 6038, 'saviour': 11412, '99999': 820, 'intensifies': 6986, 'ardiyanta': 1487, 'superb': 12696, 'crackle': 3474, 'sealed': 11522, 'jimbo': 7245, 'pile': 9814, 'decreased': 3855, 'shove': 11814, 'calculation': 2525, 'datasets': 3748, 'magically': 8056, 'losses': 7924, 'host': 6536, 'skimps': 11970, 'rubes': 11233, 'dre2timezz': 4414, 'reelased': 10730, 'broadcast': 2365, 'filtering': 5308, 'restrict': 10971, 'which': 14300, 'garret': 5754, 'jenkins': 7221, 'sarcastic': 11381, 'rockin': 11151, 'thrilled': 13171, 'tie': 13222, 'tyth': 13587, 'publicity': 10366, 'trace': 13378, 'offs': 9217, 'fed': 5227, 'milk': 8457, 'a12': 833, 'regretting': 10769, 'streamable': 12547, 'calculate': 2523, 'saksham': 11338, 'rao': 10559, '2550k': 331, 'stacyplayz': 12393, 'alook': 1233, 'deplete': 3964, 'fetched': 5258, 'ideas': 6671, 'hesitation': 6399, 'heyy': 6406, 'groups': 6091, 'jolliff': 7278, 'lowspecgamer': 7950, 'ashygrounds': 1559, 'mlbhd': 8538, 'evaluation': 4876, 'perez': 9706, 'sack': 11309, 'neural': 8927, 'frankenquest': 5570, 'caught': 2672, 'catches': 2664, 'shade': 11682, 'dimming': 4135, 'zones': 14770, 'separatelly': 11623, 'gripe': 6082, 'squint': 12376, 'exercise': 4956, 'underwater': 13685, 'touching': 13355, 'smacks': 12047, 'aaack': 857, 'aardvark': 862, 'spacer': 12229, 'arcade': 1476, 'hated': 6269, 'pull': 10374, 'resistance': 10935, 'diff': 4095, 'weights': 14254, 'encouraged': 4743, 'sooooo': 12187, 'tada': 12851, 'ching': 2829, 'squeak': 12368, 'stomp': 12506, 'hemijay': 6381, '718': 710, 'finds': 5320, 'equals': 4822, 'basis': 1867, 'overpraised': 9460, 'ayaan': 1732, 'bazaz': 1893, 'sjw': 11958, 'agenda': 1105, 'vigilant': 13994, 'supremacy': 12718, 'noelle': 9012, 'gal': 5711, 'fares': 5165, 'subjects': 12622, 'gorgeous': 5995, 'bonkers': 2213, 'buggy': 2428, 'photograph': 9778, 'ol': 9238, 'prevents': 10150, 'gcam': 5780, 'avoidable': 1699, 'forgiveable': 5506, 'pics': 9801, 'sized': 11956, 'stabilization': 12387, 'pray': 10077, 'fever': 5259, 'illness': 6730, 'breach': 2313, 'stretches': 12562, '08': 13, '20secs': 292, 'bsod': 2406, 'vignetting': 13996, 'international': 7013, 'geldon': 5791, 'ontrack': 9283, 'blog': 2152, 'while': 14303, '20normal': 286, '20hdds': 278, '20can': 274, 'e2': 4534, '20in': 279, '2c000': 370, '20times': 296, '20during': 276, '20its': 281, '20lifetime': 283, 'chinese': 2828, 'commence': 3079, 'daddyezee': 3693, 'cornball': 3391, 'intelligent': 6978, 'resort': 10945, 'forbidden': 5482, 'west': 14270, 'assuring': 1611, 'inventive': 7050, 'deshevled': 3989, 'advert': 1060, 'whyyyyyyyyyyyyyy': 14340, 'thisssssssssssssss': 13143, 'whhyyyyyyyyyyh': 14299, 'pink': 9825, 'stefano': 12467, 'giovannini': 5884, 'lees': 7658, 'bi': 2036, 'gogreenandgameon': 5962, 'prong': 10276, 'flashes': 5383, 'tgank': 13042, 'name01': 8819, 'wisest': 14401, 'nicest': 8955, 'itstechb0i': 7148, 'sidequest': 11861, 'thumbnails': 13200, 'invaluable': 7044, 'ikrrr': 6721, 'drama': 4399, 'fairness': 5116, 'controversy': 3335, 'protests': 10307, 'highlighting': 6423, 'covering': 3457, 'engagement': 4761, 'ranking': 10556, 'lucci': 7968, 'fornite': 5524, 'retarted': 10987, 'visualisation': 14029, 'eeeeeeeee': 4607, 'poggers': 9950, 'techtuber': 12959, 'gndotv0c3lc': 5935, 'effiecient': 4620, 'remarkable': 10828, 'crowded': 3566, 'coupled': 3445, 'removes': 10848, 'legitimately': 7671, 'thoroughly': 13152, 'elegant': 4659, 'toppic': 13335, 'fannys': 5156, 'aah': 860, 'throught': 13182, 'proximity': 10326, '5x': 631, 'sight': 11867, 'borrowed': 2243, 'untethered': 13774, 'smoothness': 12082, 'plunge': 9932, 'aging': 1111, 'hyping': 6632, 'rickroll': 11068, 'k1ng': 7340, 'rat': 10573, 'sprayed': 12344, '10900': 45, '163': 165, 'dhimant': 4063, 'soni': 12174, 'remasters': 10833, 'attains': 1645, 'goals': 5941, 'bed': 1935, 'alanah': 1164, 'pierce': 9807, 'demonstrating': 3938, 'editng': 4595, '76': 725, 'wastes': 14182, 'absurds': 890, 'amounts': 1294, 'zenimax': 14748, 'anmol': 1346, 'arnav': 1516, 'compresses': 3175, 'homie': 6491, 'teasers': 12941, 'xcall23': 14588, 'deceivingly': 3831, 'gifts': 5863, 'whith': 14322, 'lessens': 7693, 'choke': 2840, 'reverse': 11023, 'santana805': 11376, 'montana': 8626, 'disappointment': 4169, 'spread': 12347, 'poison': 9958, 'actively': 972, 'obloms': 9142, 'distinguishing': 4243, 'nishan': 8986, 'ameen': 1281, 'theu': 13110, 'lunch': 7992, 'joshjlmg': 7289, 'productions': 10229, 'ds4windows': 4458, 'dusty': 4512, 'transit': 13421, 'tear': 12937, 'wth': 14536, 'sheep': 11720, 'baideu': 1787, '155gb': 156, '825gb': 748, 'exacerbated': 4916, 'glow': 5927, 'boarders': 2179, 'objects': 9138, 'political': 9969, 'hypocritical': 6635, 'sided': 11858, 'minority': 8488, 'signaling': 11869, 'genocide': 5817, 'latte': 7594, 'snowflakes': 12113, 'california': 2531, 'headquarters': 6311, 'globalization': 5919, 'americanization': 1285, 'become100': 1928, 'asexual': 1552, 'obsessing': 9146, 'confined': 3226, 'comvert': 3192, 'caches': 2518, 'scalp': 11430, 'genre': 5818, 'shooters': 11787, 'definetly': 3884, 'bamethyst': 1803, 'wooosh': 14457, 'comedygraveyard': 3061, 'arguably': 1495, 'niche': 8956, 'detracting': 4028, 'paricyte': 9578, 'themmmmmmmm': 13086, 'portion': 10003, '2½': 391, 'sham': 11693, 'bashes': 1859, 'eddie': 4579, 'intensely': 6985, 'reseted': 10930, 'password': 9616, 'partners': 9598, 'globally': 5920, 'fnacdarty': 5441, 'worldwide': 14485, 'australia': 1666, 'snapdragon': 12095, '888': 755, 'filming': 5304, 'framing': 5561, 'thirds': 13139, 'intrusive': 7040, 'w82krjnpazc': 14098, '2300': 313, 'outperformed': 9406, 'spraying': 12345, 'tints': 13256, 'taillights': 12856, 'fulfill': 5648, 'scheme': 11454, 'cura': 3610, 'refreshing': 10749, 'mountain': 8689, 'everest': 4888, 'keyboards': 7392, 'keys': 7395, 'multitaksing': 8748, 'aspecially': 1576, 'gnoma': 5937, 'rwhooosh': 11269, 'shobco': 11777, 'presenter': 10127, 'anecdote': 1327, 'substantiate': 12639, 'dayum': 3781, 'trounces': 13494, 'awaited': 1706, 'dreams': 4419, 'ocouls': 9177, 'takin': 12865, 'saturate': 11397, 'unfinished': 13697, 'saber16': 11303, 'swift': 12793, 'dependant': 3959, 'dane': 3719, 'castro': 2654, 'unqualified': 13752, 'shin': 11746, 'wh': 14276, 'pe': 9672, 'li': 7723, 'ke': 7368, 'th': 13045, 'rd': 10600, 'krylesangerbeaver': 7494, 'qualified': 10447, 'damnit': 3709, 'mfw': 8398, 'cumbersome': 3604, 'entertainment': 4796, 'deliver': 3910, 'gran': 6034, 'turismo': 13542, 'mommy': 8596, 'daddy': 3692, 'extended': 5042, 'meltdown': 8338, 'bp': 2285, 'spill': 12300, 'flint': 5410, 'crises': 3540, 'texas': 13034, 'grid': 6077, 'thankfully': 13051, 'jealousy': 7212, 'oodles': 9286, 'gas': 5757, '650': 662, 'marcell': 8144, 'kovacs': 7480, 'orderd': 9348, 'effince': 4621, 'controlers': 3328, 'hasnt': 6261, 'itzzzleo': 7152, 'wooooshed': 14456, 'ahegao': 1123, 'h487i_5xozu': 6156, 'clarified': 2909, 'slowed': 12033, 'journalists': 7293, 'mmm': 8545, 'bombs': 2208, 'dancer': 3717, 'hiit': 6430, 'cardio': 2611, 'dance': 3716, 'acitvity': 953, 'licking': 7734, 'energetic': 4758, 'kernels': 7385, 'virtualize': 14014, 'outperforms': 9408, 'angst': 1337, 'wether': 14274, 'caroline': 2635, 'emma': 4705, 'traders': 13395, 'strategies': 12542, 'yippee': 14683, 'just2powerful': 7330, 'robby': 11138, 'vgtech': 13960, 'ian': 6652, '300bucks': 397, 'blocksr': 2151, 'bricking': 2343, 'playability': 9888, 'ball': 1799, 'kitty': 7446, 'driftwood': 4427, 'placed': 9853, 'savior': 11411, 'believes': 1976, 'jn': 7254, 'evening': 4882, 'dan': 3714, 'allways': 1225, 'uff': 13596, 'oclous': 9173, 'damnnn': 3711, 'currency': 3619, 'consistency': 3266, 'rythmic': 11282, 'riot': 11099, 'limb': 7770, 'negligible': 8897, 'bootup': 2233, 'obsession': 9147, 'hellsplit': 6372, 'tlou2': 13279, 'achieves': 950, 'environments': 4811, 'captain': 2594, 'cheezey': 2796, 'lo': 7844, 'yr': 14716, 'gimick': 5877, 'bothersome': 2252, 'robin': 11140, 'lip': 7797, 'moustache': 8694, 'spins': 12305, 'ftp': 5628, 'transfers': 13415, 'containing': 3301, 'belive': 1980, 'shutting': 11844, 'mohd': 8584, 'canceled': 2561, 'hackingpad': 6166, 'concise': 3200, 'offend': 9201, 'consistent': 3267, 'preset': 10132, 'showcased': 11818, 'explored': 5024, 'ranged': 10552, 'translated': 13426, 'frunkity': 5625, 'spidergwen': 12292, 'goated': 5943, 'panda': 9541, 'r4r': 10499, '4r4': 556, 'couldnt': 3430, 'mcewan': 8267, 'perfectrose95': 9712, 'surfshark': 12734, 'assembly': 1586, 'definite': 3885, 'yash': 14638, 'punde': 10389, 'smoking': 12078, 'weed': 14244, 'diva': 4255, 'gameslord': 5735, 'replaying': 10883, 'reinventing': 10785, 'entering': 4791, 'megapixel': 8329, 'toss': 13347, 'pace': 9501, 'vfx': 13958, 'lengths': 7680, 'organs': 9357, 'estate': 4856, 'freedinsanity': 5584, 'multiplat': 8742, 'toxic': 13370, 'hateful': 6270, 'associated': 1600, 'hundreds': 6602, '11inc': 87, '670': 674, 'gen2': 5797, 'brendan': 2332, 'seek': 11562, 'devoid': 4051, 'shattered': 11713, 'dimensions': 4132, 'tsuyara': 13524, 'cutomers': 3656, 'haylou': 6289, 'ls05': 7960, 'mich': 8415, 'stylish': 12611, '7215': 716, 'luci': 7969, 'carelessly': 2621, 'referred': 10736, 'recovered': 10697, 'delay': 3901, 'jhansolo': 7237, 'outer': 9396, 'devalue': 4031, 'leonardo': 7685, 'ruiz': 11243, 'mask': 8182, 'fappucino': 5161, 'decaf': 3826, 'requiring': 10912, 'vector': 13915, 'reallllllllly': 10636, 'cheque': 2802, 'grabbing': 6018, 'perron': 9740, 'browing': 2386, '265': 344, 'document': 4289, 'latex': 7591, 'unboxing': 13650, 'pirate40': 9835, 'degradation': 3891, 'horizontal': 6524, 'timestamp': 13250, 'shitted': 11767, 'employees': 4719, 'engaging': 4762, 'gaze': 5775, 'conflicted': 3230, 'eyeglass': 5062, 'wearers': 14224, 'dice': 4079, 'flawless': 5389, 'undoubtedly': 13687, 'powered': 10046, 'nuisance': 9100, 'celcius': 2688, 'vasiliska': 13907, 'pupkina': 10392, 'marquez': 8166, 'digitals': 4120, 'guard': 6112, 'rentina': 10860, 'tks': 13275, 'spuderman': 12355, 'kilometer': 7423, 'repaint': 10863, 'distance': 4237, 'greatly': 6062, 'balanced': 1794, 'acquisition': 959, 'stumped': 12598, 'severely': 11670, 'intruding': 7039, 'speedier': 12271, 'efficent': 4616, 'aproach': 1457, 'sytems': 12835, 'ie': 6688, 'hdds': 6296, 'nes': 8917, 'krishna': 7487, 'vamsi': 13892, 'smirk': 12070, 'therapist': 13094, 'locate': 7856, 'raza': 10595, 'bokhari': 2202, 'backups': 1770, 'scramble': 11480, 'normies': 9050, 'paste': 9619, 'seeking': 11563, 'tracklol': 13386, 'bcz': 1902, 'largest': 7571, 'contributors': 3325, 'revenue': 11020, 'integrate': 6973, 'jam': 7184, 'otaku': 9375, 'onlime': 9274, 'prob': 10198, 'tommorow': 13307, 'sanitizer': 11371, 'ip': 7073, 'mutch': 8778, 'explaind': 5010, 'shawn': 11716, 'deen': 3863, 'defeats': 3873, 'haired': 6189, 'zucc': 14775, 'stiked': 12487, 'slappinmemer': 11999, 'posible': 10008, 'weighed': 14251, 'dictate': 4082, 'households': 6549, 'retailers': 10982, 'diamond': 4073, 'cardinal': 2610, 'lyrics': 8007, 'moana': 8548, 'saturated': 11398, 'jt': 7305, 'behaves': 1959, 'dd4': 3792, 'anandtech': 1311, '16252': 164, '208x': 270, '2dbit': 372, '20memory': 284, '20102ns': 244, '20on': 288, '20the': 295, '20a14': 271, '6000x': 641, 'shitload': 11764, 'asics': 1563, 'asic': 1562, 'fpga': 5550, 'codecs': 2999, 'sporty': 12337, 'doesent': 4300, 'copying': 3379, 'heroes': 6391, 'newerth': 8936, 'prisoner': 10188, 'e3': 4535, 'cardon': 2612, 'insights': 6946, 'editions': 4594, 'military': 8456, 'cloudy': 2969, 'las': 7572, 'policy': 9967, 'becoming': 1930, 'presenters': 10128, 'glitches': 5913, 'exlusive': 4973, 'heli': 6363, 'lives': 7822, 'nada': 8800, 'chomping': 2843, 'char': 2751, 'les': 7688, 'realizes': 10634, 'spike': 12298, 'income': 6832, 'stealing': 12460, 'carefully': 2618, 'characteristic': 2753, 'richest': 11064, '720p': 714, 'windowed': 14372, 'janky': 7188, 'exaggeration': 4922, 'mutalix': 8776, 'costom': 3420, 'bgm': 2033, 'net': 8920, 'ceiling': 2687, 'dumpling': 4492, 'ninja': 8982, 'bird': 2077, 'drugs': 4451, 'chonk': 2845, 'shrunk': 11837, '13nm': 126, 'kruber': 7492, 'relieves': 10812, 'extending': 5043, 'warranties': 14165, 'slobs': 12025, 'careless': 2620, 'chop': 2849, '2007': 235, 'peoples': 9696, 'sketchy': 11964, 'praises': 10071, 'immensely': 6762, 'conclution': 3205, 'tricked': 13463, 'workstation': 14481, '_lamp': 831, 'adrian': 1044, 'gabriel': 5702, 'kyouya': 7511, 'viber': 13965, 'recommendation': 10683, 'cinema': 2876, '4d': 541, 'r23': 10496, 'cgdirector': 2723, 'viewport': 13992, 'scores': 11474, 'xandi': 14565, 'yves': 14731, 'villarosa': 14000, 'xeon': 14597, 'e5640': 4536, 'jolly': 7279, 'giuseppe': 5891, 'elaborate': 4647, 'cosmic': 3411, 'sakhawat': 11337, 'rahman': 10519, 'foresee': 5494, 'bloated': 2143, 'guilty': 6124, 'sabers': 11304, 'slut': 12043, 'despise': 4004, 'wwdc21': 14543, 'barefeats': 1836, 'finalcut': 5311, 'persons': 9751, 'argos': 1494, 'thirty': 13140, 'coordinated': 3369, 'nights': 8976, 'regained': 10760, 'urnanslawnmower': 13830, 'heheh': 6356, 'tremendously': 13452, 'uma': 13629, 'bottlenecked': 2257, 'sweaty': 12785, 'neva': 8928, 'delays': 3903, 'ml': 8536, 'incrementally': 6854, 'url': 13829, 'sameeeee': 11351, 'deciding': 3841, 'catwalk': 2671, 'yeeeears': 14654, 'ebgames': 4569, 'frightening': 5616, 'chanel': 2741, 'sims': 11907, 'squirrel': 12377, 'akami': 1159, '10gb': 52, 'inevi': 6887, 'audit': 1658, 'auditor': 1660, 'descriptive': 3984, 'perscriptive': 9741, 'morphed': 8657, 'pronunciation': 10281, 'examples': 4926, 'bona': 2209, 'fide': 5271, 'phrases': 9786, 'morph': 8656, 'proving': 10323, 'who': 14325, 'automatic': 1678, 'flick': 5404, 'tail': 12855, 'debet': 3817, 'paysafecard': 9659, 'dam': 3698, 'powerusers': 10055, 'gladly': 5903, 'watchers': 14189, 'nothings': 9064, 'funnier': 5669, 'mbpro': 8260, 'whoooooo': 14332, 'yehh': 14662, 'zoomed': 14772, 'discarded': 4181, 'slowing': 12036, 'overblown': 9430, 'defective': 3875, 'iota': 7072, 'fiddly': 5270, 'unbroken': 13651, 'pronged': 10277, 'speculative': 12267, 'ucggkkx7cvdadtozlmwqhevq': 13594, 'wz': 14548, 'trolli': 13487, 'peoppe': 9697, 'shelling': 11730, 'assasins': 1581, 'creed': 3516, 'responsibilities': 10959, 'derveloper': 3977, 'gardian': 5751, 'lakis': 7547, 'pyravlakis': 10431, 'bundles': 2455, 'serina': 11638, 'asmr': 1573, 'techie': 12948, 'handy': 6221, 'owc': 9478, 'macsales': 8044, 'bricked': 2342, 'plants': 9871, 'dried': 4424, 'ocean': 9170, 'christian': 2858, 'tues': 13531, 'adjustment': 1024, 'themysterykid1': 13088, 'battlefield': 1886, '5512': 593, 'otakus': 9376, 'bankruptcy': 1821, 'shashank': 11710, 'pandey': 9544, 'bhphotovideo': 2035, '1476411': 138, 'reg': 10759, 'nanlite_15_2008_4kit_pavotube_30c_4_rgbw': 8828, 'html': 6570, 'gurleen': 6134, 'kaur15': 7363, 'whiles': 14304, '4000mah': 492, 'zenui': 14750, 'headphone': 6309, 'gorillia': 5997, 'victus': 13979, 'gorilla': 5996, 'protection': 10303, 'outdated': 9391, 'kiddin': 7407, 'goods': 5984, 'fingerprints': 5325, 'secure': 11553, 'promising': 10265, 'turn10': 13546, '343': 438, 'subreddit': 12627, 'rep': 10862, 'precision': 10085, 'makee': 8083, 'chelsea': 2799, 'highlights': 6424, 'theater': 13070, 'kd': 7367, '60000': 640, 'psnow': 10344, 'luthien': 7998, 'rma': 11125, 'guuuuyyyyssss': 6138, 'reset': 10929, 'stranded': 12534, 'rolling': 11172, 'supporting': 12711, 'invalidate': 7043, 'bummed': 2448, 'goku_slayer999': 5966, 'disappear': 4164, 'slowest': 12035, 'overcharges': 9432, 'marginal': 8148, 'ergonomics': 4831, 'wrists': 14523, 'sharp': 11706, 'clipping': 2947, 'enclosed': 4736, 'diffuser': 4108, 'skateboard': 11960, 'branding': 2303, 'le': 7626, 'bottomlake': 2261, 'h410': 6155, 'b460': 1745, 'tingles': 13253, 'rpc': 11217, 'scissors': 11468, 'paquin': 9563, 'collections': 3029, 'perferct': 9713, 'imperfectly': 6778, 'encoding': 4741, 'handbrake': 6208, 'fcpx': 5209, 'shatt': 11711, '30w': 417, 'serve': 11644, 'stretched': 12561, 'digged': 4113, 'rightfully': 11088, 'dots': 4354, 'nonetheless': 9028, 'looooooooove': 7908, 'becuse': 1933, 'measured': 8293, '256ssd': 336, 'rotates': 11199, 'fingertips': 5327, 'basketball': 1869, 'psd': 10341, 'dota2': 4353, 'enjoyable': 4777, 'gens': 5820, 'zane': 14738, 'dummy': 4490, '11gen': 86, 'holder': 6470, 'gbs': 5779, 'shallow': 11691, 'hdtv': 6299, 'fernandez': 5254, 'nicht': 8958, 'ich': 6660, 'frontend': 5621, 'glowner': 5929, 'brazilllian': 2312, 'optimisations': 9329, 'justpancakesvr': 7336, 'citizen': 2894, 'cods': 3005, 'dominated': 4322, 'uppercase': 13812, 'lowercase': 7945, 'bytes': 2505, 'bits': 2092, '8x': 783, 'byte': 2504, 'consumed': 3288, 'bugsnax': 2430, 'sats': 11395, 'meaningful': 8284, 'xthot': 14623, 'recommended': 10685, 'television': 12972, 'jagged': 7175, 'mcables': 8263, 'aliasing': 1195, 'thrones': 13175, 'fnaf': 5442, 'watcher': 14188, 'australianwi': 1668, 'pal': 9534, 'distribution': 4250, 'bionic': 2074, 'smatgamer': 12064, 'sx': 12813, 'imaging': 6748, 'powerpoint': 10053, 'puny': 10391, 'mandated': 8112, 'meadia': 8280, 'unpopular': 13749, 'weve': 14275, 'witnissed': 14420, 'horrors': 6532, 'secconds': 11540, 'symmetrical': 12821, 'involves': 7066, 'safely': 11321, 'depended': 3960, 'ugguzgdv6hc': 13599, 'mentality': 8353, 'rethink': 10989, 'goona': 5989, 'ofm': 9220, 'eyesores': 5068, 'bintel': 2070, 'coollll': 3363, 'nick': 8959, 'ellie': 4673, 'stan': 12402, 'coment': 3062, 'downloadable': 4373, 'spendy': 12280, 'intonation': 7029, 'hosted': 6537, '275w': 350, 'mce': 8266, '11000': 69, 'yeeee': 14652, 'placement': 9855, 'hints': 6438, 'elenchus': 4661, 'nornal': 9051, 'worksout': 14480, 'band2': 1807, 'wating': 14201, 'greece': 6063, 'narration': 8839, 'quotes': 10490, 'incongito': 6839, 'lucrativeness': 7977, 'passive': 9613, 'incomes': 6833, 'aid': 1134, 'millionaire': 8463, 'corrects': 3406, 'distortion': 4244, 'rotating': 11200, 'kiss': 7438, 'amazin': 1270, 'fueling': 5642, '12tflop': 113, 'narrative': 8840, 'rdna2': 10602, 'cerny': 2716, 'morse': 8660, 'rnda2': 11128, 'villain': 13999, 'showcasing': 11820, 'bluepopint': 2168, 'des': 3978, 'timed': 13243, 'directed': 4147, 'wild': 14362, 'tangled': 12884, 'furry': 5676, 'edgelord': 4583, 'stitch': 12495, 'iq': 7086, 'popped': 9985, 'doable': 4282, 'trim': 13474, 'knicks': 7454, 'imports': 6793, 'yessssssssss': 14674, 'mores': 8649, 'surprises': 12744, 'beaut': 1920, 'instaaa': 6954, 'reconsider': 10691, 'pos': 10007, 'ddr2': 3794, 'ragnarok': 10518, 'sleeve': 12007, 'improves': 6805, 'stretching': 12563, 'yess': 14670, 'coached': 2989, 'pretended': 10141, 'pard': 9573, '5500m': 592, 'modding': 8559, 'crossovers': 3563, 'ehhh': 4638, 'detects': 4022, 'automatically': 1679, 'incresed': 6855, 'screenshots': 11496, 'paco': 9510, 'summery': 12686, 'xboxs': 14582, 'unscrew': 13763, '313th': 419, 'brecondo': 2326, 'renegade': 10857, 'upscaling': 13819, 'smartypants': 12059, 'downscaling': 4380, 'downscale': 4379, 'mpad': 8707, 'sleeves': 12008, 'jude': 7307, '10850k': 43, 'o_o': 9124, 'statistical': 12445, 'virtualisation': 14012, 'adoniyas': 1037, 'girma': 5888, 'enrico': 4786, 'bugatti': 2426, 'applied': 1440, 'substituting': 12641, 'ahhhh': 1126, 'yeoldmedic': 14666, 'messy': 8381, '809': 744, '240fps': 319, 'sebastian': 11538, 'comessssssss': 3065, 'anoung': 1365, 'helmet': 6373, 'umm': 13631, 'plutosphere': 9936, 'moneys': 8606, 'object': 9135, 'ajd': 1155, 'shitily': 11763, 'innovate': 6925, 'homework': 6490, 'katsch': 7362, 'ooh': 9289, 'televisible': 12971, 'rub': 11230, 'deteriorating': 4025, 'crusties': 3576, 'matched': 8205, 'embedded': 4697, 'elastic': 4648, 'scratched': 11484, 'spectacles': 12263, 'malfunction': 8097, 'archiving': 1486, 'kindly': 7428, 'throttle': 13176, 'loooooool': 7905, 'metallic': 8387, 'coloring': 3040, 'glub': 5930, 'tsz': 13525, 'fung': 5667, 'effortless': 4623, 'feedthis': 5233, 'responding': 10955, 'tournament': 13362, 'nanometers': 8833, 'invested': 7054, '2000ussd': 232, '7days': 732, '9100ussd': 790, 'hottie': 6543, 'ipp': 7084, 'kitchen': 7442, 'cooking': 3356, 'ftw': 5629, 'bullpoopy': 2445, 'crinkling': 3537, 'mexico': 8396, 'garry': 5756, 'farcebook': 5163, 'stopwatch': 12518, 'exiting': 4969, 'ishaan': 7109, 'jagali': 7174, 'orientation': 9360, 'something1random23': 12163, 'rtx3080': 11227, 'snag': 12091, 'virginity': 14009, 'sounded': 12208, 'borderline': 2237, 'méxico': 8794, 'betray': 2016, 'doctor': 4288, 'consultation': 3285, 'forming': 5519, 'spaceowl': 12228, '8physical': 776, 'vcv': 13912, '74': 718, 'hubs': 6579, '5ii': 621, 'mf': 8397, 'donalds': 4327, 'popcorn': 9982, 'bps': 2286, 'hohn': 6467, 'alluded': 1224, 'oclucus': 9174, 'programmer': 10249, 'outsold': 9419, 'unplayable': 13747, 'r4z0r84': 10500, 'bloat': 2142, 'overhead': 9443, 'outdo': 9392, 'offshoot': 9219, 'jakevaccarovfx': 7183, 'adult': 1047, 'respected': 10951, 'defect': 3874, 'rushing': 11264, 'slapping': 11998, 'recessed': 10667, 'matthias': 8232, 'hollmann': 6478, 'oliver': 9247, 'unknownuwu': 13729, 'd15s': 3680, 'tempting': 12987, 'me': 8277, 'oastlers': 9127, 'bur': 2459, 'vram': 14080, 'preloaded': 10106, 'maaaan': 8022, 'validation': 13885, 'fer': 5251, 'progress': 10253, '2008': 236, 'unibody': 13704, 'flooded': 5419, 'longlife': 7888, 'bodyshape': 2189, 'mbair': 8253, 'ist': 7125, 'dume': 4487, 'http': 6571, 'zxsd': 14780, 'aqmjcw': 1463, '11m10s': 89, 'outselling': 9417, 'relationship': 10796, 'risking': 11115, 'substance': 12636, 'nomad': 9020, 'vr1': 14078, 'quitting': 10484, 'tolerable': 13302, 'corded': 3383, 'inconvenience': 6843, 'weighing': 14252, 'generationally': 5807, 'faked': 5121, 'ireland': 7090, 'neongreensniper': 8907, 'pie': 9804, 'disrespectful': 4230, 'cuckolds': 3596, 'blatantly': 2117, 'lma': 7831, 'wold': 14429, 'pinned': 9828, 'honesty': 6501, 'relogins': 10818, 'bracketing': 2289, '150mb': 148, 'connery': 3249, 'flee': 5393, 'rapture': 10565, 'unfamiliar': 13696, 'believers': 1975, 'eternity': 4863, 'compelled': 3128, 'spirit': 12306, 'daughters': 3753, 'prophesy': 10290, 'visions': 14025, 'servants': 11643, 'handmaidens': 6216, 'kjv': 7447, 'bible': 2039, 'knoweth': 7461, 'angels': 1332, 'mrk': 8715, 'luk': 7985, '1th': 227, 'unexpectedly': 13693, 'prepared': 10119, 'thou': 13154, 'shalt': 11692, 'confess': 3219, 'thy': 13211, 'thine': 13126, 'raised': 10529, 'romans': 11177, 'essential': 4851, 'temptation': 12985, 'sway': 12779, 'hast': 6263, 'thee': 13074, 'dwell': 4521, 'rev': 11011, 'obey': 9133, 'unjust': 13727, 'lust': 7996, 'deceit': 3829, 'gender': 5799, 'lgbt': 7722, 'religions': 10813, 'respectful': 10952, 'sinners': 11933, 'physically': 9788, 'spiritually': 12309, 'strive': 12575, 'righteously': 11086, 'revelations': 11018, 'bibles': 2040, 'prayer': 10078, 'allaboutgod': 1205, 'of': 9196, 'htm': 6569, 'zf': 14755, 'sd780g': 11514, 'dim1100': 4129, 'thingys': 13131, 'researched': 10919, 'connector': 3247, 'technician': 12952, 'greetings': 6071, 'colombia': 3036, 'surround': 12748, 'tysm': 13586, 'countdown': 3433, 'fugly': 5645, 'realllyyyyy': 10637, 'fallow': 5130, 'secondary': 11542, 'lifetimes': 7745, 'electron': 4655, 'strides': 12567, 'embarrass': 4694, '6am': 688, 'suppoused': 12717, 'lls': 7830, 'geniusgamingarg': 5816, 'saren': 11382, 'storm': 12526, 'join': 7271, 'classes': 2915, '918': 792, 'through': 13179, 'pleaseeeee': 9915, 'sonyy': 12181, 'nuanced': 9095, 'dogtier': 4309, 'oversized': 9465, 'alvaro': 1257, 'rivera': 11121, 'buffier': 2424, 'depreciate': 3966, 'caritibo': 2627, 'neglected': 8895, 'easton': 4561, 'reese': 10731, 'disabilities': 4157, 'edible': 4586, '15k': 159, 'overnight': 9456, '1986': 206, '1gb': 213, 'qualities': 10449, 'regularity': 10771, 'rick': 11067, 'creaky': 3499, 'teacha': 12927, 'conveniences': 3338, 'trackpad': 13387, 'talent': 12867, 'grudge': 6096, 'ignoring': 6701, 'peaks': 9676, 'wwdc': 14542, 'fresh': 5602, 'nexxol': 8944, 'icons': 6664, 'heyya': 6407, 'uhmm': 13611, 'hidden': 6413, 'lining': 7785, 'questugisugiruguiffdguigufiuguigfuiugiiagigiiufsuy': 10468, 'hernandez': 6389, 'uniquely': 13716, 'occasionally': 9162, 'lewi': 7716, 'davies': 3767, 'babies': 1748, 'witness': 14419, 'ww2': 14540, 'burned': 2467, 'bloody': 2157, 'sandwich': 11368, 'subscriber': 12632, 'iut': 7154, 'appear': 1426, 'inicial': 6918, 'ada': 985, 'sunsun': 12692, 'canister': 2569, 'wideband': 14346, 'border': 2236, 'ver1': 13936, 'ver3': 13937, 'seat': 11536, 'haters': 6272, 'tribalism': 13457, 'dutch': 4514, 'twinmotion': 13567, 'mother': 8675, 'architects': 1482, 'ma': 8021, 'skylake': 11986, 'burnlake': 2472, 'kriston': 7489, 'brannan': 2306, 'diacritics': 4067, 'unicode': 13705, 'brokers': 2373, 'cnbc': 2984, 'stretch': 12560, '7gb': 733, 'zillion': 14760, 'killers': 7416, 'trailers': 13403, 'm3': 8016, 'calculated': 2524, 'representation': 10898, 'taxes': 12914, 'turkish': 13544, 'lira': 7800, 'government': 6004, 'emphasize': 4714, 'partially': 9588, 'psychological': 10359, 'coping': 3373, 'dealt': 3809, 'counseling': 3431, 'foremost': 5492, 'binyl': 2071, 'stocker': 12497, '666th': 671, 'segways': 11578, 'michel': 8417, 'oza': 9493, 'escapism': 4844, 'york': 14695, '1981': 205, 'donkey': 4331, 'kong': 7478, 'pardon': 9574, 'lads': 7536, 'micosoft': 8418, 'wirelessly': 14392, 'stuttery': 12607, 'godamn': 5950, 'jet': 7232, 'rohit': 11165, 'nigam': 8968, 'ear': 4541, 'makeing': 8084, 'perpetually': 9737, 'starter': 12424, 'reduced': 10722, 'rut': 11268, '1h': 215, 'forgets': 5502, 'loooooooooooong': 7907, 'prescription': 10122, 'loooooooool': 7906, 'ignorant': 6697, 'xbot': 14575, 'disliked': 4213, 'vpn': 14074, 'l8r': 7519, 'pornhub': 9994, 'identical': 6672, 'banish': 1818, 'tik': 13233, 'tok': 13298, 'serves': 11647, 'cleared': 2929, 'scratchs': 11486, 'luckly': 7975, 'coated': 2993, 'naked': 8816, 'resolutions': 10942, 'shadowdev': 11684, 'qith': 10439, 'performanxe': 9719, 'vr2': 14079, 'insightful': 6945, 'tac': 12847, 'alix': 1203, 'universe': 13723, 'she': 11717, 'loe': 7864, 'darshan': 3740, 'makaveli': 8081, 'thuggish': 13192, 'lastly': 7581, '10700kf': 39, 'preforming': 10105, 'turd': 13541, 'prevention': 10149, 'fuqu': 5672, 'omggggg': 9255, 'visiting': 14027, 'snagged': 12092, 'misfit': 8501, 'command': 3076, 'interactivity': 6997, 'eleven': 4664, 'eastern': 4560, '6gigs': 696, 'purge': 10399, 'riothero313': 11100, 'backlog': 1766, 'derivative': 3974, 'runtime': 11258, 'liek': 7737, 'layouts': 7619, 'interpretation': 7017, 'hbm': 6293, 'accessed': 912, 'dimms': 4136, 'philosophy': 9773, 'desktops': 4001, '3200': 424, 'capacities': 2583, 'palatable': 9535, '5tb': 629, 'specified': 12260, 'fujitsu': 5646, 'a64fx': 841, 'pcie': 9664, 'doubles': 4356, 'ddr': 3793, '20k': 282, 'retrograded': 11001, 'icaruskid': 6654, 'thumb_up': 13197, 'futeristik': 5684, 'loook': 7902, 'importan': 6788, 'refusing': 10758, 'fewer': 5260, 'accidentaly': 922, 'fuckinzell': 5637, 'retiring': 10995, 'barley': 1844, 'buddies': 2416, 'nut': 9106, 'hugger': 6585, 'lightning': 7755, 'nasty': 8843, 'vscode': 14089, 'naahh': 8799, 'porting': 10002, 'arc': 1475, 'nemisis': 8904, 'craze': 3492, 'uncovered': 13663, 'russian': 11266, 'hyacinth': 6621, 'polish': 9968, 'afore': 1091, 'jogging': 7263, 'ordinary': 9352, 'greasy': 6057, 'wallaby': 14129, 'hesitant': 6395, 'meabs': 8279, 'tgose': 13044, 'mojang': 8586, 'scream': 11487, 'trader': 13394, 'onestly': 9271, 'smartest': 12055, 'authenticity': 1670, 'suuuuuper': 12761, 'occasional': 9161, 'canabisonlineshop': 2556, 'marijuana': 8152, 'buds': 2419, 'tempo': 12981, 'immunologically': 6769, 'broadly': 2368, 'imminent': 6766, 'protest': 10306, 'savory': 11413, 'spotless': 12340, 'bluet0pstv': 2169, 'oxymeters': 9492, 'its': 7146, 'warmer': 14158, 'dudes': 4473, 'dh': 4061, 'wanttttt': 14148, '3800x': 465, 'a7r3': 844, '50raw': 574, 'exporttime': 5033, '48sec': 535, 'upd': 13791, 'lenovo': 7682, '5p': 627, '4800h': 531, '2060': 265, '54sec': 589, 'trx': 13514, 'ver': 13935, '15gb': 158, 'milking': 8458, 'ryt': 11281, 'ashutosh': 1557, 'maraj': 8140, 'lmaooooo': 7836, 'iiiiiiiis': 6709, 'sassy': 11389, 'bacterial': 1774, 'wipes': 14386, 'fewture': 5261, '12z': 116, 'p4': 9495, 'boogaloo': 2216, 'crimin': 3529, 'cy': 3663, 'starkman': 12418, 'ford': 5487, 'calming': 2537, 'rebranded': 10652, 'horizzon': 6526, 'csgo': 3590, 'guides': 6123, 'jay': 7203, 'bratt': 2307, 'outputting': 9410, 'wiser': 14400, '42mp': 512, 'tiffs': 13226, 'jpegs': 7300, 'dng': 4279, 'ditto': 4254, 'smoke': 12073, 'mirrors': 8498, 'voiced': 14054, 'commentaries': 3082, 'onscreen': 9280, 'ewant': 4912, '6k': 699, 'blackmagic': 2103, 'occurring': 9167, 'munich': 8761, 'cinematography': 2879, 'lookin': 7895, 'lair': 7545, 'hollywood': 6480, 'exquisitely': 5040, 'evolution': 4907, 'rogan': 11163, 'qualcomm': 10446, 'xr2': 14617, 'xr': 14616, 'unlocks': 13738, 'staggering': 12397, 'powering': 10050, 'delivering': 3913, '11x': 91, 'perception': 9704, 'incorporating': 6844, 'analytics': 1307, 'eva': 4875, 'offload': 9214, 'cutting': 3659, 'heterogenous': 6400, 'preserve': 10131, 'playtime': 9910, 'wi': 14341, 'fastconnect': 5174, 'enables': 4734, 'boundaries': 2266, 'hugo': 6587, 'swart': 12778, 'vp': 14072, 'closely': 2958, 'enhance': 4773, 'milestone': 8454, 'collaboration': 3023, 'cuestio': 3600, 'develoment': 4033, 'yuo': 14727, 'tooooo': 13328, 'celebrating': 2690, 'novy': 9083, 'gett': 5841, 'aplaude': 1414, 'stayin': 12452, 'caveman': 2679, 'coin': 3015, 'hong': 6504, 'prize': 10194, 'slept': 12009, 'thankssss': 13054, 'jon': 7281, 'prosser': 10299, 'endsss': 4756, 'hahahahaha': 6180, 'hop': 6515, 'joel': 7260, 'hogger': 6466, 'nevertheless': 8931, 'waifu': 14110, 'ayo': 1735, 'bruises': 2396, 'ignacy': 6695, 'comp': 3101, 'overwatch': 9474, 'earphones': 4551, 'emotional': 4711, 'decor': 3851, 'does': 4298, 'yuppie': 14729, 'zooming': 14773, 'niceeeeee': 8952, 'pleasent': 9916, 'commercials': 3089, 'retires': 10994, 'crisp': 3542, 'fuzzy': 5689, 'wujo444': 14539, 'cos': 3410, 'devils': 4045, 'canyon': 2578, 'breathing': 2324, 'estimated': 4858, 'variation': 13902, 'fluctuation': 5428, 'disturbances': 4251, 'apnea': 1416, 'snore': 12108, 'caridovascular': 2625, 'kzayed': 7514, 'burai': 2460, '200fps': 239, 'comrade': 3191, 'enjoys': 4780, 'simmer': 11894, 'burning': 2471, 'thiis': 13124, 'the4': 13067, 'traction': 13389, 'npi': 9089, 'youweechube': 14715, 'lesir': 7690, 'soap': 12118, 'opera': 9305, 'cretin': 3525, 'plastidip': 9877, 'peels': 9684, 'intetcepted': 7026, 'stricked': 12564, 'tall': 12876, 'wider': 14350, '80mm': 745, 'caravan': 2603, 'spindly': 12302, 'coincidently': 3017, 'inconclusive': 6838, 'rake': 10536, 'quaint': 10444, 'fatal': 5180, 'fury': 5680, 'hat': 6266, 'spyro': 12363, 'landscapes': 7557, 'flying': 5439, 'eagle': 4540, 'flame': 5375, 'oculd': 9184, 'yang': 14634, 'cums': 3606, 'minh': 8477, 'honda': 6498, 'lambo': 7549, 'mitigated': 8525, 'scammers': 11439, 'mustafaps5': 8775, 'clem': 2932, 'spesh': 12283, 'ponies': 9974, 'teen': 12963, 'r2': 10495, 'immerse': 6763, 'awkwardly': 1720, 'bulgaria': 2438, 'chrismas': 2855, 'notised': 9075, 'fisrt': 5350, 'somthing': 12169, 'lashes': 7576, 'virgins': 14010, 'runing': 11253, 'complexity': 3163, 'variables': 13899, 'blogs': 2153, 'children': 2819, 'goooooo': 5992, 'rightful': 11087, 'bros': 2380, 'lessgooo': 7695, 'kicking': 7404, 'pending': 9689, 'cringefest': 3534, 'decommission': 3849, 'dp': 4385, 'derg': 3973, 'psps': 10347, 'synced': 12824, 'avg': 1694, 'lows': 7949, 'optimal': 9327, 'situtation': 11950, '360hz': 452, '720fps': 713, 'framestutter': 5560, 'haywire': 6291, 'snot': 12110, 'participants': 9589, 'twenty': 13564, 'ash': 1554, 'translations': 13429, 'toooooo': 13329, 'xddd': 14592, 'upppp': 13814, 'creepiest': 3522, 'utube': 13866, 'reject': 10786, 'loudspeaker': 7932, 'earbuds': 4542, 'circular': 2886, 'dial': 4069, 'weather': 14229, 'continuation': 3310, 'encode': 4738, 'dave2dyes': 3757, 'imagining': 6749, 'cambells': 2543, 'bloodbath': 2155, 'infinity': 6898, 'gauntlet': 5769, 'stone': 12509, 'vanished': 13895, 'ken': 7375, 'ehh': 4637, 'rosetta2': 11191, 'boast': 2181, 'ends': 4755, 'realm': 10639, 'outweigh': 9424, 'yikes': 14682, 'threadripper': 13164, 'smiled': 12068, 'gently': 5824, 'otaño': 9377, 'lago': 7543, 'daysssssss': 3779, 'bough': 2263, '6c': 689, 'speechless': 12269, 'underneath': 13671, 'curlyemmm': 3618, '123': 98, 'construct': 3281, 'morpheus': 8658, 'discloses': 4190, 'evangelion': 4878, 'grace': 6021, 'intelectual': 6977, 'dialect': 4070, 'supreme': 12719, 'daring': 3731, 'exclusively': 4945, 'fifth': 5278, 'faded': 5101, 'djzrob': 4268, 'holiday': 6475, 'sips': 11936, 'mojito': 8587, 'trusted': 13509, 'justifies': 7333, 'hncz': 6462, 'intentions': 6992, 'execution': 4954, 'raihan': 10523, 'aradhana': 1473, 'importing': 6792, 'select': 11583, '349': 440, 'otherside': 9380, 'widest': 14351, 'sensation': 11608, 'sponsorship': 12331, 'forms': 5520, 'performances': 9717, 'searching': 11531, 'sapphire': 11377, 'wacky': 14104, 'shoulda': 11808, 'orgin': 9358, 'havea': 6279, 'jurassic': 7326, 'aftermath': 1097, 'elon': 4676, 'birthdate': 2081, 'maiden': 8067, 'risky': 11117, 'fearherodoesyt': 5214, 'incremental': 6853, 'defects': 3876, 'pascal': 9605, 'wager': 14107, 'damm': 3704, 'styling': 12609, 'prototyping': 10313, 'dropbox': 4445, 'obliterated': 9139, 'expressing': 5039, 'hallo': 6196, 'wick': 14343, 'collage': 3024, 'onedrive': 9267, 'xavier': 14570, 'cleanmymac': 2926, 'bloating': 2144, 'killer': 7415, 'popularity': 9989, 'circuitry': 2885, 'lookup': 7899, 'misc': 8499, 'operation': 9307, 'neogaf': 8906, 'swallow': 12769, 'sections': 11550, '4k60fps': 553, 'transitioning': 13423, 'mmddayi': 8544, 'governs': 6005, 'ehm': 4641, 'dmc5': 4275, 'montague': 8625, 'adore': 1042, 'samee': 11349, 'height': 6359, 'recommending': 10686, 'setups': 11663, 'tooo': 13327, 'ethics': 4865, 'creedy': 3517, '60s': 650, 'remained': 10823, 'bleed': 2122, 'throat': 13173, 'ia': 6649, 'fraudulent': 5576, 'toxicnova': 13371, 'tf2': 13039, 'brags': 2292, 'tones': 13314, 'marginally': 8150, '663gb': 667, 'karan': 7351, 'sanjeev': 11372, 'davis': 3770, 'tumbnail': 13535, 'frankenstein': 5571, 'irreparably': 7098, 'publicly': 10367, 'disaster': 4176, 'captured': 2600, 'awww': 1726, 'dlcs': 4272, 'mackay': 8035, 'jacobo': 7171, 'gheller': 5848, 'hawking': 6285, 'unopened': 13744, 'est': 4854, 'displayport': 4224, 'unavailable': 13640, '16b': 170, 'boots': 2232, 'juncture': 7320, 'preffering': 10104, 'revolutionising': 11043, 'reflected': 10741, 'immense': 6761, 'commentary': 3083, 'patner': 9637, 'won': 14436, 'tchange': 12923, 'revisiting': 11035, 'editorial': 4597, 'directionchange': 4149, 'brian': 2337, 'rizzo': 11122, 'pr': 10062, 'oooo': 9295, 'nit': 8988, 'itek': 7137, 'humour': 6599, 'fa': 5072, 'thoni': 13149, 'gangsta': 5742, 'hamster': 6204, 'suffers': 12664, 'mill': 8460, 'aaalright': 859, 'ocolus': 9176, 'nihonkokusai': 8978, '12k': 111, 'headed': 6306, 'mkbhds': 8533, 'contents': 3306, 'circlejerking': 2882, 'mildly': 8449, 'dread': 4415, 'discussion': 4202, 'worht': 14464, 'redpilled': 10718, 'morslis': 8661, 'praised': 10070, 'touted': 13364, 'dangit': 3722, 'anchor': 1312, 'bard': 1834, 'innovations': 6929, 'stereo': 12472, 'mono': 8618, 'entirety': 4801, 'fedex': 5228, 'uniformed': 13709, 'tester': 13024, 'barrelplayz': 1847, 'dosnt': 4350, '0th': 18, 'simultaneous': 11913, '8086k': 743, 'messured': 8380, 'benchmarked': 1989, 'capacitive': 2584, 'didint': 4085, 'sonys': 12180, 'd2s': 3682, 'stonks': 12510, 'chew': 2808, 'singleton': 11927, 'suing': 12675, 'yiannis': 14680, 'belias': 1969, 'allright': 1223, 'tarw': 12902, 'bud': 2415, 'asklightningstrike': 1570, 'was': 14172, 'asleep': 1572, '5900': 608, 'moly': 8591, 'equivilent': 4827, 'complecaited': 3156, 'lofstrom': 7865, 'offense': 9202, 'diminishing': 4133, 'classifications': 2918, 'exhausted': 4957, 'alternatingly': 1248, 'compressing': 3177, 'urgently': 13828, 'intermediate': 7009, '8gib': 766, 'enormous': 4783, 'cube': 3592, 'cuber': 3593, '13inch': 125, '30hz': 414, 'welfare': 14262, 'questioning': 10465, 'clever': 2933, 'whites': 14320, 'revit': 11036, 'gtx': 6106, 'surprising': 12745, 'excluding': 4943, 'adaptor': 996, 'vibrate': 13968, 'decency': 3833, '25th': 338, 'healthy': 6321, 'f3': 5071, 'bahrain': 1786, 'vladim': 14045, 'featured': 5221, 'forums': 5532, '2271101': 309, 'offloading': 9216, '5yrs': 635, 'creatives': 3508, 'hardee': 6244, 'pokerstars': 9960, 'nwachukwu': 9113, 'autonomous': 1682, 'animate': 1340, 'computations': 3186, 'samin': 11353, 'latif': 7592, 'tiers': 13225, 'suitable': 12677, 'vsts': 14090, '3q1o7hsvo62nsqu5s1qtmnasaqsowrgk4c': 482, 'assigns': 1594, 'lapping': 7564, 'nyc': 9119, 'nuking': 9101, 'bake': 1791, 'oven': 9427, 'netburst': 8921, 'x64': 14560, 'yeey': 14660, 'maric': 8151, 'everyhing': 4896, 'yuan': 14723, 'abroad': 886, 'iii': 6707, 'leagues': 7634, 'burke': 2465, 'flock': 5417, 'amoung': 1292, 'assassians': 1582, 'mandatory': 8113, 'specifications': 12258, 'poem': 9946, 'boogie': 2217, 'sync': 12823, 'mama': 8100, 'knockoff': 7459, 'munchin': 8759, 'chuckee': 2867, 'cheeze': 2795, 'token': 13299, 'uuhhhh': 13867, 'jada': 7173, 'wm': 14425, 'wasant': 14173, 'thumbed': 13198, 'modellers': 8564, 'rude': 11235, 'poking': 9961, 'corpses': 3400, 'personalized': 9749, 'gathering': 5765, 'fisher': 5347, 'nuff': 9099, 'scridiot': 11501, 'shrek': 11831, 'gates': 5763, '2160p': 302, 'popeye': 9983, 'backend': 1755, 'rounded': 11206, 'formal': 5514, 'occasions': 9163, 'liraseth': 7801, '30am': 408, 'westcoast': 14271, 'sleeping': 12006, 'segueys': 11575, 'estimates': 4859, 'receipt': 10660, 'greate': 6059, 'compairson': 3106, 'cach': 2515, 'monstruous': 8624, 'juices': 7313, 'failtel': 5110, 'quartering': 10456, 'pwn': 10427, 'dim': 4128, 'comparsion': 3120, 'demonstration': 3939, 'rud': 11234, 'rudolph': 11236, 'carefulness': 2619, 'ricciardos': 11056, 'blimey': 2132, 'impaired': 6775, 'expand': 4978, 'rockets': 11150, 'crashing': 3488, 'fireball': 5334, 'yessir': 14671, 'br': 2287, 'juurikka': 7337, 'fomo': 5461, 'arranged': 1521, 'rehabilitate': 10775, 'trashed': 13438, 'h3': 6153, 'hover': 6553, 'heartedly': 6331, 'timbre': 13239, 'curry': 3622, 'soko': 12139, 'overpowered': 9459, 'promises': 10264, 'episodes': 4817, 'dressed': 4422, 'grounded': 6088, 'prom': 10262, 'caliber': 2530, 'town': 13369, 'contributed': 3324, 'soundproof': 12210, 'curtains': 3627, 'livesoundproof': 7823, 'shocked': 11779, 'fresher': 5603, 'showy': 11827, 'dexter': 4055, 'ramos': 10541, 'chiming': 2826, 'similarly': 11893, 'rips': 11108, 'pci': 9663, 'sonnet': 12176, 'sas': 11387, 'follows': 5460, '200iq': 241, 'impress': 6797, 'rlly': 11123, 'flegoron': 5394, 'nogo': 9013, 'tension': 13000, 'mates': 8213, 'soulja': 12202, '31st': 421, 'xiaomilf': 14607, 'trick': 13462, 'astley': 1612, 'gif': 5858, 'alexandre': 1183, 'toolchains': 13323, 'accounting': 932, 'methods': 8391, 'oses': 9371, 'dibs': 4077, 'kuxk': 7503, 'smosh': 12083, '600gb': 643, '150tb': 149, 'wouldve': 14505, 'nyle': 9121, 'syed': 12816, 'surpassing': 12741, 'closet': 2961, 'macpro': 8041, '12core': 108, 'anthonycut': 1377, 'conquest': 3251, 'rating': 10579, 'modify': 8573, 'modification': 8571, 'immunochemically': 6768, 'electronically': 4657, 'vacuous': 13877, 'surname': 12736, 'sneaky': 12101, 'xaodi': 14566, 'mumu': 8758, 'buuuut': 2492, 'rtx3090': 11228, 'der8auer': 3971, 'logically': 7872, 'conferencing': 3218, 'bitching': 2086, 'haved': 6280, 'syncing': 12826, 'icloud': 6662, 'sharman': 11705, 'interpreter': 7019, 'recompiles': 10688, 'transcoded': 13410, 'dx': 4524, 'mugger': 8730, 'pugger': 10372, 'actionheinz': 967, 'badminton': 1781, 'camper': 2553, 'giants': 5856, 'dick': 4080, 'gospel': 6000, 'participate': 9590, 'showers': 11823, 'panorama': 9552, 'housego': 6548, 'deffo': 3882, 'icecream': 6658, 'eta': 4860, 'exlusives': 4974, '3sec': 484, 'afterthought': 1098, 'calorie': 2539, 'dense': 3949, 'carbs': 2605, 'fats': 5185, 'mobility': 8553, 'brogan': 2370, 'fish': 5346, 'hydrodip': 6624, 'fuc': 5632, 'sheldons': 11727, 'dilema': 4122, 'tbbt': 12919, 'mki': 8535, 'scrambling': 11481, 'botw': 2262, 'pimp': 9819, 'menubar': 8359, 'compulsory': 3182, 'australian': 1667, 'prison': 10187, 'mutants': 8777, 'smth': 12086, 'departure': 3956, 'stink': 12493, 'reminded': 10838, 'skit': 11979, 'abusing': 894, 'kittens': 7445, 'caring': 2626, 'lone': 7882, 'smiling': 12069, 'superhero': 12699, 'acquired': 958, 'coronus': 3396, 'excactly': 4927, 'annihilating': 1348, 'hare': 6249, 'tortoise': 13343, 'apt': 1459, 'groundwork': 6089, 'allm': 1211, 'mortgages': 8667, 'topical': 13333, 'conglomerates': 3236, 'admist': 1028, 'strikes': 12570, 'worker': 14470, 'disproving': 4226, 'array': 1524, 'raspi': 10571, 'amd64': 1278, 'azy': 1742, 'soaks': 12117, 'brushes': 2399, 'datas': 3747, 'france': 5563, 'realising': 10626, 'taiwanes': 12859, 'zenphones': 14749, 'andrei': 1318, 'hag': 6172, 'momths': 8600, 'aginst': 1112, 'rivalry': 11120, 'dandy': 3718, 'joker': 7275, 'annoy': 1354, 'timer': 13247, 'aguilar': 1118, '2700x': 349, 'cnts': 2986, '5700x': 601, '825': 747, 'terabyte': 13004, 'wreck': 14517, 'hmmmmmmm': 6461, 'ded': 3858, 'disassembling': 4174, 'clipped': 2946, '4rnitnexnco': 558, 'ripintel': 11102, 'train': 13405, 'dangling': 3723, 'meazy': 8302, 'alert': 1178, 'sidenote': 11860, 'relaxed': 10800, 'ffxiv': 5265, 'ambient': 1276, 'birds': 2078, 'waterfalls': 14198, 'qkhauli': 10440, 'johnson': 7268, 'dizzy': 4265, 'procesors': 10211, 'reliable': 10809, 'strictly': 12565, 'ikr': 6719, 'punch': 10385, 'printers': 10179, 'as': 1549, 'mb6': 8250, 'carried': 2637, 'encouragement': 4744, 'unliked': 13732, 'dumbest': 4486, 'lifeless': 7741, 'lionel': 7796, 'messi': 8377, 'christiano': 2859, 'ronaldo': 11180, '460': 525, 'sphire': 12287, 'cybertruck': 3668, 'swimmingly': 12798, 'investigate': 7055, 'claimed': 2901, 'misinterpret': 8506, 'muted': 8780, 'believable': 1972, 'dialogue': 4072, 'missions': 8514, 'hardest': 6246, 'adolescent': 1036, 'schooler': 11458, 'unbelievable': 13644, 'candle': 2567, 'mute': 8779, 'zamblot': 14737, 'compile': 3146, 'dominates': 4323, 'sfeir': 11676, 'inspired': 6950, 'propably': 10285, 'omfg': 9253, 'reslly': 10940, 'overworked': 9476, 'over': 9428, 'addition': 1006, 'taller': 12877, 'invention': 7049, 'sr0lld4bmu': 12379, 'jerryrigs': 7229, 'visualizers': 14030, 'holodeck': 6481, '024': 6, 'decreasing': 3857, '322': 427, 'narrator': 8841, 'feat': 5217, 'swifted': 12794, 'weirdo': 14258, 'leak': 7635, 'curve': 3628, 'exam': 4923, 'hall': 6194, 'airsoft': 1153, '599': 611, 'relations': 10795, 'managers': 8107, 'overthrown': 9470, 'departments': 3955, 'roshan': 11192, 'rai': 10520, 'vaporware': 13896, 'hiped': 6439, 'abandon': 866, 'biohazard': 2072, 'cockpit': 2996, 'abot': 883, 'eestiboo': 4608, 'necesarily': 8874, 'converstion': 3343, 'prolly': 10257, 'starring': 12420, 'rumours': 11251, 'silenced': 11879, 'pistol': 9840, 'quart': 10455, 'closing': 2962, 'weathered': 14230, 'shortage': 11795, 'calm': 2536, 'slightest': 12019, 'umé': 13634, 'amout': 1295, 'ancient': 1313, 'fallacy': 5126, 'burnin': 2470, 'saturation': 11399, 'davelee': 3761, 'switches': 12807, 'maaan': 8023, 'workhorse': 14473, 'smt': 12085, 'win10': 14369, 'rajanya': 10534, 'purohit': 10403, 'german': 5833, 'domestic': 4319, 'electronic': 4656, 'eyelash': 5064, 'dorkenoo': 4346, 'elvis': 4682, 'privately': 10191, 'enought': 4785, 'searched': 11529, 'cristmas': 3544, 'hypothetical': 6636, 'land': 7555, '50000': 564, 'coolest': 3361, 'informal': 6904, 'aww': 1724, 'butthurt': 2489, 'questionable': 10464, 'adapt': 989, 'recognize': 10679, 'industrial': 6881, 'scarred': 11446, '303th': 402, 'brighton': 2353, 'dow': 4366, 'unproductive': 13750, 'dom': 4318, 'kenan': 7377, 'guti': 6136, 'teeth': 12966, 'outdone': 9393, 'anecdotal': 1326, 'wolfenstein': 14431, 'fanboyism': 5148, 'suckkk': 12654, '86m': 752, 'muir': 8732, 'bloatware': 2145, 'spiderweb': 12295, 'tic': 13215, 'safer': 11322, 'rechargeable': 10668, 'clogged': 2953, 'lint': 7790, 'overheat': 9445, 'successors': 12648, 'xo': 14612, 'abxy': 896, 'drink': 4430, 'coaster': 2991, 'identifiable': 6675, 'downplaying': 4377, 'centered': 2709, 'thicker': 13118, 'gerald': 5832, 'baria': 1841, 'restrained': 10970, 'avoided': 1700, 'ion': 7068, 'killertiger': 7417, 'combinationova': 3053, 'frequent': 5600, 'brief': 2346, 'jog': 7262, 'germin': 5835, 'abode': 881, 'onenote': 9268, 'bitemark': 2089, 'epxerince': 4819, 'merchandising': 8364, 'renamed': 10852, 'recharging': 10670, 'yielded': 14681, 'incoherent': 6831, 'privileged': 10193, 'fos': 5536, 'strapped': 12540, 'vred': 14082, 'picky': 9799, 'discern': 4182, 'saturaion': 11396, 'measurment': 8298, 'shooter': 11786, 'withe': 14415, 'island': 7113, 'fines': 5322, 'contract': 3318, 'thekraken8him': 13079, 'deathloop': 3812, 'shabbir': 11681, 'dharwala': 4062, 'teach': 12926, 'moron': 8654, 'cowboys': 3463, 'admitting': 1033, 'demonsoul': 3934, 'falconer': 5123, 'resident': 10932, 'residents': 10933, 'iklms11': 6718, 'received': 10662, 'bfv': 2031, 'bf6': 2030, 'yeeeeah': 14653, 'andanotherthing': 1315, 'cyber': 3665, 'eddievr': 4580, 'quarantine': 10453, 'multiapp': 8736, 'lpx': 7956, 'trevor': 13454, 'smithy': 12072, 'ultima': 13618, 'unsubbed': 13769, 'unturned': 13781, 'sober': 12119, 'mannerism': 8124, 'nostalgic': 9056, '2010s': 245, 'bewe': 2023, 'ppt': 10060, 'adrijan': 1045, 'theswagguy5000': 13105, 'viable': 13963, '3500': 443, 'lew': 7715, 'hugh': 6586, 'distract': 4245, 'tide': 13221, 'dci': 3790, 'bmpcc4k': 2176, 'dropping': 4447, 'damnz': 3713, 'levitating': 7713, 'joined': 7272, 'latmy': 7593, 'cannt': 2573, 'rok': 11166, 'ameil': 1282, 'sup': 12694, 'attachment': 1640, 'redbool11': 10704, 'duper': 4499, 'dramatically': 4401, 'studied': 12590, 'egads': 4626, 'association': 1601, 'oppo': 9315, 'a54': 840, 'alcy': 1172, 'avery': 1693, 'baxter': 1891, 'voicing': 14056, 'seriousness': 11641, 'branded': 2302, 'assumed': 1605, 'verry': 13945, 'huaweii': 6576, 'dominick': 4325, 'notro': 9076, 'whie': 14302, 'resease': 10920, 'pennies': 9690, '1660': 168, 'interpreting': 7020, '18th': 200, 'dgm9bt44ivk': 4060, 'gaowgle': 5744, 'homies': 6492, 'leveling': 7708, 'thhese': 13115, 'prise': 10186, 'chang': 2742, 'defeated': 3872, 'eur': 4869, 'pricier': 10163, 'simplest': 11900, 'whithout': 14323, 'unuse': 13783, 'velocity': 13927, 'affiliates': 1083, 'circumstance': 2887, 'heed': 6353, 'costimised': 3417, 'rumbles': 11248, 'nightdive': 8972, 'translate': 13425, '7wubyzaprm0': 739, '1025': 35, 'comicomedians': 3072, 'ayy': 1737, 'lesser': 7694, 'blurry': 2175, 'fancing': 5150, 'circles': 2883, 'bigoted': 2048, 'fort': 5527, 'overcomplicate': 9438, 'chester': 2807, '10400f': 36, 'wolvencrazy19': 14433, 'mergeds': 8369, 'tangle': 12883, 'xbsx': 14585, 'partition': 9595, 'deteriorate': 4023, 'cole': 3021, 'emotions': 4712, 'swollen': 12809, 'upvote': 13823, 'customisability': 3633, 'plastics': 9876, 'goat': 5942, 'sweetspot': 12791, 'magnetic': 8059, 'hoverhat': 6554, 'shaurya': 11714, 'kumar': 7496, 'waging': 14109, 'anthonytechtips': 1380, 'shes': 11737, 'xanax': 14564, 'shoe': 11782, 'foot': 5474, 'proly': 10261, 'hailing': 6187, 'inconsequential': 6840, 'damning': 3708, 'brushing': 2400, 'crapped': 3483, 'bootooth': 2231, 'turning': 13549, 'laws': 7610, 'planeverse': 9864, 'fangirls': 5153, 'nails': 8812, 'direction': 4148, 'tanks': 12887, 'kempo': 7374, '420': 507, 'costed': 3416, 'aaaa': 852, '1nm': 222, 'moneyyy': 8607, 'mums': 8757, 'slayer': 12003, 'boosts': 2226, 'xa2': 14563, 'fried': 5611, 'chicken': 2812, 'actuality': 979, 'targets': 12899, 'validates': 13884, 'mechanic': 8304, 'traveller': 13440, '6700': 675, 'shocking': 11780, 'successor': 12647, 'truelly': 13504, 'chirstmas': 2835, 'degrade': 3892, 'stuffs': 12596, 'rot': 11198, 'consensus': 3254, 'lmaoo': 7833, 'attachments': 1641, 'publishers': 10369, 'invented': 7048, 'acknowledges': 955, 'earning': 4549, 'unauthorized': 13638, 'bryce': 2404, 'roland': 11167, 'samoled': 11355, '21st': 303, 'screendoor': 11492, 'coltyn': 3048, 'lamontagne': 7553, 'omission': 9257, 'magical': 8055, 'maintenance': 8077, 'specialities': 12250, 'survived': 12751, 'nagano': 8804, 'nickgamesmylife': 8961, 'kris': 7486, 'lololol': 7879, 'arrangement': 1522, 'resouls': 10946, 'authentic': 1669, 'warrior': 14169, '14inch': 141, 'mcpro': 8273, 'gnobba': 5936, 'dilshad': 4125, 'shormee': 11793, 'didn': 4086, 'a7s3': 848, 'xavc': 14568, 'hs': 6565, 'woke': 14428, 'oodle': 9285, 'vulkan': 14093, 'feasible': 5216, '50gb': 571, '66gb': 672, 'repeats': 10871, 'performer': 9721, 'inbuilt': 6815, 'jollylover2017': 7280, 'cranking': 3480, 'rocks': 11153, 'chipsets': 2834, 'rst': 11222, 'storemi': 12523, 'hehehehe': 6358, 'distributed': 4249, 'thinly': 13136, 'thugasaurus': 13191, 'rex': 11047, 'starfield': 12416, 'dynamite': 4531, 'appearing': 1428, 'piorek4k': 9832, 'meatball': 8300, 'zone': 14767, 'amy': 1298, 'dug': 4478, 'pcie4': 9665, 'worths': 14497, 'momory': 8597, 'transfered': 13413, 'meadows_hands': 8281, 'nsfw': 9091, 'yann': 14635, 'mal': 8094, 'vedios': 13918, 'alligator': 1210, 'jrpgs': 7303, 'painfully': 9524, 'oldest': 9241, 'fromsoft': 5619, '60c': 644, 'uncommon': 13661, 'lucifer': 7971, 'morningstar': 8653, 'cow': 3462, 'ps5pro': 10337, 'tarun': 12901, '154mm': 154, '1440': 133, 'challenger': 2734, 'unpaintable': 13746, 'recreationtime': 10699, 'riceeater79ps5': 11059, 'detailing': 4017, 'badn': 1782, 'kansas': 7350, 'arkansas': 1509, 'tflops': 13040, 'delusions': 3919, 'expenses': 4992, 'gyroscope': 6149, 'hexenfree': 6403, 'consumerism': 3290, 'economic': 4574, 'encourages': 4745, 'overproduction': 9462, 'manipulate': 8118, 'uncontrolled': 13662, 'carmack': 2630, 'bezel': 2026, 'anakin': 1302, 'chime': 2825, '00000000000000002': 2, 'measurements': 8295, 'namely': 8822, 'width': 14353, 'thickness': 13119, 'unsubscribing': 13771, 'disliking': 4215, '240': 317, '078125': 12, 'jerry': 7228, 'differntly': 4104, 'activated': 969, 'rerun': 10914, 'aaaaallllll': 856, 'cousins': 3452, 'smokes': 12075, 'exitoz': 4970, 'pokemon': 9959, 'suffice': 12665, 'thier': 13121, 'istat': 7126, 'semesters': 11598, 'haskell': 6260, 'indefinitely': 6857, 'unresponsive': 13758, '40gb': 500, 'slowdown': 12031, 'surgeon': 12735, 'acept': 942, 'kfc': 7397, 'torn': 13340, 'eyesight': 5067, 'mirroring': 8497, 'portability': 9996, 'optimistic': 9332, 'doese': 4299, 'deadpool': 3802, 'yeeeeeey': 14655, 'fml': 5440, 'thants': 13058, 'wallmart': 14133, 'ballz': 1801, 'ise': 7105, '4k120': 550, '4k30': 551, 'danahae': 3715, 'barraclough': 1846, 'xp': 14613, 'phenom': 9768, '940': 801, '2700': 348, 'underdog': 13667, 'operational': 9308, 'candidate': 2566, 'ja': 7161, 'relief': 10810, 'ava': 1684, 'machina': 8032, 'royce': 11216, 'grocery': 6085, 'copout': 3374, 'hunting': 6610, 'scalps': 11436, '293': 363, 'strangely': 12537, 'a3': 836, 'represent': 10897, 'lackey': 7530, 'resistors': 10938, 'nano': 8829, 'meters': 8389, 'modular': 8577, 'quickie': 10474, 'abouy': 884, 'vignesh': 13995, 'squeezing': 12375, 'competively': 3144, 'allots': 1217, 'wounded': 14506, '61mp': 652, 'a7riv': 847, 'a7riii': 846, 'alexander': 1182, 'seman': 11596, 'ut': 13856, 'accomplished': 925, 'irony': 7096, 'sedlyf': 11556, 'crunch': 3571, 'passively': 9614, 'anodized': 1359, 'syncs': 12827, 'mictophone': 8432, 'canadians': 2559, 'whistled': 14314, 'spooked': 12334, 'k24': 7341, 'smells': 12065, 'isgreat': 7107, 'generating': 5805, 'profomence': 10245, 'morty': 8669, 'whirly': 14311, 'dirly': 4152, 'aswel': 1619, 'dreamed': 4417, 'quiñonez': 10485, '8gbs': 763, 'bigsur': 2050, '5x86': 632, 'hacker': 6163, 'brah': 2293, 'humility': 6595, 'bettet': 2018, 'row': 11211, 'exposed': 5035, 'dist': 4236, 'facing': 5092, 'entrance': 4803, 'contemplating': 3302, 'ehhhhhhhh': 4640, 'combatable': 3051, 'footnotes': 5478, 'downloads': 4376, 'tightens': 13231, 'happiness': 6237, 'dlp': 4273, 'seizure': 11581, 'bid': 2041, 'wws': 14545, 'suspend': 12755, 'selecting': 11585, 'closes': 2960, 'proved': 10316, 'refined': 10739, 'hayperken': 6290, 'freestep': 5591, 'pulley': 10376, 'supossed': 12705, 'lawsuits': 7612, 'roek': 11160, 'amin': 1287, 'momtaheni': 8599, 'mccoycustoms': 8264, 'glory': 5924, 'spyhood': 12361, 'clarification': 2908, 'rene': 10856, 'richie': 11065, 'stab': 12384, 'bitrate': 2091, 'trivial': 13485, 'todays': 13292, 'flexible': 5399, 'addon': 1011, 'sacrilegious': 11313, 'inegma29': 6884, 'facebooks': 5080, 'reconises': 10690, 'afacebook': 1075, 'montegoxxii': 8627, 'overexcited': 9440, 'tweaks': 13562, 'backdrop': 1754, 'dept': 3969, 'bthis': 2410, '90s': 789, 'genres': 5819, 'emulators': 4729, 'overengineering': 9439, 'neek': 8889, 'sucker': 12651, 'guinea': 6125, 'pigs': 9812, 'optifiner': 9326, 'dudepi': 4472, 'advertise': 1061, 'sucky': 12656, 'od': 9190, '40k': 502, 'nightingaleif': 8974, 'thingies': 13128, 'pathetically': 9631, 'disregard': 4228, 'precedent': 10081, '320': 423, 'airport': 1149, 'announce': 1350, 'binge': 2068, 'flexin': 5401, 'repeated': 10869, 'gsmarena': 6099, 'issuing': 7124, 'middel': 8435, 'flagshif': 5371, 'juicy': 7314, 'isenhart': 7106, 'begun': 1956, '740': 719, 'digest': 4110, 'films': 5306, 'aptic': 1460, 'embarassing': 4688, 'roadshitter': 11132, 'featsy': 5219, 'nearing': 8869, 'completion': 3161, 'rumor': 11249, 'spiritual': 12308, 'legged': 7667, 'mhmm': 8402, 'referring': 10737, 'gifford': 5859, 'pinchot': 9822, 'controlorer': 3333, 'fore': 5488, 'futer': 5683, 'satble': 11391, '7k': 735, 'agen': 1104, 'stabel': 12385, 'vlll': 14046, 'gt7': 6100, 'dirt2': 4154, 'zodd': 14763, 'returned': 11004, '508': 569, 'precious': 10082, 'childhood': 2817, 'intentional': 6991, 'camden': 2544, 'hatchetfam': 6267, 'decorative': 3853, 'engineered': 4767, 'emulate': 4724, 'brew': 2335, 'tryed': 13516, 'xcloud': 14589, 'ea': 4538, 'spamming': 12232, 'attachable': 1637, 'shere': 11735, 'pinched': 9821, 'lte': 7962, 'verizon': 13944, 'homophobes': 6494, 'hazmat': 6292, 'belittling': 1979, 'healthier': 6320, 'anxious': 1391, 'cope': 3370, 'supportive': 12712, 'cruel': 3569, 'kyestar88': 7507, 'unstead': 13767, 'produces': 10224, 'protein': 10305, 'meats': 8301, 'nutrient': 9107, 'metabolism': 8383, 'poop': 9977, 'eaten': 4564, 'vegetables': 13922, 'profiles': 10240, 'universally': 13722, 'exclusove': 4948, 'starught': 12428, 'crithit': 3545, 'ouchhhh': 9385, 'suffered': 12662, 'injury': 6922, 'cédric': 3678, 'freivogel': 5596, 'cedric': 2686, 'kiddo': 7409, 'wallpaperr': 14135, 'cubot': 3594, 'reeeee': 10728, 'treated': 13448, 'devin': 4046, 'turner': 13548, 'insaneeee': 6936, 'mathias': 8217, 'bacher': 1752, 'ned': 8881, 'innovated': 6926, 'limbs': 7771, 'biological': 2073, '780g': 729, 'alfred': 1186, 'demmit': 3926, 'dominance': 4320, 'prevented': 10147, 'esp': 4847, 'riding': 11080, 'gymnastics': 6148, '4h': 545, 'adjustments': 1025, 'terrified': 13017, 'subed': 12618, 'cringed': 3533, 'iterations': 7142, 'dissapointing': 4231, 'cough': 3428, 'combinations': 3054, 'bottlenecks': 2258, 'mattered': 8228, 'magazine': 8052, 'anticipates': 1382, 'supplies': 12706, 'dishonest': 4207, 'techtips': 12958, 'beside': 2007, 'poin': 9952, 'steeb': 12465, 'demographic': 3929, 'kash': 7360, 'elnino': 4675, 'cuh': 3602, 'apsolute': 1458, 'helpfull': 6378, 'twisted': 13569, 'reacting': 10611, 'spirits': 12307, 'fortune': 5530, 'tellers': 12974, 'bowls': 2274, 'crystal': 3586, 'furthest': 5679, 'reloaded': 10817, 'bluepoint': 2167, 'homan': 6485, 'backhand': 1759, 'sponsorships': 12332, 'dunk': 4495, 'gpod': 6009, 'bonfire': 2212, 'invjte': 7064, 'seated': 11537, 'visibly': 14023, 'jenga': 7220, 'shrink': 11833, 'sd888': 11515, 'signed': 11871, 'eminem': 4702, 'stocks': 12499, 'meard': 8291, 'solo3': 12148, 'weapon': 14221, 'mrwhosetheboss': 8720, 'trinity': 13475, 'portuguese': 10006, 'weekdays133': 14246, 'leaderships': 7629, 'gg': 5846, 'lean': 7640, 'conservative': 3257, 'gearing': 5783, 'hopeful': 6518, 'capitalise': 2587, 'stumbling': 12597, 'imacs': 6740, 'bullets': 2444, 'tke': 13274, 'skamed': 11959, 'nolan': 9019, 'rice': 11057, '10k': 55, 'moclan5': 8556, '70c': 707, 'sink': 11930, 'nickomg': 8965, 'remotely': 10843, 'penalties': 9686, 'thoses': 13153, 'rustainofficial': 11267, 'unsafe': 13761, 'declock': 3846, 'botted': 2254, 'sucked': 12650, 'nicola': 8967, 'sabbadini': 11301, 'washed': 14174, '2933': 364, 'comedy': 3060, 'tushima': 13555, 'bcs': 1900, 'seals': 11523, 'warrenty': 14168, 'coat': 2992, 'anthem': 1374, 'betting': 2019, 'aporiac': 1419, 'connections': 3245, 'daisy': 3697, 'chain': 2729, 'ley': 7719, '20min': 285, 'gatubi': 5766, 'replicas': 10884, 'gizmodo': 5898, '1845550129': 198, 'manh': 8115, 'tuyen': 13558, 'duong': 4498, 'habitually': 6160, 'terminate': 13009, '300k': 400, 'rehearsing': 10777, 'mg': 8399, 'mega': 8327, 'phenomenal': 9769, 'ht': 6566, 'canvas': 2576, 'traversal': 13442, 'crumble': 3570, 'shrinks': 11834, 'carriers': 2638, 'huleyn135': 6589, 'screenshot': 11495, 'cenario': 2701, 'streamer': 12549, 'backgrounds': 1758, 'perceive': 9700, 'maddening': 8047, 'gtx1660ti': 6108, 'undervolt': 13684, 'triton': 13484, '8750h': 753, 'helios': 6365, '9750h': 812, 'jackie': 7167, 'snackie': 12090, 'yepz': 14668, 'creeperdeathmatch67': 3521, 'thingy': 13130, 'lollll': 7878, 'redcovenant': 10705, 'beleive': 1967, 'hesitating': 6398, 'compressed': 3174, 'masterrace': 8198, 'awwww': 1727, 'maximus': 8240, 'godlike': 5953, '1140': 70, 'x4': 14557, 'succeed': 12644, 'pursuing': 10412, 'ripoff': 11104, 'dictionaries': 4084, 'considerable': 3260, 'cuteee': 3651, 'ts_diamond': 13520, 'tracked': 13382, 'bypasses': 2501, 'sluggishly': 12041, 'explsin': 5026, 'astonishing': 1613, 'posts': 10031, 'moto': 8682, 'handset': 6219, 'streamers': 12550, 'rigs': 11093, 'waitingfff': 14116, '100c': 27, 'periods': 9727, 'aftermarket': 1096, 'heatsinks': 6341, 'followed': 5457, 'figth': 5287, 'fav': 5190, 'serie': 11636, 'traycing': 13444, 'corrupted': 3407, 'karol': 7357, 'tomczyk': 13306, 'pill': 9816, 'youth': 14707, 'ghante': 5847, 'bhe': 2034, 'nhe': 8950, 'chalti': 2736, 'iski': 7112, 'jayboi': 7204, 'noteworthy': 9062, 'shipong': 11754, 'tyvm': 13588, 'sock': 12125, 'hiring': 6442, 'dk1': 4269, 'diego': 4090, 'velazquez': 13925, 'devives': 4049, 'soooooooo': 12189, 'embrass': 4700, 'negate': 8891, 'kristian': 7488, 'figueroa': 5288, 'yausernametaken': 14640, 'awefull': 1712, 'joystick': 7298, 'accounted': 931, 'dress': 4421, 'bearer': 1910, 'beaver': 1924, 'customs': 3648, 'bedtime': 1937, 'melodic': 8336, 'prettier': 10143, 'rupaul': 11259, '6000x4000': 642, 'doesnot': 4302, 'lifting': 7747, 'bandages': 1811, 'minees': 8475, 'hikes': 6431, 'krato': 7484, 'animal': 1339, 'crossing': 3562, 'daveeeee': 3760, 'nauseating': 8856, 'baptised': 1828, 'athiest': 1625, 'hides': 6416, 'coop': 3365, 'engeniers': 4763, 'rosseta': 11194, 'sureal': 12724, 'fisical': 5349, 'upright': 13815, 'ikrr': 6720, 'stackexchange': 12391, '67031': 677, 'noredirect': 9045, 'lq': 7957, 'spurnofhumanity': 12357, 'cwazy': 3662, 'thinkin': 13133, 'keepin': 7371, 'whatcha': 14281, 'smokin': 12077, 'circa': 2880, 's20u': 11294, '2h': 376, 'bilibili': 2054, '360gb': 451, 'resetting': 10931, 'replying': 10889, 'prusik': 10328, 'la': 7520, 'dex': 4054, 'revamp': 11012, 'marred': 8167, '1650gb': 167, 'goodluck': 5982, 'level1techs': 7707, 'fitting': 5357, 'your': 14703, 'anyday': 1394, 'socks': 12127, 'cleanup': 2927, 'pricetags': 10160, 'els': 4678, 'blesses': 2128, 'fricken': 5606, 'begeezers': 1949, 'hahahahahah': 6181, 'titled': 13270, 'chatting': 2770, 'edging': 4585, '46000': 526, 'latesh': 7589, 'trusts': 13510, 'invasive': 7046, 'predator': 10086, 'enabling': 4735, 'ruiner': 11239, 'xin': 14608, 'mil': 8447, 'leakers': 7637, 'sexaul': 11672, 'certificate': 2719, 'relases': 10790, 'b055y': 1743, 'thuazabi': 13190, 'ru': 11229, 'pauls': 9645, 'drag': 4390, 'handicapped': 6211, 'donuts': 4334, 'coke': 3018, 'broswer': 2381, 'receiving': 10663, 'entertained': 4794, 'unobtanium': 13743, 'melt': 8337, 'livetime': 7825, 'trirosmos': 13483, 'stuborn': 12586, 'spoiler': 12321, 'schtick': 11462, 'faking': 5122, 'overclockable': 9434, 'disassembles': 4173, 'skyrocket': 11992, 'twk': 13572, 'sockets': 12126, 'refreshes': 10748, 'decisions': 3844, 'embarassment': 4689, 'skus': 11984, 'safetytrousers': 11325, 'kno': 7457, 'billy': 2060, 'chrisnada': 2856, 'ukraine': 13615, 'sekh': 11582, 'burner': 2468, 'desame': 3979, 'resistive': 10937, '197': 202, 'fourth': 5547, 'sandwiched': 11369, 'theoretically': 13091, 'obtaining': 9155, 'slaughter': 12002, 'everbody': 4887, 'loot': 7914, 'weakest': 14218, 'adopter': 1038, 'mouths': 8696, 'ogs': 9223, 'ers': 4841, 'chistmas': 2836, 'bundled': 2454, 'noticable': 9065, 'flex': 5398, 'ols': 9248, 'flower_k': 5426, 'bane': 1816, 'jaketerry': 7182, 'davin': 3768, 'risy': 11119, 'hanif': 6225, 'hotstock': 6541, 'jaggsta': 7176, 'worn': 14486, 'trades': 13396, '9130ussd': 791, 'nava': 8858, 't7': 12839, 't5': 12838, 'hehe': 6355, 'congo': 3237, 'aussie': 1664, 'broadband': 2364, '2hours': 377, 'advertisements': 1064, 'bcuz': 1901, '75hz': 723, '230': 312, 'criticizing': 3549, 'imgur': 6754, 'ghhvxmj': 5849, 'png': 9941, 'aso': 1574, '8c': 758, '16t': 185, '10c': 50, '20t': 293, 'interior': 7008, 'backlite': 1765, 'delayed': 3902, 'vitual': 14036, 'indonesian': 6877, 'smartband': 12053, 'outhere': 9399, 'mohamed': 8582, 'mustafa': 8774, '155': 155, 'fedzalicious': 5229, 'bale': 1798, 'parrot': 9585, 'basicly': 1864, 'heatsets': 6339, 'playsation': 9902, 'gate': 5762, 'medicore': 8316, 'moses': 8671, 'tekper': 12967, 'hoodies': 6510, 'boling': 2203, 'sus': 12753, 'positioned': 10011, 'feb': 5225, 'consoled': 3272, 'cutout': 3657, 'hog': 6465, 'pac': 9500, 'beer': 1945, 'flaws': 5391, 'fingerprint': 5324, 'afforded': 1089, 'ipod': 7083, 'appalling': 1421, 'diamondgamer': 4074, 'gamer125w': 5730, 'sar': 11378, '4300': 514, 'perks': 9731, 'complaint': 3154, 'uninstall': 13712, 'screened': 11493, 'prossecer': 10298, 'facetiming': 5089, 'thel': 13080, 'threadrippers': 13165, 'xeons': 14598, 'primarely': 10168, 'hedt': 6352, 'ptp': 10362, 'region': 10765, 'nonexistent': 9029, 'curiosity': 3616, 'functionalities': 5658, 'beutifull': 2022, 'coast': 2990, 'purging': 10401, 'puffer': 10371, 'boobies': 2215, '20gb': 277, '500gb': 566, 'kupple': 7501, 'proceeded': 10207, 'moolah': 8633, 'myron': 8790, 'leuveren': 7705, 'scooped': 11472, 'miband2': 8407, 'redraw': 10719, 'exporter': 5030, 'billboards': 2056, 'unchained': 13654, 'crossbow': 3558, 'heroin': 6392, 'tacos_': 12848, 'buffering': 2422, 'visa': 14018, 'mastercard': 8192, 'bank': 1819, 'intervention': 7023, 'cupcake': 3608, 'homo': 6493, 'mounts': 8690, 'stayed': 12451, 'pavilion': 9649, 'e1': 4533, 'souljaboy': 12203, 'glarple': 5906, 'onions': 9273, '458': 523, 'garmin': 5753, 'fenix': 5250, 'm1z': 8013, 'm2z': 8015, 'waisted': 14112, 'journal': 7291, 'flad': 5367, 'amano': 1262, 'celsius': 2700, 'timestamps': 13251, 'register': 10766, '9ak_s8kbck': 822, '4c': 540, 'rofl': 11161, 'compromised': 3179, 'standpoint': 12411, 'eula': 4868, 'rerember': 10913, 'freed': 5583, 'sword': 12810, 'lumafusion': 7990, 'risks': 11116, 'roundups': 11207, 'identified': 6676, 'liberated': 7727, 'indicate': 6866, 'hahahha': 6184, 'vulcan': 14092, 'onward': 9284, 'kingspray': 7434, 'crispy': 3543, 'mp': 8705, '44gb': 519, 'dw5600sc': 4518, 'pale': 9536, 'pastel': 9621, 'silk': 11885, '3st': 485, 'mclaren': 8269, 'weakness': 14219, 'pools': 9976, '222': 307, 'developpers': 4040, 'hypnosis': 6633, 'affirmations': 1085, 'loa': 7845, 'inducing': 6879, 'lucid': 7970, 'meditation': 8319, 'nlp': 8999, 'urbex': 13826, 'exploration': 5022, '75x': 724, 'amber': 1274, 'abyss': 898, '3800': 464, 'paulo': 9644, 'snarky': 12098, 'blowup': 2163, 'ravi': 10586, 'simplyfied': 11904, 'porky': 9992, 'prof': 10233, 'eggs': 4628, 'sayin': 11420, 'shadows': 11685, 'gualter': 6109, 'fernandes': 5253, 'considers': 3265, 'inb4': 6814, 'testers': 13025, '92': 794, 'omglolol': 9256, 'kunz': 7500, 'pwm': 10426, 'fax': 5202, 'pulls': 10378, 'roadhog': 11131, 'sens': 11607, 'reload': 10816, 'container': 3299, 'dur': 4501, 'assholes': 1592, 'irresponsibility': 7100, 'cindy': 2874, 'steltenkamp': 12469, 'wrecked': 14518, 'touchscreen': 13357, 'frustration': 5627, 'spanst': 12236, 'buried': 2463, 'puzzle': 10424, 'analogy': 1304, 'blindingly': 2137, 'fighters': 5283, 'tamim': 12879, 's10e': 11290, '1188p': 81, 'unexciting': 13691, 'theturo': 13109, 'patili': 9636, 'toby': 13290, 'zweig': 14779, 'cracing': 3470, 'presumably': 10138, 'ayyy': 1739, 'grats': 6052, 'dragging': 4391, 'itunes': 7150, 'accelerated': 903, 'onlyl': 9278, 'nath': 8845, 'compensating': 3132, 'adverse': 1059, 'knee': 7452, 'luv': 8000, 'taped': 12892, 'heaters': 6335, 'forex': 5499, 'goddamn': 5951, '115': 73, 'degress': 3897, 'adaption': 994, '16mbp': 183, 'ilife': 6724, 'shaped': 11699, 'inertia': 6886, 'temporal': 12982, 'denoising': 3947, 'speedwarp': 12273, 'sevenelly': 11665, 'mymi': 8789, 'hiking': 6432, 'tore': 13338, 'toe': 13294, 'handed': 6209, '2560x1600': 333, 'hug': 6582, 'gacha': 5703, 'swag': 12766, 'aggressively': 1110, 'stranger': 12538, 'witcher': 14411, 'snax': 12099, 'goalposts': 5940, 'wheels': 14290, 'madness': 8050, 'ops': 9320, 'wraps': 14515, 'eyepatch': 5065, 'reddish': 10707, 'dmitry': 4276, 'matora': 8220, 'gonnab': 5977, 'gud': 6114, 'uploads': 13807, 'husky': 6615, 'hero': 6390, 'kerim': 7383, 'nono': 9031, '60fps1080p': 646, 'upscaled': 13818, 'a14': 835, 'bertucci': 2006, 'tainted': 12858, 'lawsuit': 7611, 'favourable': 5198, 'musician': 8771, 'sunzruk': 12693, 'pubg': 10363, '6h': 697, 'awn': 1721, 'alrizqi': 1242, 'hugeee': 6584, 'safisfy': 11326, 'dissapoints': 4233, 'deactivate': 3798, 'lightbars': 7751, 'cuteeee': 3652, 'whappen': 14278, '50fps': 570, 'whot': 14338, 'censoring': 2705, 'invalid': 7042, 'degenerate': 3890, 'beliefes': 1971, 'abbs': 870, 'musculine': 8769, 'standardz': 12408, 'lesbian': 7689, 'easely': 4555, 'missable': 8509, 'unaware': 13641, 'marginalized': 8149, 'clash': 2912, 'purpouses': 10408, 'complaints': 3155, '16in': 179, 'traits': 13409, 'perceivable': 9699, 'inadequate': 6813, 'garantee': 5748, 'aaaaaaaaaa': 854, 'constructed': 3282, 'sisters': 11939, 'musshy': 8772, 'lioe': 7794, 'xxl': 14626, 'everyones': 4898, 'taskers': 12905, 'praising': 10072, 'ramp': 10542, 'emergencies': 4701, 'tendency': 12991, 'evolving': 4910, 'nerfed': 8913, 'fulfilled': 5649, 'knowin': 7462, 'pioneers': 9831, 'ride': 11074, 'omkaar': 9260, 'deepak': 3865, 'daniels': 3726, 'jd': 7210, 'mackem': 8037, 'pursue': 10411, 'occ': 9160, 'sofifactifus': 12133, 'bunny': 2458, 'copyrights': 3381, 'injection': 6921, 'moulded': 8687, 'pastics': 9622, 'hallelujah': 6195, 'njeim': 8997, 'faintnessstraws': 5113, 'baseball': 1854, 'smacked': 12046, 'futute': 5688, 'petty': 9763, 'brainstorming': 2297, 'iot': 7071, 'acount': 957, 'seec': 11558, 'pixelation': 9844, '16k': 181, 'examine': 4924, 'distinct': 4239, 'q_finskwcru': 10435, 'attitude': 1650, 'mcrsoft': 8275, 'lukito': 7988, 'vinko': 14003, 'bandicoot': 1812, 'sries': 12380, 'ghosts': 5852, 'tsushima': 13523, 'originals': 9365, 'module': 8578, 'contradictory': 3320, 'censor': 2703, 'respects': 10953, 'witches': 14412, 'vinci': 14001, 'prompts': 10274, 'darkmarkison': 3735, 'fugggg': 5644, 'defeat': 3871, 'raises': 10530, 'affecting': 1079, 'panic': 9549, 'warmth': 14160, '1hr': 216, 'andrew2980': 1320, 'gshock': 6098, 'eries': 4833, 'n0t_cyn1cal': 8796, 'british': 2360, 'daft': 3695, 'horizontally': 6525, 'pimaxes': 9818, 'starvr': 12431, 'transmit': 13431, 'signals': 11870, '6e': 692, 'experimenting': 5002, 'omit': 9258, 'overlords': 9454, 'captivity': 2597, 'whistle': 14313, 'blink': 2139, 'pattern': 9640, 'direcrly': 4145, 'targer': 12895, 'huuge': 6618, 'kills': 7421, 'someome': 12160, 'equiptment': 4825, 'remotes': 10844, 'newbie': 8933, 'scroll': 11505, 'lab': 7521, 'tirelessly': 13263, 'astronaut': 1616, 'iambestduud': 6651, 'threatened': 13167, 'longshot': 7890, 'matures': 8234, 'revisions': 11034, 'rrod': 11220, 'ylod': 14685, 'bossiness': 2246, 'arshan': 1538, 'tard': 12894, 'wrangler': 14510, 'testimony': 13027, 'unixhack': 13726, '1nsta': 223, 'cotton': 3425, 'swabs': 12765, 'lightly': 7754, 'dusted': 4510, 'mint': 8490, 'tiddies': 13220, 'timecodes': 13242, 'bully': 2447, 'maguire': 8062, 'disease': 4204, 'tia': 13213, 'yeeeeessssss': 14657, 'supporter': 12710, 'aleady': 1174, 'pressured': 10137, 'prowl': 10325, 'purrrr': 10409, 'sms': 12084, 'infinatly': 6896, 'novelty': 9080, 'anaerobic': 1301, 'gifted': 5861, 'continuing': 3314, 'imagination': 6745, 'spectacular': 12264, 'attracted': 1651, 'suren': 12726, 'coice': 3012, 'sepharite': 11627, 'mi4': 8404, 'sites': 11942, 'repercussions': 10873, '100k': 29, 'techcrunch': 12946, 'freakin': 5579, 'gettin': 5843, 'bora': 2234, 'ramadan': 10538, 'amman': 1289, 'honeybunbun': 6503, 'horses': 6535, 'relentlessly': 10807, 'computation': 3183, 'acknowledge': 954, 'viewpoints': 13991, 'plzz': 9939, 'tires': 13264, 'tire': 13261, 'ummphh': 13633, 'advancing': 1054, 'weekly': 14248, 'handphone': 6217, 'mee': 8322, 'goggles': 5961, 'clickbaited': 2936, 'outright': 9413, 'texarmageddon': 13033, 'squadrons': 12365, 'pan': 9540, 'angles': 1335, 'pans': 9555, 'greywolff': 6076, 'fluency': 5430, 'ramon': 10540, 'msfs': 8722, 'creek': 3518, 'kartik': 7359, 'seth': 11656, 'hacking': 6165, 'fok': 5449, 'sho': 11776, 'catching': 2665, 'digestible': 4111, 'nexus': 8943, 'punishment': 10390, 'inconceivable': 6837, 'loneliness': 7883, 'suicidal': 12674, 'humble': 6594, 'porn': 9993, 'masturbation': 8203, 'lustful': 7997, 'surpasses': 12740, 'midst': 8440, 'trials': 13455, 'tribulations': 13459, 'assurance': 1609, 'shedding': 11718, 'sinless': 11931, 'bribe': 2338, 'forgiveness': 5507, 'riches': 11063, 'fame': 5137, 'pride': 10166, 'prideful': 10167, 'rebelled': 10649, 'forsook': 5525, 'wherever': 14297, 'jevo': 7234, 'novice': 9082, 'eyeing': 5063, 'headroom': 6312, 'snow': 12111, 'leopard': 7686, 'sierra': 11865, 'segwaybwas': 11577, 'sitty9shittyx': 11947, 'thunderz': 13207, 'lundorff': 7993, 'exlcusices': 4972, 'cabinet': 2512, 'senna': 11606, 'a12z': 834, 'lmp': 7842, 'mans': 8127, 'regulation': 10773, 'v6': 13874, 'hybrid': 6622, 'mgu': 8400, '1970': 203, 'compulsion': 3181, 'blinders': 2134, 'customizemyplates': 3645, 'cuter': 3653, 'isit': 7111, 'fone': 5463, 'merlin': 8371, 'rage': 10517, 'thoo': 13150, 'yeahhhh': 14646, 'scratches': 11485, 'mofo': 8580, '6hrs': 698, 'heaps': 6323, 'lou2': 7929, 'dabestmemz': 3689, 'mousepad': 8693, 'mindblowing': 8468, '4kb': 554, 'blocker': 2148, 'boomers': 2223, 'hypermonkey': 6630, 'obsolete': 9151, 'vides': 13984, 'campus': 2554, 'sadness': 11317, '758': 722, 'reaaaaaally': 10606, 'seemless': 11567, 'computational': 3184, 'turretbox': 13553, 'upmarked': 13808, 'complains': 3153, 'fiddling': 5269, 'anna': 1347, 'nishikinomiya': 8987, 'lyk': 8004, 'palmer': 9538, 'luckey': 7973, 'reeeeee': 10729, 'crossed': 3560, 'leadup': 7632, 'philiprikozen': 9772, 'encoder': 4739, 'confortable': 3231, 'ocd': 9169, 'iqoo': 7088, '3640': 454, '1250p': 102, 'vpro': 14075, 'dynasty': 4532, '24th': 326, 'wooah': 14445, 'psplus': 10346, 'np': 9088, '19th': 210, 'cancer': 2564, 'tessellation': 13021, 'unrivaled': 13760, 'millionth': 8465, 'ernergy': 4836, 'implosion': 6785, 'awwdorable': 1725, 'banks': 1822, 'apologies': 1417, 'dualshock4': 4464, 'insulting': 6970, 'sane': 11370, 'employed': 4717, 'hump': 6600, 'daz': 3783, 'seasons': 11535, 'hud': 6580, 'sexiest': 11673, 'vertically': 13953, 'beloved': 1984, 'obliteration': 9140, 'shortages': 11796, 'divorce': 4263, 'retaining': 10984, 'throwback': 13185, 'parody': 9584, 'burrying': 2474, 'mascot': 8179, 'scamming': 11440, 'enters': 4793, 'quantity': 10451, 'balding': 1797, 'diabetes': 4066, 'scar': 11442, 'manipulating': 8120, 'becasue': 1926, 'pockets': 9943, 'fookin': 5469, 'xdddddddddddddddddd': 14593, 'bim': 2062, 'vectorworks': 13916, '2080ti': 269, '12thread': 115, 'logging': 7869, 'flags': 5370, 'robust': 11146, 'gaping': 5746, 'creature': 3512, 'cytomorphologically': 3677, 'multiply': 8747, 'interestedly': 7003, 'treat': 13447, 'nondescript': 9026, 'cardigan': 2609, 'kindhearted': 7427, 'naive': 8814, 'rooster': 11185, 'inshort': 6942, '12inch': 110, 'dodgy': 4295, 'behalf': 1957, 'prompting': 10273, 'emailed': 4685, 'accetable': 918, '1070': 37, 'kbm': 7366, 'mechanical': 8305, 'flickering': 5405, 'troublesome': 13493, 'redder': 10706, '4head': 546, 'trusty': 13512, 'sandpaper': 11367, 'mr_writer1985': 8710, 'fye': 5691, 'hoodie': 6509, 'brains': 2296, 'teel': 12962, 'offered': 9204, 'i7s': 6647, 'atrociously': 1634, 'a7siii': 849, 'comparation': 3110, 'intellij': 6979, 'jetbrains': 7233, 'rossetta': 11195, 'indexes': 6862, 'indexing': 6863, 'packages': 9505, 'punches': 10387, 'snake': 12093, 'baited': 1789, 'lawyer': 7613, 'baaaack': 1746, 'repetitious': 10874, 'rockstar': 11154, 'lifecycle': 7740, 'chärm': 2871, '666gb': 670, '295': 366, 'nitrogen': 8992, 'lp': 7955, 'miband3': 8408, 'blackest': 2102, 'blacked': 2100, 'vibrant': 13967, '92mb': 796, '36gb': 458, '78gb': 730, 'cosmonautical': 3412, 'expectation': 4985, 'marc': 8143, 'rodet': 11158, 'gen3': 5798, 'dimishing': 4134, 'roasted': 11136, 'buffers': 2423, 'postponed': 10028, 'wana': 14142, 'platformers': 9882, 'dedicate': 3859, 'lightoom': 7756, 'sliders': 12016, 'panoramas': 9553, 'stacked': 12390, 'trails': 13404, 'psds': 10342, 'goofy': 5985, 'hellblade2': 6368, 'ark2': 1507, 'everwild': 4892, 'avowed': 1703, 'crossfirex': 3561, 'dusk': 4508, 'scorn': 11475, 'psychonauts': 10361, 'warhammer': 14156, 'darktide': 3738, 'ascent': 1551, 'gunk': 6129, 'exo': 4975, 'mecha': 8303, 'sable': 11307, 'shredders': 11829, 'twelve': 13563, 'woods': 14448, 'unexplored': 13694, 'rpg': 11218, 'con': 3193, 'adios': 1019, 'artful': 1541, 'escape': 4843, 'tunic': 13538, 'obsidians': 9149, 'nonviolent': 9035, 'arkane': 1508, 'altimeter': 1254, 'miband4': 8409, 'miband5': 8410, 'desired': 3997, 'firstly': 5345, 'willingly': 14367, '28not': 358, 'dooo': 4339, 'kuzzz': 7504, 'lulzzz': 7989, 'hibbs': 6409, 'barren': 1848, 'lineups': 7783, 'justifying': 7335, 'adoption': 1040, 'customisable': 3634, 'dumbed': 4485, 'ono': 9279, 'sweden': 12786, 'wraith': 14509, 'spylamba': 12362, 'fricking': 5608, 'av': 1683, 'amplifier': 1296, 'french': 5597, 'refering': 10735, 'macg': 8031, 'si': 11850, 'rapide': 10562, 'que': 10458, 'loption': 7917, 'rarement': 10568, 'utile': 13857, '118017': 80, 'ahah': 1120, '1to': 228, 'reviwe': 11039, 'ninjastorm': 8983, 'adapted': 991, 'spied': 12297, '1ghz': 214, 'fiber': 5268, 'bomber': 2207, 'there': 13096, 'joycons': 7297, 'rank': 10555, 'rhinoceros': 11051, 'devkits': 4050, 'defending': 3879, 'brushed': 2398, 'outrage': 9411, 'sentiment': 11619, 'resentment': 10925, 'outraged': 9412, 'accont': 926, 'fuss': 5682, 'relate': 10792, 'defend': 3878, 'whatsoever': 14286, 'unwind': 13786, 'sth': 12477, 'knuckles': 7472, 'oq2': 9342, 'sly': 12044, 'crown': 3567, 'skynet': 11987, 'muzak': 8785, 'counters': 3438, 'hats': 6277, '38gb': 466, '108gb': 44, 'weps': 14267, 'weirder': 14256, 'x265': 14554, 'facehugger': 5081, 'invasion': 7045, 'privilege': 10192, 'diction': 4083, 'thejo1hn': 13078, '750ti': 721, 'ocula': 9182, 'fudge': 5640, 'flagships': 5373, 'km': 7450, 'technologically': 12955, 'rxzor': 11272, 'transferred': 13414, 'yuk': 14724, 'hawaii': 6284, '303': 401, 'exept': 4955, 'mmmmm': 8546, 'marry': 8170, 'reported': 10891, 'identically': 6673, 'wheeled': 14289, 'vehicle': 13923, 'crippledpancake': 3538, 'fired': 5335, 'rapidly': 10563, 'falsey': 5134, 'reccomend': 10659, 'fullsized': 5652, 'knife': 7455, 'drilling': 4429, 'hammering': 6203, 'sawing': 11417, 'gluing': 5931, 'fastening': 5175, 'omen': 9252, '10750h': 40, 'filmmaking': 5305, 'cyncro': 3673, 'sarova': 11384, 'guest': 6121, 'showcases': 11819, 'angelicco': 1330, 'dumm': 4488, 'macbookair': 8028, 'exicted': 4959, 'invite': 7061, 'rigor': 11092, 'mortis': 8668, 'expirience': 5007, 'unification': 13707, 'nebula': 8873, 'painter': 9528, 'wooof': 14451, 'disgusted': 4205, 'murderous': 8767, 'mayhem': 8246, 'steamlink': 12463, 'shield': 11740, 'interpretations': 7018, 'nans': 8835, 'joints': 7273, '16gigs': 177, '256g': 334, 'ummmmm': 13632, 'stiching': 12478, 'lrc': 7959, 'panoramastiching': 9554, 'controlled': 3329, 'beasts': 1912, 'kaby': 7342, 'broadwell': 2369, 'valorant': 13886, '4hr': 548, 'persin': 9742, 'comented': 3063, 'elitists': 4671, 'tout': 13363, 'riddled': 11073, 'plagued': 9859, 'rampant': 10543, 'dated': 3750, 'masterggm': 8193, 'r7': 10502, 'backport': 1767, 'searchable': 11528, 'deeper': 3866, 'tightened': 13229, 'lamps': 7554, 'caving': 2680, 'jens': 7224, 'holst': 6482, 'schumacher': 11463, 'zodiac': 14764, 'whea': 14287, 'gallore': 5717, 'fck': 5206, 'evolve': 4908, 'l3': 7517, 'sprinting': 12354, 'sprint': 12353, 'captures': 2601, 'carfilliot': 2623, 'tongue': 13316, 'simp': 11896, '9700k': 810, 'igpus': 6703, 'chiplets': 2831, 'disown': 4218, 'sandals': 11365, 'paralyzer': 9571, 'female': 5247, 'specifics': 12259, 'indies': 6872, 'mutiplats': 8783, '3300x': 433, 'bf1': 2029, 'leaps': 7643, 'bounds': 2267, 'distinctions': 4240, 'thegoncas2': 13076, 'daw': 3773, 'anth': 1373, 'habit': 6159, 'burying': 2476, 'xbox1': 14577, 'underperformed': 13672, 'smthg': 12087, 'gx531': 6146, 'swan': 12770, 'pants': 9557, 'humongous': 6597, 'ditched': 4253, 'fries': 5615, 'flammableear59': 5379, 'dummies': 4489, 'ijust': 6714, '93c': 799, 'whimps': 14306, '8565u': 750, '97c': 813, 'kicks': 7405, 'unnaceptable': 13740, 's10': 11289, 'elses': 4680, 'carnage': 2632, 'thul': 13194, '5700xt': 602, 'liftoff': 7748, 'turtle': 13554, 'toes': 13295, 'tycoon': 13576, 'acknowledging': 956, 'existant': 4962, 'flag': 5368, 'gooooooooo': 5993, 'lime': 7772, 'oke': 9235, 's6': 11296, 'ate': 1624, 'extinguisher': 5052, 'congratulation': 3239, 'sff': 11677, 'pollock': 9971, '1990': 207, 'spicy': 12290, 'shizz': 11774, 'basing': 1866, 'synthetic': 12831, 'widely': 14347, 'chainsaw': 2730, 'chase': 2767, 'woodshed': 14449, 'wildmonkeymc': 14364, 'mwc9elg2sfc': 8788, '8vs16': 782, '9gen': 824, 'suggested': 12670, 'ships': 11757, 'tug': 13534, 'dreik009': 4420, 'exceptions': 4935, 'yurns': 14730, 'stations': 12442, 'acrobat': 961, '1599': 157, '2mb': 382, 'gamingjokie': 5740, 'tooley': 13324, 'ignorance': 6696, 'multipiat': 8741, 'geometry': 5828, '5h': 618, 'xb': 14571, 'yts': 14721, 'dji': 4266, 'suprised': 12720, 'suprisingly': 12721, 'capitalize': 2589, 'renovation': 10859, '109gb': 47, 'also_': 1244, '_also_': 829, '9th': 828, 'knowns': 7469, 'retcon': 10988, 'nahh': 8806, 'subtract': 12643, 'goooo': 5991, 'folded': 5451, 'krudley': 7493, 'imovie': 6771, 'rdr2': 10603, 'ryan0630': 11275, 'promoting': 10270, 'zuckerburg': 14777, 'chug': 2868, 'stylus': 12613, 'yoga': 14690, 'zenbook': 14745, 'x13': 14550, 'lugging': 7982, 'filter': 5307, 'fllash': 5414, 'murch': 8763, 'deadpan': 3801, 'armadillo': 1513, 'reilly': 10781, 'cuddly': 3598, 'hourglasses': 6545, 'prefared': 10092, 'prefetch': 10102, 'disks': 4211, 'prefetched': 10103, 'speech': 12268, 'colton': 3047, 'conferences': 3217, 'explanations': 5015, 'adjusting': 1023, 'cou': 3426, 'kinteyou': 7436, 'euros': 4873, 'availibility': 1688, 'constricted': 3280, 'nividia': 8995, 'realizing': 10635, 'favour': 5197, 'boggles': 2192, 'intimacy': 7027, 'insta': 6952, '2050': 263, 'tick': 13216, 'underground': 13669, 'factoring': 5096, 'moi': 8585, 'thiss': 13142, 'waittttt': 14119, 'bravo': 2309, 'anuj': 1388, 'raut': 10583, 'safest': 11323, 'shane': 11697, 'mullikin': 8734, 'ynthrepic': 14687, 'carcinogens': 2606, 'carnivore': 2633, 'watchfaces': 14192, '971412699637510': 811, 'locale': 7854, 'en_us': 4731, 'tnx': 13285, 'relationships': 10797, 'females': 5248, 's9': 11299, 'proceed': 10206, 'glee': 5910, 'boneworks': 2211, 'shook': 11784, 'flop': 5421, 'soured': 12217, 'deniyeah': 3943, 'performant': 9718, 'confident': 3220, 'mid2021': 8434, 'looong': 7904, 'seamless': 11524, 'anyhow': 1395, 'findings': 5318, '6g': 693, 'a46yop': 838, 'iuag': 7153, 'preety': 10091, 'arthur': 1543, 'richter': 11066, 'xmoleen': 14611, 'xmo': 14610, 'responds': 10956, 'upside': 13821, 'sombrero': 12155, 'chefs': 2798, 'skenskwnsnksms': 11962, 'excitedddddd': 4939, 'moaning': 8549, 'thievish': 13123, 'favors': 5196, 'immature': 6758, 'ayan': 1733, 'reza': 11048, 'edigint': 4587, 'confidently': 3221, 'ping': 9824, 'uhhhhhh': 13609, 'ebefren': 4568, 'revo': 11040, 'bundling': 2456, 'environmental': 4810, 'expencive': 4990, 'kamkazee77': 7349, 'monetized': 8604, 'shady': 11686, 'specializes': 12252, 'horsepower': 6534, 'spur': 12356, 'vise': 14019, 'wiring': 14396, 'request': 10905, '10m': 56, 'outstanding': 9420, 'aquire': 1468, 'ahold': 1130, 'axidas': 1729, 'hurm': 6611, 'fanss': 5158, 'meanings': 8286, 'jerk': 7227, 'tm': 13280, 'doh': 4310, 'incomprehensible': 6836, 'kasigagua': 7361, 'gamemax': 5724, 'vibrators': 13974, 'joycen': 7296, 'goku': 5965, 'nonono': 9032, 'echoed': 4573, 'wafflefarts': 14106, 'ooof': 9292, 'microsofts': 8431, '16go': 178, 'architectural': 1483, 'protools': 10311, 'cubase': 3591, 'resembling': 10924, 'daws': 3776, 'masochist': 8184, 'preferably': 10095, 'aimed': 1139, 'basics': 1865, 'belated': 1966, 'boxy': 2278, 'yate': 14639, 'freeeedyyyyys': 5586, 'geeeet': 5785, 'iiiiiit': 6710, 'mclovin': 8270, 'sketching': 11963, '16th': 186, 'prefect': 10093, 'positioning': 10012, 'chills': 2824, 'sinister': 11929, 'diggin': 4115, 'sore': 12193, 'yesturday': 14676, 'rishi': 11112, 'awe': 1711, 'capping': 2591, 'thet': 13106, 'nand': 8826, 'hagrid': 6174, 'assisted': 1598, 'before': 1947, 'zuckerberg': 14776, 'founders': 5540, 'zuckerface': 14778, 'throu': 13178, 'z8': 14732, 'rougly': 11203, '5z': 636, 'unstealistic': 13768, 'sharpness': 11709, 'highs': 6427, 'thicc': 13116, 'jayztwocents': 7209, 'prepaid': 10117, 'noting': 9074, 'avoids': 1702, 'referenced': 10733, 'bandwidth': 1815, 'characteristics': 2754, 'amazes': 1268, 'catfish': 2669, 'multitasting': 8751, 'geni': 5814, 'pwubpum': 10428, '3zwsn': 488, 'tnoemoc': 13284, 'bbd2': 1896, 'claure': 2919, 'esco': 4845, 'whitfield': 14321, '3060ti': 404, '420euros': 508, '3nm': 480, '28nm': 357, 'optimizations': 9334, 'willard': 14365, 'carroll': 2639, 'jr': 7302, 'stimulating': 12492, 'internally': 7011, 'histochemically': 6444, 'forenenst': 5493, 'modem': 8567, 'margaret': 8146, 'shitstorm': 11766, 'considefing': 3258, 'tanem': 12882, 'positions': 10013, 'carpet': 2636, 'rational': 10581, 'customizes': 3646, 'stupidly': 12602, 'gobal': 5945, 'compensated': 3131, 'vetted': 13957, 'teached': 12928, 'prescott': 10121, 'curse': 3624, '200gb': 240, 'shlick': 11775, 'deemed': 3862, 'glowing': 5928, '96lincoln': 807, 'tc': 12922, 'hahha': 6185, 'thankk': 13052, 'youu': 14712, '28th': 360, 'tricks': 13465, 'octoslut': 9181, 'beinh': 1965, 'pkugged': 9850, 'ithers': 7143, '380': 463, 'redmibook': 10716, 'thatonezeldafan': 13064, 'paths': 9632, 'redemption': 10711, 'mattering': 8229, 'tecnology': 12960, 'imagibe': 6743, 'akgaming': 1160, 'scarface': 11445, 'garrett': 5755, 'specification': 12257, '8k120fps': 772, 'advocated': 1070, 'disatvantage': 4177, 'boohoo': 2218, 'aganist': 1100, 'tribe': 13458, 'sessions': 11654, 'unreleased': 13757, 'pubgm': 10364, 'competetion': 3137, 'exits': 4971, 'pla': 9851, 'rigidgamer56': 11091, 'fetch': 5257, 'applicaction': 1437, 'postman': 10027, 'calendar': 2529, 'compiler': 3148, 'secretly': 11546, 'necesary': 8875, 'bride': 2344, 'whisper': 14312, 'waving': 14206, 'hewlett': 6402, 'packard': 9507, 'predicted': 10089, 'factories': 5095, 'incidentally': 6823, 'markt': 8163, 'daytime': 3780, 'aroma': 1518, 'drifted': 4426, 'barbeque': 1831, 'eliminated': 4668, 'smokey': 12076, 'sausages': 11404, 'passmark': 9615, 'padlocked': 9514, 'jar': 7192, 'police': 9966, 'officer': 9210, 'breathe': 2323, 'helllp': 6369, 'cuffs': 3601, 'criminals': 3530, 'thefts': 13075, 'arse': 1536, 'pizza': 9849, 'slice': 12012, 'starve': 12430, 'visit': 14026, 'uncles': 13659, 'googie': 5986, 'amazy': 1273, 'garage': 5747, 'magnets': 8060, '1535': 152, 'rides': 11077, 'auntie': 1662, 'ubee': 13591, 'tears': 12940, 'announces': 1353, 'dicaprio': 4078, 'ox': 9487, 'steamvr': 12464, 'discounts': 4197, 'foreseeable': 5495, '8gbvs': 764, 'looses': 7912, 'gems': 5794, 'jusssst': 7328, 'prayers': 10079, 'singular': 11928, 'introductory': 7037, 'psssh': 10351, 'maketing': 8089, 'pinwheel': 9830, 'ivan': 7156, 'freely': 5590, 'ryaffix': 11273, 'graphite': 6049, 'copycat': 3378, 'talented': 12868, 'defo': 3889, '8b': 756, 'xavicat98': 14569, '42c': 510, 'behaviour': 1961, 'surfers': 12732, 'aculus': 983, 'lasers': 7575, '532nm': 584, 'sophie': 12191, 'randolph': 10548, 'ruing': 11240, 'volcano': 14059, 'trudging': 13502, 'curbstomp': 3613, 'scientist': 11467, 'cancelling': 2563, 'balck': 1796, 'pet': 9755, 'youuu': 14713, 'denied': 3942, 'customisations': 3636, 'garfield': 5752, 'belongs': 1983, 'brewing': 2336, 'safty': 11328, 'accomplish': 924, '152': 150, 'cellphone': 2697, 'tanker': 12886, 'poging': 9951, 'awesomeness': 1716, 'boosters': 2225, 'medicine': 8315, 'bleach': 2120, 'potus': 10037, 'oculusthanks': 9188, 'dogshit': 4307, 'mortgage': 8666, '980pro': 815, 'mbkhd': 8256, 'statistically': 12446, 'ichi': 6661, 'averaged': 1691, 'digger': 4114, 'nezunish': 8945, 'mathematician': 8216, 'spl': 12312, 'edison': 4589, 'italy': 7133, 'divisions': 4262, 'omega': 9250, 'labyrinth': 7528, 'toned': 13313, 'towels': 13366, 'nora': 9042, 'oujo': 9387, 'noraneko': 9043, 'uncensored': 13652, 'bikinis': 2053, 'nudity': 9097, 'snk': 12105, '40th': 503, 'bikini': 2052, 'armor': 1514, 'waayyyy': 14100, 'erase': 4830, 'degraded': 3893, 'reparable': 10867, 'itt': 7149, 'tryhard': 13517, 'mundane': 8760, 'yummy': 14725, 'postprandially': 10029, 'ferryboat': 5256, 'gasoline': 5758, 'sparrow': 12238, 'nevermind': 8930, 'manpage': 8126, 'readme': 10619, 'txt': 13574, 'redit': 10714, 'spiccolo': 12289, 'doubting': 4360, 'slovakia': 12029, 'homosexuality': 6496, 'vcmcl9dhny4': 13911, 'greenskull': 6069, 'forking': 5512, 'quid': 10477, 'mahin': 8065, 'mvme': 8786, 'installs': 6959, '6rkqzxabscg': 701, 'proton': 10310, 'paperwork': 9562, 'ky': 7506, 'clapping': 2907, 'hypocrite': 6634, 'whioe': 14309, 'stip': 12494, 'multidimensional': 8739, 'sequence': 11633, 'lamborghini': 7550, 'napolitano': 8837, 'disclose': 4188, 'rasset': 10572, 'gigaspuds': 5871, 'perceived': 9701, 'logarithmic': 7867, 'asserted': 1587, 'okk': 9236, 'props': 10295, 'framrate': 5562, 'outperform': 9405, 'influence': 6900, '1000th': 26, 'lessened': 7692, 'anticonsumer': 1383, '63rd': 655, 'shatter': 11712, 'pigly': 9811, 'wigly': 14357, 'amdcpu': 1279, 'flammable': 5378, 'tmrw': 13282, 'deniziscool': 3944, 'responsability': 10957, 'fluffs': 5431, 'yee': 14651, 'haw': 6283, '2fa': 373, 'unlinked': 13735, 'wishlist': 14405, 'promotes': 10269, 'nuf': 9098, 'yunho': 14726, 'thanming': 13056, 'outs': 9415, 'beter': 2013, 'aplogies': 1415, 'radiation': 10512, 'dolars': 4311, 'flaghship': 5369, 'linoos': 7789, 'teralio': 13006, 'tricia': 13461, 'freeland': 5589, 'killshot': 7422, 'wrinkles': 14521, 'bulldozer': 2442, 'flashback': 5382, 'mkhd': 8534, 'applauding': 1431, '68mm': 683, 'oversight': 9464, 'mrinal': 8714, 'murali': 8762, 'vertical': 13952, 'outperforming': 9407, '920': 795, '930': 798, 'marketed': 8157, 'miband6': 8411, 'band4': 1809, '276w': 351, '25w': 339, '293w': 365, 'lynx': 8005, 'neglecting': 8896, '1249': 100, 'masterc': 8191, 'oofing': 9288, 'contagious': 3296, 'shills': 11745, '660': 665, 'banana': 1805, 'wamted': 14140, 'skmething': 11981, 'alreadt': 1238, 'creeping': 3523, 'sasha': 11388, 'kalinin': 7347, 'additionnal': 1009, 'ooooh': 9297, 'trilled': 13473, 'slighty': 12021, 'sensore': 11614, 'similari': 11891, 'squeaky': 12371, 'venture': 13933, 'functionally': 5660, 'manipulatively': 8121, 'believing': 1978, 'psuedo': 10353, 'outsell': 9416, 'boomer': 2222, 'execs': 4952, 'believed': 1974, 'began': 1948, 'hoped': 6517, 'motivation': 8681, 'competitively': 3141, 'cannibalized': 2571, 'counterfeit': 3436, 'communism': 3098, 'cone': 3213, 'ridden': 11072, 'costumize': 3423, 'dulesence': 4481, 'arrogant': 1532, 'costumers': 3422, 'allocation': 1215, 'skew': 11965, '40fps': 499, 'dfference': 4058, 'mbo': 8257, 'iridocyclitis': 7091, 'graphichs': 6047, 'filler': 5300, 'sentiments': 11620, 'mexican': 8395, 'itachi': 7131, 'nex2005': 8941, 'semester': 11597, '70s': 708, 'karen': 7353, 'dave3d': 3758, 'ultrafine': 13626, 'acr': 960, 'a73': 842, '24mp': 325, 'outte': 9423, 'julian': 7315, 'arredondo': 1525, 'jumps': 7319, 'starvation': 12429, 'cake': 2521, 'deaf': 3804, '2years': 389, 'interrupt': 7021, 'scheduled': 11452, 'palestine': 9537, 'israel': 7121, 'crimes': 3528, 'letstalkpalestine': 7700, 'maps': 8139, 'curecoin': 3614, 'mohammed': 8583, 'haris': 6250, 'raid': 10521, '3000mb': 396, '1151': 74, 'specificallg': 12255, 'comparision': 3117, 'playroomand': 9900, '9999999999': 821, 'gppd': 6010, 'premature': 10107, 'exishibit': 4960, 'uae': 13590, 'quieter': 10479, 'sturdier': 12603, 'litterly': 7817, 'oculous': 9186, 'qwest': 10492, 'batterie': 1882, 'makeover': 8085, 'adress': 1043, 'bru': 2393, 'wooooo': 14454, 'wudarian': 14538, 'assassins': 1583, 'stomped': 12507, 'mesure': 8382, '160': 162, '170': 188, 'inpatient': 6932, '720p60': 715, 'gurl': 6133, 'emmy': 4706, 'movements': 8700, 'teleport': 12970, 'locations': 7858, 'muah': 8726, 'industri': 6880, 'franklingoodwin': 5573, 'stills': 12491, 'a7iii': 843, 'a7rii': 845, 'victims': 13976, 'sexual': 11674, 'snoopy': 12107, 'capsule': 2593, 'indian': 6865, 'misunderstandig': 8521, 'krogy': 7491, 'synth': 12830, 'riders': 11076, 'metro': 8393, 'portals': 9999, 'ubi': 13592, 'fcked': 5207, 'overlooking': 9453, 'macbookpro': 8029, 'compat': 3122, 'assistance': 1596, 'modest': 8570, 'transformed': 13417, 'unifying': 13711, 'hafiz': 6171, 'khalid': 7400, 'holyshhhh': 6484, '1993': 208, '486': 534, '66hz': 673, 'strike': 12569, 'ot': 9374, 'propositions': 10293, 'downhill': 4371, 'plusultra': 9935, 'multitude': 8754, 'lmfaoooo': 7839, 'verbal': 13938, 'inflections': 6899, 'storyteller': 12529, 'exploded': 5018, 'payday': 9652, 'biggie': 2047, 'interests': 7005, 'summarize': 12683, 'googletranslate': 5988, 'manipulated': 8119, 'retirement': 10993, 'giggling': 5873, 'earns': 4550, 'ludicrous': 7978, 'doenst': 4297, 'clumsy': 2976, 'arround': 1533, '4btc': 539, '8btc': 757, 'architecte': 1481, 'algorithmic': 1189, 'contestants': 3308, 'travelling': 13441, 'bargaining': 1839, 'haggle': 6173, 'auction': 1654, 'perm': 9732, 'antique': 1384, 'scones': 11470, 'reals': 10641, 'intensity': 6987, 'spanking': 12235, 'sip': 11935, 'bcouse': 1898, 'tq': 13375, 'bentley4': 2000, 'identicator': 6674, 'waranty': 14150, 'sandbox': 11366, 'pixie': 9848, 'bernese': 2004, 'dogthe': 4308, 'customizations': 3642, 'talons': 12878, 'runner': 11255, 'decibels': 3836, 'distancing': 4238, 'avi': 1695, 'vishwakarma': 14020, 'thiny': 13137, 'epitome': 4818, 'indispensible': 6873, 'washington': 14176, 'dc': 3789, 'symmetric': 12820, 'lopez': 7915, 'brazilian': 2311, 'eliminate': 4667, 'headaches': 6303, 'naysayers': 8863, 'smashes': 12061, 'ranoutofnameideas': 10557, '175': 190, 'captivate': 2596, 'acdsee': 940, 'simultaniously': 11915, 'babysitting': 1750, 'alerts': 1179, 'eitherways': 4646, 'encouraging': 4746, 'pandamic': 9542, 'cheating': 2779, 'calmly': 2538, 'collectively': 3030, 'court': 3450, 'qust1': 10491, 'oookkk': 9294, 'nicknames': 8964, 'quarantines': 10454, 'cent': 2707, 'uneasy': 13688, 'pinkish': 9826, 'concision': 3201, 'bills': 2059, 'fond': 5462, 'walker': 14125, 'shhh': 11738, 'suposed': 12704, 'walked': 14124, 'ceud': 2721, 'umer': 13630, 'salman': 11342, 'fuckup': 5639, 'alredy': 1240, 'digitalfoundry': 4119, 'averages': 1692, 'obbbbviously': 9129, 'bells': 1981, 'whistles': 14315, 'fart': 5169, 'contrasts': 3323, '1024': 34, 'vga': 13959, 'timers': 13248, 'embargoes': 4692, 'wristwatch': 14524, 'favo': 5192, 'retrace': 10996, 'coordinate': 3368, 'saul': 11403, 'noe': 9010, 'bee': 1938, 'insanity': 6938, 'ughhhhh': 13602, 'nms': 9001, 'welcomed': 14261, 'conected': 3214, 'siting': 11944, 'likey': 7766, 'wraped': 14512, 'conection': 3215, 'pins': 9829, 'msgs': 8723, 'assorted': 1602, 'rigid': 11090, 'crossbuy': 3559, 'qualify': 10448, 'compering': 3133, 'miller': 8461, 'socrates': 12129, 'teee': 12961, 'jist': 7250, 'searches': 11530, 'drove': 4450, 'blocking': 2149, 'mount': 8688, '6700k': 676, 'mathematica': 8215, 'unbearable': 13642, 'roundblackbear': 11205, 'realist': 10628, 'davecord': 3759, 'assrippers': 1603, 'assmdtards': 1599, 'circus': 2889, 'soda': 12131, 'flowing': 5427, 'commit': 3093, 'spiked': 12299, 'regulator': 10774, 'oomkiller': 9291, 'cursory': 3626, 'ht203930': 6567, 'yellowtooth': 14665, 'almond': 1227, 'onlyfans': 9277, 'luka': 7986, 'miband7': 8412, 'liar': 7724, 'drdaddy': 4413, 'vastly': 13909, '1499': 140, 'arkham': 1510, 'stressful': 12559, 'shuttershock': 11843, 'cloudrive': 2967, 'murdering': 8766, 'wyatt': 14547, 'guitars': 6126, 'insta360': 6953, 'bruhh': 2395, 'august': 1661, 'forster': 5526, 'male': 8096, 'sensitivity': 11612, 'hubbard': 6578, 'communities': 3099, 'nsikak': 9092, 'okon': 9237, 'paused': 9647, 'sends': 11605, 'lue64': 7980, 'portions': 10004, 'uplay': 13803, 'punched': 10386, 'sheeesh': 11719, 'avianivy07': 1696, 'optics': 9325, 'mastermhmd': 8195, '6nm': 700, 'toughness': 13360, 'bettter': 2020, 'genetic': 5813, 'shortcut': 11798, 'leverage': 7710, 'converted': 3344, 'planing': 9865, 'claiming': 2902, 'warrants': 14166, 'sonny': 12177, 'disney': 4216, 'mere': 8366, 'involved': 7065, '138mm': 124, '41mm': 505, 'grabs': 6020, '30000rs': 395, 'knoww': 7471, 'juicer': 7312, 'leica': 7675, 'cooperate': 3367, 'prossesers': 10300, 'bran': 2299, 'ism': 7114, 'cinemas': 2877, 'navigate': 8859, 'debugging': 3821, 'stiff': 12486, 'socs': 12130, 'seed': 11559, 'kyra': 7512, 'dolotallas': 4316, 'resellers': 10922, 'celebrate': 2689, '5hlth0l3': 619, 'ayyyyeeeee': 1740, 'symbols': 12819, 'blending': 2125, 'sorta': 12198, '3dfx': 474, 'rstudio': 11223, 'nature': 8854, 'plant': 9869, 'utter': 13865, 'pigeon': 9809, 'intriguingly': 7032, 'muddle': 8729, 'microcephaly': 8421, 'gleaming': 5909, 'mayonnaise': 8247, 'barber': 1832, 'reuse': 11009, 'vmw': 14051, 'vlab': 14043, 'football': 5476, 'informational': 6906, '2482': 323, 'thumb_down': 13196, 'lin': 7779, 'sam_govender': 11347, '9184life': 793, 'suleksh': 12681, 'velarambath': 13924, 'titans': 13268, '4heed': 547, 'howard': 6556, 'ariyan': 1504, 'debbarma': 3815, 'lita': 7810, 'zo': 14762, 'compatibilities': 3123, 'tech4all': 12945, 'your_average': 14704, 'naqeb': 8838, 'hasan': 6259, 'jhunly': 7238, 'cabaylo': 2511, 'anooj': 1362, 'francis': 5566, 'atomic': 1632, 'doggo': 4305, 'appl': 1430, 'abid': 875, 'ashhar': 1555, 'phase': 9766, 'anzano': 1404, 'icecoldkilax': 6657, 'arjun': 1505, 'unprofessional': 13751, 'gamero': 5731, 'garcía': 5750, 'surne': 12737, 'newt': 8940, 'preussenplays': 10145, 'tint': 13255, 'amanuel': 1263, 'debesaie': 3816, 'ajay': 1154, 'orlando': 9366, 'dolson': 4317, 'omygoodyneyt': 9263, 'mopro': 8639, 'agar': 1101, 'vladdx': 14044, 'mastering': 8194, 'adnan': 1034, 'sb': 11423, 'm4600': 8018, 'backlit': 1764, 'jiaju': 7240, 'chen': 2801, '345six': 439, 'eugene': 4867, 'elkin': 4672, 'awes0me': 1713, 'c00l_': 2508, 'warapong': 14151, 'ripp': 11105, 'steakface': 12458, 'contained': 3298, 'daveson': 3763, 'forger': 5500, 'aayush': 863, 'parwal': 9602, 'brightest': 2351, 'geek': 5786, 'abdulmumin': 873, 'danmallam': 3727, 'shouts': 11813, 'afar': 1076, 'souvik': 12221, 'ghosh': 5850, 'dpanch_89': 4388, 'val': 13881, 'ozimic': 9494, 'robert': 11139, 'kozak': 7481, 'mrcoolz': 8711, 'camille': 2548, 'davidhunternyc': 3766, 'ranjit': 10554, 'das': 3741, '1million': 219, 'tatical': 12911, 'droid': 4442, 'akhthar': 1161, 'rasool': 10569, 'earl': 4543, 'langcay': 7560, 'nikita': 8980, 'almakov': 1226, 'faheem': 5103, 'peculiar': 9680, 'dxomark': 4526, 'sartaj': 11386, 'singh': 11923, 'ipm': 7082, 'ashish': 1556, 'cenation': 2702, 'nest': 8918, 'ytgamingthemostwanted': 14720, 'lox': 7952, 'dhruv': 4065, 'meena': 8323, 'wisdom': 14397, 'vovical': 14071, 'faycal': 5203, 'zalgo': 14736, 's08e03': 11288, 'cuccia': 3595, 'catalyst': 2662, 'vendors': 13928, 'unify': 13710, 'levitation': 7714, 'phenomenon': 9770, 'reservation': 10926, 'gopro': 5994, 'meltdowns': 8339, 'barttoocool': 1852, 'slew': 12010, 'bolt': 2205, 'fracked': 5554, 'g7': 5697, 'desperation': 4003, 'retroarch': 11000, 'lovr': 7942, 'inclined': 6824, 'n0': 8795, 'jguvhbek': 7236, 'nitty': 8994, 'gritty': 6084, 'traditionally': 13399, 'nested': 8919, 'fald': 5124, 'treating': 13449, 'bsods': 2407, 'perk': 9730, 'downfall': 4368, 'partly': 9596, 'dispaly': 4219, '2200': 306, 'rushik': 11263, 'kundalia': 7498, 'jave': 7200, 'cosole': 3414, 'woooo': 14452, 'hooooo': 6514, 'justified': 7332, 'mlykke': 8541, 'separated': 11622, 'southern': 12220, 'ontario': 9281, 'colourblindness': 3044, 'frickin': 5607, 'krita': 7490, 'nyeah': 9120, 'accelerators': 905, 'discernible': 4184, 'shortcomings': 11797, 'nads': 8803, 'tengco': 12995, 'fanny': 5155, 'tarkov': 12900, 'loan': 7851, 'grabbed': 6017, 'poplix': 9984, 'hindrance': 6436, 'galore': 5718, 'saif': 11331, 'nadim': 8802, 'alienware': 1197, 'franco': 5568, 'teachers': 12930, 'whiteboard': 14319, 'teachings': 12932, 'fathom': 5183, 'lmfqo': 7840, 'convo': 3351, 'witg': 14413, 'yhats': 14679, 'expandability': 4979, 'anynore': 1397, 'nanometer': 8832, 'inter': 6993, 'desert': 3985, 'damian': 3703, 'yoss': 14696, 'althlon': 1251, 'collies': 3034, 'drawer': 4408, 'squat': 12367, 'istats': 7129, 'champion': 2737, 'livery': 7821, 'wastr': 14184, 'fare': 5164, 'rogers': 11164, '1400': 131, 'loool': 7903, 'generetion': 5809, 'spoke': 12323, 'furper': 5675, 'tandem': 12881, 'thunder': 13204, '97': 808, 'thermonuclear': 13102, 'skony': 11982, 'nearsighted': 8871, 'teslas': 13020, 'tesla': 13019, 'tiktok': 13234, 'restroom': 10975, 'feautere': 5223, 'omron': 9262, 'heartguide': 6332, 'theinflatable': 13077, 'adblocker': 998, 'junkie': 7325, 'ijs': 6713, 'jst': 7304, 'respray': 10963, 'omitted': 9259, 'concluded': 3202, 'foreigner': 5491, 'barking': 1843, 'lnow': 7843, 'uou': 13787, '1s': 224, 'embossing': 4698, 'remaining': 10824, 'doubters': 4359, 'discrete': 4199, '153tb': 153, 'cared': 2615, 'vizio': 14042, 'prince': 10174, 'jarwal': 7196, 'rider': 11075, 'pete': 9758, 'aaahhhhhhhhhh': 858, 'virtulization': 14017, 'benifit': 1997, 'intensve': 6989, 'indicates': 6867, 'availble': 1687, 'mcmrokamir': 8272, 'tops': 13337, 'itanium': 7134, 'murdered': 8764, 'practiced': 10066, 'vouch': 14070, 'unlucky': 13739, 'shortens': 11802, 'expectancy': 4984, 'dudefish': 4470, 'until': 13776, '09am': 15, 'broooo': 2379, '3m': 479, 'listenable': 7806, 'gi': 5854, 'purpouse': 10407, 'sectors': 11552, 'wondered': 14438, '246gb': 321, 'midget': 8437, 'stil': 12488, 'insight': 6944, 'caus': 2673, 'ehe': 4635, 'cnet': 2985, 'processer': 10214, 'fleshtodust': 5396, 'hldk4k1qkya': 6454, 'mastertrash': 8200, 'grandfather': 6036, 'absurd': 889, 'rawr': 10589, 'lanes': 7559, 'overheads': 9444, 'archetrctures': 1479, 'anand': 1310, '60gb': 647, 'x16': 14551, 'firestorm': 5339, 'fincal': 5314, '5mm': 624, 'gamerz': 5733, 'vik': 13998, 'homescreen': 6489}\n"
          ],
          "name": "stdout"
        }
      ]
    },
    {
      "cell_type": "code",
      "metadata": {
        "id": "xISlKux9crCa"
      },
      "source": [
        "vocab = vect.vocabulary_"
      ],
      "execution_count": 107,
      "outputs": []
    },
    {
      "cell_type": "code",
      "metadata": {
        "colab": {
          "base_uri": "https://localhost:8080/"
        },
        "id": "MX7eZ4kJcu-V",
        "outputId": "5f5d87c6-3a98-41fb-ecdd-49301e025694"
      },
      "source": [
        "from sklearn.linear_model import LogisticRegression\n",
        "lr = LogisticRegression()\n",
        "lr.fit(tf_train,y_train)"
      ],
      "execution_count": 97,
      "outputs": [
        {
          "output_type": "execute_result",
          "data": {
            "text/plain": [
              "LogisticRegression()"
            ]
          },
          "metadata": {
            "tags": []
          },
          "execution_count": 97
        }
      ]
    },
    {
      "cell_type": "markdown",
      "metadata": {
        "id": "M2xldhWZc4b2"
      },
      "source": [
        "accuracy"
      ]
    },
    {
      "cell_type": "code",
      "metadata": {
        "colab": {
          "base_uri": "https://localhost:8080/"
        },
        "id": "_Go6-mAuc1S3",
        "outputId": "a2554808-19f7-4899-9fe8-c05bd9781006"
      },
      "source": [
        "lr.score(tf_train,y_train)"
      ],
      "execution_count": 98,
      "outputs": [
        {
          "output_type": "execute_result",
          "data": {
            "text/plain": [
              "0.9578154700979675"
            ]
          },
          "metadata": {
            "tags": []
          },
          "execution_count": 98
        }
      ]
    },
    {
      "cell_type": "code",
      "metadata": {
        "colab": {
          "base_uri": "https://localhost:8080/"
        },
        "id": "goHkAjbbc8Wz",
        "outputId": "15fd867d-412b-4a75-dcbf-f18f7a6ddfe5"
      },
      "source": [
        "lr.score(tf_test,y_test)"
      ],
      "execution_count": 99,
      "outputs": [
        {
          "output_type": "execute_result",
          "data": {
            "text/plain": [
              "0.8918128654970761"
            ]
          },
          "metadata": {
            "tags": []
          },
          "execution_count": 99
        }
      ]
    },
    {
      "cell_type": "markdown",
      "metadata": {
        "id": "C5-7T7pRdGy5"
      },
      "source": [
        "making prediction"
      ]
    },
    {
      "cell_type": "code",
      "metadata": {
        "id": "Mui8p2_SdLLn"
      },
      "source": [
        "expected = y_test\n",
        "predicted = lr.predict(tf_test)"
      ],
      "execution_count": 100,
      "outputs": []
    },
    {
      "cell_type": "markdown",
      "metadata": {
        "id": "SeNAYyGudPsa"
      },
      "source": [
        "ploting confusion matrix"
      ]
    },
    {
      "cell_type": "code",
      "metadata": {
        "id": "jdNn3rgJdS-i"
      },
      "source": [
        "from mlxtend.plotting import plot_confusion_matrix\n",
        "import matplotlib.pyplot as plt\n",
        "import numpy as np"
      ],
      "execution_count": 101,
      "outputs": []
    },
    {
      "cell_type": "code",
      "metadata": {
        "colab": {
          "base_uri": "https://localhost:8080/"
        },
        "id": "909VMs9idV6U",
        "outputId": "8ab0b6bb-7017-45aa-9ac9-3cf480ad882b"
      },
      "source": [
        "pip install mlxtend"
      ],
      "execution_count": 102,
      "outputs": [
        {
          "output_type": "stream",
          "text": [
            "Requirement already satisfied: mlxtend in /usr/local/lib/python3.7/dist-packages (0.14.0)\n",
            "Requirement already satisfied: pandas>=0.17.1 in /usr/local/lib/python3.7/dist-packages (from mlxtend) (1.1.5)\n",
            "Requirement already satisfied: scipy>=0.17 in /usr/local/lib/python3.7/dist-packages (from mlxtend) (1.4.1)\n",
            "Requirement already satisfied: scikit-learn>=0.18 in /usr/local/lib/python3.7/dist-packages (from mlxtend) (0.24.2)\n",
            "Requirement already satisfied: matplotlib>=1.5.1 in /usr/local/lib/python3.7/dist-packages (from mlxtend) (3.2.2)\n",
            "Requirement already satisfied: setuptools in /usr/local/lib/python3.7/dist-packages (from mlxtend) (56.1.0)\n",
            "Requirement already satisfied: numpy>=1.10.4 in /usr/local/lib/python3.7/dist-packages (from mlxtend) (1.19.5)\n",
            "Requirement already satisfied: python-dateutil>=2.7.3 in /usr/local/lib/python3.7/dist-packages (from pandas>=0.17.1->mlxtend) (2.8.1)\n",
            "Requirement already satisfied: pytz>=2017.2 in /usr/local/lib/python3.7/dist-packages (from pandas>=0.17.1->mlxtend) (2018.9)\n",
            "Requirement already satisfied: joblib>=0.11 in /usr/local/lib/python3.7/dist-packages (from scikit-learn>=0.18->mlxtend) (1.0.1)\n",
            "Requirement already satisfied: threadpoolctl>=2.0.0 in /usr/local/lib/python3.7/dist-packages (from scikit-learn>=0.18->mlxtend) (2.1.0)\n",
            "Requirement already satisfied: cycler>=0.10 in /usr/local/lib/python3.7/dist-packages (from matplotlib>=1.5.1->mlxtend) (0.10.0)\n",
            "Requirement already satisfied: kiwisolver>=1.0.1 in /usr/local/lib/python3.7/dist-packages (from matplotlib>=1.5.1->mlxtend) (1.3.1)\n",
            "Requirement already satisfied: pyparsing!=2.0.4,!=2.1.2,!=2.1.6,>=2.0.1 in /usr/local/lib/python3.7/dist-packages (from matplotlib>=1.5.1->mlxtend) (2.4.7)\n",
            "Requirement already satisfied: six>=1.5 in /usr/local/lib/python3.7/dist-packages (from python-dateutil>=2.7.3->pandas>=0.17.1->mlxtend) (1.15.0)\n"
          ],
          "name": "stdout"
        }
      ]
    },
    {
      "cell_type": "code",
      "metadata": {
        "colab": {
          "base_uri": "https://localhost:8080/",
          "height": 313
        },
        "id": "fmlVy5o8dZpx",
        "outputId": "18718c07-856c-4f92-f7e5-2467cc5a7d49"
      },
      "source": [
        "cf = metrics.confusion_matrix(expected,predicted,labels = [1,-1])\n",
        "print(cf)\n",
        "## this command is only for google collab \n",
        "## in the below figure \" 1 is actually showing -1 and 0 is actually showing 1\"\n",
        "fig, ax = plot_confusion_matrix(conf_mat = cf)\n",
        "                                \n",
        "## It canbe used in any platform\n",
        "# fig, ax = plot_confusion_matrix(conf_mat = cf, class_names = [1,-1])\n",
        "plt.show()"
      ],
      "execution_count": 103,
      "outputs": [
        {
          "output_type": "stream",
          "text": [
            "[[1371  262]\n",
            " [ 108 1679]]\n"
          ],
          "name": "stdout"
        },
        {
          "output_type": "display_data",
          "data": {
            "image/png": "[encoded data removed]",
            "text/plain": [
              "<Figure size 432x288 with 1 Axes>"
            ]
          },
          "metadata": {
            "tags": [],
            "needs_background": "light"
          }
        }
      ]
    },
    {
      "cell_type": "code",
      "metadata": {
        "colab": {
          "base_uri": "https://localhost:8080/"
        },
        "id": "R0fg_ebCdyDw",
        "outputId": "a1e2d425-635d-489d-b79b-bebed3f419e5"
      },
      "source": [
        "from sklearn import metrics\n",
        "print(metrics.classification_report(expected, predicted))\n",
        "# print(metrics.confusion_matrix(expected,predicted))"
      ],
      "execution_count": 104,
      "outputs": [
        {
          "output_type": "stream",
          "text": [
            "              precision    recall  f1-score   support\n",
            "\n",
            "          -1       0.87      0.94      0.90      1787\n",
            "           1       0.93      0.84      0.88      1633\n",
            "\n",
            "    accuracy                           0.89      3420\n",
            "   macro avg       0.90      0.89      0.89      3420\n",
            "weighted avg       0.89      0.89      0.89      3420\n",
            "\n"
          ],
          "name": "stdout"
        }
      ]
    },
    {
      "cell_type": "code",
      "metadata": {
        "colab": {
          "base_uri": "https://localhost:8080/"
        },
        "id": "suwaMW_7d39m",
        "outputId": "3b0e3cd0-8bd4-4e05-a571-c07b84ad663a"
      },
      "source": [
        "from sklearn.metrics import f1_score\n",
        "f1_score(expected, predicted, average='macro')"
      ],
      "execution_count": 105,
      "outputs": [
        {
          "output_type": "execute_result",
          "data": {
            "text/plain": [
              "0.8909282357094783"
            ]
          },
          "metadata": {
            "tags": []
          },
          "execution_count": 105
        }
      ]
    }
  ]
}